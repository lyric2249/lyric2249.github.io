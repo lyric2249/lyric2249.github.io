{
 "cells": [
  {
   "cell_type": "code",
   "execution_count": 136,
   "id": "ed5b8fc6-5a2f-4d85-8343-90b4f31fbd76",
   "metadata": {},
   "outputs": [],
   "source": [
    "import numpy as np\n",
    "import pandas as pd\n",
    "from topic_cluster_visualizer import TopicClusterVisualizer, Plots"
   ]
  },
  {
   "cell_type": "code",
   "execution_count": 137,
   "id": "756098f4-788b-4467-9028-8e659d7d5536",
   "metadata": {},
   "outputs": [],
   "source": [
    "ntopic = 7"
   ]
  },
  {
   "cell_type": "code",
   "execution_count": 140,
   "id": "f0fb5b24-3569-4b29-a4f0-cc7e509b96e6",
   "metadata": {},
   "outputs": [
    {
     "data": {
      "text/plain": [
       "7.0476190476190474"
      ]
     },
     "execution_count": 140,
     "metadata": {},
     "output_type": "execute_result"
    }
   ],
   "source": [
    "curr.shape[0]/21"
   ]
  },
  {
   "cell_type": "code",
   "execution_count": 144,
   "id": "5d0cfbae-6758-47f4-a31d-0fd3f44bac10",
   "metadata": {},
   "outputs": [
    {
     "data": {
      "application/vnd.plotly.v1+json": {
       "config": {
        "plotlyServerURL": "https://plot.ly"
       },
       "data": [
        {
         "hovertemplate": "idx=1.0<br>coef1=%{x}<br>coef2=%{y}<extra></extra>",
         "legendgroup": "1.0",
         "marker": {
          "color": "#636efa",
          "symbol": "circle"
         },
         "mode": "markers",
         "name": "1.0",
         "orientation": "v",
         "showlegend": true,
         "type": "scatter",
         "visible": "legendonly",
         "x": [
          1.68901046757851,
          -4.8937746385113,
          5.17800237946836,
          -4.7599786025528,
          5.36310027506688,
          -4.86150434774128,
          -4.88987457529924,
          5.30656079743359,
          2.09881621992578,
          -4.51879911659146,
          5.0106873350031,
          4.54375675004495,
          4.91999906371964,
          4.90877115589537,
          -4.70499028338086,
          0.490159698910218,
          4.89802819383641,
          -4.67280763864771,
          0.574818034245692,
          4.86994909528327,
          3.63150009277994
         ],
         "xaxis": "x",
         "y": [
          -5.12731594395025,
          1.71426382245954,
          0.0305211802758705,
          2.79008943459588,
          0.209731624406948,
          2.24989953487418,
          2.14539808997281,
          -0.0176021159264365,
          0.598271742741218,
          2.38190272247436,
          0.531486153981804,
          1.25050767852736,
          0.32877976114738,
          0.372810904912424,
          2.34426889107756,
          0.211248959472936,
          0.0378802268332263,
          2.37398150265905,
          0.401127900254388,
          0.204856546092367,
          -0.0342707161906344
         ],
         "yaxis": "y"
        },
        {
         "hovertemplate": "idx=2.0<br>coef1=%{x}<br>coef2=%{y}<extra></extra>",
         "legendgroup": "2.0",
         "marker": {
          "color": "#EF553B",
          "symbol": "circle"
         },
         "mode": "markers",
         "name": "2.0",
         "orientation": "v",
         "showlegend": true,
         "type": "scatter",
         "visible": "legendonly",
         "x": [
          3.17078507651948,
          5.42859606151832,
          5.49212622684787,
          5.0830225939254,
          5.43104467564852,
          5.2489534181381,
          5.39136582882645,
          5.67153380882946,
          5.42445622966919,
          5.51927011326604,
          5.0676259223952,
          0.208616882319448,
          4.90680290283349,
          5.03883060879779,
          5.33291655484915,
          4.68155154807261,
          5.17244220349723,
          5.06128749286052,
          4.59287913153589,
          4.9624378916058,
          4.19503824761549
         ],
         "xaxis": "x",
         "y": [
          -4.32407019525977,
          0.481080428003,
          0.076329394327352,
          0.866365677379902,
          0.982844330729518,
          0.714409412510327,
          0.625061137791858,
          0.276502882755934,
          0.112604474763513,
          0.733945219530134,
          1.14961054296514,
          0.310286652543055,
          0.829301420775723,
          0.667087943289991,
          0.7103858759337,
          1.14433429846442,
          0.34154064881529,
          0.796077230045058,
          1.29339108499299,
          0.809693032504805,
          0.746608818813949
         ],
         "yaxis": "y"
        },
        {
         "hovertemplate": "idx=3.0<br>coef1=%{x}<br>coef2=%{y}<extra></extra>",
         "legendgroup": "3.0",
         "marker": {
          "color": "#00cc96",
          "symbol": "circle"
         },
         "mode": "markers",
         "name": "3.0",
         "orientation": "v",
         "showlegend": true,
         "type": "scatter",
         "visible": "legendonly",
         "x": [
          5.30899186311346,
          1.11991806942937,
          1.69824193233656,
          1.26342636272127,
          1.21417235872483,
          1.14868059743353,
          1.06812644149374,
          2.20322163530353,
          0.873686513556112,
          1.11552405886505,
          0.922570339404396,
          0.121431639289237,
          1.02796016879933,
          1.27854254208609,
          1.04162937198098,
          0.533576637381521,
          1.21022926393058,
          1.16837174664182,
          0.365334645254649,
          1.19696920663226,
          0.876477783826084
         ],
         "xaxis": "x",
         "y": [
          0.620828819984334,
          3.67706427097367,
          4.7893014888448,
          5.28977290751272,
          5.34105255563661,
          4.92592224856003,
          5.35625370023287,
          0.346873762705294,
          5.01363947625799,
          4.96157687123993,
          4.82103755994337,
          4.74155260571439,
          4.98054292622093,
          4.83788978813034,
          5.15771292808864,
          4.63932061596445,
          3.34858757342723,
          5.19693219249135,
          4.7209254312266,
          4.86225785313011,
          4.30502959530145
         ],
         "yaxis": "y"
        },
        {
         "hovertemplate": "idx=4.0<br>coef1=%{x}<br>coef2=%{y}<extra></extra>",
         "legendgroup": "4.0",
         "marker": {
          "color": "#ab63fa",
          "symbol": "circle"
         },
         "mode": "markers",
         "name": "4.0",
         "orientation": "v",
         "showlegend": true,
         "type": "scatter",
         "visible": "legendonly",
         "x": [
          1.09696497142697,
          5.13578872237174,
          5.36223913928155,
          5.59401381400043,
          5.58623562836237,
          5.58947408868094,
          5.6425977872191,
          -4.76982796720822,
          2.21182373095337,
          5.35649170581315,
          1.76736973312711,
          0.119645260089209,
          5.35475273256647,
          5.14619398307469,
          4.92311890643343,
          0.556481270758965,
          5.13449478406806,
          5.04254164711743,
          0.513125666920853,
          5.27561086949622,
          4.32904508618055
         ],
         "xaxis": "x",
         "y": [
          5.44622812475167,
          0.627962559323613,
          -0.0836880632258874,
          0.488283537716601,
          0.478218899321253,
          0.237152478650734,
          0.227872124856202,
          0.252353224331574,
          0.661493692495481,
          0.382800459068801,
          0.474800068364856,
          0.169786625921269,
          0.581934356724179,
          0.356902077616358,
          0.404943919140663,
          0.282409840484947,
          0.320320857503746,
          0.402034047234751,
          0.351350422613295,
          0.446840768640175,
          0.331408607076162
         ],
         "yaxis": "y"
        },
        {
         "hovertemplate": "idx=5.0<br>coef1=%{x}<br>coef2=%{y}<extra></extra>",
         "legendgroup": "5.0",
         "marker": {
          "color": "#FFA15A",
          "symbol": "circle"
         },
         "mode": "markers",
         "name": "5.0",
         "orientation": "v",
         "showlegend": true,
         "type": "scatter",
         "visible": "legendonly",
         "x": [
          -5.06221858362989,
          2.05924752758539,
          3.00278448408675,
          2.2540406435388,
          -0.410055793693214,
          2.26450399164358,
          2.38809907468445,
          -3.44666391379335,
          0.273702230815474,
          1.8210495469481,
          -0.637038080594922,
          -1.31079209066485,
          -0.548392677614165,
          -0.15959798029285,
          1.74741996895246,
          -0.673958277172663,
          0.0100978682439843,
          1.7324118414813,
          -0.553011425930024,
          -0.170058266841532,
          -0.0291886655855389
         ],
         "xaxis": "x",
         "y": [
          1.30000528158943,
          -2.66697229008217,
          -4.71062007103331,
          -4.67077443813593,
          -5.18626265327326,
          -4.70120610082231,
          -4.63271063975608,
          -0.196829339626278,
          -5.3676041843421,
          -4.8257756960965,
          -4.69684512925721,
          -4.23569127221307,
          -4.964564355747,
          -4.74880508557477,
          -4.79206262472249,
          -4.26173485698896,
          -3.07180221507262,
          -4.78006117166197,
          -4.33319873913871,
          -4.87155087651752,
          -4.63088607545552
         ],
         "yaxis": "y"
        },
        {
         "hovertemplate": "idx=6.0<br>coef1=%{x}<br>coef2=%{y}<extra></extra>",
         "legendgroup": "6.0",
         "marker": {
          "color": "#19d3f3",
          "symbol": "circle"
         },
         "mode": "markers",
         "name": "6.0",
         "orientation": "v",
         "showlegend": true,
         "type": "scatter",
         "visible": "legendonly",
         "x": [
          1.88931772118355,
          4.48198183669064,
          3.87396365700544,
          4.97280156645156,
          -4.50663337593322,
          4.76527968915637,
          4.57497508779742,
          -3.52475816973595,
          -1.81954894911817,
          3.6292890638352,
          -4.33807790127899,
          -4.10779849880981,
          -4.27683790298303,
          -4.01126276073502,
          4.12723408721986,
          -3.90651869369127,
          -3.70766917318736,
          4.43965459276185,
          -4.11626104342472,
          -4.0491680797624,
          -3.48436456017509
         ],
         "xaxis": "x",
         "y": [
          5.23200847547428,
          1.08586002507101,
          2.20309368193349,
          1.17510032876225,
          2.76043462264373,
          1.44834410469638,
          1.88499133384126,
          0.790289970624009,
          2.68671338170184,
          1.33659347014904,
          2.53569748193657,
          1.68971804341153,
          2.68851280742874,
          2.73651827346876,
          1.73292713125039,
          1.91899250529074,
          2.0488776420945,
          1.37566846312792,
          1.73414591024062,
          2.72217677940024,
          2.33237306249909
         ],
         "yaxis": "y"
        },
        {
         "hovertemplate": "idx=7.0<br>coef1=%{x}<br>coef2=%{y}<extra></extra>",
         "legendgroup": "7.0",
         "marker": {
          "color": "#FF6692",
          "symbol": "circle"
         },
         "mode": "markers",
         "name": "7.0",
         "orientation": "v",
         "showlegend": true,
         "type": "scatter",
         "visible": true,
         "x": [
          -4.77063995027913,
          -1.40070721609448,
          -1.34775368584957,
          -1.62823282407489,
          1.00033660835197,
          -1.39526278320656,
          -0.96701427829967,
          -1.24514119271999,
          0.126879852406229,
          -1.22025645811983,
          0.876702891580369,
          1.20691907513741,
          0.901260873772957,
          0.655015880503102,
          -1.00139109026522,
          0.929314716070027,
          0.810056112857255,
          -0.806240809914234,
          0.854237506324734,
          0.585171433043102,
          0.557194605524388
         ],
         "xaxis": "x",
         "y": [
          -1.53945057905208,
          -3.29792503527787,
          -4.52598091765231,
          -4.55341905878018,
          -5.03697150411739,
          -4.7068740589804,
          -4.78392012644923,
          -0.524879844563311,
          -5.00300523860731,
          -4.75324125098728,
          -4.74064907502901,
          -4.35292513099765,
          -4.74201870128574,
          -4.77685750547568,
          -4.71546447349986,
          -4.47664071304223,
          -2.84038906013004,
          -4.85393098944622,
          -4.32713148271218,
          -4.77777807219292,
          -4.37573673725661
         ],
         "yaxis": "y"
        }
       ],
       "layout": {
        "autosize": true,
        "legend": {
         "title": {
          "text": "idx"
         },
         "tracegroupgap": 0
        },
        "margin": {
         "t": 60
        },
        "template": {
         "data": {
          "bar": [
           {
            "error_x": {
             "color": "#2a3f5f"
            },
            "error_y": {
             "color": "#2a3f5f"
            },
            "marker": {
             "line": {
              "color": "#E5ECF6",
              "width": 0.5
             },
             "pattern": {
              "fillmode": "overlay",
              "size": 10,
              "solidity": 0.2
             }
            },
            "type": "bar"
           }
          ],
          "barpolar": [
           {
            "marker": {
             "line": {
              "color": "#E5ECF6",
              "width": 0.5
             },
             "pattern": {
              "fillmode": "overlay",
              "size": 10,
              "solidity": 0.2
             }
            },
            "type": "barpolar"
           }
          ],
          "carpet": [
           {
            "aaxis": {
             "endlinecolor": "#2a3f5f",
             "gridcolor": "white",
             "linecolor": "white",
             "minorgridcolor": "white",
             "startlinecolor": "#2a3f5f"
            },
            "baxis": {
             "endlinecolor": "#2a3f5f",
             "gridcolor": "white",
             "linecolor": "white",
             "minorgridcolor": "white",
             "startlinecolor": "#2a3f5f"
            },
            "type": "carpet"
           }
          ],
          "choropleth": [
           {
            "colorbar": {
             "outlinewidth": 0,
             "ticks": ""
            },
            "type": "choropleth"
           }
          ],
          "contour": [
           {
            "colorbar": {
             "outlinewidth": 0,
             "ticks": ""
            },
            "colorscale": [
             [
              0,
              "#0d0887"
             ],
             [
              0.1111111111111111,
              "#46039f"
             ],
             [
              0.2222222222222222,
              "#7201a8"
             ],
             [
              0.3333333333333333,
              "#9c179e"
             ],
             [
              0.4444444444444444,
              "#bd3786"
             ],
             [
              0.5555555555555556,
              "#d8576b"
             ],
             [
              0.6666666666666666,
              "#ed7953"
             ],
             [
              0.7777777777777778,
              "#fb9f3a"
             ],
             [
              0.8888888888888888,
              "#fdca26"
             ],
             [
              1,
              "#f0f921"
             ]
            ],
            "type": "contour"
           }
          ],
          "contourcarpet": [
           {
            "colorbar": {
             "outlinewidth": 0,
             "ticks": ""
            },
            "type": "contourcarpet"
           }
          ],
          "heatmap": [
           {
            "colorbar": {
             "outlinewidth": 0,
             "ticks": ""
            },
            "colorscale": [
             [
              0,
              "#0d0887"
             ],
             [
              0.1111111111111111,
              "#46039f"
             ],
             [
              0.2222222222222222,
              "#7201a8"
             ],
             [
              0.3333333333333333,
              "#9c179e"
             ],
             [
              0.4444444444444444,
              "#bd3786"
             ],
             [
              0.5555555555555556,
              "#d8576b"
             ],
             [
              0.6666666666666666,
              "#ed7953"
             ],
             [
              0.7777777777777778,
              "#fb9f3a"
             ],
             [
              0.8888888888888888,
              "#fdca26"
             ],
             [
              1,
              "#f0f921"
             ]
            ],
            "type": "heatmap"
           }
          ],
          "heatmapgl": [
           {
            "colorbar": {
             "outlinewidth": 0,
             "ticks": ""
            },
            "colorscale": [
             [
              0,
              "#0d0887"
             ],
             [
              0.1111111111111111,
              "#46039f"
             ],
             [
              0.2222222222222222,
              "#7201a8"
             ],
             [
              0.3333333333333333,
              "#9c179e"
             ],
             [
              0.4444444444444444,
              "#bd3786"
             ],
             [
              0.5555555555555556,
              "#d8576b"
             ],
             [
              0.6666666666666666,
              "#ed7953"
             ],
             [
              0.7777777777777778,
              "#fb9f3a"
             ],
             [
              0.8888888888888888,
              "#fdca26"
             ],
             [
              1,
              "#f0f921"
             ]
            ],
            "type": "heatmapgl"
           }
          ],
          "histogram": [
           {
            "marker": {
             "pattern": {
              "fillmode": "overlay",
              "size": 10,
              "solidity": 0.2
             }
            },
            "type": "histogram"
           }
          ],
          "histogram2d": [
           {
            "colorbar": {
             "outlinewidth": 0,
             "ticks": ""
            },
            "colorscale": [
             [
              0,
              "#0d0887"
             ],
             [
              0.1111111111111111,
              "#46039f"
             ],
             [
              0.2222222222222222,
              "#7201a8"
             ],
             [
              0.3333333333333333,
              "#9c179e"
             ],
             [
              0.4444444444444444,
              "#bd3786"
             ],
             [
              0.5555555555555556,
              "#d8576b"
             ],
             [
              0.6666666666666666,
              "#ed7953"
             ],
             [
              0.7777777777777778,
              "#fb9f3a"
             ],
             [
              0.8888888888888888,
              "#fdca26"
             ],
             [
              1,
              "#f0f921"
             ]
            ],
            "type": "histogram2d"
           }
          ],
          "histogram2dcontour": [
           {
            "colorbar": {
             "outlinewidth": 0,
             "ticks": ""
            },
            "colorscale": [
             [
              0,
              "#0d0887"
             ],
             [
              0.1111111111111111,
              "#46039f"
             ],
             [
              0.2222222222222222,
              "#7201a8"
             ],
             [
              0.3333333333333333,
              "#9c179e"
             ],
             [
              0.4444444444444444,
              "#bd3786"
             ],
             [
              0.5555555555555556,
              "#d8576b"
             ],
             [
              0.6666666666666666,
              "#ed7953"
             ],
             [
              0.7777777777777778,
              "#fb9f3a"
             ],
             [
              0.8888888888888888,
              "#fdca26"
             ],
             [
              1,
              "#f0f921"
             ]
            ],
            "type": "histogram2dcontour"
           }
          ],
          "mesh3d": [
           {
            "colorbar": {
             "outlinewidth": 0,
             "ticks": ""
            },
            "type": "mesh3d"
           }
          ],
          "parcoords": [
           {
            "line": {
             "colorbar": {
              "outlinewidth": 0,
              "ticks": ""
             }
            },
            "type": "parcoords"
           }
          ],
          "pie": [
           {
            "automargin": true,
            "type": "pie"
           }
          ],
          "scatter": [
           {
            "marker": {
             "colorbar": {
              "outlinewidth": 0,
              "ticks": ""
             }
            },
            "type": "scatter"
           }
          ],
          "scatter3d": [
           {
            "line": {
             "colorbar": {
              "outlinewidth": 0,
              "ticks": ""
             }
            },
            "marker": {
             "colorbar": {
              "outlinewidth": 0,
              "ticks": ""
             }
            },
            "type": "scatter3d"
           }
          ],
          "scattercarpet": [
           {
            "marker": {
             "colorbar": {
              "outlinewidth": 0,
              "ticks": ""
             }
            },
            "type": "scattercarpet"
           }
          ],
          "scattergeo": [
           {
            "marker": {
             "colorbar": {
              "outlinewidth": 0,
              "ticks": ""
             }
            },
            "type": "scattergeo"
           }
          ],
          "scattergl": [
           {
            "marker": {
             "colorbar": {
              "outlinewidth": 0,
              "ticks": ""
             }
            },
            "type": "scattergl"
           }
          ],
          "scattermapbox": [
           {
            "marker": {
             "colorbar": {
              "outlinewidth": 0,
              "ticks": ""
             }
            },
            "type": "scattermapbox"
           }
          ],
          "scatterpolar": [
           {
            "marker": {
             "colorbar": {
              "outlinewidth": 0,
              "ticks": ""
             }
            },
            "type": "scatterpolar"
           }
          ],
          "scatterpolargl": [
           {
            "marker": {
             "colorbar": {
              "outlinewidth": 0,
              "ticks": ""
             }
            },
            "type": "scatterpolargl"
           }
          ],
          "scatterternary": [
           {
            "marker": {
             "colorbar": {
              "outlinewidth": 0,
              "ticks": ""
             }
            },
            "type": "scatterternary"
           }
          ],
          "surface": [
           {
            "colorbar": {
             "outlinewidth": 0,
             "ticks": ""
            },
            "colorscale": [
             [
              0,
              "#0d0887"
             ],
             [
              0.1111111111111111,
              "#46039f"
             ],
             [
              0.2222222222222222,
              "#7201a8"
             ],
             [
              0.3333333333333333,
              "#9c179e"
             ],
             [
              0.4444444444444444,
              "#bd3786"
             ],
             [
              0.5555555555555556,
              "#d8576b"
             ],
             [
              0.6666666666666666,
              "#ed7953"
             ],
             [
              0.7777777777777778,
              "#fb9f3a"
             ],
             [
              0.8888888888888888,
              "#fdca26"
             ],
             [
              1,
              "#f0f921"
             ]
            ],
            "type": "surface"
           }
          ],
          "table": [
           {
            "cells": {
             "fill": {
              "color": "#EBF0F8"
             },
             "line": {
              "color": "white"
             }
            },
            "header": {
             "fill": {
              "color": "#C8D4E3"
             },
             "line": {
              "color": "white"
             }
            },
            "type": "table"
           }
          ]
         },
         "layout": {
          "annotationdefaults": {
           "arrowcolor": "#2a3f5f",
           "arrowhead": 0,
           "arrowwidth": 1
          },
          "autotypenumbers": "strict",
          "coloraxis": {
           "colorbar": {
            "outlinewidth": 0,
            "ticks": ""
           }
          },
          "colorscale": {
           "diverging": [
            [
             0,
             "#8e0152"
            ],
            [
             0.1,
             "#c51b7d"
            ],
            [
             0.2,
             "#de77ae"
            ],
            [
             0.3,
             "#f1b6da"
            ],
            [
             0.4,
             "#fde0ef"
            ],
            [
             0.5,
             "#f7f7f7"
            ],
            [
             0.6,
             "#e6f5d0"
            ],
            [
             0.7,
             "#b8e186"
            ],
            [
             0.8,
             "#7fbc41"
            ],
            [
             0.9,
             "#4d9221"
            ],
            [
             1,
             "#276419"
            ]
           ],
           "sequential": [
            [
             0,
             "#0d0887"
            ],
            [
             0.1111111111111111,
             "#46039f"
            ],
            [
             0.2222222222222222,
             "#7201a8"
            ],
            [
             0.3333333333333333,
             "#9c179e"
            ],
            [
             0.4444444444444444,
             "#bd3786"
            ],
            [
             0.5555555555555556,
             "#d8576b"
            ],
            [
             0.6666666666666666,
             "#ed7953"
            ],
            [
             0.7777777777777778,
             "#fb9f3a"
            ],
            [
             0.8888888888888888,
             "#fdca26"
            ],
            [
             1,
             "#f0f921"
            ]
           ],
           "sequentialminus": [
            [
             0,
             "#0d0887"
            ],
            [
             0.1111111111111111,
             "#46039f"
            ],
            [
             0.2222222222222222,
             "#7201a8"
            ],
            [
             0.3333333333333333,
             "#9c179e"
            ],
            [
             0.4444444444444444,
             "#bd3786"
            ],
            [
             0.5555555555555556,
             "#d8576b"
            ],
            [
             0.6666666666666666,
             "#ed7953"
            ],
            [
             0.7777777777777778,
             "#fb9f3a"
            ],
            [
             0.8888888888888888,
             "#fdca26"
            ],
            [
             1,
             "#f0f921"
            ]
           ]
          },
          "colorway": [
           "#636efa",
           "#EF553B",
           "#00cc96",
           "#ab63fa",
           "#FFA15A",
           "#19d3f3",
           "#FF6692",
           "#B6E880",
           "#FF97FF",
           "#FECB52"
          ],
          "font": {
           "color": "#2a3f5f"
          },
          "geo": {
           "bgcolor": "white",
           "lakecolor": "white",
           "landcolor": "#E5ECF6",
           "showlakes": true,
           "showland": true,
           "subunitcolor": "white"
          },
          "hoverlabel": {
           "align": "left"
          },
          "hovermode": "closest",
          "mapbox": {
           "style": "light"
          },
          "paper_bgcolor": "white",
          "plot_bgcolor": "#E5ECF6",
          "polar": {
           "angularaxis": {
            "gridcolor": "white",
            "linecolor": "white",
            "ticks": ""
           },
           "bgcolor": "#E5ECF6",
           "radialaxis": {
            "gridcolor": "white",
            "linecolor": "white",
            "ticks": ""
           }
          },
          "scene": {
           "xaxis": {
            "backgroundcolor": "#E5ECF6",
            "gridcolor": "white",
            "gridwidth": 2,
            "linecolor": "white",
            "showbackground": true,
            "ticks": "",
            "zerolinecolor": "white"
           },
           "yaxis": {
            "backgroundcolor": "#E5ECF6",
            "gridcolor": "white",
            "gridwidth": 2,
            "linecolor": "white",
            "showbackground": true,
            "ticks": "",
            "zerolinecolor": "white"
           },
           "zaxis": {
            "backgroundcolor": "#E5ECF6",
            "gridcolor": "white",
            "gridwidth": 2,
            "linecolor": "white",
            "showbackground": true,
            "ticks": "",
            "zerolinecolor": "white"
           }
          },
          "shapedefaults": {
           "line": {
            "color": "#2a3f5f"
           }
          },
          "ternary": {
           "aaxis": {
            "gridcolor": "white",
            "linecolor": "white",
            "ticks": ""
           },
           "baxis": {
            "gridcolor": "white",
            "linecolor": "white",
            "ticks": ""
           },
           "bgcolor": "#E5ECF6",
           "caxis": {
            "gridcolor": "white",
            "linecolor": "white",
            "ticks": ""
           }
          },
          "title": {
           "x": 0.05
          },
          "xaxis": {
           "automargin": true,
           "gridcolor": "white",
           "linecolor": "white",
           "ticks": "",
           "title": {
            "standoff": 15
           },
           "zerolinecolor": "white",
           "zerolinewidth": 2
          },
          "yaxis": {
           "automargin": true,
           "gridcolor": "white",
           "linecolor": "white",
           "ticks": "",
           "title": {
            "standoff": 15
           },
           "zerolinecolor": "white",
           "zerolinewidth": 2
          }
         }
        },
        "xaxis": {
         "anchor": "y",
         "autorange": false,
         "domain": [
          0,
          1
         ],
         "range": [
          -5.729158669913285,
          6.33847389511286
         ],
         "title": {
          "text": "coef1"
         },
         "type": "linear"
        },
        "yaxis": {
         "anchor": "x",
         "autorange": false,
         "domain": [
          0,
          1
         ],
         "range": [
          -6.204895662342799,
          6.28351960275237
         ],
         "title": {
          "text": "coef2"
         },
         "type": "linear"
        }
       }
      },
      "image/png": "[encoded data removed]",
      "text/html": [
       "<div>                            <div id=\"1cfc217e-c2a5-4c12-afdd-f2dc11ceac9f\" class=\"plotly-graph-div\" style=\"height:525px; width:100%;\"></div>            <script type=\"text/javascript\">                require([\"plotly\"], function(Plotly) {                    window.PLOTLYENV=window.PLOTLYENV || {};                                    if (document.getElementById(\"1cfc217e-c2a5-4c12-afdd-f2dc11ceac9f\")) {                    Plotly.newPlot(                        \"1cfc217e-c2a5-4c12-afdd-f2dc11ceac9f\",                        [{\"hovertemplate\":\"idx=1.0<br>coef1=%{x}<br>coef2=%{y}<extra></extra>\",\"legendgroup\":\"1.0\",\"marker\":{\"color\":\"#636efa\",\"symbol\":\"circle\"},\"mode\":\"markers\",\"name\":\"1.0\",\"orientation\":\"v\",\"showlegend\":true,\"x\":[1.68901046757851,-4.8937746385113,5.17800237946836,-4.7599786025528,5.36310027506688,-4.86150434774128,-4.88987457529924,5.30656079743359,2.09881621992578,-4.51879911659146,5.0106873350031,4.54375675004495,4.91999906371964,4.90877115589537,-4.70499028338086,0.490159698910218,4.89802819383641,-4.67280763864771,0.574818034245692,4.86994909528327,3.63150009277994],\"xaxis\":\"x\",\"y\":[-5.12731594395025,1.71426382245954,0.0305211802758705,2.79008943459588,0.209731624406948,2.24989953487418,2.14539808997281,-0.0176021159264365,0.598271742741218,2.38190272247436,0.531486153981804,1.25050767852736,0.32877976114738,0.372810904912424,2.34426889107756,0.211248959472936,0.0378802268332263,2.37398150265905,0.401127900254388,0.204856546092367,-0.0342707161906344],\"yaxis\":\"y\",\"type\":\"scatter\"},{\"hovertemplate\":\"idx=2.0<br>coef1=%{x}<br>coef2=%{y}<extra></extra>\",\"legendgroup\":\"2.0\",\"marker\":{\"color\":\"#EF553B\",\"symbol\":\"circle\"},\"mode\":\"markers\",\"name\":\"2.0\",\"orientation\":\"v\",\"showlegend\":true,\"x\":[3.17078507651948,5.42859606151832,5.49212622684787,5.0830225939254,5.43104467564852,5.2489534181381,5.39136582882645,5.67153380882946,5.42445622966919,5.51927011326604,5.0676259223952,0.208616882319448,4.90680290283349,5.03883060879779,5.33291655484915,4.68155154807261,5.17244220349723,5.06128749286052,4.59287913153589,4.9624378916058,4.19503824761549],\"xaxis\":\"x\",\"y\":[-4.32407019525977,0.481080428003,0.076329394327352,0.866365677379902,0.982844330729518,0.714409412510327,0.625061137791858,0.276502882755934,0.112604474763513,0.733945219530134,1.14961054296514,0.310286652543055,0.829301420775723,0.667087943289991,0.7103858759337,1.14433429846442,0.34154064881529,0.796077230045058,1.29339108499299,0.809693032504805,0.746608818813949],\"yaxis\":\"y\",\"type\":\"scatter\"},{\"hovertemplate\":\"idx=3.0<br>coef1=%{x}<br>coef2=%{y}<extra></extra>\",\"legendgroup\":\"3.0\",\"marker\":{\"color\":\"#00cc96\",\"symbol\":\"circle\"},\"mode\":\"markers\",\"name\":\"3.0\",\"orientation\":\"v\",\"showlegend\":true,\"x\":[5.30899186311346,1.11991806942937,1.69824193233656,1.26342636272127,1.21417235872483,1.14868059743353,1.06812644149374,2.20322163530353,0.873686513556112,1.11552405886505,0.922570339404396,0.121431639289237,1.02796016879933,1.27854254208609,1.04162937198098,0.533576637381521,1.21022926393058,1.16837174664182,0.365334645254649,1.19696920663226,0.876477783826084],\"xaxis\":\"x\",\"y\":[0.620828819984334,3.67706427097367,4.7893014888448,5.28977290751272,5.34105255563661,4.92592224856003,5.35625370023287,0.346873762705294,5.01363947625799,4.96157687123993,4.82103755994337,4.74155260571439,4.98054292622093,4.83788978813034,5.15771292808864,4.63932061596445,3.34858757342723,5.19693219249135,4.7209254312266,4.86225785313011,4.30502959530145],\"yaxis\":\"y\",\"type\":\"scatter\"},{\"hovertemplate\":\"idx=4.0<br>coef1=%{x}<br>coef2=%{y}<extra></extra>\",\"legendgroup\":\"4.0\",\"marker\":{\"color\":\"#ab63fa\",\"symbol\":\"circle\"},\"mode\":\"markers\",\"name\":\"4.0\",\"orientation\":\"v\",\"showlegend\":true,\"x\":[1.09696497142697,5.13578872237174,5.36223913928155,5.59401381400043,5.58623562836237,5.58947408868094,5.6425977872191,-4.76982796720822,2.21182373095337,5.35649170581315,1.76736973312711,0.119645260089209,5.35475273256647,5.14619398307469,4.92311890643343,0.556481270758965,5.13449478406806,5.04254164711743,0.513125666920853,5.27561086949622,4.32904508618055],\"xaxis\":\"x\",\"y\":[5.44622812475167,0.627962559323613,-0.0836880632258874,0.488283537716601,0.478218899321253,0.237152478650734,0.227872124856202,0.252353224331574,0.661493692495481,0.382800459068801,0.474800068364856,0.169786625921269,0.581934356724179,0.356902077616358,0.404943919140663,0.282409840484947,0.320320857503746,0.402034047234751,0.351350422613295,0.446840768640175,0.331408607076162],\"yaxis\":\"y\",\"type\":\"scatter\"},{\"hovertemplate\":\"idx=5.0<br>coef1=%{x}<br>coef2=%{y}<extra></extra>\",\"legendgroup\":\"5.0\",\"marker\":{\"color\":\"#FFA15A\",\"symbol\":\"circle\"},\"mode\":\"markers\",\"name\":\"5.0\",\"orientation\":\"v\",\"showlegend\":true,\"x\":[-5.06221858362989,2.05924752758539,3.00278448408675,2.2540406435388,-0.410055793693214,2.26450399164358,2.38809907468445,-3.44666391379335,0.273702230815474,1.8210495469481,-0.637038080594922,-1.31079209066485,-0.548392677614165,-0.15959798029285,1.74741996895246,-0.673958277172663,0.0100978682439843,1.7324118414813,-0.553011425930024,-0.170058266841532,-0.0291886655855389],\"xaxis\":\"x\",\"y\":[1.30000528158943,-2.66697229008217,-4.71062007103331,-4.67077443813593,-5.18626265327326,-4.70120610082231,-4.63271063975608,-0.196829339626278,-5.3676041843421,-4.8257756960965,-4.69684512925721,-4.23569127221307,-4.964564355747,-4.74880508557477,-4.79206262472249,-4.26173485698896,-3.07180221507262,-4.78006117166197,-4.33319873913871,-4.87155087651752,-4.63088607545552],\"yaxis\":\"y\",\"type\":\"scatter\"},{\"hovertemplate\":\"idx=6.0<br>coef1=%{x}<br>coef2=%{y}<extra></extra>\",\"legendgroup\":\"6.0\",\"marker\":{\"color\":\"#19d3f3\",\"symbol\":\"circle\"},\"mode\":\"markers\",\"name\":\"6.0\",\"orientation\":\"v\",\"showlegend\":true,\"x\":[1.88931772118355,4.48198183669064,3.87396365700544,4.97280156645156,-4.50663337593322,4.76527968915637,4.57497508779742,-3.52475816973595,-1.81954894911817,3.6292890638352,-4.33807790127899,-4.10779849880981,-4.27683790298303,-4.01126276073502,4.12723408721986,-3.90651869369127,-3.70766917318736,4.43965459276185,-4.11626104342472,-4.0491680797624,-3.48436456017509],\"xaxis\":\"x\",\"y\":[5.23200847547428,1.08586002507101,2.20309368193349,1.17510032876225,2.76043462264373,1.44834410469638,1.88499133384126,0.790289970624009,2.68671338170184,1.33659347014904,2.53569748193657,1.68971804341153,2.68851280742874,2.73651827346876,1.73292713125039,1.91899250529074,2.0488776420945,1.37566846312792,1.73414591024062,2.72217677940024,2.33237306249909],\"yaxis\":\"y\",\"type\":\"scatter\"},{\"hovertemplate\":\"idx=7.0<br>coef1=%{x}<br>coef2=%{y}<extra></extra>\",\"legendgroup\":\"7.0\",\"marker\":{\"color\":\"#FF6692\",\"symbol\":\"circle\"},\"mode\":\"markers\",\"name\":\"7.0\",\"orientation\":\"v\",\"showlegend\":true,\"x\":[-4.77063995027913,-1.40070721609448,-1.34775368584957,-1.62823282407489,1.00033660835197,-1.39526278320656,-0.96701427829967,-1.24514119271999,0.126879852406229,-1.22025645811983,0.876702891580369,1.20691907513741,0.901260873772957,0.655015880503102,-1.00139109026522,0.929314716070027,0.810056112857255,-0.806240809914234,0.854237506324734,0.585171433043102,0.557194605524388],\"xaxis\":\"x\",\"y\":[-1.53945057905208,-3.29792503527787,-4.52598091765231,-4.55341905878018,-5.03697150411739,-4.7068740589804,-4.78392012644923,-0.524879844563311,-5.00300523860731,-4.75324125098728,-4.74064907502901,-4.35292513099765,-4.74201870128574,-4.77685750547568,-4.71546447349986,-4.47664071304223,-2.84038906013004,-4.85393098944622,-4.32713148271218,-4.77777807219292,-4.37573673725661],\"yaxis\":\"y\",\"type\":\"scatter\"}],                        {\"template\":{\"data\":{\"bar\":[{\"error_x\":{\"color\":\"#2a3f5f\"},\"error_y\":{\"color\":\"#2a3f5f\"},\"marker\":{\"line\":{\"color\":\"#E5ECF6\",\"width\":0.5},\"pattern\":{\"fillmode\":\"overlay\",\"size\":10,\"solidity\":0.2}},\"type\":\"bar\"}],\"barpolar\":[{\"marker\":{\"line\":{\"color\":\"#E5ECF6\",\"width\":0.5},\"pattern\":{\"fillmode\":\"overlay\",\"size\":10,\"solidity\":0.2}},\"type\":\"barpolar\"}],\"carpet\":[{\"aaxis\":{\"endlinecolor\":\"#2a3f5f\",\"gridcolor\":\"white\",\"linecolor\":\"white\",\"minorgridcolor\":\"white\",\"startlinecolor\":\"#2a3f5f\"},\"baxis\":{\"endlinecolor\":\"#2a3f5f\",\"gridcolor\":\"white\",\"linecolor\":\"white\",\"minorgridcolor\":\"white\",\"startlinecolor\":\"#2a3f5f\"},\"type\":\"carpet\"}],\"choropleth\":[{\"colorbar\":{\"outlinewidth\":0,\"ticks\":\"\"},\"type\":\"choropleth\"}],\"contour\":[{\"colorbar\":{\"outlinewidth\":0,\"ticks\":\"\"},\"colorscale\":[[0.0,\"#0d0887\"],[0.1111111111111111,\"#46039f\"],[0.2222222222222222,\"#7201a8\"],[0.3333333333333333,\"#9c179e\"],[0.4444444444444444,\"#bd3786\"],[0.5555555555555556,\"#d8576b\"],[0.6666666666666666,\"#ed7953\"],[0.7777777777777778,\"#fb9f3a\"],[0.8888888888888888,\"#fdca26\"],[1.0,\"#f0f921\"]],\"type\":\"contour\"}],\"contourcarpet\":[{\"colorbar\":{\"outlinewidth\":0,\"ticks\":\"\"},\"type\":\"contourcarpet\"}],\"heatmap\":[{\"colorbar\":{\"outlinewidth\":0,\"ticks\":\"\"},\"colorscale\":[[0.0,\"#0d0887\"],[0.1111111111111111,\"#46039f\"],[0.2222222222222222,\"#7201a8\"],[0.3333333333333333,\"#9c179e\"],[0.4444444444444444,\"#bd3786\"],[0.5555555555555556,\"#d8576b\"],[0.6666666666666666,\"#ed7953\"],[0.7777777777777778,\"#fb9f3a\"],[0.8888888888888888,\"#fdca26\"],[1.0,\"#f0f921\"]],\"type\":\"heatmap\"}],\"heatmapgl\":[{\"colorbar\":{\"outlinewidth\":0,\"ticks\":\"\"},\"colorscale\":[[0.0,\"#0d0887\"],[0.1111111111111111,\"#46039f\"],[0.2222222222222222,\"#7201a8\"],[0.3333333333333333,\"#9c179e\"],[0.4444444444444444,\"#bd3786\"],[0.5555555555555556,\"#d8576b\"],[0.6666666666666666,\"#ed7953\"],[0.7777777777777778,\"#fb9f3a\"],[0.8888888888888888,\"#fdca26\"],[1.0,\"#f0f921\"]],\"type\":\"heatmapgl\"}],\"histogram\":[{\"marker\":{\"pattern\":{\"fillmode\":\"overlay\",\"size\":10,\"solidity\":0.2}},\"type\":\"histogram\"}],\"histogram2d\":[{\"colorbar\":{\"outlinewidth\":0,\"ticks\":\"\"},\"colorscale\":[[0.0,\"#0d0887\"],[0.1111111111111111,\"#46039f\"],[0.2222222222222222,\"#7201a8\"],[0.3333333333333333,\"#9c179e\"],[0.4444444444444444,\"#bd3786\"],[0.5555555555555556,\"#d8576b\"],[0.6666666666666666,\"#ed7953\"],[0.7777777777777778,\"#fb9f3a\"],[0.8888888888888888,\"#fdca26\"],[1.0,\"#f0f921\"]],\"type\":\"histogram2d\"}],\"histogram2dcontour\":[{\"colorbar\":{\"outlinewidth\":0,\"ticks\":\"\"},\"colorscale\":[[0.0,\"#0d0887\"],[0.1111111111111111,\"#46039f\"],[0.2222222222222222,\"#7201a8\"],[0.3333333333333333,\"#9c179e\"],[0.4444444444444444,\"#bd3786\"],[0.5555555555555556,\"#d8576b\"],[0.6666666666666666,\"#ed7953\"],[0.7777777777777778,\"#fb9f3a\"],[0.8888888888888888,\"#fdca26\"],[1.0,\"#f0f921\"]],\"type\":\"histogram2dcontour\"}],\"mesh3d\":[{\"colorbar\":{\"outlinewidth\":0,\"ticks\":\"\"},\"type\":\"mesh3d\"}],\"parcoords\":[{\"line\":{\"colorbar\":{\"outlinewidth\":0,\"ticks\":\"\"}},\"type\":\"parcoords\"}],\"pie\":[{\"automargin\":true,\"type\":\"pie\"}],\"scatter\":[{\"marker\":{\"colorbar\":{\"outlinewidth\":0,\"ticks\":\"\"}},\"type\":\"scatter\"}],\"scatter3d\":[{\"line\":{\"colorbar\":{\"outlinewidth\":0,\"ticks\":\"\"}},\"marker\":{\"colorbar\":{\"outlinewidth\":0,\"ticks\":\"\"}},\"type\":\"scatter3d\"}],\"scattercarpet\":[{\"marker\":{\"colorbar\":{\"outlinewidth\":0,\"ticks\":\"\"}},\"type\":\"scattercarpet\"}],\"scattergeo\":[{\"marker\":{\"colorbar\":{\"outlinewidth\":0,\"ticks\":\"\"}},\"type\":\"scattergeo\"}],\"scattergl\":[{\"marker\":{\"colorbar\":{\"outlinewidth\":0,\"ticks\":\"\"}},\"type\":\"scattergl\"}],\"scattermapbox\":[{\"marker\":{\"colorbar\":{\"outlinewidth\":0,\"ticks\":\"\"}},\"type\":\"scattermapbox\"}],\"scatterpolar\":[{\"marker\":{\"colorbar\":{\"outlinewidth\":0,\"ticks\":\"\"}},\"type\":\"scatterpolar\"}],\"scatterpolargl\":[{\"marker\":{\"colorbar\":{\"outlinewidth\":0,\"ticks\":\"\"}},\"type\":\"scatterpolargl\"}],\"scatterternary\":[{\"marker\":{\"colorbar\":{\"outlinewidth\":0,\"ticks\":\"\"}},\"type\":\"scatterternary\"}],\"surface\":[{\"colorbar\":{\"outlinewidth\":0,\"ticks\":\"\"},\"colorscale\":[[0.0,\"#0d0887\"],[0.1111111111111111,\"#46039f\"],[0.2222222222222222,\"#7201a8\"],[0.3333333333333333,\"#9c179e\"],[0.4444444444444444,\"#bd3786\"],[0.5555555555555556,\"#d8576b\"],[0.6666666666666666,\"#ed7953\"],[0.7777777777777778,\"#fb9f3a\"],[0.8888888888888888,\"#fdca26\"],[1.0,\"#f0f921\"]],\"type\":\"surface\"}],\"table\":[{\"cells\":{\"fill\":{\"color\":\"#EBF0F8\"},\"line\":{\"color\":\"white\"}},\"header\":{\"fill\":{\"color\":\"#C8D4E3\"},\"line\":{\"color\":\"white\"}},\"type\":\"table\"}]},\"layout\":{\"annotationdefaults\":{\"arrowcolor\":\"#2a3f5f\",\"arrowhead\":0,\"arrowwidth\":1},\"autotypenumbers\":\"strict\",\"coloraxis\":{\"colorbar\":{\"outlinewidth\":0,\"ticks\":\"\"}},\"colorscale\":{\"diverging\":[[0,\"#8e0152\"],[0.1,\"#c51b7d\"],[0.2,\"#de77ae\"],[0.3,\"#f1b6da\"],[0.4,\"#fde0ef\"],[0.5,\"#f7f7f7\"],[0.6,\"#e6f5d0\"],[0.7,\"#b8e186\"],[0.8,\"#7fbc41\"],[0.9,\"#4d9221\"],[1,\"#276419\"]],\"sequential\":[[0.0,\"#0d0887\"],[0.1111111111111111,\"#46039f\"],[0.2222222222222222,\"#7201a8\"],[0.3333333333333333,\"#9c179e\"],[0.4444444444444444,\"#bd3786\"],[0.5555555555555556,\"#d8576b\"],[0.6666666666666666,\"#ed7953\"],[0.7777777777777778,\"#fb9f3a\"],[0.8888888888888888,\"#fdca26\"],[1.0,\"#f0f921\"]],\"sequentialminus\":[[0.0,\"#0d0887\"],[0.1111111111111111,\"#46039f\"],[0.2222222222222222,\"#7201a8\"],[0.3333333333333333,\"#9c179e\"],[0.4444444444444444,\"#bd3786\"],[0.5555555555555556,\"#d8576b\"],[0.6666666666666666,\"#ed7953\"],[0.7777777777777778,\"#fb9f3a\"],[0.8888888888888888,\"#fdca26\"],[1.0,\"#f0f921\"]]},\"colorway\":[\"#636efa\",\"#EF553B\",\"#00cc96\",\"#ab63fa\",\"#FFA15A\",\"#19d3f3\",\"#FF6692\",\"#B6E880\",\"#FF97FF\",\"#FECB52\"],\"font\":{\"color\":\"#2a3f5f\"},\"geo\":{\"bgcolor\":\"white\",\"lakecolor\":\"white\",\"landcolor\":\"#E5ECF6\",\"showlakes\":true,\"showland\":true,\"subunitcolor\":\"white\"},\"hoverlabel\":{\"align\":\"left\"},\"hovermode\":\"closest\",\"mapbox\":{\"style\":\"light\"},\"paper_bgcolor\":\"white\",\"plot_bgcolor\":\"#E5ECF6\",\"polar\":{\"angularaxis\":{\"gridcolor\":\"white\",\"linecolor\":\"white\",\"ticks\":\"\"},\"bgcolor\":\"#E5ECF6\",\"radialaxis\":{\"gridcolor\":\"white\",\"linecolor\":\"white\",\"ticks\":\"\"}},\"scene\":{\"xaxis\":{\"backgroundcolor\":\"#E5ECF6\",\"gridcolor\":\"white\",\"gridwidth\":2,\"linecolor\":\"white\",\"showbackground\":true,\"ticks\":\"\",\"zerolinecolor\":\"white\"},\"yaxis\":{\"backgroundcolor\":\"#E5ECF6\",\"gridcolor\":\"white\",\"gridwidth\":2,\"linecolor\":\"white\",\"showbackground\":true,\"ticks\":\"\",\"zerolinecolor\":\"white\"},\"zaxis\":{\"backgroundcolor\":\"#E5ECF6\",\"gridcolor\":\"white\",\"gridwidth\":2,\"linecolor\":\"white\",\"showbackground\":true,\"ticks\":\"\",\"zerolinecolor\":\"white\"}},\"shapedefaults\":{\"line\":{\"color\":\"#2a3f5f\"}},\"ternary\":{\"aaxis\":{\"gridcolor\":\"white\",\"linecolor\":\"white\",\"ticks\":\"\"},\"baxis\":{\"gridcolor\":\"white\",\"linecolor\":\"white\",\"ticks\":\"\"},\"bgcolor\":\"#E5ECF6\",\"caxis\":{\"gridcolor\":\"white\",\"linecolor\":\"white\",\"ticks\":\"\"}},\"title\":{\"x\":0.05},\"xaxis\":{\"automargin\":true,\"gridcolor\":\"white\",\"linecolor\":\"white\",\"ticks\":\"\",\"title\":{\"standoff\":15},\"zerolinecolor\":\"white\",\"zerolinewidth\":2},\"yaxis\":{\"automargin\":true,\"gridcolor\":\"white\",\"linecolor\":\"white\",\"ticks\":\"\",\"title\":{\"standoff\":15},\"zerolinecolor\":\"white\",\"zerolinewidth\":2}}},\"xaxis\":{\"anchor\":\"y\",\"domain\":[0.0,1.0],\"title\":{\"text\":\"coef1\"}},\"yaxis\":{\"anchor\":\"x\",\"domain\":[0.0,1.0],\"title\":{\"text\":\"coef2\"}},\"legend\":{\"title\":{\"text\":\"idx\"},\"tracegroupgap\":0},\"margin\":{\"t\":60}},                        {\"responsive\": true}                    ).then(function(){\n",
       "                            \n",
       "var gd = document.getElementById('1cfc217e-c2a5-4c12-afdd-f2dc11ceac9f');\n",
       "var x = new MutationObserver(function (mutations, observer) {{\n",
       "        var display = window.getComputedStyle(gd).display;\n",
       "        if (!display || display === 'none') {{\n",
       "            console.log([gd, 'removed!']);\n",
       "            Plotly.purge(gd);\n",
       "            observer.disconnect();\n",
       "        }}\n",
       "}});\n",
       "\n",
       "// Listen for the removal of the full notebook cells\n",
       "var notebookContainer = gd.closest('#notebook-container');\n",
       "if (notebookContainer) {{\n",
       "    x.observe(notebookContainer, {childList: true});\n",
       "}}\n",
       "\n",
       "// Listen for the clearing of the current output cell\n",
       "var outputEl = gd.closest('.output');\n",
       "if (outputEl) {{\n",
       "    x.observe(outputEl, {childList: true});\n",
       "}}\n",
       "\n",
       "                        })                };                });            </script>        </div>"
      ]
     },
     "metadata": {},
     "output_type": "display_data"
    }
   ],
   "source": [
    "#for ntopic in range(5, 21):\n",
    "\n",
    "curr = np.array(pd.read_csv(\"coef\"+str(ntopic) + \".csv\"))\n",
    "\n",
    "temp = []\n",
    "\n",
    "for i in range(21):\n",
    "    temp.append(curr[curr.shape[0]//21*i:curr.shape[0]//21*(i+1),:])\n",
    "\n",
    "proc2_oblim_array = np.array(temp)\n",
    "\n",
    "########################################################################################\n",
    "\n",
    "for idx, arr in enumerate(list(zip(*proc2_oblim_array))):\n",
    "    arr = np.hstack((np.array([[idx+1]*21]).transpose(), arr))\n",
    "    if idx == 0:\n",
    "        temparray = arr[:]\n",
    "    else:\n",
    "        temparray = np.vstack([temparray, arr])\n",
    "\n",
    "# temparray\n",
    "\n",
    "########################################################################################\n",
    "\n",
    "temp_df = pd.DataFrame(temparray, columns=[\"idx\", \"coef1\", \"coef2\"])\n",
    "temp_df = temp_df.astype({\"idx\":\"str\"})\n",
    "\n",
    "temp_df\n",
    "\n",
    "import plotly.express as px\n",
    "fig = px.scatter(temp_df, x=\"coef1\", y=\"coef2\", color=\"idx\")\n",
    "fig.show()"
   ]
  },
  {
   "cell_type": "code",
   "execution_count": null,
   "id": "9dfb92a9-e437-4da2-a43f-454e973243f4",
   "metadata": {},
   "outputs": [],
   "source": []
  },
  {
   "cell_type": "code",
   "execution_count": null,
   "id": "a20bf086-8728-471f-84ee-b3f01993d5cd",
   "metadata": {},
   "outputs": [],
   "source": []
  },
  {
   "cell_type": "code",
   "execution_count": null,
   "id": "bb449ce0-08a6-4ad0-a31a-2f828f64f8ca",
   "metadata": {},
   "outputs": [],
   "source": []
  },
  {
   "cell_type": "code",
   "execution_count": null,
   "id": "bba39957-4833-4b8b-917d-31a9e855326d",
   "metadata": {},
   "outputs": [],
   "source": []
  },
  {
   "cell_type": "code",
   "execution_count": null,
   "id": "79dce6d5-5fad-4770-8ebd-9070fa0e4652",
   "metadata": {},
   "outputs": [],
   "source": []
  },
  {
   "cell_type": "code",
   "execution_count": null,
   "id": "024c1c87-49a0-42ab-82b7-1e1236128159",
   "metadata": {},
   "outputs": [],
   "source": []
  },
  {
   "cell_type": "code",
   "execution_count": 25,
   "id": "b733e802-4224-4574-8522-db254c0390b5",
   "metadata": {},
   "outputs": [
    {
     "data": {
      "text/plain": [
       "array([[-4.97693501,  0.7044329 ],\n",
       "       [-2.40019633,  4.85554789],\n",
       "       [ 4.80541721, -0.37731934],\n",
       "       [ 3.8791348 ,  3.49752209],\n",
       "       [-0.92461927, -5.10678027]])"
      ]
     },
     "execution_count": 25,
     "metadata": {},
     "output_type": "execute_result"
    }
   ],
   "source": [
    "proc2_oblim_array[0]"
   ]
  },
  {
   "cell_type": "code",
   "execution_count": 17,
   "id": "b572ba65-3646-4da1-8b70-eccfc588e8e5",
   "metadata": {},
   "outputs": [],
   "source": [
    "temp = np.array(pd.read_csv(\"coef5.csv\").iloc[:,1:3])\n",
    "templist = []\n",
    "\n",
    "for i in range(40000//20): \n",
    "    templist.append(temp[20*i:20*(i+1),:])"
   ]
  },
  {
   "cell_type": "code",
   "execution_count": 18,
   "id": "e4fb2ba2-ec4b-4b7b-adaf-380fd78fa286",
   "metadata": {},
   "outputs": [
    {
     "data": {
      "text/plain": [
       "2000"
      ]
     },
     "execution_count": 18,
     "metadata": {},
     "output_type": "execute_result"
    }
   ],
   "source": [
    "len(templist)"
   ]
  },
  {
   "cell_type": "code",
   "execution_count": 5,
   "id": "402ab72b-e2e1-4805-9588-e9290e5f2995",
   "metadata": {},
   "outputs": [],
   "source": [
    "\n",
    "ndim2 = 2\n",
    "niter2 = 10000\n",
    "nburn2 = 0\n",
    "nthin2 = 5\n",
    "nprint2 = 1000 #0\n",
    "\n",
    "jump_beta2 = 0.3 #0.28\n",
    "jump_theta2 = 1.0\n",
    "jump_gamma2 = 0.01\n",
    "jump_z2 = 0.5 #0.06\n",
    "jump_w2 = 0.06\n",
    "pr_mean_beta2 = 0\n",
    "pr_sd_beta2 = 1\n",
    "pr_a_th_sigma2 = 0.001\n",
    "pr_b_th_sigma2 = 0.001\n",
    "pr_mean_theta2 = 0\n",
    "pr_a_sigma2 = 0.001\n",
    "pr_b_sigma2 = 0.001\n",
    "pr_mean_gamma2 = 0 #1.0\n",
    "pr_sd_gamma2 = 1.0\n",
    "\n",
    "missing2 = 99"
   ]
  },
  {
   "cell_type": "code",
   "execution_count": 31,
   "id": "09a4fb62-db8a-4e54-9a5d-9013968067d7",
   "metadata": {},
   "outputs": [
    {
     "name": "stderr",
     "output_type": "stream",
     "text": [
      "[nltk_data] Downloading package punkt to\n",
      "[nltk_data]     C:\\Users\\Song1\\AppData\\Roaming\\nltk_data...\n",
      "[nltk_data]   Package punkt is already up-to-date!\n",
      "[nltk_data] Downloading package averaged_perceptron_tagger to\n",
      "[nltk_data]     C:\\Users\\Song1\\AppData\\Roaming\\nltk_data...\n",
      "[nltk_data]   Package averaged_perceptron_tagger is already up-to-\n",
      "[nltk_data]       date!\n"
     ]
    }
   ],
   "source": [
    "from math import *\n",
    "\n",
    "import re\n",
    "import time\n",
    "import itertools\n",
    "\n",
    "import numpy as np\n",
    "import pandas as pd\n",
    "\n",
    "import nltk\n",
    "from nltk.stem import PorterStemmer\n",
    "#from nltk.corpus import stopwords\n",
    "\n",
    "from gensim.models import Word2Vec, KeyedVectors\n",
    "from collections import Counter\n",
    "\n",
    "from tqdm.auto import tqdm, trange\n",
    "\n",
    "from factor_analyzer import Rotator\n",
    "\n",
    "from functionc import onepl_lsrm_cont_missing\n",
    "\n",
    "import nltk\n",
    "\n",
    "nltk.download('punkt')\n",
    "nltk.download('averaged_perceptron_tagger')\n",
    "\n",
    "class TopicClusterVisualizer:\n",
    "    def __init__(self, target_data):\n",
    "        self.filter_terms = {'p.001', 'find', 'z9.738', 'n102', 'p0.0001', 'p.05', 'p0.03', 'n1427', 'sd', 'coronaviru', 'case',\n",
    "                             'number', 'studi', 'date', 'result', 'hope', 'refer', 'major', 'b', 'n', 'besid', 'ie', 'l.', 'fact',\n",
    "                             'e.g.', 'h', 'p', 'half', 'virus', 'viru', 'disease', 'coronavirus', 'data', 'rate', 'factor',\n",
    "                             'method', 'test', 'model', 'analysis', 'health', 'death', 'measure'}\n",
    "        \n",
    "        self.corpus = None\n",
    "        \n",
    "        self.target_data = target_data\n",
    "        \n",
    "        self.vector_size = 256\n",
    "        self.window = 3\n",
    "        self.min_count = 1\n",
    "        self.worker = 4\n",
    "        self.sg = 1\n",
    "        self.negative = 20\n",
    "\n",
    "        self.epochs = 1\n",
    "\n",
    "        self.near_term_topn_val = 10\n",
    "        \n",
    "\n",
    "    \n",
    "    ##### 4.\n",
    "   \n",
    "    def _procrustes_mine(self, X, X_star):\n",
    "        \n",
    "        n, m = X.shape\n",
    "        J = np.identity(n)\n",
    "        C = X_star.transpose() @ J @ X\n",
    "\n",
    "        u,d,v = np.linalg.svd(C) #원본에선 그대로 배출됐음. u는 그대로 배출. v는 transpose해줘야함.\n",
    "\n",
    "        R = v.transpose() @ u.transpose()\n",
    "    \n",
    "        tt = np.zeros((m, 1))\n",
    "\n",
    "        X_new = X @ R + np.zeros((n,m),int)\n",
    "    \n",
    "        return X_new\n",
    "    \n",
    "    \n",
    "    def _proc2_oblim(self, niter, nburn, nthin, ndim, outputs, mapper, zter):\n",
    "        \n",
    "        #output_proc = []\n",
    "        meanz_proc_list = []\n",
    "        \n",
    "        for ioutput, output in enumerate(outputs):\n",
    "            \n",
    "            #phiwz = output[\"phiwz\"]\n",
    "            phiwz = outputs\n",
    "            nword, ntopic = phiwz.shape\n",
    "            nmcmc = int((niter - nburn) / nthin) \n",
    "        \n",
    "            max_address = np.argmax(mapper)\n",
    "            \n",
    "            # w_star = output['w'][max_address, :, :]\n",
    "            z_star = zter[max_address, :, :] #matrix become basis for procrustes\n",
    "            \n",
    "            # w_proc = np.zeros((nmcmc, nword, ndim), )\n",
    "            z_proc = np.zeros((nmcmc, ntopic, ndim), )\n",
    "            \n",
    "            for iter in range(nmcmc):\n",
    "\n",
    "                z_iter = zter[iter, :, :]\n",
    "                if iter != max_address:\n",
    "                    z_proc[iter, :, :] = self._procrustes_mine(z_iter, z_star)\n",
    "                else:\n",
    "                    z_proc[iter, :, :] = z_iter\n",
    "\n",
    "            meanz_proc = np.empty((ntopic, ndim), ) #estimated, procrustes 한 결과들을 평균값함. 이인즉 nmcmc에서 \n",
    "            for i in range(ntopic):\n",
    "                for j in range(ndim):\n",
    "                    meanz_proc[i, j] = z_proc[:, i, j].mean()\n",
    "            \n",
    "            meanz_proc_list.append(meanz_proc)\n",
    "        \n",
    "        self.meanz_proc_list = meanz_proc_list\n",
    "        \n",
    "        print(\"meaned data among MCMC samples which are procrustesed saved in .meanz_proc_list attribute.\")        \n",
    "        \n",
    "        total_dist = []\n",
    "        \n",
    "        for each in meanz_proc_list:\n",
    "            total_dist.append(np.sum(np.sqrt(np.sum(each ** 2, axis=1))))\n",
    "\n",
    "        iamax = np.argmax(total_dist)\n",
    "        meanz_proc_amax = meanz_proc_list[iamax]\n",
    "        \n",
    "        self.meanz_proc_amax = meanz_proc_amax\n",
    "        \n",
    "        print(\"amax data among procrustesed saved in .meanz_proc_amax attribute.\")        \n",
    "\n",
    "        meanz_proc2 = []\n",
    "\n",
    "        for idx, each in enumerate(meanz_proc_list):\n",
    "            if idx == iamax: meanz_proc2.append(each)\n",
    "            else: meanz_proc2.append(tcv._procrustes_mine(each, meanz_proc_amax))\n",
    "        \n",
    "        self.meanz_proc2 = meanz_proc2\n",
    "        print(\"procrustes twice data saved in .meanz_proc2 attribute.\")\n",
    "\n",
    "        meanz_proc2_oblim = []\n",
    "\n",
    "        rotator = Rotator(method = \"oblimin\")\n",
    "\n",
    "        for each in meanz_proc2:\n",
    "            meanz_proc2_oblim.append(rotator.fit_transform(each))\n",
    "           \n",
    "        self.meanz_proc2_oblim = meanz_proc2_oblim\n",
    "        \n",
    "        print(\"procrustes twice, oblimin rotated data saved in .meanz_proc2_oblim attribute.\")\n",
    "\n",
    "        return 0\n"
   ]
  },
  {
   "cell_type": "code",
   "execution_count": 32,
   "id": "ab1c3331-5233-4811-b7e1-c996e43c2507",
   "metadata": {},
   "outputs": [],
   "source": [
    "tcv = TopicClusterVisualizer(temp)"
   ]
  },
  {
   "cell_type": "code",
   "execution_count": 37,
   "id": "9aeb75e4-defa-4d40-833b-401a237a416d",
   "metadata": {},
   "outputs": [
    {
     "name": "stdout",
     "output_type": "stream",
     "text": [
      "meaned data among MCMC samples which are procrustesed saved in .meanz_proc_list attribute.\n",
      "amax data among procrustesed saved in .meanz_proc_amax attribute.\n",
      "procrustes twice data saved in .meanz_proc2 attribute.\n",
      "procrustes twice, oblimin rotated data saved in .meanz_proc2_oblim attribute.\n"
     ]
    }
   ],
   "source": [
    "temp_proc2_zs = tcv._proc2_oblim(niter = niter2, \n",
    "                            nburn = nburn2, \n",
    "                            nthin = nthin2, \n",
    "                            ndim = ndim2, \n",
    "                            outputs = pwz,\n",
    "                            mapper = tempmap,\n",
    "                            zter = np.array(templist))"
   ]
  },
  {
   "cell_type": "code",
   "execution_count": 36,
   "id": "296e39b4-9c05-4860-9e85-94777ef9406d",
   "metadata": {},
   "outputs": [
    {
     "data": {
      "text/html": [
       "<div>\n",
       "<style scoped>\n",
       "    .dataframe tbody tr th:only-of-type {\n",
       "        vertical-align: middle;\n",
       "    }\n",
       "\n",
       "    .dataframe tbody tr th {\n",
       "        vertical-align: top;\n",
       "    }\n",
       "\n",
       "    .dataframe thead th {\n",
       "        text-align: right;\n",
       "    }\n",
       "</style>\n",
       "<table border=\"1\" class=\"dataframe\">\n",
       "  <thead>\n",
       "    <tr style=\"text-align: right;\">\n",
       "      <th></th>\n",
       "      <th>0</th>\n",
       "      <th>1</th>\n",
       "      <th>2</th>\n",
       "      <th>3</th>\n",
       "      <th>4</th>\n",
       "      <th>5</th>\n",
       "      <th>6</th>\n",
       "      <th>7</th>\n",
       "      <th>8</th>\n",
       "      <th>9</th>\n",
       "      <th>10</th>\n",
       "      <th>11</th>\n",
       "      <th>12</th>\n",
       "      <th>13</th>\n",
       "      <th>14</th>\n",
       "      <th>15</th>\n",
       "      <th>16</th>\n",
       "      <th>17</th>\n",
       "      <th>18</th>\n",
       "      <th>19</th>\n",
       "    </tr>\n",
       "  </thead>\n",
       "  <tbody>\n",
       "    <tr>\n",
       "      <th>0</th>\n",
       "      <td>1.031020e-03</td>\n",
       "      <td>4.391380e-09</td>\n",
       "      <td>4.580380e-09</td>\n",
       "      <td>2.758850e-09</td>\n",
       "      <td>6.411630e-05</td>\n",
       "      <td>1.345780e-08</td>\n",
       "      <td>9.156330e-04</td>\n",
       "      <td>6.193670e-09</td>\n",
       "      <td>1.664730e-08</td>\n",
       "      <td>1.432970e-03</td>\n",
       "      <td>1.243310e-08</td>\n",
       "      <td>1.418510e-03</td>\n",
       "      <td>3.047910e-04</td>\n",
       "      <td>3.892780e-06</td>\n",
       "      <td>8.104230e-09</td>\n",
       "      <td>5.565210e-09</td>\n",
       "      <td>4.006660e-09</td>\n",
       "      <td>8.166980e-09</td>\n",
       "      <td>1.744650e-03</td>\n",
       "      <td>1.757760e-08</td>\n",
       "    </tr>\n",
       "    <tr>\n",
       "      <th>1</th>\n",
       "      <td>3.396860e-03</td>\n",
       "      <td>4.391380e-09</td>\n",
       "      <td>4.580380e-09</td>\n",
       "      <td>2.758850e-09</td>\n",
       "      <td>8.435240e-09</td>\n",
       "      <td>9.070700e-04</td>\n",
       "      <td>4.624170e-08</td>\n",
       "      <td>3.617170e-04</td>\n",
       "      <td>3.346100e-06</td>\n",
       "      <td>5.698500e-03</td>\n",
       "      <td>1.243310e-08</td>\n",
       "      <td>3.597660e-03</td>\n",
       "      <td>1.073170e-08</td>\n",
       "      <td>3.241290e-09</td>\n",
       "      <td>8.104230e-09</td>\n",
       "      <td>2.231650e-06</td>\n",
       "      <td>4.006660e-09</td>\n",
       "      <td>8.166980e-09</td>\n",
       "      <td>1.466420e-03</td>\n",
       "      <td>2.664780e-03</td>\n",
       "    </tr>\n",
       "    <tr>\n",
       "      <th>2</th>\n",
       "      <td>1.706950e-08</td>\n",
       "      <td>4.391380e-09</td>\n",
       "      <td>1.529890e-04</td>\n",
       "      <td>2.209840e-06</td>\n",
       "      <td>8.435240e-09</td>\n",
       "      <td>1.345780e-08</td>\n",
       "      <td>4.624170e-08</td>\n",
       "      <td>6.193670e-09</td>\n",
       "      <td>1.664730e-08</td>\n",
       "      <td>8.340880e-09</td>\n",
       "      <td>1.243310e-08</td>\n",
       "      <td>3.347670e-04</td>\n",
       "      <td>1.073170e-08</td>\n",
       "      <td>3.241290e-09</td>\n",
       "      <td>8.104230e-09</td>\n",
       "      <td>5.565210e-09</td>\n",
       "      <td>1.073830e-04</td>\n",
       "      <td>8.166980e-09</td>\n",
       "      <td>1.140290e-08</td>\n",
       "      <td>1.757760e-08</td>\n",
       "    </tr>\n",
       "    <tr>\n",
       "      <th>3</th>\n",
       "      <td>1.706950e-08</td>\n",
       "      <td>4.391380e-09</td>\n",
       "      <td>6.293490e-04</td>\n",
       "      <td>2.758850e-09</td>\n",
       "      <td>8.435240e-09</td>\n",
       "      <td>1.345780e-08</td>\n",
       "      <td>4.624170e-08</td>\n",
       "      <td>6.193670e-09</td>\n",
       "      <td>1.664730e-08</td>\n",
       "      <td>4.287290e-04</td>\n",
       "      <td>1.243310e-08</td>\n",
       "      <td>2.093340e-03</td>\n",
       "      <td>7.748390e-04</td>\n",
       "      <td>3.241290e-09</td>\n",
       "      <td>8.104230e-09</td>\n",
       "      <td>5.565210e-09</td>\n",
       "      <td>6.667130e-04</td>\n",
       "      <td>8.166980e-09</td>\n",
       "      <td>1.952190e-03</td>\n",
       "      <td>4.394570e-04</td>\n",
       "    </tr>\n",
       "    <tr>\n",
       "      <th>4</th>\n",
       "      <td>1.607970e-03</td>\n",
       "      <td>4.391380e-09</td>\n",
       "      <td>3.437130e-03</td>\n",
       "      <td>2.758850e-09</td>\n",
       "      <td>8.435240e-09</td>\n",
       "      <td>1.345780e-08</td>\n",
       "      <td>4.938660e-03</td>\n",
       "      <td>2.538170e-03</td>\n",
       "      <td>4.185140e-03</td>\n",
       "      <td>7.661940e-03</td>\n",
       "      <td>1.243310e-08</td>\n",
       "      <td>4.560110e-03</td>\n",
       "      <td>1.073170e-08</td>\n",
       "      <td>4.862250e-05</td>\n",
       "      <td>1.340450e-03</td>\n",
       "      <td>5.565210e-09</td>\n",
       "      <td>3.121190e-03</td>\n",
       "      <td>8.166980e-09</td>\n",
       "      <td>1.140290e-08</td>\n",
       "      <td>1.757760e-08</td>\n",
       "    </tr>\n",
       "    <tr>\n",
       "      <th>...</th>\n",
       "      <td>...</td>\n",
       "      <td>...</td>\n",
       "      <td>...</td>\n",
       "      <td>...</td>\n",
       "      <td>...</td>\n",
       "      <td>...</td>\n",
       "      <td>...</td>\n",
       "      <td>...</td>\n",
       "      <td>...</td>\n",
       "      <td>...</td>\n",
       "      <td>...</td>\n",
       "      <td>...</td>\n",
       "      <td>...</td>\n",
       "      <td>...</td>\n",
       "      <td>...</td>\n",
       "      <td>...</td>\n",
       "      <td>...</td>\n",
       "      <td>...</td>\n",
       "      <td>...</td>\n",
       "      <td>...</td>\n",
       "    </tr>\n",
       "    <tr>\n",
       "      <th>3075</th>\n",
       "      <td>1.706950e-08</td>\n",
       "      <td>2.459610e-05</td>\n",
       "      <td>4.580380e-09</td>\n",
       "      <td>2.758850e-09</td>\n",
       "      <td>8.435240e-09</td>\n",
       "      <td>1.345780e-08</td>\n",
       "      <td>4.624170e-08</td>\n",
       "      <td>6.193670e-09</td>\n",
       "      <td>1.664730e-08</td>\n",
       "      <td>8.340880e-09</td>\n",
       "      <td>1.243310e-08</td>\n",
       "      <td>2.648450e-09</td>\n",
       "      <td>1.073170e-08</td>\n",
       "      <td>3.241290e-09</td>\n",
       "      <td>8.104230e-09</td>\n",
       "      <td>5.565210e-09</td>\n",
       "      <td>4.006660e-09</td>\n",
       "      <td>8.166980e-09</td>\n",
       "      <td>1.140290e-08</td>\n",
       "      <td>1.757760e-08</td>\n",
       "    </tr>\n",
       "    <tr>\n",
       "      <th>3076</th>\n",
       "      <td>3.074220e-05</td>\n",
       "      <td>1.669160e-05</td>\n",
       "      <td>4.580380e-09</td>\n",
       "      <td>2.758850e-09</td>\n",
       "      <td>8.435240e-09</td>\n",
       "      <td>1.345780e-08</td>\n",
       "      <td>4.624170e-08</td>\n",
       "      <td>6.193670e-09</td>\n",
       "      <td>1.664730e-08</td>\n",
       "      <td>8.340880e-09</td>\n",
       "      <td>1.243310e-08</td>\n",
       "      <td>2.648450e-09</td>\n",
       "      <td>1.073170e-08</td>\n",
       "      <td>3.241290e-09</td>\n",
       "      <td>8.104230e-09</td>\n",
       "      <td>5.565210e-09</td>\n",
       "      <td>4.006660e-09</td>\n",
       "      <td>8.166980e-09</td>\n",
       "      <td>1.140290e-08</td>\n",
       "      <td>1.757760e-08</td>\n",
       "    </tr>\n",
       "    <tr>\n",
       "      <th>3077</th>\n",
       "      <td>1.706950e-08</td>\n",
       "      <td>4.391380e-09</td>\n",
       "      <td>4.580380e-09</td>\n",
       "      <td>2.758850e-09</td>\n",
       "      <td>8.435240e-09</td>\n",
       "      <td>1.345780e-08</td>\n",
       "      <td>4.624170e-08</td>\n",
       "      <td>6.193670e-09</td>\n",
       "      <td>1.664730e-08</td>\n",
       "      <td>8.340880e-09</td>\n",
       "      <td>1.243310e-08</td>\n",
       "      <td>2.648450e-09</td>\n",
       "      <td>1.073170e-08</td>\n",
       "      <td>3.241290e-09</td>\n",
       "      <td>8.104230e-09</td>\n",
       "      <td>1.892730e-05</td>\n",
       "      <td>4.006660e-09</td>\n",
       "      <td>8.166980e-09</td>\n",
       "      <td>1.140290e-08</td>\n",
       "      <td>1.757760e-08</td>\n",
       "    </tr>\n",
       "    <tr>\n",
       "      <th>3078</th>\n",
       "      <td>1.706950e-08</td>\n",
       "      <td>4.391380e-09</td>\n",
       "      <td>4.580380e-09</td>\n",
       "      <td>2.758850e-09</td>\n",
       "      <td>8.435240e-09</td>\n",
       "      <td>1.345780e-08</td>\n",
       "      <td>4.624170e-08</td>\n",
       "      <td>6.193670e-09</td>\n",
       "      <td>1.664730e-08</td>\n",
       "      <td>8.340880e-09</td>\n",
       "      <td>1.243310e-08</td>\n",
       "      <td>9.537090e-06</td>\n",
       "      <td>1.073170e-08</td>\n",
       "      <td>3.241290e-09</td>\n",
       "      <td>8.104230e-09</td>\n",
       "      <td>5.565210e-09</td>\n",
       "      <td>4.006660e-09</td>\n",
       "      <td>8.166980e-09</td>\n",
       "      <td>1.140290e-08</td>\n",
       "      <td>1.757760e-08</td>\n",
       "    </tr>\n",
       "    <tr>\n",
       "      <th>3079</th>\n",
       "      <td>1.706950e-08</td>\n",
       "      <td>4.391380e-09</td>\n",
       "      <td>4.580380e-09</td>\n",
       "      <td>2.758850e-09</td>\n",
       "      <td>8.435240e-09</td>\n",
       "      <td>1.345780e-08</td>\n",
       "      <td>4.624170e-08</td>\n",
       "      <td>6.193670e-09</td>\n",
       "      <td>1.664730e-08</td>\n",
       "      <td>8.340880e-09</td>\n",
       "      <td>1.243310e-08</td>\n",
       "      <td>1.006680e-05</td>\n",
       "      <td>1.073170e-08</td>\n",
       "      <td>3.241290e-09</td>\n",
       "      <td>8.104230e-09</td>\n",
       "      <td>5.565210e-09</td>\n",
       "      <td>4.006660e-09</td>\n",
       "      <td>8.166980e-09</td>\n",
       "      <td>1.140290e-08</td>\n",
       "      <td>1.757760e-08</td>\n",
       "    </tr>\n",
       "  </tbody>\n",
       "</table>\n",
       "<p>3080 rows × 20 columns</p>\n",
       "</div>"
      ],
      "text/plain": [
       "                0             1             2             3             4   \\\n",
       "0     1.031020e-03  4.391380e-09  4.580380e-09  2.758850e-09  6.411630e-05   \n",
       "1     3.396860e-03  4.391380e-09  4.580380e-09  2.758850e-09  8.435240e-09   \n",
       "2     1.706950e-08  4.391380e-09  1.529890e-04  2.209840e-06  8.435240e-09   \n",
       "3     1.706950e-08  4.391380e-09  6.293490e-04  2.758850e-09  8.435240e-09   \n",
       "4     1.607970e-03  4.391380e-09  3.437130e-03  2.758850e-09  8.435240e-09   \n",
       "...            ...           ...           ...           ...           ...   \n",
       "3075  1.706950e-08  2.459610e-05  4.580380e-09  2.758850e-09  8.435240e-09   \n",
       "3076  3.074220e-05  1.669160e-05  4.580380e-09  2.758850e-09  8.435240e-09   \n",
       "3077  1.706950e-08  4.391380e-09  4.580380e-09  2.758850e-09  8.435240e-09   \n",
       "3078  1.706950e-08  4.391380e-09  4.580380e-09  2.758850e-09  8.435240e-09   \n",
       "3079  1.706950e-08  4.391380e-09  4.580380e-09  2.758850e-09  8.435240e-09   \n",
       "\n",
       "                5             6             7             8             9   \\\n",
       "0     1.345780e-08  9.156330e-04  6.193670e-09  1.664730e-08  1.432970e-03   \n",
       "1     9.070700e-04  4.624170e-08  3.617170e-04  3.346100e-06  5.698500e-03   \n",
       "2     1.345780e-08  4.624170e-08  6.193670e-09  1.664730e-08  8.340880e-09   \n",
       "3     1.345780e-08  4.624170e-08  6.193670e-09  1.664730e-08  4.287290e-04   \n",
       "4     1.345780e-08  4.938660e-03  2.538170e-03  4.185140e-03  7.661940e-03   \n",
       "...            ...           ...           ...           ...           ...   \n",
       "3075  1.345780e-08  4.624170e-08  6.193670e-09  1.664730e-08  8.340880e-09   \n",
       "3076  1.345780e-08  4.624170e-08  6.193670e-09  1.664730e-08  8.340880e-09   \n",
       "3077  1.345780e-08  4.624170e-08  6.193670e-09  1.664730e-08  8.340880e-09   \n",
       "3078  1.345780e-08  4.624170e-08  6.193670e-09  1.664730e-08  8.340880e-09   \n",
       "3079  1.345780e-08  4.624170e-08  6.193670e-09  1.664730e-08  8.340880e-09   \n",
       "\n",
       "                10            11            12            13            14  \\\n",
       "0     1.243310e-08  1.418510e-03  3.047910e-04  3.892780e-06  8.104230e-09   \n",
       "1     1.243310e-08  3.597660e-03  1.073170e-08  3.241290e-09  8.104230e-09   \n",
       "2     1.243310e-08  3.347670e-04  1.073170e-08  3.241290e-09  8.104230e-09   \n",
       "3     1.243310e-08  2.093340e-03  7.748390e-04  3.241290e-09  8.104230e-09   \n",
       "4     1.243310e-08  4.560110e-03  1.073170e-08  4.862250e-05  1.340450e-03   \n",
       "...            ...           ...           ...           ...           ...   \n",
       "3075  1.243310e-08  2.648450e-09  1.073170e-08  3.241290e-09  8.104230e-09   \n",
       "3076  1.243310e-08  2.648450e-09  1.073170e-08  3.241290e-09  8.104230e-09   \n",
       "3077  1.243310e-08  2.648450e-09  1.073170e-08  3.241290e-09  8.104230e-09   \n",
       "3078  1.243310e-08  9.537090e-06  1.073170e-08  3.241290e-09  8.104230e-09   \n",
       "3079  1.243310e-08  1.006680e-05  1.073170e-08  3.241290e-09  8.104230e-09   \n",
       "\n",
       "                15            16            17            18            19  \n",
       "0     5.565210e-09  4.006660e-09  8.166980e-09  1.744650e-03  1.757760e-08  \n",
       "1     2.231650e-06  4.006660e-09  8.166980e-09  1.466420e-03  2.664780e-03  \n",
       "2     5.565210e-09  1.073830e-04  8.166980e-09  1.140290e-08  1.757760e-08  \n",
       "3     5.565210e-09  6.667130e-04  8.166980e-09  1.952190e-03  4.394570e-04  \n",
       "4     5.565210e-09  3.121190e-03  8.166980e-09  1.140290e-08  1.757760e-08  \n",
       "...            ...           ...           ...           ...           ...  \n",
       "3075  5.565210e-09  4.006660e-09  8.166980e-09  1.140290e-08  1.757760e-08  \n",
       "3076  5.565210e-09  4.006660e-09  8.166980e-09  1.140290e-08  1.757760e-08  \n",
       "3077  1.892730e-05  4.006660e-09  8.166980e-09  1.140290e-08  1.757760e-08  \n",
       "3078  5.565210e-09  4.006660e-09  8.166980e-09  1.140290e-08  1.757760e-08  \n",
       "3079  5.565210e-09  4.006660e-09  8.166980e-09  1.140290e-08  1.757760e-08  \n",
       "\n",
       "[3080 rows x 20 columns]"
      ]
     },
     "execution_count": 36,
     "metadata": {},
     "output_type": "execute_result"
    }
   ],
   "source": [
    "pwz = pwz.transpose()\n",
    "pwz"
   ]
  },
  {
   "cell_type": "code",
   "execution_count": 21,
   "id": "0d7505cb-1de9-41ad-ac4f-c8bbd9982967",
   "metadata": {},
   "outputs": [],
   "source": [
    "pwz = pd.read_csv(\"k20.pw_z\", sep=' ', header=None).iloc[:,:-1] #각 주제에서의 단어출현확률"
   ]
  },
  {
   "cell_type": "code",
   "execution_count": 27,
   "id": "629142a1-f334-45a7-b21d-c9155f716103",
   "metadata": {},
   "outputs": [],
   "source": [
    "tempmap = np.array(pd.read_csv(\"map.csv\").iloc[:,1])"
   ]
  },
  {
   "cell_type": "code",
   "execution_count": 28,
   "id": "827c5eb6-c038-4669-ac91-928fcb7d13bb",
   "metadata": {},
   "outputs": [
    {
     "data": {
      "text/plain": [
       "array([-23134.0350492 , -25239.17830121, -26738.33230625, ...,\n",
       "       -26035.89639699, -25691.70078347, -25667.36391938])"
      ]
     },
     "execution_count": 28,
     "metadata": {},
     "output_type": "execute_result"
    }
   ],
   "source": [
    "tempmap"
   ]
  },
  {
   "cell_type": "code",
   "execution_count": null,
   "id": "c576f805-b690-4ad5-be6c-dfbbd38ad416",
   "metadata": {},
   "outputs": [],
   "source": [
    "tcv._proc2_oblim(self, niter, nburn, nthin, ndim, pwz, mapper, z):"
   ]
  },
  {
   "cell_type": "code",
   "execution_count": 41,
   "id": "8bdcd25f-bae7-4a37-b2c4-e882748e99a6",
   "metadata": {},
   "outputs": [
    {
     "data": {
      "text/html": [
       "<div>\n",
       "<style scoped>\n",
       "    .dataframe tbody tr th:only-of-type {\n",
       "        vertical-align: middle;\n",
       "    }\n",
       "\n",
       "    .dataframe tbody tr th {\n",
       "        vertical-align: top;\n",
       "    }\n",
       "\n",
       "    .dataframe thead th {\n",
       "        text-align: right;\n",
       "    }\n",
       "</style>\n",
       "<table border=\"1\" class=\"dataframe\">\n",
       "  <thead>\n",
       "    <tr style=\"text-align: right;\">\n",
       "      <th></th>\n",
       "      <th>0</th>\n",
       "      <th>1</th>\n",
       "    </tr>\n",
       "  </thead>\n",
       "  <tbody>\n",
       "    <tr>\n",
       "      <th>0</th>\n",
       "      <td>0.073392</td>\n",
       "      <td>-0.174927</td>\n",
       "    </tr>\n",
       "    <tr>\n",
       "      <th>1</th>\n",
       "      <td>-0.032218</td>\n",
       "      <td>0.184051</td>\n",
       "    </tr>\n",
       "    <tr>\n",
       "      <th>2</th>\n",
       "      <td>-0.128144</td>\n",
       "      <td>-0.617814</td>\n",
       "    </tr>\n",
       "    <tr>\n",
       "      <th>3</th>\n",
       "      <td>-0.151343</td>\n",
       "      <td>0.212531</td>\n",
       "    </tr>\n",
       "    <tr>\n",
       "      <th>4</th>\n",
       "      <td>-0.196415</td>\n",
       "      <td>0.021654</td>\n",
       "    </tr>\n",
       "    <tr>\n",
       "      <th>5</th>\n",
       "      <td>-0.162475</td>\n",
       "      <td>-0.322118</td>\n",
       "    </tr>\n",
       "    <tr>\n",
       "      <th>6</th>\n",
       "      <td>-0.055695</td>\n",
       "      <td>-0.116572</td>\n",
       "    </tr>\n",
       "    <tr>\n",
       "      <th>7</th>\n",
       "      <td>-0.000147</td>\n",
       "      <td>-0.173469</td>\n",
       "    </tr>\n",
       "    <tr>\n",
       "      <th>8</th>\n",
       "      <td>-0.047085</td>\n",
       "      <td>-0.074785</td>\n",
       "    </tr>\n",
       "    <tr>\n",
       "      <th>9</th>\n",
       "      <td>-0.134695</td>\n",
       "      <td>-0.921275</td>\n",
       "    </tr>\n",
       "    <tr>\n",
       "      <th>10</th>\n",
       "      <td>-0.127888</td>\n",
       "      <td>0.058212</td>\n",
       "    </tr>\n",
       "    <tr>\n",
       "      <th>11</th>\n",
       "      <td>0.732686</td>\n",
       "      <td>-0.523413</td>\n",
       "    </tr>\n",
       "    <tr>\n",
       "      <th>12</th>\n",
       "      <td>-0.009513</td>\n",
       "      <td>-0.112195</td>\n",
       "    </tr>\n",
       "    <tr>\n",
       "      <th>13</th>\n",
       "      <td>-0.268141</td>\n",
       "      <td>0.799335</td>\n",
       "    </tr>\n",
       "    <tr>\n",
       "      <th>14</th>\n",
       "      <td>-0.441327</td>\n",
       "      <td>-0.421707</td>\n",
       "    </tr>\n",
       "    <tr>\n",
       "      <th>15</th>\n",
       "      <td>-1.028825</td>\n",
       "      <td>-0.103901</td>\n",
       "    </tr>\n",
       "    <tr>\n",
       "      <th>16</th>\n",
       "      <td>0.242657</td>\n",
       "      <td>-0.134341</td>\n",
       "    </tr>\n",
       "    <tr>\n",
       "      <th>17</th>\n",
       "      <td>-0.113195</td>\n",
       "      <td>0.168301</td>\n",
       "    </tr>\n",
       "    <tr>\n",
       "      <th>18</th>\n",
       "      <td>-0.002485</td>\n",
       "      <td>-0.182461</td>\n",
       "    </tr>\n",
       "    <tr>\n",
       "      <th>19</th>\n",
       "      <td>0.065846</td>\n",
       "      <td>-0.182292</td>\n",
       "    </tr>\n",
       "  </tbody>\n",
       "</table>\n",
       "</div>"
      ],
      "text/plain": [
       "           0         1\n",
       "0   0.073392 -0.174927\n",
       "1  -0.032218  0.184051\n",
       "2  -0.128144 -0.617814\n",
       "3  -0.151343  0.212531\n",
       "4  -0.196415  0.021654\n",
       "5  -0.162475 -0.322118\n",
       "6  -0.055695 -0.116572\n",
       "7  -0.000147 -0.173469\n",
       "8  -0.047085 -0.074785\n",
       "9  -0.134695 -0.921275\n",
       "10 -0.127888  0.058212\n",
       "11  0.732686 -0.523413\n",
       "12 -0.009513 -0.112195\n",
       "13 -0.268141  0.799335\n",
       "14 -0.441327 -0.421707\n",
       "15 -1.028825 -0.103901\n",
       "16  0.242657 -0.134341\n",
       "17 -0.113195  0.168301\n",
       "18 -0.002485 -0.182461\n",
       "19  0.065846 -0.182292"
      ]
     },
     "execution_count": 41,
     "metadata": {},
     "output_type": "execute_result"
    }
   ],
   "source": [
    "pd.DataFrame(tcv.meanz_proc2_oblim[0])"
   ]
  },
  {
   "cell_type": "code",
   "execution_count": null,
   "id": "8205dfe8-2063-4a02-8c2a-4343e460d8ba",
   "metadata": {},
   "outputs": [],
   "source": []
  },
  {
   "cell_type": "code",
   "execution_count": null,
   "id": "79c903f3-9fac-433c-9645-c1ec41030f97",
   "metadata": {},
   "outputs": [],
   "source": []
  },
  {
   "cell_type": "code",
   "execution_count": null,
   "id": "901ebf09-edc0-4bf2-b994-0e870d16b0be",
   "metadata": {},
   "outputs": [],
   "source": []
  },
  {
   "cell_type": "code",
   "execution_count": null,
   "id": "69de518a-3d61-4a5e-a074-84ba99e67742",
   "metadata": {},
   "outputs": [],
   "source": []
  },
  {
   "cell_type": "code",
   "execution_count": null,
   "id": "1c98bc65-46f0-4649-bf77-cd6baa622631",
   "metadata": {},
   "outputs": [],
   "source": []
  },
  {
   "cell_type": "code",
   "execution_count": null,
   "id": "406be8dc-9aa6-485e-9607-b869f05a3105",
   "metadata": {},
   "outputs": [],
   "source": []
  },
  {
   "cell_type": "code",
   "execution_count": null,
   "id": "95e06e9b-627e-44d0-8925-899828a9c727",
   "metadata": {},
   "outputs": [],
   "source": []
  },
  {
   "cell_type": "code",
   "execution_count": null,
   "id": "4cede2fb-9407-42c2-9667-c0fe515834f4",
   "metadata": {},
   "outputs": [],
   "source": []
  },
  {
   "cell_type": "code",
   "execution_count": null,
   "id": "5f6b63d2-bfb2-4c10-92b6-55aa7f3a187e",
   "metadata": {},
   "outputs": [],
   "source": []
  },
  {
   "cell_type": "code",
   "execution_count": null,
   "id": "a0fc0330-94b7-440a-861f-626f0c110650",
   "metadata": {},
   "outputs": [],
   "source": []
  }
 ],
 "metadata": {
  "kernelspec": {
   "display_name": "Python 3 (ipykernel)",
   "language": "python",
   "name": "python3"
  },
  "language_info": {
   "codemirror_mode": {
    "name": "ipython",
    "version": 3
   },
   "file_extension": ".py",
   "mimetype": "text/x-python",
   "name": "python",
   "nbconvert_exporter": "python",
   "pygments_lexer": "ipython3",
   "version": "3.9.7"
  }
 },
 "nbformat": 4,
 "nbformat_minor": 5
}
