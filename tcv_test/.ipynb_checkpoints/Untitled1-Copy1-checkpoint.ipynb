{
 "cells": [
  {
   "cell_type": "code",
   "execution_count": null,
   "id": "4d1cd5c5-3855-4625-8d3c-7c21003da63b",
   "metadata": {},
   "outputs": [
    {
     "name": "stderr",
     "output_type": "stream",
     "text": [
      "[nltk_data] Downloading package punkt to\n",
      "[nltk_data]     C:\\Users\\Song1\\AppData\\Roaming\\nltk_data...\n",
      "[nltk_data]   Package punkt is already up-to-date!\n",
      "[nltk_data] Downloading package averaged_perceptron_tagger to\n",
      "[nltk_data]     C:\\Users\\Song1\\AppData\\Roaming\\nltk_data...\n",
      "[nltk_data]   Package averaged_perceptron_tagger is already up-to-\n",
      "[nltk_data]       date!\n"
     ]
    }
   ],
   "source": [
    "import pandas as pd\n",
    "import numpy as np\n",
    "from topic_cluster_visualizer import TopicClusterVisualizer, Plots\n",
    "\n",
    "import nltk\n",
    "#nltk.download('punkt')\n",
    "#nltk.download('averaged_perceptron_tagger')"
   ]
  },
  {
   "cell_type": "code",
   "execution_count": 2,
   "id": "b9ae94bf-6a11-4cd6-8310-a8528499477e",
   "metadata": {},
   "outputs": [],
   "source": [
    "#temp = list(pd.read_table(\"manonly.txt\").iloc[:,0])"
   ]
  },
  {
   "cell_type": "code",
   "execution_count": 3,
   "id": "b1f693ba-290d-4700-a8ff-1151fe26e21b",
   "metadata": {},
   "outputs": [],
   "source": [
    "#temp = pd.read_excel(\"savedrecs (1).xls\")"
   ]
  },
  {
   "cell_type": "markdown",
   "id": "ec07d0e3-f9c3-4c8e-8f79-0204871bad04",
   "metadata": {},
   "source": [
    " "
   ]
  },
  {
   "cell_type": "markdown",
   "id": "b1d2913e-7822-4807-8382-1e0305564094",
   "metadata": {},
   "source": [
    " "
   ]
  },
  {
   "cell_type": "markdown",
   "id": "d07425f0-252f-4002-8512-464393e1a2c8",
   "metadata": {},
   "source": [
    " "
   ]
  },
  {
   "cell_type": "markdown",
   "id": "49391fd0-bd78-43da-97da-49455975df67",
   "metadata": {},
   "source": [
    " "
   ]
  },
  {
   "cell_type": "markdown",
   "id": "2cf9dd77-81ec-4f59-873d-01bc19543ae2",
   "metadata": {},
   "source": [
    " "
   ]
  },
  {
   "cell_type": "markdown",
   "id": "02cae8ca-d692-42e1-bee7-6c1a0a5f5c3d",
   "metadata": {},
   "source": [
    " "
   ]
  },
  {
   "cell_type": "markdown",
   "id": "8a351f5b-ecbe-4db2-aff9-9a3ca0005385",
   "metadata": {},
   "source": [
    " "
   ]
  },
  {
   "cell_type": "code",
   "execution_count": 29,
   "id": "50564522-f876-4e72-950b-fb922186105a",
   "metadata": {},
   "outputs": [],
   "source": [
    "#data = []\n",
    "#titles = []\n",
    "#keywords = []\n",
    "\n",
    "temp = pd.read_excel(\"covid_update_0803.xlsx\")\n",
    "\n",
    "\n",
    "\n",
    "\n",
    "\n",
    "\n",
    "data = list(temp[\"abstract_raw\"])\n",
    "titles = list(temp[\"title_raw\"])\n",
    "keywords = list(temp[\"keywords_raw\"])"
   ]
  },
  {
   "cell_type": "code",
   "execution_count": null,
   "id": "0f4737cb-7574-47f5-94a0-67318421a857",
   "metadata": {},
   "outputs": [],
   "source": [
    "#temp3 = pd.Series(temp2)"
   ]
  },
  {
   "cell_type": "code",
   "execution_count": null,
   "id": "2dc2486c-7f9a-4567-81b2-b6cf4d6ff78e",
   "metadata": {
    "tags": []
   },
   "outputs": [],
   "source": [
    "#temp3 = temp3[:1000]"
   ]
  },
  {
   "cell_type": "code",
   "execution_count": 30,
   "id": "66de5b03-7ab5-4d3c-bde1-eba6b98af9b2",
   "metadata": {},
   "outputs": [],
   "source": [
    "titles = pd.Series(titles).dropna()\n",
    "\n",
    "keywords = pd.Series(keywords).dropna()"
   ]
  },
  {
   "cell_type": "code",
   "execution_count": 75,
   "id": "ed072682-c42b-4a5b-97a1-77c0d7600184",
   "metadata": {},
   "outputs": [],
   "source": [
    "titles = pd.Series(titles).dropna().map(lambda x: tcv._get_terms(x))\n",
    "keywords = pd.Series(keywords).dropna().map(lambda x: tcv._get_terms(x))\n"
   ]
  },
  {
   "cell_type": "code",
   "execution_count": 104,
   "id": "c5769cbd-58a8-4000-8a14-39875676d8ea",
   "metadata": {},
   "outputs": [],
   "source": [
    "titles2 = pd.DataFrame(titles)\n",
    "\n",
    "fuck = []\n",
    "\n",
    "for each in titles:\n",
    "    fuck.append(isinstance(each, list))\n",
    "\n",
    "for each in fuck:\n",
    "    each = abs(each-1)\n",
    "\n",
    "fuck = [not elem for elem in fuck]\n",
    "titles = titles[fuck]"
   ]
  },
  {
   "cell_type": "code",
   "execution_count": 105,
   "id": "dc99effc-7f85-4f1a-b412-c64c57b8b0a0",
   "metadata": {},
   "outputs": [],
   "source": [
    "#titles2 = pd.DataFrame(titles)\n",
    "\n",
    "fuck = []\n",
    "\n",
    "for each in keywords:\n",
    "    fuck.append(isinstance(each, list))\n",
    "\n",
    "for each in fuck:\n",
    "    each = abs(each-1)\n",
    "\n",
    "fuck = [not elem for elem in fuck]\n",
    "keywords = keywords[fuck]"
   ]
  },
  {
   "cell_type": "code",
   "execution_count": 107,
   "id": "35db31b3-3aea-43ef-be5a-3533cb8c916e",
   "metadata": {},
   "outputs": [
    {
     "name": "stdout",
     "output_type": "stream",
     "text": [
      "# raw data: 19,273\n",
      "Return trained corpus. Saved in .corpus attribute.\n"
     ]
    },
    {
     "ename": "TypeError",
     "evalue": "'float' object is not iterable",
     "output_type": "error",
     "traceback": [
      "\u001b[1;31m---------------------------------------------------------------------------\u001b[0m",
      "\u001b[1;31mTypeError\u001b[0m                                 Traceback (most recent call last)",
      "\u001b[1;32m~\\AppData\\Local\\Temp/ipykernel_18728/1352058409.py\u001b[0m in \u001b[0;36m<module>\u001b[1;34m\u001b[0m\n\u001b[0;32m      1\u001b[0m \u001b[0mtcv\u001b[0m \u001b[1;33m=\u001b[0m \u001b[0mTopicClusterVisualizer\u001b[0m\u001b[1;33m(\u001b[0m\u001b[0mdata\u001b[0m\u001b[1;33m)\u001b[0m\u001b[1;33m\u001b[0m\u001b[1;33m\u001b[0m\u001b[0m\n\u001b[0;32m      2\u001b[0m \u001b[1;33m\u001b[0m\u001b[0m\n\u001b[1;32m----> 3\u001b[1;33m \u001b[0mtcv\u001b[0m\u001b[1;33m.\u001b[0m\u001b[0mpreprocess\u001b[0m\u001b[1;33m(\u001b[0m\u001b[0mtitles\u001b[0m\u001b[1;33m,\u001b[0m \u001b[0mkeywords\u001b[0m\u001b[1;33m,\u001b[0m \u001b[1;32mTrue\u001b[0m\u001b[1;33m)\u001b[0m\u001b[1;33m\u001b[0m\u001b[1;33m\u001b[0m\u001b[0m\n\u001b[0m",
      "\u001b[1;32m~\\anaconda3\\envs\\0307\\lib\\site-packages\\topic_cluster_visualizer\\topicclustervisualizer.py\u001b[0m in \u001b[0;36mpreprocess\u001b[1;34m(self, train_data, keywords, train)\u001b[0m\n\u001b[0;32m    164\u001b[0m                 \u001b[0mkeywords\u001b[0m \u001b[1;33m=\u001b[0m \u001b[0mpd\u001b[0m\u001b[1;33m.\u001b[0m\u001b[0mSeries\u001b[0m\u001b[1;33m(\u001b[0m\u001b[0mkeywords\u001b[0m\u001b[1;33m)\u001b[0m\u001b[1;33m.\u001b[0m\u001b[0mdropna\u001b[0m\u001b[1;33m(\u001b[0m\u001b[1;33m)\u001b[0m\u001b[1;33m.\u001b[0m\u001b[0mmap\u001b[0m\u001b[1;33m(\u001b[0m\u001b[1;32mlambda\u001b[0m \u001b[0mx\u001b[0m\u001b[1;33m:\u001b[0m \u001b[0mself\u001b[0m\u001b[1;33m.\u001b[0m\u001b[0m_get_terms\u001b[0m\u001b[1;33m(\u001b[0m\u001b[0mx\u001b[0m\u001b[1;33m)\u001b[0m\u001b[1;33m)\u001b[0m\u001b[1;33m\u001b[0m\u001b[1;33m\u001b[0m\u001b[0m\n\u001b[0;32m    165\u001b[0m                 \u001b[0mprint\u001b[0m\u001b[1;33m(\u001b[0m\u001b[1;34m\"Return trained corpus. Saved in .corpus attribute.\"\u001b[0m\u001b[1;33m)\u001b[0m\u001b[1;33m\u001b[0m\u001b[1;33m\u001b[0m\u001b[0m\n\u001b[1;32m--> 166\u001b[1;33m                 \u001b[0mself\u001b[0m\u001b[1;33m.\u001b[0m\u001b[0mcorpus\u001b[0m \u001b[1;33m=\u001b[0m \u001b[0mself\u001b[0m\u001b[1;33m.\u001b[0m\u001b[0m_train_corpus\u001b[0m\u001b[1;33m(\u001b[0m\u001b[0mcorpus\u001b[0m\u001b[1;33m,\u001b[0m \u001b[0mtrain_data\u001b[0m\u001b[1;33m,\u001b[0m \u001b[0mkeywords\u001b[0m\u001b[1;33m)\u001b[0m\u001b[1;33m.\u001b[0m\u001b[0mdropna\u001b[0m\u001b[1;33m(\u001b[0m\u001b[1;33m)\u001b[0m\u001b[1;33m\u001b[0m\u001b[1;33m\u001b[0m\u001b[0m\n\u001b[0m\u001b[0;32m    167\u001b[0m \u001b[1;33m\u001b[0m\u001b[0m\n\u001b[0;32m    168\u001b[0m         \u001b[1;32melse\u001b[0m\u001b[1;33m:\u001b[0m\u001b[1;33m\u001b[0m\u001b[1;33m\u001b[0m\u001b[0m\n",
      "\u001b[1;32m~\\anaconda3\\envs\\0307\\lib\\site-packages\\topic_cluster_visualizer\\topicclustervisualizer.py\u001b[0m in \u001b[0;36m_train_corpus\u001b[1;34m(self, corpus, train_data, keywords)\u001b[0m\n\u001b[0;32m    114\u001b[0m         \u001b[0mmin_freq\u001b[0m \u001b[1;33m=\u001b[0m \u001b[1;36m3\u001b[0m\u001b[1;33m\u001b[0m\u001b[1;33m\u001b[0m\u001b[0m\n\u001b[0;32m    115\u001b[0m \u001b[1;33m\u001b[0m\u001b[0m\n\u001b[1;32m--> 116\u001b[1;33m         \u001b[0mtotal_abs_terms\u001b[0m \u001b[1;33m=\u001b[0m \u001b[1;33m[\u001b[0m\u001b[0mword\u001b[0m \u001b[1;32mfor\u001b[0m \u001b[0mwords\u001b[0m \u001b[1;32min\u001b[0m \u001b[0mcorpus\u001b[0m \u001b[1;32mif\u001b[0m \u001b[0mwords\u001b[0m \u001b[1;32mfor\u001b[0m \u001b[0mword\u001b[0m \u001b[1;32min\u001b[0m \u001b[0mwords\u001b[0m\u001b[1;33m]\u001b[0m\u001b[1;33m\u001b[0m\u001b[1;33m\u001b[0m\u001b[0m\n\u001b[0m\u001b[0;32m    117\u001b[0m         \u001b[0mabs_terms\u001b[0m \u001b[1;33m=\u001b[0m \u001b[1;33m[\u001b[0m\u001b[0mterm\u001b[0m \u001b[1;32mfor\u001b[0m \u001b[0mterm\u001b[0m\u001b[1;33m,\u001b[0m \u001b[0mfreq\u001b[0m \u001b[1;32min\u001b[0m \u001b[0mCounter\u001b[0m\u001b[1;33m(\u001b[0m\u001b[0mtotal_abs_terms\u001b[0m\u001b[1;33m)\u001b[0m\u001b[1;33m.\u001b[0m\u001b[0mitems\u001b[0m\u001b[1;33m(\u001b[0m\u001b[1;33m)\u001b[0m \u001b[1;32mif\u001b[0m \u001b[0mfreq\u001b[0m \u001b[1;33m>=\u001b[0m \u001b[0mmin_freq\u001b[0m\u001b[1;33m]\u001b[0m\u001b[1;33m\u001b[0m\u001b[1;33m\u001b[0m\u001b[0m\n\u001b[0;32m    118\u001b[0m \u001b[1;33m\u001b[0m\u001b[0m\n",
      "\u001b[1;32m~\\anaconda3\\envs\\0307\\lib\\site-packages\\topic_cluster_visualizer\\topicclustervisualizer.py\u001b[0m in \u001b[0;36m<listcomp>\u001b[1;34m(.0)\u001b[0m\n\u001b[0;32m    114\u001b[0m         \u001b[0mmin_freq\u001b[0m \u001b[1;33m=\u001b[0m \u001b[1;36m3\u001b[0m\u001b[1;33m\u001b[0m\u001b[1;33m\u001b[0m\u001b[0m\n\u001b[0;32m    115\u001b[0m \u001b[1;33m\u001b[0m\u001b[0m\n\u001b[1;32m--> 116\u001b[1;33m         \u001b[0mtotal_abs_terms\u001b[0m \u001b[1;33m=\u001b[0m \u001b[1;33m[\u001b[0m\u001b[0mword\u001b[0m \u001b[1;32mfor\u001b[0m \u001b[0mwords\u001b[0m \u001b[1;32min\u001b[0m \u001b[0mcorpus\u001b[0m \u001b[1;32mif\u001b[0m \u001b[0mwords\u001b[0m \u001b[1;32mfor\u001b[0m \u001b[0mword\u001b[0m \u001b[1;32min\u001b[0m \u001b[0mwords\u001b[0m\u001b[1;33m]\u001b[0m\u001b[1;33m\u001b[0m\u001b[1;33m\u001b[0m\u001b[0m\n\u001b[0m\u001b[0;32m    117\u001b[0m         \u001b[0mabs_terms\u001b[0m \u001b[1;33m=\u001b[0m \u001b[1;33m[\u001b[0m\u001b[0mterm\u001b[0m \u001b[1;32mfor\u001b[0m \u001b[0mterm\u001b[0m\u001b[1;33m,\u001b[0m \u001b[0mfreq\u001b[0m \u001b[1;32min\u001b[0m \u001b[0mCounter\u001b[0m\u001b[1;33m(\u001b[0m\u001b[0mtotal_abs_terms\u001b[0m\u001b[1;33m)\u001b[0m\u001b[1;33m.\u001b[0m\u001b[0mitems\u001b[0m\u001b[1;33m(\u001b[0m\u001b[1;33m)\u001b[0m \u001b[1;32mif\u001b[0m \u001b[0mfreq\u001b[0m \u001b[1;33m>=\u001b[0m \u001b[0mmin_freq\u001b[0m\u001b[1;33m]\u001b[0m\u001b[1;33m\u001b[0m\u001b[1;33m\u001b[0m\u001b[0m\n\u001b[0;32m    118\u001b[0m \u001b[1;33m\u001b[0m\u001b[0m\n",
      "\u001b[1;31mTypeError\u001b[0m: 'float' object is not iterable"
     ]
    }
   ],
   "source": [
    "tcv = TopicClusterVisualizer(data)\n",
    "\n",
    "tcv.preprocess(titles, keywords, True)b"
   ]
  },
  {
   "cell_type": "code",
   "execution_count": 114,
   "id": "c053feb0-0f40-4ab1-b858-bea9c3c2bb83",
   "metadata": {},
   "outputs": [],
   "source": [
    "\n",
    "train_data = titles\n",
    "\n",
    "corpus = pd.Series(data).dropna().map(lambda x: tcv._get_terms(x)).dropna().str.split(\",\")\n"
   ]
  },
  {
   "cell_type": "code",
   "execution_count": 116,
   "id": "14f989e5-e2fd-4cd0-98b1-db93330bcced",
   "metadata": {},
   "outputs": [],
   "source": [
    "from gensim.models import Word2Vec, KeyedVectors\n",
    "\n",
    "near_term_topn_val = 10\n",
    "\n",
    "corpus_4_train = [lst.split(\",\") for lst in train_data if lst]"
   ]
  },
  {
   "cell_type": "code",
   "execution_count": 119,
   "id": "3fa1c27b-9371-47ea-9b80-9189f811cd5a",
   "metadata": {},
   "outputs": [],
   "source": [
    "model = Word2Vec(sentences=corpus_4_train, \n",
    "\n",
    "                vector_size=256,\n",
    "                window=3,\n",
    "                min_count=1,\n",
    "                workers=4, \n",
    "                sg=1, \n",
    "                negative=20,\n",
    "\n",
    "                epochs=1)"
   ]
  },
  {
   "cell_type": "code",
   "execution_count": 166,
   "id": "42884e9f-54bb-4633-b77b-eed6a0cca35f",
   "metadata": {},
   "outputs": [],
   "source": [
    "def nearest_terms_func(term, near_term_topn):\n",
    "    if term in model.wv.key_to_index.keys(): \n",
    "        return [x[0] for x in model.wv.most_similar(term, topn=near_term_topn)]\n",
    "    return []"
   ]
  },
  {
   "cell_type": "code",
   "execution_count": 167,
   "id": "5b37e50b-230a-4fbc-94c9-f041739a01e3",
   "metadata": {},
   "outputs": [],
   "source": [
    "from collections import Counter"
   ]
  },
  {
   "cell_type": "code",
   "execution_count": 175,
   "id": "20201ced-f898-4bee-90b6-66344010ab92",
   "metadata": {},
   "outputs": [],
   "source": [
    "min_freq = 3\n",
    "\n",
    "total_abs_terms = [word for words in corpus.dropna() if words for word in words]\n",
    "abs_terms = [term for term, freq in Counter(total_abs_terms).items() if freq >= min_freq]"
   ]
  },
  {
   "cell_type": "code",
   "execution_count": 176,
   "id": "1c5fca72-2899-472a-9027-15d6c3653000",
   "metadata": {},
   "outputs": [],
   "source": [
    "total_kwd_terms = [word for words in keywords.values if words for word in words.split(\",\")]\n",
    "kwd_terms = [term for term, freq in Counter(total_kwd_terms).items() if freq >= min_freq]"
   ]
  },
  {
   "cell_type": "code",
   "execution_count": 177,
   "id": "1664c751-8b85-4041-8204-fe18f15ef574",
   "metadata": {},
   "outputs": [],
   "source": [
    "nearest_terms = set()\n",
    "for term in kwd_terms:\n",
    "    terms = nearest_terms_func(term, near_term_topn_val)\n",
    "    if terms:\n",
    "        nearest_terms.update(terms)"
   ]
  },
  {
   "cell_type": "code",
   "execution_count": 178,
   "id": "38f4ee7d-7c61-4416-a288-403daed0cd0c",
   "metadata": {},
   "outputs": [],
   "source": [
    "# 키워드 기반으로, word2vec 에서 단어로 선정된 애들 중에서 각 키워드들이랑 가까운 단어만 엄선해서 얘들로 새로운 앱스트랙 재료 (vocab3) \n",
    "# 만들고 각 앱스트랙의 tokened 단어들 중 이 vocab3에 들어있을 경우에만 생존시킨다\n",
    "\n",
    "terms = set(abs_terms) & set(nearest_terms)\n",
    "vocab_set = set(terms)"
   ]
  },
  {
   "cell_type": "code",
   "execution_count": 190,
   "id": "fbde77e9-c444-4b94-98c8-c8dea5cae3e4",
   "metadata": {},
   "outputs": [
    {
     "data": {
      "text/plain": [
       "3312"
      ]
     },
     "execution_count": 190,
     "metadata": {},
     "output_type": "execute_result"
    }
   ],
   "source": [
    "from itertools import chain\n",
    "\n",
    "len(set(i for i in chain(*list(trained_corpus))))"
   ]
  },
  {
   "cell_type": "code",
   "execution_count": 180,
   "id": "1f33ab50-14d0-42e6-9a0d-a6f26a5db280",
   "metadata": {},
   "outputs": [],
   "source": [
    "trained_corpus = corpus.dropna().map(lambda x: set(x) & vocab_set).map(lambda x: list(x))"
   ]
  },
  {
   "cell_type": "code",
   "execution_count": 181,
   "id": "aedebbd4-8eb8-4db8-a47d-5a412c9d4df0",
   "metadata": {},
   "outputs": [],
   "source": [
    "tcv.corpus = trained_corpus"
   ]
  },
  {
   "cell_type": "code",
   "execution_count": 184,
   "id": "b875dc04-9ac2-4944-9b39-89e5f3030492",
   "metadata": {},
   "outputs": [],
   "source": [
    "temp4 = tcv.corpus[:]\n",
    "pd.DataFrame(list(temp4)).to_csv(\"temp2.csv\", sep=\" \", header=False, index=False)"
   ]
  },
  {
   "cell_type": "markdown",
   "id": "411c1bf7-3bc6-4873-a15e-bc1eed8a63f2",
   "metadata": {},
   "source": [
    " "
   ]
  },
  {
   "cell_type": "markdown",
   "id": "f3ff8a4a-6fab-4c8d-b599-0be8b7ca61e4",
   "metadata": {},
   "source": [
    " "
   ]
  },
  {
   "cell_type": "markdown",
   "id": "7605680d-63a1-4234-ae47-5670a9df47d0",
   "metadata": {},
   "source": [
    " "
   ]
  },
  {
   "cell_type": "markdown",
   "id": "945873e8-8265-4a9f-9d16-9d95e4c04a63",
   "metadata": {},
   "source": [
    " "
   ]
  },
  {
   "cell_type": "markdown",
   "id": "140af51f-21f6-4269-9c0b-839faee74702",
   "metadata": {},
   "source": [
    " "
   ]
  },
  {
   "cell_type": "markdown",
   "id": "7f962df6-9ebb-4050-b100-ef6cccd0913d",
   "metadata": {},
   "source": [
    " "
   ]
  },
  {
   "cell_type": "code",
   "execution_count": 191,
   "id": "3e7fa5b3-cee4-4c18-8729-0b45c80203ff",
   "metadata": {},
   "outputs": [],
   "source": [
    "pwz = pd.read_csv(\"k20.pw_z2\", sep=' ', header=None).iloc[:,:-1] #각 주제에서의 단어출현확률\n",
    "pz = pd.read_csv(\"k20.pz2\", sep=' ', header=None).iloc[:,:-1] #각 주제의 출현 확률\n",
    "pzd = pd.read_csv(\"k20.pz_d2\", sep=' ', header=None).iloc[:,:-1] #각 글줄에서의 주제확률농도?"
   ]
  },
  {
   "cell_type": "code",
   "execution_count": 192,
   "id": "519177b5-590e-4c32-baee-dedb7d6cf1af",
   "metadata": {},
   "outputs": [],
   "source": [
    "voca = np.array(pd.read_csv(\"voca2.txt\",  sep='\\t', header=None).iloc[:,1]) #각 주제에서의 단어출현확률\n",
    "maxprob = np.max(pwz, axis=1)"
   ]
  },
  {
   "cell_type": "markdown",
   "id": "9bf54ac0-7aff-4321-a46a-282256438c47",
   "metadata": {},
   "source": [
    " \n"
   ]
  },
  {
   "cell_type": "markdown",
   "id": "066c5546-8bf9-413b-b6a5-040928d749e5",
   "metadata": {},
   "source": [
    " \n"
   ]
  },
  {
   "cell_type": "markdown",
   "id": "edda6d17-4a07-4250-a171-8c661890a0d4",
   "metadata": {},
   "source": [
    " \n"
   ]
  },
  {
   "cell_type": "markdown",
   "id": "6102bfc6-6709-4d4b-9bc6-c8c25822b5ce",
   "metadata": {},
   "source": [
    " \n"
   ]
  },
  {
   "cell_type": "markdown",
   "id": "b6b45a9c-0120-476a-9b55-562f49efa7ff",
   "metadata": {},
   "source": [
    " \n"
   ]
  },
  {
   "cell_type": "markdown",
   "id": "84660c54-ee08-4764-bbf2-3971241bac4f",
   "metadata": {},
   "source": [
    " \n"
   ]
  },
  {
   "cell_type": "markdown",
   "id": "df68eba9-615c-4d0d-829c-aa3375414a0c",
   "metadata": {},
   "source": [
    " \n"
   ]
  },
  {
   "cell_type": "markdown",
   "id": "195b66c5-7d04-4dfe-bef6-1178000d479d",
   "metadata": {},
   "source": [
    " \n"
   ]
  },
  {
   "cell_type": "markdown",
   "id": "b72630a0-b19c-400f-b328-719a9a93acc2",
   "metadata": {},
   "source": [
    " \n"
   ]
  },
  {
   "cell_type": "markdown",
   "id": "12d70d87-7cef-4675-b652-f79a7421e170",
   "metadata": {},
   "source": [
    " \n"
   ]
  },
  {
   "cell_type": "markdown",
   "id": "bcaee4c6-b499-4097-9b56-ffea485a177b",
   "metadata": {},
   "source": [
    " \n"
   ]
  },
  {
   "cell_type": "markdown",
   "id": "f0dbd5c0-4d10-4fb6-ad21-b88a43bf0106",
   "metadata": {},
   "source": [
    " \n"
   ]
  },
  {
   "cell_type": "markdown",
   "id": "b0e6fc22-9915-48d7-978f-9efc86e5f2eb",
   "metadata": {},
   "source": [
    " \n"
   ]
  },
  {
   "cell_type": "markdown",
   "id": "561764af-c1e6-49ce-a1cc-0be788000bc6",
   "metadata": {},
   "source": [
    " \n"
   ]
  },
  {
   "cell_type": "markdown",
   "id": "cc986d5d-0e7d-4b1f-8027-9045b3fd424b",
   "metadata": {},
   "source": [
    " \n"
   ]
  },
  {
   "cell_type": "markdown",
   "id": "1d70a57d-d00e-4804-b67e-8411c1197fab",
   "metadata": {},
   "source": [
    " \n"
   ]
  },
  {
   "cell_type": "code",
   "execution_count": 197,
   "id": "e4140f4c-63fe-4093-ad9b-d0c772ac2cad",
   "metadata": {},
   "outputs": [],
   "source": [
    "num_percentage2 = 21,\n",
    "        \n",
    "ndim2 = 2\n",
    "niter2 = 5000\n",
    "nburn2 = 0\n",
    "nthin2 = 1\n",
    "nprint2 = 0\n",
    "\n",
    "jump_beta2 = 0.28\n",
    "jump_theta2 = 1.0\n",
    "jump_gamma2 = 0.01\n",
    "jump_z2 = 0.06\n",
    "jump_w2 = 0.06\n",
    "pr_mean_beta2 = 0\n",
    "pr_sd_beta2 = 1\n",
    "pr_a_th_sigma2 = 0.001\n",
    "pr_b_th_sigma2 = 0.001\n",
    "pr_mean_theta2 = 0\n",
    "pr_a_sigma2 = 0.001\n",
    "pr_b_sigma2 = 0.001\n",
    "pr_mean_gamma2 = 1.0\n",
    "pr_sd_gamma2 = 1.0\n",
    "\n",
    "missing2 = 99"
   ]
  },
  {
   "cell_type": "code",
   "execution_count": 194,
   "id": "41adcf8b-1e80-413d-b5a8-547377056098",
   "metadata": {},
   "outputs": [],
   "source": [
    "# for each in lsirm[8]:\n",
    "#     print(each)\n",
    "\n",
    "# #lsirm[0][\"map\"]"
   ]
  },
  {
   "cell_type": "code",
   "execution_count": 198,
   "id": "19ec640b-aa1b-44c1-9c94-f14bc170e664",
   "metadata": {},
   "outputs": [
    {
     "name": "stdout",
     "output_type": "stream",
     "text": [
      "\n"
     ]
    },
    {
     "data": {
      "application/vnd.jupyter.widget-view+json": {
       "model_id": "5e6ebf6fc4034c95a754eeaa65d40272",
       "version_major": 2,
       "version_minor": 0
      },
      "text/plain": [
       "LSIRM per perc:   0%|          | 0/20 [00:00<?, ?it/s]"
      ]
     },
     "metadata": {},
     "output_type": "display_data"
    },
    {
     "name": "stdout",
     "output_type": "stream",
     "text": [
      "\n",
      "\n",
      "\n",
      "\n",
      "\n",
      "\n",
      "\n",
      "\n",
      "\n",
      "\n",
      "\n",
      "\n",
      "\n",
      "\n",
      "\n",
      "\n",
      "\n",
      "\n",
      "\n",
      "\n"
     ]
    }
   ],
   "source": [
    "percentage_range, lsirm = tcv._LSIRM(phiwz = np.array(pwz.transpose()), \n",
    "                            dictionary = voca, \n",
    "                            word_maxprob = maxprob,\n",
    "                            \n",
    "                            num_percentage = [i for i in range(40,60)],\n",
    "                            ndim = ndim2, \n",
    "                            niter = niter2, \n",
    "                            nburn = nburn2, \n",
    "                            nthin = nthin2, \n",
    "                            nprint = nprint2,\n",
    "                            \n",
    "                            jump_beta = jump_beta2,\n",
    "                            jump_theta = jump_theta2,\n",
    "                            jump_gamma = jump_gamma2,\n",
    "                            jump_z = jump_z2,\n",
    "                            jump_w = jump_w2,            \n",
    "                            \n",
    "                            pr_mean_beta = pr_mean_beta2,\n",
    "                            pr_sd_beta = pr_sd_beta2,\n",
    "                            pr_a_th_sigma = pr_a_th_sigma2,\n",
    "                            pr_b_th_sigma = pr_b_th_sigma2,\n",
    "                            pr_mean_theta = pr_mean_theta2,\n",
    "                            pr_a_sigma = pr_a_sigma2,\n",
    "                            pr_b_sigma = pr_b_sigma2,\n",
    "                            pr_mean_gamma = pr_mean_gamma2,\n",
    "                            pr_sd_gamma = pr_sd_gamma2,\n",
    "                            \n",
    "                            missing = missing2) "
   ]
  },
  {
   "cell_type": "code",
   "execution_count": 199,
   "id": "8566dc6a-3f0b-46f9-88a3-8b522e2a06ff",
   "metadata": {},
   "outputs": [
    {
     "name": "stdout",
     "output_type": "stream",
     "text": [
      "\n",
      "current Matrix under procrustes within: 1/20\n"
     ]
    },
    {
     "data": {
      "application/vnd.jupyter.widget-view+json": {
       "model_id": "cad5b326600c4159a00906b207465ed9",
       "version_major": 2,
       "version_minor": 0
      },
      "text/plain": [
       "Procrustes within:   0%|          | 0/5000 [00:00<?, ?it/s]"
      ]
     },
     "metadata": {},
     "output_type": "display_data"
    },
    {
     "data": {
      "application/vnd.jupyter.widget-view+json": {
       "model_id": "479fe51af47441e091fb59a6226e4614",
       "version_major": 2,
       "version_minor": 0
      },
      "text/plain": [
       "derive estimated w:   0%|          | 0/7 [00:00<?, ?it/s]"
      ]
     },
     "metadata": {},
     "output_type": "display_data"
    },
    {
     "data": {
      "application/vnd.jupyter.widget-view+json": {
       "model_id": "5853cfb7f8264ddda3cf615660a5d84b",
       "version_major": 2,
       "version_minor": 0
      },
      "text/plain": [
       "derive estimated z:   0%|          | 0/20 [00:00<?, ?it/s]"
      ]
     },
     "metadata": {},
     "output_type": "display_data"
    },
    {
     "name": "stdout",
     "output_type": "stream",
     "text": [
      "\n",
      "current Matrix under procrustes within: 2/20\n"
     ]
    },
    {
     "data": {
      "application/vnd.jupyter.widget-view+json": {
       "model_id": "5fffb6d0bd614a459b2e0cfd2d1fdf12",
       "version_major": 2,
       "version_minor": 0
      },
      "text/plain": [
       "Procrustes within:   0%|          | 0/5000 [00:00<?, ?it/s]"
      ]
     },
     "metadata": {},
     "output_type": "display_data"
    },
    {
     "data": {
      "application/vnd.jupyter.widget-view+json": {
       "model_id": "76e4e2b93bf2497a97cb74a5ab64b1f9",
       "version_major": 2,
       "version_minor": 0
      },
      "text/plain": [
       "derive estimated w:   0%|          | 0/7 [00:00<?, ?it/s]"
      ]
     },
     "metadata": {},
     "output_type": "display_data"
    },
    {
     "data": {
      "application/vnd.jupyter.widget-view+json": {
       "model_id": "937b5eebd5d5416ebc14e3109b9c1a45",
       "version_major": 2,
       "version_minor": 0
      },
      "text/plain": [
       "derive estimated z:   0%|          | 0/20 [00:00<?, ?it/s]"
      ]
     },
     "metadata": {},
     "output_type": "display_data"
    },
    {
     "name": "stdout",
     "output_type": "stream",
     "text": [
      "\n",
      "current Matrix under procrustes within: 3/20\n"
     ]
    },
    {
     "data": {
      "application/vnd.jupyter.widget-view+json": {
       "model_id": "a92652f2f0594cad8ca88704796f97d5",
       "version_major": 2,
       "version_minor": 0
      },
      "text/plain": [
       "Procrustes within:   0%|          | 0/5000 [00:00<?, ?it/s]"
      ]
     },
     "metadata": {},
     "output_type": "display_data"
    },
    {
     "data": {
      "application/vnd.jupyter.widget-view+json": {
       "model_id": "f222304af8d2415395758a6c0d8da3b8",
       "version_major": 2,
       "version_minor": 0
      },
      "text/plain": [
       "derive estimated w:   0%|          | 0/7 [00:00<?, ?it/s]"
      ]
     },
     "metadata": {},
     "output_type": "display_data"
    },
    {
     "data": {
      "application/vnd.jupyter.widget-view+json": {
       "model_id": "da9cfef63ef74c76bca9cc0844ddb068",
       "version_major": 2,
       "version_minor": 0
      },
      "text/plain": [
       "derive estimated z:   0%|          | 0/20 [00:00<?, ?it/s]"
      ]
     },
     "metadata": {},
     "output_type": "display_data"
    },
    {
     "name": "stdout",
     "output_type": "stream",
     "text": [
      "\n",
      "current Matrix under procrustes within: 4/20\n"
     ]
    },
    {
     "data": {
      "application/vnd.jupyter.widget-view+json": {
       "model_id": "0c2b4268ab8e4472af61d4114a51e354",
       "version_major": 2,
       "version_minor": 0
      },
      "text/plain": [
       "Procrustes within:   0%|          | 0/5000 [00:00<?, ?it/s]"
      ]
     },
     "metadata": {},
     "output_type": "display_data"
    },
    {
     "data": {
      "application/vnd.jupyter.widget-view+json": {
       "model_id": "534d13afd4fc4bdeaa2bfc73c06226fd",
       "version_major": 2,
       "version_minor": 0
      },
      "text/plain": [
       "derive estimated w:   0%|          | 0/8 [00:00<?, ?it/s]"
      ]
     },
     "metadata": {},
     "output_type": "display_data"
    },
    {
     "data": {
      "application/vnd.jupyter.widget-view+json": {
       "model_id": "ba1c23fb1ad547699b09c6bc6b4f982b",
       "version_major": 2,
       "version_minor": 0
      },
      "text/plain": [
       "derive estimated z:   0%|          | 0/20 [00:00<?, ?it/s]"
      ]
     },
     "metadata": {},
     "output_type": "display_data"
    },
    {
     "name": "stdout",
     "output_type": "stream",
     "text": [
      "\n",
      "current Matrix under procrustes within: 5/20\n"
     ]
    },
    {
     "data": {
      "application/vnd.jupyter.widget-view+json": {
       "model_id": "e7da6a502a5b4c38aca0e6f73996f646",
       "version_major": 2,
       "version_minor": 0
      },
      "text/plain": [
       "Procrustes within:   0%|          | 0/5000 [00:00<?, ?it/s]"
      ]
     },
     "metadata": {},
     "output_type": "display_data"
    },
    {
     "data": {
      "application/vnd.jupyter.widget-view+json": {
       "model_id": "d78b796b1589496786555feccf5a3e10",
       "version_major": 2,
       "version_minor": 0
      },
      "text/plain": [
       "derive estimated w:   0%|          | 0/8 [00:00<?, ?it/s]"
      ]
     },
     "metadata": {},
     "output_type": "display_data"
    },
    {
     "data": {
      "application/vnd.jupyter.widget-view+json": {
       "model_id": "b0da5e79a03b467a9f48516e7d6a0069",
       "version_major": 2,
       "version_minor": 0
      },
      "text/plain": [
       "derive estimated z:   0%|          | 0/20 [00:00<?, ?it/s]"
      ]
     },
     "metadata": {},
     "output_type": "display_data"
    },
    {
     "name": "stdout",
     "output_type": "stream",
     "text": [
      "\n",
      "current Matrix under procrustes within: 6/20\n"
     ]
    },
    {
     "data": {
      "application/vnd.jupyter.widget-view+json": {
       "model_id": "2d730a887e5c4edbb59064a5a2ae752a",
       "version_major": 2,
       "version_minor": 0
      },
      "text/plain": [
       "Procrustes within:   0%|          | 0/5000 [00:00<?, ?it/s]"
      ]
     },
     "metadata": {},
     "output_type": "display_data"
    },
    {
     "data": {
      "application/vnd.jupyter.widget-view+json": {
       "model_id": "c53d1aff58834a56bd5bea565682dec1",
       "version_major": 2,
       "version_minor": 0
      },
      "text/plain": [
       "derive estimated w:   0%|          | 0/8 [00:00<?, ?it/s]"
      ]
     },
     "metadata": {},
     "output_type": "display_data"
    },
    {
     "data": {
      "application/vnd.jupyter.widget-view+json": {
       "model_id": "60256b980b4042e9b3663e7faf6a9cbe",
       "version_major": 2,
       "version_minor": 0
      },
      "text/plain": [
       "derive estimated z:   0%|          | 0/20 [00:00<?, ?it/s]"
      ]
     },
     "metadata": {},
     "output_type": "display_data"
    },
    {
     "name": "stdout",
     "output_type": "stream",
     "text": [
      "\n",
      "current Matrix under procrustes within: 7/20\n"
     ]
    },
    {
     "data": {
      "application/vnd.jupyter.widget-view+json": {
       "model_id": "2eb3271c36ed454db061420cba2a8074",
       "version_major": 2,
       "version_minor": 0
      },
      "text/plain": [
       "Procrustes within:   0%|          | 0/5000 [00:00<?, ?it/s]"
      ]
     },
     "metadata": {},
     "output_type": "display_data"
    },
    {
     "data": {
      "application/vnd.jupyter.widget-view+json": {
       "model_id": "10423cbd731149bebe39247bf736a300",
       "version_major": 2,
       "version_minor": 0
      },
      "text/plain": [
       "derive estimated w:   0%|          | 0/8 [00:00<?, ?it/s]"
      ]
     },
     "metadata": {},
     "output_type": "display_data"
    },
    {
     "data": {
      "application/vnd.jupyter.widget-view+json": {
       "model_id": "f2c64493af8a41fc933dad7b2b92efb7",
       "version_major": 2,
       "version_minor": 0
      },
      "text/plain": [
       "derive estimated z:   0%|          | 0/20 [00:00<?, ?it/s]"
      ]
     },
     "metadata": {},
     "output_type": "display_data"
    },
    {
     "name": "stdout",
     "output_type": "stream",
     "text": [
      "\n",
      "current Matrix under procrustes within: 8/20\n"
     ]
    },
    {
     "data": {
      "application/vnd.jupyter.widget-view+json": {
       "model_id": "c42b0ce41ef24ffa8b9ddbfb144cfae1",
       "version_major": 2,
       "version_minor": 0
      },
      "text/plain": [
       "Procrustes within:   0%|          | 0/5000 [00:00<?, ?it/s]"
      ]
     },
     "metadata": {},
     "output_type": "display_data"
    },
    {
     "data": {
      "application/vnd.jupyter.widget-view+json": {
       "model_id": "148ea27ac6d84ea8b71e7419141ae014",
       "version_major": 2,
       "version_minor": 0
      },
      "text/plain": [
       "derive estimated w:   0%|          | 0/8 [00:00<?, ?it/s]"
      ]
     },
     "metadata": {},
     "output_type": "display_data"
    },
    {
     "data": {
      "application/vnd.jupyter.widget-view+json": {
       "model_id": "e429c4664129483284fce781a571a132",
       "version_major": 2,
       "version_minor": 0
      },
      "text/plain": [
       "derive estimated z:   0%|          | 0/20 [00:00<?, ?it/s]"
      ]
     },
     "metadata": {},
     "output_type": "display_data"
    },
    {
     "name": "stdout",
     "output_type": "stream",
     "text": [
      "\n",
      "current Matrix under procrustes within: 9/20\n"
     ]
    },
    {
     "data": {
      "application/vnd.jupyter.widget-view+json": {
       "model_id": "4b53cb1838564aa2b993a80a958034ac",
       "version_major": 2,
       "version_minor": 0
      },
      "text/plain": [
       "Procrustes within:   0%|          | 0/5000 [00:00<?, ?it/s]"
      ]
     },
     "metadata": {},
     "output_type": "display_data"
    },
    {
     "data": {
      "application/vnd.jupyter.widget-view+json": {
       "model_id": "07939fb60ec34d429e628c1dc61e06f2",
       "version_major": 2,
       "version_minor": 0
      },
      "text/plain": [
       "derive estimated w:   0%|          | 0/9 [00:00<?, ?it/s]"
      ]
     },
     "metadata": {},
     "output_type": "display_data"
    },
    {
     "data": {
      "application/vnd.jupyter.widget-view+json": {
       "model_id": "c3df3113c90c4583a975c3d433d4c43a",
       "version_major": 2,
       "version_minor": 0
      },
      "text/plain": [
       "derive estimated z:   0%|          | 0/20 [00:00<?, ?it/s]"
      ]
     },
     "metadata": {},
     "output_type": "display_data"
    },
    {
     "name": "stdout",
     "output_type": "stream",
     "text": [
      "\n",
      "current Matrix under procrustes within: 10/20\n"
     ]
    },
    {
     "data": {
      "application/vnd.jupyter.widget-view+json": {
       "model_id": "8a63ffd32efa45a8bf6440f189f5e291",
       "version_major": 2,
       "version_minor": 0
      },
      "text/plain": [
       "Procrustes within:   0%|          | 0/5000 [00:00<?, ?it/s]"
      ]
     },
     "metadata": {},
     "output_type": "display_data"
    },
    {
     "data": {
      "application/vnd.jupyter.widget-view+json": {
       "model_id": "985d4dc75f0b40078979a4c1a6f5105e",
       "version_major": 2,
       "version_minor": 0
      },
      "text/plain": [
       "derive estimated w:   0%|          | 0/9 [00:00<?, ?it/s]"
      ]
     },
     "metadata": {},
     "output_type": "display_data"
    },
    {
     "data": {
      "application/vnd.jupyter.widget-view+json": {
       "model_id": "ed7990c89bc6455c86950a4abf6acc1d",
       "version_major": 2,
       "version_minor": 0
      },
      "text/plain": [
       "derive estimated z:   0%|          | 0/20 [00:00<?, ?it/s]"
      ]
     },
     "metadata": {},
     "output_type": "display_data"
    },
    {
     "name": "stdout",
     "output_type": "stream",
     "text": [
      "\n",
      "current Matrix under procrustes within: 11/20\n"
     ]
    },
    {
     "data": {
      "application/vnd.jupyter.widget-view+json": {
       "model_id": "fdd30b5eb48d48e1ba9e6d481c99d404",
       "version_major": 2,
       "version_minor": 0
      },
      "text/plain": [
       "Procrustes within:   0%|          | 0/5000 [00:00<?, ?it/s]"
      ]
     },
     "metadata": {},
     "output_type": "display_data"
    },
    {
     "data": {
      "application/vnd.jupyter.widget-view+json": {
       "model_id": "8e953894bdf14677958907ffac6168c5",
       "version_major": 2,
       "version_minor": 0
      },
      "text/plain": [
       "derive estimated w:   0%|          | 0/9 [00:00<?, ?it/s]"
      ]
     },
     "metadata": {},
     "output_type": "display_data"
    },
    {
     "data": {
      "application/vnd.jupyter.widget-view+json": {
       "model_id": "3973d0a8c8fe443788ac9a5b74d5b6e7",
       "version_major": 2,
       "version_minor": 0
      },
      "text/plain": [
       "derive estimated z:   0%|          | 0/20 [00:00<?, ?it/s]"
      ]
     },
     "metadata": {},
     "output_type": "display_data"
    },
    {
     "name": "stdout",
     "output_type": "stream",
     "text": [
      "\n",
      "current Matrix under procrustes within: 12/20\n"
     ]
    },
    {
     "data": {
      "application/vnd.jupyter.widget-view+json": {
       "model_id": "12aed1ff735041fc97cff6ca931ab6a0",
       "version_major": 2,
       "version_minor": 0
      },
      "text/plain": [
       "Procrustes within:   0%|          | 0/5000 [00:00<?, ?it/s]"
      ]
     },
     "metadata": {},
     "output_type": "display_data"
    },
    {
     "data": {
      "application/vnd.jupyter.widget-view+json": {
       "model_id": "8053863bacd548548abc5afdf167b25f",
       "version_major": 2,
       "version_minor": 0
      },
      "text/plain": [
       "derive estimated w:   0%|          | 0/9 [00:00<?, ?it/s]"
      ]
     },
     "metadata": {},
     "output_type": "display_data"
    },
    {
     "data": {
      "application/vnd.jupyter.widget-view+json": {
       "model_id": "fdac842fe5ee4b37a8a7f3b9c9258286",
       "version_major": 2,
       "version_minor": 0
      },
      "text/plain": [
       "derive estimated z:   0%|          | 0/20 [00:00<?, ?it/s]"
      ]
     },
     "metadata": {},
     "output_type": "display_data"
    },
    {
     "name": "stdout",
     "output_type": "stream",
     "text": [
      "\n",
      "current Matrix under procrustes within: 13/20\n"
     ]
    },
    {
     "data": {
      "application/vnd.jupyter.widget-view+json": {
       "model_id": "97ef4cf6b9194cae956fc468c8703122",
       "version_major": 2,
       "version_minor": 0
      },
      "text/plain": [
       "Procrustes within:   0%|          | 0/5000 [00:00<?, ?it/s]"
      ]
     },
     "metadata": {},
     "output_type": "display_data"
    },
    {
     "data": {
      "application/vnd.jupyter.widget-view+json": {
       "model_id": "064bac3de70c444f982e86777ed1c9a5",
       "version_major": 2,
       "version_minor": 0
      },
      "text/plain": [
       "derive estimated w:   0%|          | 0/9 [00:00<?, ?it/s]"
      ]
     },
     "metadata": {},
     "output_type": "display_data"
    },
    {
     "data": {
      "application/vnd.jupyter.widget-view+json": {
       "model_id": "7052fa5868314adc854e272abbc67856",
       "version_major": 2,
       "version_minor": 0
      },
      "text/plain": [
       "derive estimated z:   0%|          | 0/20 [00:00<?, ?it/s]"
      ]
     },
     "metadata": {},
     "output_type": "display_data"
    },
    {
     "name": "stdout",
     "output_type": "stream",
     "text": [
      "\n",
      "current Matrix under procrustes within: 14/20\n"
     ]
    },
    {
     "data": {
      "application/vnd.jupyter.widget-view+json": {
       "model_id": "1e5f0e0bf65d416a9b6dd352ae8b7634",
       "version_major": 2,
       "version_minor": 0
      },
      "text/plain": [
       "Procrustes within:   0%|          | 0/5000 [00:00<?, ?it/s]"
      ]
     },
     "metadata": {},
     "output_type": "display_data"
    },
    {
     "data": {
      "application/vnd.jupyter.widget-view+json": {
       "model_id": "ad13fbec707f468d9744819d103ce11f",
       "version_major": 2,
       "version_minor": 0
      },
      "text/plain": [
       "derive estimated w:   0%|          | 0/10 [00:00<?, ?it/s]"
      ]
     },
     "metadata": {},
     "output_type": "display_data"
    },
    {
     "data": {
      "application/vnd.jupyter.widget-view+json": {
       "model_id": "167e6dee158344d19883f5944af2a625",
       "version_major": 2,
       "version_minor": 0
      },
      "text/plain": [
       "derive estimated z:   0%|          | 0/20 [00:00<?, ?it/s]"
      ]
     },
     "metadata": {},
     "output_type": "display_data"
    },
    {
     "name": "stdout",
     "output_type": "stream",
     "text": [
      "\n",
      "current Matrix under procrustes within: 15/20\n"
     ]
    },
    {
     "data": {
      "application/vnd.jupyter.widget-view+json": {
       "model_id": "5a608f00b37646d7a24347878d0a5836",
       "version_major": 2,
       "version_minor": 0
      },
      "text/plain": [
       "Procrustes within:   0%|          | 0/5000 [00:00<?, ?it/s]"
      ]
     },
     "metadata": {},
     "output_type": "display_data"
    },
    {
     "data": {
      "application/vnd.jupyter.widget-view+json": {
       "model_id": "203328f7418f45938572a54411a84c0a",
       "version_major": 2,
       "version_minor": 0
      },
      "text/plain": [
       "derive estimated w:   0%|          | 0/10 [00:00<?, ?it/s]"
      ]
     },
     "metadata": {},
     "output_type": "display_data"
    },
    {
     "data": {
      "application/vnd.jupyter.widget-view+json": {
       "model_id": "f9876ae4fdbc4ff2857e01fb5ef2a5be",
       "version_major": 2,
       "version_minor": 0
      },
      "text/plain": [
       "derive estimated z:   0%|          | 0/20 [00:00<?, ?it/s]"
      ]
     },
     "metadata": {},
     "output_type": "display_data"
    },
    {
     "name": "stdout",
     "output_type": "stream",
     "text": [
      "\n",
      "current Matrix under procrustes within: 16/20\n"
     ]
    },
    {
     "data": {
      "application/vnd.jupyter.widget-view+json": {
       "model_id": "40d9e9e205c048c38df6c8770223f42a",
       "version_major": 2,
       "version_minor": 0
      },
      "text/plain": [
       "Procrustes within:   0%|          | 0/5000 [00:00<?, ?it/s]"
      ]
     },
     "metadata": {},
     "output_type": "display_data"
    },
    {
     "data": {
      "application/vnd.jupyter.widget-view+json": {
       "model_id": "bf44c7bd038b4fe09f151ea973e95846",
       "version_major": 2,
       "version_minor": 0
      },
      "text/plain": [
       "derive estimated w:   0%|          | 0/10 [00:00<?, ?it/s]"
      ]
     },
     "metadata": {},
     "output_type": "display_data"
    },
    {
     "data": {
      "application/vnd.jupyter.widget-view+json": {
       "model_id": "bc186f930bc9460eb1a5f4329a41662c",
       "version_major": 2,
       "version_minor": 0
      },
      "text/plain": [
       "derive estimated z:   0%|          | 0/20 [00:00<?, ?it/s]"
      ]
     },
     "metadata": {},
     "output_type": "display_data"
    },
    {
     "name": "stdout",
     "output_type": "stream",
     "text": [
      "\n",
      "current Matrix under procrustes within: 17/20\n"
     ]
    },
    {
     "data": {
      "application/vnd.jupyter.widget-view+json": {
       "model_id": "294e46738402461d806d84165f9def78",
       "version_major": 2,
       "version_minor": 0
      },
      "text/plain": [
       "Procrustes within:   0%|          | 0/5000 [00:00<?, ?it/s]"
      ]
     },
     "metadata": {},
     "output_type": "display_data"
    },
    {
     "data": {
      "application/vnd.jupyter.widget-view+json": {
       "model_id": "29c82c8d5242473a849164bfd680f5bf",
       "version_major": 2,
       "version_minor": 0
      },
      "text/plain": [
       "derive estimated w:   0%|          | 0/10 [00:00<?, ?it/s]"
      ]
     },
     "metadata": {},
     "output_type": "display_data"
    },
    {
     "data": {
      "application/vnd.jupyter.widget-view+json": {
       "model_id": "4e5d7f3d27cf4c3d9d2824e1cb093c86",
       "version_major": 2,
       "version_minor": 0
      },
      "text/plain": [
       "derive estimated z:   0%|          | 0/20 [00:00<?, ?it/s]"
      ]
     },
     "metadata": {},
     "output_type": "display_data"
    },
    {
     "name": "stdout",
     "output_type": "stream",
     "text": [
      "\n",
      "current Matrix under procrustes within: 18/20\n"
     ]
    },
    {
     "data": {
      "application/vnd.jupyter.widget-view+json": {
       "model_id": "7f9864df7e8f480eb85c8547e7be70e5",
       "version_major": 2,
       "version_minor": 0
      },
      "text/plain": [
       "Procrustes within:   0%|          | 0/5000 [00:00<?, ?it/s]"
      ]
     },
     "metadata": {},
     "output_type": "display_data"
    },
    {
     "data": {
      "application/vnd.jupyter.widget-view+json": {
       "model_id": "447ace67470b465cb3485c9ef203c11b",
       "version_major": 2,
       "version_minor": 0
      },
      "text/plain": [
       "derive estimated w:   0%|          | 0/10 [00:00<?, ?it/s]"
      ]
     },
     "metadata": {},
     "output_type": "display_data"
    },
    {
     "data": {
      "application/vnd.jupyter.widget-view+json": {
       "model_id": "e4401edd24e34df7b3eef878cf414e0f",
       "version_major": 2,
       "version_minor": 0
      },
      "text/plain": [
       "derive estimated z:   0%|          | 0/20 [00:00<?, ?it/s]"
      ]
     },
     "metadata": {},
     "output_type": "display_data"
    },
    {
     "name": "stdout",
     "output_type": "stream",
     "text": [
      "\n",
      "current Matrix under procrustes within: 19/20\n"
     ]
    },
    {
     "data": {
      "application/vnd.jupyter.widget-view+json": {
       "model_id": "2ec2b53c4e554cf3b3b35c3a51a3f1c8",
       "version_major": 2,
       "version_minor": 0
      },
      "text/plain": [
       "Procrustes within:   0%|          | 0/5000 [00:00<?, ?it/s]"
      ]
     },
     "metadata": {},
     "output_type": "display_data"
    },
    {
     "data": {
      "application/vnd.jupyter.widget-view+json": {
       "model_id": "7d8bd041d8f64209945e011f97b75294",
       "version_major": 2,
       "version_minor": 0
      },
      "text/plain": [
       "derive estimated w:   0%|          | 0/11 [00:00<?, ?it/s]"
      ]
     },
     "metadata": {},
     "output_type": "display_data"
    },
    {
     "data": {
      "application/vnd.jupyter.widget-view+json": {
       "model_id": "98fa954390f44904ac3c6ced85155b00",
       "version_major": 2,
       "version_minor": 0
      },
      "text/plain": [
       "derive estimated z:   0%|          | 0/20 [00:00<?, ?it/s]"
      ]
     },
     "metadata": {},
     "output_type": "display_data"
    },
    {
     "name": "stdout",
     "output_type": "stream",
     "text": [
      "\n",
      "current Matrix under procrustes within: 20/20\n"
     ]
    },
    {
     "data": {
      "application/vnd.jupyter.widget-view+json": {
       "model_id": "7820f3033ea541cd8a1fb39c2f5cb55f",
       "version_major": 2,
       "version_minor": 0
      },
      "text/plain": [
       "Procrustes within:   0%|          | 0/5000 [00:00<?, ?it/s]"
      ]
     },
     "metadata": {},
     "output_type": "display_data"
    },
    {
     "data": {
      "application/vnd.jupyter.widget-view+json": {
       "model_id": "20d1fefc0d584bc1984ea6b60f89c9b5",
       "version_major": 2,
       "version_minor": 0
      },
      "text/plain": [
       "derive estimated w:   0%|          | 0/11 [00:00<?, ?it/s]"
      ]
     },
     "metadata": {},
     "output_type": "display_data"
    },
    {
     "data": {
      "application/vnd.jupyter.widget-view+json": {
       "model_id": "e119fd3f8a5a45238234e13d5bc2ea81",
       "version_major": 2,
       "version_minor": 0
      },
      "text/plain": [
       "derive estimated z:   0%|          | 0/20 [00:00<?, ?it/s]"
      ]
     },
     "metadata": {},
     "output_type": "display_data"
    }
   ],
   "source": [
    "temp_proc2_zs = tcv._proc2(niter = niter2, \n",
    "                            nburn = nburn2, \n",
    "                            nthin = nthin2, \n",
    "                            ndim = ndim2, \n",
    "                            outputs = lsirm)\n"
   ]
  },
  {
   "cell_type": "code",
   "execution_count": 200,
   "id": "5ff909ef-98b2-4759-a21b-c8e8087166fe",
   "metadata": {},
   "outputs": [],
   "source": [
    "oblimin_proc2_zs = tcv._oblimin(proc2s = temp_proc2_zs[\"proc2_zs\"])\n",
    "\n",
    "tcv.iamax = temp_proc2_zs[\"iamax\"]\n",
    "tcv.amax = temp_proc2_zs[\"amax_data\"][\"z_estimate\"]\n",
    "tcv.amax_data = temp_proc2_zs[\"amax_data\"]\n",
    "tcv.oblimin_proc2_zs = oblimin_proc2_zs\n",
    "#tcv.data_topics = self.most_words_per_topic(temp_proc2_zs[\"amax_data\"])[:,0]\n",
    "tcv.percentile_range = percentage_range\n"
   ]
  },
  {
   "cell_type": "code",
   "execution_count": 202,
   "id": "7264f828-56cc-4e22-9f83-e4b88109a8ed",
   "metadata": {},
   "outputs": [],
   "source": [
    "# tcv.fit(niter1 = 3,\n",
    "#         num_topics1 = 20,\n",
    "#         alpha1 = 3,\n",
    "#         beta1 = 0.01,\n",
    "        \n",
    "#         num_percentage2 = 21,\n",
    "        \n",
    "#         ndim2 = 2, niter2 = 100, nburn2 = 0, nthin2 = 5,\n",
    "#         nprint2 = 0,\n",
    "        \n",
    "#         jump_beta2 = 0.28,\n",
    "#         jump_theta2 = 1.0,\n",
    "#         jump_gamma2 = 0.01,\n",
    "#         jump_z2 = 0.06,\n",
    "#         jump_w2 = 0.06,\n",
    "#         pr_mean_beta2 = 0,\n",
    "#         pr_sd_beta2 = 1,\n",
    "#         pr_a_th_sigma2 = 0.001,\n",
    "#         pr_b_th_sigma2 = 0.001,\n",
    "#         pr_mean_theta2 = 0,\n",
    "#         pr_a_sigma2 = 0.001,\n",
    "#         pr_b_sigma2 = 0.001,\n",
    "#         pr_mean_gamma2 = 1.0,\n",
    "#         pr_sd_gamma2 = 1.0,\n",
    "        \n",
    "#         missing2 = 99)"
   ]
  },
  {
   "cell_type": "code",
   "execution_count": 203,
   "id": "a6172720-844e-4459-921c-91ce3703c989",
   "metadata": {},
   "outputs": [],
   "source": [
    "plt = Plots()"
   ]
  },
  {
   "cell_type": "code",
   "execution_count": 204,
   "id": "efa666f3-0ebe-4dcf-8196-d20e62f22eaf",
   "metadata": {},
   "outputs": [],
   "source": [
    "savefile = tcv.oblimin_proc2_zs[:]"
   ]
  },
  {
   "cell_type": "code",
   "execution_count": 206,
   "id": "608cb9f2-8027-46a4-9f1d-5423c18dbfa0",
   "metadata": {},
   "outputs": [
    {
     "data": {
      "application/vnd.plotly.v1+json": {
       "config": {
        "plotlyServerURL": "https://plot.ly"
       },
       "data": [
        {
         "hovertemplate": "num=0<br>x=%{x}<br>y=%{y}<br>txt=%{text}<extra></extra>",
         "legendgroup": "0",
         "marker": {
          "color": "#636efa",
          "symbol": "circle"
         },
         "mode": "markers+text",
         "name": "0",
         "orientation": "v",
         "showlegend": true,
         "text": [
          40,
          41,
          42,
          43,
          44,
          45,
          46,
          47,
          48,
          49,
          50,
          51,
          52,
          53,
          54,
          55,
          56,
          57,
          58,
          59
         ],
         "textposition": "bottom right",
         "type": "scatter",
         "x": [
          0.5732647843429597,
          -0.28202341397012276,
          -0.23467756817966845,
          0.8085003318000323,
          -0.5214839319650537,
          0.1390243965617722,
          0.21372233197297535,
          0.3461906160933153,
          -0.07625182108993617,
          0.004699117703282962,
          -0.1307318815897724,
          0.5688059941619011,
          -0.09472327651866157,
          0.15637660720179603,
          0.22275687757739898,
          0.04997495776517715,
          -0.15303507728596644,
          0.25265622680627703,
          0.47468680716644096,
          -0.33345384064318234
         ],
         "xaxis": "x",
         "y": [
          0.04129063197529287,
          0.23876830287397294,
          0.20760949706028137,
          0.20111647900537427,
          -0.088171014554731,
          -0.11368482696442753,
          -0.16766966563769978,
          0.42406742156745886,
          0.4814802518884416,
          -0.14833133721574387,
          0.42425480558816203,
          0.05822038305086551,
          -0.40679646982345663,
          -0.07088310359826445,
          0.3813211191510589,
          0.022472471650655166,
          -0.20347216232607052,
          0.09348609797774048,
          -0.30405835732535413,
          -0.09020104396255528
         ],
         "yaxis": "y"
        },
        {
         "hovertemplate": "num=1<br>x=%{x}<br>y=%{y}<br>txt=%{text}<extra></extra>",
         "legendgroup": "1",
         "marker": {
          "color": "#EF553B",
          "symbol": "circle"
         },
         "mode": "markers+text",
         "name": "1",
         "orientation": "v",
         "showlegend": true,
         "text": [
          40,
          41,
          42,
          43,
          44,
          45,
          46,
          47,
          48,
          49,
          50,
          51,
          52,
          53,
          54,
          55,
          56,
          57,
          58,
          59
         ],
         "textposition": "bottom right",
         "type": "scatter",
         "x": [
          -0.3047441232546541,
          -0.2713310746987673,
          -0.42927089597708046,
          -0.17159188811005135,
          0.5460584404933829,
          0.30832903324732286,
          0.21543525239677377,
          -0.3615859763863268,
          -0.4210523088486851,
          0.2283101337635042,
          0.5144061764020476,
          0.04088775700097638,
          0.3535423406588663,
          0.5957874666281532,
          0.4009290197469646,
          0.13460246924112165,
          0.02844767321904907,
          -0.624669473349504,
          -0.18110576988215876,
          -0.3268988887034547
         ],
         "xaxis": "x",
         "y": [
          -0.11206143668914811,
          0.23708991747672187,
          0.6156521719371773,
          -0.731363206096288,
          -0.035298799368486955,
          0.42283004735334834,
          -0.0338404681524592,
          0.3003385987985584,
          -0.9758953867232689,
          0.15326501855070462,
          -0.21152001343240504,
          -0.5337370377548776,
          -0.11927836917254768,
          -0.19847886311969198,
          -0.048628551077999654,
          -0.14539099506942935,
          -0.10419256964761862,
          -0.024043931745583585,
          -0.40990238480696756,
          -0.026936949045676548
         ],
         "yaxis": "y"
        },
        {
         "hovertemplate": "num=2<br>x=%{x}<br>y=%{y}<br>txt=%{text}<extra></extra>",
         "legendgroup": "2",
         "marker": {
          "color": "#00cc96",
          "symbol": "circle"
         },
         "mode": "markers+text",
         "name": "2",
         "orientation": "v",
         "showlegend": true,
         "text": [
          40,
          41,
          42,
          43,
          44,
          45,
          46,
          47,
          48,
          49,
          50,
          51,
          52,
          53,
          54,
          55,
          56,
          57,
          58,
          59
         ],
         "textposition": "bottom right",
         "type": "scatter",
         "x": [
          -0.02657808924483271,
          0.17354152306448847,
          0.18476835172832157,
          -0.1856049656545584,
          0.3542002544641556,
          -0.09981678505515333,
          -0.15405397462772424,
          0.12414775204187173,
          0.6401912259660997,
          0.20029541918808463,
          0.037727717638873046,
          -0.2595832884517719,
          0.1333805374549366,
          0.06234247956708569,
          0.45525461365217385,
          0.6002543867081368,
          0.6334277825556661,
          -0.04552411986300151,
          0.06819320235217091,
          0.1383464913133661
         ],
         "xaxis": "x",
         "y": [
          0.19897327765075695,
          -0.12441086098305708,
          -0.3723524336627006,
          0.5991023199076416,
          0.28199042667021595,
          -0.055304944102727085,
          -0.2514577782447933,
          -0.772213988949666,
          0.5248085963238183,
          -0.13215390685016065,
          0.4616058534674888,
          -0.30539870442636763,
          0.4610509649980751,
          0.659478684775371,
          -0.0744707925724748,
          -0.020158342142844163,
          -0.028517743721648905,
          0.014143503980715729,
          -0.96434967021221,
          -0.08338425768341004
         ],
         "yaxis": "y"
        },
        {
         "hovertemplate": "num=3<br>x=%{x}<br>y=%{y}<br>txt=%{text}<extra></extra>",
         "legendgroup": "3",
         "marker": {
          "color": "#ab63fa",
          "symbol": "circle"
         },
         "mode": "markers+text",
         "name": "3",
         "orientation": "v",
         "showlegend": true,
         "text": [
          40,
          41,
          42,
          43,
          44,
          45,
          46,
          47,
          48,
          49,
          50,
          51,
          52,
          53,
          54,
          55,
          56,
          57,
          58,
          59
         ],
         "textposition": "bottom right",
         "type": "scatter",
         "x": [
          0.12917722140407373,
          0.17790196144674192,
          0.3959798723885178,
          0.8480457710339986,
          -0.5497613369385286,
          -0.08388409752917672,
          -0.2025464666751327,
          -0.16724230228835035,
          0.4631594400686436,
          0.3225706990711124,
          0.04762278815660755,
          -0.0415302236350753,
          0.10282932469455935,
          -0.06046610698584713,
          0.7212129734210992,
          -0.37660769285613416,
          0.08272634297050671,
          -0.30122633257573395,
          0.11628780299732143,
          -0.26722629652585184
         ],
         "xaxis": "x",
         "y": [
          0.17996858622445433,
          0.06094858500403624,
          0.6215359391561437,
          -0.03510690679540901,
          0.2428817753101798,
          0.25785920577260063,
          0.4324163066220414,
          -0.27513268956158216,
          0.34880668596900455,
          -0.24034389705668274,
          -0.11742871743849372,
          0.2994426358661546,
          -0.5601567887448616,
          -0.12878994071936015,
          0.07815163898420563,
          -0.3511924237828932,
          0.1497157975418848,
          0.2824235890818704,
          0.1276806810699139,
          0.7611606284312308
         ],
         "yaxis": "y"
        },
        {
         "hovertemplate": "num=4<br>x=%{x}<br>y=%{y}<br>txt=%{text}<extra></extra>",
         "legendgroup": "4",
         "marker": {
          "color": "#FFA15A",
          "symbol": "circle"
         },
         "mode": "markers+text",
         "name": "4",
         "orientation": "v",
         "showlegend": true,
         "text": [
          40,
          41,
          42,
          43,
          44,
          45,
          46,
          47,
          48,
          49,
          50,
          51,
          52,
          53,
          54,
          55,
          56,
          57,
          58,
          59
         ],
         "textposition": "bottom right",
         "type": "scatter",
         "x": [
          -0.22961015703423587,
          -0.6844952939408782,
          0.19408599716131886,
          0.14706599294705486,
          -0.04549829203736094,
          0.41224575714294337,
          -0.8102625938132157,
          -0.032246906637521305,
          -0.1308543711378895,
          -0.19463533688699047,
          0.3464147511477445,
          -0.881654858549407,
          -0.04612719038117952,
          -0.07031949523827855,
          0.3832582364355036,
          -0.06800297972819051,
          -0.927767105568469,
          -0.18688442991497145,
          -0.23771207661523372,
          -0.00572347182476407
         ],
         "xaxis": "x",
         "y": [
          0.34085538984643904,
          -0.009062630773997715,
          0.027094295956166872,
          0.0755843139326608,
          0.8589247256684087,
          0.26819270681813223,
          -0.10208585019257604,
          -0.5085789613414924,
          0.13818365866839263,
          -0.26563134352189005,
          -0.0864230694372537,
          -0.21110979342758832,
          0.13379130546948143,
          -0.5459465579497667,
          -0.26545757251293906,
          -0.02297065351559889,
          -0.05909407506125974,
          0.347360976883591,
          -0.35458617622593747,
          -1.512710062868065
         ],
         "yaxis": "y"
        },
        {
         "hovertemplate": "num=5<br>x=%{x}<br>y=%{y}<br>txt=%{text}<extra></extra>",
         "legendgroup": "5",
         "marker": {
          "color": "#19d3f3",
          "symbol": "circle"
         },
         "mode": "markers+text",
         "name": "5",
         "orientation": "v",
         "showlegend": true,
         "text": [
          40,
          41,
          42,
          43,
          44,
          45,
          46,
          47,
          48,
          49,
          50,
          51,
          52,
          53,
          54,
          55,
          56,
          57,
          58,
          59
         ],
         "textposition": "bottom right",
         "type": "scatter",
         "x": [
          0.155050420245694,
          0.07580893776081263,
          -0.40322485240399486,
          -0.09358600960287608,
          0.14302775924258454,
          -0.1645064056704257,
          -0.4636363035711714,
          0.1318767851975313,
          -0.25893118240990426,
          -0.2781195856746455,
          -0.08915357909162182,
          0.4968283803650206,
          0.1274049952978198,
          -0.1625066050473294,
          0.24634770624556376,
          0.018662158232179732,
          -0.02303252883867711,
          0.001883420310411131,
          0.08065071126091215,
          -0.15490474701302803
         ],
         "xaxis": "x",
         "y": [
          -0.08943624663901323,
          0.4504473780377638,
          -0.06883724235118835,
          0.5852212742783227,
          -0.07592553272545179,
          0.6489704117975911,
          0.18584569234551496,
          -0.12361602462925118,
          -0.180308823350091,
          0.20261918758435465,
          -0.33330484312925485,
          -0.2759593607034231,
          -0.2079914129276631,
          0.11387825834214656,
          0.16815988523382927,
          -0.2411935219378807,
          0.17997356955998947,
          0.13014490565561954,
          0.0933498874722952,
          0.6801099857440075
         ],
         "yaxis": "y"
        },
        {
         "hovertemplate": "num=6<br>x=%{x}<br>y=%{y}<br>txt=%{text}<extra></extra>",
         "legendgroup": "6",
         "marker": {
          "color": "#FF6692",
          "symbol": "circle"
         },
         "mode": "markers+text",
         "name": "6",
         "orientation": "v",
         "showlegend": true,
         "text": [
          40,
          41,
          42,
          43,
          44,
          45,
          46,
          47,
          48,
          49,
          50,
          51,
          52,
          53,
          54,
          55,
          56,
          57,
          58,
          59
         ],
         "textposition": "bottom right",
         "type": "scatter",
         "x": [
          0.23031281299402906,
          0.03331854566408968,
          -0.01413282515061541,
          -0.257559640295617,
          -0.011830908466541714,
          -0.2007472231201874,
          -0.5243527892254991,
          0.8701509070405571,
          -0.5251054426004863,
          -0.11812260996783265,
          0.10893582927948542,
          -0.3773348572143973,
          -0.17974768943498742,
          -0.030863787358849037,
          0.025338975834117317,
          -0.04876520591082099,
          -0.8002219665215422,
          -0.24143871590946553,
          -0.48703816569570274,
          -0.06598026957820934
         ],
         "xaxis": "x",
         "y": [
          0.17128556663208191,
          0.2791101507812516,
          0.24419223448411023,
          0.20219652231506596,
          0.006357042070903173,
          -0.2919886016210177,
          0.29406768733341465,
          0.1747278892717865,
          0.9378502668736791,
          0.006825250414080809,
          -0.6896635060506145,
          -0.6939247464165533,
          0.1577988999707862,
          -0.46154739701979464,
          0.3643579237031987,
          0.3430062856507831,
          0.36344858172328687,
          0.00963320053006183,
          0.31653882675574196,
          0.41056214297576304
         ],
         "yaxis": "y"
        },
        {
         "hovertemplate": "num=7<br>x=%{x}<br>y=%{y}<br>txt=%{text}<extra></extra>",
         "legendgroup": "7",
         "marker": {
          "color": "#B6E880",
          "symbol": "circle"
         },
         "mode": "markers+text",
         "name": "7",
         "orientation": "v",
         "showlegend": true,
         "text": [
          40,
          41,
          42,
          43,
          44,
          45,
          46,
          47,
          48,
          49,
          50,
          51,
          52,
          53,
          54,
          55,
          56,
          57,
          58,
          59
         ],
         "textposition": "bottom right",
         "type": "scatter",
         "x": [
          0.12830465823331078,
          0.02369292703175225,
          -0.1484202134595334,
          -0.1731611967288238,
          -0.08520934532959809,
          0.0949204817240214,
          0.0983336513917861,
          -0.34895017588558186,
          -0.01724036837412385,
          -0.032571824643770175,
          0.33638776910540963,
          0.02089564053096979,
          0.11826770415476104,
          -0.2087227586581976,
          -0.11120577668532458,
          0.38142467571732014,
          0.02464991837651137,
          0.29387859381094117,
          -0.2710955616107228,
          0.14641929920312965
         ],
         "xaxis": "x",
         "y": [
          0.3318912477423528,
          -0.4716536298821775,
          0.20902490819098313,
          0.2842765344702569,
          -0.5167997737262582,
          0.0809587684548137,
          -0.3292176134038039,
          0.06762417066806871,
          -0.12042456242262363,
          -0.27277219465012953,
          -0.07937249270795704,
          -0.3758685586949768,
          -0.14632563641062385,
          0.06845377507943898,
          -0.35100355734024524,
          -0.43322510360989647,
          -0.7063181616872973,
          0.07485589746107674,
          -0.37003204502362236,
          0.10496227947127032
         ],
         "yaxis": "y"
        },
        {
         "hovertemplate": "num=8<br>x=%{x}<br>y=%{y}<br>txt=%{text}<extra></extra>",
         "legendgroup": "8",
         "marker": {
          "color": "#FF97FF",
          "symbol": "circle"
         },
         "mode": "markers+text",
         "name": "8",
         "orientation": "v",
         "showlegend": true,
         "text": [
          40,
          41,
          42,
          43,
          44,
          45,
          46,
          47,
          48,
          49,
          50,
          51,
          52,
          53,
          54,
          55,
          56,
          57,
          58,
          59
         ],
         "textposition": "bottom right",
         "type": "scatter",
         "x": [
          -0.0004189188296309619,
          0.6735923671755545,
          -0.2482341050116561,
          -0.15684131004806934,
          0.12674499290585392,
          -0.4350267605214918,
          0.5176565915670251,
          0.44257882036018203,
          0.02162709118930475,
          0.5957832098993735,
          -0.019835314241234882,
          0.0572895234626548,
          -0.017804294990568376,
          0.10926036857053333,
          0.1859412545820056,
          -0.4679548750163908,
          0.10403028076311716,
          -0.11819839170980545,
          0.25716104474991713,
          0.4032266394714412
         ],
         "xaxis": "x",
         "y": [
          0.058114835224630054,
          -0.020270699975828005,
          -0.276246682191454,
          -0.1785616530834675,
          -0.2492812792401488,
          0.0444709848072768,
          -0.16962333650776773,
          0.6587918715120819,
          0.0660318243641167,
          0.029111216319245348,
          -0.13346730897570594,
          0.04511458100782582,
          -0.7463837895304908,
          -0.3951523413253851,
          0.16011662616176286,
          -0.02859999983235577,
          -0.5704628904842831,
          -0.37320056638026333,
          0.2707294559964206,
          -0.5388877606811313
         ],
         "yaxis": "y"
        },
        {
         "hovertemplate": "num=9<br>x=%{x}<br>y=%{y}<br>txt=%{text}<extra></extra>",
         "legendgroup": "9",
         "marker": {
          "color": "#FECB52",
          "symbol": "circle"
         },
         "mode": "markers+text",
         "name": "9",
         "orientation": "v",
         "showlegend": true,
         "text": [
          40,
          41,
          42,
          43,
          44,
          45,
          46,
          47,
          48,
          49,
          50,
          51,
          52,
          53,
          54,
          55,
          56,
          57,
          58,
          59
         ],
         "textposition": "bottom right",
         "type": "scatter",
         "x": [
          0.14611716227694496,
          -0.4075400349668841,
          0.6307220792930739,
          0.046620591042297516,
          -0.05048821482942971,
          0.13086767584637707,
          -0.08440115605116745,
          -0.0899009785250684,
          0.3614108088914062,
          0.4033658961130033,
          0.0783294991932909,
          -0.39388996871032445,
          -0.4021759901249426,
          -0.7554822624231805,
          0.10979876366706082,
          -0.08457476594581405,
          0.07009923138545768,
          -0.1754950177692044,
          -0.5201247652407216,
          -0.4460659143528545
         ],
         "xaxis": "x",
         "y": [
          0.11955067093886608,
          -0.1314353044452546,
          0.06608619955516731,
          0.01681789457474677,
          0.26631294704046254,
          0.016027006560620533,
          -0.15287485188150488,
          -0.04718975564312505,
          -0.0033269143411978064,
          -0.02705346245723203,
          0.4707832973497232,
          -0.010470487484177789,
          0.009701888024133715,
          -0.0828679767082072,
          -0.05726860824260259,
          0.057587074036947974,
          0.22593481644908303,
          -0.10559077043454793,
          -0.11420298436198627,
          0.2748709713766084
         ],
         "yaxis": "y"
        },
        {
         "hovertemplate": "num=10<br>x=%{x}<br>y=%{y}<br>txt=%{text}<extra></extra>",
         "legendgroup": "10",
         "marker": {
          "color": "#636efa",
          "symbol": "circle"
         },
         "mode": "markers+text",
         "name": "10",
         "orientation": "v",
         "showlegend": true,
         "text": [
          40,
          41,
          42,
          43,
          44,
          45,
          46,
          47,
          48,
          49,
          50,
          51,
          52,
          53,
          54,
          55,
          56,
          57,
          58,
          59
         ],
         "textposition": "bottom right",
         "type": "scatter",
         "x": [
          0.14218753706025125,
          0.03965037689560265,
          -0.43238890542630765,
          0.09426428845856472,
          -0.21867648486589936,
          -0.8687671962258595,
          -0.127832328566388,
          -0.09127625609055094,
          -0.3423301508335219,
          0.2901569726915844,
          0.18478403188880418,
          -0.33150930870731166,
          -0.12763277948107463,
          -0.26102569431152167,
          0.06728068483760125,
          -0.3527981074028208,
          0.12082648105286897,
          -0.3681428979475148,
          -0.5902902418142298,
          0.2818009693365882
         ],
         "xaxis": "x",
         "y": [
          -0.06152927113849045,
          0.038006270874034,
          -0.043541935161338696,
          0.8358809222060581,
          -0.02495286929842931,
          0.11741931034696375,
          -0.24997506661108937,
          0.19597299787497835,
          -0.22151912902533905,
          0.07298887986738126,
          -0.10961669367657213,
          -0.3225054598906759,
          0.10450874300991439,
          -0.3363029978514249,
          0.2723587965510307,
          -0.02874546719194812,
          -0.42274511247150454,
          -0.2874645329047665,
          -0.18905963807728382,
          0.4746075797284879
         ],
         "yaxis": "y"
        },
        {
         "hovertemplate": "num=11<br>x=%{x}<br>y=%{y}<br>txt=%{text}<extra></extra>",
         "legendgroup": "11",
         "marker": {
          "color": "#EF553B",
          "symbol": "circle"
         },
         "mode": "markers+text",
         "name": "11",
         "orientation": "v",
         "showlegend": true,
         "text": [
          40,
          41,
          42,
          43,
          44,
          45,
          46,
          47,
          48,
          49,
          50,
          51,
          52,
          53,
          54,
          55,
          56,
          57,
          58,
          59
         ],
         "textposition": "bottom right",
         "type": "scatter",
         "x": [
          0.6565977203968989,
          -0.07842642875947661,
          0.2393685129624458,
          -0.3068143531282561,
          0.14281325353070445,
          0.4487474441938568,
          0.3938556225709206,
          -0.4788515542679028,
          0.9071194219509605,
          -0.2822994586160978,
          -0.4579635490389236,
          0.36761998049499245,
          0.06029682999558297,
          0.059105404267173194,
          -0.018605362557211153,
          -0.05925803375219427,
          -0.595536924708776,
          -0.2169293827646698,
          0.0472745279077301,
          0.3063432819687516
         ],
         "xaxis": "x",
         "y": [
          -0.046839244913649214,
          -0.2879245220708771,
          -0.33148616864314795,
          -0.15889070591391685,
          -0.5166145158503991,
          -0.12153376513127498,
          -0.059748078106855534,
          0.14797524175173798,
          0.010361910807387908,
          -0.08243031172296064,
          -0.07245664723696534,
          -0.45560083279581104,
          0.09863535457599068,
          -0.3980416709115926,
          -0.3031692093617152,
          -0.0897966446873157,
          -0.16178099668608142,
          0.16710478083496377,
          -0.19592829898063258,
          -0.00357475065486558
         ],
         "yaxis": "y"
        },
        {
         "hovertemplate": "num=12<br>x=%{x}<br>y=%{y}<br>txt=%{text}<extra></extra>",
         "legendgroup": "12",
         "marker": {
          "color": "#00cc96",
          "symbol": "circle"
         },
         "mode": "markers+text",
         "name": "12",
         "orientation": "v",
         "showlegend": true,
         "text": [
          40,
          41,
          42,
          43,
          44,
          45,
          46,
          47,
          48,
          49,
          50,
          51,
          52,
          53,
          54,
          55,
          56,
          57,
          58,
          59
         ],
         "textposition": "bottom right",
         "type": "scatter",
         "x": [
          -0.0946989965342629,
          0.007314222103776723,
          0.6102578116050321,
          0.7113015540911977,
          0.5062098261161336,
          -0.4194465123835586,
          0.36691418826137095,
          0.6472601610305567,
          0.4706636705478989,
          0.4216925212965373,
          -0.3527473428378988,
          0.3687345011645627,
          0.2952183698332489,
          0.20799270964738586,
          0.11199482849871888,
          0.12444845916746267,
          0.5583814691919656,
          -0.10867075209114882,
          -0.08815667835461932,
          0.08031568452936931
         ],
         "xaxis": "x",
         "y": [
          0.24130858778656597,
          -0.1211385977502013,
          -0.2628062035764802,
          -0.17863337774102933,
          -0.07892363918809667,
          -0.11052904645122223,
          0.18736578376890972,
          -0.48881566863621634,
          0.44689347607209096,
          -0.06508205870694556,
          -0.4366488316485945,
          0.3473482755006716,
          -0.19296406050397003,
          0.14199626066633605,
          -0.25023643170626864,
          0.1665414309025486,
          0.22899752638338178,
          0.29745440203887313,
          0.5292423241154766,
          -0.2449215423051881
         ],
         "yaxis": "y"
        },
        {
         "hovertemplate": "num=13<br>x=%{x}<br>y=%{y}<br>txt=%{text}<extra></extra>",
         "legendgroup": "13",
         "marker": {
          "color": "#ab63fa",
          "symbol": "circle"
         },
         "mode": "markers+text",
         "name": "13",
         "orientation": "v",
         "showlegend": true,
         "text": [
          40,
          41,
          42,
          43,
          44,
          45,
          46,
          47,
          48,
          49,
          50,
          51,
          52,
          53,
          54,
          55,
          56,
          57,
          58,
          59
         ],
         "textposition": "bottom right",
         "type": "scatter",
         "x": [
          0.22523822506864988,
          0.01610624911637004,
          -0.09468360171304162,
          -0.49229762166702473,
          0.4592462669820543,
          -0.45276888182693964,
          0.27681293862557166,
          -0.5741277190472429,
          0.5278728009759472,
          0.004704061220255962,
          0.31297737600032777,
          -0.41995539498801837,
          -0.21251247615024405,
          -0.08596699018060398,
          0.3439354627967696,
          0.034342970230973935,
          -0.12010913265590419,
          -0.15491974639484637,
          -0.011001304502715532,
          -0.2643931951715348
         ],
         "xaxis": "x",
         "y": [
          -0.11625541852346107,
          -0.5942584496173371,
          0.3560686997528512,
          0.2649031271169249,
          0.2866946318918343,
          0.04008931429107625,
          0.19313585012254864,
          0.1293771329612248,
          0.31773388191599544,
          0.10475583189175575,
          0.008101850773257216,
          0.33284150210253527,
          -0.13118295029563865,
          0.30661746542004964,
          -0.0303604014877972,
          -0.15791426022673738,
          0.05331898066602015,
          -0.18888394100188455,
          -0.23606980051026785,
          -0.5012921179273313
         ],
         "yaxis": "y"
        },
        {
         "hovertemplate": "num=14<br>x=%{x}<br>y=%{y}<br>txt=%{text}<extra></extra>",
         "legendgroup": "14",
         "marker": {
          "color": "#FFA15A",
          "symbol": "circle"
         },
         "mode": "markers+text",
         "name": "14",
         "orientation": "v",
         "showlegend": true,
         "text": [
          40,
          41,
          42,
          43,
          44,
          45,
          46,
          47,
          48,
          49,
          50,
          51,
          52,
          53,
          54,
          55,
          56,
          57,
          58,
          59
         ],
         "textposition": "bottom right",
         "type": "scatter",
         "x": [
          -0.01780558587427916,
          0.178922900009073,
          -0.6916627799831178,
          0.06164880517204177,
          0.2042673340249165,
          -0.279446589758075,
          0.34195944475503937,
          -0.6095665166176726,
          -0.047145804517527666,
          0.1197864376354478,
          -0.6525531590675603,
          0.10339721440133051,
          -0.6569121078843118,
          0.21338069218014177,
          -0.6497088116063858,
          0.5535594250715972,
          0.2551673801448689,
          0.12159410625981032,
          0.06640977428566797,
          0.4635864247749281
         ],
         "xaxis": "x",
         "y": [
          0.27065610608744184,
          0.17070520806764275,
          0.06521763370675276,
          -0.375179545309609,
          0.5101898831700065,
          0.25045808332495073,
          0.007383396656254093,
          0.42448857172009336,
          0.1468957314606426,
          0.02736262351270071,
          -0.011670288737364982,
          -0.6974382827429461,
          -0.04940820056135242,
          0.3462585986851666,
          -0.049494464243306224,
          0.10306237197541857,
          -0.13507686043193434,
          0.10936029509405665,
          0.5007020150572165,
          0.20377185757980235
         ],
         "yaxis": "y"
        },
        {
         "hovertemplate": "num=15<br>x=%{x}<br>y=%{y}<br>txt=%{text}<extra></extra>",
         "legendgroup": "15",
         "marker": {
          "color": "#19d3f3",
          "symbol": "circle"
         },
         "mode": "markers+text",
         "name": "15",
         "orientation": "v",
         "showlegend": true,
         "text": [
          40,
          41,
          42,
          43,
          44,
          45,
          46,
          47,
          48,
          49,
          50,
          51,
          52,
          53,
          54,
          55,
          56,
          57,
          58,
          59
         ],
         "textposition": "bottom right",
         "type": "scatter",
         "x": [
          0.18935062979542033,
          -8.560708240212996e-05,
          -0.20372604977534453,
          -0.05680984065835751,
          0.19399873050751387,
          -0.21406137174467685,
          -0.12922783501441765,
          0.6567606344940964,
          -0.15345318790307483,
          -0.07115154400928705,
          -0.12208633668058705,
          0.03821642104556873,
          -0.2993675042218252,
          0.09007295545450758,
          -0.39701262606205123,
          0.10758077603615676,
          -0.12462593962580379,
          -0.039097541036989564,
          0.08787141482341047,
          -0.06979062914990708
         ],
         "xaxis": "x",
         "y": [
          -0.08519863732766961,
          0.33548142885010085,
          0.04879411391224482,
          0.4679150178411521,
          -0.24183268673164887,
          -0.13359420222137688,
          0.06458522331708498,
          0.0428027073843818,
          0.04500721917245405,
          0.367297296743339,
          0.32251331664019456,
          0.14705493574410292,
          -0.2410324950932513,
          -0.4011764777224719,
          0.11893810633599458,
          0.5495763178550611,
          0.1981957273366711,
          -0.395403898204806,
          0.4806869008838272,
          0.8130127134094762
         ],
         "yaxis": "y"
        },
        {
         "hovertemplate": "num=16<br>x=%{x}<br>y=%{y}<br>txt=%{text}<extra></extra>",
         "legendgroup": "16",
         "marker": {
          "color": "#FF6692",
          "symbol": "circle"
         },
         "mode": "markers+text",
         "name": "16",
         "orientation": "v",
         "showlegend": true,
         "text": [
          40,
          41,
          42,
          43,
          44,
          45,
          46,
          47,
          48,
          49,
          50,
          51,
          52,
          53,
          54,
          55,
          56,
          57,
          58,
          59
         ],
         "textposition": "bottom right",
         "type": "scatter",
         "x": [
          -0.08579253796850686,
          0.07223088214038773,
          -0.9391411540538505,
          -0.1264043790133322,
          0.003679965609383301,
          0.5789475132696571,
          0.0323540142679247,
          -0.16337509637889494,
          -0.995448082095089,
          0.15669303162079495,
          0.36250383062903235,
          -0.20907668909335086,
          -0.26132033901326773,
          0.138017097052885,
          -0.24904972678663934,
          0.3476852606004736,
          -0.5590995088233168,
          0.3724707903692932,
          0.42623013494654804,
          -0.3254524846527991
         ],
         "xaxis": "x",
         "y": [
          -0.07173839249886618,
          -0.0937417702477549,
          -0.04751440660226269,
          0.08739688650312294,
          0.33193103209105257,
          0.19995754398770607,
          0.45168375663275484,
          -0.45853970220316376,
          0.1472764469555014,
          -0.10087619952535892,
          -0.3215629695673422,
          0.4757059381292677,
          -0.15361388500230527,
          0.13841166777586517,
          -0.0860750813530203,
          -0.19785455535433305,
          -0.4991118054358096,
          -0.12822814356713053,
          -0.37386654064762465,
          -0.1251746923253492
         ],
         "yaxis": "y"
        },
        {
         "hovertemplate": "num=17<br>x=%{x}<br>y=%{y}<br>txt=%{text}<extra></extra>",
         "legendgroup": "17",
         "marker": {
          "color": "#B6E880",
          "symbol": "circle"
         },
         "mode": "markers+text",
         "name": "17",
         "orientation": "v",
         "showlegend": true,
         "text": [
          40,
          41,
          42,
          43,
          44,
          45,
          46,
          47,
          48,
          49,
          50,
          51,
          52,
          53,
          54,
          55,
          56,
          57,
          58,
          59
         ],
         "textposition": "bottom right",
         "type": "scatter",
         "x": [
          0.23967740179649405,
          0.027459024898394458,
          -0.0670106276904498,
          0.0740606221247222,
          0.18705588312966315,
          0.4979113354769107,
          -0.16778711980894076,
          -0.7316002174728332,
          0.09483633001906855,
          0.3093398051308876,
          0.21617360618677742,
          -0.27479991171395524,
          0.012433484726193544,
          0.27370569827328295,
          0.03557402873227119,
          -0.07300659928992324,
          -0.06116278778922699,
          -0.10608603951939839,
          -0.24637113172487635,
          -0.16448730054786087
         ],
         "xaxis": "x",
         "y": [
          -0.0646145304595164,
          0.1298703434201655,
          -0.02665710264382744,
          -0.8457586455468109,
          0.07884616847287175,
          0.09493839303513657,
          0.153853995042927,
          -0.19849450771941146,
          -0.8182773798912708,
          0.28722339439166233,
          -0.15789151579572822,
          -0.17241018267128105,
          0.013237816848873835,
          -0.5229468218795796,
          -0.06441764798591719,
          0.04366670955057107,
          -0.2978589273334606,
          0.21477306448901515,
          0.18335527236795948,
          -1.0183944386213934
         ],
         "yaxis": "y"
        },
        {
         "hovertemplate": "num=18<br>x=%{x}<br>y=%{y}<br>txt=%{text}<extra></extra>",
         "legendgroup": "18",
         "marker": {
          "color": "#FF97FF",
          "symbol": "circle"
         },
         "mode": "markers+text",
         "name": "18",
         "orientation": "v",
         "showlegend": true,
         "text": [
          40,
          41,
          42,
          43,
          44,
          45,
          46,
          47,
          48,
          49,
          50,
          51,
          52,
          53,
          54,
          55,
          56,
          57,
          58,
          59
         ],
         "textposition": "bottom right",
         "type": "scatter",
         "x": [
          -0.23069748453868966,
          0.2555452564336043,
          0.23059054439966958,
          0.40270370335397254,
          0.19385936034992263,
          0.0657101759462356,
          0.035207025823616137,
          -0.09627917178442523,
          0.04945629623670398,
          0.11962781377313049,
          0.2618930470987122,
          0.3914326978574408,
          0.024026439469514715,
          0.15256872274628142,
          -0.1423493011571961,
          0.08754580142302201,
          0.34592530875397826,
          0.03782876565277832,
          -0.029652210430251208,
          -0.014043386375204775
         ],
         "xaxis": "x",
         "y": [
          -0.035886528139218665,
          0.06405960066116212,
          0.3024171050739831,
          0.2159793245962467,
          0.2725446879762135,
          0.17613241515230596,
          0.0744012761194771,
          -0.18127959051039783,
          0.22402809936596357,
          0.022637532452091224,
          -0.20291226825375086,
          -0.5674815320112732,
          0.28947834391852256,
          0.09288643250246995,
          0.112334341849495,
          0.13794015818557137,
          0.14900150954233699,
          0.6075672315249583,
          -0.3853859278971584,
          0.6386080677476104
         ],
         "yaxis": "y"
        },
        {
         "hovertemplate": "num=19<br>x=%{x}<br>y=%{y}<br>txt=%{text}<extra></extra>",
         "legendgroup": "19",
         "marker": {
          "color": "#FECB52",
          "symbol": "circle"
         },
         "mode": "markers+text",
         "name": "19",
         "orientation": "v",
         "showlegend": true,
         "text": [
          40,
          41,
          42,
          43,
          44,
          45,
          46,
          47,
          48,
          49,
          50,
          51,
          52,
          53,
          54,
          55,
          56,
          57,
          58,
          59
         ],
         "textposition": "bottom right",
         "type": "scatter",
         "x": [
          0.8500709890110879,
          0.23137273581965678,
          -0.05132034805342567,
          -0.10773349126701191,
          -0.10013787243104172,
          0.09405580278788582,
          -0.30596448401199944,
          -0.11082516242953636,
          -0.04228508269603737,
          0.0027400108234029996,
          -0.3045605362289399,
          -0.23980606623819745,
          0.2900372358815658,
          0.2869806416335101,
          -0.35758673598802243,
          0.19527382768082235,
          -0.27037176463074913,
          -0.19768365733546844,
          0.24949951838843598,
          -0.028978735465550957
         ],
         "xaxis": "x",
         "y": [
          0.0025211623664530003,
          -0.23908004693547158,
          -0.1726028071563408,
          0.036092855081750086,
          -0.10119985419299292,
          -0.031202987330396698,
          -0.3375708722289637,
          -0.17574829577615023,
          -0.4821270891955457,
          -0.39143959112962223,
          -0.16353517021964842,
          -0.8574214477414357,
          -0.16283503139893346,
          -0.20054890717019264,
          0.27030102068096823,
          0.3416982303217004,
          -0.41597579313518385,
          -0.08808577562043714,
          0.5531860850508503,
          -0.0599371885998838
         ],
         "yaxis": "y"
        }
       ],
       "layout": {
        "autosize": true,
        "legend": {
         "title": {
          "text": "num"
         },
         "tracegroupgap": 0
        },
        "margin": {
         "t": 60
        },
        "template": {
         "data": {
          "bar": [
           {
            "error_x": {
             "color": "#2a3f5f"
            },
            "error_y": {
             "color": "#2a3f5f"
            },
            "marker": {
             "line": {
              "color": "#E5ECF6",
              "width": 0.5
             },
             "pattern": {
              "fillmode": "overlay",
              "size": 10,
              "solidity": 0.2
             }
            },
            "type": "bar"
           }
          ],
          "barpolar": [
           {
            "marker": {
             "line": {
              "color": "#E5ECF6",
              "width": 0.5
             },
             "pattern": {
              "fillmode": "overlay",
              "size": 10,
              "solidity": 0.2
             }
            },
            "type": "barpolar"
           }
          ],
          "carpet": [
           {
            "aaxis": {
             "endlinecolor": "#2a3f5f",
             "gridcolor": "white",
             "linecolor": "white",
             "minorgridcolor": "white",
             "startlinecolor": "#2a3f5f"
            },
            "baxis": {
             "endlinecolor": "#2a3f5f",
             "gridcolor": "white",
             "linecolor": "white",
             "minorgridcolor": "white",
             "startlinecolor": "#2a3f5f"
            },
            "type": "carpet"
           }
          ],
          "choropleth": [
           {
            "colorbar": {
             "outlinewidth": 0,
             "ticks": ""
            },
            "type": "choropleth"
           }
          ],
          "contour": [
           {
            "colorbar": {
             "outlinewidth": 0,
             "ticks": ""
            },
            "colorscale": [
             [
              0,
              "#0d0887"
             ],
             [
              0.1111111111111111,
              "#46039f"
             ],
             [
              0.2222222222222222,
              "#7201a8"
             ],
             [
              0.3333333333333333,
              "#9c179e"
             ],
             [
              0.4444444444444444,
              "#bd3786"
             ],
             [
              0.5555555555555556,
              "#d8576b"
             ],
             [
              0.6666666666666666,
              "#ed7953"
             ],
             [
              0.7777777777777778,
              "#fb9f3a"
             ],
             [
              0.8888888888888888,
              "#fdca26"
             ],
             [
              1,
              "#f0f921"
             ]
            ],
            "type": "contour"
           }
          ],
          "contourcarpet": [
           {
            "colorbar": {
             "outlinewidth": 0,
             "ticks": ""
            },
            "type": "contourcarpet"
           }
          ],
          "heatmap": [
           {
            "colorbar": {
             "outlinewidth": 0,
             "ticks": ""
            },
            "colorscale": [
             [
              0,
              "#0d0887"
             ],
             [
              0.1111111111111111,
              "#46039f"
             ],
             [
              0.2222222222222222,
              "#7201a8"
             ],
             [
              0.3333333333333333,
              "#9c179e"
             ],
             [
              0.4444444444444444,
              "#bd3786"
             ],
             [
              0.5555555555555556,
              "#d8576b"
             ],
             [
              0.6666666666666666,
              "#ed7953"
             ],
             [
              0.7777777777777778,
              "#fb9f3a"
             ],
             [
              0.8888888888888888,
              "#fdca26"
             ],
             [
              1,
              "#f0f921"
             ]
            ],
            "type": "heatmap"
           }
          ],
          "heatmapgl": [
           {
            "colorbar": {
             "outlinewidth": 0,
             "ticks": ""
            },
            "colorscale": [
             [
              0,
              "#0d0887"
             ],
             [
              0.1111111111111111,
              "#46039f"
             ],
             [
              0.2222222222222222,
              "#7201a8"
             ],
             [
              0.3333333333333333,
              "#9c179e"
             ],
             [
              0.4444444444444444,
              "#bd3786"
             ],
             [
              0.5555555555555556,
              "#d8576b"
             ],
             [
              0.6666666666666666,
              "#ed7953"
             ],
             [
              0.7777777777777778,
              "#fb9f3a"
             ],
             [
              0.8888888888888888,
              "#fdca26"
             ],
             [
              1,
              "#f0f921"
             ]
            ],
            "type": "heatmapgl"
           }
          ],
          "histogram": [
           {
            "marker": {
             "pattern": {
              "fillmode": "overlay",
              "size": 10,
              "solidity": 0.2
             }
            },
            "type": "histogram"
           }
          ],
          "histogram2d": [
           {
            "colorbar": {
             "outlinewidth": 0,
             "ticks": ""
            },
            "colorscale": [
             [
              0,
              "#0d0887"
             ],
             [
              0.1111111111111111,
              "#46039f"
             ],
             [
              0.2222222222222222,
              "#7201a8"
             ],
             [
              0.3333333333333333,
              "#9c179e"
             ],
             [
              0.4444444444444444,
              "#bd3786"
             ],
             [
              0.5555555555555556,
              "#d8576b"
             ],
             [
              0.6666666666666666,
              "#ed7953"
             ],
             [
              0.7777777777777778,
              "#fb9f3a"
             ],
             [
              0.8888888888888888,
              "#fdca26"
             ],
             [
              1,
              "#f0f921"
             ]
            ],
            "type": "histogram2d"
           }
          ],
          "histogram2dcontour": [
           {
            "colorbar": {
             "outlinewidth": 0,
             "ticks": ""
            },
            "colorscale": [
             [
              0,
              "#0d0887"
             ],
             [
              0.1111111111111111,
              "#46039f"
             ],
             [
              0.2222222222222222,
              "#7201a8"
             ],
             [
              0.3333333333333333,
              "#9c179e"
             ],
             [
              0.4444444444444444,
              "#bd3786"
             ],
             [
              0.5555555555555556,
              "#d8576b"
             ],
             [
              0.6666666666666666,
              "#ed7953"
             ],
             [
              0.7777777777777778,
              "#fb9f3a"
             ],
             [
              0.8888888888888888,
              "#fdca26"
             ],
             [
              1,
              "#f0f921"
             ]
            ],
            "type": "histogram2dcontour"
           }
          ],
          "mesh3d": [
           {
            "colorbar": {
             "outlinewidth": 0,
             "ticks": ""
            },
            "type": "mesh3d"
           }
          ],
          "parcoords": [
           {
            "line": {
             "colorbar": {
              "outlinewidth": 0,
              "ticks": ""
             }
            },
            "type": "parcoords"
           }
          ],
          "pie": [
           {
            "automargin": true,
            "type": "pie"
           }
          ],
          "scatter": [
           {
            "marker": {
             "colorbar": {
              "outlinewidth": 0,
              "ticks": ""
             }
            },
            "type": "scatter"
           }
          ],
          "scatter3d": [
           {
            "line": {
             "colorbar": {
              "outlinewidth": 0,
              "ticks": ""
             }
            },
            "marker": {
             "colorbar": {
              "outlinewidth": 0,
              "ticks": ""
             }
            },
            "type": "scatter3d"
           }
          ],
          "scattercarpet": [
           {
            "marker": {
             "colorbar": {
              "outlinewidth": 0,
              "ticks": ""
             }
            },
            "type": "scattercarpet"
           }
          ],
          "scattergeo": [
           {
            "marker": {
             "colorbar": {
              "outlinewidth": 0,
              "ticks": ""
             }
            },
            "type": "scattergeo"
           }
          ],
          "scattergl": [
           {
            "marker": {
             "colorbar": {
              "outlinewidth": 0,
              "ticks": ""
             }
            },
            "type": "scattergl"
           }
          ],
          "scattermapbox": [
           {
            "marker": {
             "colorbar": {
              "outlinewidth": 0,
              "ticks": ""
             }
            },
            "type": "scattermapbox"
           }
          ],
          "scatterpolar": [
           {
            "marker": {
             "colorbar": {
              "outlinewidth": 0,
              "ticks": ""
             }
            },
            "type": "scatterpolar"
           }
          ],
          "scatterpolargl": [
           {
            "marker": {
             "colorbar": {
              "outlinewidth": 0,
              "ticks": ""
             }
            },
            "type": "scatterpolargl"
           }
          ],
          "scatterternary": [
           {
            "marker": {
             "colorbar": {
              "outlinewidth": 0,
              "ticks": ""
             }
            },
            "type": "scatterternary"
           }
          ],
          "surface": [
           {
            "colorbar": {
             "outlinewidth": 0,
             "ticks": ""
            },
            "colorscale": [
             [
              0,
              "#0d0887"
             ],
             [
              0.1111111111111111,
              "#46039f"
             ],
             [
              0.2222222222222222,
              "#7201a8"
             ],
             [
              0.3333333333333333,
              "#9c179e"
             ],
             [
              0.4444444444444444,
              "#bd3786"
             ],
             [
              0.5555555555555556,
              "#d8576b"
             ],
             [
              0.6666666666666666,
              "#ed7953"
             ],
             [
              0.7777777777777778,
              "#fb9f3a"
             ],
             [
              0.8888888888888888,
              "#fdca26"
             ],
             [
              1,
              "#f0f921"
             ]
            ],
            "type": "surface"
           }
          ],
          "table": [
           {
            "cells": {
             "fill": {
              "color": "#EBF0F8"
             },
             "line": {
              "color": "white"
             }
            },
            "header": {
             "fill": {
              "color": "#C8D4E3"
             },
             "line": {
              "color": "white"
             }
            },
            "type": "table"
           }
          ]
         },
         "layout": {
          "annotationdefaults": {
           "arrowcolor": "#2a3f5f",
           "arrowhead": 0,
           "arrowwidth": 1
          },
          "autotypenumbers": "strict",
          "coloraxis": {
           "colorbar": {
            "outlinewidth": 0,
            "ticks": ""
           }
          },
          "colorscale": {
           "diverging": [
            [
             0,
             "#8e0152"
            ],
            [
             0.1,
             "#c51b7d"
            ],
            [
             0.2,
             "#de77ae"
            ],
            [
             0.3,
             "#f1b6da"
            ],
            [
             0.4,
             "#fde0ef"
            ],
            [
             0.5,
             "#f7f7f7"
            ],
            [
             0.6,
             "#e6f5d0"
            ],
            [
             0.7,
             "#b8e186"
            ],
            [
             0.8,
             "#7fbc41"
            ],
            [
             0.9,
             "#4d9221"
            ],
            [
             1,
             "#276419"
            ]
           ],
           "sequential": [
            [
             0,
             "#0d0887"
            ],
            [
             0.1111111111111111,
             "#46039f"
            ],
            [
             0.2222222222222222,
             "#7201a8"
            ],
            [
             0.3333333333333333,
             "#9c179e"
            ],
            [
             0.4444444444444444,
             "#bd3786"
            ],
            [
             0.5555555555555556,
             "#d8576b"
            ],
            [
             0.6666666666666666,
             "#ed7953"
            ],
            [
             0.7777777777777778,
             "#fb9f3a"
            ],
            [
             0.8888888888888888,
             "#fdca26"
            ],
            [
             1,
             "#f0f921"
            ]
           ],
           "sequentialminus": [
            [
             0,
             "#0d0887"
            ],
            [
             0.1111111111111111,
             "#46039f"
            ],
            [
             0.2222222222222222,
             "#7201a8"
            ],
            [
             0.3333333333333333,
             "#9c179e"
            ],
            [
             0.4444444444444444,
             "#bd3786"
            ],
            [
             0.5555555555555556,
             "#d8576b"
            ],
            [
             0.6666666666666666,
             "#ed7953"
            ],
            [
             0.7777777777777778,
             "#fb9f3a"
            ],
            [
             0.8888888888888888,
             "#fdca26"
            ],
            [
             1,
             "#f0f921"
            ]
           ]
          },
          "colorway": [
           "#636efa",
           "#EF553B",
           "#00cc96",
           "#ab63fa",
           "#FFA15A",
           "#19d3f3",
           "#FF6692",
           "#B6E880",
           "#FF97FF",
           "#FECB52"
          ],
          "font": {
           "color": "#2a3f5f"
          },
          "geo": {
           "bgcolor": "white",
           "lakecolor": "white",
           "landcolor": "#E5ECF6",
           "showlakes": true,
           "showland": true,
           "subunitcolor": "white"
          },
          "hoverlabel": {
           "align": "left"
          },
          "hovermode": "closest",
          "mapbox": {
           "style": "light"
          },
          "paper_bgcolor": "white",
          "plot_bgcolor": "#E5ECF6",
          "polar": {
           "angularaxis": {
            "gridcolor": "white",
            "linecolor": "white",
            "ticks": ""
           },
           "bgcolor": "#E5ECF6",
           "radialaxis": {
            "gridcolor": "white",
            "linecolor": "white",
            "ticks": ""
           }
          },
          "scene": {
           "xaxis": {
            "backgroundcolor": "#E5ECF6",
            "gridcolor": "white",
            "gridwidth": 2,
            "linecolor": "white",
            "showbackground": true,
            "ticks": "",
            "zerolinecolor": "white"
           },
           "yaxis": {
            "backgroundcolor": "#E5ECF6",
            "gridcolor": "white",
            "gridwidth": 2,
            "linecolor": "white",
            "showbackground": true,
            "ticks": "",
            "zerolinecolor": "white"
           },
           "zaxis": {
            "backgroundcolor": "#E5ECF6",
            "gridcolor": "white",
            "gridwidth": 2,
            "linecolor": "white",
            "showbackground": true,
            "ticks": "",
            "zerolinecolor": "white"
           }
          },
          "shapedefaults": {
           "line": {
            "color": "#2a3f5f"
           }
          },
          "ternary": {
           "aaxis": {
            "gridcolor": "white",
            "linecolor": "white",
            "ticks": ""
           },
           "baxis": {
            "gridcolor": "white",
            "linecolor": "white",
            "ticks": ""
           },
           "bgcolor": "#E5ECF6",
           "caxis": {
            "gridcolor": "white",
            "linecolor": "white",
            "ticks": ""
           }
          },
          "title": {
           "x": 0.05
          },
          "xaxis": {
           "automargin": true,
           "gridcolor": "white",
           "linecolor": "white",
           "ticks": "",
           "title": {
            "standoff": 15
           },
           "zerolinecolor": "white",
           "zerolinewidth": 2
          },
          "yaxis": {
           "automargin": true,
           "gridcolor": "white",
           "linecolor": "white",
           "ticks": "",
           "title": {
            "standoff": 15
           },
           "zerolinecolor": "white",
           "zerolinewidth": 2
          }
         }
        },
        "xaxis": {
         "anchor": "y",
         "autorange": true,
         "domain": [
          0,
          1
         ],
         "range": [
          -1.1064921292157213,
          1.0181634690715928
         ],
         "title": {
          "text": "x"
         },
         "type": "linear"
        },
        "yaxis": {
         "anchor": "x",
         "autorange": true,
         "domain": [
          0,
          1
         ],
         "range": [
          -1.6912378079364236,
          1.116378011942038
         ],
         "title": {
          "text": "y"
         },
         "type": "linear"
        }
       }
      },
      "image/png": "[encoded data removed]",
      "text/html": [
       "<div>                            <div id=\"9c176d4f-570f-40b6-b3ac-0cc752e89b4d\" class=\"plotly-graph-div\" style=\"height:525px; width:100%;\"></div>            <script type=\"text/javascript\">                require([\"plotly\"], function(Plotly) {                    window.PLOTLYENV=window.PLOTLYENV || {};                                    if (document.getElementById(\"9c176d4f-570f-40b6-b3ac-0cc752e89b4d\")) {                    Plotly.newPlot(                        \"9c176d4f-570f-40b6-b3ac-0cc752e89b4d\",                        [{\"hovertemplate\":\"num=0<br>x=%{x}<br>y=%{y}<br>txt=%{text}<extra></extra>\",\"legendgroup\":\"0\",\"marker\":{\"color\":\"#636efa\",\"symbol\":\"circle\"},\"mode\":\"markers+text\",\"name\":\"0\",\"orientation\":\"v\",\"showlegend\":true,\"text\":[40.0,41.0,42.0,43.0,44.0,45.0,46.0,47.0,48.0,49.0,50.0,51.0,52.0,53.0,54.0,55.0,56.0,57.0,58.0,59.0],\"x\":[0.5732647843429597,-0.28202341397012276,-0.23467756817966845,0.8085003318000323,-0.5214839319650537,0.1390243965617722,0.21372233197297535,0.3461906160933153,-0.07625182108993617,0.004699117703282962,-0.1307318815897724,0.5688059941619011,-0.09472327651866157,0.15637660720179603,0.22275687757739898,0.04997495776517715,-0.15303507728596644,0.25265622680627703,0.47468680716644096,-0.33345384064318234],\"xaxis\":\"x\",\"y\":[0.04129063197529287,0.23876830287397294,0.20760949706028137,0.20111647900537427,-0.088171014554731,-0.11368482696442753,-0.16766966563769978,0.42406742156745886,0.4814802518884416,-0.14833133721574387,0.42425480558816203,0.05822038305086551,-0.40679646982345663,-0.07088310359826445,0.3813211191510589,0.022472471650655166,-0.20347216232607052,0.09348609797774048,-0.30405835732535413,-0.09020104396255528],\"yaxis\":\"y\",\"type\":\"scatter\",\"textposition\":\"bottom right\"},{\"hovertemplate\":\"num=1<br>x=%{x}<br>y=%{y}<br>txt=%{text}<extra></extra>\",\"legendgroup\":\"1\",\"marker\":{\"color\":\"#EF553B\",\"symbol\":\"circle\"},\"mode\":\"markers+text\",\"name\":\"1\",\"orientation\":\"v\",\"showlegend\":true,\"text\":[40.0,41.0,42.0,43.0,44.0,45.0,46.0,47.0,48.0,49.0,50.0,51.0,52.0,53.0,54.0,55.0,56.0,57.0,58.0,59.0],\"x\":[-0.3047441232546541,-0.2713310746987673,-0.42927089597708046,-0.17159188811005135,0.5460584404933829,0.30832903324732286,0.21543525239677377,-0.3615859763863268,-0.4210523088486851,0.2283101337635042,0.5144061764020476,0.04088775700097638,0.3535423406588663,0.5957874666281532,0.4009290197469646,0.13460246924112165,0.02844767321904907,-0.624669473349504,-0.18110576988215876,-0.3268988887034547],\"xaxis\":\"x\",\"y\":[-0.11206143668914811,0.23708991747672187,0.6156521719371773,-0.731363206096288,-0.035298799368486955,0.42283004735334834,-0.0338404681524592,0.3003385987985584,-0.9758953867232689,0.15326501855070462,-0.21152001343240504,-0.5337370377548776,-0.11927836917254768,-0.19847886311969198,-0.048628551077999654,-0.14539099506942935,-0.10419256964761862,-0.024043931745583585,-0.40990238480696756,-0.026936949045676548],\"yaxis\":\"y\",\"type\":\"scatter\",\"textposition\":\"bottom right\"},{\"hovertemplate\":\"num=2<br>x=%{x}<br>y=%{y}<br>txt=%{text}<extra></extra>\",\"legendgroup\":\"2\",\"marker\":{\"color\":\"#00cc96\",\"symbol\":\"circle\"},\"mode\":\"markers+text\",\"name\":\"2\",\"orientation\":\"v\",\"showlegend\":true,\"text\":[40.0,41.0,42.0,43.0,44.0,45.0,46.0,47.0,48.0,49.0,50.0,51.0,52.0,53.0,54.0,55.0,56.0,57.0,58.0,59.0],\"x\":[-0.02657808924483271,0.17354152306448847,0.18476835172832157,-0.1856049656545584,0.3542002544641556,-0.09981678505515333,-0.15405397462772424,0.12414775204187173,0.6401912259660997,0.20029541918808463,0.037727717638873046,-0.2595832884517719,0.1333805374549366,0.06234247956708569,0.45525461365217385,0.6002543867081368,0.6334277825556661,-0.04552411986300151,0.06819320235217091,0.1383464913133661],\"xaxis\":\"x\",\"y\":[0.19897327765075695,-0.12441086098305708,-0.3723524336627006,0.5991023199076416,0.28199042667021595,-0.055304944102727085,-0.2514577782447933,-0.772213988949666,0.5248085963238183,-0.13215390685016065,0.4616058534674888,-0.30539870442636763,0.4610509649980751,0.659478684775371,-0.0744707925724748,-0.020158342142844163,-0.028517743721648905,0.014143503980715729,-0.96434967021221,-0.08338425768341004],\"yaxis\":\"y\",\"type\":\"scatter\",\"textposition\":\"bottom right\"},{\"hovertemplate\":\"num=3<br>x=%{x}<br>y=%{y}<br>txt=%{text}<extra></extra>\",\"legendgroup\":\"3\",\"marker\":{\"color\":\"#ab63fa\",\"symbol\":\"circle\"},\"mode\":\"markers+text\",\"name\":\"3\",\"orientation\":\"v\",\"showlegend\":true,\"text\":[40.0,41.0,42.0,43.0,44.0,45.0,46.0,47.0,48.0,49.0,50.0,51.0,52.0,53.0,54.0,55.0,56.0,57.0,58.0,59.0],\"x\":[0.12917722140407373,0.17790196144674192,0.3959798723885178,0.8480457710339986,-0.5497613369385286,-0.08388409752917672,-0.2025464666751327,-0.16724230228835035,0.4631594400686436,0.3225706990711124,0.04762278815660755,-0.0415302236350753,0.10282932469455935,-0.06046610698584713,0.7212129734210992,-0.37660769285613416,0.08272634297050671,-0.30122633257573395,0.11628780299732143,-0.26722629652585184],\"xaxis\":\"x\",\"y\":[0.17996858622445433,0.06094858500403624,0.6215359391561437,-0.03510690679540901,0.2428817753101798,0.25785920577260063,0.4324163066220414,-0.27513268956158216,0.34880668596900455,-0.24034389705668274,-0.11742871743849372,0.2994426358661546,-0.5601567887448616,-0.12878994071936015,0.07815163898420563,-0.3511924237828932,0.1497157975418848,0.2824235890818704,0.1276806810699139,0.7611606284312308],\"yaxis\":\"y\",\"type\":\"scatter\",\"textposition\":\"bottom right\"},{\"hovertemplate\":\"num=4<br>x=%{x}<br>y=%{y}<br>txt=%{text}<extra></extra>\",\"legendgroup\":\"4\",\"marker\":{\"color\":\"#FFA15A\",\"symbol\":\"circle\"},\"mode\":\"markers+text\",\"name\":\"4\",\"orientation\":\"v\",\"showlegend\":true,\"text\":[40.0,41.0,42.0,43.0,44.0,45.0,46.0,47.0,48.0,49.0,50.0,51.0,52.0,53.0,54.0,55.0,56.0,57.0,58.0,59.0],\"x\":[-0.22961015703423587,-0.6844952939408782,0.19408599716131886,0.14706599294705486,-0.04549829203736094,0.41224575714294337,-0.8102625938132157,-0.032246906637521305,-0.1308543711378895,-0.19463533688699047,0.3464147511477445,-0.881654858549407,-0.04612719038117952,-0.07031949523827855,0.3832582364355036,-0.06800297972819051,-0.927767105568469,-0.18688442991497145,-0.23771207661523372,-0.00572347182476407],\"xaxis\":\"x\",\"y\":[0.34085538984643904,-0.009062630773997715,0.027094295956166872,0.0755843139326608,0.8589247256684087,0.26819270681813223,-0.10208585019257604,-0.5085789613414924,0.13818365866839263,-0.26563134352189005,-0.0864230694372537,-0.21110979342758832,0.13379130546948143,-0.5459465579497667,-0.26545757251293906,-0.02297065351559889,-0.05909407506125974,0.347360976883591,-0.35458617622593747,-1.512710062868065],\"yaxis\":\"y\",\"type\":\"scatter\",\"textposition\":\"bottom right\"},{\"hovertemplate\":\"num=5<br>x=%{x}<br>y=%{y}<br>txt=%{text}<extra></extra>\",\"legendgroup\":\"5\",\"marker\":{\"color\":\"#19d3f3\",\"symbol\":\"circle\"},\"mode\":\"markers+text\",\"name\":\"5\",\"orientation\":\"v\",\"showlegend\":true,\"text\":[40.0,41.0,42.0,43.0,44.0,45.0,46.0,47.0,48.0,49.0,50.0,51.0,52.0,53.0,54.0,55.0,56.0,57.0,58.0,59.0],\"x\":[0.155050420245694,0.07580893776081263,-0.40322485240399486,-0.09358600960287608,0.14302775924258454,-0.1645064056704257,-0.4636363035711714,0.1318767851975313,-0.25893118240990426,-0.2781195856746455,-0.08915357909162182,0.4968283803650206,0.1274049952978198,-0.1625066050473294,0.24634770624556376,0.018662158232179732,-0.02303252883867711,0.001883420310411131,0.08065071126091215,-0.15490474701302803],\"xaxis\":\"x\",\"y\":[-0.08943624663901323,0.4504473780377638,-0.06883724235118835,0.5852212742783227,-0.07592553272545179,0.6489704117975911,0.18584569234551496,-0.12361602462925118,-0.180308823350091,0.20261918758435465,-0.33330484312925485,-0.2759593607034231,-0.2079914129276631,0.11387825834214656,0.16815988523382927,-0.2411935219378807,0.17997356955998947,0.13014490565561954,0.0933498874722952,0.6801099857440075],\"yaxis\":\"y\",\"type\":\"scatter\",\"textposition\":\"bottom right\"},{\"hovertemplate\":\"num=6<br>x=%{x}<br>y=%{y}<br>txt=%{text}<extra></extra>\",\"legendgroup\":\"6\",\"marker\":{\"color\":\"#FF6692\",\"symbol\":\"circle\"},\"mode\":\"markers+text\",\"name\":\"6\",\"orientation\":\"v\",\"showlegend\":true,\"text\":[40.0,41.0,42.0,43.0,44.0,45.0,46.0,47.0,48.0,49.0,50.0,51.0,52.0,53.0,54.0,55.0,56.0,57.0,58.0,59.0],\"x\":[0.23031281299402906,0.03331854566408968,-0.01413282515061541,-0.257559640295617,-0.011830908466541714,-0.2007472231201874,-0.5243527892254991,0.8701509070405571,-0.5251054426004863,-0.11812260996783265,0.10893582927948542,-0.3773348572143973,-0.17974768943498742,-0.030863787358849037,0.025338975834117317,-0.04876520591082099,-0.8002219665215422,-0.24143871590946553,-0.48703816569570274,-0.06598026957820934],\"xaxis\":\"x\",\"y\":[0.17128556663208191,0.2791101507812516,0.24419223448411023,0.20219652231506596,0.006357042070903173,-0.2919886016210177,0.29406768733341465,0.1747278892717865,0.9378502668736791,0.006825250414080809,-0.6896635060506145,-0.6939247464165533,0.1577988999707862,-0.46154739701979464,0.3643579237031987,0.3430062856507831,0.36344858172328687,0.00963320053006183,0.31653882675574196,0.41056214297576304],\"yaxis\":\"y\",\"type\":\"scatter\",\"textposition\":\"bottom right\"},{\"hovertemplate\":\"num=7<br>x=%{x}<br>y=%{y}<br>txt=%{text}<extra></extra>\",\"legendgroup\":\"7\",\"marker\":{\"color\":\"#B6E880\",\"symbol\":\"circle\"},\"mode\":\"markers+text\",\"name\":\"7\",\"orientation\":\"v\",\"showlegend\":true,\"text\":[40.0,41.0,42.0,43.0,44.0,45.0,46.0,47.0,48.0,49.0,50.0,51.0,52.0,53.0,54.0,55.0,56.0,57.0,58.0,59.0],\"x\":[0.12830465823331078,0.02369292703175225,-0.1484202134595334,-0.1731611967288238,-0.08520934532959809,0.0949204817240214,0.0983336513917861,-0.34895017588558186,-0.01724036837412385,-0.032571824643770175,0.33638776910540963,0.02089564053096979,0.11826770415476104,-0.2087227586581976,-0.11120577668532458,0.38142467571732014,0.02464991837651137,0.29387859381094117,-0.2710955616107228,0.14641929920312965],\"xaxis\":\"x\",\"y\":[0.3318912477423528,-0.4716536298821775,0.20902490819098313,0.2842765344702569,-0.5167997737262582,0.0809587684548137,-0.3292176134038039,0.06762417066806871,-0.12042456242262363,-0.27277219465012953,-0.07937249270795704,-0.3758685586949768,-0.14632563641062385,0.06845377507943898,-0.35100355734024524,-0.43322510360989647,-0.7063181616872973,0.07485589746107674,-0.37003204502362236,0.10496227947127032],\"yaxis\":\"y\",\"type\":\"scatter\",\"textposition\":\"bottom right\"},{\"hovertemplate\":\"num=8<br>x=%{x}<br>y=%{y}<br>txt=%{text}<extra></extra>\",\"legendgroup\":\"8\",\"marker\":{\"color\":\"#FF97FF\",\"symbol\":\"circle\"},\"mode\":\"markers+text\",\"name\":\"8\",\"orientation\":\"v\",\"showlegend\":true,\"text\":[40.0,41.0,42.0,43.0,44.0,45.0,46.0,47.0,48.0,49.0,50.0,51.0,52.0,53.0,54.0,55.0,56.0,57.0,58.0,59.0],\"x\":[-0.0004189188296309619,0.6735923671755545,-0.2482341050116561,-0.15684131004806934,0.12674499290585392,-0.4350267605214918,0.5176565915670251,0.44257882036018203,0.02162709118930475,0.5957832098993735,-0.019835314241234882,0.0572895234626548,-0.017804294990568376,0.10926036857053333,0.1859412545820056,-0.4679548750163908,0.10403028076311716,-0.11819839170980545,0.25716104474991713,0.4032266394714412],\"xaxis\":\"x\",\"y\":[0.058114835224630054,-0.020270699975828005,-0.276246682191454,-0.1785616530834675,-0.2492812792401488,0.0444709848072768,-0.16962333650776773,0.6587918715120819,0.0660318243641167,0.029111216319245348,-0.13346730897570594,0.04511458100782582,-0.7463837895304908,-0.3951523413253851,0.16011662616176286,-0.02859999983235577,-0.5704628904842831,-0.37320056638026333,0.2707294559964206,-0.5388877606811313],\"yaxis\":\"y\",\"type\":\"scatter\",\"textposition\":\"bottom right\"},{\"hovertemplate\":\"num=9<br>x=%{x}<br>y=%{y}<br>txt=%{text}<extra></extra>\",\"legendgroup\":\"9\",\"marker\":{\"color\":\"#FECB52\",\"symbol\":\"circle\"},\"mode\":\"markers+text\",\"name\":\"9\",\"orientation\":\"v\",\"showlegend\":true,\"text\":[40.0,41.0,42.0,43.0,44.0,45.0,46.0,47.0,48.0,49.0,50.0,51.0,52.0,53.0,54.0,55.0,56.0,57.0,58.0,59.0],\"x\":[0.14611716227694496,-0.4075400349668841,0.6307220792930739,0.046620591042297516,-0.05048821482942971,0.13086767584637707,-0.08440115605116745,-0.0899009785250684,0.3614108088914062,0.4033658961130033,0.0783294991932909,-0.39388996871032445,-0.4021759901249426,-0.7554822624231805,0.10979876366706082,-0.08457476594581405,0.07009923138545768,-0.1754950177692044,-0.5201247652407216,-0.4460659143528545],\"xaxis\":\"x\",\"y\":[0.11955067093886608,-0.1314353044452546,0.06608619955516731,0.01681789457474677,0.26631294704046254,0.016027006560620533,-0.15287485188150488,-0.04718975564312505,-0.0033269143411978064,-0.02705346245723203,0.4707832973497232,-0.010470487484177789,0.009701888024133715,-0.0828679767082072,-0.05726860824260259,0.057587074036947974,0.22593481644908303,-0.10559077043454793,-0.11420298436198627,0.2748709713766084],\"yaxis\":\"y\",\"type\":\"scatter\",\"textposition\":\"bottom right\"},{\"hovertemplate\":\"num=10<br>x=%{x}<br>y=%{y}<br>txt=%{text}<extra></extra>\",\"legendgroup\":\"10\",\"marker\":{\"color\":\"#636efa\",\"symbol\":\"circle\"},\"mode\":\"markers+text\",\"name\":\"10\",\"orientation\":\"v\",\"showlegend\":true,\"text\":[40.0,41.0,42.0,43.0,44.0,45.0,46.0,47.0,48.0,49.0,50.0,51.0,52.0,53.0,54.0,55.0,56.0,57.0,58.0,59.0],\"x\":[0.14218753706025125,0.03965037689560265,-0.43238890542630765,0.09426428845856472,-0.21867648486589936,-0.8687671962258595,-0.127832328566388,-0.09127625609055094,-0.3423301508335219,0.2901569726915844,0.18478403188880418,-0.33150930870731166,-0.12763277948107463,-0.26102569431152167,0.06728068483760125,-0.3527981074028208,0.12082648105286897,-0.3681428979475148,-0.5902902418142298,0.2818009693365882],\"xaxis\":\"x\",\"y\":[-0.06152927113849045,0.038006270874034,-0.043541935161338696,0.8358809222060581,-0.02495286929842931,0.11741931034696375,-0.24997506661108937,0.19597299787497835,-0.22151912902533905,0.07298887986738126,-0.10961669367657213,-0.3225054598906759,0.10450874300991439,-0.3363029978514249,0.2723587965510307,-0.02874546719194812,-0.42274511247150454,-0.2874645329047665,-0.18905963807728382,0.4746075797284879],\"yaxis\":\"y\",\"type\":\"scatter\",\"textposition\":\"bottom right\"},{\"hovertemplate\":\"num=11<br>x=%{x}<br>y=%{y}<br>txt=%{text}<extra></extra>\",\"legendgroup\":\"11\",\"marker\":{\"color\":\"#EF553B\",\"symbol\":\"circle\"},\"mode\":\"markers+text\",\"name\":\"11\",\"orientation\":\"v\",\"showlegend\":true,\"text\":[40.0,41.0,42.0,43.0,44.0,45.0,46.0,47.0,48.0,49.0,50.0,51.0,52.0,53.0,54.0,55.0,56.0,57.0,58.0,59.0],\"x\":[0.6565977203968989,-0.07842642875947661,0.2393685129624458,-0.3068143531282561,0.14281325353070445,0.4487474441938568,0.3938556225709206,-0.4788515542679028,0.9071194219509605,-0.2822994586160978,-0.4579635490389236,0.36761998049499245,0.06029682999558297,0.059105404267173194,-0.018605362557211153,-0.05925803375219427,-0.595536924708776,-0.2169293827646698,0.0472745279077301,0.3063432819687516],\"xaxis\":\"x\",\"y\":[-0.046839244913649214,-0.2879245220708771,-0.33148616864314795,-0.15889070591391685,-0.5166145158503991,-0.12153376513127498,-0.059748078106855534,0.14797524175173798,0.010361910807387908,-0.08243031172296064,-0.07245664723696534,-0.45560083279581104,0.09863535457599068,-0.3980416709115926,-0.3031692093617152,-0.0897966446873157,-0.16178099668608142,0.16710478083496377,-0.19592829898063258,-0.00357475065486558],\"yaxis\":\"y\",\"type\":\"scatter\",\"textposition\":\"bottom right\"},{\"hovertemplate\":\"num=12<br>x=%{x}<br>y=%{y}<br>txt=%{text}<extra></extra>\",\"legendgroup\":\"12\",\"marker\":{\"color\":\"#00cc96\",\"symbol\":\"circle\"},\"mode\":\"markers+text\",\"name\":\"12\",\"orientation\":\"v\",\"showlegend\":true,\"text\":[40.0,41.0,42.0,43.0,44.0,45.0,46.0,47.0,48.0,49.0,50.0,51.0,52.0,53.0,54.0,55.0,56.0,57.0,58.0,59.0],\"x\":[-0.0946989965342629,0.007314222103776723,0.6102578116050321,0.7113015540911977,0.5062098261161336,-0.4194465123835586,0.36691418826137095,0.6472601610305567,0.4706636705478989,0.4216925212965373,-0.3527473428378988,0.3687345011645627,0.2952183698332489,0.20799270964738586,0.11199482849871888,0.12444845916746267,0.5583814691919656,-0.10867075209114882,-0.08815667835461932,0.08031568452936931],\"xaxis\":\"x\",\"y\":[0.24130858778656597,-0.1211385977502013,-0.2628062035764802,-0.17863337774102933,-0.07892363918809667,-0.11052904645122223,0.18736578376890972,-0.48881566863621634,0.44689347607209096,-0.06508205870694556,-0.4366488316485945,0.3473482755006716,-0.19296406050397003,0.14199626066633605,-0.25023643170626864,0.1665414309025486,0.22899752638338178,0.29745440203887313,0.5292423241154766,-0.2449215423051881],\"yaxis\":\"y\",\"type\":\"scatter\",\"textposition\":\"bottom right\"},{\"hovertemplate\":\"num=13<br>x=%{x}<br>y=%{y}<br>txt=%{text}<extra></extra>\",\"legendgroup\":\"13\",\"marker\":{\"color\":\"#ab63fa\",\"symbol\":\"circle\"},\"mode\":\"markers+text\",\"name\":\"13\",\"orientation\":\"v\",\"showlegend\":true,\"text\":[40.0,41.0,42.0,43.0,44.0,45.0,46.0,47.0,48.0,49.0,50.0,51.0,52.0,53.0,54.0,55.0,56.0,57.0,58.0,59.0],\"x\":[0.22523822506864988,0.01610624911637004,-0.09468360171304162,-0.49229762166702473,0.4592462669820543,-0.45276888182693964,0.27681293862557166,-0.5741277190472429,0.5278728009759472,0.004704061220255962,0.31297737600032777,-0.41995539498801837,-0.21251247615024405,-0.08596699018060398,0.3439354627967696,0.034342970230973935,-0.12010913265590419,-0.15491974639484637,-0.011001304502715532,-0.2643931951715348],\"xaxis\":\"x\",\"y\":[-0.11625541852346107,-0.5942584496173371,0.3560686997528512,0.2649031271169249,0.2866946318918343,0.04008931429107625,0.19313585012254864,0.1293771329612248,0.31773388191599544,0.10475583189175575,0.008101850773257216,0.33284150210253527,-0.13118295029563865,0.30661746542004964,-0.0303604014877972,-0.15791426022673738,0.05331898066602015,-0.18888394100188455,-0.23606980051026785,-0.5012921179273313],\"yaxis\":\"y\",\"type\":\"scatter\",\"textposition\":\"bottom right\"},{\"hovertemplate\":\"num=14<br>x=%{x}<br>y=%{y}<br>txt=%{text}<extra></extra>\",\"legendgroup\":\"14\",\"marker\":{\"color\":\"#FFA15A\",\"symbol\":\"circle\"},\"mode\":\"markers+text\",\"name\":\"14\",\"orientation\":\"v\",\"showlegend\":true,\"text\":[40.0,41.0,42.0,43.0,44.0,45.0,46.0,47.0,48.0,49.0,50.0,51.0,52.0,53.0,54.0,55.0,56.0,57.0,58.0,59.0],\"x\":[-0.01780558587427916,0.178922900009073,-0.6916627799831178,0.06164880517204177,0.2042673340249165,-0.279446589758075,0.34195944475503937,-0.6095665166176726,-0.047145804517527666,0.1197864376354478,-0.6525531590675603,0.10339721440133051,-0.6569121078843118,0.21338069218014177,-0.6497088116063858,0.5535594250715972,0.2551673801448689,0.12159410625981032,0.06640977428566797,0.4635864247749281],\"xaxis\":\"x\",\"y\":[0.27065610608744184,0.17070520806764275,0.06521763370675276,-0.375179545309609,0.5101898831700065,0.25045808332495073,0.007383396656254093,0.42448857172009336,0.1468957314606426,0.02736262351270071,-0.011670288737364982,-0.6974382827429461,-0.04940820056135242,0.3462585986851666,-0.049494464243306224,0.10306237197541857,-0.13507686043193434,0.10936029509405665,0.5007020150572165,0.20377185757980235],\"yaxis\":\"y\",\"type\":\"scatter\",\"textposition\":\"bottom right\"},{\"hovertemplate\":\"num=15<br>x=%{x}<br>y=%{y}<br>txt=%{text}<extra></extra>\",\"legendgroup\":\"15\",\"marker\":{\"color\":\"#19d3f3\",\"symbol\":\"circle\"},\"mode\":\"markers+text\",\"name\":\"15\",\"orientation\":\"v\",\"showlegend\":true,\"text\":[40.0,41.0,42.0,43.0,44.0,45.0,46.0,47.0,48.0,49.0,50.0,51.0,52.0,53.0,54.0,55.0,56.0,57.0,58.0,59.0],\"x\":[0.18935062979542033,-8.560708240212996e-05,-0.20372604977534453,-0.05680984065835751,0.19399873050751387,-0.21406137174467685,-0.12922783501441765,0.6567606344940964,-0.15345318790307483,-0.07115154400928705,-0.12208633668058705,0.03821642104556873,-0.2993675042218252,0.09007295545450758,-0.39701262606205123,0.10758077603615676,-0.12462593962580379,-0.039097541036989564,0.08787141482341047,-0.06979062914990708],\"xaxis\":\"x\",\"y\":[-0.08519863732766961,0.33548142885010085,0.04879411391224482,0.4679150178411521,-0.24183268673164887,-0.13359420222137688,0.06458522331708498,0.0428027073843818,0.04500721917245405,0.367297296743339,0.32251331664019456,0.14705493574410292,-0.2410324950932513,-0.4011764777224719,0.11893810633599458,0.5495763178550611,0.1981957273366711,-0.395403898204806,0.4806869008838272,0.8130127134094762],\"yaxis\":\"y\",\"type\":\"scatter\",\"textposition\":\"bottom right\"},{\"hovertemplate\":\"num=16<br>x=%{x}<br>y=%{y}<br>txt=%{text}<extra></extra>\",\"legendgroup\":\"16\",\"marker\":{\"color\":\"#FF6692\",\"symbol\":\"circle\"},\"mode\":\"markers+text\",\"name\":\"16\",\"orientation\":\"v\",\"showlegend\":true,\"text\":[40.0,41.0,42.0,43.0,44.0,45.0,46.0,47.0,48.0,49.0,50.0,51.0,52.0,53.0,54.0,55.0,56.0,57.0,58.0,59.0],\"x\":[-0.08579253796850686,0.07223088214038773,-0.9391411540538505,-0.1264043790133322,0.003679965609383301,0.5789475132696571,0.0323540142679247,-0.16337509637889494,-0.995448082095089,0.15669303162079495,0.36250383062903235,-0.20907668909335086,-0.26132033901326773,0.138017097052885,-0.24904972678663934,0.3476852606004736,-0.5590995088233168,0.3724707903692932,0.42623013494654804,-0.3254524846527991],\"xaxis\":\"x\",\"y\":[-0.07173839249886618,-0.0937417702477549,-0.04751440660226269,0.08739688650312294,0.33193103209105257,0.19995754398770607,0.45168375663275484,-0.45853970220316376,0.1472764469555014,-0.10087619952535892,-0.3215629695673422,0.4757059381292677,-0.15361388500230527,0.13841166777586517,-0.0860750813530203,-0.19785455535433305,-0.4991118054358096,-0.12822814356713053,-0.37386654064762465,-0.1251746923253492],\"yaxis\":\"y\",\"type\":\"scatter\",\"textposition\":\"bottom right\"},{\"hovertemplate\":\"num=17<br>x=%{x}<br>y=%{y}<br>txt=%{text}<extra></extra>\",\"legendgroup\":\"17\",\"marker\":{\"color\":\"#B6E880\",\"symbol\":\"circle\"},\"mode\":\"markers+text\",\"name\":\"17\",\"orientation\":\"v\",\"showlegend\":true,\"text\":[40.0,41.0,42.0,43.0,44.0,45.0,46.0,47.0,48.0,49.0,50.0,51.0,52.0,53.0,54.0,55.0,56.0,57.0,58.0,59.0],\"x\":[0.23967740179649405,0.027459024898394458,-0.0670106276904498,0.0740606221247222,0.18705588312966315,0.4979113354769107,-0.16778711980894076,-0.7316002174728332,0.09483633001906855,0.3093398051308876,0.21617360618677742,-0.27479991171395524,0.012433484726193544,0.27370569827328295,0.03557402873227119,-0.07300659928992324,-0.06116278778922699,-0.10608603951939839,-0.24637113172487635,-0.16448730054786087],\"xaxis\":\"x\",\"y\":[-0.0646145304595164,0.1298703434201655,-0.02665710264382744,-0.8457586455468109,0.07884616847287175,0.09493839303513657,0.153853995042927,-0.19849450771941146,-0.8182773798912708,0.28722339439166233,-0.15789151579572822,-0.17241018267128105,0.013237816848873835,-0.5229468218795796,-0.06441764798591719,0.04366670955057107,-0.2978589273334606,0.21477306448901515,0.18335527236795948,-1.0183944386213934],\"yaxis\":\"y\",\"type\":\"scatter\",\"textposition\":\"bottom right\"},{\"hovertemplate\":\"num=18<br>x=%{x}<br>y=%{y}<br>txt=%{text}<extra></extra>\",\"legendgroup\":\"18\",\"marker\":{\"color\":\"#FF97FF\",\"symbol\":\"circle\"},\"mode\":\"markers+text\",\"name\":\"18\",\"orientation\":\"v\",\"showlegend\":true,\"text\":[40.0,41.0,42.0,43.0,44.0,45.0,46.0,47.0,48.0,49.0,50.0,51.0,52.0,53.0,54.0,55.0,56.0,57.0,58.0,59.0],\"x\":[-0.23069748453868966,0.2555452564336043,0.23059054439966958,0.40270370335397254,0.19385936034992263,0.0657101759462356,0.035207025823616137,-0.09627917178442523,0.04945629623670398,0.11962781377313049,0.2618930470987122,0.3914326978574408,0.024026439469514715,0.15256872274628142,-0.1423493011571961,0.08754580142302201,0.34592530875397826,0.03782876565277832,-0.029652210430251208,-0.014043386375204775],\"xaxis\":\"x\",\"y\":[-0.035886528139218665,0.06405960066116212,0.3024171050739831,0.2159793245962467,0.2725446879762135,0.17613241515230596,0.0744012761194771,-0.18127959051039783,0.22402809936596357,0.022637532452091224,-0.20291226825375086,-0.5674815320112732,0.28947834391852256,0.09288643250246995,0.112334341849495,0.13794015818557137,0.14900150954233699,0.6075672315249583,-0.3853859278971584,0.6386080677476104],\"yaxis\":\"y\",\"type\":\"scatter\",\"textposition\":\"bottom right\"},{\"hovertemplate\":\"num=19<br>x=%{x}<br>y=%{y}<br>txt=%{text}<extra></extra>\",\"legendgroup\":\"19\",\"marker\":{\"color\":\"#FECB52\",\"symbol\":\"circle\"},\"mode\":\"markers+text\",\"name\":\"19\",\"orientation\":\"v\",\"showlegend\":true,\"text\":[40.0,41.0,42.0,43.0,44.0,45.0,46.0,47.0,48.0,49.0,50.0,51.0,52.0,53.0,54.0,55.0,56.0,57.0,58.0,59.0],\"x\":[0.8500709890110879,0.23137273581965678,-0.05132034805342567,-0.10773349126701191,-0.10013787243104172,0.09405580278788582,-0.30596448401199944,-0.11082516242953636,-0.04228508269603737,0.0027400108234029996,-0.3045605362289399,-0.23980606623819745,0.2900372358815658,0.2869806416335101,-0.35758673598802243,0.19527382768082235,-0.27037176463074913,-0.19768365733546844,0.24949951838843598,-0.028978735465550957],\"xaxis\":\"x\",\"y\":[0.0025211623664530003,-0.23908004693547158,-0.1726028071563408,0.036092855081750086,-0.10119985419299292,-0.031202987330396698,-0.3375708722289637,-0.17574829577615023,-0.4821270891955457,-0.39143959112962223,-0.16353517021964842,-0.8574214477414357,-0.16283503139893346,-0.20054890717019264,0.27030102068096823,0.3416982303217004,-0.41597579313518385,-0.08808577562043714,0.5531860850508503,-0.0599371885998838],\"yaxis\":\"y\",\"type\":\"scatter\",\"textposition\":\"bottom right\"}],                        {\"template\":{\"data\":{\"bar\":[{\"error_x\":{\"color\":\"#2a3f5f\"},\"error_y\":{\"color\":\"#2a3f5f\"},\"marker\":{\"line\":{\"color\":\"#E5ECF6\",\"width\":0.5},\"pattern\":{\"fillmode\":\"overlay\",\"size\":10,\"solidity\":0.2}},\"type\":\"bar\"}],\"barpolar\":[{\"marker\":{\"line\":{\"color\":\"#E5ECF6\",\"width\":0.5},\"pattern\":{\"fillmode\":\"overlay\",\"size\":10,\"solidity\":0.2}},\"type\":\"barpolar\"}],\"carpet\":[{\"aaxis\":{\"endlinecolor\":\"#2a3f5f\",\"gridcolor\":\"white\",\"linecolor\":\"white\",\"minorgridcolor\":\"white\",\"startlinecolor\":\"#2a3f5f\"},\"baxis\":{\"endlinecolor\":\"#2a3f5f\",\"gridcolor\":\"white\",\"linecolor\":\"white\",\"minorgridcolor\":\"white\",\"startlinecolor\":\"#2a3f5f\"},\"type\":\"carpet\"}],\"choropleth\":[{\"colorbar\":{\"outlinewidth\":0,\"ticks\":\"\"},\"type\":\"choropleth\"}],\"contour\":[{\"colorbar\":{\"outlinewidth\":0,\"ticks\":\"\"},\"colorscale\":[[0.0,\"#0d0887\"],[0.1111111111111111,\"#46039f\"],[0.2222222222222222,\"#7201a8\"],[0.3333333333333333,\"#9c179e\"],[0.4444444444444444,\"#bd3786\"],[0.5555555555555556,\"#d8576b\"],[0.6666666666666666,\"#ed7953\"],[0.7777777777777778,\"#fb9f3a\"],[0.8888888888888888,\"#fdca26\"],[1.0,\"#f0f921\"]],\"type\":\"contour\"}],\"contourcarpet\":[{\"colorbar\":{\"outlinewidth\":0,\"ticks\":\"\"},\"type\":\"contourcarpet\"}],\"heatmap\":[{\"colorbar\":{\"outlinewidth\":0,\"ticks\":\"\"},\"colorscale\":[[0.0,\"#0d0887\"],[0.1111111111111111,\"#46039f\"],[0.2222222222222222,\"#7201a8\"],[0.3333333333333333,\"#9c179e\"],[0.4444444444444444,\"#bd3786\"],[0.5555555555555556,\"#d8576b\"],[0.6666666666666666,\"#ed7953\"],[0.7777777777777778,\"#fb9f3a\"],[0.8888888888888888,\"#fdca26\"],[1.0,\"#f0f921\"]],\"type\":\"heatmap\"}],\"heatmapgl\":[{\"colorbar\":{\"outlinewidth\":0,\"ticks\":\"\"},\"colorscale\":[[0.0,\"#0d0887\"],[0.1111111111111111,\"#46039f\"],[0.2222222222222222,\"#7201a8\"],[0.3333333333333333,\"#9c179e\"],[0.4444444444444444,\"#bd3786\"],[0.5555555555555556,\"#d8576b\"],[0.6666666666666666,\"#ed7953\"],[0.7777777777777778,\"#fb9f3a\"],[0.8888888888888888,\"#fdca26\"],[1.0,\"#f0f921\"]],\"type\":\"heatmapgl\"}],\"histogram\":[{\"marker\":{\"pattern\":{\"fillmode\":\"overlay\",\"size\":10,\"solidity\":0.2}},\"type\":\"histogram\"}],\"histogram2d\":[{\"colorbar\":{\"outlinewidth\":0,\"ticks\":\"\"},\"colorscale\":[[0.0,\"#0d0887\"],[0.1111111111111111,\"#46039f\"],[0.2222222222222222,\"#7201a8\"],[0.3333333333333333,\"#9c179e\"],[0.4444444444444444,\"#bd3786\"],[0.5555555555555556,\"#d8576b\"],[0.6666666666666666,\"#ed7953\"],[0.7777777777777778,\"#fb9f3a\"],[0.8888888888888888,\"#fdca26\"],[1.0,\"#f0f921\"]],\"type\":\"histogram2d\"}],\"histogram2dcontour\":[{\"colorbar\":{\"outlinewidth\":0,\"ticks\":\"\"},\"colorscale\":[[0.0,\"#0d0887\"],[0.1111111111111111,\"#46039f\"],[0.2222222222222222,\"#7201a8\"],[0.3333333333333333,\"#9c179e\"],[0.4444444444444444,\"#bd3786\"],[0.5555555555555556,\"#d8576b\"],[0.6666666666666666,\"#ed7953\"],[0.7777777777777778,\"#fb9f3a\"],[0.8888888888888888,\"#fdca26\"],[1.0,\"#f0f921\"]],\"type\":\"histogram2dcontour\"}],\"mesh3d\":[{\"colorbar\":{\"outlinewidth\":0,\"ticks\":\"\"},\"type\":\"mesh3d\"}],\"parcoords\":[{\"line\":{\"colorbar\":{\"outlinewidth\":0,\"ticks\":\"\"}},\"type\":\"parcoords\"}],\"pie\":[{\"automargin\":true,\"type\":\"pie\"}],\"scatter\":[{\"marker\":{\"colorbar\":{\"outlinewidth\":0,\"ticks\":\"\"}},\"type\":\"scatter\"}],\"scatter3d\":[{\"line\":{\"colorbar\":{\"outlinewidth\":0,\"ticks\":\"\"}},\"marker\":{\"colorbar\":{\"outlinewidth\":0,\"ticks\":\"\"}},\"type\":\"scatter3d\"}],\"scattercarpet\":[{\"marker\":{\"colorbar\":{\"outlinewidth\":0,\"ticks\":\"\"}},\"type\":\"scattercarpet\"}],\"scattergeo\":[{\"marker\":{\"colorbar\":{\"outlinewidth\":0,\"ticks\":\"\"}},\"type\":\"scattergeo\"}],\"scattergl\":[{\"marker\":{\"colorbar\":{\"outlinewidth\":0,\"ticks\":\"\"}},\"type\":\"scattergl\"}],\"scattermapbox\":[{\"marker\":{\"colorbar\":{\"outlinewidth\":0,\"ticks\":\"\"}},\"type\":\"scattermapbox\"}],\"scatterpolar\":[{\"marker\":{\"colorbar\":{\"outlinewidth\":0,\"ticks\":\"\"}},\"type\":\"scatterpolar\"}],\"scatterpolargl\":[{\"marker\":{\"colorbar\":{\"outlinewidth\":0,\"ticks\":\"\"}},\"type\":\"scatterpolargl\"}],\"scatterternary\":[{\"marker\":{\"colorbar\":{\"outlinewidth\":0,\"ticks\":\"\"}},\"type\":\"scatterternary\"}],\"surface\":[{\"colorbar\":{\"outlinewidth\":0,\"ticks\":\"\"},\"colorscale\":[[0.0,\"#0d0887\"],[0.1111111111111111,\"#46039f\"],[0.2222222222222222,\"#7201a8\"],[0.3333333333333333,\"#9c179e\"],[0.4444444444444444,\"#bd3786\"],[0.5555555555555556,\"#d8576b\"],[0.6666666666666666,\"#ed7953\"],[0.7777777777777778,\"#fb9f3a\"],[0.8888888888888888,\"#fdca26\"],[1.0,\"#f0f921\"]],\"type\":\"surface\"}],\"table\":[{\"cells\":{\"fill\":{\"color\":\"#EBF0F8\"},\"line\":{\"color\":\"white\"}},\"header\":{\"fill\":{\"color\":\"#C8D4E3\"},\"line\":{\"color\":\"white\"}},\"type\":\"table\"}]},\"layout\":{\"annotationdefaults\":{\"arrowcolor\":\"#2a3f5f\",\"arrowhead\":0,\"arrowwidth\":1},\"autotypenumbers\":\"strict\",\"coloraxis\":{\"colorbar\":{\"outlinewidth\":0,\"ticks\":\"\"}},\"colorscale\":{\"diverging\":[[0,\"#8e0152\"],[0.1,\"#c51b7d\"],[0.2,\"#de77ae\"],[0.3,\"#f1b6da\"],[0.4,\"#fde0ef\"],[0.5,\"#f7f7f7\"],[0.6,\"#e6f5d0\"],[0.7,\"#b8e186\"],[0.8,\"#7fbc41\"],[0.9,\"#4d9221\"],[1,\"#276419\"]],\"sequential\":[[0.0,\"#0d0887\"],[0.1111111111111111,\"#46039f\"],[0.2222222222222222,\"#7201a8\"],[0.3333333333333333,\"#9c179e\"],[0.4444444444444444,\"#bd3786\"],[0.5555555555555556,\"#d8576b\"],[0.6666666666666666,\"#ed7953\"],[0.7777777777777778,\"#fb9f3a\"],[0.8888888888888888,\"#fdca26\"],[1.0,\"#f0f921\"]],\"sequentialminus\":[[0.0,\"#0d0887\"],[0.1111111111111111,\"#46039f\"],[0.2222222222222222,\"#7201a8\"],[0.3333333333333333,\"#9c179e\"],[0.4444444444444444,\"#bd3786\"],[0.5555555555555556,\"#d8576b\"],[0.6666666666666666,\"#ed7953\"],[0.7777777777777778,\"#fb9f3a\"],[0.8888888888888888,\"#fdca26\"],[1.0,\"#f0f921\"]]},\"colorway\":[\"#636efa\",\"#EF553B\",\"#00cc96\",\"#ab63fa\",\"#FFA15A\",\"#19d3f3\",\"#FF6692\",\"#B6E880\",\"#FF97FF\",\"#FECB52\"],\"font\":{\"color\":\"#2a3f5f\"},\"geo\":{\"bgcolor\":\"white\",\"lakecolor\":\"white\",\"landcolor\":\"#E5ECF6\",\"showlakes\":true,\"showland\":true,\"subunitcolor\":\"white\"},\"hoverlabel\":{\"align\":\"left\"},\"hovermode\":\"closest\",\"mapbox\":{\"style\":\"light\"},\"paper_bgcolor\":\"white\",\"plot_bgcolor\":\"#E5ECF6\",\"polar\":{\"angularaxis\":{\"gridcolor\":\"white\",\"linecolor\":\"white\",\"ticks\":\"\"},\"bgcolor\":\"#E5ECF6\",\"radialaxis\":{\"gridcolor\":\"white\",\"linecolor\":\"white\",\"ticks\":\"\"}},\"scene\":{\"xaxis\":{\"backgroundcolor\":\"#E5ECF6\",\"gridcolor\":\"white\",\"gridwidth\":2,\"linecolor\":\"white\",\"showbackground\":true,\"ticks\":\"\",\"zerolinecolor\":\"white\"},\"yaxis\":{\"backgroundcolor\":\"#E5ECF6\",\"gridcolor\":\"white\",\"gridwidth\":2,\"linecolor\":\"white\",\"showbackground\":true,\"ticks\":\"\",\"zerolinecolor\":\"white\"},\"zaxis\":{\"backgroundcolor\":\"#E5ECF6\",\"gridcolor\":\"white\",\"gridwidth\":2,\"linecolor\":\"white\",\"showbackground\":true,\"ticks\":\"\",\"zerolinecolor\":\"white\"}},\"shapedefaults\":{\"line\":{\"color\":\"#2a3f5f\"}},\"ternary\":{\"aaxis\":{\"gridcolor\":\"white\",\"linecolor\":\"white\",\"ticks\":\"\"},\"baxis\":{\"gridcolor\":\"white\",\"linecolor\":\"white\",\"ticks\":\"\"},\"bgcolor\":\"#E5ECF6\",\"caxis\":{\"gridcolor\":\"white\",\"linecolor\":\"white\",\"ticks\":\"\"}},\"title\":{\"x\":0.05},\"xaxis\":{\"automargin\":true,\"gridcolor\":\"white\",\"linecolor\":\"white\",\"ticks\":\"\",\"title\":{\"standoff\":15},\"zerolinecolor\":\"white\",\"zerolinewidth\":2},\"yaxis\":{\"automargin\":true,\"gridcolor\":\"white\",\"linecolor\":\"white\",\"ticks\":\"\",\"title\":{\"standoff\":15},\"zerolinecolor\":\"white\",\"zerolinewidth\":2}}},\"xaxis\":{\"anchor\":\"y\",\"domain\":[0.0,1.0],\"title\":{\"text\":\"x\"}},\"yaxis\":{\"anchor\":\"x\",\"domain\":[0.0,1.0],\"title\":{\"text\":\"y\"}},\"legend\":{\"title\":{\"text\":\"num\"},\"tracegroupgap\":0},\"margin\":{\"t\":60}},                        {\"responsive\": true}                    ).then(function(){\n",
       "                            \n",
       "var gd = document.getElementById('9c176d4f-570f-40b6-b3ac-0cc752e89b4d');\n",
       "var x = new MutationObserver(function (mutations, observer) {{\n",
       "        var display = window.getComputedStyle(gd).display;\n",
       "        if (!display || display === 'none') {{\n",
       "            console.log([gd, 'removed!']);\n",
       "            Plotly.purge(gd);\n",
       "            observer.disconnect();\n",
       "        }}\n",
       "}});\n",
       "\n",
       "// Listen for the removal of the full notebook cells\n",
       "var notebookContainer = gd.closest('#notebook-container');\n",
       "if (notebookContainer) {{\n",
       "    x.observe(notebookContainer, {childList: true});\n",
       "}}\n",
       "\n",
       "// Listen for the clearing of the current output cell\n",
       "var outputEl = gd.closest('.output');\n",
       "if (outputEl) {{\n",
       "    x.observe(outputEl, {childList: true});\n",
       "}}\n",
       "\n",
       "                        })                };                });            </script>        </div>"
      ]
     },
     "metadata": {},
     "output_type": "display_data"
    }
   ],
   "source": [
    "import plotly.graph_objects as go\n",
    "import plotly.express as px\n",
    "\n",
    "temp = []\n",
    "\n",
    "for idx, each in enumerate(tcv.oblimin_proc2_zs):\n",
    "    for i in range(20):\n",
    "        temp.append((each[i][0], each[i][1], str(i), 40+idx))\n",
    "\n",
    "\n",
    "temp = pd.DataFrame(temp, columns = [\"x\",\"y\",\"num\",\"txt\"])\n",
    "temp\n",
    "\n",
    "fig = px.scatter(temp, x=\"x\", y=\"y\", color = \"num\", text=\"txt\")\n",
    "fig.update_traces(textposition=\"bottom right\")\n",
    "fig.show()\n",
    "\n",
    "#30~70. 2, 10, 14, 18, 22"
   ]
  },
  {
   "cell_type": "code",
   "execution_count": 44,
   "id": "e765876b-3ebd-4ad6-8702-2ad5c1d54d8f",
   "metadata": {},
   "outputs": [],
   "source": [
    " for each in tcv.oblimin_proc2_zs:\n",
    "\n",
    "     plt.topic_coor_plot(each)"
   ]
  },
  {
   "cell_type": "code",
   "execution_count": 42,
   "id": "ecdf9c40-a7db-481c-8976-9a5904e7064b",
   "metadata": {},
   "outputs": [
    {
     "data": {
      "application/vnd.plotly.v1+json": {
       "config": {
        "plotlyServerURL": "https://plot.ly"
       },
       "data": [
        {
         "hovertemplate": "topic_name=0<br>coordinate_1=%{x}<br>coordinate_2=%{y}<extra></extra>",
         "legendgroup": "0",
         "marker": {
          "color": "#636efa",
          "symbol": "circle"
         },
         "mode": "markers",
         "name": "0",
         "orientation": "v",
         "showlegend": true,
         "type": "scatter",
         "x": [
          1.1189075560233412
         ],
         "xaxis": "x",
         "y": [
          0.23823200312999485
         ],
         "yaxis": "y"
        },
        {
         "hovertemplate": "topic_name=1<br>coordinate_1=%{x}<br>coordinate_2=%{y}<extra></extra>",
         "legendgroup": "1",
         "marker": {
          "color": "#EF553B",
          "symbol": "circle"
         },
         "mode": "markers",
         "name": "1",
         "orientation": "v",
         "showlegend": true,
         "type": "scatter",
         "x": [
          0.07039511379924944
         ],
         "xaxis": "x",
         "y": [
          0.04792249538157766
         ],
         "yaxis": "y"
        },
        {
         "hovertemplate": "topic_name=2<br>coordinate_1=%{x}<br>coordinate_2=%{y}<extra></extra>",
         "legendgroup": "2",
         "marker": {
          "color": "#00cc96",
          "symbol": "circle"
         },
         "mode": "markers",
         "name": "2",
         "orientation": "v",
         "showlegend": true,
         "type": "scatter",
         "x": [
          0.07387365537101426
         ],
         "xaxis": "x",
         "y": [
          -0.4480415988927117
         ],
         "yaxis": "y"
        },
        {
         "hovertemplate": "topic_name=3<br>coordinate_1=%{x}<br>coordinate_2=%{y}<extra></extra>",
         "legendgroup": "3",
         "marker": {
          "color": "#ab63fa",
          "symbol": "circle"
         },
         "mode": "markers",
         "name": "3",
         "orientation": "v",
         "showlegend": true,
         "type": "scatter",
         "x": [
          -0.4451946392747659
         ],
         "xaxis": "x",
         "y": [
          0.5715557858370706
         ],
         "yaxis": "y"
        },
        {
         "hovertemplate": "topic_name=4<br>coordinate_1=%{x}<br>coordinate_2=%{y}<extra></extra>",
         "legendgroup": "4",
         "marker": {
          "color": "#FFA15A",
          "symbol": "circle"
         },
         "mode": "markers",
         "name": "4",
         "orientation": "v",
         "showlegend": true,
         "type": "scatter",
         "x": [
          0.25064053373327694
         ],
         "xaxis": "x",
         "y": [
          -0.00917163943096125
         ],
         "yaxis": "y"
        },
        {
         "hovertemplate": "topic_name=5<br>coordinate_1=%{x}<br>coordinate_2=%{y}<extra></extra>",
         "legendgroup": "5",
         "marker": {
          "color": "#19d3f3",
          "symbol": "circle"
         },
         "mode": "markers",
         "name": "5",
         "orientation": "v",
         "showlegend": true,
         "type": "scatter",
         "x": [
          -0.28852469826369076
         ],
         "xaxis": "x",
         "y": [
          0.1470491136211641
         ],
         "yaxis": "y"
        },
        {
         "hovertemplate": "topic_name=6<br>coordinate_1=%{x}<br>coordinate_2=%{y}<extra></extra>",
         "legendgroup": "6",
         "marker": {
          "color": "#FF6692",
          "symbol": "circle"
         },
         "mode": "markers",
         "name": "6",
         "orientation": "v",
         "showlegend": true,
         "type": "scatter",
         "x": [
          0.3057996179471365
         ],
         "xaxis": "x",
         "y": [
          -0.6139400478178625
         ],
         "yaxis": "y"
        },
        {
         "hovertemplate": "topic_name=7<br>coordinate_1=%{x}<br>coordinate_2=%{y}<extra></extra>",
         "legendgroup": "7",
         "marker": {
          "color": "#B6E880",
          "symbol": "circle"
         },
         "mode": "markers",
         "name": "7",
         "orientation": "v",
         "showlegend": true,
         "type": "scatter",
         "x": [
          -0.6891214893192505
         ],
         "xaxis": "x",
         "y": [
          -0.34446230466183
         ],
         "yaxis": "y"
        },
        {
         "hovertemplate": "topic_name=8<br>coordinate_1=%{x}<br>coordinate_2=%{y}<extra></extra>",
         "legendgroup": "8",
         "marker": {
          "color": "#FF97FF",
          "symbol": "circle"
         },
         "mode": "markers",
         "name": "8",
         "orientation": "v",
         "showlegend": true,
         "type": "scatter",
         "x": [
          0.27273831438456775
         ],
         "xaxis": "x",
         "y": [
          -0.3493391258957164
         ],
         "yaxis": "y"
        },
        {
         "hovertemplate": "topic_name=9<br>coordinate_1=%{x}<br>coordinate_2=%{y}<extra></extra>",
         "legendgroup": "9",
         "marker": {
          "color": "#FECB52",
          "symbol": "circle"
         },
         "mode": "markers",
         "name": "9",
         "orientation": "v",
         "showlegend": true,
         "type": "scatter",
         "x": [
          0.5774231998564292
         ],
         "xaxis": "x",
         "y": [
          0.07397875674448538
         ],
         "yaxis": "y"
        },
        {
         "hovertemplate": "topic_name=10<br>coordinate_1=%{x}<br>coordinate_2=%{y}<extra></extra>",
         "legendgroup": "10",
         "marker": {
          "color": "#636efa",
          "symbol": "circle"
         },
         "mode": "markers",
         "name": "10",
         "orientation": "v",
         "showlegend": true,
         "type": "scatter",
         "x": [
          -0.01429283005131444
         ],
         "xaxis": "x",
         "y": [
          -0.6164953915065454
         ],
         "yaxis": "y"
        },
        {
         "hovertemplate": "topic_name=11<br>coordinate_1=%{x}<br>coordinate_2=%{y}<extra></extra>",
         "legendgroup": "11",
         "marker": {
          "color": "#EF553B",
          "symbol": "circle"
         },
         "mode": "markers",
         "name": "11",
         "orientation": "v",
         "showlegend": true,
         "type": "scatter",
         "x": [
          -0.6289451312228811
         ],
         "xaxis": "x",
         "y": [
          0.2049530969553038
         ],
         "yaxis": "y"
        },
        {
         "hovertemplate": "topic_name=12<br>coordinate_1=%{x}<br>coordinate_2=%{y}<extra></extra>",
         "legendgroup": "12",
         "marker": {
          "color": "#00cc96",
          "symbol": "circle"
         },
         "mode": "markers",
         "name": "12",
         "orientation": "v",
         "showlegend": true,
         "type": "scatter",
         "x": [
          -0.06731681621380178
         ],
         "xaxis": "x",
         "y": [
          0.26893972216771195
         ],
         "yaxis": "y"
        },
        {
         "hovertemplate": "topic_name=13<br>coordinate_1=%{x}<br>coordinate_2=%{y}<extra></extra>",
         "legendgroup": "13",
         "marker": {
          "color": "#ab63fa",
          "symbol": "circle"
         },
         "mode": "markers",
         "name": "13",
         "orientation": "v",
         "showlegend": true,
         "type": "scatter",
         "x": [
          -0.17769536003304556
         ],
         "xaxis": "x",
         "y": [
          0.3210186534654806
         ],
         "yaxis": "y"
        },
        {
         "hovertemplate": "topic_name=14<br>coordinate_1=%{x}<br>coordinate_2=%{y}<extra></extra>",
         "legendgroup": "14",
         "marker": {
          "color": "#FFA15A",
          "symbol": "circle"
         },
         "mode": "markers",
         "name": "14",
         "orientation": "v",
         "showlegend": true,
         "type": "scatter",
         "x": [
          -0.11309125961893424
         ],
         "xaxis": "x",
         "y": [
          0.4283398461968409
         ],
         "yaxis": "y"
        },
        {
         "hovertemplate": "topic_name=15<br>coordinate_1=%{x}<br>coordinate_2=%{y}<extra></extra>",
         "legendgroup": "15",
         "marker": {
          "color": "#19d3f3",
          "symbol": "circle"
         },
         "mode": "markers",
         "name": "15",
         "orientation": "v",
         "showlegend": true,
         "type": "scatter",
         "x": [
          0.8616960845832577
         ],
         "xaxis": "x",
         "y": [
          0.17987943701950185
         ],
         "yaxis": "y"
        },
        {
         "hovertemplate": "topic_name=16<br>coordinate_1=%{x}<br>coordinate_2=%{y}<extra></extra>",
         "legendgroup": "16",
         "marker": {
          "color": "#FF6692",
          "symbol": "circle"
         },
         "mode": "markers",
         "name": "16",
         "orientation": "v",
         "showlegend": true,
         "type": "scatter",
         "x": [
          0.5231511232573248
         ],
         "xaxis": "x",
         "y": [
          0.15760536178966508
         ],
         "yaxis": "y"
        },
        {
         "hovertemplate": "topic_name=17<br>coordinate_1=%{x}<br>coordinate_2=%{y}<extra></extra>",
         "legendgroup": "17",
         "marker": {
          "color": "#B6E880",
          "symbol": "circle"
         },
         "mode": "markers",
         "name": "17",
         "orientation": "v",
         "showlegend": true,
         "type": "scatter",
         "x": [
          -0.2656983425551033
         ],
         "xaxis": "x",
         "y": [
          0.4492059629543402
         ],
         "yaxis": "y"
        },
        {
         "hovertemplate": "topic_name=18<br>coordinate_1=%{x}<br>coordinate_2=%{y}<extra></extra>",
         "legendgroup": "18",
         "marker": {
          "color": "#FF97FF",
          "symbol": "circle"
         },
         "mode": "markers",
         "name": "18",
         "orientation": "v",
         "showlegend": true,
         "type": "scatter",
         "x": [
          0.1090784161011413
         ],
         "xaxis": "x",
         "y": [
          -0.582834815654178
         ],
         "yaxis": "y"
        },
        {
         "hovertemplate": "topic_name=19<br>coordinate_1=%{x}<br>coordinate_2=%{y}<extra></extra>",
         "legendgroup": "19",
         "marker": {
          "color": "#FECB52",
          "symbol": "circle"
         },
         "mode": "markers",
         "name": "19",
         "orientation": "v",
         "showlegend": true,
         "type": "scatter",
         "x": [
          0.5734823229451738
         ],
         "xaxis": "x",
         "y": [
          0.3497723745005189
         ],
         "yaxis": "y"
        }
       ],
       "layout": {
        "autosize": true,
        "legend": {
         "title": {
          "text": "topic_name"
         },
         "tracegroupgap": 0
        },
        "margin": {
         "t": 60
        },
        "template": {
         "data": {
          "bar": [
           {
            "error_x": {
             "color": "#2a3f5f"
            },
            "error_y": {
             "color": "#2a3f5f"
            },
            "marker": {
             "line": {
              "color": "#E5ECF6",
              "width": 0.5
             },
             "pattern": {
              "fillmode": "overlay",
              "size": 10,
              "solidity": 0.2
             }
            },
            "type": "bar"
           }
          ],
          "barpolar": [
           {
            "marker": {
             "line": {
              "color": "#E5ECF6",
              "width": 0.5
             },
             "pattern": {
              "fillmode": "overlay",
              "size": 10,
              "solidity": 0.2
             }
            },
            "type": "barpolar"
           }
          ],
          "carpet": [
           {
            "aaxis": {
             "endlinecolor": "#2a3f5f",
             "gridcolor": "white",
             "linecolor": "white",
             "minorgridcolor": "white",
             "startlinecolor": "#2a3f5f"
            },
            "baxis": {
             "endlinecolor": "#2a3f5f",
             "gridcolor": "white",
             "linecolor": "white",
             "minorgridcolor": "white",
             "startlinecolor": "#2a3f5f"
            },
            "type": "carpet"
           }
          ],
          "choropleth": [
           {
            "colorbar": {
             "outlinewidth": 0,
             "ticks": ""
            },
            "type": "choropleth"
           }
          ],
          "contour": [
           {
            "colorbar": {
             "outlinewidth": 0,
             "ticks": ""
            },
            "colorscale": [
             [
              0,
              "#0d0887"
             ],
             [
              0.1111111111111111,
              "#46039f"
             ],
             [
              0.2222222222222222,
              "#7201a8"
             ],
             [
              0.3333333333333333,
              "#9c179e"
             ],
             [
              0.4444444444444444,
              "#bd3786"
             ],
             [
              0.5555555555555556,
              "#d8576b"
             ],
             [
              0.6666666666666666,
              "#ed7953"
             ],
             [
              0.7777777777777778,
              "#fb9f3a"
             ],
             [
              0.8888888888888888,
              "#fdca26"
             ],
             [
              1,
              "#f0f921"
             ]
            ],
            "type": "contour"
           }
          ],
          "contourcarpet": [
           {
            "colorbar": {
             "outlinewidth": 0,
             "ticks": ""
            },
            "type": "contourcarpet"
           }
          ],
          "heatmap": [
           {
            "colorbar": {
             "outlinewidth": 0,
             "ticks": ""
            },
            "colorscale": [
             [
              0,
              "#0d0887"
             ],
             [
              0.1111111111111111,
              "#46039f"
             ],
             [
              0.2222222222222222,
              "#7201a8"
             ],
             [
              0.3333333333333333,
              "#9c179e"
             ],
             [
              0.4444444444444444,
              "#bd3786"
             ],
             [
              0.5555555555555556,
              "#d8576b"
             ],
             [
              0.6666666666666666,
              "#ed7953"
             ],
             [
              0.7777777777777778,
              "#fb9f3a"
             ],
             [
              0.8888888888888888,
              "#fdca26"
             ],
             [
              1,
              "#f0f921"
             ]
            ],
            "type": "heatmap"
           }
          ],
          "heatmapgl": [
           {
            "colorbar": {
             "outlinewidth": 0,
             "ticks": ""
            },
            "colorscale": [
             [
              0,
              "#0d0887"
             ],
             [
              0.1111111111111111,
              "#46039f"
             ],
             [
              0.2222222222222222,
              "#7201a8"
             ],
             [
              0.3333333333333333,
              "#9c179e"
             ],
             [
              0.4444444444444444,
              "#bd3786"
             ],
             [
              0.5555555555555556,
              "#d8576b"
             ],
             [
              0.6666666666666666,
              "#ed7953"
             ],
             [
              0.7777777777777778,
              "#fb9f3a"
             ],
             [
              0.8888888888888888,
              "#fdca26"
             ],
             [
              1,
              "#f0f921"
             ]
            ],
            "type": "heatmapgl"
           }
          ],
          "histogram": [
           {
            "marker": {
             "pattern": {
              "fillmode": "overlay",
              "size": 10,
              "solidity": 0.2
             }
            },
            "type": "histogram"
           }
          ],
          "histogram2d": [
           {
            "colorbar": {
             "outlinewidth": 0,
             "ticks": ""
            },
            "colorscale": [
             [
              0,
              "#0d0887"
             ],
             [
              0.1111111111111111,
              "#46039f"
             ],
             [
              0.2222222222222222,
              "#7201a8"
             ],
             [
              0.3333333333333333,
              "#9c179e"
             ],
             [
              0.4444444444444444,
              "#bd3786"
             ],
             [
              0.5555555555555556,
              "#d8576b"
             ],
             [
              0.6666666666666666,
              "#ed7953"
             ],
             [
              0.7777777777777778,
              "#fb9f3a"
             ],
             [
              0.8888888888888888,
              "#fdca26"
             ],
             [
              1,
              "#f0f921"
             ]
            ],
            "type": "histogram2d"
           }
          ],
          "histogram2dcontour": [
           {
            "colorbar": {
             "outlinewidth": 0,
             "ticks": ""
            },
            "colorscale": [
             [
              0,
              "#0d0887"
             ],
             [
              0.1111111111111111,
              "#46039f"
             ],
             [
              0.2222222222222222,
              "#7201a8"
             ],
             [
              0.3333333333333333,
              "#9c179e"
             ],
             [
              0.4444444444444444,
              "#bd3786"
             ],
             [
              0.5555555555555556,
              "#d8576b"
             ],
             [
              0.6666666666666666,
              "#ed7953"
             ],
             [
              0.7777777777777778,
              "#fb9f3a"
             ],
             [
              0.8888888888888888,
              "#fdca26"
             ],
             [
              1,
              "#f0f921"
             ]
            ],
            "type": "histogram2dcontour"
           }
          ],
          "mesh3d": [
           {
            "colorbar": {
             "outlinewidth": 0,
             "ticks": ""
            },
            "type": "mesh3d"
           }
          ],
          "parcoords": [
           {
            "line": {
             "colorbar": {
              "outlinewidth": 0,
              "ticks": ""
             }
            },
            "type": "parcoords"
           }
          ],
          "pie": [
           {
            "automargin": true,
            "type": "pie"
           }
          ],
          "scatter": [
           {
            "marker": {
             "colorbar": {
              "outlinewidth": 0,
              "ticks": ""
             }
            },
            "type": "scatter"
           }
          ],
          "scatter3d": [
           {
            "line": {
             "colorbar": {
              "outlinewidth": 0,
              "ticks": ""
             }
            },
            "marker": {
             "colorbar": {
              "outlinewidth": 0,
              "ticks": ""
             }
            },
            "type": "scatter3d"
           }
          ],
          "scattercarpet": [
           {
            "marker": {
             "colorbar": {
              "outlinewidth": 0,
              "ticks": ""
             }
            },
            "type": "scattercarpet"
           }
          ],
          "scattergeo": [
           {
            "marker": {
             "colorbar": {
              "outlinewidth": 0,
              "ticks": ""
             }
            },
            "type": "scattergeo"
           }
          ],
          "scattergl": [
           {
            "marker": {
             "colorbar": {
              "outlinewidth": 0,
              "ticks": ""
             }
            },
            "type": "scattergl"
           }
          ],
          "scattermapbox": [
           {
            "marker": {
             "colorbar": {
              "outlinewidth": 0,
              "ticks": ""
             }
            },
            "type": "scattermapbox"
           }
          ],
          "scatterpolar": [
           {
            "marker": {
             "colorbar": {
              "outlinewidth": 0,
              "ticks": ""
             }
            },
            "type": "scatterpolar"
           }
          ],
          "scatterpolargl": [
           {
            "marker": {
             "colorbar": {
              "outlinewidth": 0,
              "ticks": ""
             }
            },
            "type": "scatterpolargl"
           }
          ],
          "scatterternary": [
           {
            "marker": {
             "colorbar": {
              "outlinewidth": 0,
              "ticks": ""
             }
            },
            "type": "scatterternary"
           }
          ],
          "surface": [
           {
            "colorbar": {
             "outlinewidth": 0,
             "ticks": ""
            },
            "colorscale": [
             [
              0,
              "#0d0887"
             ],
             [
              0.1111111111111111,
              "#46039f"
             ],
             [
              0.2222222222222222,
              "#7201a8"
             ],
             [
              0.3333333333333333,
              "#9c179e"
             ],
             [
              0.4444444444444444,
              "#bd3786"
             ],
             [
              0.5555555555555556,
              "#d8576b"
             ],
             [
              0.6666666666666666,
              "#ed7953"
             ],
             [
              0.7777777777777778,
              "#fb9f3a"
             ],
             [
              0.8888888888888888,
              "#fdca26"
             ],
             [
              1,
              "#f0f921"
             ]
            ],
            "type": "surface"
           }
          ],
          "table": [
           {
            "cells": {
             "fill": {
              "color": "#EBF0F8"
             },
             "line": {
              "color": "white"
             }
            },
            "header": {
             "fill": {
              "color": "#C8D4E3"
             },
             "line": {
              "color": "white"
             }
            },
            "type": "table"
           }
          ]
         },
         "layout": {
          "annotationdefaults": {
           "arrowcolor": "#2a3f5f",
           "arrowhead": 0,
           "arrowwidth": 1
          },
          "autotypenumbers": "strict",
          "coloraxis": {
           "colorbar": {
            "outlinewidth": 0,
            "ticks": ""
           }
          },
          "colorscale": {
           "diverging": [
            [
             0,
             "#8e0152"
            ],
            [
             0.1,
             "#c51b7d"
            ],
            [
             0.2,
             "#de77ae"
            ],
            [
             0.3,
             "#f1b6da"
            ],
            [
             0.4,
             "#fde0ef"
            ],
            [
             0.5,
             "#f7f7f7"
            ],
            [
             0.6,
             "#e6f5d0"
            ],
            [
             0.7,
             "#b8e186"
            ],
            [
             0.8,
             "#7fbc41"
            ],
            [
             0.9,
             "#4d9221"
            ],
            [
             1,
             "#276419"
            ]
           ],
           "sequential": [
            [
             0,
             "#0d0887"
            ],
            [
             0.1111111111111111,
             "#46039f"
            ],
            [
             0.2222222222222222,
             "#7201a8"
            ],
            [
             0.3333333333333333,
             "#9c179e"
            ],
            [
             0.4444444444444444,
             "#bd3786"
            ],
            [
             0.5555555555555556,
             "#d8576b"
            ],
            [
             0.6666666666666666,
             "#ed7953"
            ],
            [
             0.7777777777777778,
             "#fb9f3a"
            ],
            [
             0.8888888888888888,
             "#fdca26"
            ],
            [
             1,
             "#f0f921"
            ]
           ],
           "sequentialminus": [
            [
             0,
             "#0d0887"
            ],
            [
             0.1111111111111111,
             "#46039f"
            ],
            [
             0.2222222222222222,
             "#7201a8"
            ],
            [
             0.3333333333333333,
             "#9c179e"
            ],
            [
             0.4444444444444444,
             "#bd3786"
            ],
            [
             0.5555555555555556,
             "#d8576b"
            ],
            [
             0.6666666666666666,
             "#ed7953"
            ],
            [
             0.7777777777777778,
             "#fb9f3a"
            ],
            [
             0.8888888888888888,
             "#fdca26"
            ],
            [
             1,
             "#f0f921"
            ]
           ]
          },
          "colorway": [
           "#636efa",
           "#EF553B",
           "#00cc96",
           "#ab63fa",
           "#FFA15A",
           "#19d3f3",
           "#FF6692",
           "#B6E880",
           "#FF97FF",
           "#FECB52"
          ],
          "font": {
           "color": "#2a3f5f"
          },
          "geo": {
           "bgcolor": "white",
           "lakecolor": "white",
           "landcolor": "#E5ECF6",
           "showlakes": true,
           "showland": true,
           "subunitcolor": "white"
          },
          "hoverlabel": {
           "align": "left"
          },
          "hovermode": "closest",
          "mapbox": {
           "style": "light"
          },
          "paper_bgcolor": "white",
          "plot_bgcolor": "#E5ECF6",
          "polar": {
           "angularaxis": {
            "gridcolor": "white",
            "linecolor": "white",
            "ticks": ""
           },
           "bgcolor": "#E5ECF6",
           "radialaxis": {
            "gridcolor": "white",
            "linecolor": "white",
            "ticks": ""
           }
          },
          "scene": {
           "xaxis": {
            "backgroundcolor": "#E5ECF6",
            "gridcolor": "white",
            "gridwidth": 2,
            "linecolor": "white",
            "showbackground": true,
            "ticks": "",
            "zerolinecolor": "white"
           },
           "yaxis": {
            "backgroundcolor": "#E5ECF6",
            "gridcolor": "white",
            "gridwidth": 2,
            "linecolor": "white",
            "showbackground": true,
            "ticks": "",
            "zerolinecolor": "white"
           },
           "zaxis": {
            "backgroundcolor": "#E5ECF6",
            "gridcolor": "white",
            "gridwidth": 2,
            "linecolor": "white",
            "showbackground": true,
            "ticks": "",
            "zerolinecolor": "white"
           }
          },
          "shapedefaults": {
           "line": {
            "color": "#2a3f5f"
           }
          },
          "ternary": {
           "aaxis": {
            "gridcolor": "white",
            "linecolor": "white",
            "ticks": ""
           },
           "baxis": {
            "gridcolor": "white",
            "linecolor": "white",
            "ticks": ""
           },
           "bgcolor": "#E5ECF6",
           "caxis": {
            "gridcolor": "white",
            "linecolor": "white",
            "ticks": ""
           }
          },
          "title": {
           "x": 0.05
          },
          "xaxis": {
           "automargin": true,
           "gridcolor": "white",
           "linecolor": "white",
           "ticks": "",
           "title": {
            "standoff": 15
           },
           "zerolinecolor": "white",
           "zerolinewidth": 2
          },
          "yaxis": {
           "automargin": true,
           "gridcolor": "white",
           "linecolor": "white",
           "ticks": "",
           "title": {
            "standoff": 15
           },
           "zerolinecolor": "white",
           "zerolinewidth": 2
          }
         }
        },
        "xaxis": {
         "anchor": "y",
         "domain": [
          0,
          1
         ],
         "range": [
          -1.4189075560233413,
          1.4189075560233413
         ],
         "title": {
          "text": "coordinate_1"
         },
         "type": "linear",
         "zeroline": true,
         "zerolinecolor": "gray"
        },
        "yaxis": {
         "anchor": "x",
         "domain": [
          0,
          1
         ],
         "range": [
          -0.9164953915065455,
          0.9164953915065455
         ],
         "title": {
          "text": "coordinate_2"
         },
         "type": "linear",
         "zeroline": true,
         "zerolinecolor": "gray"
        }
       }
      },
      "image/png": "[encoded data removed]",
      "text/html": [
       "<div>                            <div id=\"88cf3889-6a71-4e72-bdf4-1652e41452d3\" class=\"plotly-graph-div\" style=\"height:525px; width:100%;\"></div>            <script type=\"text/javascript\">                require([\"plotly\"], function(Plotly) {                    window.PLOTLYENV=window.PLOTLYENV || {};                                    if (document.getElementById(\"88cf3889-6a71-4e72-bdf4-1652e41452d3\")) {                    Plotly.newPlot(                        \"88cf3889-6a71-4e72-bdf4-1652e41452d3\",                        [{\"hovertemplate\":\"topic_name=0<br>coordinate_1=%{x}<br>coordinate_2=%{y}<extra></extra>\",\"legendgroup\":\"0\",\"marker\":{\"color\":\"#636efa\",\"symbol\":\"circle\"},\"mode\":\"markers\",\"name\":\"0\",\"orientation\":\"v\",\"showlegend\":true,\"x\":[1.1189075560233412],\"xaxis\":\"x\",\"y\":[0.23823200312999485],\"yaxis\":\"y\",\"type\":\"scatter\"},{\"hovertemplate\":\"topic_name=1<br>coordinate_1=%{x}<br>coordinate_2=%{y}<extra></extra>\",\"legendgroup\":\"1\",\"marker\":{\"color\":\"#EF553B\",\"symbol\":\"circle\"},\"mode\":\"markers\",\"name\":\"1\",\"orientation\":\"v\",\"showlegend\":true,\"x\":[0.07039511379924944],\"xaxis\":\"x\",\"y\":[0.04792249538157766],\"yaxis\":\"y\",\"type\":\"scatter\"},{\"hovertemplate\":\"topic_name=2<br>coordinate_1=%{x}<br>coordinate_2=%{y}<extra></extra>\",\"legendgroup\":\"2\",\"marker\":{\"color\":\"#00cc96\",\"symbol\":\"circle\"},\"mode\":\"markers\",\"name\":\"2\",\"orientation\":\"v\",\"showlegend\":true,\"x\":[0.07387365537101426],\"xaxis\":\"x\",\"y\":[-0.4480415988927117],\"yaxis\":\"y\",\"type\":\"scatter\"},{\"hovertemplate\":\"topic_name=3<br>coordinate_1=%{x}<br>coordinate_2=%{y}<extra></extra>\",\"legendgroup\":\"3\",\"marker\":{\"color\":\"#ab63fa\",\"symbol\":\"circle\"},\"mode\":\"markers\",\"name\":\"3\",\"orientation\":\"v\",\"showlegend\":true,\"x\":[-0.4451946392747659],\"xaxis\":\"x\",\"y\":[0.5715557858370706],\"yaxis\":\"y\",\"type\":\"scatter\"},{\"hovertemplate\":\"topic_name=4<br>coordinate_1=%{x}<br>coordinate_2=%{y}<extra></extra>\",\"legendgroup\":\"4\",\"marker\":{\"color\":\"#FFA15A\",\"symbol\":\"circle\"},\"mode\":\"markers\",\"name\":\"4\",\"orientation\":\"v\",\"showlegend\":true,\"x\":[0.25064053373327694],\"xaxis\":\"x\",\"y\":[-0.00917163943096125],\"yaxis\":\"y\",\"type\":\"scatter\"},{\"hovertemplate\":\"topic_name=5<br>coordinate_1=%{x}<br>coordinate_2=%{y}<extra></extra>\",\"legendgroup\":\"5\",\"marker\":{\"color\":\"#19d3f3\",\"symbol\":\"circle\"},\"mode\":\"markers\",\"name\":\"5\",\"orientation\":\"v\",\"showlegend\":true,\"x\":[-0.28852469826369076],\"xaxis\":\"x\",\"y\":[0.1470491136211641],\"yaxis\":\"y\",\"type\":\"scatter\"},{\"hovertemplate\":\"topic_name=6<br>coordinate_1=%{x}<br>coordinate_2=%{y}<extra></extra>\",\"legendgroup\":\"6\",\"marker\":{\"color\":\"#FF6692\",\"symbol\":\"circle\"},\"mode\":\"markers\",\"name\":\"6\",\"orientation\":\"v\",\"showlegend\":true,\"x\":[0.3057996179471365],\"xaxis\":\"x\",\"y\":[-0.6139400478178625],\"yaxis\":\"y\",\"type\":\"scatter\"},{\"hovertemplate\":\"topic_name=7<br>coordinate_1=%{x}<br>coordinate_2=%{y}<extra></extra>\",\"legendgroup\":\"7\",\"marker\":{\"color\":\"#B6E880\",\"symbol\":\"circle\"},\"mode\":\"markers\",\"name\":\"7\",\"orientation\":\"v\",\"showlegend\":true,\"x\":[-0.6891214893192505],\"xaxis\":\"x\",\"y\":[-0.34446230466183],\"yaxis\":\"y\",\"type\":\"scatter\"},{\"hovertemplate\":\"topic_name=8<br>coordinate_1=%{x}<br>coordinate_2=%{y}<extra></extra>\",\"legendgroup\":\"8\",\"marker\":{\"color\":\"#FF97FF\",\"symbol\":\"circle\"},\"mode\":\"markers\",\"name\":\"8\",\"orientation\":\"v\",\"showlegend\":true,\"x\":[0.27273831438456775],\"xaxis\":\"x\",\"y\":[-0.3493391258957164],\"yaxis\":\"y\",\"type\":\"scatter\"},{\"hovertemplate\":\"topic_name=9<br>coordinate_1=%{x}<br>coordinate_2=%{y}<extra></extra>\",\"legendgroup\":\"9\",\"marker\":{\"color\":\"#FECB52\",\"symbol\":\"circle\"},\"mode\":\"markers\",\"name\":\"9\",\"orientation\":\"v\",\"showlegend\":true,\"x\":[0.5774231998564292],\"xaxis\":\"x\",\"y\":[0.07397875674448538],\"yaxis\":\"y\",\"type\":\"scatter\"},{\"hovertemplate\":\"topic_name=10<br>coordinate_1=%{x}<br>coordinate_2=%{y}<extra></extra>\",\"legendgroup\":\"10\",\"marker\":{\"color\":\"#636efa\",\"symbol\":\"circle\"},\"mode\":\"markers\",\"name\":\"10\",\"orientation\":\"v\",\"showlegend\":true,\"x\":[-0.01429283005131444],\"xaxis\":\"x\",\"y\":[-0.6164953915065454],\"yaxis\":\"y\",\"type\":\"scatter\"},{\"hovertemplate\":\"topic_name=11<br>coordinate_1=%{x}<br>coordinate_2=%{y}<extra></extra>\",\"legendgroup\":\"11\",\"marker\":{\"color\":\"#EF553B\",\"symbol\":\"circle\"},\"mode\":\"markers\",\"name\":\"11\",\"orientation\":\"v\",\"showlegend\":true,\"x\":[-0.6289451312228811],\"xaxis\":\"x\",\"y\":[0.2049530969553038],\"yaxis\":\"y\",\"type\":\"scatter\"},{\"hovertemplate\":\"topic_name=12<br>coordinate_1=%{x}<br>coordinate_2=%{y}<extra></extra>\",\"legendgroup\":\"12\",\"marker\":{\"color\":\"#00cc96\",\"symbol\":\"circle\"},\"mode\":\"markers\",\"name\":\"12\",\"orientation\":\"v\",\"showlegend\":true,\"x\":[-0.06731681621380178],\"xaxis\":\"x\",\"y\":[0.26893972216771195],\"yaxis\":\"y\",\"type\":\"scatter\"},{\"hovertemplate\":\"topic_name=13<br>coordinate_1=%{x}<br>coordinate_2=%{y}<extra></extra>\",\"legendgroup\":\"13\",\"marker\":{\"color\":\"#ab63fa\",\"symbol\":\"circle\"},\"mode\":\"markers\",\"name\":\"13\",\"orientation\":\"v\",\"showlegend\":true,\"x\":[-0.17769536003304556],\"xaxis\":\"x\",\"y\":[0.3210186534654806],\"yaxis\":\"y\",\"type\":\"scatter\"},{\"hovertemplate\":\"topic_name=14<br>coordinate_1=%{x}<br>coordinate_2=%{y}<extra></extra>\",\"legendgroup\":\"14\",\"marker\":{\"color\":\"#FFA15A\",\"symbol\":\"circle\"},\"mode\":\"markers\",\"name\":\"14\",\"orientation\":\"v\",\"showlegend\":true,\"x\":[-0.11309125961893424],\"xaxis\":\"x\",\"y\":[0.4283398461968409],\"yaxis\":\"y\",\"type\":\"scatter\"},{\"hovertemplate\":\"topic_name=15<br>coordinate_1=%{x}<br>coordinate_2=%{y}<extra></extra>\",\"legendgroup\":\"15\",\"marker\":{\"color\":\"#19d3f3\",\"symbol\":\"circle\"},\"mode\":\"markers\",\"name\":\"15\",\"orientation\":\"v\",\"showlegend\":true,\"x\":[0.8616960845832577],\"xaxis\":\"x\",\"y\":[0.17987943701950185],\"yaxis\":\"y\",\"type\":\"scatter\"},{\"hovertemplate\":\"topic_name=16<br>coordinate_1=%{x}<br>coordinate_2=%{y}<extra></extra>\",\"legendgroup\":\"16\",\"marker\":{\"color\":\"#FF6692\",\"symbol\":\"circle\"},\"mode\":\"markers\",\"name\":\"16\",\"orientation\":\"v\",\"showlegend\":true,\"x\":[0.5231511232573248],\"xaxis\":\"x\",\"y\":[0.15760536178966508],\"yaxis\":\"y\",\"type\":\"scatter\"},{\"hovertemplate\":\"topic_name=17<br>coordinate_1=%{x}<br>coordinate_2=%{y}<extra></extra>\",\"legendgroup\":\"17\",\"marker\":{\"color\":\"#B6E880\",\"symbol\":\"circle\"},\"mode\":\"markers\",\"name\":\"17\",\"orientation\":\"v\",\"showlegend\":true,\"x\":[-0.2656983425551033],\"xaxis\":\"x\",\"y\":[0.4492059629543402],\"yaxis\":\"y\",\"type\":\"scatter\"},{\"hovertemplate\":\"topic_name=18<br>coordinate_1=%{x}<br>coordinate_2=%{y}<extra></extra>\",\"legendgroup\":\"18\",\"marker\":{\"color\":\"#FF97FF\",\"symbol\":\"circle\"},\"mode\":\"markers\",\"name\":\"18\",\"orientation\":\"v\",\"showlegend\":true,\"x\":[0.1090784161011413],\"xaxis\":\"x\",\"y\":[-0.582834815654178],\"yaxis\":\"y\",\"type\":\"scatter\"},{\"hovertemplate\":\"topic_name=19<br>coordinate_1=%{x}<br>coordinate_2=%{y}<extra></extra>\",\"legendgroup\":\"19\",\"marker\":{\"color\":\"#FECB52\",\"symbol\":\"circle\"},\"mode\":\"markers\",\"name\":\"19\",\"orientation\":\"v\",\"showlegend\":true,\"x\":[0.5734823229451738],\"xaxis\":\"x\",\"y\":[0.3497723745005189],\"yaxis\":\"y\",\"type\":\"scatter\"}],                        {\"template\":{\"data\":{\"bar\":[{\"error_x\":{\"color\":\"#2a3f5f\"},\"error_y\":{\"color\":\"#2a3f5f\"},\"marker\":{\"line\":{\"color\":\"#E5ECF6\",\"width\":0.5},\"pattern\":{\"fillmode\":\"overlay\",\"size\":10,\"solidity\":0.2}},\"type\":\"bar\"}],\"barpolar\":[{\"marker\":{\"line\":{\"color\":\"#E5ECF6\",\"width\":0.5},\"pattern\":{\"fillmode\":\"overlay\",\"size\":10,\"solidity\":0.2}},\"type\":\"barpolar\"}],\"carpet\":[{\"aaxis\":{\"endlinecolor\":\"#2a3f5f\",\"gridcolor\":\"white\",\"linecolor\":\"white\",\"minorgridcolor\":\"white\",\"startlinecolor\":\"#2a3f5f\"},\"baxis\":{\"endlinecolor\":\"#2a3f5f\",\"gridcolor\":\"white\",\"linecolor\":\"white\",\"minorgridcolor\":\"white\",\"startlinecolor\":\"#2a3f5f\"},\"type\":\"carpet\"}],\"choropleth\":[{\"colorbar\":{\"outlinewidth\":0,\"ticks\":\"\"},\"type\":\"choropleth\"}],\"contour\":[{\"colorbar\":{\"outlinewidth\":0,\"ticks\":\"\"},\"colorscale\":[[0.0,\"#0d0887\"],[0.1111111111111111,\"#46039f\"],[0.2222222222222222,\"#7201a8\"],[0.3333333333333333,\"#9c179e\"],[0.4444444444444444,\"#bd3786\"],[0.5555555555555556,\"#d8576b\"],[0.6666666666666666,\"#ed7953\"],[0.7777777777777778,\"#fb9f3a\"],[0.8888888888888888,\"#fdca26\"],[1.0,\"#f0f921\"]],\"type\":\"contour\"}],\"contourcarpet\":[{\"colorbar\":{\"outlinewidth\":0,\"ticks\":\"\"},\"type\":\"contourcarpet\"}],\"heatmap\":[{\"colorbar\":{\"outlinewidth\":0,\"ticks\":\"\"},\"colorscale\":[[0.0,\"#0d0887\"],[0.1111111111111111,\"#46039f\"],[0.2222222222222222,\"#7201a8\"],[0.3333333333333333,\"#9c179e\"],[0.4444444444444444,\"#bd3786\"],[0.5555555555555556,\"#d8576b\"],[0.6666666666666666,\"#ed7953\"],[0.7777777777777778,\"#fb9f3a\"],[0.8888888888888888,\"#fdca26\"],[1.0,\"#f0f921\"]],\"type\":\"heatmap\"}],\"heatmapgl\":[{\"colorbar\":{\"outlinewidth\":0,\"ticks\":\"\"},\"colorscale\":[[0.0,\"#0d0887\"],[0.1111111111111111,\"#46039f\"],[0.2222222222222222,\"#7201a8\"],[0.3333333333333333,\"#9c179e\"],[0.4444444444444444,\"#bd3786\"],[0.5555555555555556,\"#d8576b\"],[0.6666666666666666,\"#ed7953\"],[0.7777777777777778,\"#fb9f3a\"],[0.8888888888888888,\"#fdca26\"],[1.0,\"#f0f921\"]],\"type\":\"heatmapgl\"}],\"histogram\":[{\"marker\":{\"pattern\":{\"fillmode\":\"overlay\",\"size\":10,\"solidity\":0.2}},\"type\":\"histogram\"}],\"histogram2d\":[{\"colorbar\":{\"outlinewidth\":0,\"ticks\":\"\"},\"colorscale\":[[0.0,\"#0d0887\"],[0.1111111111111111,\"#46039f\"],[0.2222222222222222,\"#7201a8\"],[0.3333333333333333,\"#9c179e\"],[0.4444444444444444,\"#bd3786\"],[0.5555555555555556,\"#d8576b\"],[0.6666666666666666,\"#ed7953\"],[0.7777777777777778,\"#fb9f3a\"],[0.8888888888888888,\"#fdca26\"],[1.0,\"#f0f921\"]],\"type\":\"histogram2d\"}],\"histogram2dcontour\":[{\"colorbar\":{\"outlinewidth\":0,\"ticks\":\"\"},\"colorscale\":[[0.0,\"#0d0887\"],[0.1111111111111111,\"#46039f\"],[0.2222222222222222,\"#7201a8\"],[0.3333333333333333,\"#9c179e\"],[0.4444444444444444,\"#bd3786\"],[0.5555555555555556,\"#d8576b\"],[0.6666666666666666,\"#ed7953\"],[0.7777777777777778,\"#fb9f3a\"],[0.8888888888888888,\"#fdca26\"],[1.0,\"#f0f921\"]],\"type\":\"histogram2dcontour\"}],\"mesh3d\":[{\"colorbar\":{\"outlinewidth\":0,\"ticks\":\"\"},\"type\":\"mesh3d\"}],\"parcoords\":[{\"line\":{\"colorbar\":{\"outlinewidth\":0,\"ticks\":\"\"}},\"type\":\"parcoords\"}],\"pie\":[{\"automargin\":true,\"type\":\"pie\"}],\"scatter\":[{\"marker\":{\"colorbar\":{\"outlinewidth\":0,\"ticks\":\"\"}},\"type\":\"scatter\"}],\"scatter3d\":[{\"line\":{\"colorbar\":{\"outlinewidth\":0,\"ticks\":\"\"}},\"marker\":{\"colorbar\":{\"outlinewidth\":0,\"ticks\":\"\"}},\"type\":\"scatter3d\"}],\"scattercarpet\":[{\"marker\":{\"colorbar\":{\"outlinewidth\":0,\"ticks\":\"\"}},\"type\":\"scattercarpet\"}],\"scattergeo\":[{\"marker\":{\"colorbar\":{\"outlinewidth\":0,\"ticks\":\"\"}},\"type\":\"scattergeo\"}],\"scattergl\":[{\"marker\":{\"colorbar\":{\"outlinewidth\":0,\"ticks\":\"\"}},\"type\":\"scattergl\"}],\"scattermapbox\":[{\"marker\":{\"colorbar\":{\"outlinewidth\":0,\"ticks\":\"\"}},\"type\":\"scattermapbox\"}],\"scatterpolar\":[{\"marker\":{\"colorbar\":{\"outlinewidth\":0,\"ticks\":\"\"}},\"type\":\"scatterpolar\"}],\"scatterpolargl\":[{\"marker\":{\"colorbar\":{\"outlinewidth\":0,\"ticks\":\"\"}},\"type\":\"scatterpolargl\"}],\"scatterternary\":[{\"marker\":{\"colorbar\":{\"outlinewidth\":0,\"ticks\":\"\"}},\"type\":\"scatterternary\"}],\"surface\":[{\"colorbar\":{\"outlinewidth\":0,\"ticks\":\"\"},\"colorscale\":[[0.0,\"#0d0887\"],[0.1111111111111111,\"#46039f\"],[0.2222222222222222,\"#7201a8\"],[0.3333333333333333,\"#9c179e\"],[0.4444444444444444,\"#bd3786\"],[0.5555555555555556,\"#d8576b\"],[0.6666666666666666,\"#ed7953\"],[0.7777777777777778,\"#fb9f3a\"],[0.8888888888888888,\"#fdca26\"],[1.0,\"#f0f921\"]],\"type\":\"surface\"}],\"table\":[{\"cells\":{\"fill\":{\"color\":\"#EBF0F8\"},\"line\":{\"color\":\"white\"}},\"header\":{\"fill\":{\"color\":\"#C8D4E3\"},\"line\":{\"color\":\"white\"}},\"type\":\"table\"}]},\"layout\":{\"annotationdefaults\":{\"arrowcolor\":\"#2a3f5f\",\"arrowhead\":0,\"arrowwidth\":1},\"autotypenumbers\":\"strict\",\"coloraxis\":{\"colorbar\":{\"outlinewidth\":0,\"ticks\":\"\"}},\"colorscale\":{\"diverging\":[[0,\"#8e0152\"],[0.1,\"#c51b7d\"],[0.2,\"#de77ae\"],[0.3,\"#f1b6da\"],[0.4,\"#fde0ef\"],[0.5,\"#f7f7f7\"],[0.6,\"#e6f5d0\"],[0.7,\"#b8e186\"],[0.8,\"#7fbc41\"],[0.9,\"#4d9221\"],[1,\"#276419\"]],\"sequential\":[[0.0,\"#0d0887\"],[0.1111111111111111,\"#46039f\"],[0.2222222222222222,\"#7201a8\"],[0.3333333333333333,\"#9c179e\"],[0.4444444444444444,\"#bd3786\"],[0.5555555555555556,\"#d8576b\"],[0.6666666666666666,\"#ed7953\"],[0.7777777777777778,\"#fb9f3a\"],[0.8888888888888888,\"#fdca26\"],[1.0,\"#f0f921\"]],\"sequentialminus\":[[0.0,\"#0d0887\"],[0.1111111111111111,\"#46039f\"],[0.2222222222222222,\"#7201a8\"],[0.3333333333333333,\"#9c179e\"],[0.4444444444444444,\"#bd3786\"],[0.5555555555555556,\"#d8576b\"],[0.6666666666666666,\"#ed7953\"],[0.7777777777777778,\"#fb9f3a\"],[0.8888888888888888,\"#fdca26\"],[1.0,\"#f0f921\"]]},\"colorway\":[\"#636efa\",\"#EF553B\",\"#00cc96\",\"#ab63fa\",\"#FFA15A\",\"#19d3f3\",\"#FF6692\",\"#B6E880\",\"#FF97FF\",\"#FECB52\"],\"font\":{\"color\":\"#2a3f5f\"},\"geo\":{\"bgcolor\":\"white\",\"lakecolor\":\"white\",\"landcolor\":\"#E5ECF6\",\"showlakes\":true,\"showland\":true,\"subunitcolor\":\"white\"},\"hoverlabel\":{\"align\":\"left\"},\"hovermode\":\"closest\",\"mapbox\":{\"style\":\"light\"},\"paper_bgcolor\":\"white\",\"plot_bgcolor\":\"#E5ECF6\",\"polar\":{\"angularaxis\":{\"gridcolor\":\"white\",\"linecolor\":\"white\",\"ticks\":\"\"},\"bgcolor\":\"#E5ECF6\",\"radialaxis\":{\"gridcolor\":\"white\",\"linecolor\":\"white\",\"ticks\":\"\"}},\"scene\":{\"xaxis\":{\"backgroundcolor\":\"#E5ECF6\",\"gridcolor\":\"white\",\"gridwidth\":2,\"linecolor\":\"white\",\"showbackground\":true,\"ticks\":\"\",\"zerolinecolor\":\"white\"},\"yaxis\":{\"backgroundcolor\":\"#E5ECF6\",\"gridcolor\":\"white\",\"gridwidth\":2,\"linecolor\":\"white\",\"showbackground\":true,\"ticks\":\"\",\"zerolinecolor\":\"white\"},\"zaxis\":{\"backgroundcolor\":\"#E5ECF6\",\"gridcolor\":\"white\",\"gridwidth\":2,\"linecolor\":\"white\",\"showbackground\":true,\"ticks\":\"\",\"zerolinecolor\":\"white\"}},\"shapedefaults\":{\"line\":{\"color\":\"#2a3f5f\"}},\"ternary\":{\"aaxis\":{\"gridcolor\":\"white\",\"linecolor\":\"white\",\"ticks\":\"\"},\"baxis\":{\"gridcolor\":\"white\",\"linecolor\":\"white\",\"ticks\":\"\"},\"bgcolor\":\"#E5ECF6\",\"caxis\":{\"gridcolor\":\"white\",\"linecolor\":\"white\",\"ticks\":\"\"}},\"title\":{\"x\":0.05},\"xaxis\":{\"automargin\":true,\"gridcolor\":\"white\",\"linecolor\":\"white\",\"ticks\":\"\",\"title\":{\"standoff\":15},\"zerolinecolor\":\"white\",\"zerolinewidth\":2},\"yaxis\":{\"automargin\":true,\"gridcolor\":\"white\",\"linecolor\":\"white\",\"ticks\":\"\",\"title\":{\"standoff\":15},\"zerolinecolor\":\"white\",\"zerolinewidth\":2}}},\"xaxis\":{\"anchor\":\"y\",\"domain\":[0.0,1.0],\"title\":{\"text\":\"coordinate_1\"},\"range\":[-1.4189075560233413,1.4189075560233413],\"zeroline\":true,\"zerolinecolor\":\"gray\"},\"yaxis\":{\"anchor\":\"x\",\"domain\":[0.0,1.0],\"title\":{\"text\":\"coordinate_2\"},\"range\":[-0.9164953915065455,0.9164953915065455],\"zeroline\":true,\"zerolinecolor\":\"gray\"},\"legend\":{\"title\":{\"text\":\"topic_name\"},\"tracegroupgap\":0},\"margin\":{\"t\":60}},                        {\"responsive\": true}                    ).then(function(){\n",
       "                            \n",
       "var gd = document.getElementById('88cf3889-6a71-4e72-bdf4-1652e41452d3');\n",
       "var x = new MutationObserver(function (mutations, observer) {{\n",
       "        var display = window.getComputedStyle(gd).display;\n",
       "        if (!display || display === 'none') {{\n",
       "            console.log([gd, 'removed!']);\n",
       "            Plotly.purge(gd);\n",
       "            observer.disconnect();\n",
       "        }}\n",
       "}});\n",
       "\n",
       "// Listen for the removal of the full notebook cells\n",
       "var notebookContainer = gd.closest('#notebook-container');\n",
       "if (notebookContainer) {{\n",
       "    x.observe(notebookContainer, {childList: true});\n",
       "}}\n",
       "\n",
       "// Listen for the clearing of the current output cell\n",
       "var outputEl = gd.closest('.output');\n",
       "if (outputEl) {{\n",
       "    x.observe(outputEl, {childList: true});\n",
       "}}\n",
       "\n",
       "                        })                };                });            </script>        </div>"
      ]
     },
     "metadata": {},
     "output_type": "display_data"
    },
    {
     "data": {
      "text/plain": [
       "<topic_cluster_visualizer.plots.Plots at 0x1a3a590d3a0>"
      ]
     },
     "execution_count": 42,
     "metadata": {},
     "output_type": "execute_result"
    }
   ],
   "source": [
    "plt.topic_coor_plot(tcv.amax)"
   ]
  },
  {
   "cell_type": "code",
   "execution_count": 73,
   "id": "f4dc8b94-fc28-48e5-b803-2383a9b01124",
   "metadata": {
    "tags": []
   },
   "outputs": [
    {
     "data": {
      "application/vnd.plotly.v1+json": {
       "config": {
        "plotlyServerURL": "https://plot.ly"
       },
       "data": [
        {
         "mode": "lines+markers",
         "name": "0",
         "type": "scatter",
         "visible": "legendonly",
         "x": [
          0.2507959849732179,
          -0.8633387604927727,
          0.15755281276628852,
          0.36811579211923845,
          0.29576664746867704
         ],
         "y": [
          -0.022768490218322973,
          0.42773440816510017,
          0.5276208700677715,
          -0.38067916702965254,
          -0.07234047371684693
         ]
        },
        {
         "mode": "lines+markers",
         "name": "1",
         "type": "scatter",
         "visible": "legendonly",
         "x": [
          -0.22862622512880038,
          -0.3349392383255447,
          -0.057040817404243965,
          -0.24347172608545173,
          0.08494554840080061
         ],
         "y": [
          -0.11322474161353621,
          -0.14504242925040378,
          0.28956947173775227,
          0.18731394002888446,
          0.2565198428159098
         ]
        },
        {
         "mode": "lines+markers",
         "name": "2",
         "type": "scatter",
         "visible": "legendonly",
         "x": [
          -0.3339250904691287,
          0.2153743020572037,
          0.21061670491160253,
          -0.09107252143343803,
          0.23551424986041244
         ],
         "y": [
          0.1846389450519675,
          0.3329705493368894,
          0.3253823378824112,
          0.8362242524594734,
          -0.12062191851036652
         ]
        },
        {
         "mode": "lines+markers",
         "name": "3",
         "type": "scatter",
         "visible": "legendonly",
         "x": [
          0.2923897310522434,
          0.857445307910277,
          0.6940408697837291,
          0.14016919850163378,
          -0.29445958867931277
         ],
         "y": [
          0.4082602989990154,
          -0.3013284120274347,
          -0.14742747693402533,
          -0.7015679624631188,
          0.306223157691693
         ]
        },
        {
         "mode": "lines+markers",
         "name": "4",
         "type": "scatter",
         "visible": "legendonly",
         "x": [
          0.12875916303446883,
          0.42154785859122207,
          -0.12069789978186157,
          0.381621275833903,
          -0.2173217017747452
         ],
         "y": [
          0.11027660646376962,
          -0.21587314669231333,
          -0.3899971182786376,
          0.1060267644031732,
          0.07654039863556907
         ]
        },
        {
         "mode": "lines+markers",
         "name": "5",
         "type": "scatter",
         "visible": "legendonly",
         "x": [
          0.30521460260136235,
          -0.03016498785130266,
          -0.037954255016406147,
          -0.5802132213494863,
          0.2591955300411534
         ],
         "y": [
          -0.09755391202829236,
          -0.020172155092543345,
          -0.611665857612407,
          -0.06004222070624471,
          -0.37384302682898696
         ]
        },
        {
         "mode": "lines+markers",
         "name": "6",
         "type": "scatter",
         "visible": "legendonly",
         "x": [
          0.5036769004674609,
          -0.14973707736552724,
          0.254789583891354,
          -0.16159802767478304,
          0.09315487687926974
         ],
         "y": [
          0.4006260218092206,
          0.49053224113218463,
          -0.3155606877062678,
          -0.753903475881393,
          -0.0433667606445265
         ]
        },
        {
         "mode": "lines+markers",
         "name": "7",
         "type": "scatter",
         "visible": "legendonly",
         "x": [
          -0.007800967496119721,
          0.14905721191014432,
          -0.7363691994668746,
          0.07328006891757385,
          -0.13731072870364594
         ],
         "y": [
          0.20257815450946628,
          0.1873386098949681,
          -0.010822328480892096,
          -0.1006635092807705,
          -0.4015876670254817
         ]
        },
        {
         "mode": "lines+markers",
         "name": "8",
         "type": "scatter",
         "visible": "legendonly",
         "x": [
          -0.08736472774338222,
          -0.12308088696564665,
          -0.21491478606455475,
          0.386143958184067,
          -0.02523965104324536
         ],
         "y": [
          0.5156400361047944,
          -0.12316335125082281,
          -0.6335528750548567,
          0.021863432572239716,
          0.013971393609367595
         ]
        },
        {
         "mode": "lines+markers",
         "name": "9",
         "type": "scatter",
         "visible": "legendonly",
         "x": [
          0.06643791810173513,
          -0.6186938671011206,
          -0.596900161394446,
          -0.624372400464774,
          -0.4677878905284166
         ],
         "y": [
          -0.15904913828843506,
          0.008787431075984203,
          0.013235003316872884,
          -0.39829419241201086,
          -0.3855281503819356
         ]
        },
        {
         "mode": "lines+markers",
         "name": "10",
         "type": "scatter",
         "visible": "legendonly",
         "x": [
          -0.3886208732570927,
          0.14982762958948073,
          0.41704502918481595,
          0.17579240478234323,
          -0.6662871568040686
         ],
         "y": [
          0.4549771368615166,
          0.2959173991094622,
          0.36341364388220443,
          -0.04154032103872567,
          0.19376146455724655
         ]
        },
        {
         "mode": "lines+markers",
         "name": "11",
         "type": "scatter",
         "visible": "legendonly",
         "x": [
          0.20747744093348253,
          -0.12457764449701104,
          -0.06289708580530229,
          -0.09770182902110751,
          -0.05361535221116867
         ],
         "y": [
          0.05900370945286622,
          0.4360007120873356,
          0.07393784973752686,
          0.10825409593352792,
          -0.5372441635630071
         ]
        },
        {
         "mode": "lines+markers",
         "name": "12",
         "type": "scatter",
         "visible": "legendonly",
         "x": [
          -0.5180308314384684,
          0.12409905290161155,
          -0.02804660331362871,
          -0.1270545628553219,
          0.20394261897833554
         ],
         "y": [
          0.23778182592959093,
          -0.055760978764955796,
          -0.22929003781183638,
          0.10694296581888713,
          -0.2252924726815349
         ]
        },
        {
         "mode": "lines+markers",
         "name": "13",
         "type": "scatter",
         "visible": true,
         "x": [
          0.04880262099898111,
          0.0596236375263377,
          -0.046602689415660814,
          0.03364903387375445,
          0.07819356990810347
         ],
         "y": [
          0.03503003121711055,
          -0.6850658505084075,
          1.3256285741075502,
          0.8660999365123822,
          -0.09629050535282338
         ]
        },
        {
         "mode": "lines+markers",
         "name": "14",
         "type": "scatter",
         "visible": "legendonly",
         "x": [
          0.4835232874554587,
          -0.1601388847020288,
          0.48953488574905324,
          0.07052333637327587,
          0.3805114516518527
         ],
         "y": [
          0.3687563353137966,
          -1.0476473863637445,
          0.045096435403717494,
          0.3553393693135856,
          0.44080789532461706
         ]
        },
        {
         "mode": "lines+markers",
         "name": "15",
         "type": "scatter",
         "visible": "legendonly",
         "x": [
          0.5158800387979466,
          -0.18303408299473992,
          0.21500317022500667,
          -0.6707362908420599,
          -0.047393627172015465
         ],
         "y": [
          -0.10909999452745074,
          -0.27716105835029997,
          -0.1597540931183918,
          0.033809567615418396,
          0.07566364000030862
         ]
        },
        {
         "mode": "lines+markers",
         "name": "16",
         "type": "scatter",
         "visible": "legendonly",
         "x": [
          0.2545376975389882,
          0.017931618457404687,
          0.3088610382152508,
          -0.05017020848980122,
          -0.0892950249372253
         ],
         "y": [
          0.3389016314148255,
          -0.09938665750574188,
          0.03032905231707514,
          -0.14465982964404586,
          0.14433688057448846
         ]
        },
        {
         "mode": "lines+markers",
         "name": "17",
         "type": "scatter",
         "visible": "legendonly",
         "x": [
          -0.18457199533639432,
          -0.049027941964931904,
          -0.05960277851053159,
          0.6096390922545852,
          -0.7148897599920623
         ],
         "y": [
          0.2665703483377081,
          -0.35525272765893146,
          -0.11088423486244389,
          -0.13753126097577031,
          -0.03964535054744944
         ]
        },
        {
         "mode": "lines+markers",
         "name": "18",
         "type": "scatter",
         "visible": "legendonly",
         "x": [
          -0.021338328942929086,
          -0.17027670255717903,
          -0.3493227896037926,
          -0.5653476864979996,
          0.043470456534492524
         ],
         "y": [
          -1.1054967494353465,
          -0.24779042909846405,
          0.1338812794072864,
          0.31993945157967346,
          -0.4637287905122751
         ]
        },
        {
         "mode": "lines+markers",
         "name": "19",
         "type": "scatter",
         "visible": "legendonly",
         "x": [
          -0.16508876075942025,
          1.2280845813575147,
          0.577175634006651,
          0.0350153993562079,
          -0.2510570500788786
         ],
         "y": [
          0.5787605264287073,
          0.3067535596517941,
          0.08112120793659924,
          0.5149765071323168,
          0.5893665522682761
         ]
        },
        {
         "mode": "text",
         "name": "Most percentile",
         "text": [
          "0",
          "1",
          "2",
          "3",
          "4",
          "5",
          "6",
          "7",
          "8",
          "9",
          "10",
          "11",
          "12",
          "13",
          "14",
          "15",
          "16",
          "17",
          "18",
          "19"
         ],
         "textposition": "top left",
         "type": "scatter",
         "visible": "legendonly",
         "x": [
          0.2507959849732179,
          -0.22862622512880038,
          -0.3339250904691287,
          0.2923897310522434,
          0.12875916303446883,
          0.30521460260136235,
          0.5036769004674609,
          -0.007800967496119721,
          -0.08736472774338222,
          0.06643791810173513,
          -0.3886208732570927,
          0.20747744093348253,
          -0.5180308314384684,
          0.04880262099898111,
          0.4835232874554587,
          0.5158800387979466,
          0.2545376975389882,
          -0.18457199533639432,
          -0.021338328942929086,
          -0.16508876075942025
         ],
         "y": [
          -0.022768490218322973,
          -0.11322474161353621,
          0.1846389450519675,
          0.4082602989990154,
          0.11027660646376962,
          -0.09755391202829236,
          0.4006260218092206,
          0.20257815450946628,
          0.5156400361047944,
          -0.15904913828843506,
          0.4549771368615166,
          0.05900370945286622,
          0.23778182592959093,
          0.03503003121711055,
          0.3687563353137966,
          -0.10909999452745074,
          0.3389016314148255,
          0.2665703483377081,
          -1.1054967494353465,
          0.5787605264287073
         ]
        }
       ],
       "layout": {
        "autosize": true,
        "dragmode": "zoom",
        "template": {
         "data": {
          "bar": [
           {
            "error_x": {
             "color": "#2a3f5f"
            },
            "error_y": {
             "color": "#2a3f5f"
            },
            "marker": {
             "line": {
              "color": "#E5ECF6",
              "width": 0.5
             },
             "pattern": {
              "fillmode": "overlay",
              "size": 10,
              "solidity": 0.2
             }
            },
            "type": "bar"
           }
          ],
          "barpolar": [
           {
            "marker": {
             "line": {
              "color": "#E5ECF6",
              "width": 0.5
             },
             "pattern": {
              "fillmode": "overlay",
              "size": 10,
              "solidity": 0.2
             }
            },
            "type": "barpolar"
           }
          ],
          "carpet": [
           {
            "aaxis": {
             "endlinecolor": "#2a3f5f",
             "gridcolor": "white",
             "linecolor": "white",
             "minorgridcolor": "white",
             "startlinecolor": "#2a3f5f"
            },
            "baxis": {
             "endlinecolor": "#2a3f5f",
             "gridcolor": "white",
             "linecolor": "white",
             "minorgridcolor": "white",
             "startlinecolor": "#2a3f5f"
            },
            "type": "carpet"
           }
          ],
          "choropleth": [
           {
            "colorbar": {
             "outlinewidth": 0,
             "ticks": ""
            },
            "type": "choropleth"
           }
          ],
          "contour": [
           {
            "colorbar": {
             "outlinewidth": 0,
             "ticks": ""
            },
            "colorscale": [
             [
              0,
              "#0d0887"
             ],
             [
              0.1111111111111111,
              "#46039f"
             ],
             [
              0.2222222222222222,
              "#7201a8"
             ],
             [
              0.3333333333333333,
              "#9c179e"
             ],
             [
              0.4444444444444444,
              "#bd3786"
             ],
             [
              0.5555555555555556,
              "#d8576b"
             ],
             [
              0.6666666666666666,
              "#ed7953"
             ],
             [
              0.7777777777777778,
              "#fb9f3a"
             ],
             [
              0.8888888888888888,
              "#fdca26"
             ],
             [
              1,
              "#f0f921"
             ]
            ],
            "type": "contour"
           }
          ],
          "contourcarpet": [
           {
            "colorbar": {
             "outlinewidth": 0,
             "ticks": ""
            },
            "type": "contourcarpet"
           }
          ],
          "heatmap": [
           {
            "colorbar": {
             "outlinewidth": 0,
             "ticks": ""
            },
            "colorscale": [
             [
              0,
              "#0d0887"
             ],
             [
              0.1111111111111111,
              "#46039f"
             ],
             [
              0.2222222222222222,
              "#7201a8"
             ],
             [
              0.3333333333333333,
              "#9c179e"
             ],
             [
              0.4444444444444444,
              "#bd3786"
             ],
             [
              0.5555555555555556,
              "#d8576b"
             ],
             [
              0.6666666666666666,
              "#ed7953"
             ],
             [
              0.7777777777777778,
              "#fb9f3a"
             ],
             [
              0.8888888888888888,
              "#fdca26"
             ],
             [
              1,
              "#f0f921"
             ]
            ],
            "type": "heatmap"
           }
          ],
          "heatmapgl": [
           {
            "colorbar": {
             "outlinewidth": 0,
             "ticks": ""
            },
            "colorscale": [
             [
              0,
              "#0d0887"
             ],
             [
              0.1111111111111111,
              "#46039f"
             ],
             [
              0.2222222222222222,
              "#7201a8"
             ],
             [
              0.3333333333333333,
              "#9c179e"
             ],
             [
              0.4444444444444444,
              "#bd3786"
             ],
             [
              0.5555555555555556,
              "#d8576b"
             ],
             [
              0.6666666666666666,
              "#ed7953"
             ],
             [
              0.7777777777777778,
              "#fb9f3a"
             ],
             [
              0.8888888888888888,
              "#fdca26"
             ],
             [
              1,
              "#f0f921"
             ]
            ],
            "type": "heatmapgl"
           }
          ],
          "histogram": [
           {
            "marker": {
             "pattern": {
              "fillmode": "overlay",
              "size": 10,
              "solidity": 0.2
             }
            },
            "type": "histogram"
           }
          ],
          "histogram2d": [
           {
            "colorbar": {
             "outlinewidth": 0,
             "ticks": ""
            },
            "colorscale": [
             [
              0,
              "#0d0887"
             ],
             [
              0.1111111111111111,
              "#46039f"
             ],
             [
              0.2222222222222222,
              "#7201a8"
             ],
             [
              0.3333333333333333,
              "#9c179e"
             ],
             [
              0.4444444444444444,
              "#bd3786"
             ],
             [
              0.5555555555555556,
              "#d8576b"
             ],
             [
              0.6666666666666666,
              "#ed7953"
             ],
             [
              0.7777777777777778,
              "#fb9f3a"
             ],
             [
              0.8888888888888888,
              "#fdca26"
             ],
             [
              1,
              "#f0f921"
             ]
            ],
            "type": "histogram2d"
           }
          ],
          "histogram2dcontour": [
           {
            "colorbar": {
             "outlinewidth": 0,
             "ticks": ""
            },
            "colorscale": [
             [
              0,
              "#0d0887"
             ],
             [
              0.1111111111111111,
              "#46039f"
             ],
             [
              0.2222222222222222,
              "#7201a8"
             ],
             [
              0.3333333333333333,
              "#9c179e"
             ],
             [
              0.4444444444444444,
              "#bd3786"
             ],
             [
              0.5555555555555556,
              "#d8576b"
             ],
             [
              0.6666666666666666,
              "#ed7953"
             ],
             [
              0.7777777777777778,
              "#fb9f3a"
             ],
             [
              0.8888888888888888,
              "#fdca26"
             ],
             [
              1,
              "#f0f921"
             ]
            ],
            "type": "histogram2dcontour"
           }
          ],
          "mesh3d": [
           {
            "colorbar": {
             "outlinewidth": 0,
             "ticks": ""
            },
            "type": "mesh3d"
           }
          ],
          "parcoords": [
           {
            "line": {
             "colorbar": {
              "outlinewidth": 0,
              "ticks": ""
             }
            },
            "type": "parcoords"
           }
          ],
          "pie": [
           {
            "automargin": true,
            "type": "pie"
           }
          ],
          "scatter": [
           {
            "marker": {
             "colorbar": {
              "outlinewidth": 0,
              "ticks": ""
             }
            },
            "type": "scatter"
           }
          ],
          "scatter3d": [
           {
            "line": {
             "colorbar": {
              "outlinewidth": 0,
              "ticks": ""
             }
            },
            "marker": {
             "colorbar": {
              "outlinewidth": 0,
              "ticks": ""
             }
            },
            "type": "scatter3d"
           }
          ],
          "scattercarpet": [
           {
            "marker": {
             "colorbar": {
              "outlinewidth": 0,
              "ticks": ""
             }
            },
            "type": "scattercarpet"
           }
          ],
          "scattergeo": [
           {
            "marker": {
             "colorbar": {
              "outlinewidth": 0,
              "ticks": ""
             }
            },
            "type": "scattergeo"
           }
          ],
          "scattergl": [
           {
            "marker": {
             "colorbar": {
              "outlinewidth": 0,
              "ticks": ""
             }
            },
            "type": "scattergl"
           }
          ],
          "scattermapbox": [
           {
            "marker": {
             "colorbar": {
              "outlinewidth": 0,
              "ticks": ""
             }
            },
            "type": "scattermapbox"
           }
          ],
          "scatterpolar": [
           {
            "marker": {
             "colorbar": {
              "outlinewidth": 0,
              "ticks": ""
             }
            },
            "type": "scatterpolar"
           }
          ],
          "scatterpolargl": [
           {
            "marker": {
             "colorbar": {
              "outlinewidth": 0,
              "ticks": ""
             }
            },
            "type": "scatterpolargl"
           }
          ],
          "scatterternary": [
           {
            "marker": {
             "colorbar": {
              "outlinewidth": 0,
              "ticks": ""
             }
            },
            "type": "scatterternary"
           }
          ],
          "surface": [
           {
            "colorbar": {
             "outlinewidth": 0,
             "ticks": ""
            },
            "colorscale": [
             [
              0,
              "#0d0887"
             ],
             [
              0.1111111111111111,
              "#46039f"
             ],
             [
              0.2222222222222222,
              "#7201a8"
             ],
             [
              0.3333333333333333,
              "#9c179e"
             ],
             [
              0.4444444444444444,
              "#bd3786"
             ],
             [
              0.5555555555555556,
              "#d8576b"
             ],
             [
              0.6666666666666666,
              "#ed7953"
             ],
             [
              0.7777777777777778,
              "#fb9f3a"
             ],
             [
              0.8888888888888888,
              "#fdca26"
             ],
             [
              1,
              "#f0f921"
             ]
            ],
            "type": "surface"
           }
          ],
          "table": [
           {
            "cells": {
             "fill": {
              "color": "#EBF0F8"
             },
             "line": {
              "color": "white"
             }
            },
            "header": {
             "fill": {
              "color": "#C8D4E3"
             },
             "line": {
              "color": "white"
             }
            },
            "type": "table"
           }
          ]
         },
         "layout": {
          "annotationdefaults": {
           "arrowcolor": "#2a3f5f",
           "arrowhead": 0,
           "arrowwidth": 1
          },
          "autotypenumbers": "strict",
          "coloraxis": {
           "colorbar": {
            "outlinewidth": 0,
            "ticks": ""
           }
          },
          "colorscale": {
           "diverging": [
            [
             0,
             "#8e0152"
            ],
            [
             0.1,
             "#c51b7d"
            ],
            [
             0.2,
             "#de77ae"
            ],
            [
             0.3,
             "#f1b6da"
            ],
            [
             0.4,
             "#fde0ef"
            ],
            [
             0.5,
             "#f7f7f7"
            ],
            [
             0.6,
             "#e6f5d0"
            ],
            [
             0.7,
             "#b8e186"
            ],
            [
             0.8,
             "#7fbc41"
            ],
            [
             0.9,
             "#4d9221"
            ],
            [
             1,
             "#276419"
            ]
           ],
           "sequential": [
            [
             0,
             "#0d0887"
            ],
            [
             0.1111111111111111,
             "#46039f"
            ],
            [
             0.2222222222222222,
             "#7201a8"
            ],
            [
             0.3333333333333333,
             "#9c179e"
            ],
            [
             0.4444444444444444,
             "#bd3786"
            ],
            [
             0.5555555555555556,
             "#d8576b"
            ],
            [
             0.6666666666666666,
             "#ed7953"
            ],
            [
             0.7777777777777778,
             "#fb9f3a"
            ],
            [
             0.8888888888888888,
             "#fdca26"
            ],
            [
             1,
             "#f0f921"
            ]
           ],
           "sequentialminus": [
            [
             0,
             "#0d0887"
            ],
            [
             0.1111111111111111,
             "#46039f"
            ],
            [
             0.2222222222222222,
             "#7201a8"
            ],
            [
             0.3333333333333333,
             "#9c179e"
            ],
            [
             0.4444444444444444,
             "#bd3786"
            ],
            [
             0.5555555555555556,
             "#d8576b"
            ],
            [
             0.6666666666666666,
             "#ed7953"
            ],
            [
             0.7777777777777778,
             "#fb9f3a"
            ],
            [
             0.8888888888888888,
             "#fdca26"
            ],
            [
             1,
             "#f0f921"
            ]
           ]
          },
          "colorway": [
           "#636efa",
           "#EF553B",
           "#00cc96",
           "#ab63fa",
           "#FFA15A",
           "#19d3f3",
           "#FF6692",
           "#B6E880",
           "#FF97FF",
           "#FECB52"
          ],
          "font": {
           "color": "#2a3f5f"
          },
          "geo": {
           "bgcolor": "white",
           "lakecolor": "white",
           "landcolor": "#E5ECF6",
           "showlakes": true,
           "showland": true,
           "subunitcolor": "white"
          },
          "hoverlabel": {
           "align": "left"
          },
          "hovermode": "closest",
          "mapbox": {
           "style": "light"
          },
          "paper_bgcolor": "white",
          "plot_bgcolor": "#E5ECF6",
          "polar": {
           "angularaxis": {
            "gridcolor": "white",
            "linecolor": "white",
            "ticks": ""
           },
           "bgcolor": "#E5ECF6",
           "radialaxis": {
            "gridcolor": "white",
            "linecolor": "white",
            "ticks": ""
           }
          },
          "scene": {
           "xaxis": {
            "backgroundcolor": "#E5ECF6",
            "gridcolor": "white",
            "gridwidth": 2,
            "linecolor": "white",
            "showbackground": true,
            "ticks": "",
            "zerolinecolor": "white"
           },
           "yaxis": {
            "backgroundcolor": "#E5ECF6",
            "gridcolor": "white",
            "gridwidth": 2,
            "linecolor": "white",
            "showbackground": true,
            "ticks": "",
            "zerolinecolor": "white"
           },
           "zaxis": {
            "backgroundcolor": "#E5ECF6",
            "gridcolor": "white",
            "gridwidth": 2,
            "linecolor": "white",
            "showbackground": true,
            "ticks": "",
            "zerolinecolor": "white"
           }
          },
          "shapedefaults": {
           "line": {
            "color": "#2a3f5f"
           }
          },
          "ternary": {
           "aaxis": {
            "gridcolor": "white",
            "linecolor": "white",
            "ticks": ""
           },
           "baxis": {
            "gridcolor": "white",
            "linecolor": "white",
            "ticks": ""
           },
           "bgcolor": "#E5ECF6",
           "caxis": {
            "gridcolor": "white",
            "linecolor": "white",
            "ticks": ""
           }
          },
          "title": {
           "x": 0.05
          },
          "xaxis": {
           "automargin": true,
           "gridcolor": "white",
           "linecolor": "white",
           "ticks": "",
           "title": {
            "standoff": 15
           },
           "zerolinecolor": "white",
           "zerolinewidth": 2
          },
          "yaxis": {
           "automargin": true,
           "gridcolor": "white",
           "linecolor": "white",
           "ticks": "",
           "title": {
            "standoff": 15
           },
           "zerolinecolor": "white",
           "zerolinewidth": 2
          }
         }
        },
        "xaxis": {
         "autorange": false,
         "range": [
          -1.5524843882104342,
          1.580189200740413
         ],
         "rangemode": "tozero",
         "type": "linear",
         "zeroline": true,
         "zerolinecolor": "gray"
        },
        "yaxis": {
         "autorange": false,
         "range": [
          -2.11129114247443,
          2.1991852240532435
         ],
         "rangemode": "tozero",
         "type": "linear",
         "zeroline": true,
         "zerolinecolor": "gray"
        }
       }
      },
      "image/png": "[encoded data removed]",
      "text/html": [
       "<div>                            <div id=\"fdf6cbb6-9c37-439f-baf8-243a56740eac\" class=\"plotly-graph-div\" style=\"height:525px; width:100%;\"></div>            <script type=\"text/javascript\">                require([\"plotly\"], function(Plotly) {                    window.PLOTLYENV=window.PLOTLYENV || {};                                    if (document.getElementById(\"fdf6cbb6-9c37-439f-baf8-243a56740eac\")) {                    Plotly.newPlot(                        \"fdf6cbb6-9c37-439f-baf8-243a56740eac\",                        [{\"mode\":\"lines+markers\",\"name\":\"0\",\"x\":[0.2507959849732179,-0.8633387604927727,0.15755281276628852,0.36811579211923845,0.29576664746867704],\"y\":[-0.022768490218322973,0.42773440816510017,0.5276208700677715,-0.38067916702965254,-0.07234047371684693],\"type\":\"scatter\"},{\"mode\":\"lines+markers\",\"name\":\"1\",\"x\":[-0.22862622512880038,-0.3349392383255447,-0.057040817404243965,-0.24347172608545173,0.08494554840080061],\"y\":[-0.11322474161353621,-0.14504242925040378,0.28956947173775227,0.18731394002888446,0.2565198428159098],\"type\":\"scatter\"},{\"mode\":\"lines+markers\",\"name\":\"2\",\"x\":[-0.3339250904691287,0.2153743020572037,0.21061670491160253,-0.09107252143343803,0.23551424986041244],\"y\":[0.1846389450519675,0.3329705493368894,0.3253823378824112,0.8362242524594734,-0.12062191851036652],\"type\":\"scatter\"},{\"mode\":\"lines+markers\",\"name\":\"3\",\"x\":[0.2923897310522434,0.857445307910277,0.6940408697837291,0.14016919850163378,-0.29445958867931277],\"y\":[0.4082602989990154,-0.3013284120274347,-0.14742747693402533,-0.7015679624631188,0.306223157691693],\"type\":\"scatter\"},{\"mode\":\"lines+markers\",\"name\":\"4\",\"x\":[0.12875916303446883,0.42154785859122207,-0.12069789978186157,0.381621275833903,-0.2173217017747452],\"y\":[0.11027660646376962,-0.21587314669231333,-0.3899971182786376,0.1060267644031732,0.07654039863556907],\"type\":\"scatter\"},{\"mode\":\"lines+markers\",\"name\":\"5\",\"x\":[0.30521460260136235,-0.03016498785130266,-0.037954255016406147,-0.5802132213494863,0.2591955300411534],\"y\":[-0.09755391202829236,-0.020172155092543345,-0.611665857612407,-0.06004222070624471,-0.37384302682898696],\"type\":\"scatter\"},{\"mode\":\"lines+markers\",\"name\":\"6\",\"x\":[0.5036769004674609,-0.14973707736552724,0.254789583891354,-0.16159802767478304,0.09315487687926974],\"y\":[0.4006260218092206,0.49053224113218463,-0.3155606877062678,-0.753903475881393,-0.0433667606445265],\"type\":\"scatter\"},{\"mode\":\"lines+markers\",\"name\":\"7\",\"x\":[-0.007800967496119721,0.14905721191014432,-0.7363691994668746,0.07328006891757385,-0.13731072870364594],\"y\":[0.20257815450946628,0.1873386098949681,-0.010822328480892096,-0.1006635092807705,-0.4015876670254817],\"type\":\"scatter\"},{\"mode\":\"lines+markers\",\"name\":\"8\",\"x\":[-0.08736472774338222,-0.12308088696564665,-0.21491478606455475,0.386143958184067,-0.02523965104324536],\"y\":[0.5156400361047944,-0.12316335125082281,-0.6335528750548567,0.021863432572239716,0.013971393609367595],\"type\":\"scatter\"},{\"mode\":\"lines+markers\",\"name\":\"9\",\"x\":[0.06643791810173513,-0.6186938671011206,-0.596900161394446,-0.624372400464774,-0.4677878905284166],\"y\":[-0.15904913828843506,0.008787431075984203,0.013235003316872884,-0.39829419241201086,-0.3855281503819356],\"type\":\"scatter\"},{\"mode\":\"lines+markers\",\"name\":\"10\",\"x\":[-0.3886208732570927,0.14982762958948073,0.41704502918481595,0.17579240478234323,-0.6662871568040686],\"y\":[0.4549771368615166,0.2959173991094622,0.36341364388220443,-0.04154032103872567,0.19376146455724655],\"type\":\"scatter\"},{\"mode\":\"lines+markers\",\"name\":\"11\",\"x\":[0.20747744093348253,-0.12457764449701104,-0.06289708580530229,-0.09770182902110751,-0.05361535221116867],\"y\":[0.05900370945286622,0.4360007120873356,0.07393784973752686,0.10825409593352792,-0.5372441635630071],\"type\":\"scatter\"},{\"mode\":\"lines+markers\",\"name\":\"12\",\"x\":[-0.5180308314384684,0.12409905290161155,-0.02804660331362871,-0.1270545628553219,0.20394261897833554],\"y\":[0.23778182592959093,-0.055760978764955796,-0.22929003781183638,0.10694296581888713,-0.2252924726815349],\"type\":\"scatter\"},{\"mode\":\"lines+markers\",\"name\":\"13\",\"x\":[0.04880262099898111,0.0596236375263377,-0.046602689415660814,0.03364903387375445,0.07819356990810347],\"y\":[0.03503003121711055,-0.6850658505084075,1.3256285741075502,0.8660999365123822,-0.09629050535282338],\"type\":\"scatter\"},{\"mode\":\"lines+markers\",\"name\":\"14\",\"x\":[0.4835232874554587,-0.1601388847020288,0.48953488574905324,0.07052333637327587,0.3805114516518527],\"y\":[0.3687563353137966,-1.0476473863637445,0.045096435403717494,0.3553393693135856,0.44080789532461706],\"type\":\"scatter\"},{\"mode\":\"lines+markers\",\"name\":\"15\",\"x\":[0.5158800387979466,-0.18303408299473992,0.21500317022500667,-0.6707362908420599,-0.047393627172015465],\"y\":[-0.10909999452745074,-0.27716105835029997,-0.1597540931183918,0.033809567615418396,0.07566364000030862],\"type\":\"scatter\"},{\"mode\":\"lines+markers\",\"name\":\"16\",\"x\":[0.2545376975389882,0.017931618457404687,0.3088610382152508,-0.05017020848980122,-0.0892950249372253],\"y\":[0.3389016314148255,-0.09938665750574188,0.03032905231707514,-0.14465982964404586,0.14433688057448846],\"type\":\"scatter\"},{\"mode\":\"lines+markers\",\"name\":\"17\",\"x\":[-0.18457199533639432,-0.049027941964931904,-0.05960277851053159,0.6096390922545852,-0.7148897599920623],\"y\":[0.2665703483377081,-0.35525272765893146,-0.11088423486244389,-0.13753126097577031,-0.03964535054744944],\"type\":\"scatter\"},{\"mode\":\"lines+markers\",\"name\":\"18\",\"x\":[-0.021338328942929086,-0.17027670255717903,-0.3493227896037926,-0.5653476864979996,0.043470456534492524],\"y\":[-1.1054967494353465,-0.24779042909846405,0.1338812794072864,0.31993945157967346,-0.4637287905122751],\"type\":\"scatter\"},{\"mode\":\"lines+markers\",\"name\":\"19\",\"x\":[-0.16508876075942025,1.2280845813575147,0.577175634006651,0.0350153993562079,-0.2510570500788786],\"y\":[0.5787605264287073,0.3067535596517941,0.08112120793659924,0.5149765071323168,0.5893665522682761],\"type\":\"scatter\"},{\"mode\":\"text\",\"name\":\"Most percentile\",\"text\":[\"0\",\"1\",\"2\",\"3\",\"4\",\"5\",\"6\",\"7\",\"8\",\"9\",\"10\",\"11\",\"12\",\"13\",\"14\",\"15\",\"16\",\"17\",\"18\",\"19\"],\"textposition\":\"top left\",\"x\":[0.2507959849732179,-0.22862622512880038,-0.3339250904691287,0.2923897310522434,0.12875916303446883,0.30521460260136235,0.5036769004674609,-0.007800967496119721,-0.08736472774338222,0.06643791810173513,-0.3886208732570927,0.20747744093348253,-0.5180308314384684,0.04880262099898111,0.4835232874554587,0.5158800387979466,0.2545376975389882,-0.18457199533639432,-0.021338328942929086,-0.16508876075942025],\"y\":[-0.022768490218322973,-0.11322474161353621,0.1846389450519675,0.4082602989990154,0.11027660646376962,-0.09755391202829236,0.4006260218092206,0.20257815450946628,0.5156400361047944,-0.15904913828843506,0.4549771368615166,0.05900370945286622,0.23778182592959093,0.03503003121711055,0.3687563353137966,-0.10909999452745074,0.3389016314148255,0.2665703483377081,-1.1054967494353465,0.5787605264287073],\"type\":\"scatter\"}],                        {\"template\":{\"data\":{\"bar\":[{\"error_x\":{\"color\":\"#2a3f5f\"},\"error_y\":{\"color\":\"#2a3f5f\"},\"marker\":{\"line\":{\"color\":\"#E5ECF6\",\"width\":0.5},\"pattern\":{\"fillmode\":\"overlay\",\"size\":10,\"solidity\":0.2}},\"type\":\"bar\"}],\"barpolar\":[{\"marker\":{\"line\":{\"color\":\"#E5ECF6\",\"width\":0.5},\"pattern\":{\"fillmode\":\"overlay\",\"size\":10,\"solidity\":0.2}},\"type\":\"barpolar\"}],\"carpet\":[{\"aaxis\":{\"endlinecolor\":\"#2a3f5f\",\"gridcolor\":\"white\",\"linecolor\":\"white\",\"minorgridcolor\":\"white\",\"startlinecolor\":\"#2a3f5f\"},\"baxis\":{\"endlinecolor\":\"#2a3f5f\",\"gridcolor\":\"white\",\"linecolor\":\"white\",\"minorgridcolor\":\"white\",\"startlinecolor\":\"#2a3f5f\"},\"type\":\"carpet\"}],\"choropleth\":[{\"colorbar\":{\"outlinewidth\":0,\"ticks\":\"\"},\"type\":\"choropleth\"}],\"contour\":[{\"colorbar\":{\"outlinewidth\":0,\"ticks\":\"\"},\"colorscale\":[[0.0,\"#0d0887\"],[0.1111111111111111,\"#46039f\"],[0.2222222222222222,\"#7201a8\"],[0.3333333333333333,\"#9c179e\"],[0.4444444444444444,\"#bd3786\"],[0.5555555555555556,\"#d8576b\"],[0.6666666666666666,\"#ed7953\"],[0.7777777777777778,\"#fb9f3a\"],[0.8888888888888888,\"#fdca26\"],[1.0,\"#f0f921\"]],\"type\":\"contour\"}],\"contourcarpet\":[{\"colorbar\":{\"outlinewidth\":0,\"ticks\":\"\"},\"type\":\"contourcarpet\"}],\"heatmap\":[{\"colorbar\":{\"outlinewidth\":0,\"ticks\":\"\"},\"colorscale\":[[0.0,\"#0d0887\"],[0.1111111111111111,\"#46039f\"],[0.2222222222222222,\"#7201a8\"],[0.3333333333333333,\"#9c179e\"],[0.4444444444444444,\"#bd3786\"],[0.5555555555555556,\"#d8576b\"],[0.6666666666666666,\"#ed7953\"],[0.7777777777777778,\"#fb9f3a\"],[0.8888888888888888,\"#fdca26\"],[1.0,\"#f0f921\"]],\"type\":\"heatmap\"}],\"heatmapgl\":[{\"colorbar\":{\"outlinewidth\":0,\"ticks\":\"\"},\"colorscale\":[[0.0,\"#0d0887\"],[0.1111111111111111,\"#46039f\"],[0.2222222222222222,\"#7201a8\"],[0.3333333333333333,\"#9c179e\"],[0.4444444444444444,\"#bd3786\"],[0.5555555555555556,\"#d8576b\"],[0.6666666666666666,\"#ed7953\"],[0.7777777777777778,\"#fb9f3a\"],[0.8888888888888888,\"#fdca26\"],[1.0,\"#f0f921\"]],\"type\":\"heatmapgl\"}],\"histogram\":[{\"marker\":{\"pattern\":{\"fillmode\":\"overlay\",\"size\":10,\"solidity\":0.2}},\"type\":\"histogram\"}],\"histogram2d\":[{\"colorbar\":{\"outlinewidth\":0,\"ticks\":\"\"},\"colorscale\":[[0.0,\"#0d0887\"],[0.1111111111111111,\"#46039f\"],[0.2222222222222222,\"#7201a8\"],[0.3333333333333333,\"#9c179e\"],[0.4444444444444444,\"#bd3786\"],[0.5555555555555556,\"#d8576b\"],[0.6666666666666666,\"#ed7953\"],[0.7777777777777778,\"#fb9f3a\"],[0.8888888888888888,\"#fdca26\"],[1.0,\"#f0f921\"]],\"type\":\"histogram2d\"}],\"histogram2dcontour\":[{\"colorbar\":{\"outlinewidth\":0,\"ticks\":\"\"},\"colorscale\":[[0.0,\"#0d0887\"],[0.1111111111111111,\"#46039f\"],[0.2222222222222222,\"#7201a8\"],[0.3333333333333333,\"#9c179e\"],[0.4444444444444444,\"#bd3786\"],[0.5555555555555556,\"#d8576b\"],[0.6666666666666666,\"#ed7953\"],[0.7777777777777778,\"#fb9f3a\"],[0.8888888888888888,\"#fdca26\"],[1.0,\"#f0f921\"]],\"type\":\"histogram2dcontour\"}],\"mesh3d\":[{\"colorbar\":{\"outlinewidth\":0,\"ticks\":\"\"},\"type\":\"mesh3d\"}],\"parcoords\":[{\"line\":{\"colorbar\":{\"outlinewidth\":0,\"ticks\":\"\"}},\"type\":\"parcoords\"}],\"pie\":[{\"automargin\":true,\"type\":\"pie\"}],\"scatter\":[{\"marker\":{\"colorbar\":{\"outlinewidth\":0,\"ticks\":\"\"}},\"type\":\"scatter\"}],\"scatter3d\":[{\"line\":{\"colorbar\":{\"outlinewidth\":0,\"ticks\":\"\"}},\"marker\":{\"colorbar\":{\"outlinewidth\":0,\"ticks\":\"\"}},\"type\":\"scatter3d\"}],\"scattercarpet\":[{\"marker\":{\"colorbar\":{\"outlinewidth\":0,\"ticks\":\"\"}},\"type\":\"scattercarpet\"}],\"scattergeo\":[{\"marker\":{\"colorbar\":{\"outlinewidth\":0,\"ticks\":\"\"}},\"type\":\"scattergeo\"}],\"scattergl\":[{\"marker\":{\"colorbar\":{\"outlinewidth\":0,\"ticks\":\"\"}},\"type\":\"scattergl\"}],\"scattermapbox\":[{\"marker\":{\"colorbar\":{\"outlinewidth\":0,\"ticks\":\"\"}},\"type\":\"scattermapbox\"}],\"scatterpolar\":[{\"marker\":{\"colorbar\":{\"outlinewidth\":0,\"ticks\":\"\"}},\"type\":\"scatterpolar\"}],\"scatterpolargl\":[{\"marker\":{\"colorbar\":{\"outlinewidth\":0,\"ticks\":\"\"}},\"type\":\"scatterpolargl\"}],\"scatterternary\":[{\"marker\":{\"colorbar\":{\"outlinewidth\":0,\"ticks\":\"\"}},\"type\":\"scatterternary\"}],\"surface\":[{\"colorbar\":{\"outlinewidth\":0,\"ticks\":\"\"},\"colorscale\":[[0.0,\"#0d0887\"],[0.1111111111111111,\"#46039f\"],[0.2222222222222222,\"#7201a8\"],[0.3333333333333333,\"#9c179e\"],[0.4444444444444444,\"#bd3786\"],[0.5555555555555556,\"#d8576b\"],[0.6666666666666666,\"#ed7953\"],[0.7777777777777778,\"#fb9f3a\"],[0.8888888888888888,\"#fdca26\"],[1.0,\"#f0f921\"]],\"type\":\"surface\"}],\"table\":[{\"cells\":{\"fill\":{\"color\":\"#EBF0F8\"},\"line\":{\"color\":\"white\"}},\"header\":{\"fill\":{\"color\":\"#C8D4E3\"},\"line\":{\"color\":\"white\"}},\"type\":\"table\"}]},\"layout\":{\"annotationdefaults\":{\"arrowcolor\":\"#2a3f5f\",\"arrowhead\":0,\"arrowwidth\":1},\"autotypenumbers\":\"strict\",\"coloraxis\":{\"colorbar\":{\"outlinewidth\":0,\"ticks\":\"\"}},\"colorscale\":{\"diverging\":[[0,\"#8e0152\"],[0.1,\"#c51b7d\"],[0.2,\"#de77ae\"],[0.3,\"#f1b6da\"],[0.4,\"#fde0ef\"],[0.5,\"#f7f7f7\"],[0.6,\"#e6f5d0\"],[0.7,\"#b8e186\"],[0.8,\"#7fbc41\"],[0.9,\"#4d9221\"],[1,\"#276419\"]],\"sequential\":[[0.0,\"#0d0887\"],[0.1111111111111111,\"#46039f\"],[0.2222222222222222,\"#7201a8\"],[0.3333333333333333,\"#9c179e\"],[0.4444444444444444,\"#bd3786\"],[0.5555555555555556,\"#d8576b\"],[0.6666666666666666,\"#ed7953\"],[0.7777777777777778,\"#fb9f3a\"],[0.8888888888888888,\"#fdca26\"],[1.0,\"#f0f921\"]],\"sequentialminus\":[[0.0,\"#0d0887\"],[0.1111111111111111,\"#46039f\"],[0.2222222222222222,\"#7201a8\"],[0.3333333333333333,\"#9c179e\"],[0.4444444444444444,\"#bd3786\"],[0.5555555555555556,\"#d8576b\"],[0.6666666666666666,\"#ed7953\"],[0.7777777777777778,\"#fb9f3a\"],[0.8888888888888888,\"#fdca26\"],[1.0,\"#f0f921\"]]},\"colorway\":[\"#636efa\",\"#EF553B\",\"#00cc96\",\"#ab63fa\",\"#FFA15A\",\"#19d3f3\",\"#FF6692\",\"#B6E880\",\"#FF97FF\",\"#FECB52\"],\"font\":{\"color\":\"#2a3f5f\"},\"geo\":{\"bgcolor\":\"white\",\"lakecolor\":\"white\",\"landcolor\":\"#E5ECF6\",\"showlakes\":true,\"showland\":true,\"subunitcolor\":\"white\"},\"hoverlabel\":{\"align\":\"left\"},\"hovermode\":\"closest\",\"mapbox\":{\"style\":\"light\"},\"paper_bgcolor\":\"white\",\"plot_bgcolor\":\"#E5ECF6\",\"polar\":{\"angularaxis\":{\"gridcolor\":\"white\",\"linecolor\":\"white\",\"ticks\":\"\"},\"bgcolor\":\"#E5ECF6\",\"radialaxis\":{\"gridcolor\":\"white\",\"linecolor\":\"white\",\"ticks\":\"\"}},\"scene\":{\"xaxis\":{\"backgroundcolor\":\"#E5ECF6\",\"gridcolor\":\"white\",\"gridwidth\":2,\"linecolor\":\"white\",\"showbackground\":true,\"ticks\":\"\",\"zerolinecolor\":\"white\"},\"yaxis\":{\"backgroundcolor\":\"#E5ECF6\",\"gridcolor\":\"white\",\"gridwidth\":2,\"linecolor\":\"white\",\"showbackground\":true,\"ticks\":\"\",\"zerolinecolor\":\"white\"},\"zaxis\":{\"backgroundcolor\":\"#E5ECF6\",\"gridcolor\":\"white\",\"gridwidth\":2,\"linecolor\":\"white\",\"showbackground\":true,\"ticks\":\"\",\"zerolinecolor\":\"white\"}},\"shapedefaults\":{\"line\":{\"color\":\"#2a3f5f\"}},\"ternary\":{\"aaxis\":{\"gridcolor\":\"white\",\"linecolor\":\"white\",\"ticks\":\"\"},\"baxis\":{\"gridcolor\":\"white\",\"linecolor\":\"white\",\"ticks\":\"\"},\"bgcolor\":\"#E5ECF6\",\"caxis\":{\"gridcolor\":\"white\",\"linecolor\":\"white\",\"ticks\":\"\"}},\"title\":{\"x\":0.05},\"xaxis\":{\"automargin\":true,\"gridcolor\":\"white\",\"linecolor\":\"white\",\"ticks\":\"\",\"title\":{\"standoff\":15},\"zerolinecolor\":\"white\",\"zerolinewidth\":2},\"yaxis\":{\"automargin\":true,\"gridcolor\":\"white\",\"linecolor\":\"white\",\"ticks\":\"\",\"title\":{\"standoff\":15},\"zerolinecolor\":\"white\",\"zerolinewidth\":2}}},\"xaxis\":{\"rangemode\":\"tozero\",\"zeroline\":true,\"zerolinecolor\":\"gray\"},\"yaxis\":{\"rangemode\":\"tozero\",\"zeroline\":true,\"zerolinecolor\":\"gray\"}},                        {\"responsive\": true}                    ).then(function(){\n",
       "                            \n",
       "var gd = document.getElementById('fdf6cbb6-9c37-439f-baf8-243a56740eac');\n",
       "var x = new MutationObserver(function (mutations, observer) {{\n",
       "        var display = window.getComputedStyle(gd).display;\n",
       "        if (!display || display === 'none') {{\n",
       "            console.log([gd, 'removed!']);\n",
       "            Plotly.purge(gd);\n",
       "            observer.disconnect();\n",
       "        }}\n",
       "}});\n",
       "\n",
       "// Listen for the removal of the full notebook cells\n",
       "var notebookContainer = gd.closest('#notebook-container');\n",
       "if (notebookContainer) {{\n",
       "    x.observe(notebookContainer, {childList: true});\n",
       "}}\n",
       "\n",
       "// Listen for the clearing of the current output cell\n",
       "var outputEl = gd.closest('.output');\n",
       "if (outputEl) {{\n",
       "    x.observe(outputEl, {childList: true});\n",
       "}}\n",
       "\n",
       "                        })                };                });            </script>        </div>"
      ]
     },
     "metadata": {},
     "output_type": "display_data"
    },
    {
     "data": {
      "text/plain": [
       "<topic_cluster_visualizer.plots.Plots at 0x1a3a590d3a0>"
      ]
     },
     "execution_count": 73,
     "metadata": {},
     "output_type": "execute_result"
    }
   ],
   "source": [
    "plt.topic_trajectory_plot(temp0000)"
   ]
  },
  {
   "cell_type": "code",
   "execution_count": 72,
   "id": "591f656d-d7ce-45a6-be6c-a60b99a900a2",
   "metadata": {},
   "outputs": [],
   "source": [
    "temp0000 = []\n",
    "\n",
    "for i in [2, 10, 14, 18, 22]:\n",
    "    temp0000.append(tcv.oblimin_proc2_zs[i])\n",
    "\n"
   ]
  }
 ],
 "metadata": {
  "kernelspec": {
   "display_name": "Python 3 (ipykernel)",
   "language": "python",
   "name": "python3"
  },
  "language_info": {
   "codemirror_mode": {
    "name": "ipython",
    "version": 3
   },
   "file_extension": ".py",
   "mimetype": "text/x-python",
   "name": "python",
   "nbconvert_exporter": "python",
   "pygments_lexer": "ipython3",
   "version": "3.9.7"
  }
 },
 "nbformat": 4,
 "nbformat_minor": 5
}
