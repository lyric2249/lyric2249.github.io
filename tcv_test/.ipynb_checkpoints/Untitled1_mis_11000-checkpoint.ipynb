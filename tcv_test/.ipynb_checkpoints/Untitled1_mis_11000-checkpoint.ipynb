{
 "cells": [
  {
   "cell_type": "code",
   "execution_count": 55,
   "id": "4d1cd5c5-3855-4625-8d3c-7c21003da63b",
   "metadata": {},
   "outputs": [],
   "source": [
    "import pandas as pd\n",
    "import numpy as np\n",
    "from topic_cluster_visualizer import TopicClusterVisualizer, Plots\n",
    "\n",
    "import nltk\n",
    "#nltk.download('punkt')\n",
    "#nltk.download('averaged_perceptron_tagger')"
   ]
  },
  {
   "cell_type": "code",
   "execution_count": 2,
   "id": "b9ae94bf-6a11-4cd6-8310-a8528499477e",
   "metadata": {},
   "outputs": [],
   "source": [
    "#temp = list(pd.read_table(\"manonly.txt\").iloc[:,0])"
   ]
  },
  {
   "cell_type": "code",
   "execution_count": 3,
   "id": "b1f693ba-290d-4700-a8ff-1151fe26e21b",
   "metadata": {},
   "outputs": [],
   "source": [
    "#temp = pd.read_excel(\"savedrecs (1).xls\")"
   ]
  },
  {
   "cell_type": "markdown",
   "id": "ec07d0e3-f9c3-4c8e-8f79-0204871bad04",
   "metadata": {},
   "source": [
    " "
   ]
  },
  {
   "cell_type": "markdown",
   "id": "b1d2913e-7822-4807-8382-1e0305564094",
   "metadata": {},
   "source": [
    " "
   ]
  },
  {
   "cell_type": "markdown",
   "id": "d07425f0-252f-4002-8512-464393e1a2c8",
   "metadata": {},
   "source": [
    " "
   ]
  },
  {
   "cell_type": "markdown",
   "id": "49391fd0-bd78-43da-97da-49455975df67",
   "metadata": {},
   "source": [
    " "
   ]
  },
  {
   "cell_type": "markdown",
   "id": "2cf9dd77-81ec-4f59-873d-01bc19543ae2",
   "metadata": {},
   "source": [
    " "
   ]
  },
  {
   "cell_type": "markdown",
   "id": "02cae8ca-d692-42e1-bee7-6c1a0a5f5c3d",
   "metadata": {},
   "source": [
    " "
   ]
  },
  {
   "cell_type": "markdown",
   "id": "8a351f5b-ecbe-4db2-aff9-9a3ca0005385",
   "metadata": {},
   "source": [
    " "
   ]
  },
  {
   "cell_type": "code",
   "execution_count": 56,
   "id": "6515220c-9803-4ed4-9034-14ecba9a6d92",
   "metadata": {},
   "outputs": [],
   "source": [
    "data = []\n",
    "titles = []\n",
    "keywords = []\n",
    "\n",
    "\n",
    "\n",
    "temp = pd.read_excel(\"covid_update_0803.xlsx\")\n",
    "\n",
    "titles = temp[\"title_raw\"]\n",
    "data = temp[\"abstract_raw\"]\n",
    "keywords = temp[\"keywords_raw\"]\n"
   ]
  },
  {
   "cell_type": "code",
   "execution_count": 2,
   "id": "50564522-f876-4e72-950b-fb922186105a",
   "metadata": {},
   "outputs": [],
   "source": [
    "data = []\n",
    "titles = []\n",
    "keywords = []\n",
    "\n",
    "for i in range(6, 18):\n",
    "    temp = pd.read_excel(\"savedrecs (\"+str(i)+\").xls\")\n",
    "    \n",
    "    data += list(temp[\"Article Title\"])\n",
    "    titles += list(temp[\"Author Keywords\"])\n",
    "    keywords += list(temp[\"Abstract\"])"
   ]
  },
  {
   "cell_type": "code",
   "execution_count": 3,
   "id": "0f4737cb-7574-47f5-94a0-67318421a857",
   "metadata": {},
   "outputs": [],
   "source": [
    "#temp3 = pd.Series(temp2)"
   ]
  },
  {
   "cell_type": "code",
   "execution_count": 4,
   "id": "2dc2486c-7f9a-4567-81b2-b6cf4d6ff78e",
   "metadata": {
    "tags": []
   },
   "outputs": [],
   "source": [
    "#temp3 = temp3[:1000]"
   ]
  },
  {
   "cell_type": "code",
   "execution_count": 57,
   "id": "621143ed-2cae-456a-a74e-225149659aa5",
   "metadata": {},
   "outputs": [],
   "source": [
    "###########################################################################TODODODODODOD\n",
    "\n",
    "titles = pd.Series(titles).dropna().map(lambda x: tcv._get_terms(x))\n",
    "keywords = pd.Series(keywords).dropna().map(lambda x: tcv._get_terms(x))"
   ]
  },
  {
   "cell_type": "code",
   "execution_count": 58,
   "id": "1c67416a-b2b1-4d42-b2f4-f4eb081d7d1c",
   "metadata": {},
   "outputs": [],
   "source": [
    "fuck = []\n",
    "\n",
    "for each in titles:\n",
    "    fuck.append(isinstance(each, str))\n",
    "\n",
    "#fuck = [not elem for elem in fuck]\n",
    "titles = titles[fuck]\n",
    "\n",
    "    "
   ]
  },
  {
   "cell_type": "code",
   "execution_count": 59,
   "id": "30b5893c-510f-4b1d-acf3-307818e97172",
   "metadata": {},
   "outputs": [],
   "source": [
    "fuck = []\n",
    "\n",
    "for each in keywords:\n",
    "    fuck.append(isinstance(each, str))\n",
    "\n",
    "#fuck = [not elem for elem in fuck]\n",
    "keywords = keywords[fuck]\n",
    "\n",
    "    "
   ]
  },
  {
   "cell_type": "code",
   "execution_count": 60,
   "id": "35db31b3-3aea-43ef-be5a-3533cb8c916e",
   "metadata": {},
   "outputs": [],
   "source": [
    "tcv = TopicClusterVisualizer(data)\n",
    "\n",
    "#tcv.preprocess(pd.Series(titles), pd.Series(keywords), True)"
   ]
  },
  {
   "cell_type": "code",
   "execution_count": 61,
   "id": "0ddda10c-2583-47f9-a032-a9e129415ceb",
   "metadata": {},
   "outputs": [],
   "source": [
    "train_data = titles\n",
    "corpus = pd.Series(data).dropna().map(lambda x: tcv._get_terms(x)).dropna().str.split(\",\")\n",
    "\n",
    "from gensim.models import Word2Vec, KeyedVectors\n",
    "from collections import Counter\n",
    "\n",
    "near_term_topn_val = 10\n",
    "\n",
    "corpus_4_train = [lst.split(\",\") for lst in train_data if lst]"
   ]
  },
  {
   "cell_type": "code",
   "execution_count": 62,
   "id": "8821ee9d-13d1-4061-b932-33d0a43eb6c6",
   "metadata": {},
   "outputs": [],
   "source": [
    "model = Word2Vec(sentences=corpus_4_train, \n",
    "\n",
    "                vector_size=256,\n",
    "                window=3,\n",
    "                min_count=1,\n",
    "                workers=4, \n",
    "                sg=1, \n",
    "                negative=20,\n",
    "\n",
    "                epochs=1)"
   ]
  },
  {
   "cell_type": "code",
   "execution_count": 63,
   "id": "c5ae7dd9-c640-4b25-9ace-388f2fdd9ace",
   "metadata": {},
   "outputs": [],
   "source": [
    "def nearest_terms_func(term, near_term_topn):\n",
    "    if term in model.wv.key_to_index.keys(): \n",
    "        return [x[0] for x in model.wv.most_similar(term, topn=near_term_topn)]\n",
    "    return []"
   ]
  },
  {
   "cell_type": "code",
   "execution_count": 64,
   "id": "357a077b-cc4a-429a-aa51-d778a613610e",
   "metadata": {},
   "outputs": [],
   "source": [
    "min_freq = 3\n",
    "\n",
    "total_abs_terms = [word for words in corpus.dropna() if words for word in words]\n",
    "abs_terms = [term for term, freq in Counter(total_abs_terms).items() if freq >= min_freq]"
   ]
  },
  {
   "cell_type": "code",
   "execution_count": 65,
   "id": "1083b23c-844c-484a-bea4-47e8edac4235",
   "metadata": {},
   "outputs": [],
   "source": [
    "total_kwd_terms = [word for words in keywords.values if words for word in words.split(\",\")]\n",
    "kwd_terms = [term for term, freq in Counter(total_kwd_terms).items() if freq >= min_freq]"
   ]
  },
  {
   "cell_type": "code",
   "execution_count": 66,
   "id": "ec9a84e8-e466-494a-b886-05cf86e05ff4",
   "metadata": {},
   "outputs": [],
   "source": [
    "nearest_terms = set()\n",
    "for term in kwd_terms:\n",
    "    terms = nearest_terms_func(term, near_term_topn_val)\n",
    "    if terms:\n",
    "        nearest_terms.update(terms)"
   ]
  },
  {
   "cell_type": "code",
   "execution_count": 67,
   "id": "d3dcc95f-8899-42f6-8316-a1a0e3952073",
   "metadata": {},
   "outputs": [],
   "source": [
    "# 키워드 기반으로, word2vec 에서 단어로 선정된 애들 중에서 각 키워드들이랑 가까운 단어만 엄선해서 얘들로 새로운 앱스트랙 재료 (vocab3) \n",
    "# 만들고 각 앱스트랙의 tokened 단어들 중 이 vocab3에 들어있을 경우에만 생존시킨다\n",
    "\n",
    "terms = set(abs_terms) & set(nearest_terms)\n",
    "vocab_set = set(terms)"
   ]
  },
  {
   "cell_type": "code",
   "execution_count": 68,
   "id": "56ff2caf-c070-4cdb-a659-899273d85892",
   "metadata": {},
   "outputs": [],
   "source": [
    "trained_corpus = corpus.dropna().map(lambda x: set(x) & vocab_set).map(lambda x: list(x))"
   ]
  },
  {
   "cell_type": "code",
   "execution_count": 69,
   "id": "c8b47bc5-ec57-4e00-b66d-662c01403392",
   "metadata": {},
   "outputs": [
    {
     "data": {
      "text/plain": [
       "3336"
      ]
     },
     "execution_count": 69,
     "metadata": {},
     "output_type": "execute_result"
    }
   ],
   "source": [
    "from itertools import chain\n",
    "\n",
    "len(set(i for i in chain(*list(trained_corpus))))"
   ]
  },
  {
   "cell_type": "code",
   "execution_count": 70,
   "id": "7f3a8e07-9a7c-458d-a341-4e8365e01748",
   "metadata": {},
   "outputs": [],
   "source": [
    "\n",
    "tcv.corpus = trained_corpus\n",
    "temp4 = tcv.corpus[:]\n",
    "pd.DataFrame(list(temp4)).to_csv(\"temp2.csv\", sep=\" \", header=False, index=False)"
   ]
  },
  {
   "cell_type": "code",
   "execution_count": null,
   "id": "6263c489-53c9-46a1-b292-fc89e27fc7c2",
   "metadata": {},
   "outputs": [],
   "source": []
  },
  {
   "cell_type": "code",
   "execution_count": null,
   "id": "ba79c5fa-df9c-455f-9f14-8280c5ad3dbc",
   "metadata": {},
   "outputs": [],
   "source": []
  },
  {
   "cell_type": "code",
   "execution_count": null,
   "id": "4e4ee38b-4026-42ee-b5f3-d32467a29a8a",
   "metadata": {},
   "outputs": [],
   "source": []
  },
  {
   "cell_type": "code",
   "execution_count": null,
   "id": "ba20e33a-042d-437e-9727-e68cb074b941",
   "metadata": {},
   "outputs": [],
   "source": []
  },
  {
   "cell_type": "code",
   "execution_count": 6,
   "id": "3922bbf6-882c-4610-b818-666d162df1ff",
   "metadata": {},
   "outputs": [],
   "source": [
    "#temp4 = tcv.corpus[:]"
   ]
  },
  {
   "cell_type": "code",
   "execution_count": 7,
   "id": "b875dc04-9ac2-4944-9b39-89e5f3030492",
   "metadata": {},
   "outputs": [],
   "source": [
    "#pd.DataFrame(list(temp4)).to_csv(\"temp.csv\", sep=\" \", header=False, index=False)"
   ]
  },
  {
   "cell_type": "markdown",
   "id": "411c1bf7-3bc6-4873-a15e-bc1eed8a63f2",
   "metadata": {},
   "source": [
    " "
   ]
  },
  {
   "cell_type": "markdown",
   "id": "f3ff8a4a-6fab-4c8d-b599-0be8b7ca61e4",
   "metadata": {},
   "source": [
    " "
   ]
  },
  {
   "cell_type": "markdown",
   "id": "7605680d-63a1-4234-ae47-5670a9df47d0",
   "metadata": {},
   "source": [
    " "
   ]
  },
  {
   "cell_type": "markdown",
   "id": "945873e8-8265-4a9f-9d16-9d95e4c04a63",
   "metadata": {},
   "source": [
    " "
   ]
  },
  {
   "cell_type": "markdown",
   "id": "140af51f-21f6-4269-9c0b-839faee74702",
   "metadata": {},
   "source": [
    " "
   ]
  },
  {
   "cell_type": "markdown",
   "id": "7f962df6-9ebb-4050-b100-ef6cccd0913d",
   "metadata": {},
   "source": [
    " "
   ]
  },
  {
   "cell_type": "code",
   "execution_count": 71,
   "id": "3e7fa5b3-cee4-4c18-8729-0b45c80203ff",
   "metadata": {},
   "outputs": [],
   "source": [
    "pwz = pd.read_csv(\"k20.pw_z\", sep=' ', header=None).iloc[:,:-1] #각 주제에서의 단어출현확률\n",
    "pz = pd.read_csv(\"k20.pz\", sep=' ', header=None).iloc[:,:-1] #각 주제의 출현 확률\n",
    "pzd = pd.read_csv(\"k20.pz_d\", sep=' ', header=None).iloc[:,:-1] #각 글줄에서의 주제확률농도?"
   ]
  },
  {
   "cell_type": "code",
   "execution_count": 72,
   "id": "519177b5-590e-4c32-baee-dedb7d6cf1af",
   "metadata": {},
   "outputs": [],
   "source": [
    "voca = np.array(pd.read_csv(\"voca.txt\",  sep='\\t', header=None).iloc[:,1]) #각 주제에서의 단어출현확률\n",
    "maxprob = np.max(pwz, axis=1)"
   ]
  },
  {
   "cell_type": "markdown",
   "id": "9bf54ac0-7aff-4321-a46a-282256438c47",
   "metadata": {},
   "source": [
    " \n"
   ]
  },
  {
   "cell_type": "markdown",
   "id": "066c5546-8bf9-413b-b6a5-040928d749e5",
   "metadata": {},
   "source": [
    " \n"
   ]
  },
  {
   "cell_type": "markdown",
   "id": "edda6d17-4a07-4250-a171-8c661890a0d4",
   "metadata": {},
   "source": [
    " \n"
   ]
  },
  {
   "cell_type": "markdown",
   "id": "6102bfc6-6709-4d4b-9bc6-c8c25822b5ce",
   "metadata": {},
   "source": [
    " \n"
   ]
  },
  {
   "cell_type": "markdown",
   "id": "b6b45a9c-0120-476a-9b55-562f49efa7ff",
   "metadata": {},
   "source": [
    " \n"
   ]
  },
  {
   "cell_type": "markdown",
   "id": "84660c54-ee08-4764-bbf2-3971241bac4f",
   "metadata": {},
   "source": [
    " \n"
   ]
  },
  {
   "cell_type": "markdown",
   "id": "df68eba9-615c-4d0d-829c-aa3375414a0c",
   "metadata": {},
   "source": [
    " \n"
   ]
  },
  {
   "cell_type": "markdown",
   "id": "195b66c5-7d04-4dfe-bef6-1178000d479d",
   "metadata": {},
   "source": [
    " \n"
   ]
  },
  {
   "cell_type": "markdown",
   "id": "b72630a0-b19c-400f-b328-719a9a93acc2",
   "metadata": {},
   "source": [
    " \n"
   ]
  },
  {
   "cell_type": "markdown",
   "id": "12d70d87-7cef-4675-b652-f79a7421e170",
   "metadata": {},
   "source": [
    " \n"
   ]
  },
  {
   "cell_type": "markdown",
   "id": "bcaee4c6-b499-4097-9b56-ffea485a177b",
   "metadata": {},
   "source": [
    " \n"
   ]
  },
  {
   "cell_type": "markdown",
   "id": "f0dbd5c0-4d10-4fb6-ad21-b88a43bf0106",
   "metadata": {},
   "source": [
    " \n"
   ]
  },
  {
   "cell_type": "markdown",
   "id": "b0e6fc22-9915-48d7-978f-9efc86e5f2eb",
   "metadata": {},
   "source": [
    " \n"
   ]
  },
  {
   "cell_type": "markdown",
   "id": "561764af-c1e6-49ce-a1cc-0be788000bc6",
   "metadata": {},
   "source": [
    " \n"
   ]
  },
  {
   "cell_type": "markdown",
   "id": "cc986d5d-0e7d-4b1f-8027-9045b3fd424b",
   "metadata": {},
   "source": [
    " \n"
   ]
  },
  {
   "cell_type": "markdown",
   "id": "1d70a57d-d00e-4804-b67e-8411c1197fab",
   "metadata": {},
   "source": [
    " \n"
   ]
  },
  {
   "cell_type": "code",
   "execution_count": 75,
   "id": "e4140f4c-63fe-4093-ad9b-d0c772ac2cad",
   "metadata": {},
   "outputs": [],
   "source": [
    "num_percentage2 = 21,\n",
    "        \n",
    "ndim2 = 2\n",
    "niter2 = 55000\n",
    "nburn2 = 5000\n",
    "nthin2 = 5\n",
    "nprint2 = 0\n",
    "\n",
    "jump_beta2 = 0.28\n",
    "jump_theta2 = 1.0\n",
    "jump_gamma2 = 0.01\n",
    "jump_z2 = 0.06\n",
    "jump_w2 = 0.06\n",
    "pr_mean_beta2 = 0\n",
    "pr_sd_beta2 = 1\n",
    "pr_a_th_sigma2 = 0.001\n",
    "pr_b_th_sigma2 = 0.001\n",
    "pr_mean_theta2 = 0\n",
    "pr_a_sigma2 = 0.001\n",
    "pr_b_sigma2 = 0.001\n",
    "pr_mean_gamma2 = 1.0\n",
    "pr_sd_gamma2 = 1.0\n",
    "\n",
    "missing2 = 99"
   ]
  },
  {
   "cell_type": "code",
   "execution_count": 70,
   "id": "41adcf8b-1e80-413d-b5a8-547377056098",
   "metadata": {},
   "outputs": [
    {
     "name": "stdout",
     "output_type": "stream",
     "text": [
      "beta\n",
      "theta\n",
      "w\n",
      "z\n",
      "gamma\n",
      "sigma_theta\n",
      "sigma\n",
      "map\n",
      "accept_beta\n",
      "accept_theta\n",
      "accept_w\n",
      "accept_z\n",
      "accept_gamma\n",
      "phiwz\n",
      "words\n",
      "percentile\n"
     ]
    }
   ],
   "source": [
    "# for each in lsirm[8]:\n",
    "#     print(each)\n",
    "\n",
    "# #lsirm[0][\"map\"]"
   ]
  },
  {
   "cell_type": "code",
   "execution_count": null,
   "id": "19ec640b-aa1b-44c1-9c94-f14bc170e664",
   "metadata": {},
   "outputs": [
    {
     "name": "stdout",
     "output_type": "stream",
     "text": [
      "\n"
     ]
    },
    {
     "data": {
      "application/vnd.jupyter.widget-view+json": {
       "model_id": "fa4094f298e549ac9c8a8aa88336567d",
       "version_major": 2,
       "version_minor": 0
      },
      "text/plain": [
       "LSIRM per perc:   0%|          | 0/40 [00:00<?, ?it/s]"
      ]
     },
     "metadata": {},
     "output_type": "display_data"
    }
   ],
   "source": [
    "percentage_range, lsirm = tcv._LSIRM(phiwz = np.array(pwz.transpose()), \n",
    "                            dictionary = voca, \n",
    "                            word_maxprob = maxprob,\n",
    "                            \n",
    "                            num_percentage = [i for i in range(30, 70)],\n",
    "                            ndim = ndim2, \n",
    "                            niter = niter2, \n",
    "                            nburn = nburn2, \n",
    "                            nthin = nthin2, \n",
    "                            nprint = nprint2,\n",
    "                            \n",
    "                            jump_beta = jump_beta2,\n",
    "                            jump_theta = jump_theta2,\n",
    "                            jump_gamma = jump_gamma2,\n",
    "                            jump_z = jump_z2,\n",
    "                            jump_w = jump_w2,            \n",
    "                            \n",
    "                            pr_mean_beta = pr_mean_beta2,\n",
    "                            pr_sd_beta = pr_sd_beta2,\n",
    "                            pr_a_th_sigma = pr_a_th_sigma2,\n",
    "                            pr_b_th_sigma = pr_b_th_sigma2,\n",
    "                            pr_mean_theta = pr_mean_theta2,\n",
    "                            pr_a_sigma = pr_a_sigma2,\n",
    "                            pr_b_sigma = pr_b_sigma2,\n",
    "                            pr_mean_gamma = pr_mean_gamma2,\n",
    "                            pr_sd_gamma = pr_sd_gamma2,\n",
    "                            \n",
    "                            missing = missing2) "
   ]
  },
  {
   "cell_type": "code",
   "execution_count": 125,
   "id": "e51c8ce0-e386-44d4-82e5-458968705d15",
   "metadata": {},
   "outputs": [
    {
     "data": {
      "text/plain": [
       "array(['organiz', 'feedback', 'knowledg', 'sme', 'design'], dtype=object)"
      ]
     },
     "execution_count": 125,
     "metadata": {},
     "output_type": "execute_result"
    }
   ],
   "source": [
    "lsirm[0][\"words\"]"
   ]
  },
  {
   "cell_type": "code",
   "execution_count": 37,
   "id": "8566dc6a-3f0b-46f9-88a3-8b522e2a06ff",
   "metadata": {},
   "outputs": [
    {
     "name": "stdout",
     "output_type": "stream",
     "text": [
      "\n",
      "current Matrix under procrustes within: 1/40\n"
     ]
    },
    {
     "data": {
      "application/vnd.jupyter.widget-view+json": {
       "model_id": "9ab6b1d5b8254fc680202bd05f19c1b4",
       "version_major": 2,
       "version_minor": 0
      },
      "text/plain": [
       "Procrustes within:   0%|          | 0/1000 [00:00<?, ?it/s]"
      ]
     },
     "metadata": {},
     "output_type": "display_data"
    },
    {
     "data": {
      "application/vnd.jupyter.widget-view+json": {
       "model_id": "a0d9bab77cd14ec88bdc64d535342788",
       "version_major": 2,
       "version_minor": 0
      },
      "text/plain": [
       "derive estimated w:   0%|          | 0/5 [00:00<?, ?it/s]"
      ]
     },
     "metadata": {},
     "output_type": "display_data"
    },
    {
     "data": {
      "application/vnd.jupyter.widget-view+json": {
       "model_id": "0e45060ca0a946d8b2481dfa632631c6",
       "version_major": 2,
       "version_minor": 0
      },
      "text/plain": [
       "derive estimated z:   0%|          | 0/20 [00:00<?, ?it/s]"
      ]
     },
     "metadata": {},
     "output_type": "display_data"
    },
    {
     "name": "stdout",
     "output_type": "stream",
     "text": [
      "\n",
      "current Matrix under procrustes within: 2/40\n"
     ]
    },
    {
     "data": {
      "application/vnd.jupyter.widget-view+json": {
       "model_id": "b6eee5c098e249f8bc6a0603d8aecf00",
       "version_major": 2,
       "version_minor": 0
      },
      "text/plain": [
       "Procrustes within:   0%|          | 0/1000 [00:00<?, ?it/s]"
      ]
     },
     "metadata": {},
     "output_type": "display_data"
    },
    {
     "data": {
      "application/vnd.jupyter.widget-view+json": {
       "model_id": "8ff96bbf44d14a339aed151242a87a74",
       "version_major": 2,
       "version_minor": 0
      },
      "text/plain": [
       "derive estimated w:   0%|          | 0/5 [00:00<?, ?it/s]"
      ]
     },
     "metadata": {},
     "output_type": "display_data"
    },
    {
     "data": {
      "application/vnd.jupyter.widget-view+json": {
       "model_id": "03f3178a9e1247be859a9dcba6187aec",
       "version_major": 2,
       "version_minor": 0
      },
      "text/plain": [
       "derive estimated z:   0%|          | 0/20 [00:00<?, ?it/s]"
      ]
     },
     "metadata": {},
     "output_type": "display_data"
    },
    {
     "name": "stdout",
     "output_type": "stream",
     "text": [
      "\n",
      "current Matrix under procrustes within: 3/40\n"
     ]
    },
    {
     "data": {
      "application/vnd.jupyter.widget-view+json": {
       "model_id": "bd1ccdc7681f4b0ca6120b311be14ca7",
       "version_major": 2,
       "version_minor": 0
      },
      "text/plain": [
       "Procrustes within:   0%|          | 0/1000 [00:00<?, ?it/s]"
      ]
     },
     "metadata": {},
     "output_type": "display_data"
    },
    {
     "data": {
      "application/vnd.jupyter.widget-view+json": {
       "model_id": "b74e55d501384d97b6e467beb9add044",
       "version_major": 2,
       "version_minor": 0
      },
      "text/plain": [
       "derive estimated w:   0%|          | 0/6 [00:00<?, ?it/s]"
      ]
     },
     "metadata": {},
     "output_type": "display_data"
    },
    {
     "data": {
      "application/vnd.jupyter.widget-view+json": {
       "model_id": "ed74abb2b1ef414b812874f91f6cc5b0",
       "version_major": 2,
       "version_minor": 0
      },
      "text/plain": [
       "derive estimated z:   0%|          | 0/20 [00:00<?, ?it/s]"
      ]
     },
     "metadata": {},
     "output_type": "display_data"
    },
    {
     "name": "stdout",
     "output_type": "stream",
     "text": [
      "\n",
      "current Matrix under procrustes within: 4/40\n"
     ]
    },
    {
     "data": {
      "application/vnd.jupyter.widget-view+json": {
       "model_id": "f567ff88aef344d79c097536837bb16f",
       "version_major": 2,
       "version_minor": 0
      },
      "text/plain": [
       "Procrustes within:   0%|          | 0/1000 [00:00<?, ?it/s]"
      ]
     },
     "metadata": {},
     "output_type": "display_data"
    },
    {
     "data": {
      "application/vnd.jupyter.widget-view+json": {
       "model_id": "0ee0ef3dd1cb47feacf98077faf3b981",
       "version_major": 2,
       "version_minor": 0
      },
      "text/plain": [
       "derive estimated w:   0%|          | 0/6 [00:00<?, ?it/s]"
      ]
     },
     "metadata": {},
     "output_type": "display_data"
    },
    {
     "data": {
      "application/vnd.jupyter.widget-view+json": {
       "model_id": "828d5056983a4228984896c8ea6e1a5b",
       "version_major": 2,
       "version_minor": 0
      },
      "text/plain": [
       "derive estimated z:   0%|          | 0/20 [00:00<?, ?it/s]"
      ]
     },
     "metadata": {},
     "output_type": "display_data"
    },
    {
     "name": "stdout",
     "output_type": "stream",
     "text": [
      "\n",
      "current Matrix under procrustes within: 5/40\n"
     ]
    },
    {
     "data": {
      "application/vnd.jupyter.widget-view+json": {
       "model_id": "16151d22bb4b423c88c9abe5962cffc9",
       "version_major": 2,
       "version_minor": 0
      },
      "text/plain": [
       "Procrustes within:   0%|          | 0/1000 [00:00<?, ?it/s]"
      ]
     },
     "metadata": {},
     "output_type": "display_data"
    },
    {
     "data": {
      "application/vnd.jupyter.widget-view+json": {
       "model_id": "d0e4cc95794943098efb5d619aca43b4",
       "version_major": 2,
       "version_minor": 0
      },
      "text/plain": [
       "derive estimated w:   0%|          | 0/6 [00:00<?, ?it/s]"
      ]
     },
     "metadata": {},
     "output_type": "display_data"
    },
    {
     "data": {
      "application/vnd.jupyter.widget-view+json": {
       "model_id": "21a74f45c84147ac89f1b89b80b483a8",
       "version_major": 2,
       "version_minor": 0
      },
      "text/plain": [
       "derive estimated z:   0%|          | 0/20 [00:00<?, ?it/s]"
      ]
     },
     "metadata": {},
     "output_type": "display_data"
    },
    {
     "name": "stdout",
     "output_type": "stream",
     "text": [
      "\n",
      "current Matrix under procrustes within: 6/40\n"
     ]
    },
    {
     "data": {
      "application/vnd.jupyter.widget-view+json": {
       "model_id": "60a461f17d8040f8a66970f7243ada42",
       "version_major": 2,
       "version_minor": 0
      },
      "text/plain": [
       "Procrustes within:   0%|          | 0/1000 [00:00<?, ?it/s]"
      ]
     },
     "metadata": {},
     "output_type": "display_data"
    },
    {
     "data": {
      "application/vnd.jupyter.widget-view+json": {
       "model_id": "93aee44dff3646b5b8753986b02ee980",
       "version_major": 2,
       "version_minor": 0
      },
      "text/plain": [
       "derive estimated w:   0%|          | 0/6 [00:00<?, ?it/s]"
      ]
     },
     "metadata": {},
     "output_type": "display_data"
    },
    {
     "data": {
      "application/vnd.jupyter.widget-view+json": {
       "model_id": "395a656f42ea4579953cc9c3845e4eac",
       "version_major": 2,
       "version_minor": 0
      },
      "text/plain": [
       "derive estimated z:   0%|          | 0/20 [00:00<?, ?it/s]"
      ]
     },
     "metadata": {},
     "output_type": "display_data"
    },
    {
     "name": "stdout",
     "output_type": "stream",
     "text": [
      "\n",
      "current Matrix under procrustes within: 7/40\n"
     ]
    },
    {
     "data": {
      "application/vnd.jupyter.widget-view+json": {
       "model_id": "2f2b79d520884ef9913431f1ad6be235",
       "version_major": 2,
       "version_minor": 0
      },
      "text/plain": [
       "Procrustes within:   0%|          | 0/1000 [00:00<?, ?it/s]"
      ]
     },
     "metadata": {},
     "output_type": "display_data"
    },
    {
     "data": {
      "application/vnd.jupyter.widget-view+json": {
       "model_id": "9c48c38bf9e04348811bda4cc94641a3",
       "version_major": 2,
       "version_minor": 0
      },
      "text/plain": [
       "derive estimated w:   0%|          | 0/6 [00:00<?, ?it/s]"
      ]
     },
     "metadata": {},
     "output_type": "display_data"
    },
    {
     "data": {
      "application/vnd.jupyter.widget-view+json": {
       "model_id": "7a53a4aabedd4d3e90017aa6796a1b84",
       "version_major": 2,
       "version_minor": 0
      },
      "text/plain": [
       "derive estimated z:   0%|          | 0/20 [00:00<?, ?it/s]"
      ]
     },
     "metadata": {},
     "output_type": "display_data"
    },
    {
     "name": "stdout",
     "output_type": "stream",
     "text": [
      "\n",
      "current Matrix under procrustes within: 8/40\n"
     ]
    },
    {
     "data": {
      "application/vnd.jupyter.widget-view+json": {
       "model_id": "de404d537f514f149a027113426c280e",
       "version_major": 2,
       "version_minor": 0
      },
      "text/plain": [
       "Procrustes within:   0%|          | 0/1000 [00:00<?, ?it/s]"
      ]
     },
     "metadata": {},
     "output_type": "display_data"
    },
    {
     "data": {
      "application/vnd.jupyter.widget-view+json": {
       "model_id": "9364b95b1e24414fb013ad90cf106295",
       "version_major": 2,
       "version_minor": 0
      },
      "text/plain": [
       "derive estimated w:   0%|          | 0/7 [00:00<?, ?it/s]"
      ]
     },
     "metadata": {},
     "output_type": "display_data"
    },
    {
     "data": {
      "application/vnd.jupyter.widget-view+json": {
       "model_id": "0f704c5dbd9542c58516aaa4fab4e897",
       "version_major": 2,
       "version_minor": 0
      },
      "text/plain": [
       "derive estimated z:   0%|          | 0/20 [00:00<?, ?it/s]"
      ]
     },
     "metadata": {},
     "output_type": "display_data"
    },
    {
     "name": "stdout",
     "output_type": "stream",
     "text": [
      "\n",
      "current Matrix under procrustes within: 9/40\n"
     ]
    },
    {
     "data": {
      "application/vnd.jupyter.widget-view+json": {
       "model_id": "bfd87d73623e4c7297fa04e0359bd2af",
       "version_major": 2,
       "version_minor": 0
      },
      "text/plain": [
       "Procrustes within:   0%|          | 0/1000 [00:00<?, ?it/s]"
      ]
     },
     "metadata": {},
     "output_type": "display_data"
    },
    {
     "data": {
      "application/vnd.jupyter.widget-view+json": {
       "model_id": "799ea5ec3f164e89bb9621be4da78b45",
       "version_major": 2,
       "version_minor": 0
      },
      "text/plain": [
       "derive estimated w:   0%|          | 0/7 [00:00<?, ?it/s]"
      ]
     },
     "metadata": {},
     "output_type": "display_data"
    },
    {
     "data": {
      "application/vnd.jupyter.widget-view+json": {
       "model_id": "fdb4185e24504f7dae623633c1aed1c1",
       "version_major": 2,
       "version_minor": 0
      },
      "text/plain": [
       "derive estimated z:   0%|          | 0/20 [00:00<?, ?it/s]"
      ]
     },
     "metadata": {},
     "output_type": "display_data"
    },
    {
     "name": "stdout",
     "output_type": "stream",
     "text": [
      "\n",
      "current Matrix under procrustes within: 10/40\n"
     ]
    },
    {
     "data": {
      "application/vnd.jupyter.widget-view+json": {
       "model_id": "ad4dee6e743d482e8b6be433ca4902bf",
       "version_major": 2,
       "version_minor": 0
      },
      "text/plain": [
       "Procrustes within:   0%|          | 0/1000 [00:00<?, ?it/s]"
      ]
     },
     "metadata": {},
     "output_type": "display_data"
    },
    {
     "data": {
      "application/vnd.jupyter.widget-view+json": {
       "model_id": "cac14e27423b42449b733d651c0a8898",
       "version_major": 2,
       "version_minor": 0
      },
      "text/plain": [
       "derive estimated w:   0%|          | 0/7 [00:00<?, ?it/s]"
      ]
     },
     "metadata": {},
     "output_type": "display_data"
    },
    {
     "data": {
      "application/vnd.jupyter.widget-view+json": {
       "model_id": "f2f680e8ef324f69942612cf3cee9743",
       "version_major": 2,
       "version_minor": 0
      },
      "text/plain": [
       "derive estimated z:   0%|          | 0/20 [00:00<?, ?it/s]"
      ]
     },
     "metadata": {},
     "output_type": "display_data"
    },
    {
     "name": "stdout",
     "output_type": "stream",
     "text": [
      "\n",
      "current Matrix under procrustes within: 11/40\n"
     ]
    },
    {
     "data": {
      "application/vnd.jupyter.widget-view+json": {
       "model_id": "3e39f987e42542be9311427c19888724",
       "version_major": 2,
       "version_minor": 0
      },
      "text/plain": [
       "Procrustes within:   0%|          | 0/1000 [00:00<?, ?it/s]"
      ]
     },
     "metadata": {},
     "output_type": "display_data"
    },
    {
     "data": {
      "application/vnd.jupyter.widget-view+json": {
       "model_id": "97cb903c02d94dd8998ce1797c3e4bf2",
       "version_major": 2,
       "version_minor": 0
      },
      "text/plain": [
       "derive estimated w:   0%|          | 0/7 [00:00<?, ?it/s]"
      ]
     },
     "metadata": {},
     "output_type": "display_data"
    },
    {
     "data": {
      "application/vnd.jupyter.widget-view+json": {
       "model_id": "76186677c11d48709b463861e02c87d6",
       "version_major": 2,
       "version_minor": 0
      },
      "text/plain": [
       "derive estimated z:   0%|          | 0/20 [00:00<?, ?it/s]"
      ]
     },
     "metadata": {},
     "output_type": "display_data"
    },
    {
     "name": "stdout",
     "output_type": "stream",
     "text": [
      "\n",
      "current Matrix under procrustes within: 12/40\n"
     ]
    },
    {
     "data": {
      "application/vnd.jupyter.widget-view+json": {
       "model_id": "fe0efbf25d334d3f8ad32f74ba3d73b6",
       "version_major": 2,
       "version_minor": 0
      },
      "text/plain": [
       "Procrustes within:   0%|          | 0/1000 [00:00<?, ?it/s]"
      ]
     },
     "metadata": {},
     "output_type": "display_data"
    },
    {
     "data": {
      "application/vnd.jupyter.widget-view+json": {
       "model_id": "a7a04308432c49e9a63f5cc1bdf72f49",
       "version_major": 2,
       "version_minor": 0
      },
      "text/plain": [
       "derive estimated w:   0%|          | 0/7 [00:00<?, ?it/s]"
      ]
     },
     "metadata": {},
     "output_type": "display_data"
    },
    {
     "data": {
      "application/vnd.jupyter.widget-view+json": {
       "model_id": "1132c61e579b45849d2b0d3e735f5e22",
       "version_major": 2,
       "version_minor": 0
      },
      "text/plain": [
       "derive estimated z:   0%|          | 0/20 [00:00<?, ?it/s]"
      ]
     },
     "metadata": {},
     "output_type": "display_data"
    },
    {
     "name": "stdout",
     "output_type": "stream",
     "text": [
      "\n",
      "current Matrix under procrustes within: 13/40\n"
     ]
    },
    {
     "data": {
      "application/vnd.jupyter.widget-view+json": {
       "model_id": "b40e6e407722446c9188c103b3b7b297",
       "version_major": 2,
       "version_minor": 0
      },
      "text/plain": [
       "Procrustes within:   0%|          | 0/1000 [00:00<?, ?it/s]"
      ]
     },
     "metadata": {},
     "output_type": "display_data"
    },
    {
     "data": {
      "application/vnd.jupyter.widget-view+json": {
       "model_id": "d1447d78603f4544aac3b06d8280cb4a",
       "version_major": 2,
       "version_minor": 0
      },
      "text/plain": [
       "derive estimated w:   0%|          | 0/7 [00:00<?, ?it/s]"
      ]
     },
     "metadata": {},
     "output_type": "display_data"
    },
    {
     "data": {
      "application/vnd.jupyter.widget-view+json": {
       "model_id": "7485236dfc394311834350d1c99fe4d7",
       "version_major": 2,
       "version_minor": 0
      },
      "text/plain": [
       "derive estimated z:   0%|          | 0/20 [00:00<?, ?it/s]"
      ]
     },
     "metadata": {},
     "output_type": "display_data"
    },
    {
     "name": "stdout",
     "output_type": "stream",
     "text": [
      "\n",
      "current Matrix under procrustes within: 14/40\n"
     ]
    },
    {
     "data": {
      "application/vnd.jupyter.widget-view+json": {
       "model_id": "c3b75c63f7014974b371d493a5c50d5f",
       "version_major": 2,
       "version_minor": 0
      },
      "text/plain": [
       "Procrustes within:   0%|          | 0/1000 [00:00<?, ?it/s]"
      ]
     },
     "metadata": {},
     "output_type": "display_data"
    },
    {
     "data": {
      "application/vnd.jupyter.widget-view+json": {
       "model_id": "473aedd635c742ccbc2b105c0faa235d",
       "version_major": 2,
       "version_minor": 0
      },
      "text/plain": [
       "derive estimated w:   0%|          | 0/8 [00:00<?, ?it/s]"
      ]
     },
     "metadata": {},
     "output_type": "display_data"
    },
    {
     "data": {
      "application/vnd.jupyter.widget-view+json": {
       "model_id": "c481423b10df48f7a870c10b92c975d7",
       "version_major": 2,
       "version_minor": 0
      },
      "text/plain": [
       "derive estimated z:   0%|          | 0/20 [00:00<?, ?it/s]"
      ]
     },
     "metadata": {},
     "output_type": "display_data"
    },
    {
     "name": "stdout",
     "output_type": "stream",
     "text": [
      "\n",
      "current Matrix under procrustes within: 15/40\n"
     ]
    },
    {
     "data": {
      "application/vnd.jupyter.widget-view+json": {
       "model_id": "e73a7e566afe4174ab86e5f497221ead",
       "version_major": 2,
       "version_minor": 0
      },
      "text/plain": [
       "Procrustes within:   0%|          | 0/1000 [00:00<?, ?it/s]"
      ]
     },
     "metadata": {},
     "output_type": "display_data"
    },
    {
     "data": {
      "application/vnd.jupyter.widget-view+json": {
       "model_id": "b11e9c944f3c419ba376c77345e9ac15",
       "version_major": 2,
       "version_minor": 0
      },
      "text/plain": [
       "derive estimated w:   0%|          | 0/8 [00:00<?, ?it/s]"
      ]
     },
     "metadata": {},
     "output_type": "display_data"
    },
    {
     "data": {
      "application/vnd.jupyter.widget-view+json": {
       "model_id": "06c62adc70f24ec8b90abcfefa664fe2",
       "version_major": 2,
       "version_minor": 0
      },
      "text/plain": [
       "derive estimated z:   0%|          | 0/20 [00:00<?, ?it/s]"
      ]
     },
     "metadata": {},
     "output_type": "display_data"
    },
    {
     "name": "stdout",
     "output_type": "stream",
     "text": [
      "\n",
      "current Matrix under procrustes within: 16/40\n"
     ]
    },
    {
     "data": {
      "application/vnd.jupyter.widget-view+json": {
       "model_id": "c606c97e00664b498047a09e47a98f6a",
       "version_major": 2,
       "version_minor": 0
      },
      "text/plain": [
       "Procrustes within:   0%|          | 0/1000 [00:00<?, ?it/s]"
      ]
     },
     "metadata": {},
     "output_type": "display_data"
    },
    {
     "data": {
      "application/vnd.jupyter.widget-view+json": {
       "model_id": "f3ca01c37efe42d2b4d344247e8249f1",
       "version_major": 2,
       "version_minor": 0
      },
      "text/plain": [
       "derive estimated w:   0%|          | 0/8 [00:00<?, ?it/s]"
      ]
     },
     "metadata": {},
     "output_type": "display_data"
    },
    {
     "data": {
      "application/vnd.jupyter.widget-view+json": {
       "model_id": "d63062319dc44abba0add9d8f19affc1",
       "version_major": 2,
       "version_minor": 0
      },
      "text/plain": [
       "derive estimated z:   0%|          | 0/20 [00:00<?, ?it/s]"
      ]
     },
     "metadata": {},
     "output_type": "display_data"
    },
    {
     "name": "stdout",
     "output_type": "stream",
     "text": [
      "\n",
      "current Matrix under procrustes within: 17/40\n"
     ]
    },
    {
     "data": {
      "application/vnd.jupyter.widget-view+json": {
       "model_id": "2dd916cd8f69453e904097a549d29b7c",
       "version_major": 2,
       "version_minor": 0
      },
      "text/plain": [
       "Procrustes within:   0%|          | 0/1000 [00:00<?, ?it/s]"
      ]
     },
     "metadata": {},
     "output_type": "display_data"
    },
    {
     "data": {
      "application/vnd.jupyter.widget-view+json": {
       "model_id": "b474ded4c535435dac5af89eedffca48",
       "version_major": 2,
       "version_minor": 0
      },
      "text/plain": [
       "derive estimated w:   0%|          | 0/8 [00:00<?, ?it/s]"
      ]
     },
     "metadata": {},
     "output_type": "display_data"
    },
    {
     "data": {
      "application/vnd.jupyter.widget-view+json": {
       "model_id": "7cf47b62fe0949279ade362ddf3d116a",
       "version_major": 2,
       "version_minor": 0
      },
      "text/plain": [
       "derive estimated z:   0%|          | 0/20 [00:00<?, ?it/s]"
      ]
     },
     "metadata": {},
     "output_type": "display_data"
    },
    {
     "name": "stdout",
     "output_type": "stream",
     "text": [
      "\n",
      "current Matrix under procrustes within: 18/40\n"
     ]
    },
    {
     "data": {
      "application/vnd.jupyter.widget-view+json": {
       "model_id": "b7790127658449af9b0f4e61e9079960",
       "version_major": 2,
       "version_minor": 0
      },
      "text/plain": [
       "Procrustes within:   0%|          | 0/1000 [00:00<?, ?it/s]"
      ]
     },
     "metadata": {},
     "output_type": "display_data"
    },
    {
     "data": {
      "application/vnd.jupyter.widget-view+json": {
       "model_id": "8d28942492b2437cb5d3cca4b1be065f",
       "version_major": 2,
       "version_minor": 0
      },
      "text/plain": [
       "derive estimated w:   0%|          | 0/8 [00:00<?, ?it/s]"
      ]
     },
     "metadata": {},
     "output_type": "display_data"
    },
    {
     "data": {
      "application/vnd.jupyter.widget-view+json": {
       "model_id": "fc747543bfc8498998651af043418c7a",
       "version_major": 2,
       "version_minor": 0
      },
      "text/plain": [
       "derive estimated z:   0%|          | 0/20 [00:00<?, ?it/s]"
      ]
     },
     "metadata": {},
     "output_type": "display_data"
    },
    {
     "name": "stdout",
     "output_type": "stream",
     "text": [
      "\n",
      "current Matrix under procrustes within: 19/40\n"
     ]
    },
    {
     "data": {
      "application/vnd.jupyter.widget-view+json": {
       "model_id": "26e43b8afe744d8db10bbbcba243437e",
       "version_major": 2,
       "version_minor": 0
      },
      "text/plain": [
       "Procrustes within:   0%|          | 0/1000 [00:00<?, ?it/s]"
      ]
     },
     "metadata": {},
     "output_type": "display_data"
    },
    {
     "data": {
      "application/vnd.jupyter.widget-view+json": {
       "model_id": "194c98143de1446b84f158ab7e5a822e",
       "version_major": 2,
       "version_minor": 0
      },
      "text/plain": [
       "derive estimated w:   0%|          | 0/9 [00:00<?, ?it/s]"
      ]
     },
     "metadata": {},
     "output_type": "display_data"
    },
    {
     "data": {
      "application/vnd.jupyter.widget-view+json": {
       "model_id": "5a95aacbac5e454fba446928dfcc8ea9",
       "version_major": 2,
       "version_minor": 0
      },
      "text/plain": [
       "derive estimated z:   0%|          | 0/20 [00:00<?, ?it/s]"
      ]
     },
     "metadata": {},
     "output_type": "display_data"
    },
    {
     "name": "stdout",
     "output_type": "stream",
     "text": [
      "\n",
      "current Matrix under procrustes within: 20/40\n"
     ]
    },
    {
     "data": {
      "application/vnd.jupyter.widget-view+json": {
       "model_id": "f6c0f50e2ccd4fa795af07b93b00935a",
       "version_major": 2,
       "version_minor": 0
      },
      "text/plain": [
       "Procrustes within:   0%|          | 0/1000 [00:00<?, ?it/s]"
      ]
     },
     "metadata": {},
     "output_type": "display_data"
    },
    {
     "data": {
      "application/vnd.jupyter.widget-view+json": {
       "model_id": "99273759d9b441faa85e9084ab0ea847",
       "version_major": 2,
       "version_minor": 0
      },
      "text/plain": [
       "derive estimated w:   0%|          | 0/9 [00:00<?, ?it/s]"
      ]
     },
     "metadata": {},
     "output_type": "display_data"
    },
    {
     "data": {
      "application/vnd.jupyter.widget-view+json": {
       "model_id": "f932c144201b4e748921d311aeb0d7dd",
       "version_major": 2,
       "version_minor": 0
      },
      "text/plain": [
       "derive estimated z:   0%|          | 0/20 [00:00<?, ?it/s]"
      ]
     },
     "metadata": {},
     "output_type": "display_data"
    },
    {
     "name": "stdout",
     "output_type": "stream",
     "text": [
      "\n",
      "current Matrix under procrustes within: 21/40\n"
     ]
    },
    {
     "data": {
      "application/vnd.jupyter.widget-view+json": {
       "model_id": "831165f56e4243e6bee74535cca8e59b",
       "version_major": 2,
       "version_minor": 0
      },
      "text/plain": [
       "Procrustes within:   0%|          | 0/1000 [00:00<?, ?it/s]"
      ]
     },
     "metadata": {},
     "output_type": "display_data"
    },
    {
     "data": {
      "application/vnd.jupyter.widget-view+json": {
       "model_id": "5c1da6136236490b86846f2aaa674143",
       "version_major": 2,
       "version_minor": 0
      },
      "text/plain": [
       "derive estimated w:   0%|          | 0/9 [00:00<?, ?it/s]"
      ]
     },
     "metadata": {},
     "output_type": "display_data"
    },
    {
     "data": {
      "application/vnd.jupyter.widget-view+json": {
       "model_id": "5f023b43368e441380bfd9e09e432caf",
       "version_major": 2,
       "version_minor": 0
      },
      "text/plain": [
       "derive estimated z:   0%|          | 0/20 [00:00<?, ?it/s]"
      ]
     },
     "metadata": {},
     "output_type": "display_data"
    },
    {
     "name": "stdout",
     "output_type": "stream",
     "text": [
      "\n",
      "current Matrix under procrustes within: 22/40\n"
     ]
    },
    {
     "data": {
      "application/vnd.jupyter.widget-view+json": {
       "model_id": "4c16ab829d984826a1f47769dc3daf31",
       "version_major": 2,
       "version_minor": 0
      },
      "text/plain": [
       "Procrustes within:   0%|          | 0/1000 [00:00<?, ?it/s]"
      ]
     },
     "metadata": {},
     "output_type": "display_data"
    },
    {
     "data": {
      "application/vnd.jupyter.widget-view+json": {
       "model_id": "479a6dfd70a647f5b5949ccae09531c6",
       "version_major": 2,
       "version_minor": 0
      },
      "text/plain": [
       "derive estimated w:   0%|          | 0/9 [00:00<?, ?it/s]"
      ]
     },
     "metadata": {},
     "output_type": "display_data"
    },
    {
     "data": {
      "application/vnd.jupyter.widget-view+json": {
       "model_id": "bab3b64e46014a509c28fff5aae6a922",
       "version_major": 2,
       "version_minor": 0
      },
      "text/plain": [
       "derive estimated z:   0%|          | 0/20 [00:00<?, ?it/s]"
      ]
     },
     "metadata": {},
     "output_type": "display_data"
    },
    {
     "name": "stdout",
     "output_type": "stream",
     "text": [
      "\n",
      "current Matrix under procrustes within: 23/40\n"
     ]
    },
    {
     "data": {
      "application/vnd.jupyter.widget-view+json": {
       "model_id": "c6a89a81ccd2497e8cc13844e37e79eb",
       "version_major": 2,
       "version_minor": 0
      },
      "text/plain": [
       "Procrustes within:   0%|          | 0/1000 [00:00<?, ?it/s]"
      ]
     },
     "metadata": {},
     "output_type": "display_data"
    },
    {
     "data": {
      "application/vnd.jupyter.widget-view+json": {
       "model_id": "af626a2505614859b3424e7eb8d07e74",
       "version_major": 2,
       "version_minor": 0
      },
      "text/plain": [
       "derive estimated w:   0%|          | 0/9 [00:00<?, ?it/s]"
      ]
     },
     "metadata": {},
     "output_type": "display_data"
    },
    {
     "data": {
      "application/vnd.jupyter.widget-view+json": {
       "model_id": "16642fe1c338409e9d22bc11221192c2",
       "version_major": 2,
       "version_minor": 0
      },
      "text/plain": [
       "derive estimated z:   0%|          | 0/20 [00:00<?, ?it/s]"
      ]
     },
     "metadata": {},
     "output_type": "display_data"
    },
    {
     "name": "stdout",
     "output_type": "stream",
     "text": [
      "\n",
      "current Matrix under procrustes within: 24/40\n"
     ]
    },
    {
     "data": {
      "application/vnd.jupyter.widget-view+json": {
       "model_id": "ab35eb2c3c884d178d2a3622813e8e3c",
       "version_major": 2,
       "version_minor": 0
      },
      "text/plain": [
       "Procrustes within:   0%|          | 0/1000 [00:00<?, ?it/s]"
      ]
     },
     "metadata": {},
     "output_type": "display_data"
    },
    {
     "data": {
      "application/vnd.jupyter.widget-view+json": {
       "model_id": "8fc41459d22b4ac1bd1df5e86ce94cd4",
       "version_major": 2,
       "version_minor": 0
      },
      "text/plain": [
       "derive estimated w:   0%|          | 0/10 [00:00<?, ?it/s]"
      ]
     },
     "metadata": {},
     "output_type": "display_data"
    },
    {
     "data": {
      "application/vnd.jupyter.widget-view+json": {
       "model_id": "26e37cc14556479a8fb628d148727334",
       "version_major": 2,
       "version_minor": 0
      },
      "text/plain": [
       "derive estimated z:   0%|          | 0/20 [00:00<?, ?it/s]"
      ]
     },
     "metadata": {},
     "output_type": "display_data"
    },
    {
     "name": "stdout",
     "output_type": "stream",
     "text": [
      "\n",
      "current Matrix under procrustes within: 25/40\n"
     ]
    },
    {
     "data": {
      "application/vnd.jupyter.widget-view+json": {
       "model_id": "b4527c06c5254b308e6b1d208fb516b6",
       "version_major": 2,
       "version_minor": 0
      },
      "text/plain": [
       "Procrustes within:   0%|          | 0/1000 [00:00<?, ?it/s]"
      ]
     },
     "metadata": {},
     "output_type": "display_data"
    },
    {
     "data": {
      "application/vnd.jupyter.widget-view+json": {
       "model_id": "43e3aa205e2145d29f6eee91660fd1ab",
       "version_major": 2,
       "version_minor": 0
      },
      "text/plain": [
       "derive estimated w:   0%|          | 0/10 [00:00<?, ?it/s]"
      ]
     },
     "metadata": {},
     "output_type": "display_data"
    },
    {
     "data": {
      "application/vnd.jupyter.widget-view+json": {
       "model_id": "75569d2e6bcd4b288ffe3d4f8c7e87fe",
       "version_major": 2,
       "version_minor": 0
      },
      "text/plain": [
       "derive estimated z:   0%|          | 0/20 [00:00<?, ?it/s]"
      ]
     },
     "metadata": {},
     "output_type": "display_data"
    },
    {
     "name": "stdout",
     "output_type": "stream",
     "text": [
      "\n",
      "current Matrix under procrustes within: 26/40\n"
     ]
    },
    {
     "data": {
      "application/vnd.jupyter.widget-view+json": {
       "model_id": "021867bd9630494886dec1a4611a6c46",
       "version_major": 2,
       "version_minor": 0
      },
      "text/plain": [
       "Procrustes within:   0%|          | 0/1000 [00:00<?, ?it/s]"
      ]
     },
     "metadata": {},
     "output_type": "display_data"
    },
    {
     "data": {
      "application/vnd.jupyter.widget-view+json": {
       "model_id": "d60c7c799ff64303b93fbc5ff75195c7",
       "version_major": 2,
       "version_minor": 0
      },
      "text/plain": [
       "derive estimated w:   0%|          | 0/10 [00:00<?, ?it/s]"
      ]
     },
     "metadata": {},
     "output_type": "display_data"
    },
    {
     "data": {
      "application/vnd.jupyter.widget-view+json": {
       "model_id": "f48328aeaf2f49a6b3dcd60b9b6b5c3e",
       "version_major": 2,
       "version_minor": 0
      },
      "text/plain": [
       "derive estimated z:   0%|          | 0/20 [00:00<?, ?it/s]"
      ]
     },
     "metadata": {},
     "output_type": "display_data"
    },
    {
     "name": "stdout",
     "output_type": "stream",
     "text": [
      "\n",
      "current Matrix under procrustes within: 27/40\n"
     ]
    },
    {
     "data": {
      "application/vnd.jupyter.widget-view+json": {
       "model_id": "8f776074d9c146b58752c58b61f5665e",
       "version_major": 2,
       "version_minor": 0
      },
      "text/plain": [
       "Procrustes within:   0%|          | 0/1000 [00:00<?, ?it/s]"
      ]
     },
     "metadata": {},
     "output_type": "display_data"
    },
    {
     "data": {
      "application/vnd.jupyter.widget-view+json": {
       "model_id": "ca981eeea542443e92d45e34e4897c72",
       "version_major": 2,
       "version_minor": 0
      },
      "text/plain": [
       "derive estimated w:   0%|          | 0/10 [00:00<?, ?it/s]"
      ]
     },
     "metadata": {},
     "output_type": "display_data"
    },
    {
     "data": {
      "application/vnd.jupyter.widget-view+json": {
       "model_id": "2c709f97288345c5948be57fad907d26",
       "version_major": 2,
       "version_minor": 0
      },
      "text/plain": [
       "derive estimated z:   0%|          | 0/20 [00:00<?, ?it/s]"
      ]
     },
     "metadata": {},
     "output_type": "display_data"
    },
    {
     "name": "stdout",
     "output_type": "stream",
     "text": [
      "\n",
      "current Matrix under procrustes within: 28/40\n"
     ]
    },
    {
     "data": {
      "application/vnd.jupyter.widget-view+json": {
       "model_id": "595eb65c180749469bdb5f4d6009c152",
       "version_major": 2,
       "version_minor": 0
      },
      "text/plain": [
       "Procrustes within:   0%|          | 0/1000 [00:00<?, ?it/s]"
      ]
     },
     "metadata": {},
     "output_type": "display_data"
    },
    {
     "data": {
      "application/vnd.jupyter.widget-view+json": {
       "model_id": "04a5f657e6e04be0bd6f3289cd15289b",
       "version_major": 2,
       "version_minor": 0
      },
      "text/plain": [
       "derive estimated w:   0%|          | 0/10 [00:00<?, ?it/s]"
      ]
     },
     "metadata": {},
     "output_type": "display_data"
    },
    {
     "data": {
      "application/vnd.jupyter.widget-view+json": {
       "model_id": "2a6d53fe882d49c087c9ec21b206950d",
       "version_major": 2,
       "version_minor": 0
      },
      "text/plain": [
       "derive estimated z:   0%|          | 0/20 [00:00<?, ?it/s]"
      ]
     },
     "metadata": {},
     "output_type": "display_data"
    },
    {
     "name": "stdout",
     "output_type": "stream",
     "text": [
      "\n",
      "current Matrix under procrustes within: 29/40\n"
     ]
    },
    {
     "data": {
      "application/vnd.jupyter.widget-view+json": {
       "model_id": "068c1bb04fd24f46a92d5c220ea28f35",
       "version_major": 2,
       "version_minor": 0
      },
      "text/plain": [
       "Procrustes within:   0%|          | 0/1000 [00:00<?, ?it/s]"
      ]
     },
     "metadata": {},
     "output_type": "display_data"
    },
    {
     "data": {
      "application/vnd.jupyter.widget-view+json": {
       "model_id": "8302a6cdc8d1484b817d653889bec899",
       "version_major": 2,
       "version_minor": 0
      },
      "text/plain": [
       "derive estimated w:   0%|          | 0/11 [00:00<?, ?it/s]"
      ]
     },
     "metadata": {},
     "output_type": "display_data"
    },
    {
     "data": {
      "application/vnd.jupyter.widget-view+json": {
       "model_id": "20c5daad16074f3e94b69eae4a3c2afa",
       "version_major": 2,
       "version_minor": 0
      },
      "text/plain": [
       "derive estimated z:   0%|          | 0/20 [00:00<?, ?it/s]"
      ]
     },
     "metadata": {},
     "output_type": "display_data"
    },
    {
     "name": "stdout",
     "output_type": "stream",
     "text": [
      "\n",
      "current Matrix under procrustes within: 30/40\n"
     ]
    },
    {
     "data": {
      "application/vnd.jupyter.widget-view+json": {
       "model_id": "c2217797d19d44d7b850243831b22ae4",
       "version_major": 2,
       "version_minor": 0
      },
      "text/plain": [
       "Procrustes within:   0%|          | 0/1000 [00:00<?, ?it/s]"
      ]
     },
     "metadata": {},
     "output_type": "display_data"
    },
    {
     "data": {
      "application/vnd.jupyter.widget-view+json": {
       "model_id": "5f973e9852e44e5f882eb8b84c8e4b2e",
       "version_major": 2,
       "version_minor": 0
      },
      "text/plain": [
       "derive estimated w:   0%|          | 0/11 [00:00<?, ?it/s]"
      ]
     },
     "metadata": {},
     "output_type": "display_data"
    },
    {
     "data": {
      "application/vnd.jupyter.widget-view+json": {
       "model_id": "0c9cce29f0d64915a336ea8e3c3bc57d",
       "version_major": 2,
       "version_minor": 0
      },
      "text/plain": [
       "derive estimated z:   0%|          | 0/20 [00:00<?, ?it/s]"
      ]
     },
     "metadata": {},
     "output_type": "display_data"
    },
    {
     "name": "stdout",
     "output_type": "stream",
     "text": [
      "\n",
      "current Matrix under procrustes within: 31/40\n"
     ]
    },
    {
     "data": {
      "application/vnd.jupyter.widget-view+json": {
       "model_id": "399e90f083c44bbc8439c496104364ad",
       "version_major": 2,
       "version_minor": 0
      },
      "text/plain": [
       "Procrustes within:   0%|          | 0/1000 [00:00<?, ?it/s]"
      ]
     },
     "metadata": {},
     "output_type": "display_data"
    },
    {
     "data": {
      "application/vnd.jupyter.widget-view+json": {
       "model_id": "0afa4f5369cc4e539a6530da16e364b0",
       "version_major": 2,
       "version_minor": 0
      },
      "text/plain": [
       "derive estimated w:   0%|          | 0/11 [00:00<?, ?it/s]"
      ]
     },
     "metadata": {},
     "output_type": "display_data"
    },
    {
     "data": {
      "application/vnd.jupyter.widget-view+json": {
       "model_id": "2de488bbeabd49339653a566b6233f6c",
       "version_major": 2,
       "version_minor": 0
      },
      "text/plain": [
       "derive estimated z:   0%|          | 0/20 [00:00<?, ?it/s]"
      ]
     },
     "metadata": {},
     "output_type": "display_data"
    },
    {
     "name": "stdout",
     "output_type": "stream",
     "text": [
      "\n",
      "current Matrix under procrustes within: 32/40\n"
     ]
    },
    {
     "data": {
      "application/vnd.jupyter.widget-view+json": {
       "model_id": "bcffef5bcfa34efb978bd0d13561293f",
       "version_major": 2,
       "version_minor": 0
      },
      "text/plain": [
       "Procrustes within:   0%|          | 0/1000 [00:00<?, ?it/s]"
      ]
     },
     "metadata": {},
     "output_type": "display_data"
    },
    {
     "data": {
      "application/vnd.jupyter.widget-view+json": {
       "model_id": "6bf04053246c4371aa9407dce0b8055a",
       "version_major": 2,
       "version_minor": 0
      },
      "text/plain": [
       "derive estimated w:   0%|          | 0/11 [00:00<?, ?it/s]"
      ]
     },
     "metadata": {},
     "output_type": "display_data"
    },
    {
     "data": {
      "application/vnd.jupyter.widget-view+json": {
       "model_id": "2953d96ef8f945b5bdc03500855b993f",
       "version_major": 2,
       "version_minor": 0
      },
      "text/plain": [
       "derive estimated z:   0%|          | 0/20 [00:00<?, ?it/s]"
      ]
     },
     "metadata": {},
     "output_type": "display_data"
    },
    {
     "name": "stdout",
     "output_type": "stream",
     "text": [
      "\n",
      "current Matrix under procrustes within: 33/40\n"
     ]
    },
    {
     "data": {
      "application/vnd.jupyter.widget-view+json": {
       "model_id": "0697be537f7b40c3819663e2f944f647",
       "version_major": 2,
       "version_minor": 0
      },
      "text/plain": [
       "Procrustes within:   0%|          | 0/1000 [00:00<?, ?it/s]"
      ]
     },
     "metadata": {},
     "output_type": "display_data"
    },
    {
     "data": {
      "application/vnd.jupyter.widget-view+json": {
       "model_id": "93ed880b081049eeab15eb716d0ca8e0",
       "version_major": 2,
       "version_minor": 0
      },
      "text/plain": [
       "derive estimated w:   0%|          | 0/11 [00:00<?, ?it/s]"
      ]
     },
     "metadata": {},
     "output_type": "display_data"
    },
    {
     "data": {
      "application/vnd.jupyter.widget-view+json": {
       "model_id": "b91f20d511a7435b86a2cd742869ca31",
       "version_major": 2,
       "version_minor": 0
      },
      "text/plain": [
       "derive estimated z:   0%|          | 0/20 [00:00<?, ?it/s]"
      ]
     },
     "metadata": {},
     "output_type": "display_data"
    },
    {
     "name": "stdout",
     "output_type": "stream",
     "text": [
      "\n",
      "current Matrix under procrustes within: 34/40\n"
     ]
    },
    {
     "data": {
      "application/vnd.jupyter.widget-view+json": {
       "model_id": "b941241ababd4101a01373183f8f1c38",
       "version_major": 2,
       "version_minor": 0
      },
      "text/plain": [
       "Procrustes within:   0%|          | 0/1000 [00:00<?, ?it/s]"
      ]
     },
     "metadata": {},
     "output_type": "display_data"
    },
    {
     "data": {
      "application/vnd.jupyter.widget-view+json": {
       "model_id": "c295290321d743bd8dbd208856e6449b",
       "version_major": 2,
       "version_minor": 0
      },
      "text/plain": [
       "derive estimated w:   0%|          | 0/11 [00:00<?, ?it/s]"
      ]
     },
     "metadata": {},
     "output_type": "display_data"
    },
    {
     "data": {
      "application/vnd.jupyter.widget-view+json": {
       "model_id": "5e858a6218f3414db8ea28b8706a51a8",
       "version_major": 2,
       "version_minor": 0
      },
      "text/plain": [
       "derive estimated z:   0%|          | 0/20 [00:00<?, ?it/s]"
      ]
     },
     "metadata": {},
     "output_type": "display_data"
    },
    {
     "name": "stdout",
     "output_type": "stream",
     "text": [
      "\n",
      "current Matrix under procrustes within: 35/40\n"
     ]
    },
    {
     "data": {
      "application/vnd.jupyter.widget-view+json": {
       "model_id": "2f9e860405dc40fa9d4219a869c1565f",
       "version_major": 2,
       "version_minor": 0
      },
      "text/plain": [
       "Procrustes within:   0%|          | 0/1000 [00:00<?, ?it/s]"
      ]
     },
     "metadata": {},
     "output_type": "display_data"
    },
    {
     "data": {
      "application/vnd.jupyter.widget-view+json": {
       "model_id": "32037f1db3fb4355aaf53ba4cd42878a",
       "version_major": 2,
       "version_minor": 0
      },
      "text/plain": [
       "derive estimated w:   0%|          | 0/12 [00:00<?, ?it/s]"
      ]
     },
     "metadata": {},
     "output_type": "display_data"
    },
    {
     "data": {
      "application/vnd.jupyter.widget-view+json": {
       "model_id": "0462947ef5244988a573b09f77963a7a",
       "version_major": 2,
       "version_minor": 0
      },
      "text/plain": [
       "derive estimated z:   0%|          | 0/20 [00:00<?, ?it/s]"
      ]
     },
     "metadata": {},
     "output_type": "display_data"
    },
    {
     "name": "stdout",
     "output_type": "stream",
     "text": [
      "\n",
      "current Matrix under procrustes within: 36/40\n"
     ]
    },
    {
     "data": {
      "application/vnd.jupyter.widget-view+json": {
       "model_id": "ea301dcc71d4431fa5a00427b3c316a6",
       "version_major": 2,
       "version_minor": 0
      },
      "text/plain": [
       "Procrustes within:   0%|          | 0/1000 [00:00<?, ?it/s]"
      ]
     },
     "metadata": {},
     "output_type": "display_data"
    },
    {
     "data": {
      "application/vnd.jupyter.widget-view+json": {
       "model_id": "d9144ac072a14c438d4d0404eafe9472",
       "version_major": 2,
       "version_minor": 0
      },
      "text/plain": [
       "derive estimated w:   0%|          | 0/12 [00:00<?, ?it/s]"
      ]
     },
     "metadata": {},
     "output_type": "display_data"
    },
    {
     "data": {
      "application/vnd.jupyter.widget-view+json": {
       "model_id": "c414442b779e49f4a1607ec6301c6765",
       "version_major": 2,
       "version_minor": 0
      },
      "text/plain": [
       "derive estimated z:   0%|          | 0/20 [00:00<?, ?it/s]"
      ]
     },
     "metadata": {},
     "output_type": "display_data"
    },
    {
     "name": "stdout",
     "output_type": "stream",
     "text": [
      "\n",
      "current Matrix under procrustes within: 37/40\n"
     ]
    },
    {
     "data": {
      "application/vnd.jupyter.widget-view+json": {
       "model_id": "fe0d11015af849d6bf5d45af69cad69a",
       "version_major": 2,
       "version_minor": 0
      },
      "text/plain": [
       "Procrustes within:   0%|          | 0/1000 [00:00<?, ?it/s]"
      ]
     },
     "metadata": {},
     "output_type": "display_data"
    },
    {
     "data": {
      "application/vnd.jupyter.widget-view+json": {
       "model_id": "be0a752b24e949569aabfaf4d388152f",
       "version_major": 2,
       "version_minor": 0
      },
      "text/plain": [
       "derive estimated w:   0%|          | 0/12 [00:00<?, ?it/s]"
      ]
     },
     "metadata": {},
     "output_type": "display_data"
    },
    {
     "data": {
      "application/vnd.jupyter.widget-view+json": {
       "model_id": "64083724ef71404082708f987ec03c66",
       "version_major": 2,
       "version_minor": 0
      },
      "text/plain": [
       "derive estimated z:   0%|          | 0/20 [00:00<?, ?it/s]"
      ]
     },
     "metadata": {},
     "output_type": "display_data"
    },
    {
     "name": "stdout",
     "output_type": "stream",
     "text": [
      "\n",
      "current Matrix under procrustes within: 38/40\n"
     ]
    },
    {
     "data": {
      "application/vnd.jupyter.widget-view+json": {
       "model_id": "de3ad1fd9f7a4a17a6e440af14520448",
       "version_major": 2,
       "version_minor": 0
      },
      "text/plain": [
       "Procrustes within:   0%|          | 0/1000 [00:00<?, ?it/s]"
      ]
     },
     "metadata": {},
     "output_type": "display_data"
    },
    {
     "data": {
      "application/vnd.jupyter.widget-view+json": {
       "model_id": "28a2a394e0d3456f8739a21ba2209ef5",
       "version_major": 2,
       "version_minor": 0
      },
      "text/plain": [
       "derive estimated w:   0%|          | 0/12 [00:00<?, ?it/s]"
      ]
     },
     "metadata": {},
     "output_type": "display_data"
    },
    {
     "data": {
      "application/vnd.jupyter.widget-view+json": {
       "model_id": "6752eac2e56d40d8b069b0890a9d22d9",
       "version_major": 2,
       "version_minor": 0
      },
      "text/plain": [
       "derive estimated z:   0%|          | 0/20 [00:00<?, ?it/s]"
      ]
     },
     "metadata": {},
     "output_type": "display_data"
    },
    {
     "name": "stdout",
     "output_type": "stream",
     "text": [
      "\n",
      "current Matrix under procrustes within: 39/40\n"
     ]
    },
    {
     "data": {
      "application/vnd.jupyter.widget-view+json": {
       "model_id": "5e8c43a82a0c4e538588ba2a2dbee97f",
       "version_major": 2,
       "version_minor": 0
      },
      "text/plain": [
       "Procrustes within:   0%|          | 0/1000 [00:00<?, ?it/s]"
      ]
     },
     "metadata": {},
     "output_type": "display_data"
    },
    {
     "data": {
      "application/vnd.jupyter.widget-view+json": {
       "model_id": "9a28e761cbb948c2aed4c1afb2738b80",
       "version_major": 2,
       "version_minor": 0
      },
      "text/plain": [
       "derive estimated w:   0%|          | 0/12 [00:00<?, ?it/s]"
      ]
     },
     "metadata": {},
     "output_type": "display_data"
    },
    {
     "data": {
      "application/vnd.jupyter.widget-view+json": {
       "model_id": "78e6b4f36ab54a8daa0b3a629bf616a4",
       "version_major": 2,
       "version_minor": 0
      },
      "text/plain": [
       "derive estimated z:   0%|          | 0/20 [00:00<?, ?it/s]"
      ]
     },
     "metadata": {},
     "output_type": "display_data"
    },
    {
     "name": "stdout",
     "output_type": "stream",
     "text": [
      "\n",
      "current Matrix under procrustes within: 40/40\n"
     ]
    },
    {
     "data": {
      "application/vnd.jupyter.widget-view+json": {
       "model_id": "7f849236ca674e409ef4381273c68cfd",
       "version_major": 2,
       "version_minor": 0
      },
      "text/plain": [
       "Procrustes within:   0%|          | 0/1000 [00:00<?, ?it/s]"
      ]
     },
     "metadata": {},
     "output_type": "display_data"
    },
    {
     "data": {
      "application/vnd.jupyter.widget-view+json": {
       "model_id": "5a44eef0e790431184b4a57f09c7fd26",
       "version_major": 2,
       "version_minor": 0
      },
      "text/plain": [
       "derive estimated w:   0%|          | 0/13 [00:00<?, ?it/s]"
      ]
     },
     "metadata": {},
     "output_type": "display_data"
    },
    {
     "data": {
      "application/vnd.jupyter.widget-view+json": {
       "model_id": "e6cbd3ff9e1649deb0b3b48b55ae9615",
       "version_major": 2,
       "version_minor": 0
      },
      "text/plain": [
       "derive estimated z:   0%|          | 0/20 [00:00<?, ?it/s]"
      ]
     },
     "metadata": {},
     "output_type": "display_data"
    }
   ],
   "source": [
    "temp_proc2_zs = tcv._proc2(niter = niter2, \n",
    "                            nburn = nburn2, \n",
    "                            nthin = nthin2, \n",
    "                            ndim = ndim2, \n",
    "                            outputs = lsirm)\n"
   ]
  },
  {
   "cell_type": "code",
   "execution_count": 38,
   "id": "5ff909ef-98b2-4759-a21b-c8e8087166fe",
   "metadata": {},
   "outputs": [],
   "source": [
    "oblimin_proc2_zs = tcv._oblimin(proc2s = temp_proc2_zs[\"proc2_zs\"])\n",
    "\n",
    "tcv.iamax = temp_proc2_zs[\"iamax\"]\n",
    "tcv.amax = temp_proc2_zs[\"amax_data\"][\"z_estimate\"]\n",
    "tcv.amax_data = temp_proc2_zs[\"amax_data\"]\n",
    "tcv.oblimin_proc2_zs = oblimin_proc2_zs\n",
    "\n",
    "tcv.percentile_range = percentage_range\n"
   ]
  },
  {
   "cell_type": "code",
   "execution_count": 97,
   "id": "79c736b9-df5e-4ee6-8e42-77472827dc3e",
   "metadata": {},
   "outputs": [],
   "source": [
    "tcv.data_topics = tcv.most_words_per_topic(temp_proc2_zs[\"amax_data\"])"
   ]
  },
  {
   "cell_type": "code",
   "execution_count": 118,
   "id": "b93d8536-1fad-4ceb-acb9-d856322a426b",
   "metadata": {},
   "outputs": [
    {
     "data": {
      "text/plain": [
       "array(['organiz', 'feedback', 'knowledg', 'sme', 'design', 'devop',\n",
       "       'inform', 'train', 'technolog', 'system'], dtype=object)"
      ]
     },
     "execution_count": 118,
     "metadata": {},
     "output_type": "execute_result"
    }
   ],
   "source": [
    "temp_proc2_zs[\"amax_data\"][\"words\"]"
   ]
  },
  {
   "cell_type": "code",
   "execution_count": 111,
   "id": "467dfdb8-d390-4f73-8ffd-b0e7130bcd60",
   "metadata": {},
   "outputs": [
    {
     "name": "stdout",
     "output_type": "stream",
     "text": [
      "{'technolog', 'system', 'organiz', 'devop', 'train', 'feedback', 'knowledg', 'sme', 'design', 'inform'}\n"
     ]
    }
   ],
   "source": [
    "print(fact)"
   ]
  },
  {
   "cell_type": "code",
   "execution_count": 112,
   "id": "14d7bf77-aceb-498a-bedd-171f2c61fa7d",
   "metadata": {},
   "outputs": [
    {
     "data": {
      "text/plain": [
       "[array(['technolog', 'system', 'train', 'devop', 'knowledg', 'design',\n",
       "        'inform', 'organiz', 'feedback', 'sme'], dtype=object),\n",
       " array(['technolog', 'system', 'train', 'design', 'knowledg', 'devop',\n",
       "        'inform', 'organiz', 'feedback', 'sme'], dtype=object),\n",
       " array(['devop', 'technolog', 'inform', 'organiz', 'system', 'train',\n",
       "        'knowledg', 'design', 'feedback', 'sme'], dtype=object),\n",
       " array(['sme', 'feedback', 'organiz', 'design', 'knowledg', 'train',\n",
       "        'system', 'inform', 'devop', 'technolog'], dtype=object),\n",
       " array(['technolog', 'system', 'devop', 'train', 'knowledg', 'design',\n",
       "        'inform', 'organiz', 'feedback', 'sme'], dtype=object),\n",
       " array(['sme', 'feedback', 'organiz', 'design', 'knowledg', 'inform',\n",
       "        'train', 'system', 'devop', 'technolog'], dtype=object),\n",
       " array(['devop', 'technolog', 'inform', 'system', 'train', 'knowledg',\n",
       "        'organiz', 'design', 'feedback', 'sme'], dtype=object),\n",
       " array(['sme', 'feedback', 'organiz', 'inform', 'devop', 'knowledg',\n",
       "        'design', 'train', 'system', 'technolog'], dtype=object),\n",
       " array(['technolog', 'devop', 'inform', 'system', 'train', 'knowledg',\n",
       "        'design', 'organiz', 'feedback', 'sme'], dtype=object),\n",
       " array(['technolog', 'system', 'train', 'devop', 'knowledg', 'design',\n",
       "        'inform', 'organiz', 'feedback', 'sme'], dtype=object),\n",
       " array(['devop', 'inform', 'technolog', 'organiz', 'knowledg', 'train',\n",
       "        'system', 'feedback', 'design', 'sme'], dtype=object),\n",
       " array(['sme', 'feedback', 'organiz', 'design', 'knowledg', 'inform',\n",
       "        'train', 'system', 'devop', 'technolog'], dtype=object),\n",
       " array(['sme', 'feedback', 'design', 'knowledg', 'train', 'organiz',\n",
       "        'system', 'inform', 'technolog', 'devop'], dtype=object),\n",
       " array(['sme', 'feedback', 'design', 'organiz', 'knowledg', 'train',\n",
       "        'system', 'inform', 'technolog', 'devop'], dtype=object),\n",
       " array(['sme', 'feedback', 'design', 'knowledg', 'train', 'organiz',\n",
       "        'system', 'inform', 'technolog', 'devop'], dtype=object),\n",
       " array(['technolog', 'system', 'train', 'devop', 'knowledg', 'design',\n",
       "        'inform', 'organiz', 'feedback', 'sme'], dtype=object),\n",
       " array(['technolog', 'system', 'train', 'devop', 'knowledg', 'design',\n",
       "        'inform', 'organiz', 'feedback', 'sme'], dtype=object),\n",
       " array(['sme', 'feedback', 'design', 'organiz', 'knowledg', 'train',\n",
       "        'system', 'inform', 'devop', 'technolog'], dtype=object),\n",
       " array(['devop', 'technolog', 'inform', 'organiz', 'system', 'train',\n",
       "        'knowledg', 'design', 'feedback', 'sme'], dtype=object),\n",
       " array(['technolog', 'system', 'train', 'design', 'knowledg', 'devop',\n",
       "        'inform', 'organiz', 'feedback', 'sme'], dtype=object)]"
      ]
     },
     "execution_count": 112,
     "metadata": {},
     "output_type": "execute_result"
    }
   ],
   "source": [
    "tcv.data_topics"
   ]
  },
  {
   "cell_type": "code",
   "execution_count": 30,
   "id": "7264f828-56cc-4e22-9f83-e4b88109a8ed",
   "metadata": {},
   "outputs": [],
   "source": [
    "# tcv.fit(niter1 = 3,\n",
    "#         num_topics1 = 20,\n",
    "#         alpha1 = 3,\n",
    "#         beta1 = 0.01,\n",
    "        \n",
    "#         num_percentage2 = 21,\n",
    "        \n",
    "#         ndim2 = 2, niter2 = 100, nburn2 = 0, nthin2 = 5,\n",
    "#         nprint2 = 0,\n",
    "        \n",
    "#         jump_beta2 = 0.28,\n",
    "#         jump_theta2 = 1.0,\n",
    "#         jump_gamma2 = 0.01,\n",
    "#         jump_z2 = 0.06,\n",
    "#         jump_w2 = 0.06,\n",
    "#         pr_mean_beta2 = 0,\n",
    "#         pr_sd_beta2 = 1,\n",
    "#         pr_a_th_sigma2 = 0.001,\n",
    "#         pr_b_th_sigma2 = 0.001,\n",
    "#         pr_mean_theta2 = 0,\n",
    "#         pr_a_sigma2 = 0.001,\n",
    "#         pr_b_sigma2 = 0.001,\n",
    "#         pr_mean_gamma2 = 1.0,\n",
    "#         pr_sd_gamma2 = 1.0,\n",
    "        \n",
    "#         missing2 = 99)"
   ]
  },
  {
   "cell_type": "code",
   "execution_count": 39,
   "id": "a6172720-844e-4459-921c-91ce3703c989",
   "metadata": {},
   "outputs": [],
   "source": [
    "plt = Plots()"
   ]
  },
  {
   "cell_type": "code",
   "execution_count": 40,
   "id": "efa666f3-0ebe-4dcf-8196-d20e62f22eaf",
   "metadata": {},
   "outputs": [],
   "source": [
    "savefile = tcv.oblimin_proc2_zs[:]"
   ]
  },
  {
   "cell_type": "code",
   "execution_count": 86,
   "id": "67c63dd7-8013-4ce1-baf3-975d93d7b33f",
   "metadata": {},
   "outputs": [],
   "source": [
    "import matplotlib"
   ]
  },
  {
   "cell_type": "code",
   "execution_count": null,
   "id": "f6b21a2d-98b6-4169-a60c-54eb2751df9a",
   "metadata": {},
   "outputs": [],
   "source": [
    "tcv.oblimin_proc2_zs"
   ]
  },
  {
   "cell_type": "code",
   "execution_count": null,
   "id": "d7bc636b-02c3-402a-9e0e-540f647330db",
   "metadata": {},
   "outputs": [],
   "source": [
    "matplotlib.pyplot.arrow"
   ]
  },
  {
   "cell_type": "code",
   "execution_count": 87,
   "id": "90c12214-e0b9-4a8a-a940-7971a9714f86",
   "metadata": {},
   "outputs": [
    {
     "data": {
      "text/html": [
       "<div>\n",
       "<style scoped>\n",
       "    .dataframe tbody tr th:only-of-type {\n",
       "        vertical-align: middle;\n",
       "    }\n",
       "\n",
       "    .dataframe tbody tr th {\n",
       "        vertical-align: top;\n",
       "    }\n",
       "\n",
       "    .dataframe thead th {\n",
       "        text-align: right;\n",
       "    }\n",
       "</style>\n",
       "<table border=\"1\" class=\"dataframe\">\n",
       "  <thead>\n",
       "    <tr style=\"text-align: right;\">\n",
       "      <th></th>\n",
       "      <th>x</th>\n",
       "      <th>y</th>\n",
       "      <th>num</th>\n",
       "      <th>txt</th>\n",
       "    </tr>\n",
       "  </thead>\n",
       "  <tbody>\n",
       "    <tr>\n",
       "      <th>0</th>\n",
       "      <td>0.063584</td>\n",
       "      <td>-0.197912</td>\n",
       "      <td>0</td>\n",
       "      <td>30</td>\n",
       "    </tr>\n",
       "    <tr>\n",
       "      <th>1</th>\n",
       "      <td>0.037255</td>\n",
       "      <td>-0.192338</td>\n",
       "      <td>1</td>\n",
       "      <td>30</td>\n",
       "    </tr>\n",
       "    <tr>\n",
       "      <th>2</th>\n",
       "      <td>-0.373491</td>\n",
       "      <td>0.398211</td>\n",
       "      <td>2</td>\n",
       "      <td>30</td>\n",
       "    </tr>\n",
       "    <tr>\n",
       "      <th>3</th>\n",
       "      <td>0.149929</td>\n",
       "      <td>0.867440</td>\n",
       "      <td>3</td>\n",
       "      <td>30</td>\n",
       "    </tr>\n",
       "    <tr>\n",
       "      <th>4</th>\n",
       "      <td>0.148483</td>\n",
       "      <td>0.512956</td>\n",
       "      <td>4</td>\n",
       "      <td>30</td>\n",
       "    </tr>\n",
       "    <tr>\n",
       "      <th>...</th>\n",
       "      <td>...</td>\n",
       "      <td>...</td>\n",
       "      <td>...</td>\n",
       "      <td>...</td>\n",
       "    </tr>\n",
       "    <tr>\n",
       "      <th>795</th>\n",
       "      <td>-0.824457</td>\n",
       "      <td>-0.070278</td>\n",
       "      <td>15</td>\n",
       "      <td>69</td>\n",
       "    </tr>\n",
       "    <tr>\n",
       "      <th>796</th>\n",
       "      <td>0.192970</td>\n",
       "      <td>-0.256935</td>\n",
       "      <td>16</td>\n",
       "      <td>69</td>\n",
       "    </tr>\n",
       "    <tr>\n",
       "      <th>797</th>\n",
       "      <td>-0.115690</td>\n",
       "      <td>-0.332978</td>\n",
       "      <td>17</td>\n",
       "      <td>69</td>\n",
       "    </tr>\n",
       "    <tr>\n",
       "      <th>798</th>\n",
       "      <td>-0.412735</td>\n",
       "      <td>0.518932</td>\n",
       "      <td>18</td>\n",
       "      <td>69</td>\n",
       "    </tr>\n",
       "    <tr>\n",
       "      <th>799</th>\n",
       "      <td>0.320494</td>\n",
       "      <td>-0.082375</td>\n",
       "      <td>19</td>\n",
       "      <td>69</td>\n",
       "    </tr>\n",
       "  </tbody>\n",
       "</table>\n",
       "<p>800 rows × 4 columns</p>\n",
       "</div>"
      ],
      "text/plain": [
       "            x         y num  txt\n",
       "0    0.063584 -0.197912   0   30\n",
       "1    0.037255 -0.192338   1   30\n",
       "2   -0.373491  0.398211   2   30\n",
       "3    0.149929  0.867440   3   30\n",
       "4    0.148483  0.512956   4   30\n",
       "..        ...       ...  ..  ...\n",
       "795 -0.824457 -0.070278  15   69\n",
       "796  0.192970 -0.256935  16   69\n",
       "797 -0.115690 -0.332978  17   69\n",
       "798 -0.412735  0.518932  18   69\n",
       "799  0.320494 -0.082375  19   69\n",
       "\n",
       "[800 rows x 4 columns]"
      ]
     },
     "execution_count": 87,
     "metadata": {},
     "output_type": "execute_result"
    }
   ],
   "source": [
    "temp"
   ]
  },
  {
   "cell_type": "code",
   "execution_count": 92,
   "id": "ea024c3a-6f67-4843-a704-9f1a4e37bc84",
   "metadata": {},
   "outputs": [],
   "source": [
    "usage = []\n",
    "for i in [51-30, 55-30, 59-30, 63-30]:\n",
    "    usage.append(tcv.oblimin_proc2_zs[i])\n",
    "\n"
   ]
  },
  {
   "cell_type": "code",
   "execution_count": 94,
   "id": "608cb9f2-8027-46a4-9f1d-5423c18dbfa0",
   "metadata": {},
   "outputs": [
    {
     "data": {
      "application/vnd.plotly.v1+json": {
       "config": {
        "plotlyServerURL": "https://plot.ly"
       },
       "data": [
        {
         "hovertemplate": "num=0<br>x=%{x}<br>y=%{y}<br>txt=%{text}<extra></extra>",
         "legendgroup": "0",
         "marker": {
          "color": "#636efa",
          "symbol": "circle"
         },
         "mode": "markers+text",
         "name": "0",
         "orientation": "v",
         "showlegend": true,
         "text": [
          47,
          51,
          55,
          59
         ],
         "textposition": "bottom right",
         "type": "scatter",
         "visible": "legendonly",
         "x": [
          0.3046883609382216,
          0.08330917727819395,
          0.006535964398935071,
          -0.13758996371823734
         ],
         "xaxis": "x",
         "y": [
          -0.3412716755587483,
          -0.221404711890787,
          0.14561130779432102,
          0.23612806961568739
         ],
         "yaxis": "y"
        },
        {
         "hovertemplate": "num=1<br>x=%{x}<br>y=%{y}<br>txt=%{text}<extra></extra>",
         "legendgroup": "1",
         "marker": {
          "color": "#EF553B",
          "symbol": "circle"
         },
         "mode": "markers+text",
         "name": "1",
         "orientation": "v",
         "showlegend": true,
         "text": [
          47,
          51,
          55,
          59
         ],
         "textposition": "bottom right",
         "type": "scatter",
         "visible": "legendonly",
         "x": [
          0.6430483593009981,
          -0.08261991220543655,
          -0.39810353581653735,
          -0.4223809917876806
         ],
         "xaxis": "x",
         "y": [
          -0.41761656981190376,
          0.22419300297910766,
          -0.17135323605591107,
          0.3501941304520397
         ],
         "yaxis": "y"
        },
        {
         "hovertemplate": "num=2<br>x=%{x}<br>y=%{y}<br>txt=%{text}<extra></extra>",
         "legendgroup": "2",
         "marker": {
          "color": "#00cc96",
          "symbol": "circle"
         },
         "mode": "markers+text",
         "name": "2",
         "orientation": "v",
         "showlegend": true,
         "text": [
          47,
          51,
          55,
          59
         ],
         "textposition": "bottom right",
         "type": "scatter",
         "visible": "legendonly",
         "x": [
          -0.24283402458266362,
          -0.04586450440757557,
          -0.4025015718631274,
          -0.5723313571446269
         ],
         "xaxis": "x",
         "y": [
          0.24880955301009666,
          0.08016586484400277,
          0.20068694741182405,
          -0.09280509232208595
         ],
         "yaxis": "y"
        },
        {
         "hovertemplate": "num=3<br>x=%{x}<br>y=%{y}<br>txt=%{text}<extra></extra>",
         "legendgroup": "3",
         "marker": {
          "color": "#ab63fa",
          "symbol": "circle"
         },
         "mode": "markers+text",
         "name": "3",
         "orientation": "v",
         "showlegend": true,
         "text": [
          47,
          51,
          55,
          59
         ],
         "textposition": "bottom right",
         "type": "scatter",
         "visible": "legendonly",
         "x": [
          0.6398263459666246,
          0.6182524074640904,
          0.1363438867557099,
          -1.4599929772397937
         ],
         "xaxis": "x",
         "y": [
          0.35445839442626625,
          -0.16071970478765246,
          0.1612845138843346,
          -0.002449089620172429
         ],
         "yaxis": "y"
        },
        {
         "hovertemplate": "num=4<br>x=%{x}<br>y=%{y}<br>txt=%{text}<extra></extra>",
         "legendgroup": "4",
         "marker": {
          "color": "#FFA15A",
          "symbol": "circle"
         },
         "mode": "markers+text",
         "name": "4",
         "orientation": "v",
         "showlegend": true,
         "text": [
          47,
          51,
          55,
          59
         ],
         "textposition": "bottom right",
         "type": "scatter",
         "visible": "legendonly",
         "x": [
          0.40046651218147516,
          -0.052154666044494535,
          0.1936723360207801,
          0.01452210974591095
         ],
         "xaxis": "x",
         "y": [
          -0.1504836454844162,
          0.45685775993152455,
          0.3682969822536439,
          -0.7620673508120961
         ],
         "yaxis": "y"
        },
        {
         "hovertemplate": "num=5<br>x=%{x}<br>y=%{y}<br>txt=%{text}<extra></extra>",
         "legendgroup": "5",
         "marker": {
          "color": "#19d3f3",
          "symbol": "circle"
         },
         "mode": "markers+text",
         "name": "5",
         "orientation": "v",
         "showlegend": true,
         "text": [
          47,
          51,
          55,
          59
         ],
         "textposition": "bottom right",
         "type": "scatter",
         "visible": "legendonly",
         "x": [
          -0.7676227433698597,
          -0.6569690318370166,
          0.3369263851102295,
          -0.6528400285566814
         ],
         "xaxis": "x",
         "y": [
          0.19852878941797678,
          0.2329722465709953,
          -0.39645308977314997,
          0.08023299231492181
         ],
         "yaxis": "y"
        },
        {
         "hovertemplate": "num=6<br>x=%{x}<br>y=%{y}<br>txt=%{text}<extra></extra>",
         "legendgroup": "6",
         "marker": {
          "color": "#FF6692",
          "symbol": "circle"
         },
         "mode": "markers+text",
         "name": "6",
         "orientation": "v",
         "showlegend": true,
         "text": [
          47,
          51,
          55,
          59
         ],
         "textposition": "bottom right",
         "type": "scatter",
         "visible": "legendonly",
         "x": [
          0.0298822027083058,
          0.504746568559303,
          -0.0917433144954086,
          0.04516999379661822
         ],
         "xaxis": "x",
         "y": [
          0.461364970108019,
          -0.14964053693408333,
          -0.042543243569144906,
          -0.06708101928208543
         ],
         "yaxis": "y"
        },
        {
         "hovertemplate": "num=7<br>x=%{x}<br>y=%{y}<br>txt=%{text}<extra></extra>",
         "legendgroup": "7",
         "marker": {
          "color": "#B6E880",
          "symbol": "circle"
         },
         "mode": "markers+text",
         "name": "7",
         "orientation": "v",
         "showlegend": true,
         "text": [
          47,
          51,
          55,
          59
         ],
         "textposition": "bottom right",
         "type": "scatter",
         "visible": "legendonly",
         "x": [
          0.39616174951831057,
          0.07785175271128497,
          -0.01770720410989221,
          -0.19160029344940677
         ],
         "xaxis": "x",
         "y": [
          -0.5903869182006289,
          -0.1870559246914995,
          -0.27006878288393177,
          0.04224745891619405
         ],
         "yaxis": "y"
        },
        {
         "hovertemplate": "num=8<br>x=%{x}<br>y=%{y}<br>txt=%{text}<extra></extra>",
         "legendgroup": "8",
         "marker": {
          "color": "#FF97FF",
          "symbol": "circle"
         },
         "mode": "markers+text",
         "name": "8",
         "orientation": "v",
         "showlegend": true,
         "text": [
          47,
          51,
          55,
          59
         ],
         "textposition": "bottom right",
         "type": "scatter",
         "visible": "legendonly",
         "x": [
          0.3792516833169918,
          -0.1553785129934281,
          -0.30857997469142734,
          0.04328508906373113
         ],
         "xaxis": "x",
         "y": [
          -0.18577135843849826,
          -0.3914372126764838,
          0.1680752395771875,
          -0.531526334063665
         ],
         "yaxis": "y"
        },
        {
         "hovertemplate": "num=9<br>x=%{x}<br>y=%{y}<br>txt=%{text}<extra></extra>",
         "legendgroup": "9",
         "marker": {
          "color": "#FECB52",
          "symbol": "circle"
         },
         "mode": "markers+text",
         "name": "9",
         "orientation": "v",
         "showlegend": true,
         "text": [
          47,
          51,
          55,
          59
         ],
         "textposition": "bottom right",
         "type": "scatter",
         "visible": "legendonly",
         "x": [
          0.012605600642666394,
          0.6163047351111892,
          0.6389063147885511,
          -0.31435934685617983
         ],
         "xaxis": "x",
         "y": [
          0.11852415962699432,
          0.5056352597666367,
          0.02734327818183724,
          -0.6133183895460537
         ],
         "yaxis": "y"
        },
        {
         "hovertemplate": "num=10<br>x=%{x}<br>y=%{y}<br>txt=%{text}<extra></extra>",
         "legendgroup": "10",
         "marker": {
          "color": "#636efa",
          "symbol": "circle"
         },
         "mode": "markers+text",
         "name": "10",
         "orientation": "v",
         "showlegend": true,
         "text": [
          47,
          51,
          55,
          59
         ],
         "textposition": "bottom right",
         "type": "scatter",
         "visible": "legendonly",
         "x": [
          0.11605566169891461,
          -0.009979169668349318,
          -0.1678187735644189,
          -0.7138878388186137
         ],
         "xaxis": "x",
         "y": [
          0.16971209202667226,
          -0.007704707974031029,
          -0.20684348603117728,
          0.4199260896945367
         ],
         "yaxis": "y"
        },
        {
         "hovertemplate": "num=11<br>x=%{x}<br>y=%{y}<br>txt=%{text}<extra></extra>",
         "legendgroup": "11",
         "marker": {
          "color": "#EF553B",
          "symbol": "circle"
         },
         "mode": "markers+text",
         "name": "11",
         "orientation": "v",
         "showlegend": true,
         "text": [
          47,
          51,
          55,
          59
         ],
         "textposition": "bottom right",
         "type": "scatter",
         "visible": "legendonly",
         "x": [
          -0.2134901898046998,
          0.2386587296202381,
          0.17798584569238735,
          0.03802062237210477
         ],
         "xaxis": "x",
         "y": [
          -0.7205331026336466,
          -0.15473217149433208,
          0.3829386228585639,
          0.19105120437959464
         ],
         "yaxis": "y"
        },
        {
         "hovertemplate": "num=12<br>x=%{x}<br>y=%{y}<br>txt=%{text}<extra></extra>",
         "legendgroup": "12",
         "marker": {
          "color": "#00cc96",
          "symbol": "circle"
         },
         "mode": "markers+text",
         "name": "12",
         "orientation": "v",
         "showlegend": true,
         "text": [
          47,
          51,
          55,
          59
         ],
         "textposition": "bottom right",
         "type": "scatter",
         "visible": "legendonly",
         "x": [
          -0.07986011982811397,
          0.4719093125325208,
          -0.119856170077515,
          -0.5370630332039881
         ],
         "xaxis": "x",
         "y": [
          0.08228654273357539,
          0.2977171881331582,
          0.5319329912818098,
          -0.3980955763880156
         ],
         "yaxis": "y"
        },
        {
         "hovertemplate": "num=13<br>x=%{x}<br>y=%{y}<br>txt=%{text}<extra></extra>",
         "legendgroup": "13",
         "marker": {
          "color": "#ab63fa",
          "symbol": "circle"
         },
         "mode": "markers+text",
         "name": "13",
         "orientation": "v",
         "showlegend": true,
         "text": [
          47,
          51,
          55,
          59
         ],
         "textposition": "bottom right",
         "type": "scatter",
         "visible": "legendonly",
         "x": [
          -0.15424641441403716,
          0.15813290982290562,
          -0.1630981907010682,
          -0.11331445225620645
         ],
         "xaxis": "x",
         "y": [
          -0.31754888796879094,
          0.2203395793762463,
          -0.44125239635682617,
          -0.5019956095019551
         ],
         "yaxis": "y"
        },
        {
         "hovertemplate": "num=14<br>x=%{x}<br>y=%{y}<br>txt=%{text}<extra></extra>",
         "legendgroup": "14",
         "marker": {
          "color": "#FFA15A",
          "symbol": "circle"
         },
         "mode": "markers+text",
         "name": "14",
         "orientation": "v",
         "showlegend": true,
         "text": [
          47,
          51,
          55,
          59
         ],
         "textposition": "bottom right",
         "type": "scatter",
         "visible": "legendonly",
         "x": [
          -0.49963950202571783,
          -0.0427463920453528,
          0.2307127333995196,
          0.14503848497697885
         ],
         "xaxis": "x",
         "y": [
          0.2283805380419426,
          0.9021510522929926,
          0.005525737371214118,
          -0.00896217191373195
         ],
         "yaxis": "y"
        },
        {
         "hovertemplate": "num=15<br>x=%{x}<br>y=%{y}<br>txt=%{text}<extra></extra>",
         "legendgroup": "15",
         "marker": {
          "color": "#19d3f3",
          "symbol": "circle"
         },
         "mode": "markers+text",
         "name": "15",
         "orientation": "v",
         "showlegend": true,
         "text": [
          47,
          51,
          55,
          59
         ],
         "textposition": "bottom right",
         "type": "scatter",
         "visible": "legendonly",
         "x": [
          0.9864887082827398,
          0.30117411128630384,
          0.5728921134693835,
          0.9937720250430782
         ],
         "xaxis": "x",
         "y": [
          0.1522248889681613,
          -0.07231052271871505,
          -0.12941698138768848,
          0.12506324826483006
         ],
         "yaxis": "y"
        },
        {
         "hovertemplate": "num=16<br>x=%{x}<br>y=%{y}<br>txt=%{text}<extra></extra>",
         "legendgroup": "16",
         "marker": {
          "color": "#FF6692",
          "symbol": "circle"
         },
         "mode": "markers+text",
         "name": "16",
         "orientation": "v",
         "showlegend": true,
         "text": [
          47,
          51,
          55,
          59
         ],
         "textposition": "bottom right",
         "type": "scatter",
         "visible": "legendonly",
         "x": [
          -0.24188454248059377,
          0.3660402644759927,
          0.1274047737702531,
          0.06905604919690012
         ],
         "xaxis": "x",
         "y": [
          -0.21301310006797464,
          -0.3404488198237275,
          0.10909905637351175,
          0.04441311783621058
         ],
         "yaxis": "y"
        },
        {
         "hovertemplate": "num=17<br>x=%{x}<br>y=%{y}<br>txt=%{text}<extra></extra>",
         "legendgroup": "17",
         "marker": {
          "color": "#B6E880",
          "symbol": "circle"
         },
         "mode": "markers+text",
         "name": "17",
         "orientation": "v",
         "showlegend": true,
         "text": [
          47,
          51,
          55,
          59
         ],
         "textposition": "bottom right",
         "type": "scatter",
         "visible": "legendonly",
         "x": [
          -0.021616056920017668,
          0.6749047950966481,
          0.5106761979399561,
          -0.031889151111283376
         ],
         "xaxis": "x",
         "y": [
          0.8390648181416848,
          0.15124421582676106,
          0.1019710946446083,
          0.9161051255354546
         ],
         "yaxis": "y"
        },
        {
         "hovertemplate": "num=18<br>x=%{x}<br>y=%{y}<br>txt=%{text}<extra></extra>",
         "legendgroup": "18",
         "marker": {
          "color": "#FF97FF",
          "symbol": "circle"
         },
         "mode": "markers+text",
         "name": "18",
         "orientation": "v",
         "showlegend": true,
         "text": [
          47,
          51,
          55,
          59
         ],
         "textposition": "bottom right",
         "type": "scatter",
         "visible": "legendonly",
         "x": [
          0.32464839142831586,
          -0.13624551244032274,
          0.10924222093227387,
          0.43386854609167247
         ],
         "xaxis": "x",
         "y": [
          -0.3071624626685021,
          -0.48145051220890434,
          -0.4913435605388895,
          -0.25874610055451197
         ],
         "yaxis": "y"
        },
        {
         "hovertemplate": "num=19<br>x=%{x}<br>y=%{y}<br>txt=%{text}<extra></extra>",
         "legendgroup": "19",
         "marker": {
          "color": "#FECB52",
          "symbol": "circle"
         },
         "mode": "markers+text",
         "name": "19",
         "orientation": "v",
         "showlegend": true,
         "text": [
          47,
          51,
          55,
          59
         ],
         "textposition": "bottom right",
         "type": "scatter",
         "visible": true,
         "x": [
          0.08163116445221266,
          0.09956256003716783,
          0.07319277759162675,
          0.043416899148475206
         ],
         "xaxis": "x",
         "y": [
          0.18201505522387273,
          0.24429409000555125,
          -0.05521727626456794,
          0.19490668884445428
         ],
         "yaxis": "y"
        }
       ],
       "layout": {
        "autosize": true,
        "legend": {
         "title": {
          "text": "num"
         },
         "tracegroupgap": 0
        },
        "margin": {
         "t": 60
        },
        "template": {
         "data": {
          "bar": [
           {
            "error_x": {
             "color": "#2a3f5f"
            },
            "error_y": {
             "color": "#2a3f5f"
            },
            "marker": {
             "line": {
              "color": "#E5ECF6",
              "width": 0.5
             },
             "pattern": {
              "fillmode": "overlay",
              "size": 10,
              "solidity": 0.2
             }
            },
            "type": "bar"
           }
          ],
          "barpolar": [
           {
            "marker": {
             "line": {
              "color": "#E5ECF6",
              "width": 0.5
             },
             "pattern": {
              "fillmode": "overlay",
              "size": 10,
              "solidity": 0.2
             }
            },
            "type": "barpolar"
           }
          ],
          "carpet": [
           {
            "aaxis": {
             "endlinecolor": "#2a3f5f",
             "gridcolor": "white",
             "linecolor": "white",
             "minorgridcolor": "white",
             "startlinecolor": "#2a3f5f"
            },
            "baxis": {
             "endlinecolor": "#2a3f5f",
             "gridcolor": "white",
             "linecolor": "white",
             "minorgridcolor": "white",
             "startlinecolor": "#2a3f5f"
            },
            "type": "carpet"
           }
          ],
          "choropleth": [
           {
            "colorbar": {
             "outlinewidth": 0,
             "ticks": ""
            },
            "type": "choropleth"
           }
          ],
          "contour": [
           {
            "colorbar": {
             "outlinewidth": 0,
             "ticks": ""
            },
            "colorscale": [
             [
              0,
              "#0d0887"
             ],
             [
              0.1111111111111111,
              "#46039f"
             ],
             [
              0.2222222222222222,
              "#7201a8"
             ],
             [
              0.3333333333333333,
              "#9c179e"
             ],
             [
              0.4444444444444444,
              "#bd3786"
             ],
             [
              0.5555555555555556,
              "#d8576b"
             ],
             [
              0.6666666666666666,
              "#ed7953"
             ],
             [
              0.7777777777777778,
              "#fb9f3a"
             ],
             [
              0.8888888888888888,
              "#fdca26"
             ],
             [
              1,
              "#f0f921"
             ]
            ],
            "type": "contour"
           }
          ],
          "contourcarpet": [
           {
            "colorbar": {
             "outlinewidth": 0,
             "ticks": ""
            },
            "type": "contourcarpet"
           }
          ],
          "heatmap": [
           {
            "colorbar": {
             "outlinewidth": 0,
             "ticks": ""
            },
            "colorscale": [
             [
              0,
              "#0d0887"
             ],
             [
              0.1111111111111111,
              "#46039f"
             ],
             [
              0.2222222222222222,
              "#7201a8"
             ],
             [
              0.3333333333333333,
              "#9c179e"
             ],
             [
              0.4444444444444444,
              "#bd3786"
             ],
             [
              0.5555555555555556,
              "#d8576b"
             ],
             [
              0.6666666666666666,
              "#ed7953"
             ],
             [
              0.7777777777777778,
              "#fb9f3a"
             ],
             [
              0.8888888888888888,
              "#fdca26"
             ],
             [
              1,
              "#f0f921"
             ]
            ],
            "type": "heatmap"
           }
          ],
          "heatmapgl": [
           {
            "colorbar": {
             "outlinewidth": 0,
             "ticks": ""
            },
            "colorscale": [
             [
              0,
              "#0d0887"
             ],
             [
              0.1111111111111111,
              "#46039f"
             ],
             [
              0.2222222222222222,
              "#7201a8"
             ],
             [
              0.3333333333333333,
              "#9c179e"
             ],
             [
              0.4444444444444444,
              "#bd3786"
             ],
             [
              0.5555555555555556,
              "#d8576b"
             ],
             [
              0.6666666666666666,
              "#ed7953"
             ],
             [
              0.7777777777777778,
              "#fb9f3a"
             ],
             [
              0.8888888888888888,
              "#fdca26"
             ],
             [
              1,
              "#f0f921"
             ]
            ],
            "type": "heatmapgl"
           }
          ],
          "histogram": [
           {
            "marker": {
             "pattern": {
              "fillmode": "overlay",
              "size": 10,
              "solidity": 0.2
             }
            },
            "type": "histogram"
           }
          ],
          "histogram2d": [
           {
            "colorbar": {
             "outlinewidth": 0,
             "ticks": ""
            },
            "colorscale": [
             [
              0,
              "#0d0887"
             ],
             [
              0.1111111111111111,
              "#46039f"
             ],
             [
              0.2222222222222222,
              "#7201a8"
             ],
             [
              0.3333333333333333,
              "#9c179e"
             ],
             [
              0.4444444444444444,
              "#bd3786"
             ],
             [
              0.5555555555555556,
              "#d8576b"
             ],
             [
              0.6666666666666666,
              "#ed7953"
             ],
             [
              0.7777777777777778,
              "#fb9f3a"
             ],
             [
              0.8888888888888888,
              "#fdca26"
             ],
             [
              1,
              "#f0f921"
             ]
            ],
            "type": "histogram2d"
           }
          ],
          "histogram2dcontour": [
           {
            "colorbar": {
             "outlinewidth": 0,
             "ticks": ""
            },
            "colorscale": [
             [
              0,
              "#0d0887"
             ],
             [
              0.1111111111111111,
              "#46039f"
             ],
             [
              0.2222222222222222,
              "#7201a8"
             ],
             [
              0.3333333333333333,
              "#9c179e"
             ],
             [
              0.4444444444444444,
              "#bd3786"
             ],
             [
              0.5555555555555556,
              "#d8576b"
             ],
             [
              0.6666666666666666,
              "#ed7953"
             ],
             [
              0.7777777777777778,
              "#fb9f3a"
             ],
             [
              0.8888888888888888,
              "#fdca26"
             ],
             [
              1,
              "#f0f921"
             ]
            ],
            "type": "histogram2dcontour"
           }
          ],
          "mesh3d": [
           {
            "colorbar": {
             "outlinewidth": 0,
             "ticks": ""
            },
            "type": "mesh3d"
           }
          ],
          "parcoords": [
           {
            "line": {
             "colorbar": {
              "outlinewidth": 0,
              "ticks": ""
             }
            },
            "type": "parcoords"
           }
          ],
          "pie": [
           {
            "automargin": true,
            "type": "pie"
           }
          ],
          "scatter": [
           {
            "marker": {
             "colorbar": {
              "outlinewidth": 0,
              "ticks": ""
             }
            },
            "type": "scatter"
           }
          ],
          "scatter3d": [
           {
            "line": {
             "colorbar": {
              "outlinewidth": 0,
              "ticks": ""
             }
            },
            "marker": {
             "colorbar": {
              "outlinewidth": 0,
              "ticks": ""
             }
            },
            "type": "scatter3d"
           }
          ],
          "scattercarpet": [
           {
            "marker": {
             "colorbar": {
              "outlinewidth": 0,
              "ticks": ""
             }
            },
            "type": "scattercarpet"
           }
          ],
          "scattergeo": [
           {
            "marker": {
             "colorbar": {
              "outlinewidth": 0,
              "ticks": ""
             }
            },
            "type": "scattergeo"
           }
          ],
          "scattergl": [
           {
            "marker": {
             "colorbar": {
              "outlinewidth": 0,
              "ticks": ""
             }
            },
            "type": "scattergl"
           }
          ],
          "scattermapbox": [
           {
            "marker": {
             "colorbar": {
              "outlinewidth": 0,
              "ticks": ""
             }
            },
            "type": "scattermapbox"
           }
          ],
          "scatterpolar": [
           {
            "marker": {
             "colorbar": {
              "outlinewidth": 0,
              "ticks": ""
             }
            },
            "type": "scatterpolar"
           }
          ],
          "scatterpolargl": [
           {
            "marker": {
             "colorbar": {
              "outlinewidth": 0,
              "ticks": ""
             }
            },
            "type": "scatterpolargl"
           }
          ],
          "scatterternary": [
           {
            "marker": {
             "colorbar": {
              "outlinewidth": 0,
              "ticks": ""
             }
            },
            "type": "scatterternary"
           }
          ],
          "surface": [
           {
            "colorbar": {
             "outlinewidth": 0,
             "ticks": ""
            },
            "colorscale": [
             [
              0,
              "#0d0887"
             ],
             [
              0.1111111111111111,
              "#46039f"
             ],
             [
              0.2222222222222222,
              "#7201a8"
             ],
             [
              0.3333333333333333,
              "#9c179e"
             ],
             [
              0.4444444444444444,
              "#bd3786"
             ],
             [
              0.5555555555555556,
              "#d8576b"
             ],
             [
              0.6666666666666666,
              "#ed7953"
             ],
             [
              0.7777777777777778,
              "#fb9f3a"
             ],
             [
              0.8888888888888888,
              "#fdca26"
             ],
             [
              1,
              "#f0f921"
             ]
            ],
            "type": "surface"
           }
          ],
          "table": [
           {
            "cells": {
             "fill": {
              "color": "#EBF0F8"
             },
             "line": {
              "color": "white"
             }
            },
            "header": {
             "fill": {
              "color": "#C8D4E3"
             },
             "line": {
              "color": "white"
             }
            },
            "type": "table"
           }
          ]
         },
         "layout": {
          "annotationdefaults": {
           "arrowcolor": "#2a3f5f",
           "arrowhead": 0,
           "arrowwidth": 1
          },
          "autotypenumbers": "strict",
          "coloraxis": {
           "colorbar": {
            "outlinewidth": 0,
            "ticks": ""
           }
          },
          "colorscale": {
           "diverging": [
            [
             0,
             "#8e0152"
            ],
            [
             0.1,
             "#c51b7d"
            ],
            [
             0.2,
             "#de77ae"
            ],
            [
             0.3,
             "#f1b6da"
            ],
            [
             0.4,
             "#fde0ef"
            ],
            [
             0.5,
             "#f7f7f7"
            ],
            [
             0.6,
             "#e6f5d0"
            ],
            [
             0.7,
             "#b8e186"
            ],
            [
             0.8,
             "#7fbc41"
            ],
            [
             0.9,
             "#4d9221"
            ],
            [
             1,
             "#276419"
            ]
           ],
           "sequential": [
            [
             0,
             "#0d0887"
            ],
            [
             0.1111111111111111,
             "#46039f"
            ],
            [
             0.2222222222222222,
             "#7201a8"
            ],
            [
             0.3333333333333333,
             "#9c179e"
            ],
            [
             0.4444444444444444,
             "#bd3786"
            ],
            [
             0.5555555555555556,
             "#d8576b"
            ],
            [
             0.6666666666666666,
             "#ed7953"
            ],
            [
             0.7777777777777778,
             "#fb9f3a"
            ],
            [
             0.8888888888888888,
             "#fdca26"
            ],
            [
             1,
             "#f0f921"
            ]
           ],
           "sequentialminus": [
            [
             0,
             "#0d0887"
            ],
            [
             0.1111111111111111,
             "#46039f"
            ],
            [
             0.2222222222222222,
             "#7201a8"
            ],
            [
             0.3333333333333333,
             "#9c179e"
            ],
            [
             0.4444444444444444,
             "#bd3786"
            ],
            [
             0.5555555555555556,
             "#d8576b"
            ],
            [
             0.6666666666666666,
             "#ed7953"
            ],
            [
             0.7777777777777778,
             "#fb9f3a"
            ],
            [
             0.8888888888888888,
             "#fdca26"
            ],
            [
             1,
             "#f0f921"
            ]
           ]
          },
          "colorway": [
           "#636efa",
           "#EF553B",
           "#00cc96",
           "#ab63fa",
           "#FFA15A",
           "#19d3f3",
           "#FF6692",
           "#B6E880",
           "#FF97FF",
           "#FECB52"
          ],
          "font": {
           "color": "#2a3f5f"
          },
          "geo": {
           "bgcolor": "white",
           "lakecolor": "white",
           "landcolor": "#E5ECF6",
           "showlakes": true,
           "showland": true,
           "subunitcolor": "white"
          },
          "hoverlabel": {
           "align": "left"
          },
          "hovermode": "closest",
          "mapbox": {
           "style": "light"
          },
          "paper_bgcolor": "white",
          "plot_bgcolor": "#E5ECF6",
          "polar": {
           "angularaxis": {
            "gridcolor": "white",
            "linecolor": "white",
            "ticks": ""
           },
           "bgcolor": "#E5ECF6",
           "radialaxis": {
            "gridcolor": "white",
            "linecolor": "white",
            "ticks": ""
           }
          },
          "scene": {
           "xaxis": {
            "backgroundcolor": "#E5ECF6",
            "gridcolor": "white",
            "gridwidth": 2,
            "linecolor": "white",
            "showbackground": true,
            "ticks": "",
            "zerolinecolor": "white"
           },
           "yaxis": {
            "backgroundcolor": "#E5ECF6",
            "gridcolor": "white",
            "gridwidth": 2,
            "linecolor": "white",
            "showbackground": true,
            "ticks": "",
            "zerolinecolor": "white"
           },
           "zaxis": {
            "backgroundcolor": "#E5ECF6",
            "gridcolor": "white",
            "gridwidth": 2,
            "linecolor": "white",
            "showbackground": true,
            "ticks": "",
            "zerolinecolor": "white"
           }
          },
          "shapedefaults": {
           "line": {
            "color": "#2a3f5f"
           }
          },
          "ternary": {
           "aaxis": {
            "gridcolor": "white",
            "linecolor": "white",
            "ticks": ""
           },
           "baxis": {
            "gridcolor": "white",
            "linecolor": "white",
            "ticks": ""
           },
           "bgcolor": "#E5ECF6",
           "caxis": {
            "gridcolor": "white",
            "linecolor": "white",
            "ticks": ""
           }
          },
          "title": {
           "x": 0.05
          },
          "xaxis": {
           "automargin": true,
           "gridcolor": "white",
           "linecolor": "white",
           "ticks": "",
           "title": {
            "standoff": 15
           },
           "zerolinecolor": "white",
           "zerolinewidth": 2
          },
          "yaxis": {
           "automargin": true,
           "gridcolor": "white",
           "linecolor": "white",
           "ticks": "",
           "title": {
            "standoff": 15
           },
           "zerolinecolor": "white",
           "zerolinewidth": 2
          }
         }
        },
        "xaxis": {
         "anchor": "y",
         "autorange": false,
         "domain": [
          0,
          1
         ],
         "range": [
          -1.8920739873933687,
          2.0591723846133534
         ],
         "title": {
          "text": "x"
         },
         "type": "linear"
        },
        "yaxis": {
         "anchor": "x",
         "autorange": false,
         "domain": [
          0,
          1
         ],
         "range": [
          -2.6483440336958477,
          2.5432004277527867
         ],
         "title": {
          "text": "y"
         },
         "type": "linear"
        }
       }
      },
      "image/png": "[encoded data removed]",
      "text/html": [
       "<div>                            <div id=\"0ad43a94-7ff5-4f1b-a8c8-184d4c5a1e06\" class=\"plotly-graph-div\" style=\"height:525px; width:100%;\"></div>            <script type=\"text/javascript\">                require([\"plotly\"], function(Plotly) {                    window.PLOTLYENV=window.PLOTLYENV || {};                                    if (document.getElementById(\"0ad43a94-7ff5-4f1b-a8c8-184d4c5a1e06\")) {                    Plotly.newPlot(                        \"0ad43a94-7ff5-4f1b-a8c8-184d4c5a1e06\",                        [{\"hovertemplate\":\"num=0<br>x=%{x}<br>y=%{y}<br>txt=%{text}<extra></extra>\",\"legendgroup\":\"0\",\"marker\":{\"color\":\"#636efa\",\"symbol\":\"circle\"},\"mode\":\"markers+text\",\"name\":\"0\",\"orientation\":\"v\",\"showlegend\":true,\"text\":[47.0,51.0,55.0,59.0],\"x\":[0.3046883609382216,0.08330917727819395,0.006535964398935071,-0.13758996371823734],\"xaxis\":\"x\",\"y\":[-0.3412716755587483,-0.221404711890787,0.14561130779432102,0.23612806961568739],\"yaxis\":\"y\",\"type\":\"scatter\",\"textposition\":\"bottom right\"},{\"hovertemplate\":\"num=1<br>x=%{x}<br>y=%{y}<br>txt=%{text}<extra></extra>\",\"legendgroup\":\"1\",\"marker\":{\"color\":\"#EF553B\",\"symbol\":\"circle\"},\"mode\":\"markers+text\",\"name\":\"1\",\"orientation\":\"v\",\"showlegend\":true,\"text\":[47.0,51.0,55.0,59.0],\"x\":[0.6430483593009981,-0.08261991220543655,-0.39810353581653735,-0.4223809917876806],\"xaxis\":\"x\",\"y\":[-0.41761656981190376,0.22419300297910766,-0.17135323605591107,0.3501941304520397],\"yaxis\":\"y\",\"type\":\"scatter\",\"textposition\":\"bottom right\"},{\"hovertemplate\":\"num=2<br>x=%{x}<br>y=%{y}<br>txt=%{text}<extra></extra>\",\"legendgroup\":\"2\",\"marker\":{\"color\":\"#00cc96\",\"symbol\":\"circle\"},\"mode\":\"markers+text\",\"name\":\"2\",\"orientation\":\"v\",\"showlegend\":true,\"text\":[47.0,51.0,55.0,59.0],\"x\":[-0.24283402458266362,-0.04586450440757557,-0.4025015718631274,-0.5723313571446269],\"xaxis\":\"x\",\"y\":[0.24880955301009666,0.08016586484400277,0.20068694741182405,-0.09280509232208595],\"yaxis\":\"y\",\"type\":\"scatter\",\"textposition\":\"bottom right\"},{\"hovertemplate\":\"num=3<br>x=%{x}<br>y=%{y}<br>txt=%{text}<extra></extra>\",\"legendgroup\":\"3\",\"marker\":{\"color\":\"#ab63fa\",\"symbol\":\"circle\"},\"mode\":\"markers+text\",\"name\":\"3\",\"orientation\":\"v\",\"showlegend\":true,\"text\":[47.0,51.0,55.0,59.0],\"x\":[0.6398263459666246,0.6182524074640904,0.1363438867557099,-1.4599929772397937],\"xaxis\":\"x\",\"y\":[0.35445839442626625,-0.16071970478765246,0.1612845138843346,-0.002449089620172429],\"yaxis\":\"y\",\"type\":\"scatter\",\"textposition\":\"bottom right\"},{\"hovertemplate\":\"num=4<br>x=%{x}<br>y=%{y}<br>txt=%{text}<extra></extra>\",\"legendgroup\":\"4\",\"marker\":{\"color\":\"#FFA15A\",\"symbol\":\"circle\"},\"mode\":\"markers+text\",\"name\":\"4\",\"orientation\":\"v\",\"showlegend\":true,\"text\":[47.0,51.0,55.0,59.0],\"x\":[0.40046651218147516,-0.052154666044494535,0.1936723360207801,0.01452210974591095],\"xaxis\":\"x\",\"y\":[-0.1504836454844162,0.45685775993152455,0.3682969822536439,-0.7620673508120961],\"yaxis\":\"y\",\"type\":\"scatter\",\"textposition\":\"bottom right\"},{\"hovertemplate\":\"num=5<br>x=%{x}<br>y=%{y}<br>txt=%{text}<extra></extra>\",\"legendgroup\":\"5\",\"marker\":{\"color\":\"#19d3f3\",\"symbol\":\"circle\"},\"mode\":\"markers+text\",\"name\":\"5\",\"orientation\":\"v\",\"showlegend\":true,\"text\":[47.0,51.0,55.0,59.0],\"x\":[-0.7676227433698597,-0.6569690318370166,0.3369263851102295,-0.6528400285566814],\"xaxis\":\"x\",\"y\":[0.19852878941797678,0.2329722465709953,-0.39645308977314997,0.08023299231492181],\"yaxis\":\"y\",\"type\":\"scatter\",\"textposition\":\"bottom right\"},{\"hovertemplate\":\"num=6<br>x=%{x}<br>y=%{y}<br>txt=%{text}<extra></extra>\",\"legendgroup\":\"6\",\"marker\":{\"color\":\"#FF6692\",\"symbol\":\"circle\"},\"mode\":\"markers+text\",\"name\":\"6\",\"orientation\":\"v\",\"showlegend\":true,\"text\":[47.0,51.0,55.0,59.0],\"x\":[0.0298822027083058,0.504746568559303,-0.0917433144954086,0.04516999379661822],\"xaxis\":\"x\",\"y\":[0.461364970108019,-0.14964053693408333,-0.042543243569144906,-0.06708101928208543],\"yaxis\":\"y\",\"type\":\"scatter\",\"textposition\":\"bottom right\"},{\"hovertemplate\":\"num=7<br>x=%{x}<br>y=%{y}<br>txt=%{text}<extra></extra>\",\"legendgroup\":\"7\",\"marker\":{\"color\":\"#B6E880\",\"symbol\":\"circle\"},\"mode\":\"markers+text\",\"name\":\"7\",\"orientation\":\"v\",\"showlegend\":true,\"text\":[47.0,51.0,55.0,59.0],\"x\":[0.39616174951831057,0.07785175271128497,-0.01770720410989221,-0.19160029344940677],\"xaxis\":\"x\",\"y\":[-0.5903869182006289,-0.1870559246914995,-0.27006878288393177,0.04224745891619405],\"yaxis\":\"y\",\"type\":\"scatter\",\"textposition\":\"bottom right\"},{\"hovertemplate\":\"num=8<br>x=%{x}<br>y=%{y}<br>txt=%{text}<extra></extra>\",\"legendgroup\":\"8\",\"marker\":{\"color\":\"#FF97FF\",\"symbol\":\"circle\"},\"mode\":\"markers+text\",\"name\":\"8\",\"orientation\":\"v\",\"showlegend\":true,\"text\":[47.0,51.0,55.0,59.0],\"x\":[0.3792516833169918,-0.1553785129934281,-0.30857997469142734,0.04328508906373113],\"xaxis\":\"x\",\"y\":[-0.18577135843849826,-0.3914372126764838,0.1680752395771875,-0.531526334063665],\"yaxis\":\"y\",\"type\":\"scatter\",\"textposition\":\"bottom right\"},{\"hovertemplate\":\"num=9<br>x=%{x}<br>y=%{y}<br>txt=%{text}<extra></extra>\",\"legendgroup\":\"9\",\"marker\":{\"color\":\"#FECB52\",\"symbol\":\"circle\"},\"mode\":\"markers+text\",\"name\":\"9\",\"orientation\":\"v\",\"showlegend\":true,\"text\":[47.0,51.0,55.0,59.0],\"x\":[0.012605600642666394,0.6163047351111892,0.6389063147885511,-0.31435934685617983],\"xaxis\":\"x\",\"y\":[0.11852415962699432,0.5056352597666367,0.02734327818183724,-0.6133183895460537],\"yaxis\":\"y\",\"type\":\"scatter\",\"textposition\":\"bottom right\"},{\"hovertemplate\":\"num=10<br>x=%{x}<br>y=%{y}<br>txt=%{text}<extra></extra>\",\"legendgroup\":\"10\",\"marker\":{\"color\":\"#636efa\",\"symbol\":\"circle\"},\"mode\":\"markers+text\",\"name\":\"10\",\"orientation\":\"v\",\"showlegend\":true,\"text\":[47.0,51.0,55.0,59.0],\"x\":[0.11605566169891461,-0.009979169668349318,-0.1678187735644189,-0.7138878388186137],\"xaxis\":\"x\",\"y\":[0.16971209202667226,-0.007704707974031029,-0.20684348603117728,0.4199260896945367],\"yaxis\":\"y\",\"type\":\"scatter\",\"textposition\":\"bottom right\"},{\"hovertemplate\":\"num=11<br>x=%{x}<br>y=%{y}<br>txt=%{text}<extra></extra>\",\"legendgroup\":\"11\",\"marker\":{\"color\":\"#EF553B\",\"symbol\":\"circle\"},\"mode\":\"markers+text\",\"name\":\"11\",\"orientation\":\"v\",\"showlegend\":true,\"text\":[47.0,51.0,55.0,59.0],\"x\":[-0.2134901898046998,0.2386587296202381,0.17798584569238735,0.03802062237210477],\"xaxis\":\"x\",\"y\":[-0.7205331026336466,-0.15473217149433208,0.3829386228585639,0.19105120437959464],\"yaxis\":\"y\",\"type\":\"scatter\",\"textposition\":\"bottom right\"},{\"hovertemplate\":\"num=12<br>x=%{x}<br>y=%{y}<br>txt=%{text}<extra></extra>\",\"legendgroup\":\"12\",\"marker\":{\"color\":\"#00cc96\",\"symbol\":\"circle\"},\"mode\":\"markers+text\",\"name\":\"12\",\"orientation\":\"v\",\"showlegend\":true,\"text\":[47.0,51.0,55.0,59.0],\"x\":[-0.07986011982811397,0.4719093125325208,-0.119856170077515,-0.5370630332039881],\"xaxis\":\"x\",\"y\":[0.08228654273357539,0.2977171881331582,0.5319329912818098,-0.3980955763880156],\"yaxis\":\"y\",\"type\":\"scatter\",\"textposition\":\"bottom right\"},{\"hovertemplate\":\"num=13<br>x=%{x}<br>y=%{y}<br>txt=%{text}<extra></extra>\",\"legendgroup\":\"13\",\"marker\":{\"color\":\"#ab63fa\",\"symbol\":\"circle\"},\"mode\":\"markers+text\",\"name\":\"13\",\"orientation\":\"v\",\"showlegend\":true,\"text\":[47.0,51.0,55.0,59.0],\"x\":[-0.15424641441403716,0.15813290982290562,-0.1630981907010682,-0.11331445225620645],\"xaxis\":\"x\",\"y\":[-0.31754888796879094,0.2203395793762463,-0.44125239635682617,-0.5019956095019551],\"yaxis\":\"y\",\"type\":\"scatter\",\"textposition\":\"bottom right\"},{\"hovertemplate\":\"num=14<br>x=%{x}<br>y=%{y}<br>txt=%{text}<extra></extra>\",\"legendgroup\":\"14\",\"marker\":{\"color\":\"#FFA15A\",\"symbol\":\"circle\"},\"mode\":\"markers+text\",\"name\":\"14\",\"orientation\":\"v\",\"showlegend\":true,\"text\":[47.0,51.0,55.0,59.0],\"x\":[-0.49963950202571783,-0.0427463920453528,0.2307127333995196,0.14503848497697885],\"xaxis\":\"x\",\"y\":[0.2283805380419426,0.9021510522929926,0.005525737371214118,-0.00896217191373195],\"yaxis\":\"y\",\"type\":\"scatter\",\"textposition\":\"bottom right\"},{\"hovertemplate\":\"num=15<br>x=%{x}<br>y=%{y}<br>txt=%{text}<extra></extra>\",\"legendgroup\":\"15\",\"marker\":{\"color\":\"#19d3f3\",\"symbol\":\"circle\"},\"mode\":\"markers+text\",\"name\":\"15\",\"orientation\":\"v\",\"showlegend\":true,\"text\":[47.0,51.0,55.0,59.0],\"x\":[0.9864887082827398,0.30117411128630384,0.5728921134693835,0.9937720250430782],\"xaxis\":\"x\",\"y\":[0.1522248889681613,-0.07231052271871505,-0.12941698138768848,0.12506324826483006],\"yaxis\":\"y\",\"type\":\"scatter\",\"textposition\":\"bottom right\"},{\"hovertemplate\":\"num=16<br>x=%{x}<br>y=%{y}<br>txt=%{text}<extra></extra>\",\"legendgroup\":\"16\",\"marker\":{\"color\":\"#FF6692\",\"symbol\":\"circle\"},\"mode\":\"markers+text\",\"name\":\"16\",\"orientation\":\"v\",\"showlegend\":true,\"text\":[47.0,51.0,55.0,59.0],\"x\":[-0.24188454248059377,0.3660402644759927,0.1274047737702531,0.06905604919690012],\"xaxis\":\"x\",\"y\":[-0.21301310006797464,-0.3404488198237275,0.10909905637351175,0.04441311783621058],\"yaxis\":\"y\",\"type\":\"scatter\",\"textposition\":\"bottom right\"},{\"hovertemplate\":\"num=17<br>x=%{x}<br>y=%{y}<br>txt=%{text}<extra></extra>\",\"legendgroup\":\"17\",\"marker\":{\"color\":\"#B6E880\",\"symbol\":\"circle\"},\"mode\":\"markers+text\",\"name\":\"17\",\"orientation\":\"v\",\"showlegend\":true,\"text\":[47.0,51.0,55.0,59.0],\"x\":[-0.021616056920017668,0.6749047950966481,0.5106761979399561,-0.031889151111283376],\"xaxis\":\"x\",\"y\":[0.8390648181416848,0.15124421582676106,0.1019710946446083,0.9161051255354546],\"yaxis\":\"y\",\"type\":\"scatter\",\"textposition\":\"bottom right\"},{\"hovertemplate\":\"num=18<br>x=%{x}<br>y=%{y}<br>txt=%{text}<extra></extra>\",\"legendgroup\":\"18\",\"marker\":{\"color\":\"#FF97FF\",\"symbol\":\"circle\"},\"mode\":\"markers+text\",\"name\":\"18\",\"orientation\":\"v\",\"showlegend\":true,\"text\":[47.0,51.0,55.0,59.0],\"x\":[0.32464839142831586,-0.13624551244032274,0.10924222093227387,0.43386854609167247],\"xaxis\":\"x\",\"y\":[-0.3071624626685021,-0.48145051220890434,-0.4913435605388895,-0.25874610055451197],\"yaxis\":\"y\",\"type\":\"scatter\",\"textposition\":\"bottom right\"},{\"hovertemplate\":\"num=19<br>x=%{x}<br>y=%{y}<br>txt=%{text}<extra></extra>\",\"legendgroup\":\"19\",\"marker\":{\"color\":\"#FECB52\",\"symbol\":\"circle\"},\"mode\":\"markers+text\",\"name\":\"19\",\"orientation\":\"v\",\"showlegend\":true,\"text\":[47.0,51.0,55.0,59.0],\"x\":[0.08163116445221266,0.09956256003716783,0.07319277759162675,0.043416899148475206],\"xaxis\":\"x\",\"y\":[0.18201505522387273,0.24429409000555125,-0.05521727626456794,0.19490668884445428],\"yaxis\":\"y\",\"type\":\"scatter\",\"textposition\":\"bottom right\"}],                        {\"template\":{\"data\":{\"bar\":[{\"error_x\":{\"color\":\"#2a3f5f\"},\"error_y\":{\"color\":\"#2a3f5f\"},\"marker\":{\"line\":{\"color\":\"#E5ECF6\",\"width\":0.5},\"pattern\":{\"fillmode\":\"overlay\",\"size\":10,\"solidity\":0.2}},\"type\":\"bar\"}],\"barpolar\":[{\"marker\":{\"line\":{\"color\":\"#E5ECF6\",\"width\":0.5},\"pattern\":{\"fillmode\":\"overlay\",\"size\":10,\"solidity\":0.2}},\"type\":\"barpolar\"}],\"carpet\":[{\"aaxis\":{\"endlinecolor\":\"#2a3f5f\",\"gridcolor\":\"white\",\"linecolor\":\"white\",\"minorgridcolor\":\"white\",\"startlinecolor\":\"#2a3f5f\"},\"baxis\":{\"endlinecolor\":\"#2a3f5f\",\"gridcolor\":\"white\",\"linecolor\":\"white\",\"minorgridcolor\":\"white\",\"startlinecolor\":\"#2a3f5f\"},\"type\":\"carpet\"}],\"choropleth\":[{\"colorbar\":{\"outlinewidth\":0,\"ticks\":\"\"},\"type\":\"choropleth\"}],\"contour\":[{\"colorbar\":{\"outlinewidth\":0,\"ticks\":\"\"},\"colorscale\":[[0.0,\"#0d0887\"],[0.1111111111111111,\"#46039f\"],[0.2222222222222222,\"#7201a8\"],[0.3333333333333333,\"#9c179e\"],[0.4444444444444444,\"#bd3786\"],[0.5555555555555556,\"#d8576b\"],[0.6666666666666666,\"#ed7953\"],[0.7777777777777778,\"#fb9f3a\"],[0.8888888888888888,\"#fdca26\"],[1.0,\"#f0f921\"]],\"type\":\"contour\"}],\"contourcarpet\":[{\"colorbar\":{\"outlinewidth\":0,\"ticks\":\"\"},\"type\":\"contourcarpet\"}],\"heatmap\":[{\"colorbar\":{\"outlinewidth\":0,\"ticks\":\"\"},\"colorscale\":[[0.0,\"#0d0887\"],[0.1111111111111111,\"#46039f\"],[0.2222222222222222,\"#7201a8\"],[0.3333333333333333,\"#9c179e\"],[0.4444444444444444,\"#bd3786\"],[0.5555555555555556,\"#d8576b\"],[0.6666666666666666,\"#ed7953\"],[0.7777777777777778,\"#fb9f3a\"],[0.8888888888888888,\"#fdca26\"],[1.0,\"#f0f921\"]],\"type\":\"heatmap\"}],\"heatmapgl\":[{\"colorbar\":{\"outlinewidth\":0,\"ticks\":\"\"},\"colorscale\":[[0.0,\"#0d0887\"],[0.1111111111111111,\"#46039f\"],[0.2222222222222222,\"#7201a8\"],[0.3333333333333333,\"#9c179e\"],[0.4444444444444444,\"#bd3786\"],[0.5555555555555556,\"#d8576b\"],[0.6666666666666666,\"#ed7953\"],[0.7777777777777778,\"#fb9f3a\"],[0.8888888888888888,\"#fdca26\"],[1.0,\"#f0f921\"]],\"type\":\"heatmapgl\"}],\"histogram\":[{\"marker\":{\"pattern\":{\"fillmode\":\"overlay\",\"size\":10,\"solidity\":0.2}},\"type\":\"histogram\"}],\"histogram2d\":[{\"colorbar\":{\"outlinewidth\":0,\"ticks\":\"\"},\"colorscale\":[[0.0,\"#0d0887\"],[0.1111111111111111,\"#46039f\"],[0.2222222222222222,\"#7201a8\"],[0.3333333333333333,\"#9c179e\"],[0.4444444444444444,\"#bd3786\"],[0.5555555555555556,\"#d8576b\"],[0.6666666666666666,\"#ed7953\"],[0.7777777777777778,\"#fb9f3a\"],[0.8888888888888888,\"#fdca26\"],[1.0,\"#f0f921\"]],\"type\":\"histogram2d\"}],\"histogram2dcontour\":[{\"colorbar\":{\"outlinewidth\":0,\"ticks\":\"\"},\"colorscale\":[[0.0,\"#0d0887\"],[0.1111111111111111,\"#46039f\"],[0.2222222222222222,\"#7201a8\"],[0.3333333333333333,\"#9c179e\"],[0.4444444444444444,\"#bd3786\"],[0.5555555555555556,\"#d8576b\"],[0.6666666666666666,\"#ed7953\"],[0.7777777777777778,\"#fb9f3a\"],[0.8888888888888888,\"#fdca26\"],[1.0,\"#f0f921\"]],\"type\":\"histogram2dcontour\"}],\"mesh3d\":[{\"colorbar\":{\"outlinewidth\":0,\"ticks\":\"\"},\"type\":\"mesh3d\"}],\"parcoords\":[{\"line\":{\"colorbar\":{\"outlinewidth\":0,\"ticks\":\"\"}},\"type\":\"parcoords\"}],\"pie\":[{\"automargin\":true,\"type\":\"pie\"}],\"scatter\":[{\"marker\":{\"colorbar\":{\"outlinewidth\":0,\"ticks\":\"\"}},\"type\":\"scatter\"}],\"scatter3d\":[{\"line\":{\"colorbar\":{\"outlinewidth\":0,\"ticks\":\"\"}},\"marker\":{\"colorbar\":{\"outlinewidth\":0,\"ticks\":\"\"}},\"type\":\"scatter3d\"}],\"scattercarpet\":[{\"marker\":{\"colorbar\":{\"outlinewidth\":0,\"ticks\":\"\"}},\"type\":\"scattercarpet\"}],\"scattergeo\":[{\"marker\":{\"colorbar\":{\"outlinewidth\":0,\"ticks\":\"\"}},\"type\":\"scattergeo\"}],\"scattergl\":[{\"marker\":{\"colorbar\":{\"outlinewidth\":0,\"ticks\":\"\"}},\"type\":\"scattergl\"}],\"scattermapbox\":[{\"marker\":{\"colorbar\":{\"outlinewidth\":0,\"ticks\":\"\"}},\"type\":\"scattermapbox\"}],\"scatterpolar\":[{\"marker\":{\"colorbar\":{\"outlinewidth\":0,\"ticks\":\"\"}},\"type\":\"scatterpolar\"}],\"scatterpolargl\":[{\"marker\":{\"colorbar\":{\"outlinewidth\":0,\"ticks\":\"\"}},\"type\":\"scatterpolargl\"}],\"scatterternary\":[{\"marker\":{\"colorbar\":{\"outlinewidth\":0,\"ticks\":\"\"}},\"type\":\"scatterternary\"}],\"surface\":[{\"colorbar\":{\"outlinewidth\":0,\"ticks\":\"\"},\"colorscale\":[[0.0,\"#0d0887\"],[0.1111111111111111,\"#46039f\"],[0.2222222222222222,\"#7201a8\"],[0.3333333333333333,\"#9c179e\"],[0.4444444444444444,\"#bd3786\"],[0.5555555555555556,\"#d8576b\"],[0.6666666666666666,\"#ed7953\"],[0.7777777777777778,\"#fb9f3a\"],[0.8888888888888888,\"#fdca26\"],[1.0,\"#f0f921\"]],\"type\":\"surface\"}],\"table\":[{\"cells\":{\"fill\":{\"color\":\"#EBF0F8\"},\"line\":{\"color\":\"white\"}},\"header\":{\"fill\":{\"color\":\"#C8D4E3\"},\"line\":{\"color\":\"white\"}},\"type\":\"table\"}]},\"layout\":{\"annotationdefaults\":{\"arrowcolor\":\"#2a3f5f\",\"arrowhead\":0,\"arrowwidth\":1},\"autotypenumbers\":\"strict\",\"coloraxis\":{\"colorbar\":{\"outlinewidth\":0,\"ticks\":\"\"}},\"colorscale\":{\"diverging\":[[0,\"#8e0152\"],[0.1,\"#c51b7d\"],[0.2,\"#de77ae\"],[0.3,\"#f1b6da\"],[0.4,\"#fde0ef\"],[0.5,\"#f7f7f7\"],[0.6,\"#e6f5d0\"],[0.7,\"#b8e186\"],[0.8,\"#7fbc41\"],[0.9,\"#4d9221\"],[1,\"#276419\"]],\"sequential\":[[0.0,\"#0d0887\"],[0.1111111111111111,\"#46039f\"],[0.2222222222222222,\"#7201a8\"],[0.3333333333333333,\"#9c179e\"],[0.4444444444444444,\"#bd3786\"],[0.5555555555555556,\"#d8576b\"],[0.6666666666666666,\"#ed7953\"],[0.7777777777777778,\"#fb9f3a\"],[0.8888888888888888,\"#fdca26\"],[1.0,\"#f0f921\"]],\"sequentialminus\":[[0.0,\"#0d0887\"],[0.1111111111111111,\"#46039f\"],[0.2222222222222222,\"#7201a8\"],[0.3333333333333333,\"#9c179e\"],[0.4444444444444444,\"#bd3786\"],[0.5555555555555556,\"#d8576b\"],[0.6666666666666666,\"#ed7953\"],[0.7777777777777778,\"#fb9f3a\"],[0.8888888888888888,\"#fdca26\"],[1.0,\"#f0f921\"]]},\"colorway\":[\"#636efa\",\"#EF553B\",\"#00cc96\",\"#ab63fa\",\"#FFA15A\",\"#19d3f3\",\"#FF6692\",\"#B6E880\",\"#FF97FF\",\"#FECB52\"],\"font\":{\"color\":\"#2a3f5f\"},\"geo\":{\"bgcolor\":\"white\",\"lakecolor\":\"white\",\"landcolor\":\"#E5ECF6\",\"showlakes\":true,\"showland\":true,\"subunitcolor\":\"white\"},\"hoverlabel\":{\"align\":\"left\"},\"hovermode\":\"closest\",\"mapbox\":{\"style\":\"light\"},\"paper_bgcolor\":\"white\",\"plot_bgcolor\":\"#E5ECF6\",\"polar\":{\"angularaxis\":{\"gridcolor\":\"white\",\"linecolor\":\"white\",\"ticks\":\"\"},\"bgcolor\":\"#E5ECF6\",\"radialaxis\":{\"gridcolor\":\"white\",\"linecolor\":\"white\",\"ticks\":\"\"}},\"scene\":{\"xaxis\":{\"backgroundcolor\":\"#E5ECF6\",\"gridcolor\":\"white\",\"gridwidth\":2,\"linecolor\":\"white\",\"showbackground\":true,\"ticks\":\"\",\"zerolinecolor\":\"white\"},\"yaxis\":{\"backgroundcolor\":\"#E5ECF6\",\"gridcolor\":\"white\",\"gridwidth\":2,\"linecolor\":\"white\",\"showbackground\":true,\"ticks\":\"\",\"zerolinecolor\":\"white\"},\"zaxis\":{\"backgroundcolor\":\"#E5ECF6\",\"gridcolor\":\"white\",\"gridwidth\":2,\"linecolor\":\"white\",\"showbackground\":true,\"ticks\":\"\",\"zerolinecolor\":\"white\"}},\"shapedefaults\":{\"line\":{\"color\":\"#2a3f5f\"}},\"ternary\":{\"aaxis\":{\"gridcolor\":\"white\",\"linecolor\":\"white\",\"ticks\":\"\"},\"baxis\":{\"gridcolor\":\"white\",\"linecolor\":\"white\",\"ticks\":\"\"},\"bgcolor\":\"#E5ECF6\",\"caxis\":{\"gridcolor\":\"white\",\"linecolor\":\"white\",\"ticks\":\"\"}},\"title\":{\"x\":0.05},\"xaxis\":{\"automargin\":true,\"gridcolor\":\"white\",\"linecolor\":\"white\",\"ticks\":\"\",\"title\":{\"standoff\":15},\"zerolinecolor\":\"white\",\"zerolinewidth\":2},\"yaxis\":{\"automargin\":true,\"gridcolor\":\"white\",\"linecolor\":\"white\",\"ticks\":\"\",\"title\":{\"standoff\":15},\"zerolinecolor\":\"white\",\"zerolinewidth\":2}}},\"xaxis\":{\"anchor\":\"y\",\"domain\":[0.0,1.0],\"title\":{\"text\":\"x\"}},\"yaxis\":{\"anchor\":\"x\",\"domain\":[0.0,1.0],\"title\":{\"text\":\"y\"}},\"legend\":{\"title\":{\"text\":\"num\"},\"tracegroupgap\":0},\"margin\":{\"t\":60}},                        {\"responsive\": true}                    ).then(function(){\n",
       "                            \n",
       "var gd = document.getElementById('0ad43a94-7ff5-4f1b-a8c8-184d4c5a1e06');\n",
       "var x = new MutationObserver(function (mutations, observer) {{\n",
       "        var display = window.getComputedStyle(gd).display;\n",
       "        if (!display || display === 'none') {{\n",
       "            console.log([gd, 'removed!']);\n",
       "            Plotly.purge(gd);\n",
       "            observer.disconnect();\n",
       "        }}\n",
       "}});\n",
       "\n",
       "// Listen for the removal of the full notebook cells\n",
       "var notebookContainer = gd.closest('#notebook-container');\n",
       "if (notebookContainer) {{\n",
       "    x.observe(notebookContainer, {childList: true});\n",
       "}}\n",
       "\n",
       "// Listen for the clearing of the current output cell\n",
       "var outputEl = gd.closest('.output');\n",
       "if (outputEl) {{\n",
       "    x.observe(outputEl, {childList: true});\n",
       "}}\n",
       "\n",
       "                        })                };                });            </script>        </div>"
      ]
     },
     "metadata": {},
     "output_type": "display_data"
    }
   ],
   "source": [
    "import plotly.graph_objects as go\n",
    "import plotly.express as px\n",
    "\n",
    "temp = []\n",
    "\n",
    "for idx, each in enumerate(usage):\n",
    "    for i in range(20):\n",
    "        temp.append((each[i][0], each[i][1], str(i), 47+idx*4))\n",
    "\n",
    "\n",
    "temp = pd.DataFrame(temp, columns = [\"x\",\"y\",\"num\",\"txt\"])\n",
    "temp\n",
    "\n",
    "fig = px.scatter(temp, x=\"x\", y=\"y\", color = \"num\", text=\"txt\")\n",
    "fig.update_traces(textposition=\"bottom right\")\n",
    "fig.show()\n",
    "\n",
    "#30~70. 2, 10, 14, 18, 22"
   ]
  },
  {
   "cell_type": "code",
   "execution_count": 44,
   "id": "e765876b-3ebd-4ad6-8702-2ad5c1d54d8f",
   "metadata": {},
   "outputs": [],
   "source": [
    " for each in tcv.oblimin_proc2_zs:\n",
    "\n",
    "     plt.topic_coor_plot(each)"
   ]
  },
  {
   "cell_type": "code",
   "execution_count": 42,
   "id": "ecdf9c40-a7db-481c-8976-9a5904e7064b",
   "metadata": {},
   "outputs": [
    {
     "data": {
      "application/vnd.plotly.v1+json": {
       "config": {
        "plotlyServerURL": "https://plot.ly"
       },
       "data": [
        {
         "hovertemplate": "topic_name=0<br>coordinate_1=%{x}<br>coordinate_2=%{y}<extra></extra>",
         "legendgroup": "0",
         "marker": {
          "color": "#636efa",
          "symbol": "circle"
         },
         "mode": "markers",
         "name": "0",
         "orientation": "v",
         "showlegend": true,
         "type": "scatter",
         "x": [
          1.1189075560233412
         ],
         "xaxis": "x",
         "y": [
          0.23823200312999485
         ],
         "yaxis": "y"
        },
        {
         "hovertemplate": "topic_name=1<br>coordinate_1=%{x}<br>coordinate_2=%{y}<extra></extra>",
         "legendgroup": "1",
         "marker": {
          "color": "#EF553B",
          "symbol": "circle"
         },
         "mode": "markers",
         "name": "1",
         "orientation": "v",
         "showlegend": true,
         "type": "scatter",
         "x": [
          0.07039511379924944
         ],
         "xaxis": "x",
         "y": [
          0.04792249538157766
         ],
         "yaxis": "y"
        },
        {
         "hovertemplate": "topic_name=2<br>coordinate_1=%{x}<br>coordinate_2=%{y}<extra></extra>",
         "legendgroup": "2",
         "marker": {
          "color": "#00cc96",
          "symbol": "circle"
         },
         "mode": "markers",
         "name": "2",
         "orientation": "v",
         "showlegend": true,
         "type": "scatter",
         "x": [
          0.07387365537101426
         ],
         "xaxis": "x",
         "y": [
          -0.4480415988927117
         ],
         "yaxis": "y"
        },
        {
         "hovertemplate": "topic_name=3<br>coordinate_1=%{x}<br>coordinate_2=%{y}<extra></extra>",
         "legendgroup": "3",
         "marker": {
          "color": "#ab63fa",
          "symbol": "circle"
         },
         "mode": "markers",
         "name": "3",
         "orientation": "v",
         "showlegend": true,
         "type": "scatter",
         "x": [
          -0.4451946392747659
         ],
         "xaxis": "x",
         "y": [
          0.5715557858370706
         ],
         "yaxis": "y"
        },
        {
         "hovertemplate": "topic_name=4<br>coordinate_1=%{x}<br>coordinate_2=%{y}<extra></extra>",
         "legendgroup": "4",
         "marker": {
          "color": "#FFA15A",
          "symbol": "circle"
         },
         "mode": "markers",
         "name": "4",
         "orientation": "v",
         "showlegend": true,
         "type": "scatter",
         "x": [
          0.25064053373327694
         ],
         "xaxis": "x",
         "y": [
          -0.00917163943096125
         ],
         "yaxis": "y"
        },
        {
         "hovertemplate": "topic_name=5<br>coordinate_1=%{x}<br>coordinate_2=%{y}<extra></extra>",
         "legendgroup": "5",
         "marker": {
          "color": "#19d3f3",
          "symbol": "circle"
         },
         "mode": "markers",
         "name": "5",
         "orientation": "v",
         "showlegend": true,
         "type": "scatter",
         "x": [
          -0.28852469826369076
         ],
         "xaxis": "x",
         "y": [
          0.1470491136211641
         ],
         "yaxis": "y"
        },
        {
         "hovertemplate": "topic_name=6<br>coordinate_1=%{x}<br>coordinate_2=%{y}<extra></extra>",
         "legendgroup": "6",
         "marker": {
          "color": "#FF6692",
          "symbol": "circle"
         },
         "mode": "markers",
         "name": "6",
         "orientation": "v",
         "showlegend": true,
         "type": "scatter",
         "x": [
          0.3057996179471365
         ],
         "xaxis": "x",
         "y": [
          -0.6139400478178625
         ],
         "yaxis": "y"
        },
        {
         "hovertemplate": "topic_name=7<br>coordinate_1=%{x}<br>coordinate_2=%{y}<extra></extra>",
         "legendgroup": "7",
         "marker": {
          "color": "#B6E880",
          "symbol": "circle"
         },
         "mode": "markers",
         "name": "7",
         "orientation": "v",
         "showlegend": true,
         "type": "scatter",
         "x": [
          -0.6891214893192505
         ],
         "xaxis": "x",
         "y": [
          -0.34446230466183
         ],
         "yaxis": "y"
        },
        {
         "hovertemplate": "topic_name=8<br>coordinate_1=%{x}<br>coordinate_2=%{y}<extra></extra>",
         "legendgroup": "8",
         "marker": {
          "color": "#FF97FF",
          "symbol": "circle"
         },
         "mode": "markers",
         "name": "8",
         "orientation": "v",
         "showlegend": true,
         "type": "scatter",
         "x": [
          0.27273831438456775
         ],
         "xaxis": "x",
         "y": [
          -0.3493391258957164
         ],
         "yaxis": "y"
        },
        {
         "hovertemplate": "topic_name=9<br>coordinate_1=%{x}<br>coordinate_2=%{y}<extra></extra>",
         "legendgroup": "9",
         "marker": {
          "color": "#FECB52",
          "symbol": "circle"
         },
         "mode": "markers",
         "name": "9",
         "orientation": "v",
         "showlegend": true,
         "type": "scatter",
         "x": [
          0.5774231998564292
         ],
         "xaxis": "x",
         "y": [
          0.07397875674448538
         ],
         "yaxis": "y"
        },
        {
         "hovertemplate": "topic_name=10<br>coordinate_1=%{x}<br>coordinate_2=%{y}<extra></extra>",
         "legendgroup": "10",
         "marker": {
          "color": "#636efa",
          "symbol": "circle"
         },
         "mode": "markers",
         "name": "10",
         "orientation": "v",
         "showlegend": true,
         "type": "scatter",
         "x": [
          -0.01429283005131444
         ],
         "xaxis": "x",
         "y": [
          -0.6164953915065454
         ],
         "yaxis": "y"
        },
        {
         "hovertemplate": "topic_name=11<br>coordinate_1=%{x}<br>coordinate_2=%{y}<extra></extra>",
         "legendgroup": "11",
         "marker": {
          "color": "#EF553B",
          "symbol": "circle"
         },
         "mode": "markers",
         "name": "11",
         "orientation": "v",
         "showlegend": true,
         "type": "scatter",
         "x": [
          -0.6289451312228811
         ],
         "xaxis": "x",
         "y": [
          0.2049530969553038
         ],
         "yaxis": "y"
        },
        {
         "hovertemplate": "topic_name=12<br>coordinate_1=%{x}<br>coordinate_2=%{y}<extra></extra>",
         "legendgroup": "12",
         "marker": {
          "color": "#00cc96",
          "symbol": "circle"
         },
         "mode": "markers",
         "name": "12",
         "orientation": "v",
         "showlegend": true,
         "type": "scatter",
         "x": [
          -0.06731681621380178
         ],
         "xaxis": "x",
         "y": [
          0.26893972216771195
         ],
         "yaxis": "y"
        },
        {
         "hovertemplate": "topic_name=13<br>coordinate_1=%{x}<br>coordinate_2=%{y}<extra></extra>",
         "legendgroup": "13",
         "marker": {
          "color": "#ab63fa",
          "symbol": "circle"
         },
         "mode": "markers",
         "name": "13",
         "orientation": "v",
         "showlegend": true,
         "type": "scatter",
         "x": [
          -0.17769536003304556
         ],
         "xaxis": "x",
         "y": [
          0.3210186534654806
         ],
         "yaxis": "y"
        },
        {
         "hovertemplate": "topic_name=14<br>coordinate_1=%{x}<br>coordinate_2=%{y}<extra></extra>",
         "legendgroup": "14",
         "marker": {
          "color": "#FFA15A",
          "symbol": "circle"
         },
         "mode": "markers",
         "name": "14",
         "orientation": "v",
         "showlegend": true,
         "type": "scatter",
         "x": [
          -0.11309125961893424
         ],
         "xaxis": "x",
         "y": [
          0.4283398461968409
         ],
         "yaxis": "y"
        },
        {
         "hovertemplate": "topic_name=15<br>coordinate_1=%{x}<br>coordinate_2=%{y}<extra></extra>",
         "legendgroup": "15",
         "marker": {
          "color": "#19d3f3",
          "symbol": "circle"
         },
         "mode": "markers",
         "name": "15",
         "orientation": "v",
         "showlegend": true,
         "type": "scatter",
         "x": [
          0.8616960845832577
         ],
         "xaxis": "x",
         "y": [
          0.17987943701950185
         ],
         "yaxis": "y"
        },
        {
         "hovertemplate": "topic_name=16<br>coordinate_1=%{x}<br>coordinate_2=%{y}<extra></extra>",
         "legendgroup": "16",
         "marker": {
          "color": "#FF6692",
          "symbol": "circle"
         },
         "mode": "markers",
         "name": "16",
         "orientation": "v",
         "showlegend": true,
         "type": "scatter",
         "x": [
          0.5231511232573248
         ],
         "xaxis": "x",
         "y": [
          0.15760536178966508
         ],
         "yaxis": "y"
        },
        {
         "hovertemplate": "topic_name=17<br>coordinate_1=%{x}<br>coordinate_2=%{y}<extra></extra>",
         "legendgroup": "17",
         "marker": {
          "color": "#B6E880",
          "symbol": "circle"
         },
         "mode": "markers",
         "name": "17",
         "orientation": "v",
         "showlegend": true,
         "type": "scatter",
         "x": [
          -0.2656983425551033
         ],
         "xaxis": "x",
         "y": [
          0.4492059629543402
         ],
         "yaxis": "y"
        },
        {
         "hovertemplate": "topic_name=18<br>coordinate_1=%{x}<br>coordinate_2=%{y}<extra></extra>",
         "legendgroup": "18",
         "marker": {
          "color": "#FF97FF",
          "symbol": "circle"
         },
         "mode": "markers",
         "name": "18",
         "orientation": "v",
         "showlegend": true,
         "type": "scatter",
         "x": [
          0.1090784161011413
         ],
         "xaxis": "x",
         "y": [
          -0.582834815654178
         ],
         "yaxis": "y"
        },
        {
         "hovertemplate": "topic_name=19<br>coordinate_1=%{x}<br>coordinate_2=%{y}<extra></extra>",
         "legendgroup": "19",
         "marker": {
          "color": "#FECB52",
          "symbol": "circle"
         },
         "mode": "markers",
         "name": "19",
         "orientation": "v",
         "showlegend": true,
         "type": "scatter",
         "x": [
          0.5734823229451738
         ],
         "xaxis": "x",
         "y": [
          0.3497723745005189
         ],
         "yaxis": "y"
        }
       ],
       "layout": {
        "autosize": true,
        "legend": {
         "title": {
          "text": "topic_name"
         },
         "tracegroupgap": 0
        },
        "margin": {
         "t": 60
        },
        "template": {
         "data": {
          "bar": [
           {
            "error_x": {
             "color": "#2a3f5f"
            },
            "error_y": {
             "color": "#2a3f5f"
            },
            "marker": {
             "line": {
              "color": "#E5ECF6",
              "width": 0.5
             },
             "pattern": {
              "fillmode": "overlay",
              "size": 10,
              "solidity": 0.2
             }
            },
            "type": "bar"
           }
          ],
          "barpolar": [
           {
            "marker": {
             "line": {
              "color": "#E5ECF6",
              "width": 0.5
             },
             "pattern": {
              "fillmode": "overlay",
              "size": 10,
              "solidity": 0.2
             }
            },
            "type": "barpolar"
           }
          ],
          "carpet": [
           {
            "aaxis": {
             "endlinecolor": "#2a3f5f",
             "gridcolor": "white",
             "linecolor": "white",
             "minorgridcolor": "white",
             "startlinecolor": "#2a3f5f"
            },
            "baxis": {
             "endlinecolor": "#2a3f5f",
             "gridcolor": "white",
             "linecolor": "white",
             "minorgridcolor": "white",
             "startlinecolor": "#2a3f5f"
            },
            "type": "carpet"
           }
          ],
          "choropleth": [
           {
            "colorbar": {
             "outlinewidth": 0,
             "ticks": ""
            },
            "type": "choropleth"
           }
          ],
          "contour": [
           {
            "colorbar": {
             "outlinewidth": 0,
             "ticks": ""
            },
            "colorscale": [
             [
              0,
              "#0d0887"
             ],
             [
              0.1111111111111111,
              "#46039f"
             ],
             [
              0.2222222222222222,
              "#7201a8"
             ],
             [
              0.3333333333333333,
              "#9c179e"
             ],
             [
              0.4444444444444444,
              "#bd3786"
             ],
             [
              0.5555555555555556,
              "#d8576b"
             ],
             [
              0.6666666666666666,
              "#ed7953"
             ],
             [
              0.7777777777777778,
              "#fb9f3a"
             ],
             [
              0.8888888888888888,
              "#fdca26"
             ],
             [
              1,
              "#f0f921"
             ]
            ],
            "type": "contour"
           }
          ],
          "contourcarpet": [
           {
            "colorbar": {
             "outlinewidth": 0,
             "ticks": ""
            },
            "type": "contourcarpet"
           }
          ],
          "heatmap": [
           {
            "colorbar": {
             "outlinewidth": 0,
             "ticks": ""
            },
            "colorscale": [
             [
              0,
              "#0d0887"
             ],
             [
              0.1111111111111111,
              "#46039f"
             ],
             [
              0.2222222222222222,
              "#7201a8"
             ],
             [
              0.3333333333333333,
              "#9c179e"
             ],
             [
              0.4444444444444444,
              "#bd3786"
             ],
             [
              0.5555555555555556,
              "#d8576b"
             ],
             [
              0.6666666666666666,
              "#ed7953"
             ],
             [
              0.7777777777777778,
              "#fb9f3a"
             ],
             [
              0.8888888888888888,
              "#fdca26"
             ],
             [
              1,
              "#f0f921"
             ]
            ],
            "type": "heatmap"
           }
          ],
          "heatmapgl": [
           {
            "colorbar": {
             "outlinewidth": 0,
             "ticks": ""
            },
            "colorscale": [
             [
              0,
              "#0d0887"
             ],
             [
              0.1111111111111111,
              "#46039f"
             ],
             [
              0.2222222222222222,
              "#7201a8"
             ],
             [
              0.3333333333333333,
              "#9c179e"
             ],
             [
              0.4444444444444444,
              "#bd3786"
             ],
             [
              0.5555555555555556,
              "#d8576b"
             ],
             [
              0.6666666666666666,
              "#ed7953"
             ],
             [
              0.7777777777777778,
              "#fb9f3a"
             ],
             [
              0.8888888888888888,
              "#fdca26"
             ],
             [
              1,
              "#f0f921"
             ]
            ],
            "type": "heatmapgl"
           }
          ],
          "histogram": [
           {
            "marker": {
             "pattern": {
              "fillmode": "overlay",
              "size": 10,
              "solidity": 0.2
             }
            },
            "type": "histogram"
           }
          ],
          "histogram2d": [
           {
            "colorbar": {
             "outlinewidth": 0,
             "ticks": ""
            },
            "colorscale": [
             [
              0,
              "#0d0887"
             ],
             [
              0.1111111111111111,
              "#46039f"
             ],
             [
              0.2222222222222222,
              "#7201a8"
             ],
             [
              0.3333333333333333,
              "#9c179e"
             ],
             [
              0.4444444444444444,
              "#bd3786"
             ],
             [
              0.5555555555555556,
              "#d8576b"
             ],
             [
              0.6666666666666666,
              "#ed7953"
             ],
             [
              0.7777777777777778,
              "#fb9f3a"
             ],
             [
              0.8888888888888888,
              "#fdca26"
             ],
             [
              1,
              "#f0f921"
             ]
            ],
            "type": "histogram2d"
           }
          ],
          "histogram2dcontour": [
           {
            "colorbar": {
             "outlinewidth": 0,
             "ticks": ""
            },
            "colorscale": [
             [
              0,
              "#0d0887"
             ],
             [
              0.1111111111111111,
              "#46039f"
             ],
             [
              0.2222222222222222,
              "#7201a8"
             ],
             [
              0.3333333333333333,
              "#9c179e"
             ],
             [
              0.4444444444444444,
              "#bd3786"
             ],
             [
              0.5555555555555556,
              "#d8576b"
             ],
             [
              0.6666666666666666,
              "#ed7953"
             ],
             [
              0.7777777777777778,
              "#fb9f3a"
             ],
             [
              0.8888888888888888,
              "#fdca26"
             ],
             [
              1,
              "#f0f921"
             ]
            ],
            "type": "histogram2dcontour"
           }
          ],
          "mesh3d": [
           {
            "colorbar": {
             "outlinewidth": 0,
             "ticks": ""
            },
            "type": "mesh3d"
           }
          ],
          "parcoords": [
           {
            "line": {
             "colorbar": {
              "outlinewidth": 0,
              "ticks": ""
             }
            },
            "type": "parcoords"
           }
          ],
          "pie": [
           {
            "automargin": true,
            "type": "pie"
           }
          ],
          "scatter": [
           {
            "marker": {
             "colorbar": {
              "outlinewidth": 0,
              "ticks": ""
             }
            },
            "type": "scatter"
           }
          ],
          "scatter3d": [
           {
            "line": {
             "colorbar": {
              "outlinewidth": 0,
              "ticks": ""
             }
            },
            "marker": {
             "colorbar": {
              "outlinewidth": 0,
              "ticks": ""
             }
            },
            "type": "scatter3d"
           }
          ],
          "scattercarpet": [
           {
            "marker": {
             "colorbar": {
              "outlinewidth": 0,
              "ticks": ""
             }
            },
            "type": "scattercarpet"
           }
          ],
          "scattergeo": [
           {
            "marker": {
             "colorbar": {
              "outlinewidth": 0,
              "ticks": ""
             }
            },
            "type": "scattergeo"
           }
          ],
          "scattergl": [
           {
            "marker": {
             "colorbar": {
              "outlinewidth": 0,
              "ticks": ""
             }
            },
            "type": "scattergl"
           }
          ],
          "scattermapbox": [
           {
            "marker": {
             "colorbar": {
              "outlinewidth": 0,
              "ticks": ""
             }
            },
            "type": "scattermapbox"
           }
          ],
          "scatterpolar": [
           {
            "marker": {
             "colorbar": {
              "outlinewidth": 0,
              "ticks": ""
             }
            },
            "type": "scatterpolar"
           }
          ],
          "scatterpolargl": [
           {
            "marker": {
             "colorbar": {
              "outlinewidth": 0,
              "ticks": ""
             }
            },
            "type": "scatterpolargl"
           }
          ],
          "scatterternary": [
           {
            "marker": {
             "colorbar": {
              "outlinewidth": 0,
              "ticks": ""
             }
            },
            "type": "scatterternary"
           }
          ],
          "surface": [
           {
            "colorbar": {
             "outlinewidth": 0,
             "ticks": ""
            },
            "colorscale": [
             [
              0,
              "#0d0887"
             ],
             [
              0.1111111111111111,
              "#46039f"
             ],
             [
              0.2222222222222222,
              "#7201a8"
             ],
             [
              0.3333333333333333,
              "#9c179e"
             ],
             [
              0.4444444444444444,
              "#bd3786"
             ],
             [
              0.5555555555555556,
              "#d8576b"
             ],
             [
              0.6666666666666666,
              "#ed7953"
             ],
             [
              0.7777777777777778,
              "#fb9f3a"
             ],
             [
              0.8888888888888888,
              "#fdca26"
             ],
             [
              1,
              "#f0f921"
             ]
            ],
            "type": "surface"
           }
          ],
          "table": [
           {
            "cells": {
             "fill": {
              "color": "#EBF0F8"
             },
             "line": {
              "color": "white"
             }
            },
            "header": {
             "fill": {
              "color": "#C8D4E3"
             },
             "line": {
              "color": "white"
             }
            },
            "type": "table"
           }
          ]
         },
         "layout": {
          "annotationdefaults": {
           "arrowcolor": "#2a3f5f",
           "arrowhead": 0,
           "arrowwidth": 1
          },
          "autotypenumbers": "strict",
          "coloraxis": {
           "colorbar": {
            "outlinewidth": 0,
            "ticks": ""
           }
          },
          "colorscale": {
           "diverging": [
            [
             0,
             "#8e0152"
            ],
            [
             0.1,
             "#c51b7d"
            ],
            [
             0.2,
             "#de77ae"
            ],
            [
             0.3,
             "#f1b6da"
            ],
            [
             0.4,
             "#fde0ef"
            ],
            [
             0.5,
             "#f7f7f7"
            ],
            [
             0.6,
             "#e6f5d0"
            ],
            [
             0.7,
             "#b8e186"
            ],
            [
             0.8,
             "#7fbc41"
            ],
            [
             0.9,
             "#4d9221"
            ],
            [
             1,
             "#276419"
            ]
           ],
           "sequential": [
            [
             0,
             "#0d0887"
            ],
            [
             0.1111111111111111,
             "#46039f"
            ],
            [
             0.2222222222222222,
             "#7201a8"
            ],
            [
             0.3333333333333333,
             "#9c179e"
            ],
            [
             0.4444444444444444,
             "#bd3786"
            ],
            [
             0.5555555555555556,
             "#d8576b"
            ],
            [
             0.6666666666666666,
             "#ed7953"
            ],
            [
             0.7777777777777778,
             "#fb9f3a"
            ],
            [
             0.8888888888888888,
             "#fdca26"
            ],
            [
             1,
             "#f0f921"
            ]
           ],
           "sequentialminus": [
            [
             0,
             "#0d0887"
            ],
            [
             0.1111111111111111,
             "#46039f"
            ],
            [
             0.2222222222222222,
             "#7201a8"
            ],
            [
             0.3333333333333333,
             "#9c179e"
            ],
            [
             0.4444444444444444,
             "#bd3786"
            ],
            [
             0.5555555555555556,
             "#d8576b"
            ],
            [
             0.6666666666666666,
             "#ed7953"
            ],
            [
             0.7777777777777778,
             "#fb9f3a"
            ],
            [
             0.8888888888888888,
             "#fdca26"
            ],
            [
             1,
             "#f0f921"
            ]
           ]
          },
          "colorway": [
           "#636efa",
           "#EF553B",
           "#00cc96",
           "#ab63fa",
           "#FFA15A",
           "#19d3f3",
           "#FF6692",
           "#B6E880",
           "#FF97FF",
           "#FECB52"
          ],
          "font": {
           "color": "#2a3f5f"
          },
          "geo": {
           "bgcolor": "white",
           "lakecolor": "white",
           "landcolor": "#E5ECF6",
           "showlakes": true,
           "showland": true,
           "subunitcolor": "white"
          },
          "hoverlabel": {
           "align": "left"
          },
          "hovermode": "closest",
          "mapbox": {
           "style": "light"
          },
          "paper_bgcolor": "white",
          "plot_bgcolor": "#E5ECF6",
          "polar": {
           "angularaxis": {
            "gridcolor": "white",
            "linecolor": "white",
            "ticks": ""
           },
           "bgcolor": "#E5ECF6",
           "radialaxis": {
            "gridcolor": "white",
            "linecolor": "white",
            "ticks": ""
           }
          },
          "scene": {
           "xaxis": {
            "backgroundcolor": "#E5ECF6",
            "gridcolor": "white",
            "gridwidth": 2,
            "linecolor": "white",
            "showbackground": true,
            "ticks": "",
            "zerolinecolor": "white"
           },
           "yaxis": {
            "backgroundcolor": "#E5ECF6",
            "gridcolor": "white",
            "gridwidth": 2,
            "linecolor": "white",
            "showbackground": true,
            "ticks": "",
            "zerolinecolor": "white"
           },
           "zaxis": {
            "backgroundcolor": "#E5ECF6",
            "gridcolor": "white",
            "gridwidth": 2,
            "linecolor": "white",
            "showbackground": true,
            "ticks": "",
            "zerolinecolor": "white"
           }
          },
          "shapedefaults": {
           "line": {
            "color": "#2a3f5f"
           }
          },
          "ternary": {
           "aaxis": {
            "gridcolor": "white",
            "linecolor": "white",
            "ticks": ""
           },
           "baxis": {
            "gridcolor": "white",
            "linecolor": "white",
            "ticks": ""
           },
           "bgcolor": "#E5ECF6",
           "caxis": {
            "gridcolor": "white",
            "linecolor": "white",
            "ticks": ""
           }
          },
          "title": {
           "x": 0.05
          },
          "xaxis": {
           "automargin": true,
           "gridcolor": "white",
           "linecolor": "white",
           "ticks": "",
           "title": {
            "standoff": 15
           },
           "zerolinecolor": "white",
           "zerolinewidth": 2
          },
          "yaxis": {
           "automargin": true,
           "gridcolor": "white",
           "linecolor": "white",
           "ticks": "",
           "title": {
            "standoff": 15
           },
           "zerolinecolor": "white",
           "zerolinewidth": 2
          }
         }
        },
        "xaxis": {
         "anchor": "y",
         "domain": [
          0,
          1
         ],
         "range": [
          -1.4189075560233413,
          1.4189075560233413
         ],
         "title": {
          "text": "coordinate_1"
         },
         "type": "linear",
         "zeroline": true,
         "zerolinecolor": "gray"
        },
        "yaxis": {
         "anchor": "x",
         "domain": [
          0,
          1
         ],
         "range": [
          -0.9164953915065455,
          0.9164953915065455
         ],
         "title": {
          "text": "coordinate_2"
         },
         "type": "linear",
         "zeroline": true,
         "zerolinecolor": "gray"
        }
       }
      },
      "image/png": "[encoded data removed]",
      "text/html": [
       "<div>                            <div id=\"88cf3889-6a71-4e72-bdf4-1652e41452d3\" class=\"plotly-graph-div\" style=\"height:525px; width:100%;\"></div>            <script type=\"text/javascript\">                require([\"plotly\"], function(Plotly) {                    window.PLOTLYENV=window.PLOTLYENV || {};                                    if (document.getElementById(\"88cf3889-6a71-4e72-bdf4-1652e41452d3\")) {                    Plotly.newPlot(                        \"88cf3889-6a71-4e72-bdf4-1652e41452d3\",                        [{\"hovertemplate\":\"topic_name=0<br>coordinate_1=%{x}<br>coordinate_2=%{y}<extra></extra>\",\"legendgroup\":\"0\",\"marker\":{\"color\":\"#636efa\",\"symbol\":\"circle\"},\"mode\":\"markers\",\"name\":\"0\",\"orientation\":\"v\",\"showlegend\":true,\"x\":[1.1189075560233412],\"xaxis\":\"x\",\"y\":[0.23823200312999485],\"yaxis\":\"y\",\"type\":\"scatter\"},{\"hovertemplate\":\"topic_name=1<br>coordinate_1=%{x}<br>coordinate_2=%{y}<extra></extra>\",\"legendgroup\":\"1\",\"marker\":{\"color\":\"#EF553B\",\"symbol\":\"circle\"},\"mode\":\"markers\",\"name\":\"1\",\"orientation\":\"v\",\"showlegend\":true,\"x\":[0.07039511379924944],\"xaxis\":\"x\",\"y\":[0.04792249538157766],\"yaxis\":\"y\",\"type\":\"scatter\"},{\"hovertemplate\":\"topic_name=2<br>coordinate_1=%{x}<br>coordinate_2=%{y}<extra></extra>\",\"legendgroup\":\"2\",\"marker\":{\"color\":\"#00cc96\",\"symbol\":\"circle\"},\"mode\":\"markers\",\"name\":\"2\",\"orientation\":\"v\",\"showlegend\":true,\"x\":[0.07387365537101426],\"xaxis\":\"x\",\"y\":[-0.4480415988927117],\"yaxis\":\"y\",\"type\":\"scatter\"},{\"hovertemplate\":\"topic_name=3<br>coordinate_1=%{x}<br>coordinate_2=%{y}<extra></extra>\",\"legendgroup\":\"3\",\"marker\":{\"color\":\"#ab63fa\",\"symbol\":\"circle\"},\"mode\":\"markers\",\"name\":\"3\",\"orientation\":\"v\",\"showlegend\":true,\"x\":[-0.4451946392747659],\"xaxis\":\"x\",\"y\":[0.5715557858370706],\"yaxis\":\"y\",\"type\":\"scatter\"},{\"hovertemplate\":\"topic_name=4<br>coordinate_1=%{x}<br>coordinate_2=%{y}<extra></extra>\",\"legendgroup\":\"4\",\"marker\":{\"color\":\"#FFA15A\",\"symbol\":\"circle\"},\"mode\":\"markers\",\"name\":\"4\",\"orientation\":\"v\",\"showlegend\":true,\"x\":[0.25064053373327694],\"xaxis\":\"x\",\"y\":[-0.00917163943096125],\"yaxis\":\"y\",\"type\":\"scatter\"},{\"hovertemplate\":\"topic_name=5<br>coordinate_1=%{x}<br>coordinate_2=%{y}<extra></extra>\",\"legendgroup\":\"5\",\"marker\":{\"color\":\"#19d3f3\",\"symbol\":\"circle\"},\"mode\":\"markers\",\"name\":\"5\",\"orientation\":\"v\",\"showlegend\":true,\"x\":[-0.28852469826369076],\"xaxis\":\"x\",\"y\":[0.1470491136211641],\"yaxis\":\"y\",\"type\":\"scatter\"},{\"hovertemplate\":\"topic_name=6<br>coordinate_1=%{x}<br>coordinate_2=%{y}<extra></extra>\",\"legendgroup\":\"6\",\"marker\":{\"color\":\"#FF6692\",\"symbol\":\"circle\"},\"mode\":\"markers\",\"name\":\"6\",\"orientation\":\"v\",\"showlegend\":true,\"x\":[0.3057996179471365],\"xaxis\":\"x\",\"y\":[-0.6139400478178625],\"yaxis\":\"y\",\"type\":\"scatter\"},{\"hovertemplate\":\"topic_name=7<br>coordinate_1=%{x}<br>coordinate_2=%{y}<extra></extra>\",\"legendgroup\":\"7\",\"marker\":{\"color\":\"#B6E880\",\"symbol\":\"circle\"},\"mode\":\"markers\",\"name\":\"7\",\"orientation\":\"v\",\"showlegend\":true,\"x\":[-0.6891214893192505],\"xaxis\":\"x\",\"y\":[-0.34446230466183],\"yaxis\":\"y\",\"type\":\"scatter\"},{\"hovertemplate\":\"topic_name=8<br>coordinate_1=%{x}<br>coordinate_2=%{y}<extra></extra>\",\"legendgroup\":\"8\",\"marker\":{\"color\":\"#FF97FF\",\"symbol\":\"circle\"},\"mode\":\"markers\",\"name\":\"8\",\"orientation\":\"v\",\"showlegend\":true,\"x\":[0.27273831438456775],\"xaxis\":\"x\",\"y\":[-0.3493391258957164],\"yaxis\":\"y\",\"type\":\"scatter\"},{\"hovertemplate\":\"topic_name=9<br>coordinate_1=%{x}<br>coordinate_2=%{y}<extra></extra>\",\"legendgroup\":\"9\",\"marker\":{\"color\":\"#FECB52\",\"symbol\":\"circle\"},\"mode\":\"markers\",\"name\":\"9\",\"orientation\":\"v\",\"showlegend\":true,\"x\":[0.5774231998564292],\"xaxis\":\"x\",\"y\":[0.07397875674448538],\"yaxis\":\"y\",\"type\":\"scatter\"},{\"hovertemplate\":\"topic_name=10<br>coordinate_1=%{x}<br>coordinate_2=%{y}<extra></extra>\",\"legendgroup\":\"10\",\"marker\":{\"color\":\"#636efa\",\"symbol\":\"circle\"},\"mode\":\"markers\",\"name\":\"10\",\"orientation\":\"v\",\"showlegend\":true,\"x\":[-0.01429283005131444],\"xaxis\":\"x\",\"y\":[-0.6164953915065454],\"yaxis\":\"y\",\"type\":\"scatter\"},{\"hovertemplate\":\"topic_name=11<br>coordinate_1=%{x}<br>coordinate_2=%{y}<extra></extra>\",\"legendgroup\":\"11\",\"marker\":{\"color\":\"#EF553B\",\"symbol\":\"circle\"},\"mode\":\"markers\",\"name\":\"11\",\"orientation\":\"v\",\"showlegend\":true,\"x\":[-0.6289451312228811],\"xaxis\":\"x\",\"y\":[0.2049530969553038],\"yaxis\":\"y\",\"type\":\"scatter\"},{\"hovertemplate\":\"topic_name=12<br>coordinate_1=%{x}<br>coordinate_2=%{y}<extra></extra>\",\"legendgroup\":\"12\",\"marker\":{\"color\":\"#00cc96\",\"symbol\":\"circle\"},\"mode\":\"markers\",\"name\":\"12\",\"orientation\":\"v\",\"showlegend\":true,\"x\":[-0.06731681621380178],\"xaxis\":\"x\",\"y\":[0.26893972216771195],\"yaxis\":\"y\",\"type\":\"scatter\"},{\"hovertemplate\":\"topic_name=13<br>coordinate_1=%{x}<br>coordinate_2=%{y}<extra></extra>\",\"legendgroup\":\"13\",\"marker\":{\"color\":\"#ab63fa\",\"symbol\":\"circle\"},\"mode\":\"markers\",\"name\":\"13\",\"orientation\":\"v\",\"showlegend\":true,\"x\":[-0.17769536003304556],\"xaxis\":\"x\",\"y\":[0.3210186534654806],\"yaxis\":\"y\",\"type\":\"scatter\"},{\"hovertemplate\":\"topic_name=14<br>coordinate_1=%{x}<br>coordinate_2=%{y}<extra></extra>\",\"legendgroup\":\"14\",\"marker\":{\"color\":\"#FFA15A\",\"symbol\":\"circle\"},\"mode\":\"markers\",\"name\":\"14\",\"orientation\":\"v\",\"showlegend\":true,\"x\":[-0.11309125961893424],\"xaxis\":\"x\",\"y\":[0.4283398461968409],\"yaxis\":\"y\",\"type\":\"scatter\"},{\"hovertemplate\":\"topic_name=15<br>coordinate_1=%{x}<br>coordinate_2=%{y}<extra></extra>\",\"legendgroup\":\"15\",\"marker\":{\"color\":\"#19d3f3\",\"symbol\":\"circle\"},\"mode\":\"markers\",\"name\":\"15\",\"orientation\":\"v\",\"showlegend\":true,\"x\":[0.8616960845832577],\"xaxis\":\"x\",\"y\":[0.17987943701950185],\"yaxis\":\"y\",\"type\":\"scatter\"},{\"hovertemplate\":\"topic_name=16<br>coordinate_1=%{x}<br>coordinate_2=%{y}<extra></extra>\",\"legendgroup\":\"16\",\"marker\":{\"color\":\"#FF6692\",\"symbol\":\"circle\"},\"mode\":\"markers\",\"name\":\"16\",\"orientation\":\"v\",\"showlegend\":true,\"x\":[0.5231511232573248],\"xaxis\":\"x\",\"y\":[0.15760536178966508],\"yaxis\":\"y\",\"type\":\"scatter\"},{\"hovertemplate\":\"topic_name=17<br>coordinate_1=%{x}<br>coordinate_2=%{y}<extra></extra>\",\"legendgroup\":\"17\",\"marker\":{\"color\":\"#B6E880\",\"symbol\":\"circle\"},\"mode\":\"markers\",\"name\":\"17\",\"orientation\":\"v\",\"showlegend\":true,\"x\":[-0.2656983425551033],\"xaxis\":\"x\",\"y\":[0.4492059629543402],\"yaxis\":\"y\",\"type\":\"scatter\"},{\"hovertemplate\":\"topic_name=18<br>coordinate_1=%{x}<br>coordinate_2=%{y}<extra></extra>\",\"legendgroup\":\"18\",\"marker\":{\"color\":\"#FF97FF\",\"symbol\":\"circle\"},\"mode\":\"markers\",\"name\":\"18\",\"orientation\":\"v\",\"showlegend\":true,\"x\":[0.1090784161011413],\"xaxis\":\"x\",\"y\":[-0.582834815654178],\"yaxis\":\"y\",\"type\":\"scatter\"},{\"hovertemplate\":\"topic_name=19<br>coordinate_1=%{x}<br>coordinate_2=%{y}<extra></extra>\",\"legendgroup\":\"19\",\"marker\":{\"color\":\"#FECB52\",\"symbol\":\"circle\"},\"mode\":\"markers\",\"name\":\"19\",\"orientation\":\"v\",\"showlegend\":true,\"x\":[0.5734823229451738],\"xaxis\":\"x\",\"y\":[0.3497723745005189],\"yaxis\":\"y\",\"type\":\"scatter\"}],                        {\"template\":{\"data\":{\"bar\":[{\"error_x\":{\"color\":\"#2a3f5f\"},\"error_y\":{\"color\":\"#2a3f5f\"},\"marker\":{\"line\":{\"color\":\"#E5ECF6\",\"width\":0.5},\"pattern\":{\"fillmode\":\"overlay\",\"size\":10,\"solidity\":0.2}},\"type\":\"bar\"}],\"barpolar\":[{\"marker\":{\"line\":{\"color\":\"#E5ECF6\",\"width\":0.5},\"pattern\":{\"fillmode\":\"overlay\",\"size\":10,\"solidity\":0.2}},\"type\":\"barpolar\"}],\"carpet\":[{\"aaxis\":{\"endlinecolor\":\"#2a3f5f\",\"gridcolor\":\"white\",\"linecolor\":\"white\",\"minorgridcolor\":\"white\",\"startlinecolor\":\"#2a3f5f\"},\"baxis\":{\"endlinecolor\":\"#2a3f5f\",\"gridcolor\":\"white\",\"linecolor\":\"white\",\"minorgridcolor\":\"white\",\"startlinecolor\":\"#2a3f5f\"},\"type\":\"carpet\"}],\"choropleth\":[{\"colorbar\":{\"outlinewidth\":0,\"ticks\":\"\"},\"type\":\"choropleth\"}],\"contour\":[{\"colorbar\":{\"outlinewidth\":0,\"ticks\":\"\"},\"colorscale\":[[0.0,\"#0d0887\"],[0.1111111111111111,\"#46039f\"],[0.2222222222222222,\"#7201a8\"],[0.3333333333333333,\"#9c179e\"],[0.4444444444444444,\"#bd3786\"],[0.5555555555555556,\"#d8576b\"],[0.6666666666666666,\"#ed7953\"],[0.7777777777777778,\"#fb9f3a\"],[0.8888888888888888,\"#fdca26\"],[1.0,\"#f0f921\"]],\"type\":\"contour\"}],\"contourcarpet\":[{\"colorbar\":{\"outlinewidth\":0,\"ticks\":\"\"},\"type\":\"contourcarpet\"}],\"heatmap\":[{\"colorbar\":{\"outlinewidth\":0,\"ticks\":\"\"},\"colorscale\":[[0.0,\"#0d0887\"],[0.1111111111111111,\"#46039f\"],[0.2222222222222222,\"#7201a8\"],[0.3333333333333333,\"#9c179e\"],[0.4444444444444444,\"#bd3786\"],[0.5555555555555556,\"#d8576b\"],[0.6666666666666666,\"#ed7953\"],[0.7777777777777778,\"#fb9f3a\"],[0.8888888888888888,\"#fdca26\"],[1.0,\"#f0f921\"]],\"type\":\"heatmap\"}],\"heatmapgl\":[{\"colorbar\":{\"outlinewidth\":0,\"ticks\":\"\"},\"colorscale\":[[0.0,\"#0d0887\"],[0.1111111111111111,\"#46039f\"],[0.2222222222222222,\"#7201a8\"],[0.3333333333333333,\"#9c179e\"],[0.4444444444444444,\"#bd3786\"],[0.5555555555555556,\"#d8576b\"],[0.6666666666666666,\"#ed7953\"],[0.7777777777777778,\"#fb9f3a\"],[0.8888888888888888,\"#fdca26\"],[1.0,\"#f0f921\"]],\"type\":\"heatmapgl\"}],\"histogram\":[{\"marker\":{\"pattern\":{\"fillmode\":\"overlay\",\"size\":10,\"solidity\":0.2}},\"type\":\"histogram\"}],\"histogram2d\":[{\"colorbar\":{\"outlinewidth\":0,\"ticks\":\"\"},\"colorscale\":[[0.0,\"#0d0887\"],[0.1111111111111111,\"#46039f\"],[0.2222222222222222,\"#7201a8\"],[0.3333333333333333,\"#9c179e\"],[0.4444444444444444,\"#bd3786\"],[0.5555555555555556,\"#d8576b\"],[0.6666666666666666,\"#ed7953\"],[0.7777777777777778,\"#fb9f3a\"],[0.8888888888888888,\"#fdca26\"],[1.0,\"#f0f921\"]],\"type\":\"histogram2d\"}],\"histogram2dcontour\":[{\"colorbar\":{\"outlinewidth\":0,\"ticks\":\"\"},\"colorscale\":[[0.0,\"#0d0887\"],[0.1111111111111111,\"#46039f\"],[0.2222222222222222,\"#7201a8\"],[0.3333333333333333,\"#9c179e\"],[0.4444444444444444,\"#bd3786\"],[0.5555555555555556,\"#d8576b\"],[0.6666666666666666,\"#ed7953\"],[0.7777777777777778,\"#fb9f3a\"],[0.8888888888888888,\"#fdca26\"],[1.0,\"#f0f921\"]],\"type\":\"histogram2dcontour\"}],\"mesh3d\":[{\"colorbar\":{\"outlinewidth\":0,\"ticks\":\"\"},\"type\":\"mesh3d\"}],\"parcoords\":[{\"line\":{\"colorbar\":{\"outlinewidth\":0,\"ticks\":\"\"}},\"type\":\"parcoords\"}],\"pie\":[{\"automargin\":true,\"type\":\"pie\"}],\"scatter\":[{\"marker\":{\"colorbar\":{\"outlinewidth\":0,\"ticks\":\"\"}},\"type\":\"scatter\"}],\"scatter3d\":[{\"line\":{\"colorbar\":{\"outlinewidth\":0,\"ticks\":\"\"}},\"marker\":{\"colorbar\":{\"outlinewidth\":0,\"ticks\":\"\"}},\"type\":\"scatter3d\"}],\"scattercarpet\":[{\"marker\":{\"colorbar\":{\"outlinewidth\":0,\"ticks\":\"\"}},\"type\":\"scattercarpet\"}],\"scattergeo\":[{\"marker\":{\"colorbar\":{\"outlinewidth\":0,\"ticks\":\"\"}},\"type\":\"scattergeo\"}],\"scattergl\":[{\"marker\":{\"colorbar\":{\"outlinewidth\":0,\"ticks\":\"\"}},\"type\":\"scattergl\"}],\"scattermapbox\":[{\"marker\":{\"colorbar\":{\"outlinewidth\":0,\"ticks\":\"\"}},\"type\":\"scattermapbox\"}],\"scatterpolar\":[{\"marker\":{\"colorbar\":{\"outlinewidth\":0,\"ticks\":\"\"}},\"type\":\"scatterpolar\"}],\"scatterpolargl\":[{\"marker\":{\"colorbar\":{\"outlinewidth\":0,\"ticks\":\"\"}},\"type\":\"scatterpolargl\"}],\"scatterternary\":[{\"marker\":{\"colorbar\":{\"outlinewidth\":0,\"ticks\":\"\"}},\"type\":\"scatterternary\"}],\"surface\":[{\"colorbar\":{\"outlinewidth\":0,\"ticks\":\"\"},\"colorscale\":[[0.0,\"#0d0887\"],[0.1111111111111111,\"#46039f\"],[0.2222222222222222,\"#7201a8\"],[0.3333333333333333,\"#9c179e\"],[0.4444444444444444,\"#bd3786\"],[0.5555555555555556,\"#d8576b\"],[0.6666666666666666,\"#ed7953\"],[0.7777777777777778,\"#fb9f3a\"],[0.8888888888888888,\"#fdca26\"],[1.0,\"#f0f921\"]],\"type\":\"surface\"}],\"table\":[{\"cells\":{\"fill\":{\"color\":\"#EBF0F8\"},\"line\":{\"color\":\"white\"}},\"header\":{\"fill\":{\"color\":\"#C8D4E3\"},\"line\":{\"color\":\"white\"}},\"type\":\"table\"}]},\"layout\":{\"annotationdefaults\":{\"arrowcolor\":\"#2a3f5f\",\"arrowhead\":0,\"arrowwidth\":1},\"autotypenumbers\":\"strict\",\"coloraxis\":{\"colorbar\":{\"outlinewidth\":0,\"ticks\":\"\"}},\"colorscale\":{\"diverging\":[[0,\"#8e0152\"],[0.1,\"#c51b7d\"],[0.2,\"#de77ae\"],[0.3,\"#f1b6da\"],[0.4,\"#fde0ef\"],[0.5,\"#f7f7f7\"],[0.6,\"#e6f5d0\"],[0.7,\"#b8e186\"],[0.8,\"#7fbc41\"],[0.9,\"#4d9221\"],[1,\"#276419\"]],\"sequential\":[[0.0,\"#0d0887\"],[0.1111111111111111,\"#46039f\"],[0.2222222222222222,\"#7201a8\"],[0.3333333333333333,\"#9c179e\"],[0.4444444444444444,\"#bd3786\"],[0.5555555555555556,\"#d8576b\"],[0.6666666666666666,\"#ed7953\"],[0.7777777777777778,\"#fb9f3a\"],[0.8888888888888888,\"#fdca26\"],[1.0,\"#f0f921\"]],\"sequentialminus\":[[0.0,\"#0d0887\"],[0.1111111111111111,\"#46039f\"],[0.2222222222222222,\"#7201a8\"],[0.3333333333333333,\"#9c179e\"],[0.4444444444444444,\"#bd3786\"],[0.5555555555555556,\"#d8576b\"],[0.6666666666666666,\"#ed7953\"],[0.7777777777777778,\"#fb9f3a\"],[0.8888888888888888,\"#fdca26\"],[1.0,\"#f0f921\"]]},\"colorway\":[\"#636efa\",\"#EF553B\",\"#00cc96\",\"#ab63fa\",\"#FFA15A\",\"#19d3f3\",\"#FF6692\",\"#B6E880\",\"#FF97FF\",\"#FECB52\"],\"font\":{\"color\":\"#2a3f5f\"},\"geo\":{\"bgcolor\":\"white\",\"lakecolor\":\"white\",\"landcolor\":\"#E5ECF6\",\"showlakes\":true,\"showland\":true,\"subunitcolor\":\"white\"},\"hoverlabel\":{\"align\":\"left\"},\"hovermode\":\"closest\",\"mapbox\":{\"style\":\"light\"},\"paper_bgcolor\":\"white\",\"plot_bgcolor\":\"#E5ECF6\",\"polar\":{\"angularaxis\":{\"gridcolor\":\"white\",\"linecolor\":\"white\",\"ticks\":\"\"},\"bgcolor\":\"#E5ECF6\",\"radialaxis\":{\"gridcolor\":\"white\",\"linecolor\":\"white\",\"ticks\":\"\"}},\"scene\":{\"xaxis\":{\"backgroundcolor\":\"#E5ECF6\",\"gridcolor\":\"white\",\"gridwidth\":2,\"linecolor\":\"white\",\"showbackground\":true,\"ticks\":\"\",\"zerolinecolor\":\"white\"},\"yaxis\":{\"backgroundcolor\":\"#E5ECF6\",\"gridcolor\":\"white\",\"gridwidth\":2,\"linecolor\":\"white\",\"showbackground\":true,\"ticks\":\"\",\"zerolinecolor\":\"white\"},\"zaxis\":{\"backgroundcolor\":\"#E5ECF6\",\"gridcolor\":\"white\",\"gridwidth\":2,\"linecolor\":\"white\",\"showbackground\":true,\"ticks\":\"\",\"zerolinecolor\":\"white\"}},\"shapedefaults\":{\"line\":{\"color\":\"#2a3f5f\"}},\"ternary\":{\"aaxis\":{\"gridcolor\":\"white\",\"linecolor\":\"white\",\"ticks\":\"\"},\"baxis\":{\"gridcolor\":\"white\",\"linecolor\":\"white\",\"ticks\":\"\"},\"bgcolor\":\"#E5ECF6\",\"caxis\":{\"gridcolor\":\"white\",\"linecolor\":\"white\",\"ticks\":\"\"}},\"title\":{\"x\":0.05},\"xaxis\":{\"automargin\":true,\"gridcolor\":\"white\",\"linecolor\":\"white\",\"ticks\":\"\",\"title\":{\"standoff\":15},\"zerolinecolor\":\"white\",\"zerolinewidth\":2},\"yaxis\":{\"automargin\":true,\"gridcolor\":\"white\",\"linecolor\":\"white\",\"ticks\":\"\",\"title\":{\"standoff\":15},\"zerolinecolor\":\"white\",\"zerolinewidth\":2}}},\"xaxis\":{\"anchor\":\"y\",\"domain\":[0.0,1.0],\"title\":{\"text\":\"coordinate_1\"},\"range\":[-1.4189075560233413,1.4189075560233413],\"zeroline\":true,\"zerolinecolor\":\"gray\"},\"yaxis\":{\"anchor\":\"x\",\"domain\":[0.0,1.0],\"title\":{\"text\":\"coordinate_2\"},\"range\":[-0.9164953915065455,0.9164953915065455],\"zeroline\":true,\"zerolinecolor\":\"gray\"},\"legend\":{\"title\":{\"text\":\"topic_name\"},\"tracegroupgap\":0},\"margin\":{\"t\":60}},                        {\"responsive\": true}                    ).then(function(){\n",
       "                            \n",
       "var gd = document.getElementById('88cf3889-6a71-4e72-bdf4-1652e41452d3');\n",
       "var x = new MutationObserver(function (mutations, observer) {{\n",
       "        var display = window.getComputedStyle(gd).display;\n",
       "        if (!display || display === 'none') {{\n",
       "            console.log([gd, 'removed!']);\n",
       "            Plotly.purge(gd);\n",
       "            observer.disconnect();\n",
       "        }}\n",
       "}});\n",
       "\n",
       "// Listen for the removal of the full notebook cells\n",
       "var notebookContainer = gd.closest('#notebook-container');\n",
       "if (notebookContainer) {{\n",
       "    x.observe(notebookContainer, {childList: true});\n",
       "}}\n",
       "\n",
       "// Listen for the clearing of the current output cell\n",
       "var outputEl = gd.closest('.output');\n",
       "if (outputEl) {{\n",
       "    x.observe(outputEl, {childList: true});\n",
       "}}\n",
       "\n",
       "                        })                };                });            </script>        </div>"
      ]
     },
     "metadata": {},
     "output_type": "display_data"
    },
    {
     "data": {
      "text/plain": [
       "<topic_cluster_visualizer.plots.Plots at 0x1a3a590d3a0>"
      ]
     },
     "execution_count": 42,
     "metadata": {},
     "output_type": "execute_result"
    }
   ],
   "source": [
    "plt.topic_coor_plot(tcv.amax)"
   ]
  },
  {
   "cell_type": "code",
   "execution_count": 73,
   "id": "f4dc8b94-fc28-48e5-b803-2383a9b01124",
   "metadata": {
    "tags": []
   },
   "outputs": [
    {
     "data": {
      "application/vnd.plotly.v1+json": {
       "config": {
        "plotlyServerURL": "https://plot.ly"
       },
       "data": [
        {
         "mode": "lines+markers",
         "name": "0",
         "type": "scatter",
         "visible": "legendonly",
         "x": [
          0.2507959849732179,
          -0.8633387604927727,
          0.15755281276628852,
          0.36811579211923845,
          0.29576664746867704
         ],
         "y": [
          -0.022768490218322973,
          0.42773440816510017,
          0.5276208700677715,
          -0.38067916702965254,
          -0.07234047371684693
         ]
        },
        {
         "mode": "lines+markers",
         "name": "1",
         "type": "scatter",
         "visible": "legendonly",
         "x": [
          -0.22862622512880038,
          -0.3349392383255447,
          -0.057040817404243965,
          -0.24347172608545173,
          0.08494554840080061
         ],
         "y": [
          -0.11322474161353621,
          -0.14504242925040378,
          0.28956947173775227,
          0.18731394002888446,
          0.2565198428159098
         ]
        },
        {
         "mode": "lines+markers",
         "name": "2",
         "type": "scatter",
         "visible": "legendonly",
         "x": [
          -0.3339250904691287,
          0.2153743020572037,
          0.21061670491160253,
          -0.09107252143343803,
          0.23551424986041244
         ],
         "y": [
          0.1846389450519675,
          0.3329705493368894,
          0.3253823378824112,
          0.8362242524594734,
          -0.12062191851036652
         ]
        },
        {
         "mode": "lines+markers",
         "name": "3",
         "type": "scatter",
         "visible": "legendonly",
         "x": [
          0.2923897310522434,
          0.857445307910277,
          0.6940408697837291,
          0.14016919850163378,
          -0.29445958867931277
         ],
         "y": [
          0.4082602989990154,
          -0.3013284120274347,
          -0.14742747693402533,
          -0.7015679624631188,
          0.306223157691693
         ]
        },
        {
         "mode": "lines+markers",
         "name": "4",
         "type": "scatter",
         "visible": "legendonly",
         "x": [
          0.12875916303446883,
          0.42154785859122207,
          -0.12069789978186157,
          0.381621275833903,
          -0.2173217017747452
         ],
         "y": [
          0.11027660646376962,
          -0.21587314669231333,
          -0.3899971182786376,
          0.1060267644031732,
          0.07654039863556907
         ]
        },
        {
         "mode": "lines+markers",
         "name": "5",
         "type": "scatter",
         "visible": "legendonly",
         "x": [
          0.30521460260136235,
          -0.03016498785130266,
          -0.037954255016406147,
          -0.5802132213494863,
          0.2591955300411534
         ],
         "y": [
          -0.09755391202829236,
          -0.020172155092543345,
          -0.611665857612407,
          -0.06004222070624471,
          -0.37384302682898696
         ]
        },
        {
         "mode": "lines+markers",
         "name": "6",
         "type": "scatter",
         "visible": "legendonly",
         "x": [
          0.5036769004674609,
          -0.14973707736552724,
          0.254789583891354,
          -0.16159802767478304,
          0.09315487687926974
         ],
         "y": [
          0.4006260218092206,
          0.49053224113218463,
          -0.3155606877062678,
          -0.753903475881393,
          -0.0433667606445265
         ]
        },
        {
         "mode": "lines+markers",
         "name": "7",
         "type": "scatter",
         "visible": "legendonly",
         "x": [
          -0.007800967496119721,
          0.14905721191014432,
          -0.7363691994668746,
          0.07328006891757385,
          -0.13731072870364594
         ],
         "y": [
          0.20257815450946628,
          0.1873386098949681,
          -0.010822328480892096,
          -0.1006635092807705,
          -0.4015876670254817
         ]
        },
        {
         "mode": "lines+markers",
         "name": "8",
         "type": "scatter",
         "visible": "legendonly",
         "x": [
          -0.08736472774338222,
          -0.12308088696564665,
          -0.21491478606455475,
          0.386143958184067,
          -0.02523965104324536
         ],
         "y": [
          0.5156400361047944,
          -0.12316335125082281,
          -0.6335528750548567,
          0.021863432572239716,
          0.013971393609367595
         ]
        },
        {
         "mode": "lines+markers",
         "name": "9",
         "type": "scatter",
         "visible": "legendonly",
         "x": [
          0.06643791810173513,
          -0.6186938671011206,
          -0.596900161394446,
          -0.624372400464774,
          -0.4677878905284166
         ],
         "y": [
          -0.15904913828843506,
          0.008787431075984203,
          0.013235003316872884,
          -0.39829419241201086,
          -0.3855281503819356
         ]
        },
        {
         "mode": "lines+markers",
         "name": "10",
         "type": "scatter",
         "visible": "legendonly",
         "x": [
          -0.3886208732570927,
          0.14982762958948073,
          0.41704502918481595,
          0.17579240478234323,
          -0.6662871568040686
         ],
         "y": [
          0.4549771368615166,
          0.2959173991094622,
          0.36341364388220443,
          -0.04154032103872567,
          0.19376146455724655
         ]
        },
        {
         "mode": "lines+markers",
         "name": "11",
         "type": "scatter",
         "visible": "legendonly",
         "x": [
          0.20747744093348253,
          -0.12457764449701104,
          -0.06289708580530229,
          -0.09770182902110751,
          -0.05361535221116867
         ],
         "y": [
          0.05900370945286622,
          0.4360007120873356,
          0.07393784973752686,
          0.10825409593352792,
          -0.5372441635630071
         ]
        },
        {
         "mode": "lines+markers",
         "name": "12",
         "type": "scatter",
         "visible": "legendonly",
         "x": [
          -0.5180308314384684,
          0.12409905290161155,
          -0.02804660331362871,
          -0.1270545628553219,
          0.20394261897833554
         ],
         "y": [
          0.23778182592959093,
          -0.055760978764955796,
          -0.22929003781183638,
          0.10694296581888713,
          -0.2252924726815349
         ]
        },
        {
         "mode": "lines+markers",
         "name": "13",
         "type": "scatter",
         "visible": true,
         "x": [
          0.04880262099898111,
          0.0596236375263377,
          -0.046602689415660814,
          0.03364903387375445,
          0.07819356990810347
         ],
         "y": [
          0.03503003121711055,
          -0.6850658505084075,
          1.3256285741075502,
          0.8660999365123822,
          -0.09629050535282338
         ]
        },
        {
         "mode": "lines+markers",
         "name": "14",
         "type": "scatter",
         "visible": "legendonly",
         "x": [
          0.4835232874554587,
          -0.1601388847020288,
          0.48953488574905324,
          0.07052333637327587,
          0.3805114516518527
         ],
         "y": [
          0.3687563353137966,
          -1.0476473863637445,
          0.045096435403717494,
          0.3553393693135856,
          0.44080789532461706
         ]
        },
        {
         "mode": "lines+markers",
         "name": "15",
         "type": "scatter",
         "visible": "legendonly",
         "x": [
          0.5158800387979466,
          -0.18303408299473992,
          0.21500317022500667,
          -0.6707362908420599,
          -0.047393627172015465
         ],
         "y": [
          -0.10909999452745074,
          -0.27716105835029997,
          -0.1597540931183918,
          0.033809567615418396,
          0.07566364000030862
         ]
        },
        {
         "mode": "lines+markers",
         "name": "16",
         "type": "scatter",
         "visible": "legendonly",
         "x": [
          0.2545376975389882,
          0.017931618457404687,
          0.3088610382152508,
          -0.05017020848980122,
          -0.0892950249372253
         ],
         "y": [
          0.3389016314148255,
          -0.09938665750574188,
          0.03032905231707514,
          -0.14465982964404586,
          0.14433688057448846
         ]
        },
        {
         "mode": "lines+markers",
         "name": "17",
         "type": "scatter",
         "visible": "legendonly",
         "x": [
          -0.18457199533639432,
          -0.049027941964931904,
          -0.05960277851053159,
          0.6096390922545852,
          -0.7148897599920623
         ],
         "y": [
          0.2665703483377081,
          -0.35525272765893146,
          -0.11088423486244389,
          -0.13753126097577031,
          -0.03964535054744944
         ]
        },
        {
         "mode": "lines+markers",
         "name": "18",
         "type": "scatter",
         "visible": "legendonly",
         "x": [
          -0.021338328942929086,
          -0.17027670255717903,
          -0.3493227896037926,
          -0.5653476864979996,
          0.043470456534492524
         ],
         "y": [
          -1.1054967494353465,
          -0.24779042909846405,
          0.1338812794072864,
          0.31993945157967346,
          -0.4637287905122751
         ]
        },
        {
         "mode": "lines+markers",
         "name": "19",
         "type": "scatter",
         "visible": "legendonly",
         "x": [
          -0.16508876075942025,
          1.2280845813575147,
          0.577175634006651,
          0.0350153993562079,
          -0.2510570500788786
         ],
         "y": [
          0.5787605264287073,
          0.3067535596517941,
          0.08112120793659924,
          0.5149765071323168,
          0.5893665522682761
         ]
        },
        {
         "mode": "text",
         "name": "Most percentile",
         "text": [
          "0",
          "1",
          "2",
          "3",
          "4",
          "5",
          "6",
          "7",
          "8",
          "9",
          "10",
          "11",
          "12",
          "13",
          "14",
          "15",
          "16",
          "17",
          "18",
          "19"
         ],
         "textposition": "top left",
         "type": "scatter",
         "visible": "legendonly",
         "x": [
          0.2507959849732179,
          -0.22862622512880038,
          -0.3339250904691287,
          0.2923897310522434,
          0.12875916303446883,
          0.30521460260136235,
          0.5036769004674609,
          -0.007800967496119721,
          -0.08736472774338222,
          0.06643791810173513,
          -0.3886208732570927,
          0.20747744093348253,
          -0.5180308314384684,
          0.04880262099898111,
          0.4835232874554587,
          0.5158800387979466,
          0.2545376975389882,
          -0.18457199533639432,
          -0.021338328942929086,
          -0.16508876075942025
         ],
         "y": [
          -0.022768490218322973,
          -0.11322474161353621,
          0.1846389450519675,
          0.4082602989990154,
          0.11027660646376962,
          -0.09755391202829236,
          0.4006260218092206,
          0.20257815450946628,
          0.5156400361047944,
          -0.15904913828843506,
          0.4549771368615166,
          0.05900370945286622,
          0.23778182592959093,
          0.03503003121711055,
          0.3687563353137966,
          -0.10909999452745074,
          0.3389016314148255,
          0.2665703483377081,
          -1.1054967494353465,
          0.5787605264287073
         ]
        }
       ],
       "layout": {
        "autosize": true,
        "dragmode": "zoom",
        "template": {
         "data": {
          "bar": [
           {
            "error_x": {
             "color": "#2a3f5f"
            },
            "error_y": {
             "color": "#2a3f5f"
            },
            "marker": {
             "line": {
              "color": "#E5ECF6",
              "width": 0.5
             },
             "pattern": {
              "fillmode": "overlay",
              "size": 10,
              "solidity": 0.2
             }
            },
            "type": "bar"
           }
          ],
          "barpolar": [
           {
            "marker": {
             "line": {
              "color": "#E5ECF6",
              "width": 0.5
             },
             "pattern": {
              "fillmode": "overlay",
              "size": 10,
              "solidity": 0.2
             }
            },
            "type": "barpolar"
           }
          ],
          "carpet": [
           {
            "aaxis": {
             "endlinecolor": "#2a3f5f",
             "gridcolor": "white",
             "linecolor": "white",
             "minorgridcolor": "white",
             "startlinecolor": "#2a3f5f"
            },
            "baxis": {
             "endlinecolor": "#2a3f5f",
             "gridcolor": "white",
             "linecolor": "white",
             "minorgridcolor": "white",
             "startlinecolor": "#2a3f5f"
            },
            "type": "carpet"
           }
          ],
          "choropleth": [
           {
            "colorbar": {
             "outlinewidth": 0,
             "ticks": ""
            },
            "type": "choropleth"
           }
          ],
          "contour": [
           {
            "colorbar": {
             "outlinewidth": 0,
             "ticks": ""
            },
            "colorscale": [
             [
              0,
              "#0d0887"
             ],
             [
              0.1111111111111111,
              "#46039f"
             ],
             [
              0.2222222222222222,
              "#7201a8"
             ],
             [
              0.3333333333333333,
              "#9c179e"
             ],
             [
              0.4444444444444444,
              "#bd3786"
             ],
             [
              0.5555555555555556,
              "#d8576b"
             ],
             [
              0.6666666666666666,
              "#ed7953"
             ],
             [
              0.7777777777777778,
              "#fb9f3a"
             ],
             [
              0.8888888888888888,
              "#fdca26"
             ],
             [
              1,
              "#f0f921"
             ]
            ],
            "type": "contour"
           }
          ],
          "contourcarpet": [
           {
            "colorbar": {
             "outlinewidth": 0,
             "ticks": ""
            },
            "type": "contourcarpet"
           }
          ],
          "heatmap": [
           {
            "colorbar": {
             "outlinewidth": 0,
             "ticks": ""
            },
            "colorscale": [
             [
              0,
              "#0d0887"
             ],
             [
              0.1111111111111111,
              "#46039f"
             ],
             [
              0.2222222222222222,
              "#7201a8"
             ],
             [
              0.3333333333333333,
              "#9c179e"
             ],
             [
              0.4444444444444444,
              "#bd3786"
             ],
             [
              0.5555555555555556,
              "#d8576b"
             ],
             [
              0.6666666666666666,
              "#ed7953"
             ],
             [
              0.7777777777777778,
              "#fb9f3a"
             ],
             [
              0.8888888888888888,
              "#fdca26"
             ],
             [
              1,
              "#f0f921"
             ]
            ],
            "type": "heatmap"
           }
          ],
          "heatmapgl": [
           {
            "colorbar": {
             "outlinewidth": 0,
             "ticks": ""
            },
            "colorscale": [
             [
              0,
              "#0d0887"
             ],
             [
              0.1111111111111111,
              "#46039f"
             ],
             [
              0.2222222222222222,
              "#7201a8"
             ],
             [
              0.3333333333333333,
              "#9c179e"
             ],
             [
              0.4444444444444444,
              "#bd3786"
             ],
             [
              0.5555555555555556,
              "#d8576b"
             ],
             [
              0.6666666666666666,
              "#ed7953"
             ],
             [
              0.7777777777777778,
              "#fb9f3a"
             ],
             [
              0.8888888888888888,
              "#fdca26"
             ],
             [
              1,
              "#f0f921"
             ]
            ],
            "type": "heatmapgl"
           }
          ],
          "histogram": [
           {
            "marker": {
             "pattern": {
              "fillmode": "overlay",
              "size": 10,
              "solidity": 0.2
             }
            },
            "type": "histogram"
           }
          ],
          "histogram2d": [
           {
            "colorbar": {
             "outlinewidth": 0,
             "ticks": ""
            },
            "colorscale": [
             [
              0,
              "#0d0887"
             ],
             [
              0.1111111111111111,
              "#46039f"
             ],
             [
              0.2222222222222222,
              "#7201a8"
             ],
             [
              0.3333333333333333,
              "#9c179e"
             ],
             [
              0.4444444444444444,
              "#bd3786"
             ],
             [
              0.5555555555555556,
              "#d8576b"
             ],
             [
              0.6666666666666666,
              "#ed7953"
             ],
             [
              0.7777777777777778,
              "#fb9f3a"
             ],
             [
              0.8888888888888888,
              "#fdca26"
             ],
             [
              1,
              "#f0f921"
             ]
            ],
            "type": "histogram2d"
           }
          ],
          "histogram2dcontour": [
           {
            "colorbar": {
             "outlinewidth": 0,
             "ticks": ""
            },
            "colorscale": [
             [
              0,
              "#0d0887"
             ],
             [
              0.1111111111111111,
              "#46039f"
             ],
             [
              0.2222222222222222,
              "#7201a8"
             ],
             [
              0.3333333333333333,
              "#9c179e"
             ],
             [
              0.4444444444444444,
              "#bd3786"
             ],
             [
              0.5555555555555556,
              "#d8576b"
             ],
             [
              0.6666666666666666,
              "#ed7953"
             ],
             [
              0.7777777777777778,
              "#fb9f3a"
             ],
             [
              0.8888888888888888,
              "#fdca26"
             ],
             [
              1,
              "#f0f921"
             ]
            ],
            "type": "histogram2dcontour"
           }
          ],
          "mesh3d": [
           {
            "colorbar": {
             "outlinewidth": 0,
             "ticks": ""
            },
            "type": "mesh3d"
           }
          ],
          "parcoords": [
           {
            "line": {
             "colorbar": {
              "outlinewidth": 0,
              "ticks": ""
             }
            },
            "type": "parcoords"
           }
          ],
          "pie": [
           {
            "automargin": true,
            "type": "pie"
           }
          ],
          "scatter": [
           {
            "marker": {
             "colorbar": {
              "outlinewidth": 0,
              "ticks": ""
             }
            },
            "type": "scatter"
           }
          ],
          "scatter3d": [
           {
            "line": {
             "colorbar": {
              "outlinewidth": 0,
              "ticks": ""
             }
            },
            "marker": {
             "colorbar": {
              "outlinewidth": 0,
              "ticks": ""
             }
            },
            "type": "scatter3d"
           }
          ],
          "scattercarpet": [
           {
            "marker": {
             "colorbar": {
              "outlinewidth": 0,
              "ticks": ""
             }
            },
            "type": "scattercarpet"
           }
          ],
          "scattergeo": [
           {
            "marker": {
             "colorbar": {
              "outlinewidth": 0,
              "ticks": ""
             }
            },
            "type": "scattergeo"
           }
          ],
          "scattergl": [
           {
            "marker": {
             "colorbar": {
              "outlinewidth": 0,
              "ticks": ""
             }
            },
            "type": "scattergl"
           }
          ],
          "scattermapbox": [
           {
            "marker": {
             "colorbar": {
              "outlinewidth": 0,
              "ticks": ""
             }
            },
            "type": "scattermapbox"
           }
          ],
          "scatterpolar": [
           {
            "marker": {
             "colorbar": {
              "outlinewidth": 0,
              "ticks": ""
             }
            },
            "type": "scatterpolar"
           }
          ],
          "scatterpolargl": [
           {
            "marker": {
             "colorbar": {
              "outlinewidth": 0,
              "ticks": ""
             }
            },
            "type": "scatterpolargl"
           }
          ],
          "scatterternary": [
           {
            "marker": {
             "colorbar": {
              "outlinewidth": 0,
              "ticks": ""
             }
            },
            "type": "scatterternary"
           }
          ],
          "surface": [
           {
            "colorbar": {
             "outlinewidth": 0,
             "ticks": ""
            },
            "colorscale": [
             [
              0,
              "#0d0887"
             ],
             [
              0.1111111111111111,
              "#46039f"
             ],
             [
              0.2222222222222222,
              "#7201a8"
             ],
             [
              0.3333333333333333,
              "#9c179e"
             ],
             [
              0.4444444444444444,
              "#bd3786"
             ],
             [
              0.5555555555555556,
              "#d8576b"
             ],
             [
              0.6666666666666666,
              "#ed7953"
             ],
             [
              0.7777777777777778,
              "#fb9f3a"
             ],
             [
              0.8888888888888888,
              "#fdca26"
             ],
             [
              1,
              "#f0f921"
             ]
            ],
            "type": "surface"
           }
          ],
          "table": [
           {
            "cells": {
             "fill": {
              "color": "#EBF0F8"
             },
             "line": {
              "color": "white"
             }
            },
            "header": {
             "fill": {
              "color": "#C8D4E3"
             },
             "line": {
              "color": "white"
             }
            },
            "type": "table"
           }
          ]
         },
         "layout": {
          "annotationdefaults": {
           "arrowcolor": "#2a3f5f",
           "arrowhead": 0,
           "arrowwidth": 1
          },
          "autotypenumbers": "strict",
          "coloraxis": {
           "colorbar": {
            "outlinewidth": 0,
            "ticks": ""
           }
          },
          "colorscale": {
           "diverging": [
            [
             0,
             "#8e0152"
            ],
            [
             0.1,
             "#c51b7d"
            ],
            [
             0.2,
             "#de77ae"
            ],
            [
             0.3,
             "#f1b6da"
            ],
            [
             0.4,
             "#fde0ef"
            ],
            [
             0.5,
             "#f7f7f7"
            ],
            [
             0.6,
             "#e6f5d0"
            ],
            [
             0.7,
             "#b8e186"
            ],
            [
             0.8,
             "#7fbc41"
            ],
            [
             0.9,
             "#4d9221"
            ],
            [
             1,
             "#276419"
            ]
           ],
           "sequential": [
            [
             0,
             "#0d0887"
            ],
            [
             0.1111111111111111,
             "#46039f"
            ],
            [
             0.2222222222222222,
             "#7201a8"
            ],
            [
             0.3333333333333333,
             "#9c179e"
            ],
            [
             0.4444444444444444,
             "#bd3786"
            ],
            [
             0.5555555555555556,
             "#d8576b"
            ],
            [
             0.6666666666666666,
             "#ed7953"
            ],
            [
             0.7777777777777778,
             "#fb9f3a"
            ],
            [
             0.8888888888888888,
             "#fdca26"
            ],
            [
             1,
             "#f0f921"
            ]
           ],
           "sequentialminus": [
            [
             0,
             "#0d0887"
            ],
            [
             0.1111111111111111,
             "#46039f"
            ],
            [
             0.2222222222222222,
             "#7201a8"
            ],
            [
             0.3333333333333333,
             "#9c179e"
            ],
            [
             0.4444444444444444,
             "#bd3786"
            ],
            [
             0.5555555555555556,
             "#d8576b"
            ],
            [
             0.6666666666666666,
             "#ed7953"
            ],
            [
             0.7777777777777778,
             "#fb9f3a"
            ],
            [
             0.8888888888888888,
             "#fdca26"
            ],
            [
             1,
             "#f0f921"
            ]
           ]
          },
          "colorway": [
           "#636efa",
           "#EF553B",
           "#00cc96",
           "#ab63fa",
           "#FFA15A",
           "#19d3f3",
           "#FF6692",
           "#B6E880",
           "#FF97FF",
           "#FECB52"
          ],
          "font": {
           "color": "#2a3f5f"
          },
          "geo": {
           "bgcolor": "white",
           "lakecolor": "white",
           "landcolor": "#E5ECF6",
           "showlakes": true,
           "showland": true,
           "subunitcolor": "white"
          },
          "hoverlabel": {
           "align": "left"
          },
          "hovermode": "closest",
          "mapbox": {
           "style": "light"
          },
          "paper_bgcolor": "white",
          "plot_bgcolor": "#E5ECF6",
          "polar": {
           "angularaxis": {
            "gridcolor": "white",
            "linecolor": "white",
            "ticks": ""
           },
           "bgcolor": "#E5ECF6",
           "radialaxis": {
            "gridcolor": "white",
            "linecolor": "white",
            "ticks": ""
           }
          },
          "scene": {
           "xaxis": {
            "backgroundcolor": "#E5ECF6",
            "gridcolor": "white",
            "gridwidth": 2,
            "linecolor": "white",
            "showbackground": true,
            "ticks": "",
            "zerolinecolor": "white"
           },
           "yaxis": {
            "backgroundcolor": "#E5ECF6",
            "gridcolor": "white",
            "gridwidth": 2,
            "linecolor": "white",
            "showbackground": true,
            "ticks": "",
            "zerolinecolor": "white"
           },
           "zaxis": {
            "backgroundcolor": "#E5ECF6",
            "gridcolor": "white",
            "gridwidth": 2,
            "linecolor": "white",
            "showbackground": true,
            "ticks": "",
            "zerolinecolor": "white"
           }
          },
          "shapedefaults": {
           "line": {
            "color": "#2a3f5f"
           }
          },
          "ternary": {
           "aaxis": {
            "gridcolor": "white",
            "linecolor": "white",
            "ticks": ""
           },
           "baxis": {
            "gridcolor": "white",
            "linecolor": "white",
            "ticks": ""
           },
           "bgcolor": "#E5ECF6",
           "caxis": {
            "gridcolor": "white",
            "linecolor": "white",
            "ticks": ""
           }
          },
          "title": {
           "x": 0.05
          },
          "xaxis": {
           "automargin": true,
           "gridcolor": "white",
           "linecolor": "white",
           "ticks": "",
           "title": {
            "standoff": 15
           },
           "zerolinecolor": "white",
           "zerolinewidth": 2
          },
          "yaxis": {
           "automargin": true,
           "gridcolor": "white",
           "linecolor": "white",
           "ticks": "",
           "title": {
            "standoff": 15
           },
           "zerolinecolor": "white",
           "zerolinewidth": 2
          }
         }
        },
        "xaxis": {
         "autorange": false,
         "range": [
          -1.5524843882104342,
          1.580189200740413
         ],
         "rangemode": "tozero",
         "type": "linear",
         "zeroline": true,
         "zerolinecolor": "gray"
        },
        "yaxis": {
         "autorange": false,
         "range": [
          -2.11129114247443,
          2.1991852240532435
         ],
         "rangemode": "tozero",
         "type": "linear",
         "zeroline": true,
         "zerolinecolor": "gray"
        }
       }
      },
      "image/png": "[encoded data removed]",
      "text/html": [
       "<div>                            <div id=\"fdf6cbb6-9c37-439f-baf8-243a56740eac\" class=\"plotly-graph-div\" style=\"height:525px; width:100%;\"></div>            <script type=\"text/javascript\">                require([\"plotly\"], function(Plotly) {                    window.PLOTLYENV=window.PLOTLYENV || {};                                    if (document.getElementById(\"fdf6cbb6-9c37-439f-baf8-243a56740eac\")) {                    Plotly.newPlot(                        \"fdf6cbb6-9c37-439f-baf8-243a56740eac\",                        [{\"mode\":\"lines+markers\",\"name\":\"0\",\"x\":[0.2507959849732179,-0.8633387604927727,0.15755281276628852,0.36811579211923845,0.29576664746867704],\"y\":[-0.022768490218322973,0.42773440816510017,0.5276208700677715,-0.38067916702965254,-0.07234047371684693],\"type\":\"scatter\"},{\"mode\":\"lines+markers\",\"name\":\"1\",\"x\":[-0.22862622512880038,-0.3349392383255447,-0.057040817404243965,-0.24347172608545173,0.08494554840080061],\"y\":[-0.11322474161353621,-0.14504242925040378,0.28956947173775227,0.18731394002888446,0.2565198428159098],\"type\":\"scatter\"},{\"mode\":\"lines+markers\",\"name\":\"2\",\"x\":[-0.3339250904691287,0.2153743020572037,0.21061670491160253,-0.09107252143343803,0.23551424986041244],\"y\":[0.1846389450519675,0.3329705493368894,0.3253823378824112,0.8362242524594734,-0.12062191851036652],\"type\":\"scatter\"},{\"mode\":\"lines+markers\",\"name\":\"3\",\"x\":[0.2923897310522434,0.857445307910277,0.6940408697837291,0.14016919850163378,-0.29445958867931277],\"y\":[0.4082602989990154,-0.3013284120274347,-0.14742747693402533,-0.7015679624631188,0.306223157691693],\"type\":\"scatter\"},{\"mode\":\"lines+markers\",\"name\":\"4\",\"x\":[0.12875916303446883,0.42154785859122207,-0.12069789978186157,0.381621275833903,-0.2173217017747452],\"y\":[0.11027660646376962,-0.21587314669231333,-0.3899971182786376,0.1060267644031732,0.07654039863556907],\"type\":\"scatter\"},{\"mode\":\"lines+markers\",\"name\":\"5\",\"x\":[0.30521460260136235,-0.03016498785130266,-0.037954255016406147,-0.5802132213494863,0.2591955300411534],\"y\":[-0.09755391202829236,-0.020172155092543345,-0.611665857612407,-0.06004222070624471,-0.37384302682898696],\"type\":\"scatter\"},{\"mode\":\"lines+markers\",\"name\":\"6\",\"x\":[0.5036769004674609,-0.14973707736552724,0.254789583891354,-0.16159802767478304,0.09315487687926974],\"y\":[0.4006260218092206,0.49053224113218463,-0.3155606877062678,-0.753903475881393,-0.0433667606445265],\"type\":\"scatter\"},{\"mode\":\"lines+markers\",\"name\":\"7\",\"x\":[-0.007800967496119721,0.14905721191014432,-0.7363691994668746,0.07328006891757385,-0.13731072870364594],\"y\":[0.20257815450946628,0.1873386098949681,-0.010822328480892096,-0.1006635092807705,-0.4015876670254817],\"type\":\"scatter\"},{\"mode\":\"lines+markers\",\"name\":\"8\",\"x\":[-0.08736472774338222,-0.12308088696564665,-0.21491478606455475,0.386143958184067,-0.02523965104324536],\"y\":[0.5156400361047944,-0.12316335125082281,-0.6335528750548567,0.021863432572239716,0.013971393609367595],\"type\":\"scatter\"},{\"mode\":\"lines+markers\",\"name\":\"9\",\"x\":[0.06643791810173513,-0.6186938671011206,-0.596900161394446,-0.624372400464774,-0.4677878905284166],\"y\":[-0.15904913828843506,0.008787431075984203,0.013235003316872884,-0.39829419241201086,-0.3855281503819356],\"type\":\"scatter\"},{\"mode\":\"lines+markers\",\"name\":\"10\",\"x\":[-0.3886208732570927,0.14982762958948073,0.41704502918481595,0.17579240478234323,-0.6662871568040686],\"y\":[0.4549771368615166,0.2959173991094622,0.36341364388220443,-0.04154032103872567,0.19376146455724655],\"type\":\"scatter\"},{\"mode\":\"lines+markers\",\"name\":\"11\",\"x\":[0.20747744093348253,-0.12457764449701104,-0.06289708580530229,-0.09770182902110751,-0.05361535221116867],\"y\":[0.05900370945286622,0.4360007120873356,0.07393784973752686,0.10825409593352792,-0.5372441635630071],\"type\":\"scatter\"},{\"mode\":\"lines+markers\",\"name\":\"12\",\"x\":[-0.5180308314384684,0.12409905290161155,-0.02804660331362871,-0.1270545628553219,0.20394261897833554],\"y\":[0.23778182592959093,-0.055760978764955796,-0.22929003781183638,0.10694296581888713,-0.2252924726815349],\"type\":\"scatter\"},{\"mode\":\"lines+markers\",\"name\":\"13\",\"x\":[0.04880262099898111,0.0596236375263377,-0.046602689415660814,0.03364903387375445,0.07819356990810347],\"y\":[0.03503003121711055,-0.6850658505084075,1.3256285741075502,0.8660999365123822,-0.09629050535282338],\"type\":\"scatter\"},{\"mode\":\"lines+markers\",\"name\":\"14\",\"x\":[0.4835232874554587,-0.1601388847020288,0.48953488574905324,0.07052333637327587,0.3805114516518527],\"y\":[0.3687563353137966,-1.0476473863637445,0.045096435403717494,0.3553393693135856,0.44080789532461706],\"type\":\"scatter\"},{\"mode\":\"lines+markers\",\"name\":\"15\",\"x\":[0.5158800387979466,-0.18303408299473992,0.21500317022500667,-0.6707362908420599,-0.047393627172015465],\"y\":[-0.10909999452745074,-0.27716105835029997,-0.1597540931183918,0.033809567615418396,0.07566364000030862],\"type\":\"scatter\"},{\"mode\":\"lines+markers\",\"name\":\"16\",\"x\":[0.2545376975389882,0.017931618457404687,0.3088610382152508,-0.05017020848980122,-0.0892950249372253],\"y\":[0.3389016314148255,-0.09938665750574188,0.03032905231707514,-0.14465982964404586,0.14433688057448846],\"type\":\"scatter\"},{\"mode\":\"lines+markers\",\"name\":\"17\",\"x\":[-0.18457199533639432,-0.049027941964931904,-0.05960277851053159,0.6096390922545852,-0.7148897599920623],\"y\":[0.2665703483377081,-0.35525272765893146,-0.11088423486244389,-0.13753126097577031,-0.03964535054744944],\"type\":\"scatter\"},{\"mode\":\"lines+markers\",\"name\":\"18\",\"x\":[-0.021338328942929086,-0.17027670255717903,-0.3493227896037926,-0.5653476864979996,0.043470456534492524],\"y\":[-1.1054967494353465,-0.24779042909846405,0.1338812794072864,0.31993945157967346,-0.4637287905122751],\"type\":\"scatter\"},{\"mode\":\"lines+markers\",\"name\":\"19\",\"x\":[-0.16508876075942025,1.2280845813575147,0.577175634006651,0.0350153993562079,-0.2510570500788786],\"y\":[0.5787605264287073,0.3067535596517941,0.08112120793659924,0.5149765071323168,0.5893665522682761],\"type\":\"scatter\"},{\"mode\":\"text\",\"name\":\"Most percentile\",\"text\":[\"0\",\"1\",\"2\",\"3\",\"4\",\"5\",\"6\",\"7\",\"8\",\"9\",\"10\",\"11\",\"12\",\"13\",\"14\",\"15\",\"16\",\"17\",\"18\",\"19\"],\"textposition\":\"top left\",\"x\":[0.2507959849732179,-0.22862622512880038,-0.3339250904691287,0.2923897310522434,0.12875916303446883,0.30521460260136235,0.5036769004674609,-0.007800967496119721,-0.08736472774338222,0.06643791810173513,-0.3886208732570927,0.20747744093348253,-0.5180308314384684,0.04880262099898111,0.4835232874554587,0.5158800387979466,0.2545376975389882,-0.18457199533639432,-0.021338328942929086,-0.16508876075942025],\"y\":[-0.022768490218322973,-0.11322474161353621,0.1846389450519675,0.4082602989990154,0.11027660646376962,-0.09755391202829236,0.4006260218092206,0.20257815450946628,0.5156400361047944,-0.15904913828843506,0.4549771368615166,0.05900370945286622,0.23778182592959093,0.03503003121711055,0.3687563353137966,-0.10909999452745074,0.3389016314148255,0.2665703483377081,-1.1054967494353465,0.5787605264287073],\"type\":\"scatter\"}],                        {\"template\":{\"data\":{\"bar\":[{\"error_x\":{\"color\":\"#2a3f5f\"},\"error_y\":{\"color\":\"#2a3f5f\"},\"marker\":{\"line\":{\"color\":\"#E5ECF6\",\"width\":0.5},\"pattern\":{\"fillmode\":\"overlay\",\"size\":10,\"solidity\":0.2}},\"type\":\"bar\"}],\"barpolar\":[{\"marker\":{\"line\":{\"color\":\"#E5ECF6\",\"width\":0.5},\"pattern\":{\"fillmode\":\"overlay\",\"size\":10,\"solidity\":0.2}},\"type\":\"barpolar\"}],\"carpet\":[{\"aaxis\":{\"endlinecolor\":\"#2a3f5f\",\"gridcolor\":\"white\",\"linecolor\":\"white\",\"minorgridcolor\":\"white\",\"startlinecolor\":\"#2a3f5f\"},\"baxis\":{\"endlinecolor\":\"#2a3f5f\",\"gridcolor\":\"white\",\"linecolor\":\"white\",\"minorgridcolor\":\"white\",\"startlinecolor\":\"#2a3f5f\"},\"type\":\"carpet\"}],\"choropleth\":[{\"colorbar\":{\"outlinewidth\":0,\"ticks\":\"\"},\"type\":\"choropleth\"}],\"contour\":[{\"colorbar\":{\"outlinewidth\":0,\"ticks\":\"\"},\"colorscale\":[[0.0,\"#0d0887\"],[0.1111111111111111,\"#46039f\"],[0.2222222222222222,\"#7201a8\"],[0.3333333333333333,\"#9c179e\"],[0.4444444444444444,\"#bd3786\"],[0.5555555555555556,\"#d8576b\"],[0.6666666666666666,\"#ed7953\"],[0.7777777777777778,\"#fb9f3a\"],[0.8888888888888888,\"#fdca26\"],[1.0,\"#f0f921\"]],\"type\":\"contour\"}],\"contourcarpet\":[{\"colorbar\":{\"outlinewidth\":0,\"ticks\":\"\"},\"type\":\"contourcarpet\"}],\"heatmap\":[{\"colorbar\":{\"outlinewidth\":0,\"ticks\":\"\"},\"colorscale\":[[0.0,\"#0d0887\"],[0.1111111111111111,\"#46039f\"],[0.2222222222222222,\"#7201a8\"],[0.3333333333333333,\"#9c179e\"],[0.4444444444444444,\"#bd3786\"],[0.5555555555555556,\"#d8576b\"],[0.6666666666666666,\"#ed7953\"],[0.7777777777777778,\"#fb9f3a\"],[0.8888888888888888,\"#fdca26\"],[1.0,\"#f0f921\"]],\"type\":\"heatmap\"}],\"heatmapgl\":[{\"colorbar\":{\"outlinewidth\":0,\"ticks\":\"\"},\"colorscale\":[[0.0,\"#0d0887\"],[0.1111111111111111,\"#46039f\"],[0.2222222222222222,\"#7201a8\"],[0.3333333333333333,\"#9c179e\"],[0.4444444444444444,\"#bd3786\"],[0.5555555555555556,\"#d8576b\"],[0.6666666666666666,\"#ed7953\"],[0.7777777777777778,\"#fb9f3a\"],[0.8888888888888888,\"#fdca26\"],[1.0,\"#f0f921\"]],\"type\":\"heatmapgl\"}],\"histogram\":[{\"marker\":{\"pattern\":{\"fillmode\":\"overlay\",\"size\":10,\"solidity\":0.2}},\"type\":\"histogram\"}],\"histogram2d\":[{\"colorbar\":{\"outlinewidth\":0,\"ticks\":\"\"},\"colorscale\":[[0.0,\"#0d0887\"],[0.1111111111111111,\"#46039f\"],[0.2222222222222222,\"#7201a8\"],[0.3333333333333333,\"#9c179e\"],[0.4444444444444444,\"#bd3786\"],[0.5555555555555556,\"#d8576b\"],[0.6666666666666666,\"#ed7953\"],[0.7777777777777778,\"#fb9f3a\"],[0.8888888888888888,\"#fdca26\"],[1.0,\"#f0f921\"]],\"type\":\"histogram2d\"}],\"histogram2dcontour\":[{\"colorbar\":{\"outlinewidth\":0,\"ticks\":\"\"},\"colorscale\":[[0.0,\"#0d0887\"],[0.1111111111111111,\"#46039f\"],[0.2222222222222222,\"#7201a8\"],[0.3333333333333333,\"#9c179e\"],[0.4444444444444444,\"#bd3786\"],[0.5555555555555556,\"#d8576b\"],[0.6666666666666666,\"#ed7953\"],[0.7777777777777778,\"#fb9f3a\"],[0.8888888888888888,\"#fdca26\"],[1.0,\"#f0f921\"]],\"type\":\"histogram2dcontour\"}],\"mesh3d\":[{\"colorbar\":{\"outlinewidth\":0,\"ticks\":\"\"},\"type\":\"mesh3d\"}],\"parcoords\":[{\"line\":{\"colorbar\":{\"outlinewidth\":0,\"ticks\":\"\"}},\"type\":\"parcoords\"}],\"pie\":[{\"automargin\":true,\"type\":\"pie\"}],\"scatter\":[{\"marker\":{\"colorbar\":{\"outlinewidth\":0,\"ticks\":\"\"}},\"type\":\"scatter\"}],\"scatter3d\":[{\"line\":{\"colorbar\":{\"outlinewidth\":0,\"ticks\":\"\"}},\"marker\":{\"colorbar\":{\"outlinewidth\":0,\"ticks\":\"\"}},\"type\":\"scatter3d\"}],\"scattercarpet\":[{\"marker\":{\"colorbar\":{\"outlinewidth\":0,\"ticks\":\"\"}},\"type\":\"scattercarpet\"}],\"scattergeo\":[{\"marker\":{\"colorbar\":{\"outlinewidth\":0,\"ticks\":\"\"}},\"type\":\"scattergeo\"}],\"scattergl\":[{\"marker\":{\"colorbar\":{\"outlinewidth\":0,\"ticks\":\"\"}},\"type\":\"scattergl\"}],\"scattermapbox\":[{\"marker\":{\"colorbar\":{\"outlinewidth\":0,\"ticks\":\"\"}},\"type\":\"scattermapbox\"}],\"scatterpolar\":[{\"marker\":{\"colorbar\":{\"outlinewidth\":0,\"ticks\":\"\"}},\"type\":\"scatterpolar\"}],\"scatterpolargl\":[{\"marker\":{\"colorbar\":{\"outlinewidth\":0,\"ticks\":\"\"}},\"type\":\"scatterpolargl\"}],\"scatterternary\":[{\"marker\":{\"colorbar\":{\"outlinewidth\":0,\"ticks\":\"\"}},\"type\":\"scatterternary\"}],\"surface\":[{\"colorbar\":{\"outlinewidth\":0,\"ticks\":\"\"},\"colorscale\":[[0.0,\"#0d0887\"],[0.1111111111111111,\"#46039f\"],[0.2222222222222222,\"#7201a8\"],[0.3333333333333333,\"#9c179e\"],[0.4444444444444444,\"#bd3786\"],[0.5555555555555556,\"#d8576b\"],[0.6666666666666666,\"#ed7953\"],[0.7777777777777778,\"#fb9f3a\"],[0.8888888888888888,\"#fdca26\"],[1.0,\"#f0f921\"]],\"type\":\"surface\"}],\"table\":[{\"cells\":{\"fill\":{\"color\":\"#EBF0F8\"},\"line\":{\"color\":\"white\"}},\"header\":{\"fill\":{\"color\":\"#C8D4E3\"},\"line\":{\"color\":\"white\"}},\"type\":\"table\"}]},\"layout\":{\"annotationdefaults\":{\"arrowcolor\":\"#2a3f5f\",\"arrowhead\":0,\"arrowwidth\":1},\"autotypenumbers\":\"strict\",\"coloraxis\":{\"colorbar\":{\"outlinewidth\":0,\"ticks\":\"\"}},\"colorscale\":{\"diverging\":[[0,\"#8e0152\"],[0.1,\"#c51b7d\"],[0.2,\"#de77ae\"],[0.3,\"#f1b6da\"],[0.4,\"#fde0ef\"],[0.5,\"#f7f7f7\"],[0.6,\"#e6f5d0\"],[0.7,\"#b8e186\"],[0.8,\"#7fbc41\"],[0.9,\"#4d9221\"],[1,\"#276419\"]],\"sequential\":[[0.0,\"#0d0887\"],[0.1111111111111111,\"#46039f\"],[0.2222222222222222,\"#7201a8\"],[0.3333333333333333,\"#9c179e\"],[0.4444444444444444,\"#bd3786\"],[0.5555555555555556,\"#d8576b\"],[0.6666666666666666,\"#ed7953\"],[0.7777777777777778,\"#fb9f3a\"],[0.8888888888888888,\"#fdca26\"],[1.0,\"#f0f921\"]],\"sequentialminus\":[[0.0,\"#0d0887\"],[0.1111111111111111,\"#46039f\"],[0.2222222222222222,\"#7201a8\"],[0.3333333333333333,\"#9c179e\"],[0.4444444444444444,\"#bd3786\"],[0.5555555555555556,\"#d8576b\"],[0.6666666666666666,\"#ed7953\"],[0.7777777777777778,\"#fb9f3a\"],[0.8888888888888888,\"#fdca26\"],[1.0,\"#f0f921\"]]},\"colorway\":[\"#636efa\",\"#EF553B\",\"#00cc96\",\"#ab63fa\",\"#FFA15A\",\"#19d3f3\",\"#FF6692\",\"#B6E880\",\"#FF97FF\",\"#FECB52\"],\"font\":{\"color\":\"#2a3f5f\"},\"geo\":{\"bgcolor\":\"white\",\"lakecolor\":\"white\",\"landcolor\":\"#E5ECF6\",\"showlakes\":true,\"showland\":true,\"subunitcolor\":\"white\"},\"hoverlabel\":{\"align\":\"left\"},\"hovermode\":\"closest\",\"mapbox\":{\"style\":\"light\"},\"paper_bgcolor\":\"white\",\"plot_bgcolor\":\"#E5ECF6\",\"polar\":{\"angularaxis\":{\"gridcolor\":\"white\",\"linecolor\":\"white\",\"ticks\":\"\"},\"bgcolor\":\"#E5ECF6\",\"radialaxis\":{\"gridcolor\":\"white\",\"linecolor\":\"white\",\"ticks\":\"\"}},\"scene\":{\"xaxis\":{\"backgroundcolor\":\"#E5ECF6\",\"gridcolor\":\"white\",\"gridwidth\":2,\"linecolor\":\"white\",\"showbackground\":true,\"ticks\":\"\",\"zerolinecolor\":\"white\"},\"yaxis\":{\"backgroundcolor\":\"#E5ECF6\",\"gridcolor\":\"white\",\"gridwidth\":2,\"linecolor\":\"white\",\"showbackground\":true,\"ticks\":\"\",\"zerolinecolor\":\"white\"},\"zaxis\":{\"backgroundcolor\":\"#E5ECF6\",\"gridcolor\":\"white\",\"gridwidth\":2,\"linecolor\":\"white\",\"showbackground\":true,\"ticks\":\"\",\"zerolinecolor\":\"white\"}},\"shapedefaults\":{\"line\":{\"color\":\"#2a3f5f\"}},\"ternary\":{\"aaxis\":{\"gridcolor\":\"white\",\"linecolor\":\"white\",\"ticks\":\"\"},\"baxis\":{\"gridcolor\":\"white\",\"linecolor\":\"white\",\"ticks\":\"\"},\"bgcolor\":\"#E5ECF6\",\"caxis\":{\"gridcolor\":\"white\",\"linecolor\":\"white\",\"ticks\":\"\"}},\"title\":{\"x\":0.05},\"xaxis\":{\"automargin\":true,\"gridcolor\":\"white\",\"linecolor\":\"white\",\"ticks\":\"\",\"title\":{\"standoff\":15},\"zerolinecolor\":\"white\",\"zerolinewidth\":2},\"yaxis\":{\"automargin\":true,\"gridcolor\":\"white\",\"linecolor\":\"white\",\"ticks\":\"\",\"title\":{\"standoff\":15},\"zerolinecolor\":\"white\",\"zerolinewidth\":2}}},\"xaxis\":{\"rangemode\":\"tozero\",\"zeroline\":true,\"zerolinecolor\":\"gray\"},\"yaxis\":{\"rangemode\":\"tozero\",\"zeroline\":true,\"zerolinecolor\":\"gray\"}},                        {\"responsive\": true}                    ).then(function(){\n",
       "                            \n",
       "var gd = document.getElementById('fdf6cbb6-9c37-439f-baf8-243a56740eac');\n",
       "var x = new MutationObserver(function (mutations, observer) {{\n",
       "        var display = window.getComputedStyle(gd).display;\n",
       "        if (!display || display === 'none') {{\n",
       "            console.log([gd, 'removed!']);\n",
       "            Plotly.purge(gd);\n",
       "            observer.disconnect();\n",
       "        }}\n",
       "}});\n",
       "\n",
       "// Listen for the removal of the full notebook cells\n",
       "var notebookContainer = gd.closest('#notebook-container');\n",
       "if (notebookContainer) {{\n",
       "    x.observe(notebookContainer, {childList: true});\n",
       "}}\n",
       "\n",
       "// Listen for the clearing of the current output cell\n",
       "var outputEl = gd.closest('.output');\n",
       "if (outputEl) {{\n",
       "    x.observe(outputEl, {childList: true});\n",
       "}}\n",
       "\n",
       "                        })                };                });            </script>        </div>"
      ]
     },
     "metadata": {},
     "output_type": "display_data"
    },
    {
     "data": {
      "text/plain": [
       "<topic_cluster_visualizer.plots.Plots at 0x1a3a590d3a0>"
      ]
     },
     "execution_count": 73,
     "metadata": {},
     "output_type": "execute_result"
    }
   ],
   "source": [
    "plt.topic_trajectory_plot(temp0000)"
   ]
  },
  {
   "cell_type": "code",
   "execution_count": 72,
   "id": "591f656d-d7ce-45a6-be6c-a60b99a900a2",
   "metadata": {},
   "outputs": [],
   "source": [
    "temp0000 = []\n",
    "\n",
    "for i in [2, 10, 14, 18, 22]:\n",
    "    temp0000.append(tcv.oblimin_proc2_zs[i])\n",
    "\n"
   ]
  }
 ],
 "metadata": {
  "kernelspec": {
   "display_name": "Python 3 (ipykernel)",
   "language": "python",
   "name": "python3"
  },
  "language_info": {
   "codemirror_mode": {
    "name": "ipython",
    "version": 3
   },
   "file_extension": ".py",
   "mimetype": "text/x-python",
   "name": "python",
   "nbconvert_exporter": "python",
   "pygments_lexer": "ipython3",
   "version": "3.9.7"
  }
 },
 "nbformat": 4,
 "nbformat_minor": 5
}
