{
 "cells": [
  {
   "cell_type": "code",
   "execution_count": 92,
   "id": "cb59495c-45e2-4834-9ff7-6b0e02001bab",
   "metadata": {
    "tags": []
   },
   "outputs": [
    {
     "name": "stderr",
     "output_type": "stream",
     "text": [
      "[nltk_data] Downloading package punkt to\n",
      "[nltk_data]     C:\\Users\\Song1\\AppData\\Roaming\\nltk_data...\n",
      "[nltk_data]   Package punkt is already up-to-date!\n",
      "[nltk_data] Downloading package averaged_perceptron_tagger to\n",
      "[nltk_data]     C:\\Users\\Song1\\AppData\\Roaming\\nltk_data...\n",
      "[nltk_data]   Package averaged_perceptron_tagger is already up-to-\n",
      "[nltk_data]       date!\n"
     ]
    }
   ],
   "source": [
    "from math import *\n",
    "\n",
    "import re\n",
    "import time\n",
    "import itertools\n",
    "\n",
    "import numpy as np\n",
    "import pandas as pd\n",
    "\n",
    "import nltk\n",
    "from nltk.stem import PorterStemmer\n",
    "#from nltk.corpus import stopwords\n",
    "\n",
    "from gensim.models import Word2Vec, KeyedVectors\n",
    "from collections import Counter\n",
    "\n",
    "from tqdm.auto import tqdm, trange\n",
    "\n",
    "from factor_analyzer import Rotator\n",
    "\n",
    "from functionc import onepl_lsrm_cont_missing\n",
    "\n",
    "import nltk\n",
    "\n",
    "nltk.download('punkt')\n",
    "nltk.download('averaged_perceptron_tagger')\n",
    "\n",
    "class TopicClusterVisualizer:\n",
    "    def __init__(self, target_data):\n",
    "        self.filter_terms = {'p.001', 'find', 'z9.738', 'n102', 'p0.0001', 'p.05', 'p0.03', 'n1427', 'sd', 'coronaviru', 'case',\n",
    "                             'number', 'studi', 'date', 'result', 'hope', 'refer', 'major', 'b', 'n', 'besid', 'ie', 'l.', 'fact',\n",
    "                             'e.g.', 'h', 'p', 'half', 'virus', 'viru', 'disease', 'coronavirus', 'data', 'rate', 'factor',\n",
    "                             'method', 'test', 'model', 'analysis', 'health', 'death', 'measure'}\n",
    "        \n",
    "        self.corpus = None\n",
    "        \n",
    "        self.target_data = target_data\n",
    "        \n",
    "        self.vector_size = 256\n",
    "        self.window = 3\n",
    "        self.min_count = 1\n",
    "        self.worker = 4\n",
    "        self.sg = 1\n",
    "        self.negative = 20\n",
    "\n",
    "        self.epochs = 1\n",
    "\n",
    "        self.near_term_topn_val = 10\n",
    "        \n",
    "    ##### 1.\n",
    "\n",
    "    def _get_terms(self, text):\n",
    "        \n",
    "        ps = PorterStemmer()\n",
    "        #stopwords = set(stopwords.words('english'))\n",
    "        filter_terms = self.filter_terms\n",
    "        \n",
    "        def clean(text): \n",
    "            return re.sub(r'[^a-zA-Z0-9\\-]', ' ', text).lower()\n",
    "\n",
    "        def word_tokenize(text): \n",
    "            return nltk.word_tokenize(text)\n",
    "\n",
    "        def pos_tagging(tokens, pos_filter={\"NN\", \"JJ\"}):\n",
    "            tagged = nltk.pos_tag(tokens)\n",
    "            nouns = [w for (w, pos) in tagged if pos[:2] in pos_filter]\n",
    "            meaningful = [w for (w, pos) in tagged if pos[:2] in \"JJ\" and \"-\" in w]\n",
    "            return nouns + meaningful\n",
    "\n",
    "        def stemming(tokens): \n",
    "            return [ps.stem(t) for t in tokens]\n",
    "\n",
    "        def filtering(tokens): \n",
    "            return [t for t in tokens if t not in filter_terms]\n",
    "        \n",
    "        text = clean(text)\n",
    "        tokens = word_tokenize(text)\n",
    "        nouns = pos_tagging(tokens)\n",
    "        stemmed = stemming(nouns)\n",
    "        filtered = filtering(stemmed)\n",
    "\n",
    "        return \",\".join(filtered) if filtered else stemmed\n",
    "\n",
    "    def _train_corpus(self, corpus, train_data, keywords):\n",
    "        \n",
    "        near_term_topn_val = self.near_term_topn_val\n",
    "\n",
    "        corpus_4_train = [lst.split(\",\") for lst in train_data if lst]\n",
    "\n",
    "        model = Word2Vec(sentences=corpus_4_train, \n",
    "                        \n",
    "                        vector_size=self.vector_size, \n",
    "                        #size=256, \n",
    "                        \n",
    "                        window=self.window,\n",
    "                        min_count=self.min_count, \n",
    "                        workers=self.worker, \n",
    "                        sg=self.sg, \n",
    "                        negative=self.negative,\n",
    "                        \n",
    "                        epochs=self.epochs)\n",
    "\n",
    "        def nearest_terms_func(term, near_term_topn):\n",
    "            if term in model.wv.key_to_index.keys(): \n",
    "                return [x[0] for x in model.wv.most_similar(term, topn=near_term_topn)]\n",
    "            return []\n",
    "\n",
    "        min_freq = 3\n",
    "\n",
    "        total_abs_terms = [word for words in corpus if (words and (isinstance(words, str) or isinstance(words, list))) for word in words]\n",
    "        \n",
    "        abs_terms = [term for term, freq in Counter(total_abs_terms).items() if freq >= min_freq]\n",
    "\n",
    "        total_kwd_terms = [word for words in keywords.values if words for word in words.split(\",\")]\n",
    "\n",
    "        kwd_terms = [term for term, freq in Counter(total_kwd_terms).items() if freq >= min_freq]\n",
    "\n",
    "        #print(\"# total terms: before train corpus - {:,}, keywords - {:,}\".format(len(total_abs_terms), len(total_kwd_terms)))\n",
    "        #print(\"# used terms for corpus: before train corpus - {:,}, keywords - {:,}\".format(len(abs_terms), len(kwd_terms)))\n",
    "\n",
    "        nearest_terms = set()\n",
    "        for term in kwd_terms:\n",
    "            terms = nearest_terms_func(term, near_term_topn_val)\n",
    "            if terms:\n",
    "                nearest_terms.update(terms)\n",
    "        \n",
    "        # 키워드 기반으로, word2vec 에서 단어로 선정된 애들 중에서 각 키워드들이랑 가까운 단어만 엄선해서 얘들로 새로운 앱스트랙 재료 (vocab3) \n",
    "        # 만들고 각 앱스트랙의 tokened 단어들 중 이 vocab3에 들어있을 경우에만 생존시킨다\n",
    "\n",
    "        terms = set(abs_terms) & set(nearest_terms)\n",
    "        vocab_set = set(terms)\n",
    "        \n",
    "        #trained_corpus = corpus.map(lambda x: set(x) & vocab_set).map(lambda x: list(x))\n",
    "        trained_corpus = corpus.dropna().map(lambda x: set(x) & vocab_set).map(lambda x: list(x))\n",
    "        \n",
    "        return trained_corpus\n",
    "    \n",
    "    \n",
    "    def preprocess(self, train_data = None, keywords = None, train = False):\n",
    "        \n",
    "        try:\n",
    "            target_data=pd.Series(self.target_data)\n",
    "        except ValueError:\n",
    "            print(\"Input data need to be pandas.Series.\")\n",
    "            \n",
    "        \n",
    "\n",
    "        print(\"# raw data: {:,}\".format(target_data.shape[0]))\n",
    "        \n",
    "        corpus = target_data.dropna().map(lambda x: self._get_terms(x)).dropna().str.split(\",\")\n",
    "        \n",
    "        if train:\n",
    "            if (not train_data.empty) + (not keywords.empty) == 1:\n",
    "                print(\"No train data or keywords. Return non-trained corpus. Saved in .corpus attribute.\")\n",
    "                self.corpus = corpus.dropna()\n",
    "            else:\n",
    "                train_data = pd.Series(train_data).dropna().map(lambda x: self._get_terms(x))\n",
    "                temp_index = []\n",
    "                for each in train_data:\n",
    "                    temp_index.append(isinstance(each, str))\n",
    "                train_data = train_data[temp_index]\n",
    "                \n",
    "                keywords = pd.Series(keywords).dropna().map(lambda x: self._get_terms(x))\n",
    "                temp_index = []\n",
    "                for each in keywords:\n",
    "                    temp_index.append(isinstance(each, str))\n",
    "                keywords = keywords[temp_index]\n",
    "                \n",
    "                self.corpus = self._train_corpus(corpus, train_data, keywords).dropna()\n",
    "                print(\"Return trained corpus. Saved in .corpus attribute.\")\n",
    "        \n",
    "        else:\n",
    "            print(\"Return non-trained corpus. Saved in .corpus attribute.\")\n",
    "            self.corpus = corpus.dropna()\n",
    "\n",
    "\n",
    "\n",
    "        \n",
    "    ##### 2.\n",
    "            \n",
    "    def _gibbs_sampler_LDA(self, niter, V, B, num_topics, b, alpha=1., beta=0.1):\n",
    "        print (\"======= Biterm model =======\")\n",
    "        print (\"Corpus length: \" + str(len(b)))\n",
    "        print (\"Number of topics: \" + str(num_topics))\n",
    "        print (\"alpha: \" + str(alpha) + \" beta: \" + str(beta))\n",
    "        \n",
    "        \n",
    "        \n",
    "        Z =  np.zeros(B, dtype=int)\n",
    "        Nwz = np.zeros((V, num_topics), dtype=int)\n",
    "        Nz = np.zeros(num_topics, dtype=int)\n",
    "\n",
    "        theta = np.random.dirichlet([alpha]*num_topics, 1)[0]\n",
    "        \n",
    "        print()\n",
    "        \n",
    "        for ibi, bi in tqdm(enumerate(b), total = len(b), position=0, leave=True, desc = \"Sampling Nwz, Nz\"):\n",
    "            topics = np.random.choice(num_topics, 1, p=theta)[0]\n",
    "            Nwz[bi[0], topics] += 1\n",
    "            Nwz[bi[1], topics] += 1\n",
    "            Nz[topics] += 1\n",
    "            Z[ibi] = topics\n",
    "            \n",
    "        for it in range(niter):\n",
    "            print()\n",
    "            \n",
    "            print(\"Iteration: \" + str(it + 1) + \"/\" + str(niter))\n",
    "            Nzold = np.copy(Nz)\n",
    "            \n",
    "            for ibi, bi in tqdm(enumerate(b), total = len(b), position=0, leave=True, desc = \"Gibbs Sampling parameter\"):\n",
    "                Nwz[bi[0], Z[ibi]] -= 1\n",
    "                Nwz[bi[1], Z[ibi]] -= 1\n",
    "                Nz[Z[ibi]] -= 1\n",
    "                pz = (Nz + alpha)*(Nwz[bi[0],:]+beta)*(Nwz[bi[1],:]+beta)/(Nwz.sum(axis=0)+beta*V)**2\n",
    "                pz = pz/pz.sum()\n",
    "                Z[ibi] = np.random.choice(num_topics, 1, p=pz)\n",
    "                Nwz[bi[0], Z[ibi]] += 1\n",
    "                Nwz[bi[1], Z[ibi]] += 1\n",
    "                Nz[Z[ibi]] += 1      \n",
    "            print (\"Variation between iterations:  \" + str(np.sqrt(np.sum((Nz-Nzold)**2))))\n",
    "\n",
    "        return Nz, Nwz, Z\n",
    "    \n",
    "    def _pbd(self, doc, names): #probability of biterm in document. \n",
    "        ret = []\n",
    "        retnames = []\n",
    "        for term1 in set(doc):\n",
    "            cnts = 0\n",
    "            for term2 in doc:\n",
    "                if term1 == term2: cnts +=1\n",
    "            ret.append(cnts/len(doc))\n",
    "            retnames.append(term1)\n",
    "        if names: return retnames\n",
    "        else: return ret\n",
    "    \n",
    "    def _BTM(self, tokenized_docs, niter, num_topics #TODO\n",
    "            , alpha, beta):\n",
    "\n",
    "        for _ in tqdm([\"a\"], position=0, leave=True, desc = \"Preprocessing…\"):\n",
    "            tokenized_docs = pd.Series([text for text in tokenized_docs if len(tokenized_docs)>3]).dropna()\n",
    "            N = len(tokenized_docs)\n",
    "            \n",
    "            dictionary = np.array(pd.Series(list(set([word for text in tokenized_docs for word in text]))).dropna())\n",
    "            V = len(dictionary)\n",
    "\n",
    "            btmp = [[(np.where(dictionary==word1)[0][0], np.where(dictionary==word2)[0][0]) \n",
    "                        for iword1, word1 in enumerate(text) for iword2, word2 in enumerate(text) if iword1 < iword2] \n",
    "                    for text in tokenized_docs]\n",
    "\n",
    "            b = list(itertools.chain(*btmp))\n",
    "            B = len(b)\n",
    "\n",
    "        Nz, Nwz, Z = self._gibbs_sampler_LDA(niter=niter, V=V, B=B, num_topics=num_topics, b=b, alpha=alpha, beta=beta) #//TODO\n",
    "\n",
    "        phiwz = (Nwz)/np.tile((Nwz.sum(axis=0)+V*beta),(V,1))\n",
    "        thetaz = (Nz + alpha)/(B + num_topics*alpha)\n",
    "        \n",
    "        word_coefvar = np.std(phiwz, axis = 1)/np.mean(phiwz, axis = 1)\n",
    "        word_maxprob = np.max(phiwz, axis=1)\n",
    "        \n",
    "        return {\"phiwz\":phiwz, \"thetaz\":thetaz, \"dictionary\":dictionary, \n",
    "                \"word_coefvar\":word_coefvar, \"word_maxprob\":word_maxprob\n",
    "                }\n",
    "\n",
    "\n",
    "    ##### 3.\n",
    "    \n",
    "    def _LSIRM(self, \n",
    "               \n",
    "               phiwz, \n",
    "               dictionary, \n",
    "               word_maxprob,\n",
    "               \n",
    "               num_percentage,\n",
    "               ndim, niter, nburn, nthin, nprint,\n",
    "               \n",
    "               jump_beta,\n",
    "               jump_theta,\n",
    "               jump_gamma,\n",
    "               jump_z,\n",
    "               jump_w,\n",
    "               \n",
    "               pr_mean_beta,\n",
    "               pr_sd_beta,\n",
    "               pr_a_th_sigma,\n",
    "               pr_b_th_sigma,\n",
    "               pr_mean_theta,\n",
    "               pr_a_sigma,\n",
    "               pr_b_sigma,\n",
    "               pr_mean_gamma,\n",
    "               pr_sd_gamma,\n",
    "               \n",
    "               missing):\n",
    "\n",
    "        ##### 3_1. \n",
    "        \n",
    "        percentage_range = num_percentage\n",
    "\n",
    "        dict_per_perc = []\n",
    "        data_per_perc = []\n",
    "\n",
    "        for curr_perc in percentage_range:\n",
    "\n",
    "            nchosen = int(np.percentile(np.argsort(word_maxprob), curr_perc)) #FIX\n",
    "            argchosen = np.argsort(word_maxprob)[:nchosen]\n",
    "            \n",
    "            dict_per_perc.append(dictionary[argchosen])\n",
    "            data_per_perc.append(phiwz[argchosen, :])\n",
    "\n",
    "\n",
    "        output_per_perc = []\n",
    "        #output_new_per_perc = []\n",
    "\n",
    "        print()\n",
    "        \n",
    "        # for idata, data in tqdm(enumerate(data_per_perc), total = len(data_per_perc),\n",
    "        #                         position=0, leave=True, desc = \"LSIRM per perc\"):\n",
    "        \n",
    "        for idx, data in enumerate(data_per_perc):\n",
    "            \n",
    "            print(\"current:\",idx+1,\"/\",len(data_per_perc))\n",
    "\n",
    "            # Set 99 as missing\n",
    "            output2 = onepl_lsrm_cont_missing(data,\n",
    "                                              \n",
    "                                              ndim, niter, nburn, nthin, nprint,\n",
    "                                              \n",
    "                                              jump_beta, jump_theta, jump_gamma, jump_z, jump_w,\n",
    "                                              \n",
    "                                              pr_mean_beta, pr_sd_beta, pr_a_th_sigma, pr_b_th_sigma, \n",
    "                                              pr_mean_theta, pr_a_sigma, pr_b_sigma, pr_mean_gamma, \n",
    "                                              pr_sd_gamma,\n",
    "                                              \n",
    "                                              missing)\n",
    "              \n",
    "            output = {}\n",
    "\n",
    "            output[\"w\"] = output2[2]\n",
    "            output[\"z\"] = output2[3]\n",
    "            output[\"map\"] = output2[7]\n",
    "            output[\"phiwz\"] = data_per_perc[idx]\n",
    "            output[\"words\"] = dict_per_perc[idx]\n",
    "            \n",
    "            output_per_perc.append(output)\n",
    "        \n",
    "        return output_per_perc\n",
    "    \n",
    "    \n",
    "    ##### 4.\n",
    "   \n",
    "    def _procrustes_mine(self, X, X_star):\n",
    "        \n",
    "        n, m = X.shape\n",
    "        J = np.identity(n)\n",
    "        C = X_star.transpose() @ J @ X\n",
    "\n",
    "        u,d,v = np.linalg.svd(C) #원본에선 그대로 배출됐음. u는 그대로 배출. v는 transpose해줘야함.\n",
    "\n",
    "        R = v.transpose() @ u.transpose()\n",
    "    \n",
    "        tt = np.zeros((m, 1))\n",
    "\n",
    "        X_new = X @ R + np.zeros((n,m),int)\n",
    "    \n",
    "        return X_new\n",
    "    \n",
    "    \n",
    "    def _proc2_oblim(self, niter, nburn, nthin, ndim, outputs):\n",
    "        \n",
    "        output_proc = []\n",
    "        \n",
    "        for ioutput, output in enumerate(outputs):\n",
    "            \n",
    "            phiwz = output[\"phiwz\"]\n",
    "            nword, ntopic = phiwz.shape\n",
    "            nmcmc = int((niter - nburn) / nthin) \n",
    "        \n",
    "            max_address = np.argmax(output['map'])\n",
    "            \n",
    "            # w_star = output['w'][max_address, :, :]\n",
    "            z_star = output['z'][max_address, :, :] #matrix become basis for procrustes\n",
    "            \n",
    "            # w_proc = np.zeros((nmcmc, nword, ndim), )\n",
    "            z_proc = np.zeros((nmcmc, ntopic, ndim), )\n",
    "            \n",
    "            for iter in range(nmcmc):\n",
    "\n",
    "                z_iter = output['z'][iter, :, :]\n",
    "                if iter != max_address:\n",
    "                    z_proc[iter, :, :] = self._procrustes_mine(z_iter, z_star)\n",
    "                else:\n",
    "                    z_proc[iter, :, :] = z_iter\n",
    "\n",
    "                # w_iter = output['w'][iter, :, :]\n",
    "                # if iter != max_address:\n",
    "                #     w_proc[iter, :, :] = self._procrustes_mine(w_iter, w_star) \n",
    "                # else:\n",
    "                #     w_proc[iter, :, :] = w_iter\n",
    "                \n",
    "                #until here, each word and topic's latent positions are procrustesed based on maximizing matrix\n",
    "                #in short, we made procrustes for each MCMC samples generated from LSIRM\n",
    "                #in other word, within-matrix matching\n",
    "                #Then we need to have procrustes one more time\n",
    "                #for estimated matrices, to locate topics on the same quadrant\n",
    "\n",
    "\n",
    "            # meanw_proc = np.empty((nword, ndim,), )\n",
    "            # for k in range(nword):\n",
    "            #     for j in range(ndim):\n",
    "            #         meanw_proc[k, j] = w_proc[:, k, j].mean()\n",
    "\n",
    "            meanz_proc = np.empty((ntopic, ndim), ) #estimated, procrustes 한 결과들을 평균값함. 이인즉 nmcmc에서 \n",
    "            for i in range(ntopic):\n",
    "                for j in range(ndim):\n",
    "                    meanz_proc[i, j] = z_proc[:, i, j].mean()\n",
    "            \n",
    "            self.meanz_proc = meanz_proc\n",
    "            print(\"meaned data among MCMC samples which are procrustesed saved in .meanz_proc attribute.\")        \n",
    "            \n",
    "            # \"z_estimate\": z_est,\n",
    "            # \"w_estimate\": w_est,\n",
    "            # \"words\": output[\"words\"]\n",
    "            \n",
    "            # output_proc.append(output_new)\n",
    "\n",
    "            # meanw_proc\n",
    "\n",
    "            # total_dist = []\n",
    "\n",
    "            # for each in meanz_proc:\n",
    "            #     total_dist.append(np.sum(np.sqrt(np.sum(each ** 2, axis=1))))\n",
    "            total_dist = np.sqrt(np.sum(meanz_proc ** 2, axis=1))\n",
    "\n",
    "            iamax = np.argmax(total_dist)\n",
    "            meanz_proc_amax = meanz_proc[iamax]\n",
    "            \n",
    "            self.meanz_proc_amax = meanz_proc_amax\n",
    "            \n",
    "            print(\"amax data among procrustesed saved in .meanz_proc_amax attribute.\")        \n",
    "\n",
    "            meanz_proc2 = []\n",
    "\n",
    "            for idx, each in enumerate(meanz_proc):\n",
    "                if idx == iamax: meanz_proc2.append(each)\n",
    "                else: meanz_proc2.append(tcv._procrustes_mine(each, meanz_proc_amax))\n",
    "            \n",
    "            self.meanz_proc2 = meanz_proc2\n",
    "            print(\"procrustes twice data saved in .meanz_proc2 attribute.\")\n",
    "\n",
    "            meanz_proc2_oblim = []\n",
    "\n",
    "            rotator = Rotator(method = \"oblimin\")\n",
    "\n",
    "            for each in meanz_proc2:\n",
    "                meanz_proc2_oblim.append(rotator.fit_transform(each))\n",
    "               \n",
    "            self.meanz_proc2_oblim = meanz_proc2_oblim\n",
    "            \n",
    "            print(\"procrustes twice, oblimin rotated data saved in .meanz_proc2_oblim attribute.\")\n",
    "\n",
    "        return {\"total_dist\":total_dist, \"proc2_zs\":proc2_zs}\n",
    "\n",
    "        \n",
    "\n",
    "    def most_words_per_topic(self, a_i, nchoice = 30):\n",
    "\n",
    "        a_i_wz = a_i[\"w_estimate\"] @ a_i[\"z_estimate\"].transpose()\n",
    "\n",
    "        mwpt = []\n",
    "\n",
    "        for j in range(a_i_wz.shape[1]):\n",
    "            mwpt.append(a_i[\"words\"][np.argsort(-a_i_wz[:,j])[:nchoice]])\n",
    "        \n",
    "        return mwpt\n",
    "    \n",
    "    \n",
    "\n",
    "\n",
    "    def fit(self, \n",
    "            \n",
    "            niter1 = 20,\n",
    "            #nburn1 = 0,\n",
    "            #nthin1 = 1\n",
    "            num_topics1 = 20,\n",
    "            alpha1 = 1.0,\n",
    "            beta1 = 0.1,\n",
    "            \n",
    "            num_percentage2 = 21,\n",
    "            \n",
    "            ndim2 = 2, niter2 = 55000, nburn2 = 5000, nthin2 = 5, nprint2 = 5000,\n",
    "            \n",
    "            jump_beta2 = 0.28,\n",
    "            jump_theta2 = 1.0,\n",
    "            jump_gamma2 = 0.01,\n",
    "            jump_z2 = 0.06,\n",
    "            jump_w2 = 0.06,\n",
    "            pr_mean_beta2 = 0,\n",
    "            pr_sd_beta2 = 1,\n",
    "            pr_a_th_sigma2 = 0.001,\n",
    "            pr_b_th_sigma2 = 0.001,\n",
    "            pr_mean_theta2 = 0,\n",
    "            pr_a_sigma2 = 0.001,\n",
    "            pr_b_sigma2 = 0.001,\n",
    "            pr_mean_gamma2 = 0.0,\n",
    "            pr_sd_gamma2 = 1.0,\n",
    "            \n",
    "            missing2 = 99):\n",
    "        \n",
    "        start = time.time()\n",
    "        \n",
    "        tokenized_docs = self.corpus\n",
    "        \n",
    "        btm = self._BTM(tokenized_docs, \n",
    "                        niter = niter1, \n",
    "                        num_topics = num_topics1, \n",
    "                        alpha = alpha1, \n",
    "                        beta = beta1)\n",
    "        \n",
    "        \n",
    "        #btm[\"phiwz\"] = np.log(btm[\"phiwz\"] / (1-btm[\"phiwz\"]))\n",
    "        \n",
    "\n",
    "\n",
    "        \"\"\"\n",
    "        모든 topic의 분포는 theta ~ 디리클레 알파를 따름\n",
    "\n",
    "        biterm 총체 B에서 biterm b를 뽑으면, 이 biterm이 어느 topic z에 속할지는 z ~ 다항분포 세타\n",
    "\n",
    "        topic z의 topic-word 분포는 phi_z ~ 디리클레 베타를 따름\n",
    "        topic = z, word = w. z가 정해졌을 때 이로부터 각 단어가 가지는 확률을 모아서 set으로 한것이 phi_z.\n",
    "\n",
    "        골라진 topic에 대응하는 topic-word 분포로부터 단어 2개가 골라질 확률은 w_i, w_j ~ 다항(phi_z)를 따름\n",
    "        \"\"\"\n",
    "\n",
    "\n",
    "        \n",
    "        percentage_range, lsirm = self._LSIRM(phiwz = btm[\"phiwz\"], \n",
    "                            dictionary = btm[\"dictionary\"], \n",
    "                            word_maxprob = btm[\"word_maxprob\"],\n",
    "                            \n",
    "                            num_percentage = num_percentage2,\n",
    "                            ndim = ndim2, \n",
    "                            niter = niter2, \n",
    "                            nburn = nburn2, \n",
    "                            nthin = nthin2, \n",
    "                            nprint = nprint2,\n",
    "                            \n",
    "                            jump_beta = jump_beta2,\n",
    "                            jump_theta = jump_theta2,\n",
    "                            jump_gamma = jump_gamma2,\n",
    "                            jump_z = jump_z2,\n",
    "                            jump_w = jump_w2,            \n",
    "                            \n",
    "                            pr_mean_beta = pr_mean_beta2,\n",
    "                            pr_sd_beta = pr_sd_beta2,\n",
    "                            pr_a_th_sigma = pr_a_th_sigma2,\n",
    "                            pr_b_th_sigma = pr_b_th_sigma2,\n",
    "                            pr_mean_theta = pr_mean_theta2,\n",
    "                            pr_a_sigma = pr_a_sigma2,\n",
    "                            pr_b_sigma = pr_b_sigma2,\n",
    "                            pr_mean_gamma = pr_mean_gamma2,\n",
    "                            pr_sd_gamma = pr_sd_gamma2,\n",
    "                            \n",
    "                            missing = missing2)        \n",
    "        \n",
    "        \n",
    "        temp_proc2_zs = self._proc2(niter = niter2, \n",
    "                                    nburn = nburn2, \n",
    "                                    nthin = nthin2, \n",
    "                                    ndim = ndim2, \n",
    "                                    outputs = lsirm)\n",
    "        \n",
    "        oblimin_proc2_zs = self._oblimin(proc2s = temp_proc2_zs[\"proc2_zs\"])\n",
    "        \n",
    "        self.iamax = temp_proc2_zs[\"iamax\"]\n",
    "        self.amax = temp_proc2_zs[\"amax_data\"][\"z_estimate\"]\n",
    "        self.amax_data = temp_proc2_zs[\"amax_data\"]\n",
    "        self.oblimin_proc2_zs = oblimin_proc2_zs\n",
    "        #self.data_topics = self.most_words_per_topic(temp_proc2_zs[\"amax_data\"])[:,0]\n",
    "        self.percentile_range = percentage_range\n",
    "        \n",
    "        \n",
    "        print(\"elapsed time: \" + str(time.time() - start))\n",
    "        \n",
    "        return self"
   ]
  },
  {
   "cell_type": "code",
   "execution_count": 6,
   "id": "6c4d3dc3-8aae-4780-b732-0860e3108542",
   "metadata": {
    "tags": []
   },
   "outputs": [],
   "source": [
    "import plotly.express as px\n",
    "import plotly.graph_objects as go\n",
    "\n",
    "import numpy as np\n",
    "import pandas as pd\n",
    "\n",
    "class Plots:\n",
    "    def topic_coor_plot(self, \n",
    "                        a_i,\n",
    "                        topic_names = None):\n",
    "        \n",
    "        if topic_names == None: \n",
    "            topic_names = [str(i) for i in range(a_i.shape[0])]\n",
    "        \n",
    "        a_i = pd.DataFrame(a_i, columns = [\"coordinate_1\", \"coordinate_2\"])\n",
    "        a_i[\"topic_name\"] = topic_names\n",
    "        \n",
    "        fig = px.scatter(a_i, x=\"coordinate_1\", y=\"coordinate_2\", color = \"topic_name\")\n",
    "        fig.update_xaxes(range=[-np.max(np.abs(a_i.iloc[:,0:2]), axis=0)[0]-0.3, \n",
    "                                np.max(np.abs(a_i.iloc[:,0:2]), axis=0)[0]+0.3], \n",
    "                         #rangemode = \"tozero\",\n",
    "                         zeroline=True, zerolinecolor=\"gray\")\n",
    "        fig.update_yaxes(range=[-np.max(np.abs(a_i.iloc[:,0:2]), axis=0)[1]-0.3, \n",
    "                                np.max(np.abs(a_i.iloc[:,0:2]), axis=0)[1]+0.3], \n",
    "                         #rangemode = \"tozero\",\n",
    "                         zeroline=True, zerolinecolor=\"gray\")\n",
    "        fig.show()\n",
    "        \n",
    "        return self\n",
    "    \n",
    "    \n",
    "\n",
    "    def topic_trajectory_plot(self, \n",
    "                              a_is,\n",
    "                              topic_names = None):\n",
    "        \n",
    "        if topic_names == None: \n",
    "            topic_names = [str(i) for i in range(a_is[0].shape[0])]\n",
    "        \n",
    "        fig = go.Figure()\n",
    "\n",
    "        for i in range(np.array(a_is).shape[1]):\n",
    "            a_i = np.array(a_is)[:,i,:]\n",
    "            \n",
    "            fig.add_trace(go.Scatter(x=a_i[:,0], y=a_i[:,1],\n",
    "                            mode='lines+markers',\n",
    "                            name=topic_names[i]))\n",
    "\n",
    "        a_i = a_is[0]\n",
    "\n",
    "        fig.add_trace(go.Scatter(x=a_i[:,0], y=a_i[:,1],\n",
    "                            mode='text',\n",
    "                            text=topic_names,\n",
    "                            textposition=\"top left\",\n",
    "                            name=\"Most percentile\"))\n",
    "\n",
    "        fig.update_xaxes(rangemode = \"tozero\", zeroline=True, zerolinecolor=\"gray\")\n",
    "        fig.update_yaxes(rangemode = \"tozero\", zeroline=True, zerolinecolor=\"gray\")\n",
    "\n",
    "        fig.show()\n",
    "        \n",
    "        return self\n",
    "        \n",
    "\n",
    "\n"
   ]
  },
  {
   "cell_type": "code",
   "execution_count": 13,
   "id": "f3e6c175-fd7d-4c1f-86eb-bf58cd4a2676",
   "metadata": {},
   "outputs": [],
   "source": [
    "temp = pd.read_csv(\"raw_mis_15281_savedrecs.csv\").loc[:, [\"Article Title\", \"Author Keywords\", \"Keywords Plus\", \"Abstract\"]]\n",
    "\n",
    "titles = temp[\"Article Title\"]\n",
    "keywords = pd.concat([temp[\"Author Keywords\"], temp[\"Keywords Plus\"] ])\n",
    "data = temp[\"Abstract\"]"
   ]
  },
  {
   "cell_type": "code",
   "execution_count": 39,
   "id": "f3fe3e72-e12c-4594-aa26-f38884cb7dd7",
   "metadata": {},
   "outputs": [],
   "source": [
    "tcv = TopicClusterVisualizer(data)\n",
    "\n",
    "# tcv.preprocess(titles, keywords, True)"
   ]
  },
  {
   "cell_type": "code",
   "execution_count": 15,
   "id": "c01cbd34-7e08-49d8-bf81-53f52fd0ec77",
   "metadata": {},
   "outputs": [],
   "source": [
    "pwz = pd.read_csv(\"k20.pw_z\", sep=' ', header=None).iloc[:,:-1] #각 주제에서의 단어출현확률\n",
    "pz = pd.read_csv(\"k20.pz\", sep=' ', header=None).iloc[:,:-1] #각 주제의 출현 확률\n",
    "pzd = pd.read_csv(\"k20.pz_d\", sep=' ', header=None).iloc[:,:-1] #각 글줄에서의 주제확률농도?\n",
    "\n",
    "voca = np.array(pd.read_csv(\"voca.txt\",  sep='\\t', header=None).iloc[:,1]) #각 주제에서의 단어출현확률\n",
    "maxprob = np.max(pwz, axis=1)"
   ]
  },
  {
   "cell_type": "code",
   "execution_count": 16,
   "id": "6f8ef27d-69d5-4f35-b09c-04df837007a6",
   "metadata": {
    "tags": []
   },
   "outputs": [],
   "source": [
    "num_percentage2 = 21,\n",
    "        \n",
    "ndim2 = 2\n",
    "niter2 = 55000\n",
    "nburn2 = 5000\n",
    "nthin2 = 5\n",
    "nprint2 = 0\n",
    "\n",
    "jump_beta2 = 0.28\n",
    "jump_theta2 = 1.0\n",
    "jump_gamma2 = 0.01\n",
    "jump_z2 = 0.06\n",
    "jump_w2 = 0.06\n",
    "pr_mean_beta2 = 0\n",
    "pr_sd_beta2 = 1\n",
    "pr_a_th_sigma2 = 0.001\n",
    "pr_b_th_sigma2 = 0.001\n",
    "pr_mean_theta2 = 0\n",
    "pr_a_sigma2 = 0.001\n",
    "pr_b_sigma2 = 0.001\n",
    "pr_mean_gamma2 = 1.0\n",
    "pr_sd_gamma2 = 1.0\n",
    "\n",
    "missing2 = 99"
   ]
  },
  {
   "cell_type": "code",
   "execution_count": 17,
   "id": "613471f5-9004-4fc7-857e-e0f92e5e590e",
   "metadata": {},
   "outputs": [
    {
     "data": {
      "text/html": [
       "<div>\n",
       "<style scoped>\n",
       "    .dataframe tbody tr th:only-of-type {\n",
       "        vertical-align: middle;\n",
       "    }\n",
       "\n",
       "    .dataframe tbody tr th {\n",
       "        vertical-align: top;\n",
       "    }\n",
       "\n",
       "    .dataframe thead th {\n",
       "        text-align: right;\n",
       "    }\n",
       "</style>\n",
       "<table border=\"1\" class=\"dataframe\">\n",
       "  <thead>\n",
       "    <tr style=\"text-align: right;\">\n",
       "      <th></th>\n",
       "      <th>0</th>\n",
       "      <th>1</th>\n",
       "      <th>2</th>\n",
       "      <th>3</th>\n",
       "      <th>4</th>\n",
       "      <th>5</th>\n",
       "      <th>6</th>\n",
       "      <th>7</th>\n",
       "      <th>8</th>\n",
       "      <th>9</th>\n",
       "      <th>10</th>\n",
       "      <th>11</th>\n",
       "      <th>12</th>\n",
       "      <th>13</th>\n",
       "      <th>14</th>\n",
       "      <th>15</th>\n",
       "      <th>16</th>\n",
       "      <th>17</th>\n",
       "      <th>18</th>\n",
       "      <th>19</th>\n",
       "    </tr>\n",
       "  </thead>\n",
       "  <tbody>\n",
       "    <tr>\n",
       "      <th>0</th>\n",
       "      <td>8.349030e-04</td>\n",
       "      <td>6.729210e-09</td>\n",
       "      <td>1.689000e-03</td>\n",
       "      <td>5.351030e-09</td>\n",
       "      <td>1.505640e-08</td>\n",
       "      <td>1.214050e-08</td>\n",
       "      <td>7.569800e-09</td>\n",
       "      <td>3.796450e-09</td>\n",
       "      <td>3.547430e-04</td>\n",
       "      <td>1.518420e-03</td>\n",
       "      <td>1.343740e-08</td>\n",
       "      <td>5.589920e-04</td>\n",
       "      <td>4.561440e-09</td>\n",
       "      <td>2.863000e-09</td>\n",
       "      <td>5.304350e-09</td>\n",
       "      <td>1.937910e-05</td>\n",
       "      <td>1.548980e-03</td>\n",
       "      <td>3.181390e-05</td>\n",
       "      <td>1.173240e-08</td>\n",
       "      <td>1.293490e-08</td>\n",
       "    </tr>\n",
       "    <tr>\n",
       "      <th>1</th>\n",
       "      <td>2.699710e-03</td>\n",
       "      <td>6.729210e-09</td>\n",
       "      <td>1.371870e-03</td>\n",
       "      <td>5.351030e-09</td>\n",
       "      <td>1.505640e-08</td>\n",
       "      <td>2.170740e-03</td>\n",
       "      <td>7.569800e-09</td>\n",
       "      <td>3.796450e-09</td>\n",
       "      <td>1.074950e-08</td>\n",
       "      <td>3.917170e-03</td>\n",
       "      <td>1.076340e-05</td>\n",
       "      <td>8.574520e-04</td>\n",
       "      <td>4.561440e-09</td>\n",
       "      <td>2.863000e-09</td>\n",
       "      <td>5.304350e-09</td>\n",
       "      <td>3.027510e-09</td>\n",
       "      <td>4.486840e-03</td>\n",
       "      <td>7.951480e-09</td>\n",
       "      <td>1.173240e-08</td>\n",
       "      <td>3.401890e-03</td>\n",
       "    </tr>\n",
       "    <tr>\n",
       "      <th>2</th>\n",
       "      <td>1.710830e-08</td>\n",
       "      <td>6.729210e-09</td>\n",
       "      <td>1.174540e-08</td>\n",
       "      <td>1.177760e-05</td>\n",
       "      <td>1.505640e-08</td>\n",
       "      <td>1.214050e-08</td>\n",
       "      <td>7.569800e-09</td>\n",
       "      <td>3.796450e-09</td>\n",
       "      <td>1.074950e-08</td>\n",
       "      <td>3.770270e-04</td>\n",
       "      <td>1.343740e-08</td>\n",
       "      <td>1.264660e-08</td>\n",
       "      <td>4.561440e-09</td>\n",
       "      <td>1.746460e-04</td>\n",
       "      <td>5.304350e-09</td>\n",
       "      <td>3.027510e-09</td>\n",
       "      <td>7.846860e-09</td>\n",
       "      <td>7.951480e-09</td>\n",
       "      <td>1.173240e-08</td>\n",
       "      <td>1.293490e-08</td>\n",
       "    </tr>\n",
       "    <tr>\n",
       "      <th>3</th>\n",
       "      <td>1.710830e-08</td>\n",
       "      <td>6.729210e-09</td>\n",
       "      <td>1.977930e-03</td>\n",
       "      <td>5.351030e-09</td>\n",
       "      <td>1.505640e-08</td>\n",
       "      <td>4.297870e-04</td>\n",
       "      <td>7.569800e-09</td>\n",
       "      <td>3.796450e-09</td>\n",
       "      <td>8.965160e-04</td>\n",
       "      <td>2.337430e-03</td>\n",
       "      <td>1.343740e-08</td>\n",
       "      <td>1.264660e-08</td>\n",
       "      <td>4.561440e-09</td>\n",
       "      <td>8.646300e-04</td>\n",
       "      <td>5.304350e-09</td>\n",
       "      <td>3.027510e-09</td>\n",
       "      <td>4.300160e-04</td>\n",
       "      <td>7.951480e-09</td>\n",
       "      <td>1.173240e-08</td>\n",
       "      <td>1.293490e-08</td>\n",
       "    </tr>\n",
       "    <tr>\n",
       "      <th>4</th>\n",
       "      <td>1.611620e-03</td>\n",
       "      <td>6.029440e-04</td>\n",
       "      <td>1.174540e-08</td>\n",
       "      <td>1.279970e-03</td>\n",
       "      <td>3.956830e-03</td>\n",
       "      <td>1.942500e-03</td>\n",
       "      <td>1.415560e-03</td>\n",
       "      <td>3.796450e-09</td>\n",
       "      <td>1.074950e-08</td>\n",
       "      <td>4.386480e-03</td>\n",
       "      <td>1.343740e-08</td>\n",
       "      <td>4.879070e-03</td>\n",
       "      <td>4.561440e-09</td>\n",
       "      <td>3.816960e-03</td>\n",
       "      <td>5.304350e-09</td>\n",
       "      <td>3.027510e-09</td>\n",
       "      <td>7.884530e-03</td>\n",
       "      <td>8.588400e-05</td>\n",
       "      <td>1.173240e-08</td>\n",
       "      <td>1.293490e-08</td>\n",
       "    </tr>\n",
       "    <tr>\n",
       "      <th>...</th>\n",
       "      <td>...</td>\n",
       "      <td>...</td>\n",
       "      <td>...</td>\n",
       "      <td>...</td>\n",
       "      <td>...</td>\n",
       "      <td>...</td>\n",
       "      <td>...</td>\n",
       "      <td>...</td>\n",
       "      <td>...</td>\n",
       "      <td>...</td>\n",
       "      <td>...</td>\n",
       "      <td>...</td>\n",
       "      <td>...</td>\n",
       "      <td>...</td>\n",
       "      <td>...</td>\n",
       "      <td>...</td>\n",
       "      <td>...</td>\n",
       "      <td>...</td>\n",
       "      <td>...</td>\n",
       "      <td>...</td>\n",
       "    </tr>\n",
       "    <tr>\n",
       "      <th>3075</th>\n",
       "      <td>1.710830e-08</td>\n",
       "      <td>6.729210e-09</td>\n",
       "      <td>1.174540e-08</td>\n",
       "      <td>5.351030e-09</td>\n",
       "      <td>1.505640e-08</td>\n",
       "      <td>1.214050e-08</td>\n",
       "      <td>7.569800e-09</td>\n",
       "      <td>3.796450e-09</td>\n",
       "      <td>1.074950e-08</td>\n",
       "      <td>3.035620e-09</td>\n",
       "      <td>1.343740e-08</td>\n",
       "      <td>1.264660e-08</td>\n",
       "      <td>4.561440e-09</td>\n",
       "      <td>2.863000e-09</td>\n",
       "      <td>2.970960e-05</td>\n",
       "      <td>3.027510e-09</td>\n",
       "      <td>7.846860e-09</td>\n",
       "      <td>7.951480e-09</td>\n",
       "      <td>1.173240e-08</td>\n",
       "      <td>1.293490e-08</td>\n",
       "    </tr>\n",
       "    <tr>\n",
       "      <th>3076</th>\n",
       "      <td>4.449880e-05</td>\n",
       "      <td>6.729210e-09</td>\n",
       "      <td>1.174540e-08</td>\n",
       "      <td>5.351030e-09</td>\n",
       "      <td>1.505640e-08</td>\n",
       "      <td>1.214050e-08</td>\n",
       "      <td>7.569800e-09</td>\n",
       "      <td>3.796450e-09</td>\n",
       "      <td>1.074950e-08</td>\n",
       "      <td>3.035620e-09</td>\n",
       "      <td>1.343740e-08</td>\n",
       "      <td>1.264660e-08</td>\n",
       "      <td>4.561440e-09</td>\n",
       "      <td>2.863000e-09</td>\n",
       "      <td>1.379660e-05</td>\n",
       "      <td>1.214030e-06</td>\n",
       "      <td>7.846860e-09</td>\n",
       "      <td>7.951480e-09</td>\n",
       "      <td>1.173240e-08</td>\n",
       "      <td>1.293490e-08</td>\n",
       "    </tr>\n",
       "    <tr>\n",
       "      <th>3077</th>\n",
       "      <td>1.710830e-08</td>\n",
       "      <td>6.729210e-09</td>\n",
       "      <td>1.174540e-08</td>\n",
       "      <td>5.351030e-09</td>\n",
       "      <td>1.505640e-08</td>\n",
       "      <td>1.214050e-08</td>\n",
       "      <td>7.569800e-09</td>\n",
       "      <td>3.796450e-09</td>\n",
       "      <td>1.074950e-08</td>\n",
       "      <td>3.035620e-09</td>\n",
       "      <td>1.343740e-08</td>\n",
       "      <td>1.264660e-08</td>\n",
       "      <td>1.277660e-05</td>\n",
       "      <td>2.863000e-09</td>\n",
       "      <td>3.187910e-06</td>\n",
       "      <td>3.027510e-09</td>\n",
       "      <td>7.846860e-09</td>\n",
       "      <td>7.951480e-09</td>\n",
       "      <td>1.173240e-08</td>\n",
       "      <td>1.293490e-08</td>\n",
       "    </tr>\n",
       "    <tr>\n",
       "      <th>3078</th>\n",
       "      <td>4.449880e-05</td>\n",
       "      <td>6.729210e-09</td>\n",
       "      <td>1.174540e-08</td>\n",
       "      <td>5.351030e-09</td>\n",
       "      <td>1.505640e-08</td>\n",
       "      <td>1.214050e-08</td>\n",
       "      <td>7.569800e-09</td>\n",
       "      <td>3.796450e-09</td>\n",
       "      <td>1.074950e-08</td>\n",
       "      <td>3.038660e-06</td>\n",
       "      <td>1.343740e-08</td>\n",
       "      <td>1.264660e-08</td>\n",
       "      <td>4.561440e-09</td>\n",
       "      <td>2.863000e-09</td>\n",
       "      <td>5.304350e-09</td>\n",
       "      <td>3.027510e-09</td>\n",
       "      <td>7.846860e-09</td>\n",
       "      <td>7.951480e-09</td>\n",
       "      <td>1.173240e-08</td>\n",
       "      <td>1.293490e-08</td>\n",
       "    </tr>\n",
       "    <tr>\n",
       "      <th>3079</th>\n",
       "      <td>1.710830e-08</td>\n",
       "      <td>6.729210e-09</td>\n",
       "      <td>1.174540e-08</td>\n",
       "      <td>5.351030e-09</td>\n",
       "      <td>1.505640e-08</td>\n",
       "      <td>1.214050e-08</td>\n",
       "      <td>7.569800e-09</td>\n",
       "      <td>3.796450e-09</td>\n",
       "      <td>1.074950e-08</td>\n",
       "      <td>1.153840e-05</td>\n",
       "      <td>1.343740e-08</td>\n",
       "      <td>1.264660e-08</td>\n",
       "      <td>4.561440e-09</td>\n",
       "      <td>2.863000e-09</td>\n",
       "      <td>5.304350e-09</td>\n",
       "      <td>3.027510e-09</td>\n",
       "      <td>7.846860e-09</td>\n",
       "      <td>7.951480e-09</td>\n",
       "      <td>1.173240e-08</td>\n",
       "      <td>1.293490e-08</td>\n",
       "    </tr>\n",
       "  </tbody>\n",
       "</table>\n",
       "<p>3080 rows × 20 columns</p>\n",
       "</div>"
      ],
      "text/plain": [
       "                0             1             2             3             4   \\\n",
       "0     8.349030e-04  6.729210e-09  1.689000e-03  5.351030e-09  1.505640e-08   \n",
       "1     2.699710e-03  6.729210e-09  1.371870e-03  5.351030e-09  1.505640e-08   \n",
       "2     1.710830e-08  6.729210e-09  1.174540e-08  1.177760e-05  1.505640e-08   \n",
       "3     1.710830e-08  6.729210e-09  1.977930e-03  5.351030e-09  1.505640e-08   \n",
       "4     1.611620e-03  6.029440e-04  1.174540e-08  1.279970e-03  3.956830e-03   \n",
       "...            ...           ...           ...           ...           ...   \n",
       "3075  1.710830e-08  6.729210e-09  1.174540e-08  5.351030e-09  1.505640e-08   \n",
       "3076  4.449880e-05  6.729210e-09  1.174540e-08  5.351030e-09  1.505640e-08   \n",
       "3077  1.710830e-08  6.729210e-09  1.174540e-08  5.351030e-09  1.505640e-08   \n",
       "3078  4.449880e-05  6.729210e-09  1.174540e-08  5.351030e-09  1.505640e-08   \n",
       "3079  1.710830e-08  6.729210e-09  1.174540e-08  5.351030e-09  1.505640e-08   \n",
       "\n",
       "                5             6             7             8             9   \\\n",
       "0     1.214050e-08  7.569800e-09  3.796450e-09  3.547430e-04  1.518420e-03   \n",
       "1     2.170740e-03  7.569800e-09  3.796450e-09  1.074950e-08  3.917170e-03   \n",
       "2     1.214050e-08  7.569800e-09  3.796450e-09  1.074950e-08  3.770270e-04   \n",
       "3     4.297870e-04  7.569800e-09  3.796450e-09  8.965160e-04  2.337430e-03   \n",
       "4     1.942500e-03  1.415560e-03  3.796450e-09  1.074950e-08  4.386480e-03   \n",
       "...            ...           ...           ...           ...           ...   \n",
       "3075  1.214050e-08  7.569800e-09  3.796450e-09  1.074950e-08  3.035620e-09   \n",
       "3076  1.214050e-08  7.569800e-09  3.796450e-09  1.074950e-08  3.035620e-09   \n",
       "3077  1.214050e-08  7.569800e-09  3.796450e-09  1.074950e-08  3.035620e-09   \n",
       "3078  1.214050e-08  7.569800e-09  3.796450e-09  1.074950e-08  3.038660e-06   \n",
       "3079  1.214050e-08  7.569800e-09  3.796450e-09  1.074950e-08  1.153840e-05   \n",
       "\n",
       "                10            11            12            13            14  \\\n",
       "0     1.343740e-08  5.589920e-04  4.561440e-09  2.863000e-09  5.304350e-09   \n",
       "1     1.076340e-05  8.574520e-04  4.561440e-09  2.863000e-09  5.304350e-09   \n",
       "2     1.343740e-08  1.264660e-08  4.561440e-09  1.746460e-04  5.304350e-09   \n",
       "3     1.343740e-08  1.264660e-08  4.561440e-09  8.646300e-04  5.304350e-09   \n",
       "4     1.343740e-08  4.879070e-03  4.561440e-09  3.816960e-03  5.304350e-09   \n",
       "...            ...           ...           ...           ...           ...   \n",
       "3075  1.343740e-08  1.264660e-08  4.561440e-09  2.863000e-09  2.970960e-05   \n",
       "3076  1.343740e-08  1.264660e-08  4.561440e-09  2.863000e-09  1.379660e-05   \n",
       "3077  1.343740e-08  1.264660e-08  1.277660e-05  2.863000e-09  3.187910e-06   \n",
       "3078  1.343740e-08  1.264660e-08  4.561440e-09  2.863000e-09  5.304350e-09   \n",
       "3079  1.343740e-08  1.264660e-08  4.561440e-09  2.863000e-09  5.304350e-09   \n",
       "\n",
       "                15            16            17            18            19  \n",
       "0     1.937910e-05  1.548980e-03  3.181390e-05  1.173240e-08  1.293490e-08  \n",
       "1     3.027510e-09  4.486840e-03  7.951480e-09  1.173240e-08  3.401890e-03  \n",
       "2     3.027510e-09  7.846860e-09  7.951480e-09  1.173240e-08  1.293490e-08  \n",
       "3     3.027510e-09  4.300160e-04  7.951480e-09  1.173240e-08  1.293490e-08  \n",
       "4     3.027510e-09  7.884530e-03  8.588400e-05  1.173240e-08  1.293490e-08  \n",
       "...            ...           ...           ...           ...           ...  \n",
       "3075  3.027510e-09  7.846860e-09  7.951480e-09  1.173240e-08  1.293490e-08  \n",
       "3076  1.214030e-06  7.846860e-09  7.951480e-09  1.173240e-08  1.293490e-08  \n",
       "3077  3.027510e-09  7.846860e-09  7.951480e-09  1.173240e-08  1.293490e-08  \n",
       "3078  3.027510e-09  7.846860e-09  7.951480e-09  1.173240e-08  1.293490e-08  \n",
       "3079  3.027510e-09  7.846860e-09  7.951480e-09  1.173240e-08  1.293490e-08  \n",
       "\n",
       "[3080 rows x 20 columns]"
      ]
     },
     "execution_count": 17,
     "metadata": {},
     "output_type": "execute_result"
    }
   ],
   "source": [
    "pwz = pwz.transpose()\n",
    "pwz"
   ]
  },
  {
   "cell_type": "code",
   "execution_count": 18,
   "id": "5cdbd542-ce9d-44df-8464-ee53da3b0c82",
   "metadata": {},
   "outputs": [
    {
     "data": {
      "text/plain": [
       "0       1.745074\n",
       "1       1.564180\n",
       "2       3.143059\n",
       "3       1.922449\n",
       "4       1.368477\n",
       "          ...   \n",
       "3075    4.332751\n",
       "3076    3.347323\n",
       "3077    3.511336\n",
       "3078    4.061036\n",
       "3079    4.291299\n",
       "Length: 3080, dtype: float64"
      ]
     },
     "execution_count": 18,
     "metadata": {},
     "output_type": "execute_result"
    }
   ],
   "source": [
    "word_coefvar = np.std(pwz, axis = 1)/np.mean(pwz, axis = 1)\n",
    "word_coefvar"
   ]
  },
  {
   "cell_type": "code",
   "execution_count": 19,
   "id": "203b1b07-1c2b-4e7d-82b5-d03240f8d8cf",
   "metadata": {},
   "outputs": [
    {
     "data": {
      "text/plain": [
       "0       0.001689\n",
       "1       0.004487\n",
       "2       0.000377\n",
       "3       0.002337\n",
       "4       0.007885\n",
       "          ...   \n",
       "3075    0.000030\n",
       "3076    0.000044\n",
       "3077    0.000013\n",
       "3078    0.000044\n",
       "3079    0.000012\n",
       "Length: 3080, dtype: float64"
      ]
     },
     "execution_count": 19,
     "metadata": {},
     "output_type": "execute_result"
    }
   ],
   "source": [
    "word_maxprob = np.max(pwz, axis=1)\n",
    "word_maxprob"
   ]
  },
  {
   "cell_type": "code",
   "execution_count": 306,
   "id": "dce2a7cc-cdb4-4d33-bfa1-27bd4906fb4f",
   "metadata": {},
   "outputs": [],
   "source": [
    "phiwz = np.log(pwz/(1-pwz))"
   ]
  },
  {
   "cell_type": "code",
   "execution_count": 314,
   "id": "d315b998-28bf-45f7-b750-b55af316cb4f",
   "metadata": {},
   "outputs": [],
   "source": [
    "phiwz.isna()\n",
    "\n",
    "phiwz = np.nan_to_num(phiwz, nan=99)"
   ]
  },
  {
   "cell_type": "code",
   "execution_count": null,
   "id": "32158005-d52a-492d-88ff-5a8f27e97883",
   "metadata": {},
   "outputs": [],
   "source": [
    "lsirm = tcv._LSIRM(phiwz = np.array(pwz), \n",
    "                            dictionary = voca, \n",
    "                            word_maxprob = word_maxprob,\n",
    "                            \n",
    "                            num_percentage = [i for i in range(40,45)],\n",
    "                            ndim = ndim2, \n",
    "                            niter = niter2, \n",
    "                            nburn = nburn2, \n",
    "                            nthin = nthin2, \n",
    "                            nprint = nprint2,\n",
    "                            \n",
    "                            jump_beta = jump_beta2,\n",
    "                            jump_theta = jump_theta2,\n",
    "                            jump_gamma = jump_gamma2,\n",
    "                            jump_z = jump_z2,\n",
    "                            jump_w = jump_w2,            \n",
    "                            \n",
    "                            pr_mean_beta = pr_mean_beta2,\n",
    "                            pr_sd_beta = pr_sd_beta2,\n",
    "                            pr_a_th_sigma = pr_a_th_sigma2,\n",
    "                            pr_b_th_sigma = pr_b_th_sigma2,\n",
    "                            pr_mean_theta = pr_mean_theta2,\n",
    "                            pr_a_sigma = pr_a_sigma2,\n",
    "                            pr_b_sigma = pr_b_sigma2,\n",
    "                            pr_mean_gamma = pr_mean_gamma2,\n",
    "                            pr_sd_gamma = pr_sd_gamma2,\n",
    "                            \n",
    "                            missing = missing2) "
   ]
  },
  {
   "cell_type": "code",
   "execution_count": 318,
   "id": "983ca834-2c66-4fd9-a7d2-7834d7de22ff",
   "metadata": {},
   "outputs": [
    {
     "data": {
      "text/plain": [
       "1293"
      ]
     },
     "execution_count": 318,
     "metadata": {},
     "output_type": "execute_result"
    }
   ],
   "source": [
    "len(lsirm[2][\"words\"])"
   ]
  },
  {
   "cell_type": "code",
   "execution_count": 291,
   "id": "f7ee7c4f-c726-4acb-ab17-eea8e67ef6b8",
   "metadata": {},
   "outputs": [],
   "source": [
    "temp_proc2_zs = tcv._proc2(niter = niter2, \n",
    "                            nburn = nburn2, \n",
    "                            nthin = nthin2, \n",
    "                            ndim = ndim2, \n",
    "                            outputs = lsirm)\n"
   ]
  },
  {
   "cell_type": "code",
   "execution_count": 1,
   "id": "e470808b-aff3-4129-9b54-06bb7c5b4f3c",
   "metadata": {},
   "outputs": [
    {
     "ename": "NameError",
     "evalue": "name 'lsirm' is not defined",
     "output_type": "error",
     "traceback": [
      "\u001b[1;31m---------------------------------------------------------------------------\u001b[0m",
      "\u001b[1;31mNameError\u001b[0m                                 Traceback (most recent call last)",
      "\u001b[1;32m~\\AppData\\Local\\Temp/ipykernel_33048/1507094955.py\u001b[0m in \u001b[0;36m<module>\u001b[1;34m\u001b[0m\n\u001b[1;32m----> 1\u001b[1;33m \u001b[0mlsirm\u001b[0m\u001b[1;33m\u001b[0m\u001b[1;33m\u001b[0m\u001b[0m\n\u001b[0m",
      "\u001b[1;31mNameError\u001b[0m: name 'lsirm' is not defined"
     ]
    }
   ],
   "source": [
    "lsirm"
   ]
  },
  {
   "cell_type": "code",
   "execution_count": 52,
   "id": "664dcbe2-9266-4fb2-8635-75343d6d7451",
   "metadata": {},
   "outputs": [
    {
     "name": "stdout",
     "output_type": "stream",
     "text": [
      "z\n",
      "phiwz\n",
      "map\n"
     ]
    }
   ],
   "source": [
    "for idx, (temp) in enumerate(tempoutput):\n",
    "    print(temp)"
   ]
  },
  {
   "cell_type": "code",
   "execution_count": 80,
   "id": "ba4d46e1-fe90-45fa-9a14-d955eb57f810",
   "metadata": {},
   "outputs": [],
   "source": [
    "rawz = []\n",
    "for i in range(1, 10001):\n",
    "    rawz.append(np.array(pd.read_csv(\"rawz(\"+str(i)+\").csv\").iloc[:,1:3]))\n",
    "rawz = np.array(rawz)    "
   ]
  },
  {
   "cell_type": "code",
   "execution_count": 81,
   "id": "06f568b4-f0e8-4301-8e4b-255323830ce9",
   "metadata": {},
   "outputs": [],
   "source": [
    "tempoutput = []\n",
    "tempoutput.append({\"z\":np.array(rawz), \"phiwz\":np.array(pwz), \"map\":pd.read_csv(\"map.csv\").iloc[:,1]})\n",
    "tempoutput.append({\"z\":np.array(rawz), \"phiwz\":np.array(pwz), \"map\":pd.read_csv(\"map.csv\").iloc[:,1]})"
   ]
  },
  {
   "cell_type": "code",
   "execution_count": 93,
   "id": "1d65945f-2d94-4412-b4ab-b9026446696c",
   "metadata": {},
   "outputs": [
    {
     "name": "stdout",
     "output_type": "stream",
     "text": [
      "meaned data among MCMC samples which are procrustesed saved in .meanz_proc attribute.\n",
      "amax data among procrustesed saved in .meanz_proc_amax attribute.\n"
     ]
    },
    {
     "ename": "ValueError",
     "evalue": "not enough values to unpack (expected 2, got 1)",
     "output_type": "error",
     "traceback": [
      "\u001b[1;31m---------------------------------------------------------------------------\u001b[0m",
      "\u001b[1;31mValueError\u001b[0m                                Traceback (most recent call last)",
      "\u001b[1;32m~\\AppData\\Local\\Temp/ipykernel_33048/118453221.py\u001b[0m in \u001b[0;36m<module>\u001b[1;34m\u001b[0m\n\u001b[0;32m      1\u001b[0m \u001b[0mtcv\u001b[0m \u001b[1;33m=\u001b[0m \u001b[0mTopicClusterVisualizer\u001b[0m\u001b[1;33m(\u001b[0m\u001b[0mdata\u001b[0m\u001b[1;33m)\u001b[0m\u001b[1;33m\u001b[0m\u001b[1;33m\u001b[0m\u001b[0m\n\u001b[1;32m----> 2\u001b[1;33m \u001b[0mtcv\u001b[0m\u001b[1;33m.\u001b[0m\u001b[0m_proc2_oblim\u001b[0m\u001b[1;33m(\u001b[0m\u001b[0mniter2\u001b[0m\u001b[1;33m,\u001b[0m \u001b[0mnburn2\u001b[0m\u001b[1;33m,\u001b[0m \u001b[0mnthin2\u001b[0m\u001b[1;33m,\u001b[0m \u001b[0mndim2\u001b[0m\u001b[1;33m,\u001b[0m \u001b[0mtempoutput\u001b[0m\u001b[1;33m)\u001b[0m\u001b[1;33m\u001b[0m\u001b[1;33m\u001b[0m\u001b[0m\n\u001b[0m",
      "\u001b[1;32m~\\AppData\\Local\\Temp/ipykernel_33048/3075298242.py\u001b[0m in \u001b[0;36m_proc2_oblim\u001b[1;34m(self, niter, nburn, nthin, ndim, outputs)\u001b[0m\n\u001b[0;32m    443\u001b[0m             \u001b[1;32mfor\u001b[0m \u001b[0midx\u001b[0m\u001b[1;33m,\u001b[0m \u001b[0meach\u001b[0m \u001b[1;32min\u001b[0m \u001b[0menumerate\u001b[0m\u001b[1;33m(\u001b[0m\u001b[0mmeanz_proc\u001b[0m\u001b[1;33m)\u001b[0m\u001b[1;33m:\u001b[0m\u001b[1;33m\u001b[0m\u001b[1;33m\u001b[0m\u001b[0m\n\u001b[0;32m    444\u001b[0m                 \u001b[1;32mif\u001b[0m \u001b[0midx\u001b[0m \u001b[1;33m==\u001b[0m \u001b[0miamax\u001b[0m\u001b[1;33m:\u001b[0m \u001b[0mmeanz_proc2\u001b[0m\u001b[1;33m.\u001b[0m\u001b[0mappend\u001b[0m\u001b[1;33m(\u001b[0m\u001b[0meach\u001b[0m\u001b[1;33m)\u001b[0m\u001b[1;33m\u001b[0m\u001b[1;33m\u001b[0m\u001b[0m\n\u001b[1;32m--> 445\u001b[1;33m                 \u001b[1;32melse\u001b[0m\u001b[1;33m:\u001b[0m \u001b[0mmeanz_proc2\u001b[0m\u001b[1;33m.\u001b[0m\u001b[0mappend\u001b[0m\u001b[1;33m(\u001b[0m\u001b[0mtcv\u001b[0m\u001b[1;33m.\u001b[0m\u001b[0m_procrustes_mine\u001b[0m\u001b[1;33m(\u001b[0m\u001b[0meach\u001b[0m\u001b[1;33m,\u001b[0m \u001b[0mmeanz_proc_amax\u001b[0m\u001b[1;33m)\u001b[0m\u001b[1;33m)\u001b[0m\u001b[1;33m\u001b[0m\u001b[1;33m\u001b[0m\u001b[0m\n\u001b[0m\u001b[0;32m    446\u001b[0m \u001b[1;33m\u001b[0m\u001b[0m\n\u001b[0;32m    447\u001b[0m             \u001b[0mself\u001b[0m\u001b[1;33m.\u001b[0m\u001b[0mmeanz_proc2\u001b[0m \u001b[1;33m=\u001b[0m \u001b[0mmeanz_proc2\u001b[0m\u001b[1;33m\u001b[0m\u001b[1;33m\u001b[0m\u001b[0m\n",
      "\u001b[1;32m~\\AppData\\Local\\Temp/ipykernel_33048/3075298242.py\u001b[0m in \u001b[0;36m_procrustes_mine\u001b[1;34m(self, X, X_star)\u001b[0m\n\u001b[0;32m    351\u001b[0m     \u001b[1;32mdef\u001b[0m \u001b[0m_procrustes_mine\u001b[0m\u001b[1;33m(\u001b[0m\u001b[0mself\u001b[0m\u001b[1;33m,\u001b[0m \u001b[0mX\u001b[0m\u001b[1;33m,\u001b[0m \u001b[0mX_star\u001b[0m\u001b[1;33m)\u001b[0m\u001b[1;33m:\u001b[0m\u001b[1;33m\u001b[0m\u001b[1;33m\u001b[0m\u001b[0m\n\u001b[0;32m    352\u001b[0m \u001b[1;33m\u001b[0m\u001b[0m\n\u001b[1;32m--> 353\u001b[1;33m         \u001b[0mn\u001b[0m\u001b[1;33m,\u001b[0m \u001b[0mm\u001b[0m \u001b[1;33m=\u001b[0m \u001b[0mX\u001b[0m\u001b[1;33m.\u001b[0m\u001b[0mshape\u001b[0m\u001b[1;33m\u001b[0m\u001b[1;33m\u001b[0m\u001b[0m\n\u001b[0m\u001b[0;32m    354\u001b[0m         \u001b[0mJ\u001b[0m \u001b[1;33m=\u001b[0m \u001b[0mnp\u001b[0m\u001b[1;33m.\u001b[0m\u001b[0midentity\u001b[0m\u001b[1;33m(\u001b[0m\u001b[0mn\u001b[0m\u001b[1;33m)\u001b[0m\u001b[1;33m\u001b[0m\u001b[1;33m\u001b[0m\u001b[0m\n\u001b[0;32m    355\u001b[0m         \u001b[0mC\u001b[0m \u001b[1;33m=\u001b[0m \u001b[0mX_star\u001b[0m\u001b[1;33m.\u001b[0m\u001b[0mtranspose\u001b[0m\u001b[1;33m(\u001b[0m\u001b[1;33m)\u001b[0m \u001b[1;33m@\u001b[0m \u001b[0mJ\u001b[0m \u001b[1;33m@\u001b[0m \u001b[0mX\u001b[0m\u001b[1;33m\u001b[0m\u001b[1;33m\u001b[0m\u001b[0m\n",
      "\u001b[1;31mValueError\u001b[0m: not enough values to unpack (expected 2, got 1)"
     ]
    }
   ],
   "source": [
    "tcv = TopicClusterVisualizer(data)\n",
    "tcv._proc2_oblim(niter2, nburn2, nthin2, ndim2, tempoutput)"
   ]
  },
  {
   "cell_type": "code",
   "execution_count": 91,
   "id": "1aba049a-280f-4fb6-b04f-9a809fb3b885",
   "metadata": {},
   "outputs": [
    {
     "data": {
      "text/plain": [
       "array([6.74205380e-02, 1.46183389e-03, 2.99588917e-02, 9.24877648e-02,\n",
       "       9.02675536e-04, 7.28200607e-02, 2.39255482e-01, 8.50208890e-01,\n",
       "       1.02296646e-02, 1.10140525e+00, 3.90804940e-02, 4.92931864e-02,\n",
       "       9.94734905e-01, 2.25505972e-01, 4.71674762e-02, 1.25366452e-01,\n",
       "       9.13511386e-01, 5.80239798e-02, 3.08918591e-02, 6.56922069e-02])"
      ]
     },
     "execution_count": 91,
     "metadata": {},
     "output_type": "execute_result"
    }
   ],
   "source": [
    "np.sum(tcv.meanz_proc**2, axis = 1)"
   ]
  },
  {
   "cell_type": "code",
   "execution_count": 274,
   "id": "e060f4a3-f76c-45b7-b663-08407daa789d",
   "metadata": {},
   "outputs": [],
   "source": [
    "useforfact = np.array(pd.read_csv(\"rresult.csv\")[[\"V1\",\"V2\"]])"
   ]
  },
  {
   "cell_type": "code",
   "execution_count": 275,
   "id": "5cf70100-c9b0-488d-856c-9670528b9778",
   "metadata": {},
   "outputs": [
    {
     "data": {
      "text/plain": [
       "array([[-0.31470378,  0.04825821],\n",
       "       [ 2.22895233,  1.2825952 ],\n",
       "       [-2.09067448,  0.16048123],\n",
       "       [-2.63663509, -2.69228301],\n",
       "       [ 0.7983029 , -0.27597959],\n",
       "       [ 1.52137116, -0.46183286],\n",
       "       [-0.1609368 , -1.1217044 ],\n",
       "       [-0.23999867,  0.543958  ],\n",
       "       [ 0.43402502,  0.45114205],\n",
       "       [-0.64099863,  0.03840754],\n",
       "       [ 0.5885472 ,  0.17741946],\n",
       "       [ 3.59519769,  0.8493481 ],\n",
       "       [-0.27131517, -0.48367825],\n",
       "       [-0.0426988 ,  0.09740107],\n",
       "       [ 1.80373876,  2.64363742],\n",
       "       [ 0.78256778,  1.18962251],\n",
       "       [ 0.07134702,  0.50710619],\n",
       "       [-2.18219412,  0.04442652],\n",
       "       [ 0.23831465,  0.31350223],\n",
       "       [-1.34025215, -0.56566278]])"
      ]
     },
     "execution_count": 275,
     "metadata": {},
     "output_type": "execute_result"
    }
   ],
   "source": [
    "useforfact"
   ]
  },
  {
   "cell_type": "code",
   "execution_count": 292,
   "id": "f7e5aa73-6e59-45fd-934c-a5241b7deee0",
   "metadata": {},
   "outputs": [
    {
     "data": {
      "text/plain": [
       "{'total_dist': [73.81379463542592],\n",
       " 'proc2_zs': [array([[ 1.43116651, -3.04234864],\n",
       "         [ 1.79123969, -3.97110946],\n",
       "         [ 1.30211106, -2.82536271],\n",
       "         [ 1.52466665, -3.2223789 ],\n",
       "         [ 1.39594882, -3.04527794],\n",
       "         [ 1.52412955, -3.39181484],\n",
       "         [ 1.32226716, -2.83657869],\n",
       "         [ 1.41093565, -3.11583508],\n",
       "         [ 2.14393022, -4.72950572],\n",
       "         [ 1.39375194, -3.0058635 ],\n",
       "         [ 1.78170003, -3.6163634 ],\n",
       "         [ 1.199215  , -2.64707669],\n",
       "         [ 1.46105332, -3.12054979],\n",
       "         [ 1.84429206, -3.97849748],\n",
       "         [ 1.33984485, -2.9981894 ],\n",
       "         [ 1.9016536 , -4.18184301],\n",
       "         [ 1.66194283, -3.85064252],\n",
       "         [ 1.55461498, -3.379195  ],\n",
       "         [ 1.29853753, -2.8709924 ],\n",
       "         [ 1.42228598, -3.28969708]])]}"
      ]
     },
     "execution_count": 292,
     "metadata": {},
     "output_type": "execute_result"
    }
   ],
   "source": [
    "temp_proc2_zs"
   ]
  },
  {
   "cell_type": "code",
   "execution_count": 293,
   "id": "ec0d0b60-9fa0-4544-b47b-913118a2bb2a",
   "metadata": {},
   "outputs": [],
   "source": [
    "oblimin_proc2_zs = tcv._oblimin(proc2s = temp_proc2_zs[\"proc2_zs\"])"
   ]
  },
  {
   "cell_type": "code",
   "execution_count": 294,
   "id": "a009b27c-c8ee-4613-a2fc-da012fbe3561",
   "metadata": {},
   "outputs": [
    {
     "data": {
      "text/plain": [
       "[array([[-3.82813762e-02,  3.36814683e+00],\n",
       "        [ 2.08515474e-02,  4.35297840e+00],\n",
       "        [-1.06799082e-02,  3.11268682e+00],\n",
       "        [-4.86685600e-02,  3.57243207e+00],\n",
       "        [-4.58548424e-03,  3.35072314e+00],\n",
       "        [ 2.31643159e-02,  3.71469727e+00],\n",
       "        [-2.45368954e-02,  3.13350704e+00],\n",
       "        [ 1.13068683e-02,  3.41855557e+00],\n",
       "        [ 1.50607974e-02,  5.19029088e+00],\n",
       "        [-1.91551746e-02,  3.31631800e+00],\n",
       "        [-1.19714200e-01,  4.04909699e+00],\n",
       "        [ 9.10252243e-03,  2.90456307e+00],\n",
       "        [-3.29049972e-02,  3.45082562e+00],\n",
       "        [-2.49398861e-02,  4.38915517e+00],\n",
       "        [ 2.73036720e-02,  3.27941783e+00],\n",
       "        [ 7.80081412e-03,  4.59265004e+00],\n",
       "        [ 8.93130319e-02,  4.17859606e+00],\n",
       "        [-1.02495505e-02,  3.72129460e+00],\n",
       "        [ 1.18255828e-02,  3.14906294e+00],\n",
       "        [ 7.40457884e-02,  3.57125819e+00]])]"
      ]
     },
     "execution_count": 294,
     "metadata": {},
     "output_type": "execute_result"
    }
   ],
   "source": [
    "oblimin_proc2_zs "
   ]
  },
  {
   "cell_type": "code",
   "execution_count": 15,
   "id": "45997fc7-068c-4841-b96e-c53d2163982a",
   "metadata": {},
   "outputs": [],
   "source": [
    "tcv.iamax = temp_proc2_zs[\"iamax\"]\n",
    "tcv.amax = temp_proc2_zs[\"amax_data\"][\"z_estimate\"]\n",
    "tcv.amax_data = temp_proc2_zs[\"amax_data\"]\n",
    "tcv.oblimin_proc2_zs = oblimin_proc2_zs\n",
    "\n",
    "tcv.percentile_range = percentage_range"
   ]
  },
  {
   "cell_type": "code",
   "execution_count": 16,
   "id": "3296e7ee-5afb-4584-8cc9-2653dc7c6518",
   "metadata": {},
   "outputs": [],
   "source": [
    "tcv.data_topics = tcv.most_words_per_topic(temp_proc2_zs[\"amax_data\"])"
   ]
  },
  {
   "cell_type": "code",
   "execution_count": 17,
   "id": "37e5f242-6c8d-49ec-b6a2-6316ddaa22fc",
   "metadata": {},
   "outputs": [
    {
     "data": {
      "text/plain": [
       "array(['buryat', 'backstop', 'perianesthesia', ..., 'voluntari', 'ai',\n",
       "       'advocaci'], dtype=object)"
      ]
     },
     "execution_count": 17,
     "metadata": {},
     "output_type": "execute_result"
    }
   ],
   "source": [
    "temp_proc2_zs[\"amax_data\"][\"words\"]"
   ]
  },
  {
   "cell_type": "code",
   "execution_count": null,
   "id": "9ba3ec63-ad7a-4255-8486-2dbc320f1afc",
   "metadata": {},
   "outputs": [],
   "source": [
    "tcv.data_topics"
   ]
  },
  {
   "cell_type": "code",
   "execution_count": 104,
   "id": "68dc113e-0b6f-462d-9445-6f2fc17354b9",
   "metadata": {},
   "outputs": [],
   "source": [
    "plt = Plots()"
   ]
  },
  {
   "cell_type": "code",
   "execution_count": 167,
   "id": "deaff7ec-6a79-4cd7-8ed3-9519eb26370d",
   "metadata": {},
   "outputs": [
    {
     "data": {
      "text/plain": [
       "[array([[-0.37127088,  0.09087905],\n",
       "        [ 1.2968447 ,  1.52160368],\n",
       "        [-2.33510041,  0.3903114 ],\n",
       "        [-0.56991793, -3.36628242],\n",
       "        [ 1.06778915, -0.4352277 ],\n",
       "        [ 1.98234066, -0.74397175],\n",
       "        [ 0.75070072, -1.48162308],\n",
       "        [-0.6992402 ,  0.74533045],\n",
       "        [ 0.0872879 ,  0.56474061],\n",
       "        [-0.70708178,  0.10527852],\n",
       "        [ 0.47472332,  0.18683848],\n",
       "        [ 3.09223954,  0.82882424],\n",
       "        [ 0.1108922 , -0.62183864],\n",
       "        [-0.1249157 ,  0.13343558],\n",
       "        [-0.26798732,  3.37171224],\n",
       "        [-0.15126745,  1.51970787],\n",
       "        [-0.34086705,  0.66993915],\n",
       "        [-2.33633738,  0.24333531],\n",
       "        [-0.00604936,  0.39778293],\n",
       "        [-0.94843078, -0.64093351]])]"
      ]
     },
     "execution_count": 167,
     "metadata": {},
     "output_type": "execute_result"
    }
   ],
   "source": [
    "oblimin_proc2_zs = []\n",
    "        \n",
    "rotator = Rotator(method = \"oblimin\")\n",
    "for proc2_z in temp_proc2_zs[\"proc2_zs\"]:\n",
    "    oblimin_proc2_zs.append(rotator.fit_transform(useforfact))\n",
    "\n",
    "oblimin_proc2_zs"
   ]
  },
  {
   "cell_type": "code",
   "execution_count": 22,
   "id": "970a36c7-bf07-4d20-819a-9bcde7313e0c",
   "metadata": {},
   "outputs": [],
   "source": [
    "tempz = []\n",
    "tempz_proc = []\n",
    "tempz_proc2_oblim = []\n",
    "\n",
    "\n",
    "for i in range(1, 22):\n",
    "    tempz.append(np.array(pd.read_csv(\"tempz (\"+str(i)+\").csv\").iloc[:,1:3]))\n",
    "    tempz_proc.append(np.array(pd.read_csv(\"tempz_proc (\"+str(i)+\").csv\").iloc[:,1:3]))\n",
    "    tempz_proc2_oblim.append(np.array(pd.read_csv(\"tempz_proc2_oblim (\"+str(i)+\").csv\").iloc[:,1:3]))"
   ]
  },
  {
   "cell_type": "code",
   "execution_count": 356,
   "id": "49b42567-5cb0-4e0b-ba6f-1d87eb5672eb",
   "metadata": {},
   "outputs": [
    {
     "data": {
      "text/plain": [
       "0.206948802025885"
      ]
     },
     "execution_count": 356,
     "metadata": {},
     "output_type": "execute_result"
    }
   ],
   "source": [
    "useforfact"
   ]
  },
  {
   "cell_type": "code",
   "execution_count": null,
   "id": "6cc1c178-5ed7-497e-a955-ce6a7cb9cd9a",
   "metadata": {},
   "outputs": [],
   "source": [
    "plt.topic_coor_plot(oblimin_proc2_zs[0])\n",
    "plt.topic_trajectory_plot(oblimin_proc2_zs)"
   ]
  },
  {
   "cell_type": "code",
   "execution_count": 431,
   "id": "e8dbb227-b3e6-4053-9883-de460829e4b0",
   "metadata": {},
   "outputs": [
    {
     "data": {
      "text/plain": [
       "array([[-0.21237078,  0.0760277 ],\n",
       "       [-0.24825273, -0.06173771],\n",
       "       [-0.24999203,  0.01573461],\n",
       "       [-0.14979116,  0.08954877],\n",
       "       [-0.20454369, -0.02094469],\n",
       "       [-0.290715  ,  0.08487787],\n",
       "       [-0.47469966, -0.23721346],\n",
       "       [ 0.12783027, -0.18141793],\n",
       "       [-0.25153397,  0.0083306 ],\n",
       "       [-0.3598914 ,  0.57716593],\n",
       "       [-0.13962939, -0.07069354],\n",
       "       [-0.22983652,  0.05096753],\n",
       "       [-0.13291775, -0.73838607],\n",
       "       [-0.35075539,  0.24268228],\n",
       "       [-0.05804489, -0.09406468],\n",
       "       [ 0.11014452, -0.0686106 ],\n",
       "       [-0.79713033,  0.00362383],\n",
       "       [-0.13607701, -0.10625807],\n",
       "       [-0.22296542, -0.14576547],\n",
       "       [-0.2949297 ,  0.04308553]])"
      ]
     },
     "execution_count": 431,
     "metadata": {},
     "output_type": "execute_result"
    }
   ],
   "source": [
    "tempz_proc2_oblim[0]"
   ]
  },
  {
   "cell_type": "code",
   "execution_count": 432,
   "id": "9b17500e-b41c-48bd-9497-fb0c41409657",
   "metadata": {},
   "outputs": [],
   "source": []
  },
  {
   "cell_type": "code",
   "execution_count": 433,
   "id": "b47fe130-8c1c-454d-b8d8-e4a7e2c6d07e",
   "metadata": {},
   "outputs": [
    {
     "data": {
      "text/plain": [
       "array([[-0.21237078,  0.0760277 ],\n",
       "       [-0.24825273, -0.06173771],\n",
       "       [-0.24999203,  0.01573461],\n",
       "       [-0.14979116,  0.08954877],\n",
       "       [-0.20454369, -0.02094469],\n",
       "       [-0.290715  ,  0.08487787],\n",
       "       [-0.47469966, -0.23721346],\n",
       "       [ 0.12783027, -0.18141793],\n",
       "       [-0.25153397,  0.0083306 ],\n",
       "       [-0.3598914 ,  0.57716593],\n",
       "       [-0.13962939, -0.07069354],\n",
       "       [-0.22983652,  0.05096753],\n",
       "       [-0.13291775, -0.73838607],\n",
       "       [-0.35075539,  0.24268228],\n",
       "       [-0.05804489, -0.09406468],\n",
       "       [ 0.11014452, -0.0686106 ],\n",
       "       [-0.79713033,  0.00362383],\n",
       "       [-0.13607701, -0.10625807],\n",
       "       [-0.22296542, -0.14576547],\n",
       "       [-0.2949297 ,  0.04308553]])"
      ]
     },
     "execution_count": 433,
     "metadata": {},
     "output_type": "execute_result"
    }
   ],
   "source": []
  },
  {
   "cell_type": "code",
   "execution_count": null,
   "id": "4f124d6b-84ff-411c-98d6-08d78be42622",
   "metadata": {},
   "outputs": [],
   "source": [
    "def _oblimin(self, proc2s):\n",
    "            oblimin_proc2_zs = []\n",
    "\n",
    "            rotator = Rotator(method = \"oblimin\")\n",
    "            for proc2_z in proc2s:\n",
    "                oblimin_proc2_zs.append(rotator.fit_transform(proc2_z))\n",
    "\n",
    "            return oblimin_proc2_zs\n",
    "        \n",
    "        \n",
    "        "
   ]
  },
  {
   "cell_type": "code",
   "execution_count": null,
   "id": "eb69b993-162a-42bd-81fc-020d7ee2899e",
   "metadata": {},
   "outputs": [],
   "source": [
    "proc2_zs = []\n",
    "\n",
    "total_dist = [] #각 퍼센트 별 latent position 까지의 총 거리\n",
    "\n",
    "for each in output_proc:\n",
    "    total_dist.append(np.sum(np.sqrt(np.sum(each[\"z_estimate\"] ** 2, axis=1))))\n",
    "\n",
    "iamax = np.argmax(total_dist)\n",
    "\n",
    "\n",
    "tempz_proc_amax = output_proc[iamax][\"z_estimate\"]\n",
    "tempz_proc = []\n",
    "\n",
    "for each in output_proc:\n",
    "    tempz_proc.append(each[\"z_estimate\"])\n",
    "\n",
    "tempz_proc2 = []\n",
    "\n",
    "for idx, each in enumerate(tempz_proc):\n",
    "    if idx == iamax: tempz_proc2.append(each)\n",
    "    else: tempz_proc2.append(self._procrustes_mine(each, tempz_proc_amax))\n",
    "\n",
    "\n",
    "# for index, output in enumerate(output_new_per_perc):\n",
    "#     proc2_zs.append(output[\"z_estimate\"]) #z_estimate 그자체로는 결국 모든 proc값들의 평균\n",
    "#         #앞에서 한 proc들은 스스로의 퍼센티지 안에서 mcmc 돌리고 그 값들을 proc했던거임\n",
    "\n",
    "# for index, output in enumerate(output_new_per_perc):\n",
    "#     if index == iamax:\n",
    "#         proc2_zs.append(output[\"z_estimate\"]) #z_estimate 그자체로는 결국 모든 proc값들의 평균\n",
    "#         #앞에서 한 proc들은 스스로의 퍼센티지 안에서 mcmc 돌리고 그 값들을 proc했던거임\n",
    "#     else:\n",
    "#         proc2_zs.append(self._procrustes_mine(output[\"z_estimate\"], \n",
    "#                                               output_new_per_perc[iamax][\"z_estimate\"]))\n",
    "\n",
    "#return {\"iamax\":iamax, \"proc2_zs\":proc2_zs, \"amax_data\": output_new_per_perc[iamax]}\n",
    "\n",
    "\n",
    "\n",
    "\n",
    "\n",
    "\n",
    "def _oblimin(self, proc2s):\n",
    "    oblimin_proc2_zs = []\n",
    "\n",
    "    rotator = Rotator(method = \"oblimin\")\n",
    "    for proc2_z in proc2s:\n",
    "        oblimin_proc2_zs.append(rotator.fit_transform(proc2_z))\n",
    "\n",
    "    return oblimin_proc2_zs\n",
    "\n",
    "\n",
    "tempz_proc2_oblim = []\n"
   ]
  },
  {
   "cell_type": "code",
   "execution_count": null,
   "id": "844613af-f763-4302-828c-3df58ac3d2e9",
   "metadata": {},
   "outputs": [],
   "source": []
  },
  {
   "cell_type": "code",
   "execution_count": null,
   "id": "9a410d91-381d-4c8f-810e-235007ab2bc4",
   "metadata": {},
   "outputs": [],
   "source": []
  },
  {
   "cell_type": "code",
   "execution_count": null,
   "id": "9d940273-1635-40bc-be30-e594ac5cf644",
   "metadata": {},
   "outputs": [],
   "source": []
  },
  {
   "cell_type": "code",
   "execution_count": null,
   "id": "34a9d9c9-e470-4a2f-a479-6d413903eaa8",
   "metadata": {},
   "outputs": [],
   "source": []
  },
  {
   "cell_type": "code",
   "execution_count": 422,
   "id": "1835636e-a599-40e8-a228-dba5db60531c",
   "metadata": {},
   "outputs": [
    {
     "data": {
      "application/vnd.plotly.v1+json": {
       "config": {
        "plotlyServerURL": "https://plot.ly"
       },
       "data": [
        {
         "hovertemplate": "idx=0.0<br>coef1=%{x}<br>coef2=%{y}<extra></extra>",
         "legendgroup": "0.0",
         "marker": {
          "color": "#636efa",
          "symbol": "circle"
         },
         "mode": "markers",
         "name": "0.0",
         "orientation": "v",
         "showlegend": true,
         "type": "scatter",
         "x": [
          0.206948802025885,
          -0.183256880287617,
          0.155009905127987,
          0.110635173705382,
          -0.0183668327057673,
          -0.106472068662714,
          -0.238823782480784,
          0.125310280992134,
          -0.1491476287198,
          -0.0628530332629651,
          -0.164054630001075,
          -0.20622959326883,
          0.130888868288222,
          0.0229284868369687,
          0.0433461427344695,
          0.0541817673542159,
          0.0515610324014446,
          -0.0497612384481033,
          0.187251332857689,
          0.0878224570439064,
          -0.0558120482956472
         ],
         "xaxis": "x",
         "y": [
          -0.119247952440777,
          0.220197645092103,
          0.153583949915673,
          -0.164196809614382,
          -0.216414652695475,
          -0.225005473941086,
          -0.0699991244653817,
          0.147528354234048,
          0.134288503603001,
          0.18799097957137,
          0.0785671097093549,
          -0.0508747852080437,
          0.180699027414434,
          0.236648793104603,
          -0.23520749395256,
          -0.236798474500914,
          -0.242826173917499,
          -0.228335204137922,
          0.169007156459167,
          0.238464463771141,
          0.253585396394924
         ],
         "yaxis": "y"
        },
        {
         "hovertemplate": "idx=1.0<br>coef1=%{x}<br>coef2=%{y}<extra></extra>",
         "legendgroup": "1.0",
         "marker": {
          "color": "#EF553B",
          "symbol": "circle"
         },
         "mode": "markers",
         "name": "1.0",
         "orientation": "v",
         "showlegend": true,
         "type": "scatter",
         "x": [
          0.112590234828729,
          -0.279060203507366,
          0.243494614909581,
          0.203857175394749,
          -0.162462978135107,
          0.0431859797426127,
          -0.145303014042586,
          0.103771699414639,
          -0.0115398295132855,
          -0.0295540724761664,
          0.0004360699333592,
          0.0170976598808724,
          0.0048413476000568,
          0.0092838342320857,
          -0.0263113531265405,
          -0.0301520506618509,
          0.0351554292581395,
          0.043727256659315,
          0.0136728533742992,
          -0.0432200329871676,
          -0.025529037223157
         ],
         "xaxis": "x",
         "y": [
          -0.216589617020124,
          0.126483657232074,
          0.0485863862395139,
          -0.0329992716388143,
          -0.177310296507504,
          -0.246433205251552,
          -0.198963008782955,
          -0.0337805693546404,
          -0.0152698138608173,
          -0.0112743620756093,
          -0.0583389199136382,
          -0.0601676636130655,
          -0.0079897012515781,
          0.0040324867699998,
          -0.0077145012749438,
          -0.0011838821787512,
          0.0249124201776193,
          0.0086446260663138,
          -0.043309297259015,
          -0.0075598629366876,
          -0.0284622934202071
         ],
         "yaxis": "y"
        },
        {
         "hovertemplate": "idx=2.0<br>coef1=%{x}<br>coef2=%{y}<extra></extra>",
         "legendgroup": "2.0",
         "marker": {
          "color": "#00cc96",
          "symbol": "circle"
         },
         "mode": "markers",
         "name": "2.0",
         "orientation": "v",
         "showlegend": true,
         "type": "scatter",
         "x": [
          0.180273268460785,
          -0.237789369158787,
          0.210026357944262,
          0.160564930580226,
          -0.0779410643432575,
          -0.0577075094312737,
          -0.218991155032978,
          0.135054199236393,
          -0.107190174204702,
          -0.0756470127944789,
          -0.114371654377465,
          -0.111460817830907,
          0.107449888038483,
          0.0486421689424273,
          -0.0112967602744503,
          -0.0149889663722199,
          0.0816218978607872,
          0.0312194748004777,
          0.155566990714907,
          -0.0175718509786201,
          -0.113620803709981
         ],
         "xaxis": "x",
         "y": [
          -0.178177971365416,
          0.197350681195275,
          0.122946305854761,
          -0.119982142085451,
          -0.219658863057005,
          -0.25777660145361,
          -0.133756787388215,
          0.0753995200396833,
          0.0574235250386139,
          0.104647521012353,
          -0.003591187666325,
          -0.0861026766918173,
          0.0832913576649231,
          0.132783394364486,
          -0.152112005949235,
          -0.145134684315989,
          -0.128414382951382,
          -0.1527189535994,
          0.0548719988880676,
          0.169193120170267,
          0.130572603126453
         ],
         "yaxis": "y"
        },
        {
         "hovertemplate": "idx=3.0<br>coef1=%{x}<br>coef2=%{y}<extra></extra>",
         "legendgroup": "3.0",
         "marker": {
          "color": "#ab63fa",
          "symbol": "circle"
         },
         "mode": "markers",
         "name": "3.0",
         "orientation": "v",
         "showlegend": true,
         "type": "scatter",
         "x": [
          0.176813807434341,
          -0.149638266701764,
          0.110345947783075,
          0.0424153214844796,
          0.0211665340327423,
          -0.109992128796392,
          -0.181355462439436,
          0.0214380401901617,
          -0.0890682132242266,
          0.0497475518000013,
          -0.113528682639685,
          -0.22277174817984,
          0.017725870014347,
          -0.134871757062135,
          0.205648378950243,
          0.209075795660467,
          -0.102948788081358,
          -0.194917936541758,
          0.0776153484699735,
          0.234815015839514,
          0.101188944657483
         ],
         "xaxis": "x",
         "y": [
          -0.0656964688483627,
          0.177273233635455,
          0.117486248355962,
          -0.138264986384464,
          -0.149029241830834,
          -0.148778843275346,
          0.0007821279233335,
          0.190324817910253,
          0.235134520159934,
          0.239646718073668,
          0.187172619563342,
          0.090025389718794,
          0.285677115355719,
          0.269812801198148,
          -0.208268349768795,
          -0.197638037436432,
          -0.262262490541591,
          -0.195980759537126,
          0.285995096251123,
          0.181959905920147,
          0.28679010147987
         ],
         "yaxis": "y"
        },
        {
         "hovertemplate": "idx=4.0<br>coef1=%{x}<br>coef2=%{y}<extra></extra>",
         "legendgroup": "4.0",
         "marker": {
          "color": "#FFA15A",
          "symbol": "circle"
         },
         "mode": "markers",
         "name": "4.0",
         "orientation": "v",
         "showlegend": true,
         "type": "scatter",
         "x": [
          0.118460742289314,
          -0.237910114506171,
          0.200725778829955,
          0.154489551080506,
          -0.129078987967939,
          0.0182042413385678,
          -0.137177487984845,
          0.0666805871569262,
          -0.0165865361517191,
          -0.0014897428667292,
          -0.0109661457422366,
          -0.031266225120952,
          -0.0008211002217238,
          -0.029390154029898,
          0.0234791324170525,
          0.0284608497546133,
          0.0091718320537965,
          -0.0090523882802091,
          0.0347095632189529,
          0.0110748173942442,
          0.0040232406888089
         ],
         "xaxis": "x",
         "y": [
          -0.163118720234997,
          0.128920324820391,
          0.0504555672668242,
          -0.0459763797482534,
          -0.159413389533625,
          -0.214082358229479,
          -0.146550457934595,
          0.0136828149953282,
          0.0489387769654103,
          0.0388157253331702,
          0.001379792279532,
          -0.0229850391378882,
          0.0562917436393616,
          0.0590719186021529,
          -0.0480011908718979,
          -0.0492995371408844,
          -0.0539886209731561,
          -0.0435509253719236,
          0.0307111755717439,
          0.034955614778063,
          0.0297739663110003
         ],
         "yaxis": "y"
        },
        {
         "hovertemplate": "idx=5.0<br>coef1=%{x}<br>coef2=%{y}<extra></extra>",
         "legendgroup": "5.0",
         "marker": {
          "color": "#19d3f3",
          "symbol": "circle"
         },
         "mode": "markers",
         "name": "5.0",
         "orientation": "v",
         "showlegend": true,
         "type": "scatter",
         "x": [
          0.266809312499345,
          -0.230322995714317,
          0.219584345006831,
          0.17841500456259,
          -0.0207372463238712,
          -0.144123640897655,
          -0.311041709586874,
          0.206352455204002,
          -0.215075278312095,
          -0.147949064495957,
          -0.213496288517818,
          -0.201043032747014,
          0.194848472001863,
          0.0998957966103742,
          -0.0358829569843101,
          -0.0322686722208918,
          0.142722548046977,
          0.044653079864351,
          0.256679534401043,
          -0.0247169571143609,
          -0.167000975924452
         ],
         "xaxis": "x",
         "y": [
          -0.173077881008219,
          0.281525948023269,
          0.21691181102459,
          -0.214601129424771,
          -0.294420798551923,
          -0.29778124829448,
          -0.103124125069599,
          0.145147908318575,
          0.0737255447786776,
          0.173008096479247,
          0.0042016254326631,
          -0.129069949013688,
          0.132883237040095,
          0.229350889007329,
          -0.255063757412157,
          -0.257469514818361,
          -0.226340226512619,
          -0.251915035740924,
          0.0851452416904492,
          0.275988181050879,
          0.211968711639773
         ],
         "yaxis": "y"
        },
        {
         "hovertemplate": "idx=6.0<br>coef1=%{x}<br>coef2=%{y}<extra></extra>",
         "legendgroup": "6.0",
         "marker": {
          "color": "#FF6692",
          "symbol": "circle"
         },
         "mode": "markers",
         "name": "6.0",
         "orientation": "v",
         "showlegend": true,
         "type": "scatter",
         "x": [
          0.112971536176405,
          -0.533450124976403,
          0.499956330179628,
          0.491976935179546,
          -0.416634008969621,
          0.200254307807069,
          -0.223346533149224,
          0.326340563017029,
          -0.0563150218080116,
          -0.241975333809228,
          -0.0053633624625235,
          0.199495850752093,
          0.127247273270528,
          0.267914172894951,
          -0.366812050584653,
          -0.374623555668764,
          0.347809290468103,
          0.429189048460723,
          0.11328507762324,
          -0.480107997848857,
          -0.348639929864902
         ],
         "xaxis": "x",
         "y": [
          -0.475228957332315,
          0.148180829603302,
          0.0309549231030726,
          0.0055535546377924,
          -0.350183061588553,
          -0.511808029372881,
          -0.530024371605256,
          -0.278619516912298,
          -0.335844284992873,
          -0.245536451817354,
          -0.377672039720314,
          -0.339094863486888,
          -0.30685035599691,
          -0.199940017683858,
          0.0955967926149116,
          0.10251082313315,
          0.261662966367959,
          0.107302049933318,
          -0.446141373136399,
          -0.0749210135140291,
          -0.343082616436857
         ],
         "yaxis": "y"
        },
        {
         "hovertemplate": "idx=7.0<br>coef1=%{x}<br>coef2=%{y}<extra></extra>",
         "legendgroup": "7.0",
         "marker": {
          "color": "#B6E880",
          "symbol": "circle"
         },
         "mode": "markers",
         "name": "7.0",
         "orientation": "v",
         "showlegend": true,
         "type": "scatter",
         "x": [
          -0.241049188000911,
          -0.106970819170685,
          0.0028466731643495,
          -0.14921202736022,
          -0.156148291204754,
          0.258578265111539,
          0.317765825865327,
          -0.554023685378496,
          0.625020709885804,
          0.667528155422139,
          0.583994395983266,
          0.243753855793584,
          -0.743474534530483,
          -0.76695320129109,
          0.634536944925484,
          0.640612337987001,
          -0.800640628082656,
          -0.650859634346041,
          -0.826394250611277,
          0.648076117061687,
          0.907487681125591
         ],
         "xaxis": "x",
         "y": [
          0.0022494213781422,
          -0.216468433221798,
          -0.304939311076544,
          0.315541105230361,
          0.288395857322164,
          0.153321852993965,
          0.0064206439628908,
          -0.0773145969376049,
          0.394736584344199,
          -0.0661403458584578,
          0.397916482609471,
          0.647831475991812,
          0.216594849929527,
          -0.190342435601861,
          0.457881170328677,
          0.46754638254221,
          0.20041579413567,
          0.513787102770765,
          0.342580532619798,
          -0.640752202168523,
          -0.16332482470351
         ],
         "yaxis": "y"
        },
        {
         "hovertemplate": "idx=8.0<br>coef1=%{x}<br>coef2=%{y}<extra></extra>",
         "legendgroup": "8.0",
         "marker": {
          "color": "#FF97FF",
          "symbol": "circle"
         },
         "mode": "markers",
         "name": "8.0",
         "orientation": "v",
         "showlegend": true,
         "type": "scatter",
         "x": [
          0.174944283766396,
          -0.250591969713301,
          0.224178190789215,
          0.18008282237132,
          -0.0985595017275893,
          -0.0439466566893203,
          -0.215230706350119,
          0.147304752380476,
          -0.109277550151158,
          -0.0715746343473007,
          -0.0951335526262741,
          -0.0974152985145231,
          0.0961028097262726,
          0.0365913688142967,
          -0.0073851157101458,
          -0.0091740251676282,
          0.0728012769871608,
          0.0175077215811897,
          0.112654349550932,
          0.0002837699261352,
          -0.053146005069494
         ],
         "xaxis": "x",
         "y": [
          -0.183121534362595,
          0.190060975128409,
          0.120489904023154,
          -0.111939460514079,
          -0.222506996008863,
          -0.263881830137046,
          -0.147459386729541,
          0.0574974397144009,
          0.0396085548869053,
          0.0887142108740771,
          -0.0066876149461974,
          -0.0829629869201531,
          0.0711327323286393,
          0.11758770448093,
          -0.120480685950392,
          -0.125725713130425,
          -0.110887866562605,
          -0.121909448847712,
          0.0478533067692548,
          0.115889072389034,
          0.0860532785441853
         ],
         "yaxis": "y"
        },
        {
         "hovertemplate": "idx=9.0<br>coef1=%{x}<br>coef2=%{y}<extra></extra>",
         "legendgroup": "9.0",
         "marker": {
          "color": "#FECB52",
          "symbol": "circle"
         },
         "mode": "markers",
         "name": "9.0",
         "orientation": "v",
         "showlegend": true,
         "type": "scatter",
         "x": [
          0.735665586770609,
          -0.0422107149140032,
          0.0760235651019619,
          0.0316495858863248,
          0.401607516914206,
          -0.657658971172236,
          -0.729155373491958,
          0.445800532977291,
          -0.770046496745756,
          -0.407222735155224,
          -0.794082179228386,
          -0.84836340767566,
          0.687108265909167,
          0.286443134928232,
          0.0401978302172717,
          0.0483578662201654,
          0.333738768834661,
          -0.0592267009520512,
          0.879091158579776,
          0.153587067455265,
          -0.468493771258795
         ],
         "xaxis": "x",
         "y": [
          0.0277018132986457,
          0.706957246269745,
          0.671708827850811,
          -0.704981434936309,
          -0.559871497246125,
          -0.356441765601382,
          0.220631554691154,
          0.716773558690722,
          0.410419419129132,
          0.738023813751793,
          0.241942506132964,
          -0.253524078246178,
          0.588484095466982,
          0.884973560945886,
          -0.946823408145036,
          -0.949340017943601,
          -0.930695007535595,
          -0.97934912086621,
          0.545462068843299,
          1.03845287416481,
          0.939105337213742
         ],
         "yaxis": "y"
        },
        {
         "hovertemplate": "idx=10.0<br>coef1=%{x}<br>coef2=%{y}<extra></extra>",
         "legendgroup": "10.0",
         "marker": {
          "color": "#636efa",
          "symbol": "circle"
         },
         "mode": "markers",
         "name": "10.0",
         "orientation": "v",
         "showlegend": true,
         "type": "scatter",
         "x": [
          0.0324406640039063,
          -0.215618787989492,
          0.174049467131431,
          0.116033828352036,
          -0.147024320253917,
          0.075325780245304,
          -0.0459538873814478,
          -0.0354769506195879,
          0.0975815659858497,
          0.10075016484836,
          0.102770309782499,
          0.0481378865054059,
          -0.137989308145607,
          -0.151754413442632,
          0.111813226481304,
          0.108121939843106,
          -0.131308619584695,
          -0.0944522699366419,
          -0.168953094987441,
          0.0965678165201103,
          0.179050835328091
         ],
         "xaxis": "x",
         "y": [
          -0.140256079648123,
          0.0516318037690826,
          -0.0188746700930102,
          0.0280253210596854,
          -0.0721167614291426,
          -0.146842335303841,
          -0.133288743597816,
          -0.0306136435744835,
          0.0648405079336838,
          -0.0069020747952368,
          0.0359161791200112,
          0.0846616718484228,
          0.0480292657617825,
          -0.030434467787676,
          0.0835297185526477,
          0.0968296844331178,
          0.061048763976461,
          0.120158977761509,
          0.0274855643462867,
          -0.158583836336755,
          -0.0837931522539717
         ],
         "yaxis": "y"
        },
        {
         "hovertemplate": "idx=11.0<br>coef1=%{x}<br>coef2=%{y}<extra></extra>",
         "legendgroup": "11.0",
         "marker": {
          "color": "#EF553B",
          "symbol": "circle"
         },
         "mode": "markers",
         "name": "11.0",
         "orientation": "v",
         "showlegend": true,
         "type": "scatter",
         "x": [
          0.197081390101013,
          -0.208399970290952,
          0.184597534501116,
          0.138849390689412,
          -0.0449800732856951,
          -0.0900934299430913,
          -0.23521918608099,
          0.134673594325485,
          -0.143094352521557,
          -0.0812469130692783,
          -0.149280548598976,
          -0.150038633038925,
          0.142990217530644,
          0.0586334176274069,
          -0.0067919867369409,
          0.0019867794990289,
          0.0892127002709683,
          0.0104105351852473,
          0.194112199558385,
          0.0125390877382255,
          -0.111403149852337
         ],
         "xaxis": "x",
         "y": [
          -0.145104075175787,
          0.211096077016672,
          0.137916570174351,
          -0.139202714113583,
          -0.221118844822185,
          -0.241758280021649,
          -0.0955746103088089,
          0.110618077939266,
          0.0842911658131475,
          0.14234922391094,
          0.0187817281535979,
          -0.087232466678157,
          0.114637211274181,
          0.177135983323217,
          -0.186715739214754,
          -0.192219262065194,
          -0.183518363403945,
          -0.205800535487875,
          0.0993026008259573,
          0.219997843499016,
          0.192048235003043
         ],
         "yaxis": "y"
        },
        {
         "hovertemplate": "idx=12.0<br>coef1=%{x}<br>coef2=%{y}<extra></extra>",
         "legendgroup": "12.0",
         "marker": {
          "color": "#00cc96",
          "symbol": "circle"
         },
         "mode": "markers",
         "name": "12.0",
         "orientation": "v",
         "showlegend": true,
         "type": "scatter",
         "x": [
          -0.545360905657853,
          -0.54700626965181,
          0.443001518021541,
          0.374062981617,
          -0.746514933793168,
          0.744379594678453,
          0.451736897304124,
          -0.246647872231425,
          0.721897412383491,
          0.335994699111506,
          0.768697302960239,
          0.82703863659339,
          -0.621769406304616,
          -0.256858523547241,
          -0.0791084491459166,
          -0.0903899075826529,
          -0.24973359310763,
          0.116669054141919,
          -0.785570922159047,
          -0.211084291767109,
          0.373197172570994
         ],
         "xaxis": "x",
         "y": [
          -0.47747286930658,
          -0.478550473260048,
          -0.616438379946346,
          0.651129282967635,
          0.200577859594701,
          -0.143534398796256,
          -0.618887897403377,
          -0.759073889064635,
          -0.415584524970724,
          -0.733806849463493,
          -0.346750294356771,
          0.127711314317825,
          -0.571973215072739,
          -0.812139613013499,
          0.858601345867798,
          0.866298682483412,
          0.878740890006901,
          0.911807624843586,
          -0.566142951297152,
          -0.96831112625092,
          -0.924910144519491
         ],
         "yaxis": "y"
        },
        {
         "hovertemplate": "idx=13.0<br>coef1=%{x}<br>coef2=%{y}<extra></extra>",
         "legendgroup": "13.0",
         "marker": {
          "color": "#ab63fa",
          "symbol": "circle"
         },
         "mode": "markers",
         "name": "13.0",
         "orientation": "v",
         "showlegend": true,
         "type": "scatter",
         "x": [
          0.442361703104735,
          -0.221735398092824,
          0.209713541449268,
          0.201013116896971,
          0.0477097494252175,
          -0.263182756397622,
          -0.486322779062845,
          0.357114368406431,
          -0.40865314261253,
          -0.301298252290631,
          -0.413563980806667,
          -0.33545859142,
          0.378423507528258,
          0.250411069193523,
          -0.157247569389855,
          -0.149715040535883,
          0.328898615484451,
          0.181231155404238,
          0.462068335939782,
          -0.15403403725053,
          -0.374366795628388
         ],
         "xaxis": "x",
         "y": [
          -0.136927053500906,
          0.433038103221229,
          0.367160504542017,
          -0.376439253006914,
          -0.435913914518743,
          -0.40595157789891,
          -0.111122094193806,
          0.249261188547224,
          0.0836339940169225,
          0.293575721190642,
          -0.0281802627094506,
          -0.285522987771678,
          0.171435991529426,
          0.338626430748585,
          -0.405173670310494,
          -0.413160047160496,
          -0.327242926118428,
          -0.413023467910204,
          0.049703315449834,
          0.45252478819468,
          0.292156591659046
         ],
         "yaxis": "y"
        },
        {
         "hovertemplate": "idx=14.0<br>coef1=%{x}<br>coef2=%{y}<extra></extra>",
         "legendgroup": "14.0",
         "marker": {
          "color": "#FFA15A",
          "symbol": "circle"
         },
         "mode": "markers",
         "name": "14.0",
         "orientation": "v",
         "showlegend": true,
         "type": "scatter",
         "x": [
          -0.0420500001952751,
          -0.172501440173845,
          0.106007554065216,
          0.0419135376032089,
          -0.134805682496994,
          0.107147160759308,
          0.0130248961370188,
          -0.110087733425906,
          0.175678329025165,
          0.199505020475581,
          0.166934336831961,
          0.0611907563162131,
          -0.202702682112102,
          -0.212215332702574,
          0.15889869382536,
          0.16612097206666,
          -0.182164026914725,
          -0.150668548141982,
          -0.185865112558096,
          0.159847992578929,
          0.216609797325082
         ],
         "xaxis": "x",
         "y": [
          -0.0914546910170879,
          -0.0202655356782382,
          -0.0860874832459775,
          0.0868423786523613,
          0.0073720602545566,
          -0.0863731624547898,
          -0.118211650877579,
          -0.0386499770234892,
          0.130271365661304,
          -0.0008511322691891,
          0.115196541389698,
          0.158926655391947,
          0.0901496684310164,
          -0.0214991108983748,
          0.100060140669499,
          0.096794578514781,
          0.0382146548297594,
          0.119336927407545,
          0.0935240026694681,
          -0.128775046195415,
          -0.0157375963597981
         ],
         "yaxis": "y"
        },
        {
         "hovertemplate": "idx=15.0<br>coef1=%{x}<br>coef2=%{y}<extra></extra>",
         "legendgroup": "15.0",
         "marker": {
          "color": "#19d3f3",
          "symbol": "circle"
         },
         "mode": "markers",
         "name": "15.0",
         "orientation": "v",
         "showlegend": true,
         "type": "scatter",
         "x": [
          -0.132387790601844,
          -0.119224987458646,
          0.014354364503123,
          -0.0691047759488403,
          -0.10007936244726,
          0.141197064363188,
          0.132737065584542,
          -0.261580544784198,
          0.27552738550587,
          0.343058145748622,
          0.244833377364226,
          0.0859652806619094,
          -0.35503055835675,
          -0.391848165390532,
          0.305789680489278,
          0.289434625443536,
          -0.32041971081715,
          -0.235638566282577,
          -0.321825008466046,
          0.204856907133606,
          0.333240787479752
         ],
         "xaxis": "x",
         "y": [
          0.046891545581108,
          -0.115800508062026,
          -0.203051599309497,
          0.162667813744307,
          0.144928733135861,
          0.0432774839603592,
          -0.0286730990590285,
          -0.010681318811186,
          0.214976757203556,
          0.0206021087249865,
          0.20448150808851,
          0.297086785705782,
          0.16293715129871,
          -0.0459492937237688,
          0.190888015335708,
          0.20138940756361,
          0.0929054865721845,
          0.21962149203567,
          0.1041059915442,
          -0.271087854423894,
          -0.119653791637595
         ],
         "yaxis": "y"
        },
        {
         "hovertemplate": "idx=16.0<br>coef1=%{x}<br>coef2=%{y}<extra></extra>",
         "legendgroup": "16.0",
         "marker": {
          "color": "#FF6692",
          "symbol": "circle"
         },
         "mode": "markers",
         "name": "16.0",
         "orientation": "v",
         "showlegend": true,
         "type": "scatter",
         "x": [
          0.534854408362569,
          -0.59553584555976,
          0.626121332733405,
          0.665794717874066,
          -0.257410012816452,
          -0.166670288132055,
          -0.715735823288588,
          0.812157265288416,
          -0.628949800279526,
          -0.757308148818269,
          -0.567100317027061,
          -0.202705094526497,
          0.751629992070693,
          0.780746527237231,
          -0.692874863936281,
          -0.687598179538351,
          0.879118572186847,
          0.724223866800397,
          0.849664749935196,
          -0.71785645913916,
          -0.948114424287183
         ],
         "xaxis": "x",
         "y": [
          -0.591999891281416,
          0.575945738520758,
          0.447986321690101,
          -0.419838293338604,
          -0.780895379885706,
          -0.826646634469486,
          -0.512351755633757,
          -0.0184388981183649,
          -0.421304617962122,
          0.0114479736371371,
          -0.535971228637426,
          -0.800382478051732,
          -0.257252460371619,
          0.175993864951336,
          -0.462553688306661,
          -0.483908103105399,
          -0.195245169118949,
          -0.523492179472913,
          -0.408591743385831,
          0.634399377733617,
          0.120790827692496
         ],
         "yaxis": "y"
        },
        {
         "hovertemplate": "idx=17.0<br>coef1=%{x}<br>coef2=%{y}<extra></extra>",
         "legendgroup": "17.0",
         "marker": {
          "color": "#B6E880",
          "symbol": "circle"
         },
         "mode": "markers",
         "name": "17.0",
         "orientation": "v",
         "showlegend": true,
         "type": "scatter",
         "x": [
          -0.0004670584836426,
          -0.230259101996968,
          0.185532696748243,
          0.125433128892557,
          -0.186490724999101,
          0.124100451452518,
          -0.002031764395965,
          -0.0418938057001801,
          0.143769048563902,
          0.121268767253091,
          0.165142753545644,
          0.122204254155749,
          -0.16933354291436,
          -0.144213645663503,
          0.0884921380345813,
          0.0958526620499116,
          -0.147120735862123,
          -0.0869461788371715,
          -0.219338928739667,
          0.0789329118292485,
          0.197671843803882
         ],
         "xaxis": "x",
         "y": [
          -0.155837701028817,
          0.0126738368868293,
          -0.0618292296321553,
          0.0792001680181668,
          -0.0455818000486053,
          -0.145254803009105,
          -0.176016535965709,
          -0.0925603526305332,
          0.0154739652474867,
          -0.0754113870854388,
          -0.0016139811998072,
          0.0762833009922285,
          -0.021917050091457,
          -0.105798236307712,
          0.154729959310359,
          0.164096053927583,
          0.127193310279896,
          0.181417500586146,
          -0.0111613147003532,
          -0.218265478652205,
          -0.137658352345888
         ],
         "yaxis": "y"
        },
        {
         "hovertemplate": "idx=18.0<br>coef1=%{x}<br>coef2=%{y}<extra></extra>",
         "legendgroup": "18.0",
         "marker": {
          "color": "#FF97FF",
          "symbol": "circle"
         },
         "mode": "markers",
         "name": "18.0",
         "orientation": "v",
         "showlegend": true,
         "type": "scatter",
         "x": [
          0.023570066391057,
          -0.30065881222336,
          0.255757234074426,
          0.206545457453343,
          -0.232030527244214,
          0.127421319844667,
          -0.0571598189828467,
          0.0497465245407631,
          0.0810290995126667,
          0.0159234233403898,
          0.0917885295027732,
          0.117461450902254,
          -0.0660440526963742,
          -0.0116718669318039,
          -0.0480782973228054,
          -0.044890663461919,
          0.0088376078799938,
          0.0702339394974252,
          -0.0961204046478032,
          -0.0940028908280354,
          0.0194863630278505
         ],
         "xaxis": "x",
         "y": [
          -0.240818030699987,
          0.045788624293841,
          -0.0380529941338188,
          0.0575270278279433,
          -0.119778005506918,
          -0.223552858001321,
          -0.243610749943248,
          -0.120892407535312,
          -0.0646140915365673,
          -0.103573338955769,
          -0.0963512701198581,
          -0.0482686698491609,
          -0.0822276590931137,
          -0.10461271476092,
          0.103256790620869,
          0.106954270700484,
          0.136789375732427,
          0.128020759670011,
          -0.130655540306507,
          -0.151016372305041,
          -0.17467724752057
         ],
         "yaxis": "y"
        },
        {
         "hovertemplate": "idx=19.0<br>coef1=%{x}<br>coef2=%{y}<extra></extra>",
         "legendgroup": "19.0",
         "marker": {
          "color": "#FECB52",
          "symbol": "circle"
         },
         "mode": "markers",
         "name": "19.0",
         "orientation": "v",
         "showlegend": true,
         "type": "scatter",
         "x": [
          0.233735175736111,
          -0.256731621695642,
          0.236758527818482,
          0.20404080433069,
          -0.0861906124846418,
          -0.0816592190098097,
          -0.273945374865642,
          0.215135993264488,
          -0.181924277926021,
          -0.162591850126356,
          -0.178807662237612,
          -0.130049580491874,
          0.192265175319531,
          0.151836651518013,
          -0.113691868662177,
          -0.118564472548414,
          0.203812509316882,
          0.138356388490779,
          0.24998052552141,
          -0.130387544315621,
          -0.230483079601796
         ],
         "xaxis": "x",
         "y": [
          -0.197637911208741,
          0.251027589159,
          0.169961582527325,
          -0.154904970020683,
          -0.280614570269831,
          -0.302265021334713,
          -0.155400393699963,
          0.068563875452026,
          -0.0075834188083196,
          0.0938640878072052,
          -0.0681416336184152,
          -0.175578654428031,
          0.0455934199202058,
          0.138657018821085,
          -0.195084532757274,
          -0.197677557346847,
          -0.134229172851388,
          -0.197201248235198,
          -0.0240684453001675,
          0.225354608816064,
          0.112114927378477
         ],
         "yaxis": "y"
        }
       ],
       "layout": {
        "autosize": true,
        "legend": {
         "title": {
          "text": "idx"
         },
         "tracegroupgap": 0
        },
        "margin": {
         "t": 60
        },
        "template": {
         "data": {
          "bar": [
           {
            "error_x": {
             "color": "#2a3f5f"
            },
            "error_y": {
             "color": "#2a3f5f"
            },
            "marker": {
             "line": {
              "color": "#E5ECF6",
              "width": 0.5
             },
             "pattern": {
              "fillmode": "overlay",
              "size": 10,
              "solidity": 0.2
             }
            },
            "type": "bar"
           }
          ],
          "barpolar": [
           {
            "marker": {
             "line": {
              "color": "#E5ECF6",
              "width": 0.5
             },
             "pattern": {
              "fillmode": "overlay",
              "size": 10,
              "solidity": 0.2
             }
            },
            "type": "barpolar"
           }
          ],
          "carpet": [
           {
            "aaxis": {
             "endlinecolor": "#2a3f5f",
             "gridcolor": "white",
             "linecolor": "white",
             "minorgridcolor": "white",
             "startlinecolor": "#2a3f5f"
            },
            "baxis": {
             "endlinecolor": "#2a3f5f",
             "gridcolor": "white",
             "linecolor": "white",
             "minorgridcolor": "white",
             "startlinecolor": "#2a3f5f"
            },
            "type": "carpet"
           }
          ],
          "choropleth": [
           {
            "colorbar": {
             "outlinewidth": 0,
             "ticks": ""
            },
            "type": "choropleth"
           }
          ],
          "contour": [
           {
            "colorbar": {
             "outlinewidth": 0,
             "ticks": ""
            },
            "colorscale": [
             [
              0,
              "#0d0887"
             ],
             [
              0.1111111111111111,
              "#46039f"
             ],
             [
              0.2222222222222222,
              "#7201a8"
             ],
             [
              0.3333333333333333,
              "#9c179e"
             ],
             [
              0.4444444444444444,
              "#bd3786"
             ],
             [
              0.5555555555555556,
              "#d8576b"
             ],
             [
              0.6666666666666666,
              "#ed7953"
             ],
             [
              0.7777777777777778,
              "#fb9f3a"
             ],
             [
              0.8888888888888888,
              "#fdca26"
             ],
             [
              1,
              "#f0f921"
             ]
            ],
            "type": "contour"
           }
          ],
          "contourcarpet": [
           {
            "colorbar": {
             "outlinewidth": 0,
             "ticks": ""
            },
            "type": "contourcarpet"
           }
          ],
          "heatmap": [
           {
            "colorbar": {
             "outlinewidth": 0,
             "ticks": ""
            },
            "colorscale": [
             [
              0,
              "#0d0887"
             ],
             [
              0.1111111111111111,
              "#46039f"
             ],
             [
              0.2222222222222222,
              "#7201a8"
             ],
             [
              0.3333333333333333,
              "#9c179e"
             ],
             [
              0.4444444444444444,
              "#bd3786"
             ],
             [
              0.5555555555555556,
              "#d8576b"
             ],
             [
              0.6666666666666666,
              "#ed7953"
             ],
             [
              0.7777777777777778,
              "#fb9f3a"
             ],
             [
              0.8888888888888888,
              "#fdca26"
             ],
             [
              1,
              "#f0f921"
             ]
            ],
            "type": "heatmap"
           }
          ],
          "heatmapgl": [
           {
            "colorbar": {
             "outlinewidth": 0,
             "ticks": ""
            },
            "colorscale": [
             [
              0,
              "#0d0887"
             ],
             [
              0.1111111111111111,
              "#46039f"
             ],
             [
              0.2222222222222222,
              "#7201a8"
             ],
             [
              0.3333333333333333,
              "#9c179e"
             ],
             [
              0.4444444444444444,
              "#bd3786"
             ],
             [
              0.5555555555555556,
              "#d8576b"
             ],
             [
              0.6666666666666666,
              "#ed7953"
             ],
             [
              0.7777777777777778,
              "#fb9f3a"
             ],
             [
              0.8888888888888888,
              "#fdca26"
             ],
             [
              1,
              "#f0f921"
             ]
            ],
            "type": "heatmapgl"
           }
          ],
          "histogram": [
           {
            "marker": {
             "pattern": {
              "fillmode": "overlay",
              "size": 10,
              "solidity": 0.2
             }
            },
            "type": "histogram"
           }
          ],
          "histogram2d": [
           {
            "colorbar": {
             "outlinewidth": 0,
             "ticks": ""
            },
            "colorscale": [
             [
              0,
              "#0d0887"
             ],
             [
              0.1111111111111111,
              "#46039f"
             ],
             [
              0.2222222222222222,
              "#7201a8"
             ],
             [
              0.3333333333333333,
              "#9c179e"
             ],
             [
              0.4444444444444444,
              "#bd3786"
             ],
             [
              0.5555555555555556,
              "#d8576b"
             ],
             [
              0.6666666666666666,
              "#ed7953"
             ],
             [
              0.7777777777777778,
              "#fb9f3a"
             ],
             [
              0.8888888888888888,
              "#fdca26"
             ],
             [
              1,
              "#f0f921"
             ]
            ],
            "type": "histogram2d"
           }
          ],
          "histogram2dcontour": [
           {
            "colorbar": {
             "outlinewidth": 0,
             "ticks": ""
            },
            "colorscale": [
             [
              0,
              "#0d0887"
             ],
             [
              0.1111111111111111,
              "#46039f"
             ],
             [
              0.2222222222222222,
              "#7201a8"
             ],
             [
              0.3333333333333333,
              "#9c179e"
             ],
             [
              0.4444444444444444,
              "#bd3786"
             ],
             [
              0.5555555555555556,
              "#d8576b"
             ],
             [
              0.6666666666666666,
              "#ed7953"
             ],
             [
              0.7777777777777778,
              "#fb9f3a"
             ],
             [
              0.8888888888888888,
              "#fdca26"
             ],
             [
              1,
              "#f0f921"
             ]
            ],
            "type": "histogram2dcontour"
           }
          ],
          "mesh3d": [
           {
            "colorbar": {
             "outlinewidth": 0,
             "ticks": ""
            },
            "type": "mesh3d"
           }
          ],
          "parcoords": [
           {
            "line": {
             "colorbar": {
              "outlinewidth": 0,
              "ticks": ""
             }
            },
            "type": "parcoords"
           }
          ],
          "pie": [
           {
            "automargin": true,
            "type": "pie"
           }
          ],
          "scatter": [
           {
            "marker": {
             "colorbar": {
              "outlinewidth": 0,
              "ticks": ""
             }
            },
            "type": "scatter"
           }
          ],
          "scatter3d": [
           {
            "line": {
             "colorbar": {
              "outlinewidth": 0,
              "ticks": ""
             }
            },
            "marker": {
             "colorbar": {
              "outlinewidth": 0,
              "ticks": ""
             }
            },
            "type": "scatter3d"
           }
          ],
          "scattercarpet": [
           {
            "marker": {
             "colorbar": {
              "outlinewidth": 0,
              "ticks": ""
             }
            },
            "type": "scattercarpet"
           }
          ],
          "scattergeo": [
           {
            "marker": {
             "colorbar": {
              "outlinewidth": 0,
              "ticks": ""
             }
            },
            "type": "scattergeo"
           }
          ],
          "scattergl": [
           {
            "marker": {
             "colorbar": {
              "outlinewidth": 0,
              "ticks": ""
             }
            },
            "type": "scattergl"
           }
          ],
          "scattermapbox": [
           {
            "marker": {
             "colorbar": {
              "outlinewidth": 0,
              "ticks": ""
             }
            },
            "type": "scattermapbox"
           }
          ],
          "scatterpolar": [
           {
            "marker": {
             "colorbar": {
              "outlinewidth": 0,
              "ticks": ""
             }
            },
            "type": "scatterpolar"
           }
          ],
          "scatterpolargl": [
           {
            "marker": {
             "colorbar": {
              "outlinewidth": 0,
              "ticks": ""
             }
            },
            "type": "scatterpolargl"
           }
          ],
          "scatterternary": [
           {
            "marker": {
             "colorbar": {
              "outlinewidth": 0,
              "ticks": ""
             }
            },
            "type": "scatterternary"
           }
          ],
          "surface": [
           {
            "colorbar": {
             "outlinewidth": 0,
             "ticks": ""
            },
            "colorscale": [
             [
              0,
              "#0d0887"
             ],
             [
              0.1111111111111111,
              "#46039f"
             ],
             [
              0.2222222222222222,
              "#7201a8"
             ],
             [
              0.3333333333333333,
              "#9c179e"
             ],
             [
              0.4444444444444444,
              "#bd3786"
             ],
             [
              0.5555555555555556,
              "#d8576b"
             ],
             [
              0.6666666666666666,
              "#ed7953"
             ],
             [
              0.7777777777777778,
              "#fb9f3a"
             ],
             [
              0.8888888888888888,
              "#fdca26"
             ],
             [
              1,
              "#f0f921"
             ]
            ],
            "type": "surface"
           }
          ],
          "table": [
           {
            "cells": {
             "fill": {
              "color": "#EBF0F8"
             },
             "line": {
              "color": "white"
             }
            },
            "header": {
             "fill": {
              "color": "#C8D4E3"
             },
             "line": {
              "color": "white"
             }
            },
            "type": "table"
           }
          ]
         },
         "layout": {
          "annotationdefaults": {
           "arrowcolor": "#2a3f5f",
           "arrowhead": 0,
           "arrowwidth": 1
          },
          "autotypenumbers": "strict",
          "coloraxis": {
           "colorbar": {
            "outlinewidth": 0,
            "ticks": ""
           }
          },
          "colorscale": {
           "diverging": [
            [
             0,
             "#8e0152"
            ],
            [
             0.1,
             "#c51b7d"
            ],
            [
             0.2,
             "#de77ae"
            ],
            [
             0.3,
             "#f1b6da"
            ],
            [
             0.4,
             "#fde0ef"
            ],
            [
             0.5,
             "#f7f7f7"
            ],
            [
             0.6,
             "#e6f5d0"
            ],
            [
             0.7,
             "#b8e186"
            ],
            [
             0.8,
             "#7fbc41"
            ],
            [
             0.9,
             "#4d9221"
            ],
            [
             1,
             "#276419"
            ]
           ],
           "sequential": [
            [
             0,
             "#0d0887"
            ],
            [
             0.1111111111111111,
             "#46039f"
            ],
            [
             0.2222222222222222,
             "#7201a8"
            ],
            [
             0.3333333333333333,
             "#9c179e"
            ],
            [
             0.4444444444444444,
             "#bd3786"
            ],
            [
             0.5555555555555556,
             "#d8576b"
            ],
            [
             0.6666666666666666,
             "#ed7953"
            ],
            [
             0.7777777777777778,
             "#fb9f3a"
            ],
            [
             0.8888888888888888,
             "#fdca26"
            ],
            [
             1,
             "#f0f921"
            ]
           ],
           "sequentialminus": [
            [
             0,
             "#0d0887"
            ],
            [
             0.1111111111111111,
             "#46039f"
            ],
            [
             0.2222222222222222,
             "#7201a8"
            ],
            [
             0.3333333333333333,
             "#9c179e"
            ],
            [
             0.4444444444444444,
             "#bd3786"
            ],
            [
             0.5555555555555556,
             "#d8576b"
            ],
            [
             0.6666666666666666,
             "#ed7953"
            ],
            [
             0.7777777777777778,
             "#fb9f3a"
            ],
            [
             0.8888888888888888,
             "#fdca26"
            ],
            [
             1,
             "#f0f921"
            ]
           ]
          },
          "colorway": [
           "#636efa",
           "#EF553B",
           "#00cc96",
           "#ab63fa",
           "#FFA15A",
           "#19d3f3",
           "#FF6692",
           "#B6E880",
           "#FF97FF",
           "#FECB52"
          ],
          "font": {
           "color": "#2a3f5f"
          },
          "geo": {
           "bgcolor": "white",
           "lakecolor": "white",
           "landcolor": "#E5ECF6",
           "showlakes": true,
           "showland": true,
           "subunitcolor": "white"
          },
          "hoverlabel": {
           "align": "left"
          },
          "hovermode": "closest",
          "mapbox": {
           "style": "light"
          },
          "paper_bgcolor": "white",
          "plot_bgcolor": "#E5ECF6",
          "polar": {
           "angularaxis": {
            "gridcolor": "white",
            "linecolor": "white",
            "ticks": ""
           },
           "bgcolor": "#E5ECF6",
           "radialaxis": {
            "gridcolor": "white",
            "linecolor": "white",
            "ticks": ""
           }
          },
          "scene": {
           "xaxis": {
            "backgroundcolor": "#E5ECF6",
            "gridcolor": "white",
            "gridwidth": 2,
            "linecolor": "white",
            "showbackground": true,
            "ticks": "",
            "zerolinecolor": "white"
           },
           "yaxis": {
            "backgroundcolor": "#E5ECF6",
            "gridcolor": "white",
            "gridwidth": 2,
            "linecolor": "white",
            "showbackground": true,
            "ticks": "",
            "zerolinecolor": "white"
           },
           "zaxis": {
            "backgroundcolor": "#E5ECF6",
            "gridcolor": "white",
            "gridwidth": 2,
            "linecolor": "white",
            "showbackground": true,
            "ticks": "",
            "zerolinecolor": "white"
           }
          },
          "shapedefaults": {
           "line": {
            "color": "#2a3f5f"
           }
          },
          "ternary": {
           "aaxis": {
            "gridcolor": "white",
            "linecolor": "white",
            "ticks": ""
           },
           "baxis": {
            "gridcolor": "white",
            "linecolor": "white",
            "ticks": ""
           },
           "bgcolor": "#E5ECF6",
           "caxis": {
            "gridcolor": "white",
            "linecolor": "white",
            "ticks": ""
           }
          },
          "title": {
           "x": 0.05
          },
          "xaxis": {
           "automargin": true,
           "gridcolor": "white",
           "linecolor": "white",
           "ticks": "",
           "title": {
            "standoff": 15
           },
           "zerolinecolor": "white",
           "zerolinewidth": 2
          },
          "yaxis": {
           "automargin": true,
           "gridcolor": "white",
           "linecolor": "white",
           "ticks": "",
           "title": {
            "standoff": 15
           },
           "zerolinecolor": "white",
           "zerolinewidth": 2
          }
         }
        },
        "xaxis": {
         "anchor": "y",
         "autorange": true,
         "domain": [
          0,
          1
         ],
         "range": [
          -1.06355237670026,
          1.022925633538668
         ],
         "title": {
          "text": "coef1"
         },
         "type": "linear"
        },
        "yaxis": {
         "anchor": "x",
         "autorange": true,
         "domain": [
          0,
          1
         ],
         "range": [
          -1.135583133604832,
          1.1946868869034324
         ],
         "title": {
          "text": "coef2"
         },
         "type": "linear"
        }
       }
      },
      "image/png": "[encoded data removed]",
      "text/html": [
       "<div>                            <div id=\"56205569-bb0c-4289-a61b-91dcf9d7519a\" class=\"plotly-graph-div\" style=\"height:525px; width:100%;\"></div>            <script type=\"text/javascript\">                require([\"plotly\"], function(Plotly) {                    window.PLOTLYENV=window.PLOTLYENV || {};                                    if (document.getElementById(\"56205569-bb0c-4289-a61b-91dcf9d7519a\")) {                    Plotly.newPlot(                        \"56205569-bb0c-4289-a61b-91dcf9d7519a\",                        [{\"hovertemplate\":\"idx=0.0<br>coef1=%{x}<br>coef2=%{y}<extra></extra>\",\"legendgroup\":\"0.0\",\"marker\":{\"color\":\"#636efa\",\"symbol\":\"circle\"},\"mode\":\"markers\",\"name\":\"0.0\",\"orientation\":\"v\",\"showlegend\":true,\"x\":[0.206948802025885,-0.183256880287617,0.155009905127987,0.110635173705382,-0.0183668327057673,-0.106472068662714,-0.238823782480784,0.125310280992134,-0.1491476287198,-0.0628530332629651,-0.164054630001075,-0.20622959326883,0.130888868288222,0.0229284868369687,0.0433461427344695,0.0541817673542159,0.0515610324014446,-0.0497612384481033,0.187251332857689,0.0878224570439064,-0.0558120482956472],\"xaxis\":\"x\",\"y\":[-0.119247952440777,0.220197645092103,0.153583949915673,-0.164196809614382,-0.216414652695475,-0.225005473941086,-0.0699991244653817,0.147528354234048,0.134288503603001,0.18799097957137,0.0785671097093549,-0.0508747852080437,0.180699027414434,0.236648793104603,-0.23520749395256,-0.236798474500914,-0.242826173917499,-0.228335204137922,0.169007156459167,0.238464463771141,0.253585396394924],\"yaxis\":\"y\",\"type\":\"scatter\"},{\"hovertemplate\":\"idx=1.0<br>coef1=%{x}<br>coef2=%{y}<extra></extra>\",\"legendgroup\":\"1.0\",\"marker\":{\"color\":\"#EF553B\",\"symbol\":\"circle\"},\"mode\":\"markers\",\"name\":\"1.0\",\"orientation\":\"v\",\"showlegend\":true,\"x\":[0.112590234828729,-0.279060203507366,0.243494614909581,0.203857175394749,-0.162462978135107,0.0431859797426127,-0.145303014042586,0.103771699414639,-0.0115398295132855,-0.0295540724761664,0.0004360699333592,0.0170976598808724,0.0048413476000568,0.0092838342320857,-0.0263113531265405,-0.0301520506618509,0.0351554292581395,0.043727256659315,0.0136728533742992,-0.0432200329871676,-0.025529037223157],\"xaxis\":\"x\",\"y\":[-0.216589617020124,0.126483657232074,0.0485863862395139,-0.0329992716388143,-0.177310296507504,-0.246433205251552,-0.198963008782955,-0.0337805693546404,-0.0152698138608173,-0.0112743620756093,-0.0583389199136382,-0.0601676636130655,-0.0079897012515781,0.0040324867699998,-0.0077145012749438,-0.0011838821787512,0.0249124201776193,0.0086446260663138,-0.043309297259015,-0.0075598629366876,-0.0284622934202071],\"yaxis\":\"y\",\"type\":\"scatter\"},{\"hovertemplate\":\"idx=2.0<br>coef1=%{x}<br>coef2=%{y}<extra></extra>\",\"legendgroup\":\"2.0\",\"marker\":{\"color\":\"#00cc96\",\"symbol\":\"circle\"},\"mode\":\"markers\",\"name\":\"2.0\",\"orientation\":\"v\",\"showlegend\":true,\"x\":[0.180273268460785,-0.237789369158787,0.210026357944262,0.160564930580226,-0.0779410643432575,-0.0577075094312737,-0.218991155032978,0.135054199236393,-0.107190174204702,-0.0756470127944789,-0.114371654377465,-0.111460817830907,0.107449888038483,0.0486421689424273,-0.0112967602744503,-0.0149889663722199,0.0816218978607872,0.0312194748004777,0.155566990714907,-0.0175718509786201,-0.113620803709981],\"xaxis\":\"x\",\"y\":[-0.178177971365416,0.197350681195275,0.122946305854761,-0.119982142085451,-0.219658863057005,-0.25777660145361,-0.133756787388215,0.0753995200396833,0.0574235250386139,0.104647521012353,-0.003591187666325,-0.0861026766918173,0.0832913576649231,0.132783394364486,-0.152112005949235,-0.145134684315989,-0.128414382951382,-0.1527189535994,0.0548719988880676,0.169193120170267,0.130572603126453],\"yaxis\":\"y\",\"type\":\"scatter\"},{\"hovertemplate\":\"idx=3.0<br>coef1=%{x}<br>coef2=%{y}<extra></extra>\",\"legendgroup\":\"3.0\",\"marker\":{\"color\":\"#ab63fa\",\"symbol\":\"circle\"},\"mode\":\"markers\",\"name\":\"3.0\",\"orientation\":\"v\",\"showlegend\":true,\"x\":[0.176813807434341,-0.149638266701764,0.110345947783075,0.0424153214844796,0.0211665340327423,-0.109992128796392,-0.181355462439436,0.0214380401901617,-0.0890682132242266,0.0497475518000013,-0.113528682639685,-0.22277174817984,0.017725870014347,-0.134871757062135,0.205648378950243,0.209075795660467,-0.102948788081358,-0.194917936541758,0.0776153484699735,0.234815015839514,0.101188944657483],\"xaxis\":\"x\",\"y\":[-0.0656964688483627,0.177273233635455,0.117486248355962,-0.138264986384464,-0.149029241830834,-0.148778843275346,0.0007821279233335,0.190324817910253,0.235134520159934,0.239646718073668,0.187172619563342,0.090025389718794,0.285677115355719,0.269812801198148,-0.208268349768795,-0.197638037436432,-0.262262490541591,-0.195980759537126,0.285995096251123,0.181959905920147,0.28679010147987],\"yaxis\":\"y\",\"type\":\"scatter\"},{\"hovertemplate\":\"idx=4.0<br>coef1=%{x}<br>coef2=%{y}<extra></extra>\",\"legendgroup\":\"4.0\",\"marker\":{\"color\":\"#FFA15A\",\"symbol\":\"circle\"},\"mode\":\"markers\",\"name\":\"4.0\",\"orientation\":\"v\",\"showlegend\":true,\"x\":[0.118460742289314,-0.237910114506171,0.200725778829955,0.154489551080506,-0.129078987967939,0.0182042413385678,-0.137177487984845,0.0666805871569262,-0.0165865361517191,-0.0014897428667292,-0.0109661457422366,-0.031266225120952,-0.0008211002217238,-0.029390154029898,0.0234791324170525,0.0284608497546133,0.0091718320537965,-0.0090523882802091,0.0347095632189529,0.0110748173942442,0.0040232406888089],\"xaxis\":\"x\",\"y\":[-0.163118720234997,0.128920324820391,0.0504555672668242,-0.0459763797482534,-0.159413389533625,-0.214082358229479,-0.146550457934595,0.0136828149953282,0.0489387769654103,0.0388157253331702,0.001379792279532,-0.0229850391378882,0.0562917436393616,0.0590719186021529,-0.0480011908718979,-0.0492995371408844,-0.0539886209731561,-0.0435509253719236,0.0307111755717439,0.034955614778063,0.0297739663110003],\"yaxis\":\"y\",\"type\":\"scatter\"},{\"hovertemplate\":\"idx=5.0<br>coef1=%{x}<br>coef2=%{y}<extra></extra>\",\"legendgroup\":\"5.0\",\"marker\":{\"color\":\"#19d3f3\",\"symbol\":\"circle\"},\"mode\":\"markers\",\"name\":\"5.0\",\"orientation\":\"v\",\"showlegend\":true,\"x\":[0.266809312499345,-0.230322995714317,0.219584345006831,0.17841500456259,-0.0207372463238712,-0.144123640897655,-0.311041709586874,0.206352455204002,-0.215075278312095,-0.147949064495957,-0.213496288517818,-0.201043032747014,0.194848472001863,0.0998957966103742,-0.0358829569843101,-0.0322686722208918,0.142722548046977,0.044653079864351,0.256679534401043,-0.0247169571143609,-0.167000975924452],\"xaxis\":\"x\",\"y\":[-0.173077881008219,0.281525948023269,0.21691181102459,-0.214601129424771,-0.294420798551923,-0.29778124829448,-0.103124125069599,0.145147908318575,0.0737255447786776,0.173008096479247,0.0042016254326631,-0.129069949013688,0.132883237040095,0.229350889007329,-0.255063757412157,-0.257469514818361,-0.226340226512619,-0.251915035740924,0.0851452416904492,0.275988181050879,0.211968711639773],\"yaxis\":\"y\",\"type\":\"scatter\"},{\"hovertemplate\":\"idx=6.0<br>coef1=%{x}<br>coef2=%{y}<extra></extra>\",\"legendgroup\":\"6.0\",\"marker\":{\"color\":\"#FF6692\",\"symbol\":\"circle\"},\"mode\":\"markers\",\"name\":\"6.0\",\"orientation\":\"v\",\"showlegend\":true,\"x\":[0.112971536176405,-0.533450124976403,0.499956330179628,0.491976935179546,-0.416634008969621,0.200254307807069,-0.223346533149224,0.326340563017029,-0.0563150218080116,-0.241975333809228,-0.0053633624625235,0.199495850752093,0.127247273270528,0.267914172894951,-0.366812050584653,-0.374623555668764,0.347809290468103,0.429189048460723,0.11328507762324,-0.480107997848857,-0.348639929864902],\"xaxis\":\"x\",\"y\":[-0.475228957332315,0.148180829603302,0.0309549231030726,0.0055535546377924,-0.350183061588553,-0.511808029372881,-0.530024371605256,-0.278619516912298,-0.335844284992873,-0.245536451817354,-0.377672039720314,-0.339094863486888,-0.30685035599691,-0.199940017683858,0.0955967926149116,0.10251082313315,0.261662966367959,0.107302049933318,-0.446141373136399,-0.0749210135140291,-0.343082616436857],\"yaxis\":\"y\",\"type\":\"scatter\"},{\"hovertemplate\":\"idx=7.0<br>coef1=%{x}<br>coef2=%{y}<extra></extra>\",\"legendgroup\":\"7.0\",\"marker\":{\"color\":\"#B6E880\",\"symbol\":\"circle\"},\"mode\":\"markers\",\"name\":\"7.0\",\"orientation\":\"v\",\"showlegend\":true,\"x\":[-0.241049188000911,-0.106970819170685,0.0028466731643495,-0.14921202736022,-0.156148291204754,0.258578265111539,0.317765825865327,-0.554023685378496,0.625020709885804,0.667528155422139,0.583994395983266,0.243753855793584,-0.743474534530483,-0.76695320129109,0.634536944925484,0.640612337987001,-0.800640628082656,-0.650859634346041,-0.826394250611277,0.648076117061687,0.907487681125591],\"xaxis\":\"x\",\"y\":[0.0022494213781422,-0.216468433221798,-0.304939311076544,0.315541105230361,0.288395857322164,0.153321852993965,0.0064206439628908,-0.0773145969376049,0.394736584344199,-0.0661403458584578,0.397916482609471,0.647831475991812,0.216594849929527,-0.190342435601861,0.457881170328677,0.46754638254221,0.20041579413567,0.513787102770765,0.342580532619798,-0.640752202168523,-0.16332482470351],\"yaxis\":\"y\",\"type\":\"scatter\"},{\"hovertemplate\":\"idx=8.0<br>coef1=%{x}<br>coef2=%{y}<extra></extra>\",\"legendgroup\":\"8.0\",\"marker\":{\"color\":\"#FF97FF\",\"symbol\":\"circle\"},\"mode\":\"markers\",\"name\":\"8.0\",\"orientation\":\"v\",\"showlegend\":true,\"x\":[0.174944283766396,-0.250591969713301,0.224178190789215,0.18008282237132,-0.0985595017275893,-0.0439466566893203,-0.215230706350119,0.147304752380476,-0.109277550151158,-0.0715746343473007,-0.0951335526262741,-0.0974152985145231,0.0961028097262726,0.0365913688142967,-0.0073851157101458,-0.0091740251676282,0.0728012769871608,0.0175077215811897,0.112654349550932,0.0002837699261352,-0.053146005069494],\"xaxis\":\"x\",\"y\":[-0.183121534362595,0.190060975128409,0.120489904023154,-0.111939460514079,-0.222506996008863,-0.263881830137046,-0.147459386729541,0.0574974397144009,0.0396085548869053,0.0887142108740771,-0.0066876149461974,-0.0829629869201531,0.0711327323286393,0.11758770448093,-0.120480685950392,-0.125725713130425,-0.110887866562605,-0.121909448847712,0.0478533067692548,0.115889072389034,0.0860532785441853],\"yaxis\":\"y\",\"type\":\"scatter\"},{\"hovertemplate\":\"idx=9.0<br>coef1=%{x}<br>coef2=%{y}<extra></extra>\",\"legendgroup\":\"9.0\",\"marker\":{\"color\":\"#FECB52\",\"symbol\":\"circle\"},\"mode\":\"markers\",\"name\":\"9.0\",\"orientation\":\"v\",\"showlegend\":true,\"x\":[0.735665586770609,-0.0422107149140032,0.0760235651019619,0.0316495858863248,0.401607516914206,-0.657658971172236,-0.729155373491958,0.445800532977291,-0.770046496745756,-0.407222735155224,-0.794082179228386,-0.84836340767566,0.687108265909167,0.286443134928232,0.0401978302172717,0.0483578662201654,0.333738768834661,-0.0592267009520512,0.879091158579776,0.153587067455265,-0.468493771258795],\"xaxis\":\"x\",\"y\":[0.0277018132986457,0.706957246269745,0.671708827850811,-0.704981434936309,-0.559871497246125,-0.356441765601382,0.220631554691154,0.716773558690722,0.410419419129132,0.738023813751793,0.241942506132964,-0.253524078246178,0.588484095466982,0.884973560945886,-0.946823408145036,-0.949340017943601,-0.930695007535595,-0.97934912086621,0.545462068843299,1.03845287416481,0.939105337213742],\"yaxis\":\"y\",\"type\":\"scatter\"},{\"hovertemplate\":\"idx=10.0<br>coef1=%{x}<br>coef2=%{y}<extra></extra>\",\"legendgroup\":\"10.0\",\"marker\":{\"color\":\"#636efa\",\"symbol\":\"circle\"},\"mode\":\"markers\",\"name\":\"10.0\",\"orientation\":\"v\",\"showlegend\":true,\"x\":[0.0324406640039063,-0.215618787989492,0.174049467131431,0.116033828352036,-0.147024320253917,0.075325780245304,-0.0459538873814478,-0.0354769506195879,0.0975815659858497,0.10075016484836,0.102770309782499,0.0481378865054059,-0.137989308145607,-0.151754413442632,0.111813226481304,0.108121939843106,-0.131308619584695,-0.0944522699366419,-0.168953094987441,0.0965678165201103,0.179050835328091],\"xaxis\":\"x\",\"y\":[-0.140256079648123,0.0516318037690826,-0.0188746700930102,0.0280253210596854,-0.0721167614291426,-0.146842335303841,-0.133288743597816,-0.0306136435744835,0.0648405079336838,-0.0069020747952368,0.0359161791200112,0.0846616718484228,0.0480292657617825,-0.030434467787676,0.0835297185526477,0.0968296844331178,0.061048763976461,0.120158977761509,0.0274855643462867,-0.158583836336755,-0.0837931522539717],\"yaxis\":\"y\",\"type\":\"scatter\"},{\"hovertemplate\":\"idx=11.0<br>coef1=%{x}<br>coef2=%{y}<extra></extra>\",\"legendgroup\":\"11.0\",\"marker\":{\"color\":\"#EF553B\",\"symbol\":\"circle\"},\"mode\":\"markers\",\"name\":\"11.0\",\"orientation\":\"v\",\"showlegend\":true,\"x\":[0.197081390101013,-0.208399970290952,0.184597534501116,0.138849390689412,-0.0449800732856951,-0.0900934299430913,-0.23521918608099,0.134673594325485,-0.143094352521557,-0.0812469130692783,-0.149280548598976,-0.150038633038925,0.142990217530644,0.0586334176274069,-0.0067919867369409,0.0019867794990289,0.0892127002709683,0.0104105351852473,0.194112199558385,0.0125390877382255,-0.111403149852337],\"xaxis\":\"x\",\"y\":[-0.145104075175787,0.211096077016672,0.137916570174351,-0.139202714113583,-0.221118844822185,-0.241758280021649,-0.0955746103088089,0.110618077939266,0.0842911658131475,0.14234922391094,0.0187817281535979,-0.087232466678157,0.114637211274181,0.177135983323217,-0.186715739214754,-0.192219262065194,-0.183518363403945,-0.205800535487875,0.0993026008259573,0.219997843499016,0.192048235003043],\"yaxis\":\"y\",\"type\":\"scatter\"},{\"hovertemplate\":\"idx=12.0<br>coef1=%{x}<br>coef2=%{y}<extra></extra>\",\"legendgroup\":\"12.0\",\"marker\":{\"color\":\"#00cc96\",\"symbol\":\"circle\"},\"mode\":\"markers\",\"name\":\"12.0\",\"orientation\":\"v\",\"showlegend\":true,\"x\":[-0.545360905657853,-0.54700626965181,0.443001518021541,0.374062981617,-0.746514933793168,0.744379594678453,0.451736897304124,-0.246647872231425,0.721897412383491,0.335994699111506,0.768697302960239,0.82703863659339,-0.621769406304616,-0.256858523547241,-0.0791084491459166,-0.0903899075826529,-0.24973359310763,0.116669054141919,-0.785570922159047,-0.211084291767109,0.373197172570994],\"xaxis\":\"x\",\"y\":[-0.47747286930658,-0.478550473260048,-0.616438379946346,0.651129282967635,0.200577859594701,-0.143534398796256,-0.618887897403377,-0.759073889064635,-0.415584524970724,-0.733806849463493,-0.346750294356771,0.127711314317825,-0.571973215072739,-0.812139613013499,0.858601345867798,0.866298682483412,0.878740890006901,0.911807624843586,-0.566142951297152,-0.96831112625092,-0.924910144519491],\"yaxis\":\"y\",\"type\":\"scatter\"},{\"hovertemplate\":\"idx=13.0<br>coef1=%{x}<br>coef2=%{y}<extra></extra>\",\"legendgroup\":\"13.0\",\"marker\":{\"color\":\"#ab63fa\",\"symbol\":\"circle\"},\"mode\":\"markers\",\"name\":\"13.0\",\"orientation\":\"v\",\"showlegend\":true,\"x\":[0.442361703104735,-0.221735398092824,0.209713541449268,0.201013116896971,0.0477097494252175,-0.263182756397622,-0.486322779062845,0.357114368406431,-0.40865314261253,-0.301298252290631,-0.413563980806667,-0.33545859142,0.378423507528258,0.250411069193523,-0.157247569389855,-0.149715040535883,0.328898615484451,0.181231155404238,0.462068335939782,-0.15403403725053,-0.374366795628388],\"xaxis\":\"x\",\"y\":[-0.136927053500906,0.433038103221229,0.367160504542017,-0.376439253006914,-0.435913914518743,-0.40595157789891,-0.111122094193806,0.249261188547224,0.0836339940169225,0.293575721190642,-0.0281802627094506,-0.285522987771678,0.171435991529426,0.338626430748585,-0.405173670310494,-0.413160047160496,-0.327242926118428,-0.413023467910204,0.049703315449834,0.45252478819468,0.292156591659046],\"yaxis\":\"y\",\"type\":\"scatter\"},{\"hovertemplate\":\"idx=14.0<br>coef1=%{x}<br>coef2=%{y}<extra></extra>\",\"legendgroup\":\"14.0\",\"marker\":{\"color\":\"#FFA15A\",\"symbol\":\"circle\"},\"mode\":\"markers\",\"name\":\"14.0\",\"orientation\":\"v\",\"showlegend\":true,\"x\":[-0.0420500001952751,-0.172501440173845,0.106007554065216,0.0419135376032089,-0.134805682496994,0.107147160759308,0.0130248961370188,-0.110087733425906,0.175678329025165,0.199505020475581,0.166934336831961,0.0611907563162131,-0.202702682112102,-0.212215332702574,0.15889869382536,0.16612097206666,-0.182164026914725,-0.150668548141982,-0.185865112558096,0.159847992578929,0.216609797325082],\"xaxis\":\"x\",\"y\":[-0.0914546910170879,-0.0202655356782382,-0.0860874832459775,0.0868423786523613,0.0073720602545566,-0.0863731624547898,-0.118211650877579,-0.0386499770234892,0.130271365661304,-0.0008511322691891,0.115196541389698,0.158926655391947,0.0901496684310164,-0.0214991108983748,0.100060140669499,0.096794578514781,0.0382146548297594,0.119336927407545,0.0935240026694681,-0.128775046195415,-0.0157375963597981],\"yaxis\":\"y\",\"type\":\"scatter\"},{\"hovertemplate\":\"idx=15.0<br>coef1=%{x}<br>coef2=%{y}<extra></extra>\",\"legendgroup\":\"15.0\",\"marker\":{\"color\":\"#19d3f3\",\"symbol\":\"circle\"},\"mode\":\"markers\",\"name\":\"15.0\",\"orientation\":\"v\",\"showlegend\":true,\"x\":[-0.132387790601844,-0.119224987458646,0.014354364503123,-0.0691047759488403,-0.10007936244726,0.141197064363188,0.132737065584542,-0.261580544784198,0.27552738550587,0.343058145748622,0.244833377364226,0.0859652806619094,-0.35503055835675,-0.391848165390532,0.305789680489278,0.289434625443536,-0.32041971081715,-0.235638566282577,-0.321825008466046,0.204856907133606,0.333240787479752],\"xaxis\":\"x\",\"y\":[0.046891545581108,-0.115800508062026,-0.203051599309497,0.162667813744307,0.144928733135861,0.0432774839603592,-0.0286730990590285,-0.010681318811186,0.214976757203556,0.0206021087249865,0.20448150808851,0.297086785705782,0.16293715129871,-0.0459492937237688,0.190888015335708,0.20138940756361,0.0929054865721845,0.21962149203567,0.1041059915442,-0.271087854423894,-0.119653791637595],\"yaxis\":\"y\",\"type\":\"scatter\"},{\"hovertemplate\":\"idx=16.0<br>coef1=%{x}<br>coef2=%{y}<extra></extra>\",\"legendgroup\":\"16.0\",\"marker\":{\"color\":\"#FF6692\",\"symbol\":\"circle\"},\"mode\":\"markers\",\"name\":\"16.0\",\"orientation\":\"v\",\"showlegend\":true,\"x\":[0.534854408362569,-0.59553584555976,0.626121332733405,0.665794717874066,-0.257410012816452,-0.166670288132055,-0.715735823288588,0.812157265288416,-0.628949800279526,-0.757308148818269,-0.567100317027061,-0.202705094526497,0.751629992070693,0.780746527237231,-0.692874863936281,-0.687598179538351,0.879118572186847,0.724223866800397,0.849664749935196,-0.71785645913916,-0.948114424287183],\"xaxis\":\"x\",\"y\":[-0.591999891281416,0.575945738520758,0.447986321690101,-0.419838293338604,-0.780895379885706,-0.826646634469486,-0.512351755633757,-0.0184388981183649,-0.421304617962122,0.0114479736371371,-0.535971228637426,-0.800382478051732,-0.257252460371619,0.175993864951336,-0.462553688306661,-0.483908103105399,-0.195245169118949,-0.523492179472913,-0.408591743385831,0.634399377733617,0.120790827692496],\"yaxis\":\"y\",\"type\":\"scatter\"},{\"hovertemplate\":\"idx=17.0<br>coef1=%{x}<br>coef2=%{y}<extra></extra>\",\"legendgroup\":\"17.0\",\"marker\":{\"color\":\"#B6E880\",\"symbol\":\"circle\"},\"mode\":\"markers\",\"name\":\"17.0\",\"orientation\":\"v\",\"showlegend\":true,\"x\":[-0.0004670584836426,-0.230259101996968,0.185532696748243,0.125433128892557,-0.186490724999101,0.124100451452518,-0.002031764395965,-0.0418938057001801,0.143769048563902,0.121268767253091,0.165142753545644,0.122204254155749,-0.16933354291436,-0.144213645663503,0.0884921380345813,0.0958526620499116,-0.147120735862123,-0.0869461788371715,-0.219338928739667,0.0789329118292485,0.197671843803882],\"xaxis\":\"x\",\"y\":[-0.155837701028817,0.0126738368868293,-0.0618292296321553,0.0792001680181668,-0.0455818000486053,-0.145254803009105,-0.176016535965709,-0.0925603526305332,0.0154739652474867,-0.0754113870854388,-0.0016139811998072,0.0762833009922285,-0.021917050091457,-0.105798236307712,0.154729959310359,0.164096053927583,0.127193310279896,0.181417500586146,-0.0111613147003532,-0.218265478652205,-0.137658352345888],\"yaxis\":\"y\",\"type\":\"scatter\"},{\"hovertemplate\":\"idx=18.0<br>coef1=%{x}<br>coef2=%{y}<extra></extra>\",\"legendgroup\":\"18.0\",\"marker\":{\"color\":\"#FF97FF\",\"symbol\":\"circle\"},\"mode\":\"markers\",\"name\":\"18.0\",\"orientation\":\"v\",\"showlegend\":true,\"x\":[0.023570066391057,-0.30065881222336,0.255757234074426,0.206545457453343,-0.232030527244214,0.127421319844667,-0.0571598189828467,0.0497465245407631,0.0810290995126667,0.0159234233403898,0.0917885295027732,0.117461450902254,-0.0660440526963742,-0.0116718669318039,-0.0480782973228054,-0.044890663461919,0.0088376078799938,0.0702339394974252,-0.0961204046478032,-0.0940028908280354,0.0194863630278505],\"xaxis\":\"x\",\"y\":[-0.240818030699987,0.045788624293841,-0.0380529941338188,0.0575270278279433,-0.119778005506918,-0.223552858001321,-0.243610749943248,-0.120892407535312,-0.0646140915365673,-0.103573338955769,-0.0963512701198581,-0.0482686698491609,-0.0822276590931137,-0.10461271476092,0.103256790620869,0.106954270700484,0.136789375732427,0.128020759670011,-0.130655540306507,-0.151016372305041,-0.17467724752057],\"yaxis\":\"y\",\"type\":\"scatter\"},{\"hovertemplate\":\"idx=19.0<br>coef1=%{x}<br>coef2=%{y}<extra></extra>\",\"legendgroup\":\"19.0\",\"marker\":{\"color\":\"#FECB52\",\"symbol\":\"circle\"},\"mode\":\"markers\",\"name\":\"19.0\",\"orientation\":\"v\",\"showlegend\":true,\"x\":[0.233735175736111,-0.256731621695642,0.236758527818482,0.20404080433069,-0.0861906124846418,-0.0816592190098097,-0.273945374865642,0.215135993264488,-0.181924277926021,-0.162591850126356,-0.178807662237612,-0.130049580491874,0.192265175319531,0.151836651518013,-0.113691868662177,-0.118564472548414,0.203812509316882,0.138356388490779,0.24998052552141,-0.130387544315621,-0.230483079601796],\"xaxis\":\"x\",\"y\":[-0.197637911208741,0.251027589159,0.169961582527325,-0.154904970020683,-0.280614570269831,-0.302265021334713,-0.155400393699963,0.068563875452026,-0.0075834188083196,0.0938640878072052,-0.0681416336184152,-0.175578654428031,0.0455934199202058,0.138657018821085,-0.195084532757274,-0.197677557346847,-0.134229172851388,-0.197201248235198,-0.0240684453001675,0.225354608816064,0.112114927378477],\"yaxis\":\"y\",\"type\":\"scatter\"}],                        {\"template\":{\"data\":{\"bar\":[{\"error_x\":{\"color\":\"#2a3f5f\"},\"error_y\":{\"color\":\"#2a3f5f\"},\"marker\":{\"line\":{\"color\":\"#E5ECF6\",\"width\":0.5},\"pattern\":{\"fillmode\":\"overlay\",\"size\":10,\"solidity\":0.2}},\"type\":\"bar\"}],\"barpolar\":[{\"marker\":{\"line\":{\"color\":\"#E5ECF6\",\"width\":0.5},\"pattern\":{\"fillmode\":\"overlay\",\"size\":10,\"solidity\":0.2}},\"type\":\"barpolar\"}],\"carpet\":[{\"aaxis\":{\"endlinecolor\":\"#2a3f5f\",\"gridcolor\":\"white\",\"linecolor\":\"white\",\"minorgridcolor\":\"white\",\"startlinecolor\":\"#2a3f5f\"},\"baxis\":{\"endlinecolor\":\"#2a3f5f\",\"gridcolor\":\"white\",\"linecolor\":\"white\",\"minorgridcolor\":\"white\",\"startlinecolor\":\"#2a3f5f\"},\"type\":\"carpet\"}],\"choropleth\":[{\"colorbar\":{\"outlinewidth\":0,\"ticks\":\"\"},\"type\":\"choropleth\"}],\"contour\":[{\"colorbar\":{\"outlinewidth\":0,\"ticks\":\"\"},\"colorscale\":[[0.0,\"#0d0887\"],[0.1111111111111111,\"#46039f\"],[0.2222222222222222,\"#7201a8\"],[0.3333333333333333,\"#9c179e\"],[0.4444444444444444,\"#bd3786\"],[0.5555555555555556,\"#d8576b\"],[0.6666666666666666,\"#ed7953\"],[0.7777777777777778,\"#fb9f3a\"],[0.8888888888888888,\"#fdca26\"],[1.0,\"#f0f921\"]],\"type\":\"contour\"}],\"contourcarpet\":[{\"colorbar\":{\"outlinewidth\":0,\"ticks\":\"\"},\"type\":\"contourcarpet\"}],\"heatmap\":[{\"colorbar\":{\"outlinewidth\":0,\"ticks\":\"\"},\"colorscale\":[[0.0,\"#0d0887\"],[0.1111111111111111,\"#46039f\"],[0.2222222222222222,\"#7201a8\"],[0.3333333333333333,\"#9c179e\"],[0.4444444444444444,\"#bd3786\"],[0.5555555555555556,\"#d8576b\"],[0.6666666666666666,\"#ed7953\"],[0.7777777777777778,\"#fb9f3a\"],[0.8888888888888888,\"#fdca26\"],[1.0,\"#f0f921\"]],\"type\":\"heatmap\"}],\"heatmapgl\":[{\"colorbar\":{\"outlinewidth\":0,\"ticks\":\"\"},\"colorscale\":[[0.0,\"#0d0887\"],[0.1111111111111111,\"#46039f\"],[0.2222222222222222,\"#7201a8\"],[0.3333333333333333,\"#9c179e\"],[0.4444444444444444,\"#bd3786\"],[0.5555555555555556,\"#d8576b\"],[0.6666666666666666,\"#ed7953\"],[0.7777777777777778,\"#fb9f3a\"],[0.8888888888888888,\"#fdca26\"],[1.0,\"#f0f921\"]],\"type\":\"heatmapgl\"}],\"histogram\":[{\"marker\":{\"pattern\":{\"fillmode\":\"overlay\",\"size\":10,\"solidity\":0.2}},\"type\":\"histogram\"}],\"histogram2d\":[{\"colorbar\":{\"outlinewidth\":0,\"ticks\":\"\"},\"colorscale\":[[0.0,\"#0d0887\"],[0.1111111111111111,\"#46039f\"],[0.2222222222222222,\"#7201a8\"],[0.3333333333333333,\"#9c179e\"],[0.4444444444444444,\"#bd3786\"],[0.5555555555555556,\"#d8576b\"],[0.6666666666666666,\"#ed7953\"],[0.7777777777777778,\"#fb9f3a\"],[0.8888888888888888,\"#fdca26\"],[1.0,\"#f0f921\"]],\"type\":\"histogram2d\"}],\"histogram2dcontour\":[{\"colorbar\":{\"outlinewidth\":0,\"ticks\":\"\"},\"colorscale\":[[0.0,\"#0d0887\"],[0.1111111111111111,\"#46039f\"],[0.2222222222222222,\"#7201a8\"],[0.3333333333333333,\"#9c179e\"],[0.4444444444444444,\"#bd3786\"],[0.5555555555555556,\"#d8576b\"],[0.6666666666666666,\"#ed7953\"],[0.7777777777777778,\"#fb9f3a\"],[0.8888888888888888,\"#fdca26\"],[1.0,\"#f0f921\"]],\"type\":\"histogram2dcontour\"}],\"mesh3d\":[{\"colorbar\":{\"outlinewidth\":0,\"ticks\":\"\"},\"type\":\"mesh3d\"}],\"parcoords\":[{\"line\":{\"colorbar\":{\"outlinewidth\":0,\"ticks\":\"\"}},\"type\":\"parcoords\"}],\"pie\":[{\"automargin\":true,\"type\":\"pie\"}],\"scatter\":[{\"marker\":{\"colorbar\":{\"outlinewidth\":0,\"ticks\":\"\"}},\"type\":\"scatter\"}],\"scatter3d\":[{\"line\":{\"colorbar\":{\"outlinewidth\":0,\"ticks\":\"\"}},\"marker\":{\"colorbar\":{\"outlinewidth\":0,\"ticks\":\"\"}},\"type\":\"scatter3d\"}],\"scattercarpet\":[{\"marker\":{\"colorbar\":{\"outlinewidth\":0,\"ticks\":\"\"}},\"type\":\"scattercarpet\"}],\"scattergeo\":[{\"marker\":{\"colorbar\":{\"outlinewidth\":0,\"ticks\":\"\"}},\"type\":\"scattergeo\"}],\"scattergl\":[{\"marker\":{\"colorbar\":{\"outlinewidth\":0,\"ticks\":\"\"}},\"type\":\"scattergl\"}],\"scattermapbox\":[{\"marker\":{\"colorbar\":{\"outlinewidth\":0,\"ticks\":\"\"}},\"type\":\"scattermapbox\"}],\"scatterpolar\":[{\"marker\":{\"colorbar\":{\"outlinewidth\":0,\"ticks\":\"\"}},\"type\":\"scatterpolar\"}],\"scatterpolargl\":[{\"marker\":{\"colorbar\":{\"outlinewidth\":0,\"ticks\":\"\"}},\"type\":\"scatterpolargl\"}],\"scatterternary\":[{\"marker\":{\"colorbar\":{\"outlinewidth\":0,\"ticks\":\"\"}},\"type\":\"scatterternary\"}],\"surface\":[{\"colorbar\":{\"outlinewidth\":0,\"ticks\":\"\"},\"colorscale\":[[0.0,\"#0d0887\"],[0.1111111111111111,\"#46039f\"],[0.2222222222222222,\"#7201a8\"],[0.3333333333333333,\"#9c179e\"],[0.4444444444444444,\"#bd3786\"],[0.5555555555555556,\"#d8576b\"],[0.6666666666666666,\"#ed7953\"],[0.7777777777777778,\"#fb9f3a\"],[0.8888888888888888,\"#fdca26\"],[1.0,\"#f0f921\"]],\"type\":\"surface\"}],\"table\":[{\"cells\":{\"fill\":{\"color\":\"#EBF0F8\"},\"line\":{\"color\":\"white\"}},\"header\":{\"fill\":{\"color\":\"#C8D4E3\"},\"line\":{\"color\":\"white\"}},\"type\":\"table\"}]},\"layout\":{\"annotationdefaults\":{\"arrowcolor\":\"#2a3f5f\",\"arrowhead\":0,\"arrowwidth\":1},\"autotypenumbers\":\"strict\",\"coloraxis\":{\"colorbar\":{\"outlinewidth\":0,\"ticks\":\"\"}},\"colorscale\":{\"diverging\":[[0,\"#8e0152\"],[0.1,\"#c51b7d\"],[0.2,\"#de77ae\"],[0.3,\"#f1b6da\"],[0.4,\"#fde0ef\"],[0.5,\"#f7f7f7\"],[0.6,\"#e6f5d0\"],[0.7,\"#b8e186\"],[0.8,\"#7fbc41\"],[0.9,\"#4d9221\"],[1,\"#276419\"]],\"sequential\":[[0.0,\"#0d0887\"],[0.1111111111111111,\"#46039f\"],[0.2222222222222222,\"#7201a8\"],[0.3333333333333333,\"#9c179e\"],[0.4444444444444444,\"#bd3786\"],[0.5555555555555556,\"#d8576b\"],[0.6666666666666666,\"#ed7953\"],[0.7777777777777778,\"#fb9f3a\"],[0.8888888888888888,\"#fdca26\"],[1.0,\"#f0f921\"]],\"sequentialminus\":[[0.0,\"#0d0887\"],[0.1111111111111111,\"#46039f\"],[0.2222222222222222,\"#7201a8\"],[0.3333333333333333,\"#9c179e\"],[0.4444444444444444,\"#bd3786\"],[0.5555555555555556,\"#d8576b\"],[0.6666666666666666,\"#ed7953\"],[0.7777777777777778,\"#fb9f3a\"],[0.8888888888888888,\"#fdca26\"],[1.0,\"#f0f921\"]]},\"colorway\":[\"#636efa\",\"#EF553B\",\"#00cc96\",\"#ab63fa\",\"#FFA15A\",\"#19d3f3\",\"#FF6692\",\"#B6E880\",\"#FF97FF\",\"#FECB52\"],\"font\":{\"color\":\"#2a3f5f\"},\"geo\":{\"bgcolor\":\"white\",\"lakecolor\":\"white\",\"landcolor\":\"#E5ECF6\",\"showlakes\":true,\"showland\":true,\"subunitcolor\":\"white\"},\"hoverlabel\":{\"align\":\"left\"},\"hovermode\":\"closest\",\"mapbox\":{\"style\":\"light\"},\"paper_bgcolor\":\"white\",\"plot_bgcolor\":\"#E5ECF6\",\"polar\":{\"angularaxis\":{\"gridcolor\":\"white\",\"linecolor\":\"white\",\"ticks\":\"\"},\"bgcolor\":\"#E5ECF6\",\"radialaxis\":{\"gridcolor\":\"white\",\"linecolor\":\"white\",\"ticks\":\"\"}},\"scene\":{\"xaxis\":{\"backgroundcolor\":\"#E5ECF6\",\"gridcolor\":\"white\",\"gridwidth\":2,\"linecolor\":\"white\",\"showbackground\":true,\"ticks\":\"\",\"zerolinecolor\":\"white\"},\"yaxis\":{\"backgroundcolor\":\"#E5ECF6\",\"gridcolor\":\"white\",\"gridwidth\":2,\"linecolor\":\"white\",\"showbackground\":true,\"ticks\":\"\",\"zerolinecolor\":\"white\"},\"zaxis\":{\"backgroundcolor\":\"#E5ECF6\",\"gridcolor\":\"white\",\"gridwidth\":2,\"linecolor\":\"white\",\"showbackground\":true,\"ticks\":\"\",\"zerolinecolor\":\"white\"}},\"shapedefaults\":{\"line\":{\"color\":\"#2a3f5f\"}},\"ternary\":{\"aaxis\":{\"gridcolor\":\"white\",\"linecolor\":\"white\",\"ticks\":\"\"},\"baxis\":{\"gridcolor\":\"white\",\"linecolor\":\"white\",\"ticks\":\"\"},\"bgcolor\":\"#E5ECF6\",\"caxis\":{\"gridcolor\":\"white\",\"linecolor\":\"white\",\"ticks\":\"\"}},\"title\":{\"x\":0.05},\"xaxis\":{\"automargin\":true,\"gridcolor\":\"white\",\"linecolor\":\"white\",\"ticks\":\"\",\"title\":{\"standoff\":15},\"zerolinecolor\":\"white\",\"zerolinewidth\":2},\"yaxis\":{\"automargin\":true,\"gridcolor\":\"white\",\"linecolor\":\"white\",\"ticks\":\"\",\"title\":{\"standoff\":15},\"zerolinecolor\":\"white\",\"zerolinewidth\":2}}},\"xaxis\":{\"anchor\":\"y\",\"domain\":[0.0,1.0],\"title\":{\"text\":\"coef1\"}},\"yaxis\":{\"anchor\":\"x\",\"domain\":[0.0,1.0],\"title\":{\"text\":\"coef2\"}},\"legend\":{\"title\":{\"text\":\"idx\"},\"tracegroupgap\":0},\"margin\":{\"t\":60}},                        {\"responsive\": true}                    ).then(function(){\n",
       "                            \n",
       "var gd = document.getElementById('56205569-bb0c-4289-a61b-91dcf9d7519a');\n",
       "var x = new MutationObserver(function (mutations, observer) {{\n",
       "        var display = window.getComputedStyle(gd).display;\n",
       "        if (!display || display === 'none') {{\n",
       "            console.log([gd, 'removed!']);\n",
       "            Plotly.purge(gd);\n",
       "            observer.disconnect();\n",
       "        }}\n",
       "}});\n",
       "\n",
       "// Listen for the removal of the full notebook cells\n",
       "var notebookContainer = gd.closest('#notebook-container');\n",
       "if (notebookContainer) {{\n",
       "    x.observe(notebookContainer, {childList: true});\n",
       "}}\n",
       "\n",
       "// Listen for the clearing of the current output cell\n",
       "var outputEl = gd.closest('.output');\n",
       "if (outputEl) {{\n",
       "    x.observe(outputEl, {childList: true});\n",
       "}}\n",
       "\n",
       "                        })                };                });            </script>        </div>"
      ]
     },
     "metadata": {},
     "output_type": "display_data"
    },
    {
     "data": {
      "application/vnd.plotly.v1+json": {
       "config": {
        "plotlyServerURL": "https://plot.ly"
       },
       "data": [
        {
         "hovertemplate": "idx=0.0<br>coef1=%{x}<br>coef2=%{y}<extra></extra>",
         "legendgroup": "0.0",
         "marker": {
          "color": "#636efa",
          "symbol": "circle"
         },
         "mode": "markers",
         "name": "0.0",
         "orientation": "v",
         "showlegend": true,
         "type": "scatter",
         "x": [
          -0.227217267811475,
          -0.284825743915539,
          -0.216486314376165,
          -0.183305580314651,
          -0.214051049294988,
          -0.24208609756216,
          -0.23515374063005,
          -0.114893704840857,
          -0.0330086667842764,
          -0.0503919352409238,
          -0.0560457489258561,
          -0.0849766708595359,
          -0.0428425960691517,
          -0.0471806621191754,
          -0.0684873739851192,
          -0.0626791923383825,
          -0.0742428005833743,
          -0.0665775799394846,
          -0.067233449259192,
          -0.0621884809370095,
          -0.0558120482956472
         ],
         "xaxis": "x",
         "y": [
          0.0736219670312829,
          0.0307308099440509,
          0.0273820387720106,
          0.0748317992157781,
          0.0368074821287674,
          0.057948995469247,
          0.0814824813812389,
          0.155777785365168,
          0.197961726780197,
          0.191707498688062,
          0.173047930875268,
          0.194673712450916,
          0.218971565077179,
          0.23302865040268,
          0.229152641062727,
          0.234692352426308,
          0.236877811040316,
          0.224010205459476,
          0.243117551592036,
          0.246395367816917,
          0.253585396394924
         ],
         "yaxis": "y"
        },
        {
         "hovertemplate": "idx=1.0<br>coef1=%{x}<br>coef2=%{y}<extra></extra>",
         "legendgroup": "1.0",
         "marker": {
          "color": "#EF553B",
          "symbol": "circle"
         },
         "mode": "markers",
         "name": "1.0",
         "orientation": "v",
         "showlegend": true,
         "type": "scatter",
         "x": [
          -0.236192626592391,
          -0.28846990348909,
          -0.222703966650284,
          -0.187727895890214,
          -0.212552365852441,
          -0.23229427495623,
          -0.233760514707293,
          -0.105844744619029,
          -0.018539707634642,
          -0.030229695646863,
          -0.041991989472349,
          -0.0564153661884211,
          -0.007750472373156,
          -0.0096497937582904,
          -0.0269386325079059,
          -0.0272147706100896,
          -0.0326479832887513,
          -0.0341305821114537,
          -0.0347878594368219,
          -0.0313993883532894,
          -0.025529037223157
         ],
         "xaxis": "x",
         "y": [
          -0.061649544386799,
          -0.103236754643725,
          -0.109787101501085,
          -0.0860519435762546,
          -0.112492898809823,
          -0.0929178310091358,
          -0.0778155930235565,
          -0.0265816196244374,
          -0.0047554307230472,
          -0.0093123542263203,
          -0.0405005253525286,
          -0.027014517872495,
          -0.0052157598360152,
          0.003054833550544,
          -0.0051098837437478,
          -0.0130347227346112,
          -0.0281183582843614,
          -0.0286689012609364,
          -0.0291966947490419,
          -0.0306463895112079,
          -0.0284622934202071
         ],
         "yaxis": "y"
        },
        {
         "hovertemplate": "idx=2.0<br>coef1=%{x}<br>coef2=%{y}<extra></extra>",
         "legendgroup": "2.0",
         "marker": {
          "color": "#00cc96",
          "symbol": "circle"
         },
         "mode": "markers",
         "name": "2.0",
         "orientation": "v",
         "showlegend": true,
         "type": "scatter",
         "x": [
          -0.253062616843181,
          -0.308112632408485,
          -0.241456016523126,
          -0.200176303715717,
          -0.232215233620268,
          -0.26413397214594,
          -0.255973727210406,
          -0.129563132782685,
          -0.0480738237866062,
          -0.0686228980035541,
          -0.0813836814858703,
          -0.103691689645625,
          -0.0625041896604908,
          -0.0620597654200088,
          -0.0793089169006376,
          -0.0810345489687731,
          -0.0933742588890263,
          -0.101027409481562,
          -0.101782448845605,
          -0.110049098180905,
          -0.113620803709981
         ],
         "xaxis": "x",
         "y": [
          0.0143231546075058,
          -0.0236152747916903,
          -0.0304279023175687,
          0.0103081900622317,
          -0.0200227596784291,
          0.003489650432636,
          0.0180403750821972,
          0.084487389456263,
          0.111696473267641,
          0.109382229216416,
          0.0804392214140563,
          0.095316411721516,
          0.120731748003721,
          0.127067210303806,
          0.130291115762535,
          0.121334857225106,
          0.120140067155408,
          0.118706347466166,
          0.129816632097185,
          0.129708433994612,
          0.130572603126453
         ],
         "yaxis": "y"
        },
        {
         "hovertemplate": "idx=3.0<br>coef1=%{x}<br>coef2=%{y}<extra></extra>",
         "legendgroup": "3.0",
         "marker": {
          "color": "#ab63fa",
          "symbol": "circle"
         },
         "mode": "markers",
         "name": "3.0",
         "orientation": "v",
         "showlegend": true,
         "type": "scatter",
         "x": [
          -0.167278988094483,
          -0.230815132388795,
          -0.159076461594062,
          -0.112196213397104,
          -0.13887346505367,
          -0.168210684906634,
          -0.147287305869892,
          -0.0083301116338629,
          0.0768130212253108,
          0.0653532283539719,
          0.0574897440443847,
          0.0511051215886414,
          0.103956945593678,
          0.106364553955401,
          0.0882840319269808,
          0.0925741174774274,
          0.0777437873080941,
          0.0761771863365659,
          0.0880713931937185,
          0.0910309967330181,
          0.101188944657483
         ],
         "xaxis": "x",
         "y": [
          0.0871601322891254,
          0.0232762730139865,
          0.0259600868954014,
          0.0912593866727097,
          0.0580680444618178,
          0.077062170270198,
          0.105815239971844,
          0.191347158640868,
          0.239418355495226,
          0.235869294180671,
          0.211228029924575,
          0.234776679268902,
          0.266680659532264,
          0.282269233543593,
          0.279057146453904,
          0.272403221247578,
          0.270806149205464,
          0.265703775615421,
          0.282950114152163,
          0.282773507705325,
          0.28679010147987
         ],
         "yaxis": "y"
        },
        {
         "hovertemplate": "idx=4.0<br>coef1=%{x}<br>coef2=%{y}<extra></extra>",
         "legendgroup": "4.0",
         "marker": {
          "color": "#FFA15A",
          "symbol": "circle"
         },
         "mode": "markers",
         "name": "4.0",
         "orientation": "v",
         "showlegend": true,
         "type": "scatter",
         "x": [
          -0.200451080238571,
          -0.260600582305724,
          -0.189923800240831,
          -0.153937328453701,
          -0.186814423445801,
          -0.20576918053976,
          -0.196744127137674,
          -0.065584754042514,
          0.0175135562750553,
          0.0010584619471479,
          -0.0065533149224956,
          -0.0279357680996364,
          0.0243989656293503,
          0.0231496167616724,
          -0.0009482736856859,
          0.0021426360937918,
          -0.0142249955057923,
          -0.0130827601925051,
          -0.0127936721726522,
          -0.0106004479858519,
          0.0040232406888089
         ],
         "xaxis": "x",
         "y": [
          -0.0214482816567766,
          -0.0728629483211607,
          -0.0822529796249954,
          -0.0477927588275591,
          -0.0847017419539871,
          -0.061819858037718,
          -0.0398302443817086,
          0.0182252617806099,
          0.04861473458719,
          0.038829879284586,
          0.0089002383508098,
          0.0269347678320723,
          0.0507358362871009,
          0.061784852229557,
          0.0534273783859446,
          0.056884738213599,
          0.0528823524501922,
          0.0425143531065913,
          0.0445449440025203,
          0.0351023800806646,
          0.0297739663110003
         ],
         "yaxis": "y"
        },
        {
         "hovertemplate": "idx=5.0<br>coef1=%{x}<br>coef2=%{y}<extra></extra>",
         "legendgroup": "5.0",
         "marker": {
          "color": "#19d3f3",
          "symbol": "circle"
         },
         "mode": "markers",
         "name": "5.0",
         "orientation": "v",
         "showlegend": true,
         "type": "scatter",
         "x": [
          -0.307289195720234,
          -0.36129907478029,
          -0.306273273551114,
          -0.267670798994843,
          -0.29013340734107,
          -0.321047112642454,
          -0.313196969781743,
          -0.195908243122937,
          -0.12230931393381,
          -0.136287229289415,
          -0.144012326022645,
          -0.161172351791529,
          -0.120973778405614,
          -0.122986971797664,
          -0.148069408552833,
          -0.148776537766568,
          -0.163442084574325,
          -0.160652913057903,
          -0.170831786936034,
          -0.17625553658029,
          -0.167000975924452
         ],
         "xaxis": "x",
         "y": [
          0.0819543307231549,
          0.0420537789993215,
          0.0382714024087329,
          0.078980389774418,
          0.0541871382314075,
          0.0798376300084028,
          0.0963804357410202,
          0.158962924402078,
          0.191659236717092,
          0.182336277973462,
          0.157666638261579,
          0.176354262133073,
          0.202457962713212,
          0.21784215670277,
          0.210761849484103,
          0.212596707589498,
          0.211863892272384,
          0.19911234090265,
          0.209643974716906,
          0.213809237109999,
          0.211968711639773
         ],
         "yaxis": "y"
        },
        {
         "hovertemplate": "idx=6.0<br>coef1=%{x}<br>coef2=%{y}<extra></extra>",
         "legendgroup": "6.0",
         "marker": {
          "color": "#FF6692",
          "symbol": "circle"
         },
         "mode": "markers",
         "name": "6.0",
         "orientation": "v",
         "showlegend": true,
         "type": "scatter",
         "x": [
          -0.428366083921517,
          -0.486328078660702,
          -0.415356572724089,
          -0.405633505716984,
          -0.443939763906379,
          -0.459717346892889,
          -0.489339355941276,
          -0.34468661057106,
          -0.25327737641273,
          -0.257553546309125,
          -0.27748482230286,
          -0.300527500745999,
          -0.244407072797829,
          -0.245896093165642,
          -0.283072385891313,
          -0.283385487304213,
          -0.321568446704039,
          -0.324163126232356,
          -0.335106346536294,
          -0.353913784109517,
          -0.348639929864902
         ],
         "xaxis": "x",
         "y": [
          -0.23475013955046,
          -0.264597040810084,
          -0.279988315552447,
          -0.2784485693221,
          -0.314848471611947,
          -0.301179693358639,
          -0.30225238310442,
          -0.25557413556099,
          -0.227625429249667,
          -0.229142711266879,
          -0.256255943609035,
          -0.253903805024375,
          -0.224975981599395,
          -0.226471027010699,
          -0.252110792228687,
          -0.265601097337148,
          -0.293313048787054,
          -0.301056866438516,
          -0.315561990973616,
          -0.332959278713913,
          -0.343082616436857
         ],
         "yaxis": "y"
        },
        {
         "hovertemplate": "idx=7.0<br>coef1=%{x}<br>coef2=%{y}<extra></extra>",
         "legendgroup": "7.0",
         "marker": {
          "color": "#B6E880",
          "symbol": "circle"
         },
         "mode": "markers",
         "name": "7.0",
         "orientation": "v",
         "showlegend": true,
         "type": "scatter",
         "x": [
          0.16326079240161,
          0.0737181288038842,
          0.18348968864897,
          0.299592826058672,
          0.239692028008242,
          0.203198362783262,
          0.262591052511807,
          0.547414072125998,
          0.73482731589874,
          0.661755212744546,
          0.69072740605891,
          0.679694645793038,
          0.765665192530481,
          0.782478988764897,
          0.773420587478577,
          0.784812706472193,
          0.815978861890476,
          0.817982454628241,
          0.881115331068804,
          0.896692282052044,
          0.907487681125591
         ],
         "xaxis": "x",
         "y": [
          -0.17735750504795,
          -0.229928197968847,
          -0.243572619864068,
          -0.179093709473903,
          -0.223835187305408,
          -0.221541723284347,
          -0.179059442357875,
          -0.115141758273997,
          -0.0806019516819151,
          -0.109765304340584,
          -0.14927368217902,
          -0.130831005423966,
          -0.115864254447062,
          -0.110336249269968,
          -0.11879770823218,
          -0.114248865067754,
          -0.123977428685809,
          -0.136015273094599,
          -0.154675958471093,
          -0.162815814335904,
          -0.16332482470351
         ],
         "yaxis": "y"
        },
        {
         "hovertemplate": "idx=8.0<br>coef1=%{x}<br>coef2=%{y}<extra></extra>",
         "legendgroup": "8.0",
         "marker": {
          "color": "#FF97FF",
          "symbol": "circle"
         },
         "mode": "markers",
         "name": "8.0",
         "orientation": "v",
         "showlegend": true,
         "type": "scatter",
         "x": [
          -0.253158502374775,
          -0.312240066267122,
          -0.251183164627594,
          -0.211914815175886,
          -0.240171345893927,
          -0.267280310989743,
          -0.260857180937883,
          -0.143013011027675,
          -0.0608050940647487,
          -0.0656039688478157,
          -0.0703770265901118,
          -0.0982247768804783,
          -0.0573165732940589,
          -0.0485079449409468,
          -0.0614256278024463,
          -0.0668283517219636,
          -0.0829392800850853,
          -0.0741525259064546,
          -0.0693477619922561,
          -0.06521114230155,
          -0.053146005069494
         ],
         "xaxis": "x",
         "y": [
          0.0070548880366547,
          -0.0377577881907412,
          -0.0409962925726439,
          -0.0072371846994208,
          -0.0392563786559383,
          -0.0112322868496223,
          0.0046966843372456,
          0.0674679503496474,
          0.0990614007726772,
          0.0932161936810061,
          0.0643598567221786,
          0.0820029925683655,
          0.104930577391191,
          0.113193532476041,
          0.103908747804045,
          0.106888208358339,
          0.103524010262041,
          0.0983353290278221,
          0.100855487446947,
          0.0958011719358837,
          0.0860532785441853
         ],
         "yaxis": "y"
        },
        {
         "hovertemplate": "idx=9.0<br>coef1=%{x}<br>coef2=%{y}<extra></extra>",
         "legendgroup": "9.0",
         "marker": {
          "color": "#FECB52",
          "symbol": "circle"
         },
         "mode": "markers",
         "name": "9.0",
         "orientation": "v",
         "showlegend": true,
         "type": "scatter",
         "x": [
          -0.472611108435013,
          -0.522071670571997,
          -0.469449274452531,
          -0.418687119770463,
          -0.44048624464658,
          -0.48401152551041,
          -0.466048666347138,
          -0.395575214810618,
          -0.346671551142415,
          -0.357957072828708,
          -0.371576925623801,
          -0.393172834900552,
          -0.376221338330508,
          -0.376069359904403,
          -0.395261917116347,
          -0.400599095505994,
          -0.420065325463978,
          -0.420625936142745,
          -0.44878142572372,
          -0.459686866544575,
          -0.468493771258795
         ],
         "xaxis": "x",
         "y": [
          0.564455477608648,
          0.478551421785597,
          0.486404883383705,
          0.568068319509147,
          0.529826914518095,
          0.570349803016921,
          0.602614704611236,
          0.745669296047875,
          0.800771217250732,
          0.763135793750985,
          0.742316153660936,
          0.793353673735677,
          0.822732522927771,
          0.850764191572405,
          0.861312050677957,
          0.862035566304723,
          0.895053006931879,
          0.886400769681029,
          0.932161662784589,
          0.943748559668882,
          0.939105337213742
         ],
         "yaxis": "y"
        },
        {
         "hovertemplate": "idx=10.0<br>coef1=%{x}<br>coef2=%{y}<extra></extra>",
         "legendgroup": "10.0",
         "marker": {
          "color": "#636efa",
          "symbol": "circle"
         },
         "mode": "markers",
         "name": "10.0",
         "orientation": "v",
         "showlegend": true,
         "type": "scatter",
         "x": [
          -0.125821235967268,
          -0.190825049504152,
          -0.126536540544132,
          -0.0807996709247769,
          -0.106865613609394,
          -0.128223686652021,
          -0.114737780098308,
          0.0332930826493209,
          0.116726265146419,
          0.100080830143341,
          0.096826323579043,
          0.0915759477472264,
          0.145397721361103,
          0.154081991819935,
          0.137581643796911,
          0.140827816639481,
          0.136483044772748,
          0.140704808179968,
          0.157293465583975,
          0.16925156307821,
          0.179050835328091
         ],
         "xaxis": "x",
         "y": [
          -0.0699512768928782,
          -0.112885363870807,
          -0.120987495581066,
          -0.0878674064768952,
          -0.124083514831915,
          -0.103900581270818,
          -0.0819322326893595,
          -0.0329754430732277,
          -0.0100713710246818,
          -0.013493027505734,
          -0.0497631546180311,
          -0.0331466527959404,
          -0.0144000748303077,
          -0.0146423572432131,
          -0.0234670575016075,
          -0.0351264533280844,
          -0.0483868127680657,
          -0.0596788755583857,
          -0.0675231089172576,
          -0.0763418936778959,
          -0.0837931522539717
         ],
         "yaxis": "y"
        },
        {
         "hovertemplate": "idx=11.0<br>coef1=%{x}<br>coef2=%{y}<extra></extra>",
         "legendgroup": "11.0",
         "marker": {
          "color": "#EF553B",
          "symbol": "circle"
         },
         "mode": "markers",
         "name": "11.0",
         "orientation": "v",
         "showlegend": true,
         "type": "scatter",
         "x": [
          -0.23978845912992,
          -0.296558888352585,
          -0.2304079638293,
          -0.192833653555123,
          -0.225315134018309,
          -0.255114572770318,
          -0.247049903854654,
          -0.126767221635784,
          -0.0594211645612135,
          -0.071738791525912,
          -0.0892101819251506,
          -0.111321160780054,
          -0.0815830063840069,
          -0.0765660610807371,
          -0.0910518089539924,
          -0.0880131601895262,
          -0.106130517747969,
          -0.108410664271585,
          -0.11044606378158,
          -0.113889788962139,
          -0.111403149852337
         ],
         "xaxis": "x",
         "y": [
          0.0489669462481229,
          0.006702767202976,
          -0.0030659870487953,
          0.038363145960562,
          0.012240952193183,
          0.0384765751874418,
          0.0585569521209074,
          0.119596854867788,
          0.155081009668793,
          0.147369970556201,
          0.121156836139479,
          0.133149141227146,
          0.164110041092948,
          0.170154848714733,
          0.163151666986742,
          0.170897266318448,
          0.174281980705546,
          0.175240884276853,
          0.187995264683314,
          0.188640917713215,
          0.192048235003043
         ],
         "yaxis": "y"
        },
        {
         "hovertemplate": "idx=12.0<br>coef1=%{x}<br>coef2=%{y}<extra></extra>",
         "legendgroup": "12.0",
         "marker": {
          "color": "#00cc96",
          "symbol": "circle"
         },
         "mode": "markers",
         "name": "12.0",
         "orientation": "v",
         "showlegend": true,
         "type": "scatter",
         "x": [
          0.0112938570033336,
          -0.0601255994745338,
          0.0241585347946348,
          0.0516550614847386,
          0.0058201287513294,
          0.012536704364124,
          0.0090792787956119,
          0.193989735722461,
          0.305789917285982,
          0.287158793966101,
          0.278111969744479,
          0.265565845639161,
          0.323868738912318,
          0.339140410952736,
          0.320453427967837,
          0.324650521904669,
          0.33153280984153,
          0.337724830124212,
          0.358779954136567,
          0.372624840666513,
          0.373197172570994
         ],
         "xaxis": "x",
         "y": [
          -0.724756032839879,
          -0.724300577649661,
          -0.758724578774697,
          -0.749148991841512,
          -0.772969695549009,
          -0.757988084111583,
          -0.766163181466508,
          -0.774206900234251,
          -0.774815396005626,
          -0.754257752494798,
          -0.79610617539352,
          -0.793585450882888,
          -0.780294555493235,
          -0.781364725210573,
          -0.800477369046701,
          -0.80823621627116,
          -0.851256961965744,
          -0.854954239731487,
          -0.89939783163794,
          -0.918332044290301,
          -0.924910144519491
         ],
         "yaxis": "y"
        },
        {
         "hovertemplate": "idx=13.0<br>coef1=%{x}<br>coef2=%{y}<extra></extra>",
         "legendgroup": "13.0",
         "marker": {
          "color": "#ab63fa",
          "symbol": "circle"
         },
         "mode": "markers",
         "name": "13.0",
         "orientation": "v",
         "showlegend": true,
         "type": "scatter",
         "x": [
          -0.398148940986558,
          -0.460518180092731,
          -0.389965822049728,
          -0.37652409905645,
          -0.409790047512715,
          -0.451380107954203,
          -0.460627846966738,
          -0.339172144803815,
          -0.267559693198478,
          -0.281401283943143,
          -0.305295849321765,
          -0.33808078308704,
          -0.271355501307979,
          -0.283956807311127,
          -0.324466610040835,
          -0.325338566096485,
          -0.35830820148111,
          -0.358013067416031,
          -0.363135834832545,
          -0.382672767359692,
          -0.374366795628388
         ],
         "xaxis": "x",
         "y": [
          0.23645362155282,
          0.156880819136384,
          0.163441926064955,
          0.200854144091597,
          0.156106623885081,
          0.174120202753492,
          0.191520108218989,
          0.273174062508648,
          0.32000601009646,
          0.312698989926647,
          0.280399247170768,
          0.282413220672846,
          0.314580422390781,
          0.3110339125527,
          0.289160716834952,
          0.295416037720716,
          0.294749834119567,
          0.274335124060137,
          0.290017123813984,
          0.286472898689585,
          0.292156591659046
         ],
         "yaxis": "y"
        },
        {
         "hovertemplate": "idx=14.0<br>coef1=%{x}<br>coef2=%{y}<extra></extra>",
         "legendgroup": "14.0",
         "marker": {
          "color": "#FFA15A",
          "symbol": "circle"
         },
         "mode": "markers",
         "name": "14.0",
         "orientation": "v",
         "showlegend": true,
         "type": "scatter",
         "x": [
          -0.0396730430460196,
          -0.109837092430869,
          -0.0316331917368323,
          0.013515612406838,
          -0.0268647492367187,
          -0.0625048769130454,
          -0.0579467774870925,
          0.107176729786087,
          0.218578633388291,
          0.199019924520932,
          0.198496810964473,
          0.166978611291101,
          0.221819687724855,
          0.213301044746986,
          0.187030219523966,
          0.192096921211436,
          0.184957061370767,
          0.189548835411138,
          0.20701733898014,
          0.204641682472353,
          0.216609797325082
         ],
         "xaxis": "x",
         "y": [
          -0.0925106084777435,
          -0.134548325610947,
          -0.132845765724982,
          -0.0954760262353007,
          -0.132307235457194,
          -0.122613121701176,
          -0.103854770239234,
          -0.0461115860400578,
          -0.0075422162818652,
          -0.0139300848807323,
          -0.04166931723234,
          -0.0334684003788099,
          -0.0033713782507802,
          0.0004727719629666,
          -0.0167488398112386,
          -0.0080087858825932,
          -0.0208561260697334,
          -0.0318363414444537,
          -0.0208902011271895,
          -0.0160054693473654,
          -0.0157375963597981
         ],
         "yaxis": "y"
        },
        {
         "hovertemplate": "idx=15.0<br>coef1=%{x}<br>coef2=%{y}<extra></extra>",
         "legendgroup": "15.0",
         "marker": {
          "color": "#19d3f3",
          "symbol": "circle"
         },
         "mode": "markers",
         "name": "15.0",
         "orientation": "v",
         "showlegend": true,
         "type": "scatter",
         "x": [
          0.123543413925741,
          -0.0051084729870239,
          0.112300533171137,
          0.14795191428767,
          0.115003395950106,
          0.0713762376487086,
          0.0915048957837356,
          0.260231415801794,
          0.349454125255838,
          0.343670762652889,
          0.316880867810788,
          0.307338242184537,
          0.390632107340703,
          0.394496825654345,
          0.359166187961362,
          0.349984439418415,
          0.327756276060425,
          0.312359259374447,
          0.327400704099406,
          0.32215408202501,
          0.333240787479752
         ],
         "xaxis": "x",
         "y": [
          -0.0668009657340061,
          -0.166127236796615,
          -0.16977806104415,
          -0.0966773952168024,
          -0.133395784776577,
          -0.129286442838515,
          -0.100340067955188,
          -0.0286021364750609,
          -0.0034872113693029,
          -0.0019352379649145,
          -0.036641307798802,
          -0.0345513040447533,
          -0.0013301710436833,
          -0.0053457330913965,
          -0.0307443087065528,
          -0.042906736644022,
          -0.0622578831824742,
          -0.0786818070886108,
          -0.0849598287709247,
          -0.108035756354648,
          -0.119653791637595
         ],
         "yaxis": "y"
        },
        {
         "hovertemplate": "idx=16.0<br>coef1=%{x}<br>coef2=%{y}<extra></extra>",
         "legendgroup": "16.0",
         "marker": {
          "color": "#FF6692",
          "symbol": "circle"
         },
         "mode": "markers",
         "name": "16.0",
         "orientation": "v",
         "showlegend": true,
         "type": "scatter",
         "x": [
          -0.797830250765964,
          -0.828478261335412,
          -0.769440238421975,
          -0.786811320506859,
          -0.820572047768278,
          -0.843254018126475,
          -0.880214086951304,
          -0.811508707341836,
          -0.754452262475245,
          -0.754927990016004,
          -0.779172348238107,
          -0.823120631764989,
          -0.790150094226951,
          -0.794721097415597,
          -0.827489421569655,
          -0.834001047106993,
          -0.893618814626356,
          -0.886925608793322,
          -0.936188886972995,
          -0.950693002743376,
          -0.948114424287183
         ],
         "xaxis": "x",
         "y": [
          1.96163324701071e-05,
          -0.0004555891271331,
          -0.0261033948446674,
          -0.0217886398090827,
          -0.0521442561207165,
          -0.0068047144909974,
          -0.0022915872375922,
          0.0373233764946367,
          0.0622672950580669,
          0.0610771500427685,
          0.0419330328073104,
          0.064605666021124,
          0.0823972204663624,
          0.0946433178626727,
          0.096398904719573,
          0.106773415136724,
          0.111425105671545,
          0.109120280787831,
          0.111479899326189,
          0.118166327400816,
          0.120790827692496
         ],
         "yaxis": "y"
        },
        {
         "hovertemplate": "idx=17.0<br>coef1=%{x}<br>coef2=%{y}<extra></extra>",
         "legendgroup": "17.0",
         "marker": {
          "color": "#B6E880",
          "symbol": "circle"
         },
         "mode": "markers",
         "name": "17.0",
         "orientation": "v",
         "showlegend": true,
         "type": "scatter",
         "x": [
          -0.115322964726724,
          -0.174244971328053,
          -0.10947870342768,
          -0.0601244582166455,
          -0.0911419935139371,
          -0.116644486660187,
          -0.103736914832865,
          0.0354449050673557,
          0.122101084775061,
          0.116063386497223,
          0.112581846956325,
          0.095827992151903,
          0.144448901003472,
          0.154343570708069,
          0.149232270343135,
          0.161393382060757,
          0.15846566897651,
          0.16368532019032,
          0.179051653305764,
          0.188401482317602,
          0.197671843803882
         ],
         "xaxis": "x",
         "y": [
          -0.104815175486248,
          -0.151058168136549,
          -0.162048291244849,
          -0.135614106795855,
          -0.168966351752847,
          -0.151307447205066,
          -0.142213225478109,
          -0.0952164299892578,
          -0.0774616551734045,
          -0.083200249567116,
          -0.120830715134246,
          -0.107564016586257,
          -0.0910424123116814,
          -0.0903819925785224,
          -0.0974779374543308,
          -0.100336553477031,
          -0.112744316293097,
          -0.116957528562732,
          -0.127179581910689,
          -0.135554805158838,
          -0.137658352345888
         ],
         "yaxis": "y"
        },
        {
         "hovertemplate": "idx=18.0<br>coef1=%{x}<br>coef2=%{y}<extra></extra>",
         "legendgroup": "18.0",
         "marker": {
          "color": "#FF97FF",
          "symbol": "circle"
         },
         "mode": "markers",
         "name": "18.0",
         "orientation": "v",
         "showlegend": true,
         "type": "scatter",
         "x": [
          -0.194494537492697,
          -0.247857525759664,
          -0.179654560429394,
          -0.139574250515866,
          -0.174425053296664,
          -0.192588035909179,
          -0.187848516343772,
          -0.0579232533126851,
          0.0231301281933225,
          0.0090982504622951,
          -0.0066243170502419,
          -0.0277355722191171,
          0.0253782257234967,
          0.0223845882211081,
          0.0042019717974577,
          0.010255173339748,
          0.0041085458682254,
          0.0002468591664951,
          0.0109423412579891,
          0.0077038637440042,
          0.0194863630278505
         ],
         "xaxis": "x",
         "y": [
          -0.143947027844971,
          -0.176235542404424,
          -0.1859678253378,
          -0.162755686592702,
          -0.194321478377711,
          -0.17065146203933,
          -0.165306918492564,
          -0.117194656999554,
          -0.101023229817156,
          -0.104394510353032,
          -0.132909066002321,
          -0.123926570882713,
          -0.102367721844447,
          -0.102854182109892,
          -0.113823683457334,
          -0.115538820778539,
          -0.137012979228817,
          -0.146020752718121,
          -0.161834074194023,
          -0.177716455826736,
          -0.17467724752057
         ],
         "yaxis": "y"
        },
        {
         "hovertemplate": "idx=19.0<br>coef1=%{x}<br>coef2=%{y}<extra></extra>",
         "legendgroup": "19.0",
         "marker": {
          "color": "#FECB52",
          "symbol": "circle"
         },
         "mode": "markers",
         "name": "19.0",
         "orientation": "v",
         "showlegend": true,
         "type": "scatter",
         "x": [
          -0.303341603801595,
          -0.359058258087249,
          -0.291294891469023,
          -0.255733268135785,
          -0.293281062857024,
          -0.31259566744513,
          -0.313294411223043,
          -0.209925206880474,
          -0.147031713642026,
          -0.156087678002415,
          -0.172563170446217,
          -0.195021835387818,
          -0.155308925660725,
          -0.165310391018675,
          -0.190040933547415,
          -0.197159429612639,
          -0.215568386984866,
          -0.216331389896483,
          -0.223817191934553,
          -0.234869356886333,
          -0.230483079601796
         ],
         "xaxis": "x",
         "y": [
          0.0409481101691027,
          0.0017729627193176,
          -0.0094247670537748,
          0.0151226696589764,
          -0.0126323749807228,
          0.0177853835016428,
          0.0322794465378176,
          0.0831619391975012,
          0.107404033086359,
          0.104322641277934,
          0.082688660121059,
          0.0985253317621274,
          0.122162986173315,
          0.122280874358202,
          0.121935472678988,
          0.119424076902936,
          0.114399651796476,
          0.105979018145986,
          0.113909691394803,
          0.112347659624488,
          0.112114927378477
         ],
         "yaxis": "y"
        }
       ],
       "layout": {
        "autosize": true,
        "legend": {
         "title": {
          "text": "idx"
         },
         "tracegroupgap": 0
        },
        "margin": {
         "t": 60
        },
        "template": {
         "data": {
          "bar": [
           {
            "error_x": {
             "color": "#2a3f5f"
            },
            "error_y": {
             "color": "#2a3f5f"
            },
            "marker": {
             "line": {
              "color": "#E5ECF6",
              "width": 0.5
             },
             "pattern": {
              "fillmode": "overlay",
              "size": 10,
              "solidity": 0.2
             }
            },
            "type": "bar"
           }
          ],
          "barpolar": [
           {
            "marker": {
             "line": {
              "color": "#E5ECF6",
              "width": 0.5
             },
             "pattern": {
              "fillmode": "overlay",
              "size": 10,
              "solidity": 0.2
             }
            },
            "type": "barpolar"
           }
          ],
          "carpet": [
           {
            "aaxis": {
             "endlinecolor": "#2a3f5f",
             "gridcolor": "white",
             "linecolor": "white",
             "minorgridcolor": "white",
             "startlinecolor": "#2a3f5f"
            },
            "baxis": {
             "endlinecolor": "#2a3f5f",
             "gridcolor": "white",
             "linecolor": "white",
             "minorgridcolor": "white",
             "startlinecolor": "#2a3f5f"
            },
            "type": "carpet"
           }
          ],
          "choropleth": [
           {
            "colorbar": {
             "outlinewidth": 0,
             "ticks": ""
            },
            "type": "choropleth"
           }
          ],
          "contour": [
           {
            "colorbar": {
             "outlinewidth": 0,
             "ticks": ""
            },
            "colorscale": [
             [
              0,
              "#0d0887"
             ],
             [
              0.1111111111111111,
              "#46039f"
             ],
             [
              0.2222222222222222,
              "#7201a8"
             ],
             [
              0.3333333333333333,
              "#9c179e"
             ],
             [
              0.4444444444444444,
              "#bd3786"
             ],
             [
              0.5555555555555556,
              "#d8576b"
             ],
             [
              0.6666666666666666,
              "#ed7953"
             ],
             [
              0.7777777777777778,
              "#fb9f3a"
             ],
             [
              0.8888888888888888,
              "#fdca26"
             ],
             [
              1,
              "#f0f921"
             ]
            ],
            "type": "contour"
           }
          ],
          "contourcarpet": [
           {
            "colorbar": {
             "outlinewidth": 0,
             "ticks": ""
            },
            "type": "contourcarpet"
           }
          ],
          "heatmap": [
           {
            "colorbar": {
             "outlinewidth": 0,
             "ticks": ""
            },
            "colorscale": [
             [
              0,
              "#0d0887"
             ],
             [
              0.1111111111111111,
              "#46039f"
             ],
             [
              0.2222222222222222,
              "#7201a8"
             ],
             [
              0.3333333333333333,
              "#9c179e"
             ],
             [
              0.4444444444444444,
              "#bd3786"
             ],
             [
              0.5555555555555556,
              "#d8576b"
             ],
             [
              0.6666666666666666,
              "#ed7953"
             ],
             [
              0.7777777777777778,
              "#fb9f3a"
             ],
             [
              0.8888888888888888,
              "#fdca26"
             ],
             [
              1,
              "#f0f921"
             ]
            ],
            "type": "heatmap"
           }
          ],
          "heatmapgl": [
           {
            "colorbar": {
             "outlinewidth": 0,
             "ticks": ""
            },
            "colorscale": [
             [
              0,
              "#0d0887"
             ],
             [
              0.1111111111111111,
              "#46039f"
             ],
             [
              0.2222222222222222,
              "#7201a8"
             ],
             [
              0.3333333333333333,
              "#9c179e"
             ],
             [
              0.4444444444444444,
              "#bd3786"
             ],
             [
              0.5555555555555556,
              "#d8576b"
             ],
             [
              0.6666666666666666,
              "#ed7953"
             ],
             [
              0.7777777777777778,
              "#fb9f3a"
             ],
             [
              0.8888888888888888,
              "#fdca26"
             ],
             [
              1,
              "#f0f921"
             ]
            ],
            "type": "heatmapgl"
           }
          ],
          "histogram": [
           {
            "marker": {
             "pattern": {
              "fillmode": "overlay",
              "size": 10,
              "solidity": 0.2
             }
            },
            "type": "histogram"
           }
          ],
          "histogram2d": [
           {
            "colorbar": {
             "outlinewidth": 0,
             "ticks": ""
            },
            "colorscale": [
             [
              0,
              "#0d0887"
             ],
             [
              0.1111111111111111,
              "#46039f"
             ],
             [
              0.2222222222222222,
              "#7201a8"
             ],
             [
              0.3333333333333333,
              "#9c179e"
             ],
             [
              0.4444444444444444,
              "#bd3786"
             ],
             [
              0.5555555555555556,
              "#d8576b"
             ],
             [
              0.6666666666666666,
              "#ed7953"
             ],
             [
              0.7777777777777778,
              "#fb9f3a"
             ],
             [
              0.8888888888888888,
              "#fdca26"
             ],
             [
              1,
              "#f0f921"
             ]
            ],
            "type": "histogram2d"
           }
          ],
          "histogram2dcontour": [
           {
            "colorbar": {
             "outlinewidth": 0,
             "ticks": ""
            },
            "colorscale": [
             [
              0,
              "#0d0887"
             ],
             [
              0.1111111111111111,
              "#46039f"
             ],
             [
              0.2222222222222222,
              "#7201a8"
             ],
             [
              0.3333333333333333,
              "#9c179e"
             ],
             [
              0.4444444444444444,
              "#bd3786"
             ],
             [
              0.5555555555555556,
              "#d8576b"
             ],
             [
              0.6666666666666666,
              "#ed7953"
             ],
             [
              0.7777777777777778,
              "#fb9f3a"
             ],
             [
              0.8888888888888888,
              "#fdca26"
             ],
             [
              1,
              "#f0f921"
             ]
            ],
            "type": "histogram2dcontour"
           }
          ],
          "mesh3d": [
           {
            "colorbar": {
             "outlinewidth": 0,
             "ticks": ""
            },
            "type": "mesh3d"
           }
          ],
          "parcoords": [
           {
            "line": {
             "colorbar": {
              "outlinewidth": 0,
              "ticks": ""
             }
            },
            "type": "parcoords"
           }
          ],
          "pie": [
           {
            "automargin": true,
            "type": "pie"
           }
          ],
          "scatter": [
           {
            "marker": {
             "colorbar": {
              "outlinewidth": 0,
              "ticks": ""
             }
            },
            "type": "scatter"
           }
          ],
          "scatter3d": [
           {
            "line": {
             "colorbar": {
              "outlinewidth": 0,
              "ticks": ""
             }
            },
            "marker": {
             "colorbar": {
              "outlinewidth": 0,
              "ticks": ""
             }
            },
            "type": "scatter3d"
           }
          ],
          "scattercarpet": [
           {
            "marker": {
             "colorbar": {
              "outlinewidth": 0,
              "ticks": ""
             }
            },
            "type": "scattercarpet"
           }
          ],
          "scattergeo": [
           {
            "marker": {
             "colorbar": {
              "outlinewidth": 0,
              "ticks": ""
             }
            },
            "type": "scattergeo"
           }
          ],
          "scattergl": [
           {
            "marker": {
             "colorbar": {
              "outlinewidth": 0,
              "ticks": ""
             }
            },
            "type": "scattergl"
           }
          ],
          "scattermapbox": [
           {
            "marker": {
             "colorbar": {
              "outlinewidth": 0,
              "ticks": ""
             }
            },
            "type": "scattermapbox"
           }
          ],
          "scatterpolar": [
           {
            "marker": {
             "colorbar": {
              "outlinewidth": 0,
              "ticks": ""
             }
            },
            "type": "scatterpolar"
           }
          ],
          "scatterpolargl": [
           {
            "marker": {
             "colorbar": {
              "outlinewidth": 0,
              "ticks": ""
             }
            },
            "type": "scatterpolargl"
           }
          ],
          "scatterternary": [
           {
            "marker": {
             "colorbar": {
              "outlinewidth": 0,
              "ticks": ""
             }
            },
            "type": "scatterternary"
           }
          ],
          "surface": [
           {
            "colorbar": {
             "outlinewidth": 0,
             "ticks": ""
            },
            "colorscale": [
             [
              0,
              "#0d0887"
             ],
             [
              0.1111111111111111,
              "#46039f"
             ],
             [
              0.2222222222222222,
              "#7201a8"
             ],
             [
              0.3333333333333333,
              "#9c179e"
             ],
             [
              0.4444444444444444,
              "#bd3786"
             ],
             [
              0.5555555555555556,
              "#d8576b"
             ],
             [
              0.6666666666666666,
              "#ed7953"
             ],
             [
              0.7777777777777778,
              "#fb9f3a"
             ],
             [
              0.8888888888888888,
              "#fdca26"
             ],
             [
              1,
              "#f0f921"
             ]
            ],
            "type": "surface"
           }
          ],
          "table": [
           {
            "cells": {
             "fill": {
              "color": "#EBF0F8"
             },
             "line": {
              "color": "white"
             }
            },
            "header": {
             "fill": {
              "color": "#C8D4E3"
             },
             "line": {
              "color": "white"
             }
            },
            "type": "table"
           }
          ]
         },
         "layout": {
          "annotationdefaults": {
           "arrowcolor": "#2a3f5f",
           "arrowhead": 0,
           "arrowwidth": 1
          },
          "autotypenumbers": "strict",
          "coloraxis": {
           "colorbar": {
            "outlinewidth": 0,
            "ticks": ""
           }
          },
          "colorscale": {
           "diverging": [
            [
             0,
             "#8e0152"
            ],
            [
             0.1,
             "#c51b7d"
            ],
            [
             0.2,
             "#de77ae"
            ],
            [
             0.3,
             "#f1b6da"
            ],
            [
             0.4,
             "#fde0ef"
            ],
            [
             0.5,
             "#f7f7f7"
            ],
            [
             0.6,
             "#e6f5d0"
            ],
            [
             0.7,
             "#b8e186"
            ],
            [
             0.8,
             "#7fbc41"
            ],
            [
             0.9,
             "#4d9221"
            ],
            [
             1,
             "#276419"
            ]
           ],
           "sequential": [
            [
             0,
             "#0d0887"
            ],
            [
             0.1111111111111111,
             "#46039f"
            ],
            [
             0.2222222222222222,
             "#7201a8"
            ],
            [
             0.3333333333333333,
             "#9c179e"
            ],
            [
             0.4444444444444444,
             "#bd3786"
            ],
            [
             0.5555555555555556,
             "#d8576b"
            ],
            [
             0.6666666666666666,
             "#ed7953"
            ],
            [
             0.7777777777777778,
             "#fb9f3a"
            ],
            [
             0.8888888888888888,
             "#fdca26"
            ],
            [
             1,
             "#f0f921"
            ]
           ],
           "sequentialminus": [
            [
             0,
             "#0d0887"
            ],
            [
             0.1111111111111111,
             "#46039f"
            ],
            [
             0.2222222222222222,
             "#7201a8"
            ],
            [
             0.3333333333333333,
             "#9c179e"
            ],
            [
             0.4444444444444444,
             "#bd3786"
            ],
            [
             0.5555555555555556,
             "#d8576b"
            ],
            [
             0.6666666666666666,
             "#ed7953"
            ],
            [
             0.7777777777777778,
             "#fb9f3a"
            ],
            [
             0.8888888888888888,
             "#fdca26"
            ],
            [
             1,
             "#f0f921"
            ]
           ]
          },
          "colorway": [
           "#636efa",
           "#EF553B",
           "#00cc96",
           "#ab63fa",
           "#FFA15A",
           "#19d3f3",
           "#FF6692",
           "#B6E880",
           "#FF97FF",
           "#FECB52"
          ],
          "font": {
           "color": "#2a3f5f"
          },
          "geo": {
           "bgcolor": "white",
           "lakecolor": "white",
           "landcolor": "#E5ECF6",
           "showlakes": true,
           "showland": true,
           "subunitcolor": "white"
          },
          "hoverlabel": {
           "align": "left"
          },
          "hovermode": "closest",
          "mapbox": {
           "style": "light"
          },
          "paper_bgcolor": "white",
          "plot_bgcolor": "#E5ECF6",
          "polar": {
           "angularaxis": {
            "gridcolor": "white",
            "linecolor": "white",
            "ticks": ""
           },
           "bgcolor": "#E5ECF6",
           "radialaxis": {
            "gridcolor": "white",
            "linecolor": "white",
            "ticks": ""
           }
          },
          "scene": {
           "xaxis": {
            "backgroundcolor": "#E5ECF6",
            "gridcolor": "white",
            "gridwidth": 2,
            "linecolor": "white",
            "showbackground": true,
            "ticks": "",
            "zerolinecolor": "white"
           },
           "yaxis": {
            "backgroundcolor": "#E5ECF6",
            "gridcolor": "white",
            "gridwidth": 2,
            "linecolor": "white",
            "showbackground": true,
            "ticks": "",
            "zerolinecolor": "white"
           },
           "zaxis": {
            "backgroundcolor": "#E5ECF6",
            "gridcolor": "white",
            "gridwidth": 2,
            "linecolor": "white",
            "showbackground": true,
            "ticks": "",
            "zerolinecolor": "white"
           }
          },
          "shapedefaults": {
           "line": {
            "color": "#2a3f5f"
           }
          },
          "ternary": {
           "aaxis": {
            "gridcolor": "white",
            "linecolor": "white",
            "ticks": ""
           },
           "baxis": {
            "gridcolor": "white",
            "linecolor": "white",
            "ticks": ""
           },
           "bgcolor": "#E5ECF6",
           "caxis": {
            "gridcolor": "white",
            "linecolor": "white",
            "ticks": ""
           }
          },
          "title": {
           "x": 0.05
          },
          "xaxis": {
           "automargin": true,
           "gridcolor": "white",
           "linecolor": "white",
           "ticks": "",
           "title": {
            "standoff": 15
           },
           "zerolinecolor": "white",
           "zerolinewidth": 2
          },
          "yaxis": {
           "automargin": true,
           "gridcolor": "white",
           "linecolor": "white",
           "ticks": "",
           "title": {
            "standoff": 15
           },
           "zerolinecolor": "white",
           "zerolinewidth": 2
          }
         }
        },
        "xaxis": {
         "anchor": "y",
         "autorange": true,
         "domain": [
          0,
          1
         ],
         "range": [
          -1.066291369836007,
          1.023086048218222
         ],
         "title": {
          "text": "coef1"
         },
         "type": "linear"
        },
        "yaxis": {
         "anchor": "x",
         "autorange": true,
         "domain": [
          0,
          1
         ],
         "range": [
          -1.069596317153499,
          1.08843473230289
         ],
         "title": {
          "text": "coef2"
         },
         "type": "linear"
        }
       }
      },
      "image/png": "[encoded data removed]",
      "text/html": [
       "<div>                            <div id=\"9968e9fe-ac20-4903-9238-e211d4250dc6\" class=\"plotly-graph-div\" style=\"height:525px; width:100%;\"></div>            <script type=\"text/javascript\">                require([\"plotly\"], function(Plotly) {                    window.PLOTLYENV=window.PLOTLYENV || {};                                    if (document.getElementById(\"9968e9fe-ac20-4903-9238-e211d4250dc6\")) {                    Plotly.newPlot(                        \"9968e9fe-ac20-4903-9238-e211d4250dc6\",                        [{\"hovertemplate\":\"idx=0.0<br>coef1=%{x}<br>coef2=%{y}<extra></extra>\",\"legendgroup\":\"0.0\",\"marker\":{\"color\":\"#636efa\",\"symbol\":\"circle\"},\"mode\":\"markers\",\"name\":\"0.0\",\"orientation\":\"v\",\"showlegend\":true,\"x\":[-0.227217267811475,-0.284825743915539,-0.216486314376165,-0.183305580314651,-0.214051049294988,-0.24208609756216,-0.23515374063005,-0.114893704840857,-0.0330086667842764,-0.0503919352409238,-0.0560457489258561,-0.0849766708595359,-0.0428425960691517,-0.0471806621191754,-0.0684873739851192,-0.0626791923383825,-0.0742428005833743,-0.0665775799394846,-0.067233449259192,-0.0621884809370095,-0.0558120482956472],\"xaxis\":\"x\",\"y\":[0.0736219670312829,0.0307308099440509,0.0273820387720106,0.0748317992157781,0.0368074821287674,0.057948995469247,0.0814824813812389,0.155777785365168,0.197961726780197,0.191707498688062,0.173047930875268,0.194673712450916,0.218971565077179,0.23302865040268,0.229152641062727,0.234692352426308,0.236877811040316,0.224010205459476,0.243117551592036,0.246395367816917,0.253585396394924],\"yaxis\":\"y\",\"type\":\"scatter\"},{\"hovertemplate\":\"idx=1.0<br>coef1=%{x}<br>coef2=%{y}<extra></extra>\",\"legendgroup\":\"1.0\",\"marker\":{\"color\":\"#EF553B\",\"symbol\":\"circle\"},\"mode\":\"markers\",\"name\":\"1.0\",\"orientation\":\"v\",\"showlegend\":true,\"x\":[-0.236192626592391,-0.28846990348909,-0.222703966650284,-0.187727895890214,-0.212552365852441,-0.23229427495623,-0.233760514707293,-0.105844744619029,-0.018539707634642,-0.030229695646863,-0.041991989472349,-0.0564153661884211,-0.007750472373156,-0.0096497937582904,-0.0269386325079059,-0.0272147706100896,-0.0326479832887513,-0.0341305821114537,-0.0347878594368219,-0.0313993883532894,-0.025529037223157],\"xaxis\":\"x\",\"y\":[-0.061649544386799,-0.103236754643725,-0.109787101501085,-0.0860519435762546,-0.112492898809823,-0.0929178310091358,-0.0778155930235565,-0.0265816196244374,-0.0047554307230472,-0.0093123542263203,-0.0405005253525286,-0.027014517872495,-0.0052157598360152,0.003054833550544,-0.0051098837437478,-0.0130347227346112,-0.0281183582843614,-0.0286689012609364,-0.0291966947490419,-0.0306463895112079,-0.0284622934202071],\"yaxis\":\"y\",\"type\":\"scatter\"},{\"hovertemplate\":\"idx=2.0<br>coef1=%{x}<br>coef2=%{y}<extra></extra>\",\"legendgroup\":\"2.0\",\"marker\":{\"color\":\"#00cc96\",\"symbol\":\"circle\"},\"mode\":\"markers\",\"name\":\"2.0\",\"orientation\":\"v\",\"showlegend\":true,\"x\":[-0.253062616843181,-0.308112632408485,-0.241456016523126,-0.200176303715717,-0.232215233620268,-0.26413397214594,-0.255973727210406,-0.129563132782685,-0.0480738237866062,-0.0686228980035541,-0.0813836814858703,-0.103691689645625,-0.0625041896604908,-0.0620597654200088,-0.0793089169006376,-0.0810345489687731,-0.0933742588890263,-0.101027409481562,-0.101782448845605,-0.110049098180905,-0.113620803709981],\"xaxis\":\"x\",\"y\":[0.0143231546075058,-0.0236152747916903,-0.0304279023175687,0.0103081900622317,-0.0200227596784291,0.003489650432636,0.0180403750821972,0.084487389456263,0.111696473267641,0.109382229216416,0.0804392214140563,0.095316411721516,0.120731748003721,0.127067210303806,0.130291115762535,0.121334857225106,0.120140067155408,0.118706347466166,0.129816632097185,0.129708433994612,0.130572603126453],\"yaxis\":\"y\",\"type\":\"scatter\"},{\"hovertemplate\":\"idx=3.0<br>coef1=%{x}<br>coef2=%{y}<extra></extra>\",\"legendgroup\":\"3.0\",\"marker\":{\"color\":\"#ab63fa\",\"symbol\":\"circle\"},\"mode\":\"markers\",\"name\":\"3.0\",\"orientation\":\"v\",\"showlegend\":true,\"x\":[-0.167278988094483,-0.230815132388795,-0.159076461594062,-0.112196213397104,-0.13887346505367,-0.168210684906634,-0.147287305869892,-0.0083301116338629,0.0768130212253108,0.0653532283539719,0.0574897440443847,0.0511051215886414,0.103956945593678,0.106364553955401,0.0882840319269808,0.0925741174774274,0.0777437873080941,0.0761771863365659,0.0880713931937185,0.0910309967330181,0.101188944657483],\"xaxis\":\"x\",\"y\":[0.0871601322891254,0.0232762730139865,0.0259600868954014,0.0912593866727097,0.0580680444618178,0.077062170270198,0.105815239971844,0.191347158640868,0.239418355495226,0.235869294180671,0.211228029924575,0.234776679268902,0.266680659532264,0.282269233543593,0.279057146453904,0.272403221247578,0.270806149205464,0.265703775615421,0.282950114152163,0.282773507705325,0.28679010147987],\"yaxis\":\"y\",\"type\":\"scatter\"},{\"hovertemplate\":\"idx=4.0<br>coef1=%{x}<br>coef2=%{y}<extra></extra>\",\"legendgroup\":\"4.0\",\"marker\":{\"color\":\"#FFA15A\",\"symbol\":\"circle\"},\"mode\":\"markers\",\"name\":\"4.0\",\"orientation\":\"v\",\"showlegend\":true,\"x\":[-0.200451080238571,-0.260600582305724,-0.189923800240831,-0.153937328453701,-0.186814423445801,-0.20576918053976,-0.196744127137674,-0.065584754042514,0.0175135562750553,0.0010584619471479,-0.0065533149224956,-0.0279357680996364,0.0243989656293503,0.0231496167616724,-0.0009482736856859,0.0021426360937918,-0.0142249955057923,-0.0130827601925051,-0.0127936721726522,-0.0106004479858519,0.0040232406888089],\"xaxis\":\"x\",\"y\":[-0.0214482816567766,-0.0728629483211607,-0.0822529796249954,-0.0477927588275591,-0.0847017419539871,-0.061819858037718,-0.0398302443817086,0.0182252617806099,0.04861473458719,0.038829879284586,0.0089002383508098,0.0269347678320723,0.0507358362871009,0.061784852229557,0.0534273783859446,0.056884738213599,0.0528823524501922,0.0425143531065913,0.0445449440025203,0.0351023800806646,0.0297739663110003],\"yaxis\":\"y\",\"type\":\"scatter\"},{\"hovertemplate\":\"idx=5.0<br>coef1=%{x}<br>coef2=%{y}<extra></extra>\",\"legendgroup\":\"5.0\",\"marker\":{\"color\":\"#19d3f3\",\"symbol\":\"circle\"},\"mode\":\"markers\",\"name\":\"5.0\",\"orientation\":\"v\",\"showlegend\":true,\"x\":[-0.307289195720234,-0.36129907478029,-0.306273273551114,-0.267670798994843,-0.29013340734107,-0.321047112642454,-0.313196969781743,-0.195908243122937,-0.12230931393381,-0.136287229289415,-0.144012326022645,-0.161172351791529,-0.120973778405614,-0.122986971797664,-0.148069408552833,-0.148776537766568,-0.163442084574325,-0.160652913057903,-0.170831786936034,-0.17625553658029,-0.167000975924452],\"xaxis\":\"x\",\"y\":[0.0819543307231549,0.0420537789993215,0.0382714024087329,0.078980389774418,0.0541871382314075,0.0798376300084028,0.0963804357410202,0.158962924402078,0.191659236717092,0.182336277973462,0.157666638261579,0.176354262133073,0.202457962713212,0.21784215670277,0.210761849484103,0.212596707589498,0.211863892272384,0.19911234090265,0.209643974716906,0.213809237109999,0.211968711639773],\"yaxis\":\"y\",\"type\":\"scatter\"},{\"hovertemplate\":\"idx=6.0<br>coef1=%{x}<br>coef2=%{y}<extra></extra>\",\"legendgroup\":\"6.0\",\"marker\":{\"color\":\"#FF6692\",\"symbol\":\"circle\"},\"mode\":\"markers\",\"name\":\"6.0\",\"orientation\":\"v\",\"showlegend\":true,\"x\":[-0.428366083921517,-0.486328078660702,-0.415356572724089,-0.405633505716984,-0.443939763906379,-0.459717346892889,-0.489339355941276,-0.34468661057106,-0.25327737641273,-0.257553546309125,-0.27748482230286,-0.300527500745999,-0.244407072797829,-0.245896093165642,-0.283072385891313,-0.283385487304213,-0.321568446704039,-0.324163126232356,-0.335106346536294,-0.353913784109517,-0.348639929864902],\"xaxis\":\"x\",\"y\":[-0.23475013955046,-0.264597040810084,-0.279988315552447,-0.2784485693221,-0.314848471611947,-0.301179693358639,-0.30225238310442,-0.25557413556099,-0.227625429249667,-0.229142711266879,-0.256255943609035,-0.253903805024375,-0.224975981599395,-0.226471027010699,-0.252110792228687,-0.265601097337148,-0.293313048787054,-0.301056866438516,-0.315561990973616,-0.332959278713913,-0.343082616436857],\"yaxis\":\"y\",\"type\":\"scatter\"},{\"hovertemplate\":\"idx=7.0<br>coef1=%{x}<br>coef2=%{y}<extra></extra>\",\"legendgroup\":\"7.0\",\"marker\":{\"color\":\"#B6E880\",\"symbol\":\"circle\"},\"mode\":\"markers\",\"name\":\"7.0\",\"orientation\":\"v\",\"showlegend\":true,\"x\":[0.16326079240161,0.0737181288038842,0.18348968864897,0.299592826058672,0.239692028008242,0.203198362783262,0.262591052511807,0.547414072125998,0.73482731589874,0.661755212744546,0.69072740605891,0.679694645793038,0.765665192530481,0.782478988764897,0.773420587478577,0.784812706472193,0.815978861890476,0.817982454628241,0.881115331068804,0.896692282052044,0.907487681125591],\"xaxis\":\"x\",\"y\":[-0.17735750504795,-0.229928197968847,-0.243572619864068,-0.179093709473903,-0.223835187305408,-0.221541723284347,-0.179059442357875,-0.115141758273997,-0.0806019516819151,-0.109765304340584,-0.14927368217902,-0.130831005423966,-0.115864254447062,-0.110336249269968,-0.11879770823218,-0.114248865067754,-0.123977428685809,-0.136015273094599,-0.154675958471093,-0.162815814335904,-0.16332482470351],\"yaxis\":\"y\",\"type\":\"scatter\"},{\"hovertemplate\":\"idx=8.0<br>coef1=%{x}<br>coef2=%{y}<extra></extra>\",\"legendgroup\":\"8.0\",\"marker\":{\"color\":\"#FF97FF\",\"symbol\":\"circle\"},\"mode\":\"markers\",\"name\":\"8.0\",\"orientation\":\"v\",\"showlegend\":true,\"x\":[-0.253158502374775,-0.312240066267122,-0.251183164627594,-0.211914815175886,-0.240171345893927,-0.267280310989743,-0.260857180937883,-0.143013011027675,-0.0608050940647487,-0.0656039688478157,-0.0703770265901118,-0.0982247768804783,-0.0573165732940589,-0.0485079449409468,-0.0614256278024463,-0.0668283517219636,-0.0829392800850853,-0.0741525259064546,-0.0693477619922561,-0.06521114230155,-0.053146005069494],\"xaxis\":\"x\",\"y\":[0.0070548880366547,-0.0377577881907412,-0.0409962925726439,-0.0072371846994208,-0.0392563786559383,-0.0112322868496223,0.0046966843372456,0.0674679503496474,0.0990614007726772,0.0932161936810061,0.0643598567221786,0.0820029925683655,0.104930577391191,0.113193532476041,0.103908747804045,0.106888208358339,0.103524010262041,0.0983353290278221,0.100855487446947,0.0958011719358837,0.0860532785441853],\"yaxis\":\"y\",\"type\":\"scatter\"},{\"hovertemplate\":\"idx=9.0<br>coef1=%{x}<br>coef2=%{y}<extra></extra>\",\"legendgroup\":\"9.0\",\"marker\":{\"color\":\"#FECB52\",\"symbol\":\"circle\"},\"mode\":\"markers\",\"name\":\"9.0\",\"orientation\":\"v\",\"showlegend\":true,\"x\":[-0.472611108435013,-0.522071670571997,-0.469449274452531,-0.418687119770463,-0.44048624464658,-0.48401152551041,-0.466048666347138,-0.395575214810618,-0.346671551142415,-0.357957072828708,-0.371576925623801,-0.393172834900552,-0.376221338330508,-0.376069359904403,-0.395261917116347,-0.400599095505994,-0.420065325463978,-0.420625936142745,-0.44878142572372,-0.459686866544575,-0.468493771258795],\"xaxis\":\"x\",\"y\":[0.564455477608648,0.478551421785597,0.486404883383705,0.568068319509147,0.529826914518095,0.570349803016921,0.602614704611236,0.745669296047875,0.800771217250732,0.763135793750985,0.742316153660936,0.793353673735677,0.822732522927771,0.850764191572405,0.861312050677957,0.862035566304723,0.895053006931879,0.886400769681029,0.932161662784589,0.943748559668882,0.939105337213742],\"yaxis\":\"y\",\"type\":\"scatter\"},{\"hovertemplate\":\"idx=10.0<br>coef1=%{x}<br>coef2=%{y}<extra></extra>\",\"legendgroup\":\"10.0\",\"marker\":{\"color\":\"#636efa\",\"symbol\":\"circle\"},\"mode\":\"markers\",\"name\":\"10.0\",\"orientation\":\"v\",\"showlegend\":true,\"x\":[-0.125821235967268,-0.190825049504152,-0.126536540544132,-0.0807996709247769,-0.106865613609394,-0.128223686652021,-0.114737780098308,0.0332930826493209,0.116726265146419,0.100080830143341,0.096826323579043,0.0915759477472264,0.145397721361103,0.154081991819935,0.137581643796911,0.140827816639481,0.136483044772748,0.140704808179968,0.157293465583975,0.16925156307821,0.179050835328091],\"xaxis\":\"x\",\"y\":[-0.0699512768928782,-0.112885363870807,-0.120987495581066,-0.0878674064768952,-0.124083514831915,-0.103900581270818,-0.0819322326893595,-0.0329754430732277,-0.0100713710246818,-0.013493027505734,-0.0497631546180311,-0.0331466527959404,-0.0144000748303077,-0.0146423572432131,-0.0234670575016075,-0.0351264533280844,-0.0483868127680657,-0.0596788755583857,-0.0675231089172576,-0.0763418936778959,-0.0837931522539717],\"yaxis\":\"y\",\"type\":\"scatter\"},{\"hovertemplate\":\"idx=11.0<br>coef1=%{x}<br>coef2=%{y}<extra></extra>\",\"legendgroup\":\"11.0\",\"marker\":{\"color\":\"#EF553B\",\"symbol\":\"circle\"},\"mode\":\"markers\",\"name\":\"11.0\",\"orientation\":\"v\",\"showlegend\":true,\"x\":[-0.23978845912992,-0.296558888352585,-0.2304079638293,-0.192833653555123,-0.225315134018309,-0.255114572770318,-0.247049903854654,-0.126767221635784,-0.0594211645612135,-0.071738791525912,-0.0892101819251506,-0.111321160780054,-0.0815830063840069,-0.0765660610807371,-0.0910518089539924,-0.0880131601895262,-0.106130517747969,-0.108410664271585,-0.11044606378158,-0.113889788962139,-0.111403149852337],\"xaxis\":\"x\",\"y\":[0.0489669462481229,0.006702767202976,-0.0030659870487953,0.038363145960562,0.012240952193183,0.0384765751874418,0.0585569521209074,0.119596854867788,0.155081009668793,0.147369970556201,0.121156836139479,0.133149141227146,0.164110041092948,0.170154848714733,0.163151666986742,0.170897266318448,0.174281980705546,0.175240884276853,0.187995264683314,0.188640917713215,0.192048235003043],\"yaxis\":\"y\",\"type\":\"scatter\"},{\"hovertemplate\":\"idx=12.0<br>coef1=%{x}<br>coef2=%{y}<extra></extra>\",\"legendgroup\":\"12.0\",\"marker\":{\"color\":\"#00cc96\",\"symbol\":\"circle\"},\"mode\":\"markers\",\"name\":\"12.0\",\"orientation\":\"v\",\"showlegend\":true,\"x\":[0.0112938570033336,-0.0601255994745338,0.0241585347946348,0.0516550614847386,0.0058201287513294,0.012536704364124,0.0090792787956119,0.193989735722461,0.305789917285982,0.287158793966101,0.278111969744479,0.265565845639161,0.323868738912318,0.339140410952736,0.320453427967837,0.324650521904669,0.33153280984153,0.337724830124212,0.358779954136567,0.372624840666513,0.373197172570994],\"xaxis\":\"x\",\"y\":[-0.724756032839879,-0.724300577649661,-0.758724578774697,-0.749148991841512,-0.772969695549009,-0.757988084111583,-0.766163181466508,-0.774206900234251,-0.774815396005626,-0.754257752494798,-0.79610617539352,-0.793585450882888,-0.780294555493235,-0.781364725210573,-0.800477369046701,-0.80823621627116,-0.851256961965744,-0.854954239731487,-0.89939783163794,-0.918332044290301,-0.924910144519491],\"yaxis\":\"y\",\"type\":\"scatter\"},{\"hovertemplate\":\"idx=13.0<br>coef1=%{x}<br>coef2=%{y}<extra></extra>\",\"legendgroup\":\"13.0\",\"marker\":{\"color\":\"#ab63fa\",\"symbol\":\"circle\"},\"mode\":\"markers\",\"name\":\"13.0\",\"orientation\":\"v\",\"showlegend\":true,\"x\":[-0.398148940986558,-0.460518180092731,-0.389965822049728,-0.37652409905645,-0.409790047512715,-0.451380107954203,-0.460627846966738,-0.339172144803815,-0.267559693198478,-0.281401283943143,-0.305295849321765,-0.33808078308704,-0.271355501307979,-0.283956807311127,-0.324466610040835,-0.325338566096485,-0.35830820148111,-0.358013067416031,-0.363135834832545,-0.382672767359692,-0.374366795628388],\"xaxis\":\"x\",\"y\":[0.23645362155282,0.156880819136384,0.163441926064955,0.200854144091597,0.156106623885081,0.174120202753492,0.191520108218989,0.273174062508648,0.32000601009646,0.312698989926647,0.280399247170768,0.282413220672846,0.314580422390781,0.3110339125527,0.289160716834952,0.295416037720716,0.294749834119567,0.274335124060137,0.290017123813984,0.286472898689585,0.292156591659046],\"yaxis\":\"y\",\"type\":\"scatter\"},{\"hovertemplate\":\"idx=14.0<br>coef1=%{x}<br>coef2=%{y}<extra></extra>\",\"legendgroup\":\"14.0\",\"marker\":{\"color\":\"#FFA15A\",\"symbol\":\"circle\"},\"mode\":\"markers\",\"name\":\"14.0\",\"orientation\":\"v\",\"showlegend\":true,\"x\":[-0.0396730430460196,-0.109837092430869,-0.0316331917368323,0.013515612406838,-0.0268647492367187,-0.0625048769130454,-0.0579467774870925,0.107176729786087,0.218578633388291,0.199019924520932,0.198496810964473,0.166978611291101,0.221819687724855,0.213301044746986,0.187030219523966,0.192096921211436,0.184957061370767,0.189548835411138,0.20701733898014,0.204641682472353,0.216609797325082],\"xaxis\":\"x\",\"y\":[-0.0925106084777435,-0.134548325610947,-0.132845765724982,-0.0954760262353007,-0.132307235457194,-0.122613121701176,-0.103854770239234,-0.0461115860400578,-0.0075422162818652,-0.0139300848807323,-0.04166931723234,-0.0334684003788099,-0.0033713782507802,0.0004727719629666,-0.0167488398112386,-0.0080087858825932,-0.0208561260697334,-0.0318363414444537,-0.0208902011271895,-0.0160054693473654,-0.0157375963597981],\"yaxis\":\"y\",\"type\":\"scatter\"},{\"hovertemplate\":\"idx=15.0<br>coef1=%{x}<br>coef2=%{y}<extra></extra>\",\"legendgroup\":\"15.0\",\"marker\":{\"color\":\"#19d3f3\",\"symbol\":\"circle\"},\"mode\":\"markers\",\"name\":\"15.0\",\"orientation\":\"v\",\"showlegend\":true,\"x\":[0.123543413925741,-0.0051084729870239,0.112300533171137,0.14795191428767,0.115003395950106,0.0713762376487086,0.0915048957837356,0.260231415801794,0.349454125255838,0.343670762652889,0.316880867810788,0.307338242184537,0.390632107340703,0.394496825654345,0.359166187961362,0.349984439418415,0.327756276060425,0.312359259374447,0.327400704099406,0.32215408202501,0.333240787479752],\"xaxis\":\"x\",\"y\":[-0.0668009657340061,-0.166127236796615,-0.16977806104415,-0.0966773952168024,-0.133395784776577,-0.129286442838515,-0.100340067955188,-0.0286021364750609,-0.0034872113693029,-0.0019352379649145,-0.036641307798802,-0.0345513040447533,-0.0013301710436833,-0.0053457330913965,-0.0307443087065528,-0.042906736644022,-0.0622578831824742,-0.0786818070886108,-0.0849598287709247,-0.108035756354648,-0.119653791637595],\"yaxis\":\"y\",\"type\":\"scatter\"},{\"hovertemplate\":\"idx=16.0<br>coef1=%{x}<br>coef2=%{y}<extra></extra>\",\"legendgroup\":\"16.0\",\"marker\":{\"color\":\"#FF6692\",\"symbol\":\"circle\"},\"mode\":\"markers\",\"name\":\"16.0\",\"orientation\":\"v\",\"showlegend\":true,\"x\":[-0.797830250765964,-0.828478261335412,-0.769440238421975,-0.786811320506859,-0.820572047768278,-0.843254018126475,-0.880214086951304,-0.811508707341836,-0.754452262475245,-0.754927990016004,-0.779172348238107,-0.823120631764989,-0.790150094226951,-0.794721097415597,-0.827489421569655,-0.834001047106993,-0.893618814626356,-0.886925608793322,-0.936188886972995,-0.950693002743376,-0.948114424287183],\"xaxis\":\"x\",\"y\":[1.96163324701071e-05,-0.0004555891271331,-0.0261033948446674,-0.0217886398090827,-0.0521442561207165,-0.0068047144909974,-0.0022915872375922,0.0373233764946367,0.0622672950580669,0.0610771500427685,0.0419330328073104,0.064605666021124,0.0823972204663624,0.0946433178626727,0.096398904719573,0.106773415136724,0.111425105671545,0.109120280787831,0.111479899326189,0.118166327400816,0.120790827692496],\"yaxis\":\"y\",\"type\":\"scatter\"},{\"hovertemplate\":\"idx=17.0<br>coef1=%{x}<br>coef2=%{y}<extra></extra>\",\"legendgroup\":\"17.0\",\"marker\":{\"color\":\"#B6E880\",\"symbol\":\"circle\"},\"mode\":\"markers\",\"name\":\"17.0\",\"orientation\":\"v\",\"showlegend\":true,\"x\":[-0.115322964726724,-0.174244971328053,-0.10947870342768,-0.0601244582166455,-0.0911419935139371,-0.116644486660187,-0.103736914832865,0.0354449050673557,0.122101084775061,0.116063386497223,0.112581846956325,0.095827992151903,0.144448901003472,0.154343570708069,0.149232270343135,0.161393382060757,0.15846566897651,0.16368532019032,0.179051653305764,0.188401482317602,0.197671843803882],\"xaxis\":\"x\",\"y\":[-0.104815175486248,-0.151058168136549,-0.162048291244849,-0.135614106795855,-0.168966351752847,-0.151307447205066,-0.142213225478109,-0.0952164299892578,-0.0774616551734045,-0.083200249567116,-0.120830715134246,-0.107564016586257,-0.0910424123116814,-0.0903819925785224,-0.0974779374543308,-0.100336553477031,-0.112744316293097,-0.116957528562732,-0.127179581910689,-0.135554805158838,-0.137658352345888],\"yaxis\":\"y\",\"type\":\"scatter\"},{\"hovertemplate\":\"idx=18.0<br>coef1=%{x}<br>coef2=%{y}<extra></extra>\",\"legendgroup\":\"18.0\",\"marker\":{\"color\":\"#FF97FF\",\"symbol\":\"circle\"},\"mode\":\"markers\",\"name\":\"18.0\",\"orientation\":\"v\",\"showlegend\":true,\"x\":[-0.194494537492697,-0.247857525759664,-0.179654560429394,-0.139574250515866,-0.174425053296664,-0.192588035909179,-0.187848516343772,-0.0579232533126851,0.0231301281933225,0.0090982504622951,-0.0066243170502419,-0.0277355722191171,0.0253782257234967,0.0223845882211081,0.0042019717974577,0.010255173339748,0.0041085458682254,0.0002468591664951,0.0109423412579891,0.0077038637440042,0.0194863630278505],\"xaxis\":\"x\",\"y\":[-0.143947027844971,-0.176235542404424,-0.1859678253378,-0.162755686592702,-0.194321478377711,-0.17065146203933,-0.165306918492564,-0.117194656999554,-0.101023229817156,-0.104394510353032,-0.132909066002321,-0.123926570882713,-0.102367721844447,-0.102854182109892,-0.113823683457334,-0.115538820778539,-0.137012979228817,-0.146020752718121,-0.161834074194023,-0.177716455826736,-0.17467724752057],\"yaxis\":\"y\",\"type\":\"scatter\"},{\"hovertemplate\":\"idx=19.0<br>coef1=%{x}<br>coef2=%{y}<extra></extra>\",\"legendgroup\":\"19.0\",\"marker\":{\"color\":\"#FECB52\",\"symbol\":\"circle\"},\"mode\":\"markers\",\"name\":\"19.0\",\"orientation\":\"v\",\"showlegend\":true,\"x\":[-0.303341603801595,-0.359058258087249,-0.291294891469023,-0.255733268135785,-0.293281062857024,-0.31259566744513,-0.313294411223043,-0.209925206880474,-0.147031713642026,-0.156087678002415,-0.172563170446217,-0.195021835387818,-0.155308925660725,-0.165310391018675,-0.190040933547415,-0.197159429612639,-0.215568386984866,-0.216331389896483,-0.223817191934553,-0.234869356886333,-0.230483079601796],\"xaxis\":\"x\",\"y\":[0.0409481101691027,0.0017729627193176,-0.0094247670537748,0.0151226696589764,-0.0126323749807228,0.0177853835016428,0.0322794465378176,0.0831619391975012,0.107404033086359,0.104322641277934,0.082688660121059,0.0985253317621274,0.122162986173315,0.122280874358202,0.121935472678988,0.119424076902936,0.114399651796476,0.105979018145986,0.113909691394803,0.112347659624488,0.112114927378477],\"yaxis\":\"y\",\"type\":\"scatter\"}],                        {\"template\":{\"data\":{\"bar\":[{\"error_x\":{\"color\":\"#2a3f5f\"},\"error_y\":{\"color\":\"#2a3f5f\"},\"marker\":{\"line\":{\"color\":\"#E5ECF6\",\"width\":0.5},\"pattern\":{\"fillmode\":\"overlay\",\"size\":10,\"solidity\":0.2}},\"type\":\"bar\"}],\"barpolar\":[{\"marker\":{\"line\":{\"color\":\"#E5ECF6\",\"width\":0.5},\"pattern\":{\"fillmode\":\"overlay\",\"size\":10,\"solidity\":0.2}},\"type\":\"barpolar\"}],\"carpet\":[{\"aaxis\":{\"endlinecolor\":\"#2a3f5f\",\"gridcolor\":\"white\",\"linecolor\":\"white\",\"minorgridcolor\":\"white\",\"startlinecolor\":\"#2a3f5f\"},\"baxis\":{\"endlinecolor\":\"#2a3f5f\",\"gridcolor\":\"white\",\"linecolor\":\"white\",\"minorgridcolor\":\"white\",\"startlinecolor\":\"#2a3f5f\"},\"type\":\"carpet\"}],\"choropleth\":[{\"colorbar\":{\"outlinewidth\":0,\"ticks\":\"\"},\"type\":\"choropleth\"}],\"contour\":[{\"colorbar\":{\"outlinewidth\":0,\"ticks\":\"\"},\"colorscale\":[[0.0,\"#0d0887\"],[0.1111111111111111,\"#46039f\"],[0.2222222222222222,\"#7201a8\"],[0.3333333333333333,\"#9c179e\"],[0.4444444444444444,\"#bd3786\"],[0.5555555555555556,\"#d8576b\"],[0.6666666666666666,\"#ed7953\"],[0.7777777777777778,\"#fb9f3a\"],[0.8888888888888888,\"#fdca26\"],[1.0,\"#f0f921\"]],\"type\":\"contour\"}],\"contourcarpet\":[{\"colorbar\":{\"outlinewidth\":0,\"ticks\":\"\"},\"type\":\"contourcarpet\"}],\"heatmap\":[{\"colorbar\":{\"outlinewidth\":0,\"ticks\":\"\"},\"colorscale\":[[0.0,\"#0d0887\"],[0.1111111111111111,\"#46039f\"],[0.2222222222222222,\"#7201a8\"],[0.3333333333333333,\"#9c179e\"],[0.4444444444444444,\"#bd3786\"],[0.5555555555555556,\"#d8576b\"],[0.6666666666666666,\"#ed7953\"],[0.7777777777777778,\"#fb9f3a\"],[0.8888888888888888,\"#fdca26\"],[1.0,\"#f0f921\"]],\"type\":\"heatmap\"}],\"heatmapgl\":[{\"colorbar\":{\"outlinewidth\":0,\"ticks\":\"\"},\"colorscale\":[[0.0,\"#0d0887\"],[0.1111111111111111,\"#46039f\"],[0.2222222222222222,\"#7201a8\"],[0.3333333333333333,\"#9c179e\"],[0.4444444444444444,\"#bd3786\"],[0.5555555555555556,\"#d8576b\"],[0.6666666666666666,\"#ed7953\"],[0.7777777777777778,\"#fb9f3a\"],[0.8888888888888888,\"#fdca26\"],[1.0,\"#f0f921\"]],\"type\":\"heatmapgl\"}],\"histogram\":[{\"marker\":{\"pattern\":{\"fillmode\":\"overlay\",\"size\":10,\"solidity\":0.2}},\"type\":\"histogram\"}],\"histogram2d\":[{\"colorbar\":{\"outlinewidth\":0,\"ticks\":\"\"},\"colorscale\":[[0.0,\"#0d0887\"],[0.1111111111111111,\"#46039f\"],[0.2222222222222222,\"#7201a8\"],[0.3333333333333333,\"#9c179e\"],[0.4444444444444444,\"#bd3786\"],[0.5555555555555556,\"#d8576b\"],[0.6666666666666666,\"#ed7953\"],[0.7777777777777778,\"#fb9f3a\"],[0.8888888888888888,\"#fdca26\"],[1.0,\"#f0f921\"]],\"type\":\"histogram2d\"}],\"histogram2dcontour\":[{\"colorbar\":{\"outlinewidth\":0,\"ticks\":\"\"},\"colorscale\":[[0.0,\"#0d0887\"],[0.1111111111111111,\"#46039f\"],[0.2222222222222222,\"#7201a8\"],[0.3333333333333333,\"#9c179e\"],[0.4444444444444444,\"#bd3786\"],[0.5555555555555556,\"#d8576b\"],[0.6666666666666666,\"#ed7953\"],[0.7777777777777778,\"#fb9f3a\"],[0.8888888888888888,\"#fdca26\"],[1.0,\"#f0f921\"]],\"type\":\"histogram2dcontour\"}],\"mesh3d\":[{\"colorbar\":{\"outlinewidth\":0,\"ticks\":\"\"},\"type\":\"mesh3d\"}],\"parcoords\":[{\"line\":{\"colorbar\":{\"outlinewidth\":0,\"ticks\":\"\"}},\"type\":\"parcoords\"}],\"pie\":[{\"automargin\":true,\"type\":\"pie\"}],\"scatter\":[{\"marker\":{\"colorbar\":{\"outlinewidth\":0,\"ticks\":\"\"}},\"type\":\"scatter\"}],\"scatter3d\":[{\"line\":{\"colorbar\":{\"outlinewidth\":0,\"ticks\":\"\"}},\"marker\":{\"colorbar\":{\"outlinewidth\":0,\"ticks\":\"\"}},\"type\":\"scatter3d\"}],\"scattercarpet\":[{\"marker\":{\"colorbar\":{\"outlinewidth\":0,\"ticks\":\"\"}},\"type\":\"scattercarpet\"}],\"scattergeo\":[{\"marker\":{\"colorbar\":{\"outlinewidth\":0,\"ticks\":\"\"}},\"type\":\"scattergeo\"}],\"scattergl\":[{\"marker\":{\"colorbar\":{\"outlinewidth\":0,\"ticks\":\"\"}},\"type\":\"scattergl\"}],\"scattermapbox\":[{\"marker\":{\"colorbar\":{\"outlinewidth\":0,\"ticks\":\"\"}},\"type\":\"scattermapbox\"}],\"scatterpolar\":[{\"marker\":{\"colorbar\":{\"outlinewidth\":0,\"ticks\":\"\"}},\"type\":\"scatterpolar\"}],\"scatterpolargl\":[{\"marker\":{\"colorbar\":{\"outlinewidth\":0,\"ticks\":\"\"}},\"type\":\"scatterpolargl\"}],\"scatterternary\":[{\"marker\":{\"colorbar\":{\"outlinewidth\":0,\"ticks\":\"\"}},\"type\":\"scatterternary\"}],\"surface\":[{\"colorbar\":{\"outlinewidth\":0,\"ticks\":\"\"},\"colorscale\":[[0.0,\"#0d0887\"],[0.1111111111111111,\"#46039f\"],[0.2222222222222222,\"#7201a8\"],[0.3333333333333333,\"#9c179e\"],[0.4444444444444444,\"#bd3786\"],[0.5555555555555556,\"#d8576b\"],[0.6666666666666666,\"#ed7953\"],[0.7777777777777778,\"#fb9f3a\"],[0.8888888888888888,\"#fdca26\"],[1.0,\"#f0f921\"]],\"type\":\"surface\"}],\"table\":[{\"cells\":{\"fill\":{\"color\":\"#EBF0F8\"},\"line\":{\"color\":\"white\"}},\"header\":{\"fill\":{\"color\":\"#C8D4E3\"},\"line\":{\"color\":\"white\"}},\"type\":\"table\"}]},\"layout\":{\"annotationdefaults\":{\"arrowcolor\":\"#2a3f5f\",\"arrowhead\":0,\"arrowwidth\":1},\"autotypenumbers\":\"strict\",\"coloraxis\":{\"colorbar\":{\"outlinewidth\":0,\"ticks\":\"\"}},\"colorscale\":{\"diverging\":[[0,\"#8e0152\"],[0.1,\"#c51b7d\"],[0.2,\"#de77ae\"],[0.3,\"#f1b6da\"],[0.4,\"#fde0ef\"],[0.5,\"#f7f7f7\"],[0.6,\"#e6f5d0\"],[0.7,\"#b8e186\"],[0.8,\"#7fbc41\"],[0.9,\"#4d9221\"],[1,\"#276419\"]],\"sequential\":[[0.0,\"#0d0887\"],[0.1111111111111111,\"#46039f\"],[0.2222222222222222,\"#7201a8\"],[0.3333333333333333,\"#9c179e\"],[0.4444444444444444,\"#bd3786\"],[0.5555555555555556,\"#d8576b\"],[0.6666666666666666,\"#ed7953\"],[0.7777777777777778,\"#fb9f3a\"],[0.8888888888888888,\"#fdca26\"],[1.0,\"#f0f921\"]],\"sequentialminus\":[[0.0,\"#0d0887\"],[0.1111111111111111,\"#46039f\"],[0.2222222222222222,\"#7201a8\"],[0.3333333333333333,\"#9c179e\"],[0.4444444444444444,\"#bd3786\"],[0.5555555555555556,\"#d8576b\"],[0.6666666666666666,\"#ed7953\"],[0.7777777777777778,\"#fb9f3a\"],[0.8888888888888888,\"#fdca26\"],[1.0,\"#f0f921\"]]},\"colorway\":[\"#636efa\",\"#EF553B\",\"#00cc96\",\"#ab63fa\",\"#FFA15A\",\"#19d3f3\",\"#FF6692\",\"#B6E880\",\"#FF97FF\",\"#FECB52\"],\"font\":{\"color\":\"#2a3f5f\"},\"geo\":{\"bgcolor\":\"white\",\"lakecolor\":\"white\",\"landcolor\":\"#E5ECF6\",\"showlakes\":true,\"showland\":true,\"subunitcolor\":\"white\"},\"hoverlabel\":{\"align\":\"left\"},\"hovermode\":\"closest\",\"mapbox\":{\"style\":\"light\"},\"paper_bgcolor\":\"white\",\"plot_bgcolor\":\"#E5ECF6\",\"polar\":{\"angularaxis\":{\"gridcolor\":\"white\",\"linecolor\":\"white\",\"ticks\":\"\"},\"bgcolor\":\"#E5ECF6\",\"radialaxis\":{\"gridcolor\":\"white\",\"linecolor\":\"white\",\"ticks\":\"\"}},\"scene\":{\"xaxis\":{\"backgroundcolor\":\"#E5ECF6\",\"gridcolor\":\"white\",\"gridwidth\":2,\"linecolor\":\"white\",\"showbackground\":true,\"ticks\":\"\",\"zerolinecolor\":\"white\"},\"yaxis\":{\"backgroundcolor\":\"#E5ECF6\",\"gridcolor\":\"white\",\"gridwidth\":2,\"linecolor\":\"white\",\"showbackground\":true,\"ticks\":\"\",\"zerolinecolor\":\"white\"},\"zaxis\":{\"backgroundcolor\":\"#E5ECF6\",\"gridcolor\":\"white\",\"gridwidth\":2,\"linecolor\":\"white\",\"showbackground\":true,\"ticks\":\"\",\"zerolinecolor\":\"white\"}},\"shapedefaults\":{\"line\":{\"color\":\"#2a3f5f\"}},\"ternary\":{\"aaxis\":{\"gridcolor\":\"white\",\"linecolor\":\"white\",\"ticks\":\"\"},\"baxis\":{\"gridcolor\":\"white\",\"linecolor\":\"white\",\"ticks\":\"\"},\"bgcolor\":\"#E5ECF6\",\"caxis\":{\"gridcolor\":\"white\",\"linecolor\":\"white\",\"ticks\":\"\"}},\"title\":{\"x\":0.05},\"xaxis\":{\"automargin\":true,\"gridcolor\":\"white\",\"linecolor\":\"white\",\"ticks\":\"\",\"title\":{\"standoff\":15},\"zerolinecolor\":\"white\",\"zerolinewidth\":2},\"yaxis\":{\"automargin\":true,\"gridcolor\":\"white\",\"linecolor\":\"white\",\"ticks\":\"\",\"title\":{\"standoff\":15},\"zerolinecolor\":\"white\",\"zerolinewidth\":2}}},\"xaxis\":{\"anchor\":\"y\",\"domain\":[0.0,1.0],\"title\":{\"text\":\"coef1\"}},\"yaxis\":{\"anchor\":\"x\",\"domain\":[0.0,1.0],\"title\":{\"text\":\"coef2\"}},\"legend\":{\"title\":{\"text\":\"idx\"},\"tracegroupgap\":0},\"margin\":{\"t\":60}},                        {\"responsive\": true}                    ).then(function(){\n",
       "                            \n",
       "var gd = document.getElementById('9968e9fe-ac20-4903-9238-e211d4250dc6');\n",
       "var x = new MutationObserver(function (mutations, observer) {{\n",
       "        var display = window.getComputedStyle(gd).display;\n",
       "        if (!display || display === 'none') {{\n",
       "            console.log([gd, 'removed!']);\n",
       "            Plotly.purge(gd);\n",
       "            observer.disconnect();\n",
       "        }}\n",
       "}});\n",
       "\n",
       "// Listen for the removal of the full notebook cells\n",
       "var notebookContainer = gd.closest('#notebook-container');\n",
       "if (notebookContainer) {{\n",
       "    x.observe(notebookContainer, {childList: true});\n",
       "}}\n",
       "\n",
       "// Listen for the clearing of the current output cell\n",
       "var outputEl = gd.closest('.output');\n",
       "if (outputEl) {{\n",
       "    x.observe(outputEl, {childList: true});\n",
       "}}\n",
       "\n",
       "                        })                };                });            </script>        </div>"
      ]
     },
     "metadata": {},
     "output_type": "display_data"
    },
    {
     "data": {
      "application/vnd.plotly.v1+json": {
       "config": {
        "plotlyServerURL": "https://plot.ly"
       },
       "data": [
        {
         "hovertemplate": "idx=0.0<br>coef1=%{x}<br>coef2=%{y}<extra></extra>",
         "legendgroup": "0.0",
         "marker": {
          "color": "#636efa",
          "symbol": "circle"
         },
         "mode": "markers",
         "name": "0.0",
         "orientation": "v",
         "showlegend": true,
         "type": "scatter",
         "visible": true,
         "x": [
          -0.212370784598067,
          -0.284817885433304,
          -0.21221781626079,
          -0.16527532707806,
          -0.207052159053607,
          -0.231287949946812,
          -0.219095593789215,
          -0.0591833326016932,
          0.0481382469012673,
          0.0291805409513308,
          0.0121231011961983,
          -0.0087861722306469,
          0.0515679864805186,
          0.0532095385575526,
          0.0271485099060513,
          0.0359585832549241,
          0.0229427444353908,
          0.0257370026109613,
          0.0344317652736275,
          0.0413820584378328,
          0.0513833253138915
         ],
         "xaxis": "x",
         "y": [
          0.0760277031148819,
          0.0172090577866779,
          0.0320238914060622,
          0.0854534814766094,
          0.0515144566712631,
          0.0635481298886604,
          0.0890363495063405,
          0.164798405846302,
          0.216781388979674,
          0.20941549081047,
          0.18670911465622,
          0.208508253452105,
          0.242709109129897,
          0.258314790243345,
          0.250616131699298,
          0.257693710183464,
          0.257943177049417,
          0.244450533324936,
          0.266527254553971,
          0.270838007600198,
          0.279728453168218
         ],
         "yaxis": "y"
        },
        {
         "hovertemplate": "idx=1.0<br>coef1=%{x}<br>coef2=%{y}<extra></extra>",
         "legendgroup": "1.0",
         "marker": {
          "color": "#EF553B",
          "symbol": "circle"
         },
         "mode": "markers",
         "name": "1.0",
         "orientation": "v",
         "showlegend": true,
         "type": "scatter",
         "visible": true,
         "x": [
          -0.248252734845552,
          -0.291037614750427,
          -0.237015869929865,
          -0.204486967904764,
          -0.227319344888939,
          -0.24757307084429,
          -0.246938455247507,
          -0.115881617200379,
          -0.0210464915103136,
          -0.035139510498528,
          -0.0594964674110837,
          -0.0690063095912712,
          -0.0103902839300759,
          -0.0087568427913624,
          -0.0303534209143248,
          -0.0341129564220796,
          -0.045969933455488,
          -0.0478163955256341,
          -0.048990474958068,
          -0.0460739370535938,
          -0.0390194699106786
         ],
         "xaxis": "x",
         "y": [
          -0.0617377126170075,
          -0.117078424660355,
          -0.105893544392294,
          -0.0771322353000203,
          -0.0979857997168989,
          -0.0892314261696524,
          -0.0721607349990714,
          -0.0296654353769548,
          -0.0065882464421452,
          -0.0127086319129747,
          -0.0476218981481626,
          -0.0340189691883876,
          -0.0066898580718518,
          0.002406536265824,
          -0.0086082547817921,
          -0.0176414031975366,
          -0.0348825960321352,
          -0.0357385641424457,
          -0.0366918367469732,
          -0.0378968188485314,
          -0.0348179365474423
         ],
         "yaxis": "y"
        },
        {
         "hovertemplate": "idx=2.0<br>coef1=%{x}<br>coef2=%{y}<extra></extra>",
         "legendgroup": "2.0",
         "marker": {
          "color": "#00cc96",
          "symbol": "circle"
         },
         "mode": "markers",
         "name": "2.0",
         "orientation": "v",
         "showlegend": true,
         "type": "scatter",
         "visible": true,
         "x": [
          -0.249992029666183,
          -0.309194099853055,
          -0.244960804884391,
          -0.195947994827759,
          -0.233358219330112,
          -0.262665060447641,
          -0.251458534505153,
          -0.0996325617294454,
          -0.0031372815304559,
          -0.0244958065031775,
          -0.0512525665728909,
          -0.0682241767009763,
          -0.0121835519458321,
          -0.0090205062277281,
          -0.0267508097723005,
          -0.0322887077812969,
          -0.0464832642739394,
          -0.0549932463194542,
          -0.050560535535613,
          -0.0590683566381538,
          -0.0623202398115301
         ],
         "xaxis": "x",
         "y": [
          0.015734613456643,
          -0.0383047150037495,
          -0.0256402755982315,
          0.0210479053519466,
          -0.004106744727945,
          0.0089204980230919,
          0.0254380940074642,
          0.0885518143278855,
          0.120211886087568,
          0.116391478981681,
          0.0828495387180427,
          0.0974618278728411,
          0.129791336254351,
          0.136913734722848,
          0.138212347382416,
          0.127952215972641,
          0.125094018208353,
          0.122672585634683,
          0.13511730164239,
          0.134258031201005,
          0.134899365582735
         ],
         "yaxis": "y"
        },
        {
         "hovertemplate": "idx=3.0<br>coef1=%{x}<br>coef2=%{y}<extra></extra>",
         "legendgroup": "3.0",
         "marker": {
          "color": "#ab63fa",
          "symbol": "circle"
         },
         "mode": "markers",
         "name": "3.0",
         "orientation": "v",
         "showlegend": true,
         "type": "scatter",
         "visible": true,
         "x": [
          -0.149791160428952,
          -0.230839956244838,
          -0.155148251118692,
          -0.0913183796770712,
          -0.129351200550778,
          -0.154355287960782,
          -0.127177975727484,
          0.0606624739829106,
          0.178319654149438,
          0.167326808247459,
          0.144240196393915,
          0.147535279250307,
          0.225898043512806,
          0.235628113561935,
          0.212480705007906,
          0.214708536509543,
          0.195853064625644,
          0.192480881822411,
          0.214128403070459,
          0.217331647563621,
          0.229960115663865
         ],
         "xaxis": "x",
         "y": [
          0.0895487742911178,
          0.0123168290665527,
          0.0294082873900464,
          0.0983077686815548,
          0.0676319615061494,
          0.0813704383962722,
          0.111186141516764,
          0.204062514905584,
          0.270516302944427,
          0.267540384021241,
          0.236868193126973,
          0.262910599794081,
          0.311765833402296,
          0.330637786114229,
          0.323408027697978,
          0.317031129624399,
          0.311612054147657,
          0.306149152324623,
          0.328370116865883,
          0.328296868031524,
          0.334038053175179
         ],
         "yaxis": "y"
        },
        {
         "hovertemplate": "idx=4.0<br>coef1=%{x}<br>coef2=%{y}<extra></extra>",
         "legendgroup": "4.0",
         "marker": {
          "color": "#FFA15A",
          "symbol": "circle"
         },
         "mode": "markers",
         "name": "4.0",
         "orientation": "v",
         "showlegend": true,
         "type": "scatter",
         "visible": true,
         "x": [
          -0.204543687370283,
          -0.262529160327253,
          -0.200587056956182,
          -0.162749796405113,
          -0.197728660185494,
          -0.215766407012253,
          -0.203126405121684,
          -0.0592874308118195,
          0.0381800944931317,
          0.0175357550467786,
          -0.003150489718441,
          -0.0178728542820741,
          0.0478042027024209,
          0.051437442273689,
          0.022025955286076,
          0.0268523076839479,
          0.0075726120600857,
          0.0044177806361773,
          0.0058117385273362,
          0.0040748475887269,
          0.0170945677387079
         ],
         "xaxis": "x",
         "y": [
          -0.0209446860465192,
          -0.0853450566370223,
          -0.0788598330383415,
          -0.0402045022209767,
          -0.0719420932505508,
          -0.0583217844575288,
          -0.0347712122078114,
          0.0186386442549164,
          0.0550661504664183,
          0.0432908812360348,
          0.0093414844416633,
          0.0276428347156574,
          0.0597920295969727,
          0.0723577295772102,
          0.0600249738482379,
          0.064339892407217,
          0.0578267562891454,
          0.0463469798881638,
          0.0487822659249394,
          0.0383972773676579,
          0.033981610041492
         ],
         "yaxis": "y"
        },
        {
         "hovertemplate": "idx=5.0<br>coef1=%{x}<br>coef2=%{y}<extra></extra>",
         "legendgroup": "5.0",
         "marker": {
          "color": "#19d3f3",
          "symbol": "circle"
         },
         "mode": "markers",
         "name": "5.0",
         "orientation": "v",
         "showlegend": true,
         "type": "scatter",
         "visible": true,
         "x": [
          -0.290715002685057,
          -0.36123021662994,
          -0.300297775828125,
          -0.247900908268512,
          -0.280020747817572,
          -0.30621120369417,
          -0.294037822973872,
          -0.139391475959138,
          -0.0463512401954975,
          -0.0634288084861294,
          -0.0845170479433476,
          -0.0946427219554567,
          -0.0373102701883545,
          -0.0328345633485081,
          -0.063941076186772,
          -0.063680748586406,
          -0.0806984460341494,
          -0.0830510577772735,
          -0.0884127672675891,
          -0.0919839395263998,
          -0.0829201113803659
         ],
         "xaxis": "x",
         "y": [
          0.0848778720428535,
          0.0249049085024075,
          0.0448354616161176,
          0.0941260168703518,
          0.0741243571332608,
          0.0872969474871066,
          0.106299499916825,
          0.167199449956507,
          0.203426863963877,
          0.192321156943707,
          0.163495114256456,
          0.182610647240933,
          0.215976103937833,
          0.232922805220966,
          0.221477344288193,
          0.223454667354157,
          0.220725619696766,
          0.206684615346853,
          0.217498132650822,
          0.22186252174729,
          0.220870364715037
         ],
         "yaxis": "y"
        },
        {
         "hovertemplate": "idx=6.0<br>coef1=%{x}<br>coef2=%{y}<extra></extra>",
         "legendgroup": "6.0",
         "marker": {
          "color": "#FF6692",
          "symbol": "circle"
         },
         "mode": "markers",
         "name": "6.0",
         "orientation": "v",
         "showlegend": true,
         "type": "scatter",
         "visible": true,
         "x": [
          -0.474699663419324,
          -0.492392806555339,
          -0.45224809218319,
          -0.461875685692047,
          -0.486423595883822,
          -0.510203279705067,
          -0.542495983883043,
          -0.438341857696607,
          -0.354981761094655,
          -0.362822139803302,
          -0.38857127824754,
          -0.412070506863268,
          -0.35426457692701,
          -0.357128847934022,
          -0.404434297706549,
          -0.411403274507944,
          -0.459716596556865,
          -0.466377460156204,
          -0.486708785975621,
          -0.513931268630717,
          -0.513130139356104
         ],
         "xaxis": "x",
         "y": [
          -0.237213459976707,
          -0.288031565241825,
          -0.27320734537876,
          -0.260288814928072,
          -0.284600692496324,
          -0.29521587003281,
          -0.292041946662212,
          -0.27693829538294,
          -0.270064839722606,
          -0.274971874818245,
          -0.302154133843316,
          -0.302613087473573,
          -0.279245682160504,
          -0.282696648345995,
          -0.313747241463419,
          -0.330060176228038,
          -0.361919968777983,
          -0.371720361902824,
          -0.392102710197375,
          -0.413106184711936,
          -0.424096040110073
         ],
         "yaxis": "y"
        },
        {
         "hovertemplate": "idx=7.0<br>coef1=%{x}<br>coef2=%{y}<extra></extra>",
         "legendgroup": "7.0",
         "marker": {
          "color": "#B6E880",
          "symbol": "circle"
         },
         "mode": "markers",
         "name": "7.0",
         "orientation": "v",
         "showlegend": true,
         "type": "scatter",
         "visible": true,
         "x": [
          0.127830266424229,
          0.0694608853407225,
          0.149996453244158,
          0.257828721201739,
          0.205245568480111,
          0.164286032537538,
          0.228499396284692,
          0.508192251857503,
          0.722589494963948,
          0.636424960102739,
          0.649992629281836,
          0.646911725253949,
          0.748832882104228,
          0.770555832164958,
          0.757079132612254,
          0.771686734012627,
          0.798582699884482,
          0.79604665736375,
          0.855421819134956,
          0.86744471361408,
          0.878438977704047
         ],
         "xaxis": "x",
         "y": [
          -0.181417934277893,
          -0.226671236938427,
          -0.248915215690987,
          -0.197137233499413,
          -0.240422631351193,
          -0.228204474551475,
          -0.188522944265934,
          -0.116115022118194,
          -0.0367433099328929,
          -0.0707848613419456,
          -0.11531680067171,
          -0.0937166559856997,
          -0.0514488787638735,
          -0.0398434784788884,
          -0.0516442060677673,
          -0.043636755318711,
          -0.0550862080217696,
          -0.0672325591073089,
          -0.0779591634728423,
          -0.0869173972363933,
          -0.0863739130855041
         ],
         "yaxis": "y"
        },
        {
         "hovertemplate": "idx=8.0<br>coef1=%{x}<br>coef2=%{y}<extra></extra>",
         "legendgroup": "8.0",
         "marker": {
          "color": "#FF97FF",
          "symbol": "circle"
         },
         "mode": "markers",
         "name": "8.0",
         "orientation": "v",
         "showlegend": true,
         "type": "scatter",
         "visible": true,
         "x": [
          -0.251533968931357,
          -0.313601065916986,
          -0.256095744033527,
          -0.211368235402401,
          -0.244056046009866,
          -0.268342592446653,
          -0.258767427375187,
          -0.119279026144095,
          -0.0214756913894042,
          -0.0282262816899558,
          -0.0464169519673859,
          -0.0679780016492569,
          -0.0137152386545593,
          -0.0009422805167851,
          -0.0194277306401933,
          -0.0236755690036661,
          -0.0426403519899825,
          -0.0355997399121246,
          -0.0291006853201755,
          -0.0268212631791289,
          -0.0183392512696654
         ],
         "xaxis": "x",
         "y": [
          0.0083306017884424,
          -0.052659124225133,
          -0.0360754988430334,
          0.0039138539355254,
          -0.0228071115962165,
          -0.0059043652306188,
          0.0120757232903164,
          0.0702266846795873,
          0.105315902814854,
          0.0986366942444212,
          0.0659137157581132,
          0.0831766052040832,
          0.112494399846652,
          0.122700075098828,
          0.110419543487939,
          0.113212010040539,
          0.10753784798503,
          0.102616870217544,
          0.106036627756784,
          0.100890335095056,
          0.0912437965870266
         ],
         "yaxis": "y"
        },
        {
         "hovertemplate": "idx=9.0<br>coef1=%{x}<br>coef2=%{y}<extra></extra>",
         "legendgroup": "9.0",
         "marker": {
          "color": "#FECB52",
          "symbol": "circle"
         },
         "mode": "markers",
         "name": "9.0",
         "orientation": "v",
         "showlegend": true,
         "type": "scatter",
         "visible": true,
         "x": [
          -0.359891404336342,
          -0.513963323947287,
          -0.402299887651059,
          -0.291517150160281,
          -0.359919618258661,
          -0.383961687592385,
          -0.353281295883448,
          -0.128250629737971,
          -0.0245720627924044,
          -0.0462304437176282,
          -0.082845203971647,
          -0.0840604551561864,
          -0.0310924536580294,
          -0.0191030973507456,
          -0.042005756847859,
          -0.0461790586367522,
          -0.0588550598233418,
          -0.062236724030346,
          -0.0678589127418044,
          -0.0731343360627708,
          -0.083529310477706
         ],
         "xaxis": "x",
         "y": [
          0.577165928640547,
          0.454228388130779,
          0.499199654364625,
          0.597109524484825,
          0.56038698517086,
          0.586704418829957,
          0.622736014693325,
          0.790749644672595,
          0.861675261828912,
          0.821413818386631,
          0.791578604530101,
          0.846239744139946,
          0.889620259204946,
          0.920969745633922,
          0.92736398938412,
          0.928042142207464,
          0.960300039379549,
          0.950869405373102,
          1.00104802030458,
          1.01354003859288,
          1.00774776712004
         ],
         "yaxis": "y"
        },
        {
         "hovertemplate": "idx=10.0<br>coef1=%{x}<br>coef2=%{y}<extra></extra>",
         "legendgroup": "10.0",
         "marker": {
          "color": "#636efa",
          "symbol": "circle"
         },
         "mode": "markers",
         "name": "10.0",
         "orientation": "v",
         "showlegend": true,
         "type": "scatter",
         "visible": true,
         "x": [
          -0.139629392209536,
          -0.193378458432076,
          -0.142614004725946,
          -0.0990182591550886,
          -0.124129073327986,
          -0.145739882423781,
          -0.129231369481438,
          0.0215381129066795,
          0.11591537606925,
          0.097565892359778,
          0.0794932638498303,
          0.0808846160505309,
          0.145545356592332,
          0.154853395938136,
          0.133669002524614,
          0.13214491732764,
          0.121855925886937,
          0.121506478240744,
          0.135503781762048,
          0.144031816351418,
          0.150999613048858
         ],
         "xaxis": "x",
         "y": [
          -0.0706935410938208,
          -0.12209049497223,
          -0.119149783943192,
          -0.0846401090059262,
          -0.116833638852904,
          -0.1024630498275,
          -0.0796672927122737,
          -0.0347744859023415,
          -0.0028122163231447,
          -0.0072473842698215,
          -0.0479447192798419,
          -0.0297541231366576,
          -0.001189556698398,
          0.0001630998343683,
          -0.0118139788301175,
          -0.0243127518901794,
          -0.040213948260933,
          -0.0522839313294901,
          -0.0588770249582431,
          -0.0677790601088697,
          -0.0751482103475952
         ],
         "yaxis": "y"
        },
        {
         "hovertemplate": "idx=11.0<br>coef1=%{x}<br>coef2=%{y}<extra></extra>",
         "legendgroup": "11.0",
         "marker": {
          "color": "#EF553B",
          "symbol": "circle"
         },
         "mode": "markers",
         "name": "11.0",
         "orientation": "v",
         "showlegend": true,
         "type": "scatter",
         "visible": true,
         "x": [
          -0.22983651804525,
          -0.297035586832385,
          -0.230231613233707,
          -0.182604312043605,
          -0.221809733152835,
          -0.247635297827835,
          -0.235142351523673,
          -0.084159209472056,
          0.003180614990944,
          -0.0116244611580853,
          -0.042888369597665,
          -0.060783964017049,
          -0.0130318034247713,
          -0.0052352696495985,
          -0.024866053816438,
          -0.0181474885710469,
          -0.0368448890856645,
          -0.0386653457404778,
          -0.0345500819682359,
          -0.0376318070845444,
          -0.0333930518425607
         ],
         "xaxis": "x",
         "y": [
          0.0509675308310019,
          -0.0074036590915626,
          0.0016685377950711,
          0.0490511565918171,
          0.0277046251424953,
          0.044120552829925,
          0.0661771660349152,
          0.126047607761914,
          0.167427098295466,
          0.158421283195514,
          0.127163310792656,
          0.138645487572607,
          0.176774722731338,
          0.184049526547118,
          0.17394689942375,
          0.183050784213254,
          0.184483984344239,
          0.185349318964498,
          0.199709365126711,
          0.20022370838481,
          0.204407421062264
         ],
         "yaxis": "y"
        },
        {
         "hovertemplate": "idx=12.0<br>coef1=%{x}<br>coef2=%{y}<extra></extra>",
         "legendgroup": "12.0",
         "marker": {
          "color": "#00cc96",
          "symbol": "circle"
         },
         "mode": "markers",
         "name": "12.0",
         "orientation": "v",
         "showlegend": true,
         "type": "scatter",
         "visible": true,
         "x": [
          -0.132917750141268,
          -0.0741330043331192,
          -0.0787658032875987,
          -0.111060657162438,
          -0.106853027614695,
          -0.11835932955641,
          -0.131546383604958,
          -0.0844822504438768,
          -0.0067240255292441,
          -0.0230712295677242,
          -0.0349282448254102,
          -0.0474158841752712,
          -0.0049265680083968,
          0.0110001109064979,
          -0.0099642983813217,
          -0.010006915312386,
          -0.0149306667387111,
          -0.0109325638267534,
          -0.0122058327436084,
          -0.0069380967046173,
          -0.0099961589942019
         ],
         "xaxis": "x",
         "y": [
          -0.738386074568384,
          -0.727954041571018,
          -0.764071726773358,
          -0.760905553176977,
          -0.773871500689643,
          -0.766849800909411,
          -0.775363477308778,
          -0.823680862503115,
          -0.835862545614855,
          -0.817029239948909,
          -0.857510777983905,
          -0.856008249713961,
          -0.847145413342582,
          -0.84652163662365,
          -0.866838409700615,
          -0.875648942947398,
          -0.92030201536677,
          -0.924234183137522,
          -0.973974253578368,
          -0.994278626411832,
          -1.00200803067301
         ],
         "yaxis": "y"
        },
        {
         "hovertemplate": "idx=13.0<br>coef1=%{x}<br>coef2=%{y}<extra></extra>",
         "legendgroup": "13.0",
         "marker": {
          "color": "#ab63fa",
          "symbol": "circle"
         },
         "mode": "markers",
         "name": "13.0",
         "orientation": "v",
         "showlegend": true,
         "type": "scatter",
         "visible": true,
         "x": [
          -0.350755389139966,
          -0.458450586063891,
          -0.366805589683015,
          -0.329281304693073,
          -0.383912420186473,
          -0.41984022193521,
          -0.423317549036074,
          -0.242060012902267,
          -0.142562038060645,
          -0.157976060707839,
          -0.200870911649793,
          -0.233906869439962,
          -0.145076001516363,
          -0.160313864186023,
          -0.214508960289405,
          -0.212579008330177,
          -0.248831989387686,
          -0.257090349924104,
          -0.255016525612075,
          -0.276472448207586,
          -0.265094406409953
         ],
         "xaxis": "x",
         "y": [
          0.242682280445287,
          0.135135495009129,
          0.172532763311213,
          0.223239367035577,
          0.184318073977863,
          0.185310180506375,
          0.206689461983544,
          0.287297454844561,
          0.335129915505733,
          0.326122627885568,
          0.287262904452773,
          0.286469923788322,
          0.326946096497417,
          0.320810670141079,
          0.290992244490219,
          0.297640327552197,
          0.29361471953272,
          0.270497160804668,
          0.287025033757767,
          0.281500106300117,
          0.288909188194204
         ],
         "yaxis": "y"
        },
        {
         "hovertemplate": "idx=14.0<br>coef1=%{x}<br>coef2=%{y}<extra></extra>",
         "legendgroup": "14.0",
         "marker": {
          "color": "#FFA15A",
          "symbol": "circle"
         },
         "mode": "markers",
         "name": "14.0",
         "orientation": "v",
         "showlegend": true,
         "type": "scatter",
         "visible": true,
         "x": [
          -0.0580448917678614,
          -0.11264050372621,
          -0.0495621588467766,
          -0.0072909914250106,
          -0.0459378194894142,
          -0.0834670901838093,
          -0.0767302614100518,
          0.0909954168702917,
          0.2217536462793,
          0.199482423373001,
          0.187285643950359,
          0.158388219386721,
          0.230225516547768,
          0.223501753785895,
          0.188239175821666,
          0.197517705134301,
          0.184084444730055,
          0.184330563434473,
          0.207640487771166,
          0.207102519895945,
          0.219737702328493
         ],
         "xaxis": "x",
         "y": [
          -0.0940646812219415,
          -0.139922785623604,
          -0.133042021438897,
          -0.0973419869936957,
          -0.130550444664117,
          -0.122729427362797,
          -0.10344033397474,
          -0.0478809257530186,
          0.0072617569832126,
          -5.50833962163766e-05,
          -0.0317857432679542,
          -0.0244881651284428,
          0.0191756963247533,
          0.0236749029947145,
          0.0009921806356118,
          0.0118085995136249,
          -0.0043627329587743,
          -0.0159363842230128,
          -0.0009109781706986,
          0.0039886128433863,
          0.0055771248848379
         ],
         "yaxis": "y"
        },
        {
         "hovertemplate": "idx=15.0<br>coef1=%{x}<br>coef2=%{y}<extra></extra>",
         "legendgroup": "15.0",
         "marker": {
          "color": "#19d3f3",
          "symbol": "circle"
         },
         "mode": "markers",
         "name": "15.0",
         "orientation": "v",
         "showlegend": true,
         "type": "scatter",
         "visible": true,
         "x": [
          0.11014452083086,
          -0.008303525847454,
          0.0889947327739496,
          0.125544402779823,
          0.0946876050147588,
          0.0488227888556796,
          0.0726627929433942,
          0.251013885807039,
          0.35808475061203,
          0.353836435491358,
          0.311026054567254,
          0.302463013039001,
          0.407461548550571,
          0.410624208397712,
          0.362099386003577,
          0.347610302280222,
          0.315488659974367,
          0.292613522405087,
          0.306006197989987,
          0.290249371316886,
          0.296743634181782
         ],
         "xaxis": "x",
         "y": [
          -0.0686106020302421,
          -0.166552008667788,
          -0.173180188424828,
          -0.105687168363203,
          -0.141371287272096,
          -0.132211156160769,
          -0.10408081644742,
          -0.0273141305915357,
          0.0210976308159611,
          0.0245187508409849,
          -0.017815227402542,
          -0.0152198778619712,
          0.0389688006300297,
          0.036754656396698,
          0.0035028878713608,
          -0.0103963904306825,
          -0.0360957801037525,
          -0.0556861666873048,
          -0.0599310127489105,
          -0.0870275189556839,
          -0.0989624451307132
         ],
         "yaxis": "y"
        },
        {
         "hovertemplate": "idx=16.0<br>coef1=%{x}<br>coef2=%{y}<extra></extra>",
         "legendgroup": "16.0",
         "marker": {
          "color": "#FF6692",
          "symbol": "circle"
         },
         "mode": "markers",
         "name": "16.0",
         "orientation": "v",
         "showlegend": true,
         "type": "scatter",
         "visible": true,
         "x": [
          -0.797130334411056,
          -0.830177674801931,
          -0.771002129743379,
          -0.78368161122418,
          -0.821899399100483,
          -0.841662496367863,
          -0.876491042457925,
          -0.801476524179466,
          -0.750384100183341,
          -0.753194127577055,
          -0.784187922593521,
          -0.821355706157557,
          -0.789130705405961,
          -0.790280909808818,
          -0.823232998714901,
          -0.826384518366178,
          -0.884885804358508,
          -0.879448899743451,
          -0.931675600569865,
          -0.94320323345756,
          -0.939339421357617
         ],
         "xaxis": "x",
         "y": [
          0.0036238349097484,
          -0.0398848145534626,
          -0.0103939800023535,
          0.0196748436154255,
          0.0041097909182865,
          0.0103296516049613,
          0.0223958179967693,
          0.0298321979138781,
          0.0150456806003725,
          0.0093750095866889,
          -0.0092710423344602,
          0.0099380244970379,
          0.0111388068847284,
          0.0207748837238312,
          0.0207014521295842,
          0.0298773070941822,
          0.0330288204296472,
          0.0298496401943337,
          0.0232801676286447,
          0.0308165515821391,
          0.03407558535001
         ],
         "yaxis": "y"
        },
        {
         "hovertemplate": "idx=17.0<br>coef1=%{x}<br>coef2=%{y}<extra></extra>",
         "legendgroup": "17.0",
         "marker": {
          "color": "#B6E880",
          "symbol": "circle"
         },
         "mode": "markers",
         "name": "17.0",
         "orientation": "v",
         "showlegend": true,
         "type": "scatter",
         "visible": true,
         "x": [
          -0.136077007317837,
          -0.177496310702613,
          -0.131166715201499,
          -0.0888870340068535,
          -0.115065443488175,
          -0.142382728861041,
          -0.12934322084724,
          0.0012458183770427,
          0.0934970637505148,
          0.0845400954767412,
          0.0670488641815334,
          0.0551762133772742,
          0.110841046641978,
          0.121779728487705,
          0.113959933910964,
          0.125449332146616,
          0.117512158463725,
          0.12114382571269,
          0.132559876896413,
          0.138484620260944,
          0.147161230278317
         ],
         "xaxis": "x",
         "y": [
          -0.1062580709492,
          -0.159515964161614,
          -0.160824943546956,
          -0.134057954510579,
          -0.162824234843823,
          -0.150644493003303,
          -0.140960975127645,
          -0.101158363632271,
          -0.0770277675557355,
          -0.0835751033563519,
          -0.125139727911612,
          -0.11156456854722,
          -0.0877921258637432,
          -0.0854303603491573,
          -0.0938676651159338,
          -0.0955722283154202,
          -0.110108423482348,
          -0.11416708392449,
          -0.123702966859137,
          -0.132413549623208,
          -0.133838497261468
         ],
         "yaxis": "y"
        },
        {
         "hovertemplate": "idx=18.0<br>coef1=%{x}<br>coef2=%{y}<extra></extra>",
         "legendgroup": "18.0",
         "marker": {
          "color": "#FF97FF",
          "symbol": "circle"
         },
         "mode": "markers",
         "name": "18.0",
         "orientation": "v",
         "showlegend": true,
         "type": "scatter",
         "visible": true,
         "x": [
          -0.222965417374141,
          -0.25174173220075,
          -0.204405094528471,
          -0.17342094309768,
          -0.201406553261084,
          -0.221416593985429,
          -0.217296325630524,
          -0.100445787933276,
          -0.0180992783931625,
          -0.0348193336548597,
          -0.0603783490281571,
          -0.0786585890064765,
          -0.0185195937712761,
          -0.0218525559533056,
          -0.0446449112539858,
          -0.0392570697807882,
          -0.0537772567031058,
          -0.0618215975836141,
          -0.0583047894009115,
          -0.0686996728228571,
          -0.0552229768036468
         ],
         "xaxis": "x",
         "y": [
          -0.145765474429985,
          -0.188224218479968,
          -0.183449364635449,
          -0.157312889415747,
          -0.182482963064622,
          -0.168658049738412,
          -0.161962660911839,
          -0.125758422279183,
          -0.11017833294334,
          -0.115460991038452,
          -0.146938302379895,
          -0.138833665681488,
          -0.112910635070261,
          -0.113845739266616,
          -0.127648001358026,
          -0.129096771675843,
          -0.153191031762214,
          -0.163850713079481,
          -0.181111904902656,
          -0.199342940101684,
          -0.194725558169279
         ],
         "yaxis": "y"
        },
        {
         "hovertemplate": "idx=19.0<br>coef1=%{x}<br>coef2=%{y}<extra></extra>",
         "legendgroup": "19.0",
         "marker": {
          "color": "#FECB52",
          "symbol": "circle"
         },
         "mode": "markers",
         "name": "19.0",
         "orientation": "v",
         "showlegend": true,
         "type": "scatter",
         "visible": true,
         "x": [
          -0.294929695186862,
          -0.359757002784187,
          -0.291824173233754,
          -0.249908466170573,
          -0.292880557862622,
          -0.308499842714417,
          -0.305896666138568,
          -0.180812660710458,
          -0.106728878606823,
          -0.116898943283683,
          -0.144090104506979,
          -0.160959268400234,
          -0.10849599570312,
          -0.119215514050459,
          -0.146070258975039,
          -0.154611776958612,
          -0.176372675961028,
          -0.180767197680696,
          -0.185127055820711,
          -0.197104221301994,
          -0.192533712484419
         ],
         "xaxis": "x",
         "y": [
          0.0430855275466089,
          -0.0153133081882034,
          -0.0034745691320107,
          0.0288666013496348,
          0.0074773159025283,
          0.0243676876369729,
          0.0414528326187564,
          0.0861481480825685,
          0.108392720955079,
          0.103973194243296,
          0.0788359357482777,
          0.0941948240618103,
          0.121792014785213,
          0.120301519581481,
          0.117062315710726,
          0.113204250942122,
          0.106092078173215,
          0.0963487153032999,
          0.103862506980185,
          0.101274809643621,
          0.101525823267233
         ],
         "yaxis": "y"
        }
       ],
       "layout": {
        "autosize": true,
        "legend": {
         "title": {
          "text": "idx"
         },
         "tracegroupgap": 0
        },
        "margin": {
         "t": 60
        },
        "template": {
         "data": {
          "bar": [
           {
            "error_x": {
             "color": "#2a3f5f"
            },
            "error_y": {
             "color": "#2a3f5f"
            },
            "marker": {
             "line": {
              "color": "#E5ECF6",
              "width": 0.5
             },
             "pattern": {
              "fillmode": "overlay",
              "size": 10,
              "solidity": 0.2
             }
            },
            "type": "bar"
           }
          ],
          "barpolar": [
           {
            "marker": {
             "line": {
              "color": "#E5ECF6",
              "width": 0.5
             },
             "pattern": {
              "fillmode": "overlay",
              "size": 10,
              "solidity": 0.2
             }
            },
            "type": "barpolar"
           }
          ],
          "carpet": [
           {
            "aaxis": {
             "endlinecolor": "#2a3f5f",
             "gridcolor": "white",
             "linecolor": "white",
             "minorgridcolor": "white",
             "startlinecolor": "#2a3f5f"
            },
            "baxis": {
             "endlinecolor": "#2a3f5f",
             "gridcolor": "white",
             "linecolor": "white",
             "minorgridcolor": "white",
             "startlinecolor": "#2a3f5f"
            },
            "type": "carpet"
           }
          ],
          "choropleth": [
           {
            "colorbar": {
             "outlinewidth": 0,
             "ticks": ""
            },
            "type": "choropleth"
           }
          ],
          "contour": [
           {
            "colorbar": {
             "outlinewidth": 0,
             "ticks": ""
            },
            "colorscale": [
             [
              0,
              "#0d0887"
             ],
             [
              0.1111111111111111,
              "#46039f"
             ],
             [
              0.2222222222222222,
              "#7201a8"
             ],
             [
              0.3333333333333333,
              "#9c179e"
             ],
             [
              0.4444444444444444,
              "#bd3786"
             ],
             [
              0.5555555555555556,
              "#d8576b"
             ],
             [
              0.6666666666666666,
              "#ed7953"
             ],
             [
              0.7777777777777778,
              "#fb9f3a"
             ],
             [
              0.8888888888888888,
              "#fdca26"
             ],
             [
              1,
              "#f0f921"
             ]
            ],
            "type": "contour"
           }
          ],
          "contourcarpet": [
           {
            "colorbar": {
             "outlinewidth": 0,
             "ticks": ""
            },
            "type": "contourcarpet"
           }
          ],
          "heatmap": [
           {
            "colorbar": {
             "outlinewidth": 0,
             "ticks": ""
            },
            "colorscale": [
             [
              0,
              "#0d0887"
             ],
             [
              0.1111111111111111,
              "#46039f"
             ],
             [
              0.2222222222222222,
              "#7201a8"
             ],
             [
              0.3333333333333333,
              "#9c179e"
             ],
             [
              0.4444444444444444,
              "#bd3786"
             ],
             [
              0.5555555555555556,
              "#d8576b"
             ],
             [
              0.6666666666666666,
              "#ed7953"
             ],
             [
              0.7777777777777778,
              "#fb9f3a"
             ],
             [
              0.8888888888888888,
              "#fdca26"
             ],
             [
              1,
              "#f0f921"
             ]
            ],
            "type": "heatmap"
           }
          ],
          "heatmapgl": [
           {
            "colorbar": {
             "outlinewidth": 0,
             "ticks": ""
            },
            "colorscale": [
             [
              0,
              "#0d0887"
             ],
             [
              0.1111111111111111,
              "#46039f"
             ],
             [
              0.2222222222222222,
              "#7201a8"
             ],
             [
              0.3333333333333333,
              "#9c179e"
             ],
             [
              0.4444444444444444,
              "#bd3786"
             ],
             [
              0.5555555555555556,
              "#d8576b"
             ],
             [
              0.6666666666666666,
              "#ed7953"
             ],
             [
              0.7777777777777778,
              "#fb9f3a"
             ],
             [
              0.8888888888888888,
              "#fdca26"
             ],
             [
              1,
              "#f0f921"
             ]
            ],
            "type": "heatmapgl"
           }
          ],
          "histogram": [
           {
            "marker": {
             "pattern": {
              "fillmode": "overlay",
              "size": 10,
              "solidity": 0.2
             }
            },
            "type": "histogram"
           }
          ],
          "histogram2d": [
           {
            "colorbar": {
             "outlinewidth": 0,
             "ticks": ""
            },
            "colorscale": [
             [
              0,
              "#0d0887"
             ],
             [
              0.1111111111111111,
              "#46039f"
             ],
             [
              0.2222222222222222,
              "#7201a8"
             ],
             [
              0.3333333333333333,
              "#9c179e"
             ],
             [
              0.4444444444444444,
              "#bd3786"
             ],
             [
              0.5555555555555556,
              "#d8576b"
             ],
             [
              0.6666666666666666,
              "#ed7953"
             ],
             [
              0.7777777777777778,
              "#fb9f3a"
             ],
             [
              0.8888888888888888,
              "#fdca26"
             ],
             [
              1,
              "#f0f921"
             ]
            ],
            "type": "histogram2d"
           }
          ],
          "histogram2dcontour": [
           {
            "colorbar": {
             "outlinewidth": 0,
             "ticks": ""
            },
            "colorscale": [
             [
              0,
              "#0d0887"
             ],
             [
              0.1111111111111111,
              "#46039f"
             ],
             [
              0.2222222222222222,
              "#7201a8"
             ],
             [
              0.3333333333333333,
              "#9c179e"
             ],
             [
              0.4444444444444444,
              "#bd3786"
             ],
             [
              0.5555555555555556,
              "#d8576b"
             ],
             [
              0.6666666666666666,
              "#ed7953"
             ],
             [
              0.7777777777777778,
              "#fb9f3a"
             ],
             [
              0.8888888888888888,
              "#fdca26"
             ],
             [
              1,
              "#f0f921"
             ]
            ],
            "type": "histogram2dcontour"
           }
          ],
          "mesh3d": [
           {
            "colorbar": {
             "outlinewidth": 0,
             "ticks": ""
            },
            "type": "mesh3d"
           }
          ],
          "parcoords": [
           {
            "line": {
             "colorbar": {
              "outlinewidth": 0,
              "ticks": ""
             }
            },
            "type": "parcoords"
           }
          ],
          "pie": [
           {
            "automargin": true,
            "type": "pie"
           }
          ],
          "scatter": [
           {
            "marker": {
             "colorbar": {
              "outlinewidth": 0,
              "ticks": ""
             }
            },
            "type": "scatter"
           }
          ],
          "scatter3d": [
           {
            "line": {
             "colorbar": {
              "outlinewidth": 0,
              "ticks": ""
             }
            },
            "marker": {
             "colorbar": {
              "outlinewidth": 0,
              "ticks": ""
             }
            },
            "type": "scatter3d"
           }
          ],
          "scattercarpet": [
           {
            "marker": {
             "colorbar": {
              "outlinewidth": 0,
              "ticks": ""
             }
            },
            "type": "scattercarpet"
           }
          ],
          "scattergeo": [
           {
            "marker": {
             "colorbar": {
              "outlinewidth": 0,
              "ticks": ""
             }
            },
            "type": "scattergeo"
           }
          ],
          "scattergl": [
           {
            "marker": {
             "colorbar": {
              "outlinewidth": 0,
              "ticks": ""
             }
            },
            "type": "scattergl"
           }
          ],
          "scattermapbox": [
           {
            "marker": {
             "colorbar": {
              "outlinewidth": 0,
              "ticks": ""
             }
            },
            "type": "scattermapbox"
           }
          ],
          "scatterpolar": [
           {
            "marker": {
             "colorbar": {
              "outlinewidth": 0,
              "ticks": ""
             }
            },
            "type": "scatterpolar"
           }
          ],
          "scatterpolargl": [
           {
            "marker": {
             "colorbar": {
              "outlinewidth": 0,
              "ticks": ""
             }
            },
            "type": "scatterpolargl"
           }
          ],
          "scatterternary": [
           {
            "marker": {
             "colorbar": {
              "outlinewidth": 0,
              "ticks": ""
             }
            },
            "type": "scatterternary"
           }
          ],
          "surface": [
           {
            "colorbar": {
             "outlinewidth": 0,
             "ticks": ""
            },
            "colorscale": [
             [
              0,
              "#0d0887"
             ],
             [
              0.1111111111111111,
              "#46039f"
             ],
             [
              0.2222222222222222,
              "#7201a8"
             ],
             [
              0.3333333333333333,
              "#9c179e"
             ],
             [
              0.4444444444444444,
              "#bd3786"
             ],
             [
              0.5555555555555556,
              "#d8576b"
             ],
             [
              0.6666666666666666,
              "#ed7953"
             ],
             [
              0.7777777777777778,
              "#fb9f3a"
             ],
             [
              0.8888888888888888,
              "#fdca26"
             ],
             [
              1,
              "#f0f921"
             ]
            ],
            "type": "surface"
           }
          ],
          "table": [
           {
            "cells": {
             "fill": {
              "color": "#EBF0F8"
             },
             "line": {
              "color": "white"
             }
            },
            "header": {
             "fill": {
              "color": "#C8D4E3"
             },
             "line": {
              "color": "white"
             }
            },
            "type": "table"
           }
          ]
         },
         "layout": {
          "annotationdefaults": {
           "arrowcolor": "#2a3f5f",
           "arrowhead": 0,
           "arrowwidth": 1
          },
          "autotypenumbers": "strict",
          "coloraxis": {
           "colorbar": {
            "outlinewidth": 0,
            "ticks": ""
           }
          },
          "colorscale": {
           "diverging": [
            [
             0,
             "#8e0152"
            ],
            [
             0.1,
             "#c51b7d"
            ],
            [
             0.2,
             "#de77ae"
            ],
            [
             0.3,
             "#f1b6da"
            ],
            [
             0.4,
             "#fde0ef"
            ],
            [
             0.5,
             "#f7f7f7"
            ],
            [
             0.6,
             "#e6f5d0"
            ],
            [
             0.7,
             "#b8e186"
            ],
            [
             0.8,
             "#7fbc41"
            ],
            [
             0.9,
             "#4d9221"
            ],
            [
             1,
             "#276419"
            ]
           ],
           "sequential": [
            [
             0,
             "#0d0887"
            ],
            [
             0.1111111111111111,
             "#46039f"
            ],
            [
             0.2222222222222222,
             "#7201a8"
            ],
            [
             0.3333333333333333,
             "#9c179e"
            ],
            [
             0.4444444444444444,
             "#bd3786"
            ],
            [
             0.5555555555555556,
             "#d8576b"
            ],
            [
             0.6666666666666666,
             "#ed7953"
            ],
            [
             0.7777777777777778,
             "#fb9f3a"
            ],
            [
             0.8888888888888888,
             "#fdca26"
            ],
            [
             1,
             "#f0f921"
            ]
           ],
           "sequentialminus": [
            [
             0,
             "#0d0887"
            ],
            [
             0.1111111111111111,
             "#46039f"
            ],
            [
             0.2222222222222222,
             "#7201a8"
            ],
            [
             0.3333333333333333,
             "#9c179e"
            ],
            [
             0.4444444444444444,
             "#bd3786"
            ],
            [
             0.5555555555555556,
             "#d8576b"
            ],
            [
             0.6666666666666666,
             "#ed7953"
            ],
            [
             0.7777777777777778,
             "#fb9f3a"
            ],
            [
             0.8888888888888888,
             "#fdca26"
            ],
            [
             1,
             "#f0f921"
            ]
           ]
          },
          "colorway": [
           "#636efa",
           "#EF553B",
           "#00cc96",
           "#ab63fa",
           "#FFA15A",
           "#19d3f3",
           "#FF6692",
           "#B6E880",
           "#FF97FF",
           "#FECB52"
          ],
          "font": {
           "color": "#2a3f5f"
          },
          "geo": {
           "bgcolor": "white",
           "lakecolor": "white",
           "landcolor": "#E5ECF6",
           "showlakes": true,
           "showland": true,
           "subunitcolor": "white"
          },
          "hoverlabel": {
           "align": "left"
          },
          "hovermode": "closest",
          "mapbox": {
           "style": "light"
          },
          "paper_bgcolor": "white",
          "plot_bgcolor": "#E5ECF6",
          "polar": {
           "angularaxis": {
            "gridcolor": "white",
            "linecolor": "white",
            "ticks": ""
           },
           "bgcolor": "#E5ECF6",
           "radialaxis": {
            "gridcolor": "white",
            "linecolor": "white",
            "ticks": ""
           }
          },
          "scene": {
           "xaxis": {
            "backgroundcolor": "#E5ECF6",
            "gridcolor": "white",
            "gridwidth": 2,
            "linecolor": "white",
            "showbackground": true,
            "ticks": "",
            "zerolinecolor": "white"
           },
           "yaxis": {
            "backgroundcolor": "#E5ECF6",
            "gridcolor": "white",
            "gridwidth": 2,
            "linecolor": "white",
            "showbackground": true,
            "ticks": "",
            "zerolinecolor": "white"
           },
           "zaxis": {
            "backgroundcolor": "#E5ECF6",
            "gridcolor": "white",
            "gridwidth": 2,
            "linecolor": "white",
            "showbackground": true,
            "ticks": "",
            "zerolinecolor": "white"
           }
          },
          "shapedefaults": {
           "line": {
            "color": "#2a3f5f"
           }
          },
          "ternary": {
           "aaxis": {
            "gridcolor": "white",
            "linecolor": "white",
            "ticks": ""
           },
           "baxis": {
            "gridcolor": "white",
            "linecolor": "white",
            "ticks": ""
           },
           "bgcolor": "#E5ECF6",
           "caxis": {
            "gridcolor": "white",
            "linecolor": "white",
            "ticks": ""
           }
          },
          "title": {
           "x": 0.05
          },
          "xaxis": {
           "automargin": true,
           "gridcolor": "white",
           "linecolor": "white",
           "ticks": "",
           "title": {
            "standoff": 15
           },
           "zerolinecolor": "white",
           "zerolinewidth": 2
          },
          "yaxis": {
           "automargin": true,
           "gridcolor": "white",
           "linecolor": "white",
           "ticks": "",
           "title": {
            "standoff": 15
           },
           "zerolinecolor": "white",
           "zerolinewidth": 2
          }
         }
        },
        "xaxis": {
         "anchor": "y",
         "autorange": false,
         "domain": [
          0,
          1
         ],
         "range": [
          -1.0565285235465947,
          0.9917642677930818
         ],
         "title": {
          "text": "coef1"
         },
         "type": "linear"
        },
        "yaxis": {
         "anchor": "x",
         "autorange": false,
         "domain": [
          0,
          1
         ],
         "range": [
          -1.158067526849765,
          1.169599534769635
         ],
         "title": {
          "text": "coef2"
         },
         "type": "linear"
        }
       }
      },
      "image/png": "[encoded data removed]",
      "text/html": [
       "<div>                            <div id=\"fc03fd65-7c04-4499-811f-6a7f975ece8b\" class=\"plotly-graph-div\" style=\"height:525px; width:100%;\"></div>            <script type=\"text/javascript\">                require([\"plotly\"], function(Plotly) {                    window.PLOTLYENV=window.PLOTLYENV || {};                                    if (document.getElementById(\"fc03fd65-7c04-4499-811f-6a7f975ece8b\")) {                    Plotly.newPlot(                        \"fc03fd65-7c04-4499-811f-6a7f975ece8b\",                        [{\"hovertemplate\":\"idx=0.0<br>coef1=%{x}<br>coef2=%{y}<extra></extra>\",\"legendgroup\":\"0.0\",\"marker\":{\"color\":\"#636efa\",\"symbol\":\"circle\"},\"mode\":\"markers\",\"name\":\"0.0\",\"orientation\":\"v\",\"showlegend\":true,\"x\":[-0.212370784598067,-0.284817885433304,-0.21221781626079,-0.16527532707806,-0.207052159053607,-0.231287949946812,-0.219095593789215,-0.0591833326016932,0.0481382469012673,0.0291805409513308,0.0121231011961983,-0.0087861722306469,0.0515679864805186,0.0532095385575526,0.0271485099060513,0.0359585832549241,0.0229427444353908,0.0257370026109613,0.0344317652736275,0.0413820584378328,0.0513833253138915],\"xaxis\":\"x\",\"y\":[0.0760277031148819,0.0172090577866779,0.0320238914060622,0.0854534814766094,0.0515144566712631,0.0635481298886604,0.0890363495063405,0.164798405846302,0.216781388979674,0.20941549081047,0.18670911465622,0.208508253452105,0.242709109129897,0.258314790243345,0.250616131699298,0.257693710183464,0.257943177049417,0.244450533324936,0.266527254553971,0.270838007600198,0.279728453168218],\"yaxis\":\"y\",\"type\":\"scatter\"},{\"hovertemplate\":\"idx=1.0<br>coef1=%{x}<br>coef2=%{y}<extra></extra>\",\"legendgroup\":\"1.0\",\"marker\":{\"color\":\"#EF553B\",\"symbol\":\"circle\"},\"mode\":\"markers\",\"name\":\"1.0\",\"orientation\":\"v\",\"showlegend\":true,\"x\":[-0.248252734845552,-0.291037614750427,-0.237015869929865,-0.204486967904764,-0.227319344888939,-0.24757307084429,-0.246938455247507,-0.115881617200379,-0.0210464915103136,-0.035139510498528,-0.0594964674110837,-0.0690063095912712,-0.0103902839300759,-0.0087568427913624,-0.0303534209143248,-0.0341129564220796,-0.045969933455488,-0.0478163955256341,-0.048990474958068,-0.0460739370535938,-0.0390194699106786],\"xaxis\":\"x\",\"y\":[-0.0617377126170075,-0.117078424660355,-0.105893544392294,-0.0771322353000203,-0.0979857997168989,-0.0892314261696524,-0.0721607349990714,-0.0296654353769548,-0.0065882464421452,-0.0127086319129747,-0.0476218981481626,-0.0340189691883876,-0.0066898580718518,0.002406536265824,-0.0086082547817921,-0.0176414031975366,-0.0348825960321352,-0.0357385641424457,-0.0366918367469732,-0.0378968188485314,-0.0348179365474423],\"yaxis\":\"y\",\"type\":\"scatter\"},{\"hovertemplate\":\"idx=2.0<br>coef1=%{x}<br>coef2=%{y}<extra></extra>\",\"legendgroup\":\"2.0\",\"marker\":{\"color\":\"#00cc96\",\"symbol\":\"circle\"},\"mode\":\"markers\",\"name\":\"2.0\",\"orientation\":\"v\",\"showlegend\":true,\"x\":[-0.249992029666183,-0.309194099853055,-0.244960804884391,-0.195947994827759,-0.233358219330112,-0.262665060447641,-0.251458534505153,-0.0996325617294454,-0.0031372815304559,-0.0244958065031775,-0.0512525665728909,-0.0682241767009763,-0.0121835519458321,-0.0090205062277281,-0.0267508097723005,-0.0322887077812969,-0.0464832642739394,-0.0549932463194542,-0.050560535535613,-0.0590683566381538,-0.0623202398115301],\"xaxis\":\"x\",\"y\":[0.015734613456643,-0.0383047150037495,-0.0256402755982315,0.0210479053519466,-0.004106744727945,0.0089204980230919,0.0254380940074642,0.0885518143278855,0.120211886087568,0.116391478981681,0.0828495387180427,0.0974618278728411,0.129791336254351,0.136913734722848,0.138212347382416,0.127952215972641,0.125094018208353,0.122672585634683,0.13511730164239,0.134258031201005,0.134899365582735],\"yaxis\":\"y\",\"type\":\"scatter\"},{\"hovertemplate\":\"idx=3.0<br>coef1=%{x}<br>coef2=%{y}<extra></extra>\",\"legendgroup\":\"3.0\",\"marker\":{\"color\":\"#ab63fa\",\"symbol\":\"circle\"},\"mode\":\"markers\",\"name\":\"3.0\",\"orientation\":\"v\",\"showlegend\":true,\"x\":[-0.149791160428952,-0.230839956244838,-0.155148251118692,-0.0913183796770712,-0.129351200550778,-0.154355287960782,-0.127177975727484,0.0606624739829106,0.178319654149438,0.167326808247459,0.144240196393915,0.147535279250307,0.225898043512806,0.235628113561935,0.212480705007906,0.214708536509543,0.195853064625644,0.192480881822411,0.214128403070459,0.217331647563621,0.229960115663865],\"xaxis\":\"x\",\"y\":[0.0895487742911178,0.0123168290665527,0.0294082873900464,0.0983077686815548,0.0676319615061494,0.0813704383962722,0.111186141516764,0.204062514905584,0.270516302944427,0.267540384021241,0.236868193126973,0.262910599794081,0.311765833402296,0.330637786114229,0.323408027697978,0.317031129624399,0.311612054147657,0.306149152324623,0.328370116865883,0.328296868031524,0.334038053175179],\"yaxis\":\"y\",\"type\":\"scatter\"},{\"hovertemplate\":\"idx=4.0<br>coef1=%{x}<br>coef2=%{y}<extra></extra>\",\"legendgroup\":\"4.0\",\"marker\":{\"color\":\"#FFA15A\",\"symbol\":\"circle\"},\"mode\":\"markers\",\"name\":\"4.0\",\"orientation\":\"v\",\"showlegend\":true,\"x\":[-0.204543687370283,-0.262529160327253,-0.200587056956182,-0.162749796405113,-0.197728660185494,-0.215766407012253,-0.203126405121684,-0.0592874308118195,0.0381800944931317,0.0175357550467786,-0.003150489718441,-0.0178728542820741,0.0478042027024209,0.051437442273689,0.022025955286076,0.0268523076839479,0.0075726120600857,0.0044177806361773,0.0058117385273362,0.0040748475887269,0.0170945677387079],\"xaxis\":\"x\",\"y\":[-0.0209446860465192,-0.0853450566370223,-0.0788598330383415,-0.0402045022209767,-0.0719420932505508,-0.0583217844575288,-0.0347712122078114,0.0186386442549164,0.0550661504664183,0.0432908812360348,0.0093414844416633,0.0276428347156574,0.0597920295969727,0.0723577295772102,0.0600249738482379,0.064339892407217,0.0578267562891454,0.0463469798881638,0.0487822659249394,0.0383972773676579,0.033981610041492],\"yaxis\":\"y\",\"type\":\"scatter\"},{\"hovertemplate\":\"idx=5.0<br>coef1=%{x}<br>coef2=%{y}<extra></extra>\",\"legendgroup\":\"5.0\",\"marker\":{\"color\":\"#19d3f3\",\"symbol\":\"circle\"},\"mode\":\"markers\",\"name\":\"5.0\",\"orientation\":\"v\",\"showlegend\":true,\"x\":[-0.290715002685057,-0.36123021662994,-0.300297775828125,-0.247900908268512,-0.280020747817572,-0.30621120369417,-0.294037822973872,-0.139391475959138,-0.0463512401954975,-0.0634288084861294,-0.0845170479433476,-0.0946427219554567,-0.0373102701883545,-0.0328345633485081,-0.063941076186772,-0.063680748586406,-0.0806984460341494,-0.0830510577772735,-0.0884127672675891,-0.0919839395263998,-0.0829201113803659],\"xaxis\":\"x\",\"y\":[0.0848778720428535,0.0249049085024075,0.0448354616161176,0.0941260168703518,0.0741243571332608,0.0872969474871066,0.106299499916825,0.167199449956507,0.203426863963877,0.192321156943707,0.163495114256456,0.182610647240933,0.215976103937833,0.232922805220966,0.221477344288193,0.223454667354157,0.220725619696766,0.206684615346853,0.217498132650822,0.22186252174729,0.220870364715037],\"yaxis\":\"y\",\"type\":\"scatter\"},{\"hovertemplate\":\"idx=6.0<br>coef1=%{x}<br>coef2=%{y}<extra></extra>\",\"legendgroup\":\"6.0\",\"marker\":{\"color\":\"#FF6692\",\"symbol\":\"circle\"},\"mode\":\"markers\",\"name\":\"6.0\",\"orientation\":\"v\",\"showlegend\":true,\"x\":[-0.474699663419324,-0.492392806555339,-0.45224809218319,-0.461875685692047,-0.486423595883822,-0.510203279705067,-0.542495983883043,-0.438341857696607,-0.354981761094655,-0.362822139803302,-0.38857127824754,-0.412070506863268,-0.35426457692701,-0.357128847934022,-0.404434297706549,-0.411403274507944,-0.459716596556865,-0.466377460156204,-0.486708785975621,-0.513931268630717,-0.513130139356104],\"xaxis\":\"x\",\"y\":[-0.237213459976707,-0.288031565241825,-0.27320734537876,-0.260288814928072,-0.284600692496324,-0.29521587003281,-0.292041946662212,-0.27693829538294,-0.270064839722606,-0.274971874818245,-0.302154133843316,-0.302613087473573,-0.279245682160504,-0.282696648345995,-0.313747241463419,-0.330060176228038,-0.361919968777983,-0.371720361902824,-0.392102710197375,-0.413106184711936,-0.424096040110073],\"yaxis\":\"y\",\"type\":\"scatter\"},{\"hovertemplate\":\"idx=7.0<br>coef1=%{x}<br>coef2=%{y}<extra></extra>\",\"legendgroup\":\"7.0\",\"marker\":{\"color\":\"#B6E880\",\"symbol\":\"circle\"},\"mode\":\"markers\",\"name\":\"7.0\",\"orientation\":\"v\",\"showlegend\":true,\"x\":[0.127830266424229,0.0694608853407225,0.149996453244158,0.257828721201739,0.205245568480111,0.164286032537538,0.228499396284692,0.508192251857503,0.722589494963948,0.636424960102739,0.649992629281836,0.646911725253949,0.748832882104228,0.770555832164958,0.757079132612254,0.771686734012627,0.798582699884482,0.79604665736375,0.855421819134956,0.86744471361408,0.878438977704047],\"xaxis\":\"x\",\"y\":[-0.181417934277893,-0.226671236938427,-0.248915215690987,-0.197137233499413,-0.240422631351193,-0.228204474551475,-0.188522944265934,-0.116115022118194,-0.0367433099328929,-0.0707848613419456,-0.11531680067171,-0.0937166559856997,-0.0514488787638735,-0.0398434784788884,-0.0516442060677673,-0.043636755318711,-0.0550862080217696,-0.0672325591073089,-0.0779591634728423,-0.0869173972363933,-0.0863739130855041],\"yaxis\":\"y\",\"type\":\"scatter\"},{\"hovertemplate\":\"idx=8.0<br>coef1=%{x}<br>coef2=%{y}<extra></extra>\",\"legendgroup\":\"8.0\",\"marker\":{\"color\":\"#FF97FF\",\"symbol\":\"circle\"},\"mode\":\"markers\",\"name\":\"8.0\",\"orientation\":\"v\",\"showlegend\":true,\"x\":[-0.251533968931357,-0.313601065916986,-0.256095744033527,-0.211368235402401,-0.244056046009866,-0.268342592446653,-0.258767427375187,-0.119279026144095,-0.0214756913894042,-0.0282262816899558,-0.0464169519673859,-0.0679780016492569,-0.0137152386545593,-0.0009422805167851,-0.0194277306401933,-0.0236755690036661,-0.0426403519899825,-0.0355997399121246,-0.0291006853201755,-0.0268212631791289,-0.0183392512696654],\"xaxis\":\"x\",\"y\":[0.0083306017884424,-0.052659124225133,-0.0360754988430334,0.0039138539355254,-0.0228071115962165,-0.0059043652306188,0.0120757232903164,0.0702266846795873,0.105315902814854,0.0986366942444212,0.0659137157581132,0.0831766052040832,0.112494399846652,0.122700075098828,0.110419543487939,0.113212010040539,0.10753784798503,0.102616870217544,0.106036627756784,0.100890335095056,0.0912437965870266],\"yaxis\":\"y\",\"type\":\"scatter\"},{\"hovertemplate\":\"idx=9.0<br>coef1=%{x}<br>coef2=%{y}<extra></extra>\",\"legendgroup\":\"9.0\",\"marker\":{\"color\":\"#FECB52\",\"symbol\":\"circle\"},\"mode\":\"markers\",\"name\":\"9.0\",\"orientation\":\"v\",\"showlegend\":true,\"x\":[-0.359891404336342,-0.513963323947287,-0.402299887651059,-0.291517150160281,-0.359919618258661,-0.383961687592385,-0.353281295883448,-0.128250629737971,-0.0245720627924044,-0.0462304437176282,-0.082845203971647,-0.0840604551561864,-0.0310924536580294,-0.0191030973507456,-0.042005756847859,-0.0461790586367522,-0.0588550598233418,-0.062236724030346,-0.0678589127418044,-0.0731343360627708,-0.083529310477706],\"xaxis\":\"x\",\"y\":[0.577165928640547,0.454228388130779,0.499199654364625,0.597109524484825,0.56038698517086,0.586704418829957,0.622736014693325,0.790749644672595,0.861675261828912,0.821413818386631,0.791578604530101,0.846239744139946,0.889620259204946,0.920969745633922,0.92736398938412,0.928042142207464,0.960300039379549,0.950869405373102,1.00104802030458,1.01354003859288,1.00774776712004],\"yaxis\":\"y\",\"type\":\"scatter\"},{\"hovertemplate\":\"idx=10.0<br>coef1=%{x}<br>coef2=%{y}<extra></extra>\",\"legendgroup\":\"10.0\",\"marker\":{\"color\":\"#636efa\",\"symbol\":\"circle\"},\"mode\":\"markers\",\"name\":\"10.0\",\"orientation\":\"v\",\"showlegend\":true,\"x\":[-0.139629392209536,-0.193378458432076,-0.142614004725946,-0.0990182591550886,-0.124129073327986,-0.145739882423781,-0.129231369481438,0.0215381129066795,0.11591537606925,0.097565892359778,0.0794932638498303,0.0808846160505309,0.145545356592332,0.154853395938136,0.133669002524614,0.13214491732764,0.121855925886937,0.121506478240744,0.135503781762048,0.144031816351418,0.150999613048858],\"xaxis\":\"x\",\"y\":[-0.0706935410938208,-0.12209049497223,-0.119149783943192,-0.0846401090059262,-0.116833638852904,-0.1024630498275,-0.0796672927122737,-0.0347744859023415,-0.0028122163231447,-0.0072473842698215,-0.0479447192798419,-0.0297541231366576,-0.001189556698398,0.0001630998343683,-0.0118139788301175,-0.0243127518901794,-0.040213948260933,-0.0522839313294901,-0.0588770249582431,-0.0677790601088697,-0.0751482103475952],\"yaxis\":\"y\",\"type\":\"scatter\"},{\"hovertemplate\":\"idx=11.0<br>coef1=%{x}<br>coef2=%{y}<extra></extra>\",\"legendgroup\":\"11.0\",\"marker\":{\"color\":\"#EF553B\",\"symbol\":\"circle\"},\"mode\":\"markers\",\"name\":\"11.0\",\"orientation\":\"v\",\"showlegend\":true,\"x\":[-0.22983651804525,-0.297035586832385,-0.230231613233707,-0.182604312043605,-0.221809733152835,-0.247635297827835,-0.235142351523673,-0.084159209472056,0.003180614990944,-0.0116244611580853,-0.042888369597665,-0.060783964017049,-0.0130318034247713,-0.0052352696495985,-0.024866053816438,-0.0181474885710469,-0.0368448890856645,-0.0386653457404778,-0.0345500819682359,-0.0376318070845444,-0.0333930518425607],\"xaxis\":\"x\",\"y\":[0.0509675308310019,-0.0074036590915626,0.0016685377950711,0.0490511565918171,0.0277046251424953,0.044120552829925,0.0661771660349152,0.126047607761914,0.167427098295466,0.158421283195514,0.127163310792656,0.138645487572607,0.176774722731338,0.184049526547118,0.17394689942375,0.183050784213254,0.184483984344239,0.185349318964498,0.199709365126711,0.20022370838481,0.204407421062264],\"yaxis\":\"y\",\"type\":\"scatter\"},{\"hovertemplate\":\"idx=12.0<br>coef1=%{x}<br>coef2=%{y}<extra></extra>\",\"legendgroup\":\"12.0\",\"marker\":{\"color\":\"#00cc96\",\"symbol\":\"circle\"},\"mode\":\"markers\",\"name\":\"12.0\",\"orientation\":\"v\",\"showlegend\":true,\"x\":[-0.132917750141268,-0.0741330043331192,-0.0787658032875987,-0.111060657162438,-0.106853027614695,-0.11835932955641,-0.131546383604958,-0.0844822504438768,-0.0067240255292441,-0.0230712295677242,-0.0349282448254102,-0.0474158841752712,-0.0049265680083968,0.0110001109064979,-0.0099642983813217,-0.010006915312386,-0.0149306667387111,-0.0109325638267534,-0.0122058327436084,-0.0069380967046173,-0.0099961589942019],\"xaxis\":\"x\",\"y\":[-0.738386074568384,-0.727954041571018,-0.764071726773358,-0.760905553176977,-0.773871500689643,-0.766849800909411,-0.775363477308778,-0.823680862503115,-0.835862545614855,-0.817029239948909,-0.857510777983905,-0.856008249713961,-0.847145413342582,-0.84652163662365,-0.866838409700615,-0.875648942947398,-0.92030201536677,-0.924234183137522,-0.973974253578368,-0.994278626411832,-1.00200803067301],\"yaxis\":\"y\",\"type\":\"scatter\"},{\"hovertemplate\":\"idx=13.0<br>coef1=%{x}<br>coef2=%{y}<extra></extra>\",\"legendgroup\":\"13.0\",\"marker\":{\"color\":\"#ab63fa\",\"symbol\":\"circle\"},\"mode\":\"markers\",\"name\":\"13.0\",\"orientation\":\"v\",\"showlegend\":true,\"x\":[-0.350755389139966,-0.458450586063891,-0.366805589683015,-0.329281304693073,-0.383912420186473,-0.41984022193521,-0.423317549036074,-0.242060012902267,-0.142562038060645,-0.157976060707839,-0.200870911649793,-0.233906869439962,-0.145076001516363,-0.160313864186023,-0.214508960289405,-0.212579008330177,-0.248831989387686,-0.257090349924104,-0.255016525612075,-0.276472448207586,-0.265094406409953],\"xaxis\":\"x\",\"y\":[0.242682280445287,0.135135495009129,0.172532763311213,0.223239367035577,0.184318073977863,0.185310180506375,0.206689461983544,0.287297454844561,0.335129915505733,0.326122627885568,0.287262904452773,0.286469923788322,0.326946096497417,0.320810670141079,0.290992244490219,0.297640327552197,0.29361471953272,0.270497160804668,0.287025033757767,0.281500106300117,0.288909188194204],\"yaxis\":\"y\",\"type\":\"scatter\"},{\"hovertemplate\":\"idx=14.0<br>coef1=%{x}<br>coef2=%{y}<extra></extra>\",\"legendgroup\":\"14.0\",\"marker\":{\"color\":\"#FFA15A\",\"symbol\":\"circle\"},\"mode\":\"markers\",\"name\":\"14.0\",\"orientation\":\"v\",\"showlegend\":true,\"x\":[-0.0580448917678614,-0.11264050372621,-0.0495621588467766,-0.0072909914250106,-0.0459378194894142,-0.0834670901838093,-0.0767302614100518,0.0909954168702917,0.2217536462793,0.199482423373001,0.187285643950359,0.158388219386721,0.230225516547768,0.223501753785895,0.188239175821666,0.197517705134301,0.184084444730055,0.184330563434473,0.207640487771166,0.207102519895945,0.219737702328493],\"xaxis\":\"x\",\"y\":[-0.0940646812219415,-0.139922785623604,-0.133042021438897,-0.0973419869936957,-0.130550444664117,-0.122729427362797,-0.10344033397474,-0.0478809257530186,0.0072617569832126,-5.50833962163766e-05,-0.0317857432679542,-0.0244881651284428,0.0191756963247533,0.0236749029947145,0.0009921806356118,0.0118085995136249,-0.0043627329587743,-0.0159363842230128,-0.0009109781706986,0.0039886128433863,0.0055771248848379],\"yaxis\":\"y\",\"type\":\"scatter\"},{\"hovertemplate\":\"idx=15.0<br>coef1=%{x}<br>coef2=%{y}<extra></extra>\",\"legendgroup\":\"15.0\",\"marker\":{\"color\":\"#19d3f3\",\"symbol\":\"circle\"},\"mode\":\"markers\",\"name\":\"15.0\",\"orientation\":\"v\",\"showlegend\":true,\"x\":[0.11014452083086,-0.008303525847454,0.0889947327739496,0.125544402779823,0.0946876050147588,0.0488227888556796,0.0726627929433942,0.251013885807039,0.35808475061203,0.353836435491358,0.311026054567254,0.302463013039001,0.407461548550571,0.410624208397712,0.362099386003577,0.347610302280222,0.315488659974367,0.292613522405087,0.306006197989987,0.290249371316886,0.296743634181782],\"xaxis\":\"x\",\"y\":[-0.0686106020302421,-0.166552008667788,-0.173180188424828,-0.105687168363203,-0.141371287272096,-0.132211156160769,-0.10408081644742,-0.0273141305915357,0.0210976308159611,0.0245187508409849,-0.017815227402542,-0.0152198778619712,0.0389688006300297,0.036754656396698,0.0035028878713608,-0.0103963904306825,-0.0360957801037525,-0.0556861666873048,-0.0599310127489105,-0.0870275189556839,-0.0989624451307132],\"yaxis\":\"y\",\"type\":\"scatter\"},{\"hovertemplate\":\"idx=16.0<br>coef1=%{x}<br>coef2=%{y}<extra></extra>\",\"legendgroup\":\"16.0\",\"marker\":{\"color\":\"#FF6692\",\"symbol\":\"circle\"},\"mode\":\"markers\",\"name\":\"16.0\",\"orientation\":\"v\",\"showlegend\":true,\"x\":[-0.797130334411056,-0.830177674801931,-0.771002129743379,-0.78368161122418,-0.821899399100483,-0.841662496367863,-0.876491042457925,-0.801476524179466,-0.750384100183341,-0.753194127577055,-0.784187922593521,-0.821355706157557,-0.789130705405961,-0.790280909808818,-0.823232998714901,-0.826384518366178,-0.884885804358508,-0.879448899743451,-0.931675600569865,-0.94320323345756,-0.939339421357617],\"xaxis\":\"x\",\"y\":[0.0036238349097484,-0.0398848145534626,-0.0103939800023535,0.0196748436154255,0.0041097909182865,0.0103296516049613,0.0223958179967693,0.0298321979138781,0.0150456806003725,0.0093750095866889,-0.0092710423344602,0.0099380244970379,0.0111388068847284,0.0207748837238312,0.0207014521295842,0.0298773070941822,0.0330288204296472,0.0298496401943337,0.0232801676286447,0.0308165515821391,0.03407558535001],\"yaxis\":\"y\",\"type\":\"scatter\"},{\"hovertemplate\":\"idx=17.0<br>coef1=%{x}<br>coef2=%{y}<extra></extra>\",\"legendgroup\":\"17.0\",\"marker\":{\"color\":\"#B6E880\",\"symbol\":\"circle\"},\"mode\":\"markers\",\"name\":\"17.0\",\"orientation\":\"v\",\"showlegend\":true,\"x\":[-0.136077007317837,-0.177496310702613,-0.131166715201499,-0.0888870340068535,-0.115065443488175,-0.142382728861041,-0.12934322084724,0.0012458183770427,0.0934970637505148,0.0845400954767412,0.0670488641815334,0.0551762133772742,0.110841046641978,0.121779728487705,0.113959933910964,0.125449332146616,0.117512158463725,0.12114382571269,0.132559876896413,0.138484620260944,0.147161230278317],\"xaxis\":\"x\",\"y\":[-0.1062580709492,-0.159515964161614,-0.160824943546956,-0.134057954510579,-0.162824234843823,-0.150644493003303,-0.140960975127645,-0.101158363632271,-0.0770277675557355,-0.0835751033563519,-0.125139727911612,-0.11156456854722,-0.0877921258637432,-0.0854303603491573,-0.0938676651159338,-0.0955722283154202,-0.110108423482348,-0.11416708392449,-0.123702966859137,-0.132413549623208,-0.133838497261468],\"yaxis\":\"y\",\"type\":\"scatter\"},{\"hovertemplate\":\"idx=18.0<br>coef1=%{x}<br>coef2=%{y}<extra></extra>\",\"legendgroup\":\"18.0\",\"marker\":{\"color\":\"#FF97FF\",\"symbol\":\"circle\"},\"mode\":\"markers\",\"name\":\"18.0\",\"orientation\":\"v\",\"showlegend\":true,\"x\":[-0.222965417374141,-0.25174173220075,-0.204405094528471,-0.17342094309768,-0.201406553261084,-0.221416593985429,-0.217296325630524,-0.100445787933276,-0.0180992783931625,-0.0348193336548597,-0.0603783490281571,-0.0786585890064765,-0.0185195937712761,-0.0218525559533056,-0.0446449112539858,-0.0392570697807882,-0.0537772567031058,-0.0618215975836141,-0.0583047894009115,-0.0686996728228571,-0.0552229768036468],\"xaxis\":\"x\",\"y\":[-0.145765474429985,-0.188224218479968,-0.183449364635449,-0.157312889415747,-0.182482963064622,-0.168658049738412,-0.161962660911839,-0.125758422279183,-0.11017833294334,-0.115460991038452,-0.146938302379895,-0.138833665681488,-0.112910635070261,-0.113845739266616,-0.127648001358026,-0.129096771675843,-0.153191031762214,-0.163850713079481,-0.181111904902656,-0.199342940101684,-0.194725558169279],\"yaxis\":\"y\",\"type\":\"scatter\"},{\"hovertemplate\":\"idx=19.0<br>coef1=%{x}<br>coef2=%{y}<extra></extra>\",\"legendgroup\":\"19.0\",\"marker\":{\"color\":\"#FECB52\",\"symbol\":\"circle\"},\"mode\":\"markers\",\"name\":\"19.0\",\"orientation\":\"v\",\"showlegend\":true,\"x\":[-0.294929695186862,-0.359757002784187,-0.291824173233754,-0.249908466170573,-0.292880557862622,-0.308499842714417,-0.305896666138568,-0.180812660710458,-0.106728878606823,-0.116898943283683,-0.144090104506979,-0.160959268400234,-0.10849599570312,-0.119215514050459,-0.146070258975039,-0.154611776958612,-0.176372675961028,-0.180767197680696,-0.185127055820711,-0.197104221301994,-0.192533712484419],\"xaxis\":\"x\",\"y\":[0.0430855275466089,-0.0153133081882034,-0.0034745691320107,0.0288666013496348,0.0074773159025283,0.0243676876369729,0.0414528326187564,0.0861481480825685,0.108392720955079,0.103973194243296,0.0788359357482777,0.0941948240618103,0.121792014785213,0.120301519581481,0.117062315710726,0.113204250942122,0.106092078173215,0.0963487153032999,0.103862506980185,0.101274809643621,0.101525823267233],\"yaxis\":\"y\",\"type\":\"scatter\"}],                        {\"template\":{\"data\":{\"bar\":[{\"error_x\":{\"color\":\"#2a3f5f\"},\"error_y\":{\"color\":\"#2a3f5f\"},\"marker\":{\"line\":{\"color\":\"#E5ECF6\",\"width\":0.5},\"pattern\":{\"fillmode\":\"overlay\",\"size\":10,\"solidity\":0.2}},\"type\":\"bar\"}],\"barpolar\":[{\"marker\":{\"line\":{\"color\":\"#E5ECF6\",\"width\":0.5},\"pattern\":{\"fillmode\":\"overlay\",\"size\":10,\"solidity\":0.2}},\"type\":\"barpolar\"}],\"carpet\":[{\"aaxis\":{\"endlinecolor\":\"#2a3f5f\",\"gridcolor\":\"white\",\"linecolor\":\"white\",\"minorgridcolor\":\"white\",\"startlinecolor\":\"#2a3f5f\"},\"baxis\":{\"endlinecolor\":\"#2a3f5f\",\"gridcolor\":\"white\",\"linecolor\":\"white\",\"minorgridcolor\":\"white\",\"startlinecolor\":\"#2a3f5f\"},\"type\":\"carpet\"}],\"choropleth\":[{\"colorbar\":{\"outlinewidth\":0,\"ticks\":\"\"},\"type\":\"choropleth\"}],\"contour\":[{\"colorbar\":{\"outlinewidth\":0,\"ticks\":\"\"},\"colorscale\":[[0.0,\"#0d0887\"],[0.1111111111111111,\"#46039f\"],[0.2222222222222222,\"#7201a8\"],[0.3333333333333333,\"#9c179e\"],[0.4444444444444444,\"#bd3786\"],[0.5555555555555556,\"#d8576b\"],[0.6666666666666666,\"#ed7953\"],[0.7777777777777778,\"#fb9f3a\"],[0.8888888888888888,\"#fdca26\"],[1.0,\"#f0f921\"]],\"type\":\"contour\"}],\"contourcarpet\":[{\"colorbar\":{\"outlinewidth\":0,\"ticks\":\"\"},\"type\":\"contourcarpet\"}],\"heatmap\":[{\"colorbar\":{\"outlinewidth\":0,\"ticks\":\"\"},\"colorscale\":[[0.0,\"#0d0887\"],[0.1111111111111111,\"#46039f\"],[0.2222222222222222,\"#7201a8\"],[0.3333333333333333,\"#9c179e\"],[0.4444444444444444,\"#bd3786\"],[0.5555555555555556,\"#d8576b\"],[0.6666666666666666,\"#ed7953\"],[0.7777777777777778,\"#fb9f3a\"],[0.8888888888888888,\"#fdca26\"],[1.0,\"#f0f921\"]],\"type\":\"heatmap\"}],\"heatmapgl\":[{\"colorbar\":{\"outlinewidth\":0,\"ticks\":\"\"},\"colorscale\":[[0.0,\"#0d0887\"],[0.1111111111111111,\"#46039f\"],[0.2222222222222222,\"#7201a8\"],[0.3333333333333333,\"#9c179e\"],[0.4444444444444444,\"#bd3786\"],[0.5555555555555556,\"#d8576b\"],[0.6666666666666666,\"#ed7953\"],[0.7777777777777778,\"#fb9f3a\"],[0.8888888888888888,\"#fdca26\"],[1.0,\"#f0f921\"]],\"type\":\"heatmapgl\"}],\"histogram\":[{\"marker\":{\"pattern\":{\"fillmode\":\"overlay\",\"size\":10,\"solidity\":0.2}},\"type\":\"histogram\"}],\"histogram2d\":[{\"colorbar\":{\"outlinewidth\":0,\"ticks\":\"\"},\"colorscale\":[[0.0,\"#0d0887\"],[0.1111111111111111,\"#46039f\"],[0.2222222222222222,\"#7201a8\"],[0.3333333333333333,\"#9c179e\"],[0.4444444444444444,\"#bd3786\"],[0.5555555555555556,\"#d8576b\"],[0.6666666666666666,\"#ed7953\"],[0.7777777777777778,\"#fb9f3a\"],[0.8888888888888888,\"#fdca26\"],[1.0,\"#f0f921\"]],\"type\":\"histogram2d\"}],\"histogram2dcontour\":[{\"colorbar\":{\"outlinewidth\":0,\"ticks\":\"\"},\"colorscale\":[[0.0,\"#0d0887\"],[0.1111111111111111,\"#46039f\"],[0.2222222222222222,\"#7201a8\"],[0.3333333333333333,\"#9c179e\"],[0.4444444444444444,\"#bd3786\"],[0.5555555555555556,\"#d8576b\"],[0.6666666666666666,\"#ed7953\"],[0.7777777777777778,\"#fb9f3a\"],[0.8888888888888888,\"#fdca26\"],[1.0,\"#f0f921\"]],\"type\":\"histogram2dcontour\"}],\"mesh3d\":[{\"colorbar\":{\"outlinewidth\":0,\"ticks\":\"\"},\"type\":\"mesh3d\"}],\"parcoords\":[{\"line\":{\"colorbar\":{\"outlinewidth\":0,\"ticks\":\"\"}},\"type\":\"parcoords\"}],\"pie\":[{\"automargin\":true,\"type\":\"pie\"}],\"scatter\":[{\"marker\":{\"colorbar\":{\"outlinewidth\":0,\"ticks\":\"\"}},\"type\":\"scatter\"}],\"scatter3d\":[{\"line\":{\"colorbar\":{\"outlinewidth\":0,\"ticks\":\"\"}},\"marker\":{\"colorbar\":{\"outlinewidth\":0,\"ticks\":\"\"}},\"type\":\"scatter3d\"}],\"scattercarpet\":[{\"marker\":{\"colorbar\":{\"outlinewidth\":0,\"ticks\":\"\"}},\"type\":\"scattercarpet\"}],\"scattergeo\":[{\"marker\":{\"colorbar\":{\"outlinewidth\":0,\"ticks\":\"\"}},\"type\":\"scattergeo\"}],\"scattergl\":[{\"marker\":{\"colorbar\":{\"outlinewidth\":0,\"ticks\":\"\"}},\"type\":\"scattergl\"}],\"scattermapbox\":[{\"marker\":{\"colorbar\":{\"outlinewidth\":0,\"ticks\":\"\"}},\"type\":\"scattermapbox\"}],\"scatterpolar\":[{\"marker\":{\"colorbar\":{\"outlinewidth\":0,\"ticks\":\"\"}},\"type\":\"scatterpolar\"}],\"scatterpolargl\":[{\"marker\":{\"colorbar\":{\"outlinewidth\":0,\"ticks\":\"\"}},\"type\":\"scatterpolargl\"}],\"scatterternary\":[{\"marker\":{\"colorbar\":{\"outlinewidth\":0,\"ticks\":\"\"}},\"type\":\"scatterternary\"}],\"surface\":[{\"colorbar\":{\"outlinewidth\":0,\"ticks\":\"\"},\"colorscale\":[[0.0,\"#0d0887\"],[0.1111111111111111,\"#46039f\"],[0.2222222222222222,\"#7201a8\"],[0.3333333333333333,\"#9c179e\"],[0.4444444444444444,\"#bd3786\"],[0.5555555555555556,\"#d8576b\"],[0.6666666666666666,\"#ed7953\"],[0.7777777777777778,\"#fb9f3a\"],[0.8888888888888888,\"#fdca26\"],[1.0,\"#f0f921\"]],\"type\":\"surface\"}],\"table\":[{\"cells\":{\"fill\":{\"color\":\"#EBF0F8\"},\"line\":{\"color\":\"white\"}},\"header\":{\"fill\":{\"color\":\"#C8D4E3\"},\"line\":{\"color\":\"white\"}},\"type\":\"table\"}]},\"layout\":{\"annotationdefaults\":{\"arrowcolor\":\"#2a3f5f\",\"arrowhead\":0,\"arrowwidth\":1},\"autotypenumbers\":\"strict\",\"coloraxis\":{\"colorbar\":{\"outlinewidth\":0,\"ticks\":\"\"}},\"colorscale\":{\"diverging\":[[0,\"#8e0152\"],[0.1,\"#c51b7d\"],[0.2,\"#de77ae\"],[0.3,\"#f1b6da\"],[0.4,\"#fde0ef\"],[0.5,\"#f7f7f7\"],[0.6,\"#e6f5d0\"],[0.7,\"#b8e186\"],[0.8,\"#7fbc41\"],[0.9,\"#4d9221\"],[1,\"#276419\"]],\"sequential\":[[0.0,\"#0d0887\"],[0.1111111111111111,\"#46039f\"],[0.2222222222222222,\"#7201a8\"],[0.3333333333333333,\"#9c179e\"],[0.4444444444444444,\"#bd3786\"],[0.5555555555555556,\"#d8576b\"],[0.6666666666666666,\"#ed7953\"],[0.7777777777777778,\"#fb9f3a\"],[0.8888888888888888,\"#fdca26\"],[1.0,\"#f0f921\"]],\"sequentialminus\":[[0.0,\"#0d0887\"],[0.1111111111111111,\"#46039f\"],[0.2222222222222222,\"#7201a8\"],[0.3333333333333333,\"#9c179e\"],[0.4444444444444444,\"#bd3786\"],[0.5555555555555556,\"#d8576b\"],[0.6666666666666666,\"#ed7953\"],[0.7777777777777778,\"#fb9f3a\"],[0.8888888888888888,\"#fdca26\"],[1.0,\"#f0f921\"]]},\"colorway\":[\"#636efa\",\"#EF553B\",\"#00cc96\",\"#ab63fa\",\"#FFA15A\",\"#19d3f3\",\"#FF6692\",\"#B6E880\",\"#FF97FF\",\"#FECB52\"],\"font\":{\"color\":\"#2a3f5f\"},\"geo\":{\"bgcolor\":\"white\",\"lakecolor\":\"white\",\"landcolor\":\"#E5ECF6\",\"showlakes\":true,\"showland\":true,\"subunitcolor\":\"white\"},\"hoverlabel\":{\"align\":\"left\"},\"hovermode\":\"closest\",\"mapbox\":{\"style\":\"light\"},\"paper_bgcolor\":\"white\",\"plot_bgcolor\":\"#E5ECF6\",\"polar\":{\"angularaxis\":{\"gridcolor\":\"white\",\"linecolor\":\"white\",\"ticks\":\"\"},\"bgcolor\":\"#E5ECF6\",\"radialaxis\":{\"gridcolor\":\"white\",\"linecolor\":\"white\",\"ticks\":\"\"}},\"scene\":{\"xaxis\":{\"backgroundcolor\":\"#E5ECF6\",\"gridcolor\":\"white\",\"gridwidth\":2,\"linecolor\":\"white\",\"showbackground\":true,\"ticks\":\"\",\"zerolinecolor\":\"white\"},\"yaxis\":{\"backgroundcolor\":\"#E5ECF6\",\"gridcolor\":\"white\",\"gridwidth\":2,\"linecolor\":\"white\",\"showbackground\":true,\"ticks\":\"\",\"zerolinecolor\":\"white\"},\"zaxis\":{\"backgroundcolor\":\"#E5ECF6\",\"gridcolor\":\"white\",\"gridwidth\":2,\"linecolor\":\"white\",\"showbackground\":true,\"ticks\":\"\",\"zerolinecolor\":\"white\"}},\"shapedefaults\":{\"line\":{\"color\":\"#2a3f5f\"}},\"ternary\":{\"aaxis\":{\"gridcolor\":\"white\",\"linecolor\":\"white\",\"ticks\":\"\"},\"baxis\":{\"gridcolor\":\"white\",\"linecolor\":\"white\",\"ticks\":\"\"},\"bgcolor\":\"#E5ECF6\",\"caxis\":{\"gridcolor\":\"white\",\"linecolor\":\"white\",\"ticks\":\"\"}},\"title\":{\"x\":0.05},\"xaxis\":{\"automargin\":true,\"gridcolor\":\"white\",\"linecolor\":\"white\",\"ticks\":\"\",\"title\":{\"standoff\":15},\"zerolinecolor\":\"white\",\"zerolinewidth\":2},\"yaxis\":{\"automargin\":true,\"gridcolor\":\"white\",\"linecolor\":\"white\",\"ticks\":\"\",\"title\":{\"standoff\":15},\"zerolinecolor\":\"white\",\"zerolinewidth\":2}}},\"xaxis\":{\"anchor\":\"y\",\"domain\":[0.0,1.0],\"title\":{\"text\":\"coef1\"}},\"yaxis\":{\"anchor\":\"x\",\"domain\":[0.0,1.0],\"title\":{\"text\":\"coef2\"}},\"legend\":{\"title\":{\"text\":\"idx\"},\"tracegroupgap\":0},\"margin\":{\"t\":60}},                        {\"responsive\": true}                    ).then(function(){\n",
       "                            \n",
       "var gd = document.getElementById('fc03fd65-7c04-4499-811f-6a7f975ece8b');\n",
       "var x = new MutationObserver(function (mutations, observer) {{\n",
       "        var display = window.getComputedStyle(gd).display;\n",
       "        if (!display || display === 'none') {{\n",
       "            console.log([gd, 'removed!']);\n",
       "            Plotly.purge(gd);\n",
       "            observer.disconnect();\n",
       "        }}\n",
       "}});\n",
       "\n",
       "// Listen for the removal of the full notebook cells\n",
       "var notebookContainer = gd.closest('#notebook-container');\n",
       "if (notebookContainer) {{\n",
       "    x.observe(notebookContainer, {childList: true});\n",
       "}}\n",
       "\n",
       "// Listen for the clearing of the current output cell\n",
       "var outputEl = gd.closest('.output');\n",
       "if (outputEl) {{\n",
       "    x.observe(outputEl, {childList: true});\n",
       "}}\n",
       "\n",
       "                        })                };                });            </script>        </div>"
      ]
     },
     "metadata": {},
     "output_type": "display_data"
    }
   ],
   "source": [
    "\n",
    "for target in [tempz, tempz_proc, tempz_proc2_oblim]:\n",
    "\n",
    "\n",
    "\n",
    "    for i in range(20):\n",
    "        #for idx, each in enumerate(tempz):\n",
    "        for idx, each in enumerate(target):\n",
    "        #for idx, each in enumerate(tempz_proc2_oblim):\n",
    "            if idx == 0 and i == 0:\n",
    "                temparray = np.array([int(i), *each[i]])\n",
    "            else:\n",
    "                temparray = np.vstack([temparray, [i, *each[i]]])\n",
    "\n",
    "    temp_df = pd.DataFrame(temparray, columns=[\"idx\", \"coef1\", \"coef2\"])\n",
    "\n",
    "\n",
    "    #df.astype({'col1': 'int32'}).dtypes\n",
    "\n",
    "    temp_df = temp_df.astype({\"idx\":\"str\"})\n",
    "\n",
    "    import plotly.express as px\n",
    "    fig = px.scatter(temp_df, x=\"coef1\", y=\"coef2\", color=\"idx\")\n",
    "    fig.show()"
   ]
  }
 ],
 "metadata": {
  "kernelspec": {
   "display_name": "Python 3 (ipykernel)",
   "language": "python",
   "name": "python3"
  },
  "language_info": {
   "codemirror_mode": {
    "name": "ipython",
    "version": 3
   },
   "file_extension": ".py",
   "mimetype": "text/x-python",
   "name": "python",
   "nbconvert_exporter": "python",
   "pygments_lexer": "ipython3",
   "version": "3.9.7"
  }
 },
 "nbformat": 4,
 "nbformat_minor": 5
}
